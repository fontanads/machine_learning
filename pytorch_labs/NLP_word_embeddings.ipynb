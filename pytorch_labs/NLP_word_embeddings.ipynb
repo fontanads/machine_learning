{
 "cells": [
  {
   "cell_type": "markdown",
   "metadata": {},
   "source": [
    "# Creating NLP Word Embeddings with PyTorch"
   ]
  },
  {
   "cell_type": "code",
   "execution_count": 1,
   "metadata": {},
   "outputs": [],
   "source": [
    "# https://stackoverflow.com/questions/50747947/embedding-in-pytorch\n",
    "# https://pytorch.org/tutorials/beginner/nlp/word_embeddings_tutorial.html"
   ]
  },
  {
   "cell_type": "code",
   "execution_count": 2,
   "metadata": {},
   "outputs": [],
   "source": [
    "import sys\n",
    "sys.path.append(\"..\") # Adds higher directory to python modules path.\n",
    "\n",
    "from IPython.display import clear_output\n",
    "import time"
   ]
  },
  {
   "cell_type": "code",
   "execution_count": 3,
   "metadata": {},
   "outputs": [],
   "source": [
    "import numpy as np\n",
    "from sklearn.metrics.pairwise import pairwise_distances"
   ]
  },
  {
   "cell_type": "code",
   "execution_count": 4,
   "metadata": {},
   "outputs": [],
   "source": [
    "import torch\n",
    "import torch.nn as nn\n",
    "import torch.nn.functional as F\n",
    "import torch.optim as optim"
   ]
  },
  {
   "cell_type": "code",
   "execution_count": 5,
   "metadata": {},
   "outputs": [],
   "source": [
    "#!pip install wikipedia\n",
    "import wikipedia"
   ]
  },
  {
   "cell_type": "code",
   "execution_count": 6,
   "metadata": {},
   "outputs": [],
   "source": [
    "%matplotlib inline\n",
    "import matplotlib.pyplot as plt\n",
    "\n",
    "import mpld3\n",
    "mpld3.enable_notebook()\n",
    "#!pip install --user \"git+https://github.com/javadba/mpld3@display_fix\""
   ]
  },
  {
   "cell_type": "markdown",
   "metadata": {},
   "source": [
    "## Load and Preprocess Corpus"
   ]
  },
  {
   "cell_type": "code",
   "execution_count": null,
   "metadata": {},
   "outputs": [],
   "source": []
  },
  {
   "cell_type": "markdown",
   "metadata": {},
   "source": [
    "# Training the Embeddings with Language Model"
   ]
  },
  {
   "cell_type": "markdown",
   "metadata": {},
   "source": [
    "## Continuous Bag-of-Words (CBOW)"
   ]
  },
  {
   "cell_type": "markdown",
   "metadata": {},
   "source": [
    "context vs target"
   ]
  },
  {
   "cell_type": "code",
   "execution_count": 22,
   "metadata": {},
   "outputs": [
    {
     "name": "stdout",
     "output_type": "stream",
     "text": [
      "tensor([   1,   40,  315,  715,    4, 1912,   23,    5,  193,    3,   38, 1037,\n",
      "        1913, 1914,   44,  164,   15,    4,   40,  716,  177, 1382,  337,    9,\n",
      "         194, 1383,   35,  860,   44,  246,    9,   38,   69,  104,  178,    3,\n",
      "          40,  268,  177,   40, 1915,   10,  620,    2,    0,    0,    0,    0,\n",
      "           0,    0,    0,    0,    0,    0,    0,    0,    0,    0,    0,    0,\n",
      "           0,    0,    0,    0,    0,    0,    0,    0,    0,    0,    0,    0,\n",
      "           0,    0,    0,    0,    0,    0,    0,    0,    0,    0,    0,    0,\n",
      "           0,    0,    0,    0,    0,    0,    0,    0,    0,    0,    0,    0,\n",
      "           0,    0,    0,    0,    0,    0])\n"
     ]
    }
   ],
   "source": [
    "print(c)"
   ]
  },
  {
   "cell_type": "code",
   "execution_count": 24,
   "metadata": {},
   "outputs": [
    {
     "name": "stdout",
     "output_type": "stream",
     "text": [
      " Left context: [], Middle word: 40, right context [315, 715, 4, 1912]\n",
      " Full context: [315, 715, 4, 1912]\n",
      " Words in context of ['rainha']: ['antigo', 'ray', 'a', 'reynna']\n",
      "\n",
      " Left context: [40], Middle word: 315, right context [715, 4, 1912]\n",
      " Full context: [40, 715, 4, 1912]\n",
      " Words in context of ['antigo']: ['rainha', 'ray', 'a', 'reynna']\n",
      "\n",
      " Left context: [40, 315], Middle word: 715, right context [4, 1912]\n",
      " Full context: [40, 315, 4, 1912]\n",
      " Words in context of ['ray']: ['rainha', 'antigo', 'a', 'reynna']\n",
      "\n",
      " Left context: [315, 715], Middle word: 4, right context [1912, 23]\n",
      " Full context: [315, 715, 1912, 23]\n",
      " Words in context of ['a']: ['antigo', 'ray', 'reynna', 'é']\n",
      "\n",
      " Left context: [40, 268], Middle word: 177, right context [40, 1915]\n",
      " Full context: [40, 268, 40, 1915]\n",
      " Words in context of ['exemplo']: ['rainha', 'consorte', 'rainha', 'silvia']\n",
      "\n",
      " Left context: [268, 177], Middle word: 40, right context [1915, 10]\n",
      " Full context: [268, 177, 1915, 10]\n",
      " Words in context of ['rainha']: ['consorte', 'exemplo', 'silvia', 'da']\n",
      "\n",
      " Left context: [177, 40], Middle word: 1915, right context [10, 620]\n",
      " Full context: [177, 40, 10, 620]\n",
      " Words in context of ['silvia']: ['exemplo', 'rainha', 'da', 'suécia']\n",
      "\n",
      " Left context: [177, 40, 1915], Middle word: 10, right context [620]\n",
      " Full context: [177, 40, 1915, 620]\n",
      " Words in context of ['da']: ['exemplo', 'rainha', 'silvia', 'suécia']\n",
      "\n",
      " Left context: [177, 40, 1915, 10], Middle word: 620, right context []\n",
      " Full context: [177, 40, 1915, 10]\n",
      " Words in context of ['suécia']: ['exemplo', 'rainha', 'silvia', 'da']\n",
      "\n"
     ]
    }
   ],
   "source": [
    "context_size = 2\n",
    "end_position = (c==2).nonzero().item()\n",
    "\n",
    "samples_to_print = np.concatenate((np.arange(1,5),np.arange(end_position-5,end_position)),axis=0)\n",
    "for pos in samples_to_print: # range(1,end_position):\n",
    "    \n",
    "    middle_word   = c[pos]\n",
    "    \n",
    "    '''if middle_word==wiki_crawler.word2idx['<END>']:\n",
    "        break'''\n",
    "    \n",
    "    left_start = max(pos-context_size,1)\n",
    "    right_end  = min(pos+1+context_size,end_position)\n",
    "    \n",
    "    \n",
    "    if pos - left_start < context_size:                # first words position\n",
    "        right_end += context_size-(pos-left_start)     # --> increse right_context size\n",
    "    elif right_end-(pos+1) < context_size:             # last words position\n",
    "        left_start -= context_size-(right_end-(pos+1)) # --> increase left_context size\n",
    "            \n",
    "    left_context  = c[left_start:pos]\n",
    "    right_context = c[pos+1:right_end]\n",
    "    \n",
    "    context       = torch.cat((left_context,right_context),dim=0)\n",
    "    \n",
    "    print(f' Left context: {left_context.tolist()}, Middle word: {middle_word.tolist()}, right context {right_context.tolist()}')\n",
    "    print(f' Full context: {context.tolist()}')\n",
    "    \n",
    "    context_decoded     = wiki_crawler.decode_one_sentence(context.tolist())\n",
    "    middle_word_decoded = wiki_crawler.decode_one_sentence([middle_word.tolist()])\n",
    "    print(f' Words in context of {middle_word_decoded}: {context_decoded}')\n",
    "    print('')"
   ]
  },
  {
   "cell_type": "code",
   "execution_count": 25,
   "metadata": {},
   "outputs": [],
   "source": [
    "def get_context(coded_sentence, context_size):\n",
    "    \n",
    "    end_position = (c==2).nonzero().item()\n",
    "    target_context = []\n",
    "    for pos in range(1,end_position):\n",
    "        middle_word   = coded_sentence[pos]\n",
    "\n",
    "        left_start = max(pos-context_size,1)\n",
    "        right_end  = min(pos+1+context_size,end_position)\n",
    "\n",
    "        if pos - left_start < context_size:                # first words position\n",
    "            right_end += context_size-(pos-left_start)     # --> increse right_context size\n",
    "        elif right_end-(pos+1) < context_size:             # last words position\n",
    "            left_start -= context_size-(right_end-(pos+1)) # --> increase left_context size\n",
    "\n",
    "        left_context  = c[left_start:pos]\n",
    "        right_context = c[pos+1:right_end]\n",
    "        \n",
    "        context       = torch.cat((left_context,right_context),dim=0)\n",
    "        \n",
    "        target_context.append((middle_word.view((-1)),context))\n",
    "    return target_context"
   ]
  },
  {
   "cell_type": "code",
   "execution_count": 26,
   "metadata": {},
   "outputs": [],
   "source": [
    "def average_context_ohe(context):\n",
    "    \n",
    "    avg_context = np.zeros((V,len(context)))\n",
    "    avg_context[context, range(len(context))] = 1\n",
    "    avg_context = np.mean(avg_context,axis=1,keepdims=True)\n",
    "    #np.where(avg_context), context\n",
    "    \n",
    "    return torch.FloatTensor(avg_context.T)"
   ]
  },
  {
   "cell_type": "code",
   "execution_count": 27,
   "metadata": {},
   "outputs": [],
   "source": [
    "class Language_Model_w2v(nn.Module):\n",
    "    \n",
    "    def __init__(self, vocab_size, num_of_dimensions_of_embedding, context_size):\n",
    "        super(Language_Model_w2v, self).__init__()\n",
    "        self.V  = vocab_size\n",
    "        self.N  = num_of_dimensions_of_embedding \n",
    "        self.cs = context_size\n",
    "        \n",
    "        self.W1  =  nn.Linear(self.V, self.N)\n",
    "        '''\n",
    "        self.W1 = nn.Linear(2*self.cs*self.N,128)\n",
    "        self.W2 = nn.Linear(128, self.V)\n",
    "        '''\n",
    "        # self.layers = nn.Sequential(*[self.e, self.W1, self.W2,self.LogSoftMax])\n",
    "        \n",
    "        self.Winv = nn.Linear(self.N, self.V)\n",
    "        self.LogSoftMax = nn.LogSoftmax(dim=1)\n",
    "        \n",
    "    def forward(self,x):               # x is 2*cs x 1\n",
    "        x = self.W1(x)\n",
    "        x = self.Winv(x)\n",
    "        x = self.LogSoftMax(x)\n",
    "        \n",
    "        return x\n",
    "        ''' \n",
    "        x = self.e(x).view((1,-1))     # e(x) 2*cs x N\n",
    "        x = self.W1(x)\n",
    "        x = F.relu(x)\n",
    "        x = self.W2(x)\n",
    "        log_probs = self.LogSoftMax(x)\n",
    "        return log_probs\n",
    "        '''"
   ]
  },
  {
   "cell_type": "code",
   "execution_count": 28,
   "metadata": {},
   "outputs": [],
   "source": [
    "max_epochs = 5\n",
    "print_iters = 50\n",
    "cs = 3\n",
    "Nd = 50\n",
    "losses    = []\n",
    "criterion = nn.NLLLoss()\n",
    "model     = Language_Model_w2v(V, num_of_dimensions_of_embedding=Nd, context_size=cs)\n",
    "optimizer = optim.Adam(model.parameters(), lr=1e-3) # optim.SGD(model.parameters(),lr=1e-3) # "
   ]
  },
  {
   "cell_type": "code",
   "execution_count": 29,
   "metadata": {},
   "outputs": [
    {
     "data": {
      "text/plain": [
       "Language_Model_w2v(\n",
       "  (W1): Linear(in_features=2003, out_features=50, bias=True)\n",
       "  (Winv): Linear(in_features=50, out_features=2003, bias=True)\n",
       "  (LogSoftMax): LogSoftmax()\n",
       ")"
      ]
     },
     "execution_count": 29,
     "metadata": {},
     "output_type": "execute_result"
    }
   ],
   "source": [
    "model"
   ]
  },
  {
   "cell_type": "code",
   "execution_count": 30,
   "metadata": {},
   "outputs": [],
   "source": [
    "for epoch in range(max_epochs):\n",
    "    \n",
    "    cnt = 0\n",
    "    total_loss = 0\n",
    "    \n",
    "    coded_sentences = coded_sentences[:,np.random.permutation(S)]\n",
    "    \n",
    "    for n in range(S):\n",
    "        \n",
    "        # Step 1. Prepare the inputs to be passed to the model (i.e, turn the words into integer indices and wrap them in tensors)\n",
    "        c = coded_sentences[:,n]\n",
    "        \n",
    "        pos_cnt = 0\n",
    "        for target, context in get_context(c, cs):\n",
    "            pos_cnt += 1\n",
    "            if len(context)<2*cs:\n",
    "                continue\n",
    "            \n",
    "            # Step 2. Recall that torch *accumulates* gradients. \n",
    "            # Before passing in a new instance, you need to zero out the gradients from the oldinstance\n",
    "            model.zero_grad()\n",
    "            \n",
    "            # Step 3. Run the forward pass, getting log probabilities over next words\n",
    "            log_probs = model(average_context_ohe(context))  \n",
    "            \n",
    "            # Step 4. Compute your loss function. \n",
    "            # (Again, Torch wants the target word wrapped in a tensor)\n",
    "            loss = criterion(log_probs, target)\n",
    "\n",
    "            # Step 5. Do the backward pass and update the gradient\n",
    "            loss.backward()\n",
    "            optimizer.step()\n",
    "\n",
    "            # Get the Python number from a 1-element Tensor by calling tensor.item()\n",
    "            total_loss += loss.item()\n",
    "            \n",
    "        cnt+=1\n",
    "        if n%print_iters==1:\n",
    "            print(f'epoch {epoch} sentence {n}/{S} loss: {total_loss:.5f}')\n",
    "    print(f'loss: {total_loss:.6f}')\n",
    "    losses.append(total_loss)\n",
    "    \n",
    "    time.sleep(1.5)\n",
    "    clear_output()\n",
    "#print(losses)  # The loss decreased every iteration over the training data!"
   ]
  },
  {
   "cell_type": "code",
   "execution_count": 31,
   "metadata": {},
   "outputs": [
    {
     "data": {
      "text/plain": [
       "24"
      ]
     },
     "execution_count": 31,
     "metadata": {},
     "output_type": "execute_result"
    }
   ],
   "source": [
    "pos_cnt"
   ]
  },
  {
   "cell_type": "raw",
   "metadata": {},
   "source": [
    "log_probs.shape"
   ]
  },
  {
   "cell_type": "raw",
   "metadata": {},
   "source": [
    "log_probs.data"
   ]
  },
  {
   "cell_type": "raw",
   "metadata": {},
   "source": [
    "for group in model.parameters():\n",
    "    print(group.grad)"
   ]
  },
  {
   "cell_type": "code",
   "execution_count": 32,
   "metadata": {},
   "outputs": [
    {
     "data": {
      "text/plain": [
       "[214547.6391415596,\n",
       " 205302.89374177344,\n",
       " 196471.93149525323,\n",
       " 183790.8839714229,\n",
       " 173963.17807273776]"
      ]
     },
     "execution_count": 32,
     "metadata": {},
     "output_type": "execute_result"
    }
   ],
   "source": [
    "losses"
   ]
  },
  {
   "cell_type": "code",
   "execution_count": 33,
   "metadata": {},
   "outputs": [
    {
     "data": {
      "image/png": "[encoded data removed]",
      "text/html": [
       "\n",
       "\n",
       "<style>\n",
       "\n",
       "</style>\n",
       "\n",
       "<div id=\"fig_el2038825193985092567604194752\"></div>\n",
       "<script>\n",
       "function mpld3_load_lib(url, callback){\n",
       "  var s = document.createElement('script');\n",
       "  s.src = url;\n",
       "  s.async = true;\n",
       "  s.onreadystatechange = s.onload = callback;\n",
       "  s.onerror = function(){console.warn(\"failed to load library \" + url);};\n",
       "  document.getElementsByTagName(\"head\")[0].appendChild(s);\n",
       "}\n",
       "\n",
       "if(typeof(mpld3) !== \"undefined\" && mpld3._mpld3IsLoaded){\n",
       "   // already loaded: just create the figure\n",
       "   !function(mpld3){\n",
       "       \n",
       "       mpld3.draw_figure(\"fig_el2038825193985092567604194752\", {\"width\": 864.0, \"height\": 288.0, \"axes\": [{\"bbox\": [0.125, 0.125, 0.775, 0.755], \"xlim\": [-0.2, 4.2], \"ylim\": [171933.95501929667, 216576.8621950007], \"xdomain\": [-0.2, 4.2], \"ydomain\": [171933.95501929667, 216576.8621950007], \"xscale\": \"linear\", \"yscale\": \"linear\", \"axes\": [{\"position\": \"bottom\", \"nticks\": 11, \"tickvalues\": null, \"tickformat\": null, \"scale\": \"linear\", \"fontsize\": 10.0, \"grid\": {\"gridOn\": false}, \"visible\": true}, {\"position\": \"left\", \"nticks\": 11, \"tickvalues\": null, \"tickformat\": null, \"scale\": \"linear\", \"fontsize\": 10.0, \"grid\": {\"gridOn\": false}, \"visible\": true}], \"axesbg\": \"#FFFFFF\", \"axesbgalpha\": null, \"zoomable\": true, \"id\": \"el203882519398508248\", \"lines\": [{\"data\": \"data01\", \"xindex\": 0, \"yindex\": 1, \"coordinates\": \"data\", \"id\": \"el203882519401428752\", \"color\": \"#1F77B4\", \"linewidth\": 1.5, \"dasharray\": \"none\", \"alpha\": 1, \"zorder\": 2, \"drawstyle\": \"default\"}], \"paths\": [], \"markers\": [], \"texts\": [], \"collections\": [], \"images\": [], \"sharex\": [], \"sharey\": []}], \"data\": {\"data01\": [[0.0, 214547.6391415596], [1.0, 205302.89374177344], [2.0, 196471.93149525323], [3.0, 183790.8839714229], [4.0, 173963.17807273776]]}, \"id\": \"el203882519398509256\", \"plugins\": [{\"type\": \"reset\"}, {\"type\": \"zoom\", \"button\": true, \"enabled\": false}, {\"type\": \"boxzoom\", \"button\": true, \"enabled\": false}]});\n",
       "   }(mpld3);\n",
       "}else if(typeof define === \"function\" && define.amd){\n",
       "   // require.js is available: use it to load d3/mpld3\n",
       "   require.config({paths: {d3: \"https://mpld3.github.io/js/d3.v3.min\"}});\n",
       "   require([\"d3\"], function(d3){\n",
       "      window.d3 = d3;\n",
       "      mpld3_load_lib(\"https://mpld3.github.io/js/mpld3.v0.3.1.dev1.js\", function(){\n",
       "         \n",
       "         mpld3.draw_figure(\"fig_el2038825193985092567604194752\", {\"width\": 864.0, \"height\": 288.0, \"axes\": [{\"bbox\": [0.125, 0.125, 0.775, 0.755], \"xlim\": [-0.2, 4.2], \"ylim\": [171933.95501929667, 216576.8621950007], \"xdomain\": [-0.2, 4.2], \"ydomain\": [171933.95501929667, 216576.8621950007], \"xscale\": \"linear\", \"yscale\": \"linear\", \"axes\": [{\"position\": \"bottom\", \"nticks\": 11, \"tickvalues\": null, \"tickformat\": null, \"scale\": \"linear\", \"fontsize\": 10.0, \"grid\": {\"gridOn\": false}, \"visible\": true}, {\"position\": \"left\", \"nticks\": 11, \"tickvalues\": null, \"tickformat\": null, \"scale\": \"linear\", \"fontsize\": 10.0, \"grid\": {\"gridOn\": false}, \"visible\": true}], \"axesbg\": \"#FFFFFF\", \"axesbgalpha\": null, \"zoomable\": true, \"id\": \"el203882519398508248\", \"lines\": [{\"data\": \"data01\", \"xindex\": 0, \"yindex\": 1, \"coordinates\": \"data\", \"id\": \"el203882519401428752\", \"color\": \"#1F77B4\", \"linewidth\": 1.5, \"dasharray\": \"none\", \"alpha\": 1, \"zorder\": 2, \"drawstyle\": \"default\"}], \"paths\": [], \"markers\": [], \"texts\": [], \"collections\": [], \"images\": [], \"sharex\": [], \"sharey\": []}], \"data\": {\"data01\": [[0.0, 214547.6391415596], [1.0, 205302.89374177344], [2.0, 196471.93149525323], [3.0, 183790.8839714229], [4.0, 173963.17807273776]]}, \"id\": \"el203882519398509256\", \"plugins\": [{\"type\": \"reset\"}, {\"type\": \"zoom\", \"button\": true, \"enabled\": false}, {\"type\": \"boxzoom\", \"button\": true, \"enabled\": false}]});\n",
       "      });\n",
       "    });\n",
       "}else{\n",
       "    // require.js not available: dynamically load d3 & mpld3\n",
       "    mpld3_load_lib(\"https://mpld3.github.io/js/d3.v3.min.js\", function(){\n",
       "         mpld3_load_lib(\"https://mpld3.github.io/js/mpld3.v0.3.1.dev1.js\", function(){\n",
       "                 \n",
       "                 mpld3.draw_figure(\"fig_el2038825193985092567604194752\", {\"width\": 864.0, \"height\": 288.0, \"axes\": [{\"bbox\": [0.125, 0.125, 0.775, 0.755], \"xlim\": [-0.2, 4.2], \"ylim\": [171933.95501929667, 216576.8621950007], \"xdomain\": [-0.2, 4.2], \"ydomain\": [171933.95501929667, 216576.8621950007], \"xscale\": \"linear\", \"yscale\": \"linear\", \"axes\": [{\"position\": \"bottom\", \"nticks\": 11, \"tickvalues\": null, \"tickformat\": null, \"scale\": \"linear\", \"fontsize\": 10.0, \"grid\": {\"gridOn\": false}, \"visible\": true}, {\"position\": \"left\", \"nticks\": 11, \"tickvalues\": null, \"tickformat\": null, \"scale\": \"linear\", \"fontsize\": 10.0, \"grid\": {\"gridOn\": false}, \"visible\": true}], \"axesbg\": \"#FFFFFF\", \"axesbgalpha\": null, \"zoomable\": true, \"id\": \"el203882519398508248\", \"lines\": [{\"data\": \"data01\", \"xindex\": 0, \"yindex\": 1, \"coordinates\": \"data\", \"id\": \"el203882519401428752\", \"color\": \"#1F77B4\", \"linewidth\": 1.5, \"dasharray\": \"none\", \"alpha\": 1, \"zorder\": 2, \"drawstyle\": \"default\"}], \"paths\": [], \"markers\": [], \"texts\": [], \"collections\": [], \"images\": [], \"sharex\": [], \"sharey\": []}], \"data\": {\"data01\": [[0.0, 214547.6391415596], [1.0, 205302.89374177344], [2.0, 196471.93149525323], [3.0, 183790.8839714229], [4.0, 173963.17807273776]]}, \"id\": \"el203882519398509256\", \"plugins\": [{\"type\": \"reset\"}, {\"type\": \"zoom\", \"button\": true, \"enabled\": false}, {\"type\": \"boxzoom\", \"button\": true, \"enabled\": false}]});\n",
       "            })\n",
       "         });\n",
       "}\n",
       "</script>"
      ],
      "text/plain": [
       "<Figure size 864x288 with 1 Axes>"
      ]
     },
     "metadata": {
      "needs_background": "light"
     },
     "output_type": "display_data"
    }
   ],
   "source": [
    "plt.figure(figsize=(12,4))\n",
    "\n",
    "plt.plot(losses)\n",
    "plt.show()"
   ]
  },
  {
   "cell_type": "code",
   "execution_count": 34,
   "metadata": {},
   "outputs": [
    {
     "name": "stdout",
     "output_type": "stream",
     "text": [
      "W1.weight torch.Size([50, 2003])\n",
      "W1.bias torch.Size([50])\n",
      "Winv.weight torch.Size([2003, 50])\n",
      "Winv.bias torch.Size([2003])\n"
     ]
    }
   ],
   "source": [
    "for name, param in model.named_parameters():\n",
    "    if param.requires_grad:\n",
    "        print(name, param.shape) # param.data"
   ]
  },
  {
   "cell_type": "code",
   "execution_count": 35,
   "metadata": {},
   "outputs": [
    {
     "data": {
      "text/plain": [
       "(torch.Size([2003, 50]),\n",
       " tensor([[-0.0945, -0.0795,  0.1063,  ...,  0.2807,  0.2459,  0.4310],\n",
       "         [ 0.9508,  0.8786, -0.4062,  ...,  0.0645,  0.0141, -0.9514],\n",
       "         [ 1.0052,  0.6529,  0.4714,  ..., -0.4338,  0.1653, -0.9840],\n",
       "         ...,\n",
       "         [-0.0330, -0.1582, -0.1398,  ..., -0.0497,  0.3821,  0.0040],\n",
       "         [-0.0673, -0.0117,  0.1728,  ...,  0.1069,  0.1696, -0.1179],\n",
       "         [-0.0441, -0.0479,  0.3877,  ...,  0.1611,  0.2028,  0.1006]]))"
      ]
     },
     "execution_count": 35,
     "metadata": {},
     "output_type": "execute_result"
    }
   ],
   "source": [
    "Embedding = model.W1.weight.data.T\n",
    "Embedding.shape, Embedding"
   ]
  },
  {
   "cell_type": "code",
   "execution_count": 36,
   "metadata": {},
   "outputs": [],
   "source": [
    "def word_analogy(pos_neg_1=('king','man'),pos_neg_2=('queen','woman'), n_closest = 4):\n",
    "    king_w,    man_w = pos_neg_1\n",
    "    queen_w, woman_w = pos_neg_2\n",
    "    \n",
    "    for w in (king_w,man_w,woman_w):\n",
    "        if w not in wiki_crawler.word2idx:\n",
    "            raise Exception(f'sorry, word \"{w}\" not in dictionary.')\n",
    "    \n",
    "    print(f'Expected: {king_w} - {man_w} = {queen_w} - {woman_w}')\n",
    "    \n",
    "    king   = wiki_crawler.word2idx[king_w]\n",
    "    man    = wiki_crawler.word2idx[man_w]\n",
    "    woman  = wiki_crawler.word2idx[woman_w]\n",
    "    \n",
    "    vec = (Embedding[king] - Embedding[man] + Embedding[woman]).view(1,-1) # Embedding[queen]\n",
    "    distances = pairwise_distances(vec.reshape(1, -1), Embedding, metric='cosine').reshape(V)\n",
    "    \n",
    "    idx = distances.argsort()[:n_closest+3] \n",
    "    idx = [x for x in idx if x not in set([man,king,woman])]\n",
    "    queen_estimated = wiki_crawler.idx2word[idx[0]]\n",
    "    \n",
    "    print(f'Got:      {king_w} - {man_w} = {queen_estimated} - {woman_w}')\n",
    "    \n",
    "    print(f'Closest {len(idx)} words:')\n",
    "    for i in idx:\n",
    "        print(f'{wiki_crawler.idx2word[i]}')"
   ]
  },
  {
   "cell_type": "code",
   "execution_count": 37,
   "metadata": {},
   "outputs": [
    {
     "name": "stdout",
     "output_type": "stream",
     "text": [
      "Expected: rei - homem = rainha - mulher\n",
      "Got:      rei - homem = morcego - mulher\n",
      "Closest 5 words:\n",
      "morcego\n",
      "marca\n",
      "formada\n",
      "ferro\n",
      "formiga\n"
     ]
    }
   ],
   "source": [
    "word_analogy(pos_neg_1=('rei','homem'),pos_neg_2=('rainha','mulher'), n_closest = 4)"
   ]
  },
  {
   "cell_type": "code",
   "execution_count": 38,
   "metadata": {},
   "outputs": [
    {
     "ename": "Exception",
     "evalue": "sorry, word \"princesa\" not in dictionary.",
     "output_type": "error",
     "traceback": [
      "\u001b[1;31m---------------------------------------------------------------------------\u001b[0m",
      "\u001b[1;31mException\u001b[0m                                 Traceback (most recent call last)",
      "\u001b[1;32m<ipython-input-38-6f48c92b53b1>\u001b[0m in \u001b[0;36m<module>\u001b[1;34m\u001b[0m\n\u001b[1;32m----> 1\u001b[1;33m \u001b[0mword_analogy\u001b[0m\u001b[1;33m(\u001b[0m\u001b[0mpos_neg_1\u001b[0m\u001b[1;33m=\u001b[0m\u001b[1;33m(\u001b[0m\u001b[1;34m'rei'\u001b[0m\u001b[1;33m,\u001b[0m\u001b[1;34m'príncipe'\u001b[0m\u001b[1;33m)\u001b[0m\u001b[1;33m,\u001b[0m\u001b[0mpos_neg_2\u001b[0m\u001b[1;33m=\u001b[0m\u001b[1;33m(\u001b[0m\u001b[1;34m'rainha'\u001b[0m\u001b[1;33m,\u001b[0m\u001b[1;34m'princesa'\u001b[0m\u001b[1;33m)\u001b[0m\u001b[1;33m,\u001b[0m \u001b[0mn_closest\u001b[0m \u001b[1;33m=\u001b[0m \u001b[1;36m4\u001b[0m\u001b[1;33m)\u001b[0m\u001b[1;33m\u001b[0m\u001b[1;33m\u001b[0m\u001b[0m\n\u001b[0m",
      "\u001b[1;32m<ipython-input-36-8f69832f423a>\u001b[0m in \u001b[0;36mword_analogy\u001b[1;34m(pos_neg_1, pos_neg_2, n_closest)\u001b[0m\n\u001b[0;32m      5\u001b[0m     \u001b[1;32mfor\u001b[0m \u001b[0mw\u001b[0m \u001b[1;32min\u001b[0m \u001b[1;33m(\u001b[0m\u001b[0mking_w\u001b[0m\u001b[1;33m,\u001b[0m\u001b[0mman_w\u001b[0m\u001b[1;33m,\u001b[0m\u001b[0mwoman_w\u001b[0m\u001b[1;33m)\u001b[0m\u001b[1;33m:\u001b[0m\u001b[1;33m\u001b[0m\u001b[1;33m\u001b[0m\u001b[0m\n\u001b[0;32m      6\u001b[0m         \u001b[1;32mif\u001b[0m \u001b[0mw\u001b[0m \u001b[1;32mnot\u001b[0m \u001b[1;32min\u001b[0m \u001b[0mwiki_crawler\u001b[0m\u001b[1;33m.\u001b[0m\u001b[0mword2idx\u001b[0m\u001b[1;33m:\u001b[0m\u001b[1;33m\u001b[0m\u001b[1;33m\u001b[0m\u001b[0m\n\u001b[1;32m----> 7\u001b[1;33m             \u001b[1;32mraise\u001b[0m \u001b[0mException\u001b[0m\u001b[1;33m(\u001b[0m\u001b[1;34mf'sorry, word \"{w}\" not in dictionary.'\u001b[0m\u001b[1;33m)\u001b[0m\u001b[1;33m\u001b[0m\u001b[1;33m\u001b[0m\u001b[0m\n\u001b[0m\u001b[0;32m      8\u001b[0m \u001b[1;33m\u001b[0m\u001b[0m\n\u001b[0;32m      9\u001b[0m     \u001b[0mprint\u001b[0m\u001b[1;33m(\u001b[0m\u001b[1;34mf'Expected: {king_w} - {man_w} = {queen_w} - {woman_w}'\u001b[0m\u001b[1;33m)\u001b[0m\u001b[1;33m\u001b[0m\u001b[1;33m\u001b[0m\u001b[0m\n",
      "\u001b[1;31mException\u001b[0m: sorry, word \"princesa\" not in dictionary."
     ]
    }
   ],
   "source": [
    "word_analogy(pos_neg_1=('rei','príncipe'),pos_neg_2=('rainha','princesa'), n_closest = 4)"
   ]
  },
  {
   "cell_type": "code",
   "execution_count": null,
   "metadata": {},
   "outputs": [],
   "source": [
    "word_analogy(pos_neg_1=('homem','mulher'),pos_neg_2=('ele','ela'), n_closest = 4)"
   ]
  },
  {
   "cell_type": "code",
   "execution_count": null,
   "metadata": {},
   "outputs": [],
   "source": [
    "word_analogy(pos_neg_1=('homem','mulher'),pos_neg_2=('marido','esposa'), n_closest = 4)"
   ]
  },
  {
   "cell_type": "code",
   "execution_count": null,
   "metadata": {},
   "outputs": [],
   "source": [
    "word_analogy(pos_neg_1=('brasil','brasileiro'),pos_neg_2=('japão','japonês'), n_closest = 4)"
   ]
  },
  {
   "cell_type": "raw",
   "metadata": {},
   "source": [
    "def get_negative_sampling_distribution(coded_sentences, V):\n",
    "    # Pn(w) = prob of word occuring\n",
    "    # we would like to sample the negative samples such that \n",
    "    # words that occur more often should be sampled more often\n",
    "    \n",
    "    freq  = np.zeros(V)                 # vector with V positions\n",
    "    for c in coded_sentences:\n",
    "        for w in c:\n",
    "            freq[w] += 1          # it is assumed that each word is actually its OHE index\n",
    "\n",
    "    f_neg = freq**0.75     # smoothing\n",
    "    pmf_neg = f_neg / f_neg.sum() # normalized pmf\n",
    "    \n",
    "    assert(np.all(pmf_neg > 0)) # check that only positive probabilities were drawn\n",
    "    \n",
    "    return pmf_neg\n",
    "\n",
    "# distribution for drawing negative samples\n",
    "pmf_neg = get_negative_sampling_distribution(wiki_crawler.coded_sentences, V) \n",
    "\n",
    "# for subsampling each sentence\n",
    "threshold = 1e-5 # 1 em 100.000\n",
    "p_drop = 1 - np.sqrt(threshold / pmf_neg)  # prob. de ignorar uma palavra :: aumenta conforme a frequência dessa palavra"
   ]
  },
  {
   "cell_type": "code",
   "execution_count": null,
   "metadata": {},
   "outputs": [],
   "source": []
  },
  {
   "cell_type": "code",
   "execution_count": null,
   "metadata": {},
   "outputs": [],
   "source": []
  }
 ],
 "metadata": {
  "kernelspec": {
   "display_name": "Python 3",
   "language": "python",
   "name": "python3"
  },
  "language_info": {
   "codemirror_mode": {
    "name": "ipython",
    "version": 3
   },
   "file_extension": ".py",
   "mimetype": "text/x-python",
   "name": "python",
   "nbconvert_exporter": "python",
   "pygments_lexer": "ipython3",
   "version": "3.7.3"
  }
 },
 "nbformat": 4,
 "nbformat_minor": 4
}
