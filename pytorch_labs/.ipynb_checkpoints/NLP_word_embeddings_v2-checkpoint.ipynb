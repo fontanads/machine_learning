{
 "cells": [
  {
   "cell_type": "markdown",
   "metadata": {},
   "source": [
    "# Creating NLP Word Embeddings with PyTorch"
   ]
  },
  {
   "cell_type": "code",
   "execution_count": 1,
   "metadata": {},
   "outputs": [],
   "source": [
    "# https://stackoverflow.com/questions/50747947/embedding-in-pytorch\n",
    "# https://pytorch.org/tutorials/beginner/nlp/word_embeddings_tutorial.html"
   ]
  },
  {
   "cell_type": "code",
   "execution_count": 2,
   "metadata": {},
   "outputs": [],
   "source": [
    "import sys\n",
    "sys.path.append(\"..\") # Adds higher directory to python modules path.\n",
    "\n",
    "from IPython.display import clear_output\n",
    "import time"
   ]
  },
  {
   "cell_type": "code",
   "execution_count": 3,
   "metadata": {},
   "outputs": [],
   "source": [
    "import numpy as np\n",
    "from sklearn.metrics.pairwise import pairwise_distances"
   ]
  },
  {
   "cell_type": "code",
   "execution_count": 4,
   "metadata": {},
   "outputs": [],
   "source": [
    "import torch\n",
    "import torch.nn as nn\n",
    "import torch.nn.functional as F\n",
    "import torch.optim as optim"
   ]
  },
  {
   "cell_type": "code",
   "execution_count": 5,
   "metadata": {},
   "outputs": [],
   "source": [
    "#import mpld3\n",
    "#mpld3.enable_notebook()\n",
    "#!pip install --user \"git+https://github.com/javadba/mpld3@display_fix\""
   ]
  },
  {
   "cell_type": "code",
   "execution_count": 6,
   "metadata": {},
   "outputs": [],
   "source": [
    "%matplotlib inline\n",
    "import matplotlib.pyplot as plt"
   ]
  },
  {
   "cell_type": "code",
   "execution_count": 7,
   "metadata": {},
   "outputs": [],
   "source": [
    "import nltk\n",
    "from nltk.corpus import gutenberg\n",
    "import re\n",
    "from collections import Counter # collections library; counter: dict subclass for counting hashable objects\n",
    "\n",
    "from nltk.corpus import stopwords \n",
    "stop_words = set(stopwords.words('english')) "
   ]
  },
  {
   "cell_type": "code",
   "execution_count": 8,
   "metadata": {},
   "outputs": [],
   "source": [
    "from nlp_labs.utils2 import my_sentence_tokenizer, get_all_tokens, encode_sentence"
   ]
  },
  {
   "cell_type": "markdown",
   "metadata": {},
   "source": [
    "## Load and Preprocess Corpus"
   ]
  },
  {
   "cell_type": "code",
   "execution_count": 9,
   "metadata": {},
   "outputs": [],
   "source": [
    "tag_start = '<s>'\n",
    "tag_end = '</s>'\n",
    "tag_oov = '<unk>'\n",
    "tag_pad = '<pad>'\n",
    "\n",
    "tags = dict({'tag_start':tag_start, 'tag_end':tag_end,'tag_oov':tag_oov, 'tag_pad':tag_pad})\n",
    "\n",
    "use_tags = True"
   ]
  },
  {
   "cell_type": "code",
   "execution_count": 10,
   "metadata": {},
   "outputs": [
    {
     "name": "stdout",
     "output_type": "stream",
     "text": [
      "<class 'nltk.corpus.reader.util.StreamBackedCorpusView'> 37360\n",
      "<class 'str'> 166764\n",
      "After cleaning:  21543 tokens, first 100  ['tragedie', 'hamlet', 'william', 'shakespeare', 'actus', 'primus', '.', 'scoena', 'prima', '.', 'enter', 'barnardo', 'francisco', 'two', 'centinels', '.', 'barnardo', '.', '.', 'fran', '.', 'nay', 'answer', 'stand', 'vnfold', 'selfe', 'bar', '.', 'long', 'liue', 'king', 'fran', '.', 'barnardo', '.', 'bar', '.', 'fran', '.', 'come', 'carefully', 'vpon', 'houre', 'bar', '.', 'tis', 'strook', 'twelue', '.', 'get', 'thee', 'bed', 'francisco', 'fran', '.', 'releefe', 'much', 'thankes', 'tis', 'bitter', 'cold', '.', 'sicke', 'heart', 'barn', '.', 'haue', 'quiet', 'guard', '.', 'fran', '.', 'mouse', 'stirring', 'barn', '.', 'well', '.', 'goodnight', '.', 'meet', 'horatio', 'marcellus', '.', 'riuals', 'watch', '.', 'bid', 'make', 'hast', '.', 'enter', 'horatio', 'marcellus', '.', 'fran', '.', 'thinke', 'heare', '.']\n",
      "[('.', 5672), ('ham', 337), ('lord', 211), ('haue', 178), ('king', 172), ('thou', 107), ('shall', 107), ('come', 104), ('let', 104), ('hamlet', 100)]\n",
      "count :  4590\n",
      "[(0, '.'), (1, 'abhominably'), (2, 'abhorred'), (3, 'abilitie'), (4, 'aboord'), (5, 'aboue'), (6, 'abridgements'), (7, 'abroad'), (8, 'absent'), (9, 'absolute')]\n",
      "155\n",
      "21543\n"
     ]
    }
   ],
   "source": [
    "corpus = gutenberg.words('shakespeare-hamlet.txt') \n",
    "# 'bible-kjv.txt' 'melville-moby_dick.txt' 'shakespeare-hamlet.txt' 'shakespeare-caesar.txt',\n",
    "print(type(corpus),len(corpus))\n",
    "corpus_str = ' '.join(corpus)\n",
    "\n",
    "#with open(\"./data/wiki_sample_corpusdataorg.txt\", \"rb\") as f: # wiki_sample_corpusdataorg.txt shakespeare.txt\n",
    "#    txt = f.readlines()\n",
    "#corpus_str = ''.join([s.decode('utf-8') for s in txt])\n",
    "\n",
    "\n",
    "print(type(corpus_str),len(corpus_str))\n",
    "corpus_str = re.sub(r'[,!?;-]+', '.', corpus_str) # clean punctuation\n",
    "\n",
    "doc = my_sentence_tokenizer(corpus_str,tag_start,tag_end,tag=use_tags,stopwords=stop_words)\n",
    "tokens = get_all_tokens(doc)\n",
    "\n",
    "n_print = 100\n",
    "print(f'After cleaning:  {len(tokens)} tokens, first {n_print}  {tokens[:n_print]}')\n",
    "\n",
    "# create vocab including word count using collections.Counter\n",
    "word_count_vocab = dict()\n",
    "word_count_vocab = Counter(tokens)\n",
    "\n",
    "if tag_start in word_count_vocab:\n",
    "    word_count_vocab.pop(tag_start)\n",
    "\n",
    "if tag_end in word_count_vocab:\n",
    "    word_count_vocab.pop(tag_end)\n",
    "\n",
    "print(word_count_vocab.most_common(10))\n",
    "print('count : ',len(word_count_vocab))\n",
    "\n",
    "\n",
    "if use_tags:\n",
    "    vocabulary = list(enumerate(sorted(set(word_count_vocab.keys())),start=4))\n",
    "    for i, tag in enumerate(list(tags.values())):\n",
    "        vocabulary.insert(i,(i,tag))\n",
    "else:\n",
    "    vocabulary = list(enumerate(sorted(set(word_count_vocab.keys())),start=0))\n",
    "\n",
    "        \n",
    "print(vocabulary[:10]) # sorted vocabulary\n",
    "\n",
    "idx2word = dict(vocabulary)\n",
    "list(idx2word.items())[0:10]\n",
    "\n",
    "word2idx = dict({k:v for v, k in idx2word.items()})\n",
    "list(word2idx.items())[:10]\n",
    "\n",
    "coded_corpus = [word2idx[t] for t in tokens]\n",
    "\n",
    "print(coded_corpus[202])\n",
    "print(len(coded_corpus))\n",
    "\n",
    "S = len(coded_corpus)           \n",
    "V = len(word2idx)  "
   ]
  },
  {
   "cell_type": "code",
   "execution_count": 11,
   "metadata": {},
   "outputs": [
    {
     "data": {
      "text/plain": [
       "(21543, 4590)"
      ]
     },
     "execution_count": 11,
     "metadata": {},
     "output_type": "execute_result"
    }
   ],
   "source": [
    "S, V"
   ]
  },
  {
   "cell_type": "code",
   "execution_count": 12,
   "metadata": {},
   "outputs": [
    {
     "data": {
      "text/plain": [
       "(21543,)"
      ]
     },
     "execution_count": 12,
     "metadata": {},
     "output_type": "execute_result"
    }
   ],
   "source": [
    "coded_corpus_np = np.array(coded_corpus)\n",
    "coded_corpus_np.shape"
   ]
  },
  {
   "cell_type": "code",
   "execution_count": 13,
   "metadata": {},
   "outputs": [],
   "source": [
    "def get_context(coded_sentence, context_size,word2idx, tags):\n",
    "    \n",
    "    # end_position = np.where(coded_sentence==word2idx[tags['tag_end']])[0].item()\n",
    "    # apesar de quebrar a frase na hora certa, gera um problema de batches de tamanhos diferentes\n",
    "    \n",
    "    end_position = len(coded_sentence)\n",
    "    \n",
    "    target_context = []\n",
    "    for pos in range(0,end_position):\n",
    "        middle_word   = coded_sentence[pos]\n",
    "\n",
    "        left_start = max(pos-context_size,0)\n",
    "        right_end  = min(pos+1+context_size,end_position)\n",
    "\n",
    "        if pos - left_start < context_size:                # first words position\n",
    "            right_end += context_size-(pos-left_start)     # --> increse right_context size\n",
    "        elif right_end-(pos+1) < context_size:             # last words position\n",
    "            left_start -= context_size-(right_end-(pos+1)) # --> increase left_context size\n",
    "\n",
    "        left_context  = coded_sentence[left_start:pos]\n",
    "        right_context = coded_sentence[pos+1:right_end]\n",
    "        \n",
    "        \n",
    "        context       = left_context + right_context # list concatenation\n",
    "\n",
    "        target_context.append((middle_word,context))\n",
    "    return target_context"
   ]
  },
  {
   "cell_type": "code",
   "execution_count": 14,
   "metadata": {},
   "outputs": [],
   "source": [
    "def get_batches(coded_corpus, batch_size, half_context_size, S, V, word2idx, tags):\n",
    "    i = 0\n",
    "    while True:\n",
    "        s = coded_corpus[i:i+batch_size]\n",
    "        X = []\n",
    "        Y = []\n",
    "        for y, x in get_context(s, half_context_size, word2idx, tags):\n",
    "            X.append(x)\n",
    "            Y.append(y)\n",
    "        \n",
    "        yield (np.array(X), np.array(Y).reshape(-1,1))\n",
    "        \n",
    "        i += batch_size\n",
    "        if i >= S-batch_size:\n",
    "            print('i is being set to 0')\n",
    "            i = 0"
   ]
  },
  {
   "cell_type": "code",
   "execution_count": 15,
   "metadata": {},
   "outputs": [],
   "source": [
    "def get_train_vectors(context_batches, middle_word_batches):\n",
    "    X_train = np.zeros(shape=(batch_size,V))\n",
    "    #Y_train = np.zeros(shape=(batch_size,V))\n",
    "    Y_train = np.zeros(shape=(batch_size))\n",
    "    \n",
    "    for context_id in range(context_batches.shape[0]):\n",
    "        context     = context_batches[context_id]\n",
    "        middle_word = middle_word_batches[context_id].item()\n",
    "        for cw in  context:\n",
    "            weight = 1 if word_count_vocab[idx2word[cw]] else 0\n",
    "            X_train[context_id, cw] += weight/(2*half_context_size)\n",
    "        \n",
    "        # Y_train[context_id, middle_word] = 1\n",
    "        Y_train[context_id] = middle_word\n",
    "    return (torch.FloatTensor(X_train), torch.LongTensor(Y_train))\n",
    "# X_train[np.where(X_train)]"
   ]
  },
  {
   "cell_type": "code",
   "execution_count": 16,
   "metadata": {},
   "outputs": [],
   "source": [
    "batch_size = 10\n",
    "half_context_size = 2\n",
    "batch_generator = get_batches(coded_corpus=coded_corpus, \n",
    "                              batch_size=batch_size, half_context_size=half_context_size, \n",
    "                              S=S, V=V, word2idx=word2idx, tags=tags)"
   ]
  },
  {
   "cell_type": "code",
   "execution_count": 17,
   "metadata": {},
   "outputs": [
    {
     "data": {
      "text/plain": [
       "((10, 4), (10, 1), 10)"
      ]
     },
     "execution_count": 17,
     "metadata": {},
     "output_type": "execute_result"
    }
   ],
   "source": [
    "X, Y  = next(batch_generator)\n",
    "X.shape, Y.shape, (batch_size)\n",
    "#print(np.concatenate((X, Y),axis=1))"
   ]
  },
  {
   "cell_type": "code",
   "execution_count": 18,
   "metadata": {},
   "outputs": [
    {
     "data": {
      "text/plain": [
       "(torch.Size([10, 4590]), torch.Size([10]))"
      ]
     },
     "execution_count": 18,
     "metadata": {},
     "output_type": "execute_result"
    }
   ],
   "source": [
    "X_train, Y_train = get_train_vectors(context_batches=X, middle_word_batches=Y)\n",
    "X_train.shape, Y_train.shape"
   ]
  },
  {
   "cell_type": "code",
   "execution_count": 19,
   "metadata": {},
   "outputs": [
    {
     "data": {
      "text/plain": [
       "((array([  40, 1763, 3038, 4462], dtype=int64),),\n",
       " tensor([[0.2500, 0.2500, 0.2500, 0.2500]]),\n",
       " tensor(3530))"
      ]
     },
     "execution_count": 19,
     "metadata": {},
     "output_type": "execute_result"
    }
   ],
   "source": [
    "i=3\n",
    "np.where(X_train[i]), X_train[i,np.where(X_train[i])], Y_train[i]"
   ]
  },
  {
   "cell_type": "markdown",
   "metadata": {},
   "source": [
    "# Training the Embeddings with Language Model"
   ]
  },
  {
   "cell_type": "markdown",
   "metadata": {},
   "source": [
    "## Continuous Bag-of-Words (CBOW)"
   ]
  },
  {
   "cell_type": "markdown",
   "metadata": {},
   "source": [
    "context vs target"
   ]
  },
  {
   "cell_type": "markdown",
   "metadata": {},
   "source": [
    "<details>    \n",
    "<summary>\n",
    "    <font size=\"3\" color=\"darkgreen\"><b>Hints about PyTorch input layer format</b></font>\n",
    "</summary>\n",
    "\n",
    "[from here](https://discuss.pytorch.org/t/confused-about-tensor-dimensions-and-batches/4761/2)\n",
    "\n",
    "    \n",
    "> The input to a linear layer should be a tensor of size [batch_size, input_size] where input_size is the same size as the first layer in your network (so in your case it’s num_letters).  \n",
    "    The problem appears in the line:  \n",
    "    `tensor = torch.zeros(len(name), 1, num_letters)`  \n",
    "    which should actually just be:  \n",
    "    `tensor = torch.zeros(len(name), num_letters)`\n",
    "\n",
    "> As an easy example:  \n",
    "> ```python\n",
    "        input_size = 8\n",
    "        output_size = 14\n",
    "        batch_size = 64\n",
    "        net = nn.Linear(input_size, output_size)  \n",
    "        input = Variable(torch.FloatTensor(batch_size, input_size))  \n",
    "        output = net(input)  \n",
    "        print(\"Output size:\", output.size())\n",
    "    \n",
    "> ```CPP\n",
    "    Output size: (64, 14)\n",
    "    \n",
    "\n",
    "> Hope this helps,  \n",
    "  Jordan\n",
    "</p>\n",
    "\n"
   ]
  },
  {
   "cell_type": "code",
   "execution_count": 20,
   "metadata": {},
   "outputs": [],
   "source": [
    "class Language_Model_w2v(nn.Module):\n",
    "    \n",
    "    def __init__(self, vocab_size, num_of_dimensions_of_embedding):\n",
    "        super(Language_Model_w2v, self).__init__()\n",
    "        self.V  = vocab_size\n",
    "        self.N  = num_of_dimensions_of_embedding \n",
    "        \n",
    "        self.W1  = nn.Linear(self.V, self.N)\n",
    "        self.H1  = nn.ReLU(inplace=True)\n",
    "        \n",
    "        self.W2 = nn.Linear(self.N, self.V)\n",
    "        self.LogSoftMax = nn.LogSoftmax(dim=1)\n",
    "        \n",
    "        # self.layers = nn.Sequential(*[self.e, self.W1, self.W2,self.LogSoftMax])\n",
    "        \n",
    "    def forward(self,x):              \n",
    "        x = self.H1(self.W1(x))\n",
    "        x = self.LogSoftMax(self.W2(x))\n",
    "        \n",
    "        return x"
   ]
  },
  {
   "cell_type": "code",
   "execution_count": 21,
   "metadata": {},
   "outputs": [],
   "source": [
    "max_epochs = 5\n",
    "batch_size = 500\n",
    "max_batch_iters = np.floor(S/batch_size)\n",
    "\n",
    "Nd = 50\n",
    "half_context_size = 1\n",
    "\n",
    "lr = 1e-2\n",
    "\n",
    "batch_generator = get_batches(coded_corpus=coded_corpus, \n",
    "                              batch_size=batch_size, half_context_size=half_context_size, \n",
    "                              S=S, V=V, word2idx=word2idx, tags=tags)\n",
    "print_iters = 10\n",
    "\n",
    "losses    = []\n",
    "criterion = nn.NLLLoss()\n",
    "model     = Language_Model_w2v(vocab_size=V, num_of_dimensions_of_embedding=Nd)\n",
    "\n",
    "optimizer = optim.Adam(model.parameters(), lr=lr) \n",
    "# optimizer = optim.SGD(model.parameters(),lr=lr) "
   ]
  },
  {
   "cell_type": "code",
   "execution_count": 22,
   "metadata": {},
   "outputs": [
    {
     "data": {
      "text/plain": [
       "Language_Model_w2v(\n",
       "  (W1): Linear(in_features=4590, out_features=10, bias=True)\n",
       "  (H1): ReLU(inplace=True)\n",
       "  (W2): Linear(in_features=10, out_features=4590, bias=True)\n",
       "  (LogSoftMax): LogSoftmax()\n",
       ")"
      ]
     },
     "execution_count": 22,
     "metadata": {},
     "output_type": "execute_result"
    }
   ],
   "source": [
    "model"
   ]
  },
  {
   "cell_type": "code",
   "execution_count": 23,
   "metadata": {},
   "outputs": [
    {
     "data": {
      "text/plain": [
       "107.0"
      ]
     },
     "execution_count": 23,
     "metadata": {},
     "output_type": "execute_result"
    }
   ],
   "source": [
    "max_batch_iters"
   ]
  },
  {
   "cell_type": "code",
   "execution_count": 24,
   "metadata": {},
   "outputs": [
    {
     "name": "stdout",
     "output_type": "stream",
     "text": [
      "epoch 0 sentence 200/21543 loss: 8.46299 (0.53356 ms per word)\n",
      "epoch 0 sentence 2200/21543 loss: 8.46707 (0.28605 ms per word)\n",
      "epoch 0 sentence 4200/21543 loss: 8.44358 (0.27237 ms per word)\n",
      "epoch 0 sentence 6200/21543 loss: 8.44319 (0.27547 ms per word)\n",
      "epoch 0 sentence 8200/21543 loss: 8.43110 (0.27019 ms per word)\n",
      "epoch 0 sentence 10200/21543 loss: 8.40449 (0.27402 ms per word)\n",
      "epoch 0 sentence 12200/21543 loss: 8.40119 (0.27480 ms per word)\n",
      "epoch 0 sentence 14200/21543 loss: 8.36835 (0.27150 ms per word)\n",
      "epoch 0 sentence 16200/21543 loss: 8.32350 (0.26876 ms per word)\n",
      "epoch 0 sentence 18200/21543 loss: 8.34917 (0.27112 ms per word)\n",
      "epoch 0 sentence 20200/21543 loss: 8.31508 (0.27005 ms per word)\n",
      "i is being set to 0\n",
      "epoch 1 sentence 200/21543 loss: 8.26060 (0.49866 ms per word)\n",
      "epoch 1 sentence 2200/21543 loss: 8.21832 (0.28855 ms per word)\n",
      "epoch 1 sentence 4200/21543 loss: 8.22027 (0.27367 ms per word)\n",
      "epoch 1 sentence 6200/21543 loss: 8.22676 (0.27692 ms per word)\n",
      "epoch 1 sentence 8200/21543 loss: 8.25261 (0.28065 ms per word)\n",
      "epoch 1 sentence 10200/21543 loss: 8.14117 (0.28233 ms per word)\n",
      "epoch 1 sentence 12200/21543 loss: 8.09644 (0.27799 ms per word)\n",
      "epoch 1 sentence 14200/21543 loss: 8.07904 (0.27472 ms per word)\n",
      "epoch 1 sentence 16200/21543 loss: 8.00006 (0.27313 ms per word)\n",
      "epoch 1 sentence 18200/21543 loss: 8.03061 (0.27128 ms per word)\n",
      "epoch 1 sentence 20200/21543 loss: 7.98024 (0.26970 ms per word)\n",
      "i is being set to 0\n",
      "epoch 2 sentence 200/21543 loss: 7.87855 (0.47872 ms per word)\n",
      "epoch 2 sentence 2200/21543 loss: 7.74226 (0.27971 ms per word)\n",
      "epoch 2 sentence 4200/21543 loss: 7.80039 (0.27688 ms per word)\n",
      "epoch 2 sentence 6200/21543 loss: 7.82227 (0.27917 ms per word)\n",
      "epoch 2 sentence 8200/21543 loss: 7.93602 (0.27421 ms per word)\n",
      "epoch 2 sentence 10200/21543 loss: 7.68175 (0.26972 ms per word)\n",
      "epoch 2 sentence 12200/21543 loss: 7.53759 (0.27562 ms per word)\n",
      "epoch 2 sentence 14200/21543 loss: 7.54979 (0.27894 ms per word)\n",
      "epoch 2 sentence 16200/21543 loss: 7.40098 (0.28125 ms per word)\n",
      "epoch 2 sentence 18200/21543 loss: 7.45346 (0.28060 ms per word)\n",
      "epoch 2 sentence 20200/21543 loss: 7.37933 (0.27918 ms per word)\n",
      "i is being set to 0\n",
      "epoch 3 sentence 200/21543 loss: 7.21229 (0.50365 ms per word)\n",
      "epoch 3 sentence 2200/21543 loss: 6.93048 (0.26475 ms per word)\n",
      "epoch 3 sentence 4200/21543 loss: 7.10622 (0.25978 ms per word)\n",
      "epoch 3 sentence 6200/21543 loss: 7.15733 (0.25480 ms per word)\n",
      "epoch 3 sentence 8200/21543 loss: 7.44817 (0.25505 ms per word)\n",
      "epoch 3 sentence 10200/21543 loss: 7.00867 (0.25383 ms per word)\n",
      "epoch 3 sentence 12200/21543 loss: 6.72366 (0.25481 ms per word)\n",
      "epoch 3 sentence 14200/21543 loss: 6.83798 (0.25509 ms per word)\n",
      "epoch 3 sentence 16200/21543 loss: 6.64752 (0.26226 ms per word)\n",
      "epoch 3 sentence 18200/21543 loss: 6.74179 (0.26293 ms per word)\n",
      "epoch 3 sentence 20200/21543 loss: 6.69037 (0.26444 ms per word)\n",
      "i is being set to 0\n",
      "epoch 4 sentence 200/21543 loss: 6.46857 (0.49866 ms per word)\n",
      "epoch 4 sentence 2200/21543 loss: 6.03246 (0.28197 ms per word)\n",
      "epoch 4 sentence 4200/21543 loss: 6.38516 (0.26975 ms per word)\n",
      "epoch 4 sentence 6200/21543 loss: 6.51285 (0.27934 ms per word)\n",
      "epoch 4 sentence 8200/21543 loss: 7.00982 (0.28656 ms per word)\n",
      "epoch 4 sentence 10200/21543 loss: 6.42251 (0.29413 ms per word)\n",
      "epoch 4 sentence 12200/21543 loss: 6.00969 (0.29648 ms per word)\n",
      "epoch 4 sentence 14200/21543 loss: 6.27414 (0.29883 ms per word)\n",
      "epoch 4 sentence 16200/21543 loss: 6.08175 (0.29494 ms per word)\n",
      "epoch 4 sentence 18200/21543 loss: 6.21172 (0.29464 ms per word)\n",
      "epoch 4 sentence 20200/21543 loss: 6.23443 (0.29030 ms per word)\n"
     ]
    }
   ],
   "source": [
    "from time import time\n",
    "\n",
    "batch_losses = []\n",
    "for epoch in range(max_epochs):\n",
    "    \n",
    "    cnt = 0\n",
    "    \n",
    "    # coded_sentences = coded_sentences[:,np.random.permutation(S)]\n",
    "    \n",
    "    start_t = time()\n",
    "    \n",
    "    for X, Y in batch_generator:\n",
    "    \n",
    "        # Step 1. Prepare the inputs to be passed to the model (i.e, turn the words into integer indices and wrap them in tensors)\n",
    "        X_train, Y_train = get_train_vectors(context_batches=X, middle_word_batches = Y)\n",
    "        \n",
    "        # Step 2. Recall that torch *accumulates* gradients. \n",
    "        # Before passing in a new instance, you need to zero out the gradients from the oldinstance\n",
    "        model.zero_grad()\n",
    "            \n",
    "        # Step 3. Run the forward pass, getting log probabilities over next words\n",
    "        log_probs = model(X_train)  \n",
    "            \n",
    "        # Step 4. Compute your loss function. \n",
    "        # (Again, Torch wants the target word wrapped in a tensor)\n",
    "        loss = criterion(log_probs, Y_train.T)\n",
    "\n",
    "        # Step 5. Do the backward pass and update the gradient\n",
    "        loss.backward()\n",
    "        optimizer.step()\n",
    "\n",
    "        # Get the Python number from a 1-element Tensor by calling tensor.item()\n",
    "        # total_loss += loss.item()\n",
    "        \n",
    "        batch_losses.append(loss)\n",
    "        \n",
    "        \n",
    "        if cnt%print_iters==1:\n",
    "            now = time()\n",
    "            duration = 1000*(now - start_t)/cnt/batch_size\n",
    "            print(f'epoch {epoch} sentence {cnt*batch_size}/{S} loss: {loss.item():.5f} ({duration:.5f} ms per word)')\n",
    "            \n",
    "            \n",
    "        cnt+=1\n",
    "            \n",
    "        if cnt>=max_batch_iters:\n",
    "            break\n",
    "    \n",
    "    #time.sleep(1.5)\n",
    "    #clear_output()\n",
    "#print(losses)  # The loss decreased every iteration over the training data!"
   ]
  },
  {
   "cell_type": "markdown",
   "metadata": {},
   "source": [
    "## Plot Training Loss"
   ]
  },
  {
   "cell_type": "code",
   "execution_count": 25,
   "metadata": {},
   "outputs": [],
   "source": [
    "batch_losses_np = np.array([loss.detach() for loss in batch_losses])"
   ]
  },
  {
   "cell_type": "code",
   "execution_count": 26,
   "metadata": {},
   "outputs": [
    {
     "data": {
      "image/png": "[encoded data removed]",
      "text/plain": [
       "<Figure size 864x288 with 1 Axes>"
      ]
     },
     "metadata": {
      "needs_background": "light"
     },
     "output_type": "display_data"
    }
   ],
   "source": [
    "plt.figure(figsize=(12,4))\n",
    "\n",
    "plt.plot(batch_losses_np)\n",
    "plt.show();"
   ]
  },
  {
   "cell_type": "markdown",
   "metadata": {},
   "source": [
    "## Extract Embedding"
   ]
  },
  {
   "cell_type": "raw",
   "metadata": {},
   "source": [
    "for group in model.parameters():\n",
    "    print(group.grad)"
   ]
  },
  {
   "cell_type": "code",
   "execution_count": 27,
   "metadata": {},
   "outputs": [
    {
     "name": "stdout",
     "output_type": "stream",
     "text": [
      "W1.weight torch.Size([10, 4590])\n",
      "W1.bias torch.Size([10])\n",
      "W2.weight torch.Size([4590, 10])\n",
      "W2.bias torch.Size([4590])\n"
     ]
    }
   ],
   "source": [
    "for name, param in model.named_parameters():\n",
    "    if param.requires_grad:\n",
    "        print(name, param.shape) # param.data"
   ]
  },
  {
   "cell_type": "code",
   "execution_count": 28,
   "metadata": {},
   "outputs": [
    {
     "data": {
      "text/plain": [
       "(torch.Size([4590, 10]),\n",
       " tensor([[ 7.1875e-01,  7.6287e-01,  7.5332e-01,  ..., -1.4424e-01,\n",
       "           5.1372e-01,  5.5391e-01],\n",
       "         [-2.1272e-01, -8.1923e-02, -2.7864e-01,  ..., -1.1295e-01,\n",
       "          -1.8620e-01, -8.5570e-02],\n",
       "         [-3.7143e-02, -2.2735e-01, -2.6439e-01,  ...,  6.2518e-02,\n",
       "          -5.8756e-02, -3.0502e-01],\n",
       "         ...,\n",
       "         [-4.4034e-02,  1.3547e-02,  1.6152e-01,  ..., -8.9350e-02,\n",
       "           1.1925e-01,  6.4847e-02],\n",
       "         [ 1.8111e-01,  1.0091e-01,  1.7288e-01,  ..., -7.3736e-02,\n",
       "           4.8094e-02,  1.4655e-01],\n",
       "         [-1.4098e-01, -1.4171e-02, -6.9284e-02,  ...,  5.3911e-04,\n",
       "          -1.1415e-01, -2.0454e-01]]))"
      ]
     },
     "execution_count": 28,
     "metadata": {},
     "output_type": "execute_result"
    }
   ],
   "source": [
    "# model.W2.bias.data.view(-1,1)\n",
    "# model.W1.bias.data.T\n",
    "# model.W2.weight.data\n",
    "# model.W1.weight.data.T\n",
    "#Embedding = model.W2.weight.data\n",
    "Embedding = .5*(model.W1.weight.data.T + model.W2.weight.data)\n",
    "\n",
    "\n",
    "Embedding.shape, Embedding"
   ]
  },
  {
   "cell_type": "code",
   "execution_count": null,
   "metadata": {},
   "outputs": [],
   "source": []
  },
  {
   "cell_type": "markdown",
   "metadata": {},
   "source": [
    "## Word Analogies"
   ]
  },
  {
   "cell_type": "code",
   "execution_count": 29,
   "metadata": {},
   "outputs": [],
   "source": [
    "def word_analogy(pos_neg_1=('king','man'),pos_neg_2=('queen','woman'), n_closest = 4, word2idx=None, idx2word=None):\n",
    "    king_w,    man_w = pos_neg_1\n",
    "    queen_w, woman_w = pos_neg_2\n",
    "    \n",
    "    for w in (king_w,man_w,woman_w):\n",
    "        if w not in word2idx:\n",
    "            # raise Exception(f'sorry, word \"{w}\" not in dictionary.')\n",
    "            print(f'sorry, word \"{w}\" not in dictionary.')\n",
    "            return None\n",
    "        \n",
    "    print(f'Expected: {king_w} - {man_w} = {queen_w} - {woman_w}')\n",
    "    \n",
    "    king   = word2idx[king_w]\n",
    "    man    = word2idx[man_w]\n",
    "    woman  = word2idx[woman_w]\n",
    "    \n",
    "    vec = (Embedding[king] - Embedding[man] + Embedding[woman]).view(1,-1) # Embedding[queen]\n",
    "    \n",
    "    \n",
    "    distances = pairwise_distances(vec.reshape(1, -1), Embedding, metric='cosine').reshape(V)\n",
    "    idx = distances.argsort()[:n_closest+3] \n",
    "    idx = [x for x in idx if x not in set([man,king,woman])]\n",
    "    queen_estimated = idx2word[idx[0]]\n",
    "    \n",
    "    print(f'Got:      {king_w} - {man_w} = {queen_estimated} - {woman_w}')\n",
    "    \n",
    "    print(f'Closest {len(idx[:n_closest])} words:')\n",
    "    for i in idx[:n_closest]:\n",
    "        print(f'{idx2word[i]}')"
   ]
  },
  {
   "cell_type": "code",
   "execution_count": 30,
   "metadata": {},
   "outputs": [
    {
     "name": "stdout",
     "output_type": "stream",
     "text": [
      "Expected: father - man = mother - woman\n",
      "Got:      father - man = fault - woman\n",
      "Closest 10 words:\n",
      "fault\n",
      "weigh\n",
      "blast\n",
      "sits\n",
      "force\n",
      "warrant\n",
      "twelue\n",
      "em\n",
      "ought\n",
      "extinct\n",
      "\n",
      "Expected: prince - king = princess - queen\n",
      "Got:      prince - king = lofty - queen\n",
      "Closest 10 words:\n",
      "lofty\n",
      "sprinkle\n",
      "stopp\n",
      "trebble\n",
      "inuentors\n",
      "dominions\n",
      "vnseale\n",
      "dirge\n",
      "heares\n",
      "murtherer\n",
      "\n",
      "sorry, word \"me\" not in dictionary.\n",
      "\n",
      "Expected: brother - man = sister - woman\n",
      "Got:      brother - man = proportions - woman\n",
      "Closest 10 words:\n",
      "proportions\n",
      "defie\n",
      "shout\n",
      "iulius\n",
      "consummation\n",
      "tan\n",
      "knaues\n",
      "especial\n",
      "duls\n",
      "defeated\n",
      "\n",
      "Expected: boy - man = girl - woman\n",
      "Got:      boy - man = smot - woman\n",
      "Closest 10 words:\n",
      "smot\n",
      "solid\n",
      "worth\n",
      "bulke\n",
      "terrible\n",
      "behauior\n",
      "especial\n",
      "hastie\n",
      "fed\n",
      "vnnerued\n",
      "\n",
      "Expected: man - woman = husband - wife\n",
      "Got:      man - woman = th - wife\n",
      "Closest 10 words:\n",
      "th\n",
      "enter\n",
      "ophe\n",
      "finde\n",
      "wee\n",
      "indeed\n",
      "heart\n",
      "thou\n",
      "must\n",
      "go\n",
      "\n",
      "sorry, word \"she\" not in dictionary.\n",
      "\n",
      "Expected: king - man = queen - woman\n",
      "Got:      king - man = thinke - woman\n",
      "Closest 10 words:\n",
      "thinke\n",
      "yet\n",
      "life\n",
      "vpon\n",
      "hold\n",
      "heere\n",
      "sweet\n",
      "leaue\n",
      "twere\n",
      "laertes\n",
      "\n"
     ]
    }
   ],
   "source": [
    "analogy_list = [('father', 'man', 'mother', 'woman'),\n",
    "               ('prince','king','princess','queen'),\n",
    "               ('me','i','his','he'),\n",
    "               ('brother','man','sister','woman'),\n",
    "               ('boy','man','girl','woman'),\n",
    "               ('man','woman','husband','wife'),\n",
    "               ('man','woman','he','she'),\n",
    "               ('king','man','queen','woman')]\n",
    "\n",
    "for w1, w2, w3, w4 in analogy_list:\n",
    "    word_analogy(pos_neg_1=(w1,w2),pos_neg_2=(w3,w4), n_closest = 10, word2idx=word2idx, idx2word=idx2word)\n",
    "    print()"
   ]
  },
  {
   "cell_type": "markdown",
   "metadata": {},
   "source": [
    "## Closest Neighbors"
   ]
  },
  {
   "cell_type": "code",
   "execution_count": 31,
   "metadata": {},
   "outputs": [],
   "source": [
    "def get_closest_from(word,n_closest=5, word2idx=None, idx2word=None):\n",
    "    \n",
    "    if word not in word2idx:\n",
    "        # raise Exception(f'sorry, word \"{w}\" not in dictionary.')\n",
    "        print(f'sorry, word \"{word}\" not in dictionary.')\n",
    "        return None\n",
    "    \n",
    "    word_idx = word2idx[word]\n",
    "    vec = Embedding[word_idx]\n",
    "    \n",
    "    distances = pairwise_distances(vec.reshape(1, -1), Embedding, metric='cosine').reshape(V)\n",
    "    idx = distances.argsort()[:n_closest+1] \n",
    "    idx = [x for x in idx if x not in set([word_idx])]\n",
    "    \n",
    "    print(f'Closest {len(idx)} words from {word}:')\n",
    "    for i in idx[:n_closest]:\n",
    "        print(f'{idx2word[i]}') "
   ]
  },
  {
   "cell_type": "code",
   "execution_count": 32,
   "metadata": {},
   "outputs": [
    {
     "name": "stdout",
     "output_type": "stream",
     "text": [
      "Closest 6 words from man:\n",
      "pray\n",
      "go\n",
      "king\n",
      "like\n",
      "must\n",
      "oh\n",
      "\n",
      "Closest 6 words from king:\n",
      "oh\n",
      ".\n",
      "know\n",
      "like\n",
      "death\n",
      "must\n",
      "\n",
      "Closest 6 words from woman:\n",
      "foule\n",
      "dust\n",
      "himselfe\n",
      "stand\n",
      "start\n",
      "conscience\n",
      "\n",
      "Closest 6 words from queen:\n",
      "faire\n",
      "gertrude\n",
      "mother\n",
      "begin\n",
      "st\n",
      "vpon\n",
      "\n",
      "Closest 6 words from god:\n",
      "father\n",
      "loue\n",
      "good\n",
      "like\n",
      "go\n",
      "exeunt\n",
      "\n",
      "Closest 6 words from brother:\n",
      "another\n",
      "honest\n",
      "norwey\n",
      "cold\n",
      "hamlets\n",
      "braines\n",
      "\n",
      "Closest 6 words from sister:\n",
      "reason\n",
      "keepe\n",
      "l\n",
      "hand\n",
      "soule\n",
      "mee\n",
      "\n",
      "Closest 6 words from death:\n",
      "king\n",
      "know\n",
      "pol\n",
      "soule\n",
      "say\n",
      "hand\n",
      "\n",
      "Closest 6 words from life:\n",
      "laertes\n",
      "king\n",
      "haue\n",
      "like\n",
      "qu\n",
      "leaue\n",
      "\n",
      "sorry, word \"dog\" not in dictionary.\n",
      "\n"
     ]
    }
   ],
   "source": [
    "word_list = ['man', 'king', 'woman', 'queen', 'god', 'brother', 'sister', 'death', 'life', 'dog']\n",
    "\n",
    "for word in word_list:\n",
    "    get_closest_from(word,n_closest=6, word2idx=word2idx, idx2word=idx2word)\n",
    "    print()"
   ]
  },
  {
   "cell_type": "markdown",
   "metadata": {},
   "source": [
    "# PCA Visualization of Word-Analogy"
   ]
  },
  {
   "cell_type": "code",
   "execution_count": 33,
   "metadata": {},
   "outputs": [],
   "source": [
    "from sklearn.decomposition import PCA"
   ]
  },
  {
   "cell_type": "code",
   "execution_count": 34,
   "metadata": {},
   "outputs": [],
   "source": [
    "pca = PCA(n_components=2)\n",
    "pca.fit(Embedding)\n",
    "Embedding_2D = pca.transform(Embedding)"
   ]
  },
  {
   "cell_type": "raw",
   "metadata": {},
   "source": [
    "plt.figure(figsize=(11,11))\n",
    "\n",
    "Nplot = 100\n",
    "\n",
    "most_common_words = [word2idx[x[0]] for x in word_count_vocab.most_common(Nplot)]\n",
    "\n",
    "plt.scatter(x=Embedding_2D[most_common_words,0], y=Embedding_2D[most_common_words,1])\n",
    "\n",
    "for i in most_common_words:\n",
    "    plt.annotate(idx2word[i], xy=(Embedding_2D[i,0],Embedding_2D[i,1]))\n",
    "\n",
    "plt.show()"
   ]
  },
  {
   "cell_type": "code",
   "execution_count": 35,
   "metadata": {},
   "outputs": [],
   "source": [
    "import bokeh\n",
    "from bokeh.plotting import figure, output_file, show\n",
    "from bokeh.models import Label"
   ]
  },
  {
   "cell_type": "code",
   "execution_count": 36,
   "metadata": {},
   "outputs": [],
   "source": [
    "p = figure()\n",
    "\n",
    "# output to static HTML file\n",
    "output_file(\"embeeded_word_vectors_pca.html\")\n",
    "\n",
    "Nplot = 1000\n",
    "\n",
    "most_common_words = [word2idx[x[0]] for x in word_count_vocab.most_common(Nplot)]\n",
    "\n",
    "p.scatter(x=Embedding_2D[most_common_words,0], y=Embedding_2D[most_common_words,1])\n",
    "\n",
    "for i in most_common_words:\n",
    "    my_text = Label(text=idx2word[i], x=Embedding_2D[i,0],y=Embedding_2D[i,1])\n",
    "    p.add_layout(my_text)\n",
    "    \n",
    "show(p)"
   ]
  },
  {
   "cell_type": "code",
   "execution_count": 37,
   "metadata": {},
   "outputs": [],
   "source": [
    "words = ['king', 'queen',\n",
    "         'lord', 'lady',\n",
    "         'man', 'woman',\n",
    "         'dog','wolf',\n",
    "         'rich','poor',\n",
    "         'happy','sad']\n",
    "\n",
    "\n",
    "p = figure()\n",
    "\n",
    "# output to static HTML file\n",
    "output_file(\"embeeded_word_vectors_pca_wordlist.html\")\n",
    "\n",
    "most_common_words = [word2idx[x] for x in words if x in word2idx]\n",
    "\n",
    "p.scatter(x=Embedding_2D[most_common_words,0], y=Embedding_2D[most_common_words,1])\n",
    "\n",
    "for i in most_common_words:\n",
    "    my_text = Label(text=idx2word[i], x=Embedding_2D[i,0],y=Embedding_2D[i,1])\n",
    "    p.add_layout(my_text)\n",
    "    \n",
    "show(p)"
   ]
  },
  {
   "cell_type": "code",
   "execution_count": null,
   "metadata": {},
   "outputs": [],
   "source": []
  },
  {
   "cell_type": "code",
   "execution_count": null,
   "metadata": {},
   "outputs": [],
   "source": []
  },
  {
   "cell_type": "code",
   "execution_count": null,
   "metadata": {},
   "outputs": [],
   "source": []
  },
  {
   "cell_type": "code",
   "execution_count": null,
   "metadata": {},
   "outputs": [],
   "source": []
  },
  {
   "cell_type": "code",
   "execution_count": null,
   "metadata": {},
   "outputs": [],
   "source": []
  },
  {
   "cell_type": "code",
   "execution_count": null,
   "metadata": {},
   "outputs": [],
   "source": []
  },
  {
   "cell_type": "code",
   "execution_count": null,
   "metadata": {},
   "outputs": [],
   "source": []
  }
 ],
 "metadata": {
  "kernelspec": {
   "display_name": "Python 3",
   "language": "python",
   "name": "python3"
  },
  "language_info": {
   "codemirror_mode": {
    "name": "ipython",
    "version": 3
   },
   "file_extension": ".py",
   "mimetype": "text/x-python",
   "name": "python",
   "nbconvert_exporter": "python",
   "pygments_lexer": "ipython3",
   "version": "3.7.3"
  }
 },
 "nbformat": 4,
 "nbformat_minor": 4
}
