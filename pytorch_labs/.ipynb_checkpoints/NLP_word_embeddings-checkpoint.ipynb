{
 "cells": [
  {
   "cell_type": "markdown",
   "metadata": {},
   "source": [
    "# Creating NLP Word Embeddings with PyTorch"
   ]
  },
  {
   "cell_type": "code",
   "execution_count": 1,
   "metadata": {},
   "outputs": [],
   "source": [
    "# https://stackoverflow.com/questions/50747947/embedding-in-pytorch\n",
    "# https://pytorch.org/tutorials/beginner/nlp/word_embeddings_tutorial.html"
   ]
  },
  {
   "cell_type": "code",
   "execution_count": 2,
   "metadata": {},
   "outputs": [],
   "source": [
    "import sys\n",
    "sys.path.append(\"..\") # Adds higher directory to python modules path.\n",
    "\n",
    "from IPython.display import clear_output\n",
    "import time"
   ]
  },
  {
   "cell_type": "code",
   "execution_count": 3,
   "metadata": {},
   "outputs": [],
   "source": [
    "import numpy as np\n",
    "from sklearn.metrics.pairwise import pairwise_distances"
   ]
  },
  {
   "cell_type": "code",
   "execution_count": 4,
   "metadata": {},
   "outputs": [],
   "source": [
    "import torch\n",
    "import torch.nn as nn\n",
    "import torch.nn.functional as F\n",
    "import torch.optim as optim"
   ]
  },
  {
   "cell_type": "code",
   "execution_count": 5,
   "metadata": {},
   "outputs": [],
   "source": [
    "#import mpld3\n",
    "#mpld3.enable_notebook()\n",
    "#!pip install --user \"git+https://github.com/javadba/mpld3@display_fix\""
   ]
  },
  {
   "cell_type": "code",
   "execution_count": 6,
   "metadata": {},
   "outputs": [],
   "source": [
    "%matplotlib inline\n",
    "import matplotlib.pyplot as plt"
   ]
  },
  {
   "cell_type": "code",
   "execution_count": 7,
   "metadata": {},
   "outputs": [],
   "source": [
    "import nltk\n",
    "from nltk.corpus import gutenberg\n",
    "import re\n",
    "from collections import Counter # collections library; counter: dict subclass for counting hashable objects"
   ]
  },
  {
   "cell_type": "code",
   "execution_count": 8,
   "metadata": {},
   "outputs": [],
   "source": [
    "from nlp_labs.utils import my_sentence_tokenizer, get_all_tokens, encode_sentence"
   ]
  },
  {
   "cell_type": "markdown",
   "metadata": {},
   "source": [
    "## Load and Preprocess Corpus"
   ]
  },
  {
   "cell_type": "code",
   "execution_count": 9,
   "metadata": {},
   "outputs": [],
   "source": [
    "tag_start = '<s>'\n",
    "tag_end = '</s>'\n",
    "tag_oov = '<unk>'\n",
    "tag_pad = '<pad>'\n",
    "\n",
    "tags = dict({'tag_start':tag_start, 'tag_end':tag_end,'tag_oov':tag_oov, 'tag_pad':tag_pad})\n",
    "\n",
    "max_len_sentence = 13"
   ]
  },
  {
   "cell_type": "code",
   "execution_count": 10,
   "metadata": {},
   "outputs": [
    {
     "name": "stdout",
     "output_type": "stream",
     "text": [
      "<class 'nltk.corpus.reader.util.StreamBackedCorpusView'> 260819\n",
      "<class 'str'> 1259862\n",
      "After cleaning:  330684 tokens, first 100  ['<s>', 'moby', 'dick', 'by', 'herman', 'melville', 'etymology', '.', '</s>', '<s>', 'supplied', 'by', 'a', 'late', 'consumptive', 'usher', 'to', 'a', 'grammar', 'school', 'the', 'pale', 'usher', '.', '</s>', '<s>', 'threadbare', 'in', 'coat', '.', '</s>', '<s>', 'heart', '.', '</s>', '<s>', 'body', '.', '</s>', '<s>', 'and', 'brain', '.', '</s>', '<s>', 'i', 'see', 'him', 'now', '.', '</s>', '<s>', 'he', 'was', 'ever', 'dusting', 'his', 'old', 'lexicons', 'and', 'grammars', '.', '</s>', '<s>', 'with', 'a', 'queer', 'handkerchief', '.', '</s>', '<s>', 'mockingly', 'embellished', 'with', 'all', 'the', 'gay', 'flags', 'of', 'all', 'the', 'known', 'nations', 'of', 'the', 'world', '.', '</s>', '<s>', 'he', 'loved', 'to', 'dust', 'his', 'old', 'grammars', '.', '</s>', '<s>', 'it']\n",
      "[('.', 37440), ('the', 14431), ('of', 6609), ('and', 6430), ('a', 4736), ('to', 4625), ('in', 4172), ('that', 3085), ('his', 2530), ('it', 2522)]\n",
      "count :  16948\n",
      "[(0, '<s>'), (1, '</s>'), (2, '<unk>'), (3, '<pad>'), (4, '.'), (5, 'a'), (6, 'aback'), (7, 'abaft'), (8, 'abandon'), (9, 'abandoned')]\n",
      "[0, 8528, 15983, 5726, 4, 1, 3, 3, 3, 3, 3, 3, 3, 3, 3]\n",
      "37407\n"
     ]
    }
   ],
   "source": [
    "corpus = gutenberg.words('melville-moby_dick.txt') # 'melville-moby_dick.txt' 'shakespeare-hamlet.txt'\n",
    "print(type(corpus),len(corpus))\n",
    "corpus_str = ' '.join(corpus)\n",
    "\n",
    "#with open(\"./data/wiki_sample_corpusdataorg.txt\", \"rb\") as f:\n",
    "#    txt = f.readlines()\n",
    "#corpus_str = ''.join([s.decode('utf-8') for s in txt])\n",
    "\n",
    "\n",
    "\n",
    "print(type(corpus_str),len(corpus_str))\n",
    "corpus_str = re.sub(r'[,!?;-]+', '.', corpus_str) # clean punctuation\n",
    "\n",
    "doc = my_sentence_tokenizer(corpus_str,tag_start,tag_end)\n",
    "tokens = get_all_tokens(doc)\n",
    "\n",
    "n_print = 100\n",
    "print(f'After cleaning:  {len(tokens)} tokens, first {n_print}  {tokens[:n_print]}')\n",
    "\n",
    "# create vocab including word count using collections.Counter\n",
    "word_count_vocab = dict()\n",
    "word_count_vocab = Counter(tokens)\n",
    "\n",
    "word_count_vocab.pop(tag_start)\n",
    "word_count_vocab.pop(tag_end)\n",
    "\n",
    "print(word_count_vocab.most_common(10))\n",
    "print('count : ',len(word_count_vocab))\n",
    "\n",
    "vocabulary = list(enumerate(sorted(set(word_count_vocab.keys())),start=4))\n",
    "\n",
    "for i, tag in enumerate(list(tags.values())):\n",
    "    vocabulary.insert(i,(i,tag))\n",
    "print(vocabulary[:10]) # sorted vocabulary\n",
    "\n",
    "idx2word = dict(vocabulary)\n",
    "list(idx2word.items())[0:10]\n",
    "\n",
    "word2idx = dict({k:v for v, k in idx2word.items()})\n",
    "list(word2idx.items())[:10]\n",
    "\n",
    "coded_corpus = [encode_sentence(s,word2idx, max_len_sentence=max_len_sentence,\n",
    "                               tag_oov=tag_oov, tag_pad=tag_pad) for s in doc]\n",
    "\n",
    "print(coded_corpus[202])\n",
    "print(len(coded_corpus))\n",
    "\n",
    "S = len(coded_corpus)           \n",
    "T = len(coded_corpus[0]) # max_len_sentence + 2\n",
    "V = len(word2idx)  "
   ]
  },
  {
   "cell_type": "code",
   "execution_count": 11,
   "metadata": {},
   "outputs": [
    {
     "data": {
      "text/plain": [
       "(37407, 15, 16952)"
      ]
     },
     "execution_count": 11,
     "metadata": {},
     "output_type": "execute_result"
    }
   ],
   "source": [
    "S, T, V"
   ]
  },
  {
   "cell_type": "code",
   "execution_count": 12,
   "metadata": {},
   "outputs": [
    {
     "data": {
      "text/plain": [
       "(37407, 15)"
      ]
     },
     "execution_count": 12,
     "metadata": {},
     "output_type": "execute_result"
    }
   ],
   "source": [
    "coded_corpus_np = np.array(coded_corpus)\n",
    "coded_corpus_np.shape"
   ]
  },
  {
   "cell_type": "code",
   "execution_count": null,
   "metadata": {},
   "outputs": [],
   "source": []
  },
  {
   "cell_type": "code",
   "execution_count": 13,
   "metadata": {},
   "outputs": [],
   "source": [
    "def get_context(coded_sentence, context_size,word2idx, tags, T):\n",
    "    \n",
    "    # end_position = np.where(coded_sentence==word2idx[tags['tag_end']])[0].item()\n",
    "    # apesar de quebrar a frase na hora certa, gera um problema de batches de tamanhos diferentes\n",
    "    \n",
    "    end_position = T\n",
    "    \n",
    "    target_context = []\n",
    "    for pos in range(0,end_position):\n",
    "        middle_word   = coded_sentence[pos]\n",
    "\n",
    "        left_start = max(pos-context_size,0)\n",
    "        right_end  = min(pos+1+context_size,end_position)\n",
    "\n",
    "        if pos - left_start < context_size:                # first words position\n",
    "            right_end += context_size-(pos-left_start)     # --> increse right_context size\n",
    "        elif right_end-(pos+1) < context_size:             # last words position\n",
    "            left_start -= context_size-(right_end-(pos+1)) # --> increase left_context size\n",
    "\n",
    "        left_context  = coded_sentence[left_start:pos]\n",
    "        right_context = coded_sentence[pos+1:right_end]\n",
    "        \n",
    "        \n",
    "        context       = left_context + right_context # list concatenation\n",
    "\n",
    "        target_context.append((middle_word,context))\n",
    "    return target_context"
   ]
  },
  {
   "cell_type": "code",
   "execution_count": 14,
   "metadata": {},
   "outputs": [],
   "source": [
    "def get_batches(coded_corpus, batch_size, half_context_size, S, T, V, word2idx, tags):\n",
    "    i = 0\n",
    "    while True:\n",
    "        sentences = coded_corpus[i:i+batch_size]\n",
    "        X = []\n",
    "        Y = []\n",
    "        for s in sentences:\n",
    "            for y, x in get_context(s, half_context_size, word2idx, tags, T):\n",
    "                X.append(x)\n",
    "                Y.append(y)\n",
    "        yield (np.array(X), np.array(Y).reshape(-1,1))\n",
    "        \n",
    "        i += batch_size\n",
    "        if i >= S-batch_size:\n",
    "            print('i is being set to 0')\n",
    "            i = 0"
   ]
  },
  {
   "cell_type": "code",
   "execution_count": 15,
   "metadata": {},
   "outputs": [],
   "source": [
    "def get_train_vectors(context_batches, middle_word_batches):\n",
    "    X_train = np.zeros(shape=(batch_size*T,V))\n",
    "    #Y_train = np.zeros(shape=(batch_size*T,V))\n",
    "    Y_train = np.zeros(shape=(batch_size*T))\n",
    "    \n",
    "    for context_id in range(context_batches.shape[0]):\n",
    "        context     = context_batches[context_id]\n",
    "        middle_word = middle_word_batches[context_id].item()\n",
    "        for cw in  context:\n",
    "            weight = 1 if word_count_vocab[idx2word[cw]] else 0\n",
    "            X_train[context_id, cw] += weight/(2*half_context_size)\n",
    "        \n",
    "        # Y_train[context_id, middle_word] = 1\n",
    "        Y_train[context_id] = middle_word\n",
    "    return (torch.FloatTensor(X_train), torch.LongTensor(Y_train))\n",
    "# X_train[np.where(X_train)]"
   ]
  },
  {
   "cell_type": "code",
   "execution_count": 16,
   "metadata": {},
   "outputs": [],
   "source": [
    "batch_size = 2\n",
    "half_context_size = 2\n",
    "batch_generator = get_batches(coded_corpus=coded_corpus, \n",
    "                              batch_size=batch_size, half_context_size=half_context_size, \n",
    "                              S=S, T=T, V=V, word2idx=word2idx, tags=tags)"
   ]
  },
  {
   "cell_type": "code",
   "execution_count": 17,
   "metadata": {},
   "outputs": [
    {
     "data": {
      "text/plain": [
       "((30, 4), (30, 1), 30)"
      ]
     },
     "execution_count": 17,
     "metadata": {},
     "output_type": "execute_result"
    }
   ],
   "source": [
    "X, Y  = next(batch_generator)\n",
    "X.shape, Y.shape, (batch_size)*T\n",
    "#print(np.concatenate((X, Y),axis=1))"
   ]
  },
  {
   "cell_type": "markdown",
   "metadata": {},
   "source": [
    "# Training the Embeddings with Language Model"
   ]
  },
  {
   "cell_type": "markdown",
   "metadata": {},
   "source": [
    "## Continuous Bag-of-Words (CBOW)"
   ]
  },
  {
   "cell_type": "markdown",
   "metadata": {},
   "source": [
    "context vs target"
   ]
  },
  {
   "cell_type": "markdown",
   "metadata": {},
   "source": [
    "<details>    \n",
    "<summary>\n",
    "    <font size=\"3\" color=\"darkgreen\"><b>Hints about PyTorch input layer format</b></font>\n",
    "</summary>\n",
    "\n",
    "[from here](https://discuss.pytorch.org/t/confused-about-tensor-dimensions-and-batches/4761/2)\n",
    "\n",
    "    \n",
    "> The input to a linear layer should be a tensor of size [batch_size, input_size] where input_size is the same size as the first layer in your network (so in your case it’s num_letters).  \n",
    "    The problem appears in the line:  \n",
    "    `tensor = torch.zeros(len(name), 1, num_letters)`  \n",
    "    which should actually just be:  \n",
    "    `tensor = torch.zeros(len(name), num_letters)`\n",
    "\n",
    "> As an easy example:  \n",
    "> ```python\n",
    "        input_size = 8\n",
    "        output_size = 14\n",
    "        batch_size = 64\n",
    "        net = nn.Linear(input_size, output_size)  \n",
    "        input = Variable(torch.FloatTensor(batch_size, input_size))  \n",
    "        output = net(input)  \n",
    "        print(\"Output size:\", output.size())\n",
    "    \n",
    "> ```CPP\n",
    "    Output size: (64, 14)\n",
    "    \n",
    "\n",
    "> Hope this helps,  \n",
    "  Jordan\n",
    "</p>\n",
    "\n"
   ]
  },
  {
   "cell_type": "code",
   "execution_count": 18,
   "metadata": {},
   "outputs": [],
   "source": [
    "class Language_Model_w2v(nn.Module):\n",
    "    \n",
    "    def __init__(self, vocab_size, num_of_dimensions_of_embedding):\n",
    "        super(Language_Model_w2v, self).__init__()\n",
    "        self.V  = vocab_size\n",
    "        self.N  = num_of_dimensions_of_embedding \n",
    "        \n",
    "        self.W1  = nn.Linear(self.V, self.N)\n",
    "        self.H1  = nn.ReLU(inplace=True)\n",
    "        \n",
    "        self.Winv = nn.Linear(self.N, self.V)\n",
    "        self.LogSoftMax = nn.LogSoftmax(dim=1)\n",
    "        \n",
    "        # self.layers = nn.Sequential(*[self.e, self.W1, self.W2,self.LogSoftMax])\n",
    "        \n",
    "    def forward(self,x):              \n",
    "        x = self.H1(self.W1(x))\n",
    "        x = self.LogSoftMax(self.Winv(x))\n",
    "        \n",
    "        return x"
   ]
  },
  {
   "cell_type": "code",
   "execution_count": 19,
   "metadata": {},
   "outputs": [],
   "source": [
    "max_epochs = 2\n",
    "batch_size = 200\n",
    "max_batch_iters = np.floor(S/batch_size)\n",
    "\n",
    "Nd = 100\n",
    "half_context_size = 4\n",
    "\n",
    "batch_generator = get_batches(coded_corpus=coded_corpus, \n",
    "                              batch_size=batch_size, half_context_size=half_context_size, \n",
    "                              S=S, T=T, V=V, word2idx=word2idx, tags=tags)\n",
    "\n",
    "print_iters = 10\n",
    "\n",
    "losses    = []\n",
    "criterion = nn.NLLLoss()\n",
    "model     = Language_Model_w2v(vocab_size=V, num_of_dimensions_of_embedding=Nd)\n",
    "optimizer = optim.Adam(model.parameters(), lr=7e-4) # optim.SGD(model.parameters(),lr=1e-2) #  #   # "
   ]
  },
  {
   "cell_type": "code",
   "execution_count": 20,
   "metadata": {},
   "outputs": [
    {
     "data": {
      "text/plain": [
       "Language_Model_w2v(\n",
       "  (W1): Linear(in_features=16952, out_features=100, bias=True)\n",
       "  (H1): ReLU(inplace=True)\n",
       "  (Winv): Linear(in_features=100, out_features=16952, bias=True)\n",
       "  (LogSoftMax): LogSoftmax()\n",
       ")"
      ]
     },
     "execution_count": 20,
     "metadata": {},
     "output_type": "execute_result"
    }
   ],
   "source": [
    "model"
   ]
  },
  {
   "cell_type": "code",
   "execution_count": 21,
   "metadata": {},
   "outputs": [
    {
     "data": {
      "text/plain": [
       "187.0"
      ]
     },
     "execution_count": 21,
     "metadata": {},
     "output_type": "execute_result"
    }
   ],
   "source": [
    "max_batch_iters"
   ]
  },
  {
   "cell_type": "code",
   "execution_count": 22,
   "metadata": {},
   "outputs": [
    {
     "name": "stdout",
     "output_type": "stream",
     "text": [
      "epoch 0 sentence 200/37407 loss: 9.76057\n",
      "epoch 0 sentence 2200/37407 loss: 9.73403\n",
      "epoch 0 sentence 4200/37407 loss: 9.70723\n",
      "epoch 0 sentence 6200/37407 loss: 9.66506\n",
      "epoch 0 sentence 8200/37407 loss: 9.60799\n",
      "epoch 0 sentence 10200/37407 loss: 9.53666\n",
      "epoch 0 sentence 12200/37407 loss: 9.44488\n",
      "epoch 0 sentence 14200/37407 loss: 9.33934\n",
      "epoch 0 sentence 16200/37407 loss: 9.19838\n",
      "epoch 0 sentence 18200/37407 loss: 9.02305\n",
      "epoch 0 sentence 20200/37407 loss: 8.83608\n",
      "epoch 0 sentence 22200/37407 loss: 8.63199\n",
      "epoch 0 sentence 24200/37407 loss: 8.41055\n",
      "epoch 0 sentence 26200/37407 loss: 8.13377\n",
      "epoch 0 sentence 28200/37407 loss: 7.83277\n",
      "epoch 0 sentence 30200/37407 loss: 7.58087\n",
      "epoch 0 sentence 32200/37407 loss: 7.28294\n",
      "epoch 0 sentence 34200/37407 loss: 6.98696\n",
      "epoch 0 sentence 36200/37407 loss: 6.65421\n",
      "i is being set to 0\n",
      "epoch 1 sentence 200/37407 loss: 6.55069\n",
      "epoch 1 sentence 2200/37407 loss: 6.20869\n",
      "epoch 1 sentence 4200/37407 loss: 5.96030\n",
      "epoch 1 sentence 6200/37407 loss: 5.64348\n",
      "epoch 1 sentence 8200/37407 loss: 5.55948\n",
      "epoch 1 sentence 10200/37407 loss: 5.34794\n",
      "epoch 1 sentence 12200/37407 loss: 4.97348\n",
      "epoch 1 sentence 14200/37407 loss: 5.21226\n",
      "epoch 1 sentence 16200/37407 loss: 4.87685\n",
      "epoch 1 sentence 18200/37407 loss: 4.94614\n",
      "epoch 1 sentence 20200/37407 loss: 4.74433\n",
      "epoch 1 sentence 22200/37407 loss: 4.60239\n",
      "epoch 1 sentence 24200/37407 loss: 4.53283\n",
      "epoch 1 sentence 26200/37407 loss: 4.18314\n",
      "epoch 1 sentence 28200/37407 loss: 4.09608\n",
      "epoch 1 sentence 30200/37407 loss: 3.88329\n",
      "epoch 1 sentence 32200/37407 loss: 4.04804\n",
      "epoch 1 sentence 34200/37407 loss: 3.64940\n",
      "epoch 1 sentence 36200/37407 loss: 3.53589\n"
     ]
    }
   ],
   "source": [
    "batch_losses = []\n",
    "for epoch in range(max_epochs):\n",
    "    \n",
    "    cnt = 0\n",
    "    \n",
    "    # coded_sentences = coded_sentences[:,np.random.permutation(S)]\n",
    "    \n",
    "    for X, Y in batch_generator:\n",
    "    \n",
    "        # Step 1. Prepare the inputs to be passed to the model (i.e, turn the words into integer indices and wrap them in tensors)\n",
    "        X_train, Y_train = get_train_vectors(context_batches=X, middle_word_batches = Y)\n",
    "        \n",
    "        # Step 2. Recall that torch *accumulates* gradients. \n",
    "        # Before passing in a new instance, you need to zero out the gradients from the oldinstance\n",
    "        model.zero_grad()\n",
    "            \n",
    "        # Step 3. Run the forward pass, getting log probabilities over next words\n",
    "        log_probs = model(X_train)  \n",
    "            \n",
    "        # Step 4. Compute your loss function. \n",
    "        # (Again, Torch wants the target word wrapped in a tensor)\n",
    "        loss = criterion(log_probs, Y_train.T)\n",
    "\n",
    "        # Step 5. Do the backward pass and update the gradient\n",
    "        loss.backward()\n",
    "        optimizer.step()\n",
    "\n",
    "        # Get the Python number from a 1-element Tensor by calling tensor.item()\n",
    "        # total_loss += loss.item()\n",
    "        \n",
    "        batch_losses.append(loss)\n",
    "        \n",
    "        \n",
    "        if cnt%print_iters==1:\n",
    "            print(f'epoch {epoch} sentence {cnt*batch_size}/{S} loss: {loss.item():.5f}')\n",
    "            \n",
    "        cnt+=1\n",
    "            \n",
    "        if cnt>=max_batch_iters:\n",
    "            break\n",
    "    \n",
    "    #time.sleep(1.5)\n",
    "    #clear_output()\n",
    "#print(losses)  # The loss decreased every iteration over the training data!"
   ]
  },
  {
   "cell_type": "code",
   "execution_count": 23,
   "metadata": {},
   "outputs": [
    {
     "data": {
      "text/plain": [
       "torch.Size([3000, 16952])"
      ]
     },
     "execution_count": 23,
     "metadata": {},
     "output_type": "execute_result"
    }
   ],
   "source": [
    "X_train.shape"
   ]
  },
  {
   "cell_type": "raw",
   "metadata": {},
   "source": [
    "for group in model.parameters():\n",
    "    print(group.grad)"
   ]
  },
  {
   "cell_type": "code",
   "execution_count": 24,
   "metadata": {},
   "outputs": [],
   "source": [
    "batch_losses_np = np.array([loss.detach() for loss in batch_losses])"
   ]
  },
  {
   "cell_type": "code",
   "execution_count": 25,
   "metadata": {},
   "outputs": [
    {
     "data": {
      "image/png": "[encoded data removed]",
      "text/plain": [
       "<Figure size 864x288 with 1 Axes>"
      ]
     },
     "metadata": {
      "needs_background": "light"
     },
     "output_type": "display_data"
    }
   ],
   "source": [
    "plt.figure(figsize=(12,4))\n",
    "\n",
    "plt.plot(batch_losses_np)\n",
    "plt.show();"
   ]
  },
  {
   "cell_type": "code",
   "execution_count": 26,
   "metadata": {},
   "outputs": [
    {
     "name": "stdout",
     "output_type": "stream",
     "text": [
      "W1.weight torch.Size([100, 16952])\n",
      "W1.bias torch.Size([100])\n",
      "Winv.weight torch.Size([16952, 100])\n",
      "Winv.bias torch.Size([16952])\n"
     ]
    }
   ],
   "source": [
    "for name, param in model.named_parameters():\n",
    "    if param.requires_grad:\n",
    "        print(name, param.shape) # param.data"
   ]
  },
  {
   "cell_type": "code",
   "execution_count": 53,
   "metadata": {},
   "outputs": [
    {
     "data": {
      "text/plain": [
       "(torch.Size([16952, 100]),\n",
       " tensor([[ 0.1294,  0.0987, -0.0093,  ..., -0.0124, -0.0029,  0.0127],\n",
       "         [ 0.0820,  0.1265, -0.0016,  ...,  0.0171,  0.0218, -0.0268],\n",
       "         [-0.1638, -0.1563,  0.0012,  ..., -0.0271, -0.0374, -0.0172],\n",
       "         ...,\n",
       "         [-0.0497, -0.0550,  0.0391,  ..., -0.0505, -0.0113, -0.0265],\n",
       "         [-0.0988, -0.1464, -0.0125,  ..., -0.0295,  0.0454, -0.0154],\n",
       "         [-0.1210, -0.1383,  0.0444,  ..., -0.0087,  0.0376,  0.0473]]))"
      ]
     },
     "execution_count": 53,
     "metadata": {},
     "output_type": "execute_result"
    }
   ],
   "source": [
    "Embedding = 1/2*(model.Winv.weight.data + model.W1.weight.data.T)\n",
    "Embedding.shape, Embedding"
   ]
  },
  {
   "cell_type": "code",
   "execution_count": 54,
   "metadata": {},
   "outputs": [],
   "source": [
    "def word_analogy(pos_neg_1=('king','man'),pos_neg_2=('queen','woman'), n_closest = 4, word2idx=None, idx2word=None):\n",
    "    king_w,    man_w = pos_neg_1\n",
    "    queen_w, woman_w = pos_neg_2\n",
    "    \n",
    "    for w in (king_w,man_w,woman_w):\n",
    "        if w not in word2idx:\n",
    "            raise Exception(f'sorry, word \"{w}\" not in dictionary.')\n",
    "    \n",
    "    print(f'Expected: {king_w} - {man_w} = {queen_w} - {woman_w}')\n",
    "    \n",
    "    king   = word2idx[king_w]\n",
    "    man    = word2idx[man_w]\n",
    "    woman  = word2idx[woman_w]\n",
    "    \n",
    "    vec = (Embedding[king] - Embedding[man] + Embedding[woman]).view(1,-1) # Embedding[queen]\n",
    "    distances = pairwise_distances(vec.reshape(1, -1), Embedding, metric='cosine').reshape(V)\n",
    "    \n",
    "    idx = distances.argsort()[:n_closest+3] \n",
    "    idx = [x for x in idx if x not in set([man,king,woman])]\n",
    "    queen_estimated = idx2word[idx[0]]\n",
    "    \n",
    "    print(f'Got:      {king_w} - {man_w} = {queen_estimated} - {woman_w}')\n",
    "    \n",
    "    print(f'Closest {len(idx)} words:')\n",
    "    for i in idx:\n",
    "        print(f'{idx2word[i]}')"
   ]
  },
  {
   "cell_type": "code",
   "execution_count": null,
   "metadata": {},
   "outputs": [],
   "source": []
  },
  {
   "cell_type": "code",
   "execution_count": null,
   "metadata": {},
   "outputs": [],
   "source": []
  },
  {
   "cell_type": "code",
   "execution_count": 55,
   "metadata": {},
   "outputs": [
    {
     "name": "stdout",
     "output_type": "stream",
     "text": [
      "Expected: king - man = queen - woman\n",
      "Got:      king - man = reigneth - woman\n",
      "Closest 7 words:\n",
      "reigneth\n",
      "establishing\n",
      "arguments\n",
      "transit\n",
      "frosted\n",
      "speculative\n",
      "epicurean\n"
     ]
    }
   ],
   "source": [
    "w1 = 'king'\n",
    "w2 = 'man'\n",
    "w3 = 'queen'\n",
    "w4 = 'woman'\n",
    "\n",
    "word_analogy(pos_neg_1=(w1,w2),pos_neg_2=(w3,w4), n_closest = 4, word2idx=word2idx, idx2word=idx2word)"
   ]
  },
  {
   "cell_type": "code",
   "execution_count": 56,
   "metadata": {},
   "outputs": [
    {
     "name": "stdout",
     "output_type": "stream",
     "text": [
      "Expected: man - woman = he - she\n",
      "Got:      man - woman = it - she\n",
      "Closest 6 words:\n",
      "it\n",
      "and\n",
      "in\n",
      "a\n",
      "<s>\n",
      "then\n"
     ]
    }
   ],
   "source": [
    "w1 = 'man'\n",
    "w2 = 'woman'\n",
    "w3 = 'he'\n",
    "w4 = 'she'\n",
    "\n",
    "word_analogy(pos_neg_1=(w1,w2),pos_neg_2=(w3,w4), n_closest = 4, word2idx=word2idx, idx2word=idx2word)"
   ]
  },
  {
   "cell_type": "code",
   "execution_count": 57,
   "metadata": {},
   "outputs": [
    {
     "name": "stdout",
     "output_type": "stream",
     "text": [
      "Expected: man - woman = husband - wife\n",
      "Got:      man - woman = it - wife\n",
      "Closest 6 words:\n",
      "it\n",
      "and\n",
      "for\n",
      "the\n",
      "of\n",
      "so\n"
     ]
    }
   ],
   "source": [
    "w1 = 'man'\n",
    "w2 = 'woman'\n",
    "w3 = 'husband'\n",
    "w4 = 'wife'\n",
    "\n",
    "word_analogy(pos_neg_1=(w1,w2),pos_neg_2=(w3,w4), n_closest = 4, word2idx=word2idx, idx2word=idx2word)"
   ]
  },
  {
   "cell_type": "code",
   "execution_count": 58,
   "metadata": {},
   "outputs": [
    {
     "name": "stdout",
     "output_type": "stream",
     "text": [
      "Expected: boy - man = girl - woman\n",
      "Got:      boy - man = underlings - woman\n",
      "Closest 7 words:\n",
      "underlings\n",
      "intricacy\n",
      "founder\n",
      "dismantled\n",
      "counsellors\n",
      "characterizing\n",
      "slogan\n"
     ]
    }
   ],
   "source": [
    "w1 = 'boy'\n",
    "w2 = 'man'\n",
    "w3 = 'girl'\n",
    "w4 = 'woman'\n",
    "\n",
    "word_analogy(pos_neg_1=(w1,w2),pos_neg_2=(w3,w4), n_closest = 4, word2idx=word2idx, idx2word=idx2word)"
   ]
  },
  {
   "cell_type": "code",
   "execution_count": 59,
   "metadata": {},
   "outputs": [
    {
     "name": "stdout",
     "output_type": "stream",
     "text": [
      "Expected: i - me = he - his\n",
      "Got:      i - me = and - his\n",
      "Closest 5 words:\n",
      "and\n",
      "a\n",
      "that\n",
      "but\n",
      "it\n"
     ]
    }
   ],
   "source": [
    "w1 = 'i'\n",
    "w2 = 'me'\n",
    "w3 = 'he'\n",
    "w4 = 'his'\n",
    "\n",
    "word_analogy(pos_neg_1=(w1,w2),pos_neg_2=(w3,w4), n_closest = 4, word2idx=word2idx, idx2word=idx2word)"
   ]
  },
  {
   "cell_type": "code",
   "execution_count": 60,
   "metadata": {},
   "outputs": [
    {
     "name": "stdout",
     "output_type": "stream",
     "text": [
      "Expected: prince - king = princess - queen\n",
      "Got:      prince - king = scornfully - queen\n",
      "Closest 6 words:\n",
      "scornfully\n",
      "exasperate\n",
      "timberheads\n",
      "rechurned\n",
      "assistants\n",
      "playfully\n"
     ]
    }
   ],
   "source": [
    "w1 = 'prince'\n",
    "w2 = 'king'\n",
    "w3 = 'princess'\n",
    "w4 = 'queen'\n",
    "\n",
    "word_analogy(pos_neg_1=(w1,w2),pos_neg_2=(w3,w4), n_closest = 4, word2idx=word2idx, idx2word=idx2word)"
   ]
  },
  {
   "cell_type": "code",
   "execution_count": 61,
   "metadata": {},
   "outputs": [],
   "source": [
    "# word_count_vocab"
   ]
  },
  {
   "cell_type": "markdown",
   "metadata": {},
   "source": [
    "# PCA Visualization of Word-Analogy"
   ]
  },
  {
   "cell_type": "code",
   "execution_count": 62,
   "metadata": {},
   "outputs": [],
   "source": [
    "from sklearn.decomposition import PCA"
   ]
  },
  {
   "cell_type": "code",
   "execution_count": 63,
   "metadata": {},
   "outputs": [],
   "source": [
    "pca = PCA(n_components=2)\n",
    "pca.fit(Embedding)\n",
    "Embedding_2D = pca.transform(Embedding)"
   ]
  },
  {
   "cell_type": "raw",
   "metadata": {},
   "source": [
    "plt.figure(figsize=(11,11))\n",
    "\n",
    "Nplot = 100\n",
    "\n",
    "most_common_words = [word2idx[x[0]] for x in word_count_vocab.most_common(Nplot)]\n",
    "\n",
    "plt.scatter(x=Embedding_2D[most_common_words,0], y=Embedding_2D[most_common_words,1])\n",
    "\n",
    "for i in most_common_words:\n",
    "    plt.annotate(idx2word[i], xy=(Embedding_2D[i,0],Embedding_2D[i,1]))\n",
    "\n",
    "plt.show()"
   ]
  },
  {
   "cell_type": "code",
   "execution_count": 64,
   "metadata": {},
   "outputs": [],
   "source": [
    "import bokeh\n",
    "from bokeh.plotting import figure, output_file, show\n",
    "from bokeh.models import Label"
   ]
  },
  {
   "cell_type": "code",
   "execution_count": 65,
   "metadata": {},
   "outputs": [],
   "source": [
    "p = figure()\n",
    "\n",
    "# output to static HTML file\n",
    "output_file(\"embeeded_word_vectors_pca.html\")\n",
    "\n",
    "Nplot = 2500\n",
    "\n",
    "most_common_words = [word2idx[x[0]] for x in word_count_vocab.most_common(Nplot)]\n",
    "\n",
    "p.scatter(x=Embedding_2D[most_common_words,0], y=Embedding_2D[most_common_words,1])\n",
    "\n",
    "for i in most_common_words:\n",
    "    my_text = Label(text=idx2word[i], x=Embedding_2D[i,0],y=Embedding_2D[i,1])\n",
    "    p.add_layout(my_text)\n",
    "    \n",
    "show(p)"
   ]
  },
  {
   "cell_type": "code",
   "execution_count": null,
   "metadata": {},
   "outputs": [],
   "source": []
  },
  {
   "cell_type": "code",
   "execution_count": null,
   "metadata": {},
   "outputs": [],
   "source": []
  },
  {
   "cell_type": "code",
   "execution_count": null,
   "metadata": {},
   "outputs": [],
   "source": []
  },
  {
   "cell_type": "code",
   "execution_count": null,
   "metadata": {},
   "outputs": [],
   "source": []
  },
  {
   "cell_type": "code",
   "execution_count": null,
   "metadata": {},
   "outputs": [],
   "source": []
  },
  {
   "cell_type": "code",
   "execution_count": null,
   "metadata": {},
   "outputs": [],
   "source": []
  },
  {
   "cell_type": "code",
   "execution_count": null,
   "metadata": {},
   "outputs": [],
   "source": []
  }
 ],
 "metadata": {
  "kernelspec": {
   "display_name": "Python 3",
   "language": "python",
   "name": "python3"
  },
  "language_info": {
   "codemirror_mode": {
    "name": "ipython",
    "version": 3
   },
   "file_extension": ".py",
   "mimetype": "text/x-python",
   "name": "python",
   "nbconvert_exporter": "python",
   "pygments_lexer": "ipython3",
   "version": "3.7.3"
  }
 },
 "nbformat": 4,
 "nbformat_minor": 4
}
