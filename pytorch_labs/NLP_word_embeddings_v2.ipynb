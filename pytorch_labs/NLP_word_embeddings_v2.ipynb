{
 "cells": [
  {
   "cell_type": "markdown",
   "metadata": {},
   "source": [
    "# Creating NLP Word Embeddings with PyTorch"
   ]
  },
  {
   "cell_type": "code",
   "execution_count": 1,
   "metadata": {},
   "outputs": [],
   "source": [
    "# https://stackoverflow.com/questions/50747947/embedding-in-pytorch\n",
    "# https://pytorch.org/tutorials/beginner/nlp/word_embeddings_tutorial.html"
   ]
  },
  {
   "cell_type": "code",
   "execution_count": 2,
   "metadata": {},
   "outputs": [],
   "source": [
    "import sys\n",
    "sys.path.append(\"..\") # Adds higher directory to python modules path.\n",
    "\n",
    "from IPython.display import clear_output\n",
    "import time"
   ]
  },
  {
   "cell_type": "code",
   "execution_count": 3,
   "metadata": {},
   "outputs": [],
   "source": [
    "import numpy as np\n",
    "from sklearn.metrics.pairwise import pairwise_distances"
   ]
  },
  {
   "cell_type": "code",
   "execution_count": 4,
   "metadata": {},
   "outputs": [],
   "source": [
    "import torch\n",
    "import torch.nn as nn\n",
    "import torch.nn.functional as F\n",
    "import torch.optim as optim"
   ]
  },
  {
   "cell_type": "code",
   "execution_count": 5,
   "metadata": {},
   "outputs": [],
   "source": [
    "#import mpld3\n",
    "#mpld3.enable_notebook()\n",
    "#!pip install --user \"git+https://github.com/javadba/mpld3@display_fix\""
   ]
  },
  {
   "cell_type": "code",
   "execution_count": 6,
   "metadata": {},
   "outputs": [],
   "source": [
    "%matplotlib inline\n",
    "import matplotlib.pyplot as plt"
   ]
  },
  {
   "cell_type": "code",
   "execution_count": 7,
   "metadata": {},
   "outputs": [],
   "source": [
    "import nltk\n",
    "from nltk.corpus import gutenberg\n",
    "import re\n",
    "from collections import Counter # collections library; counter: dict subclass for counting hashable objects\n",
    "\n",
    "from nltk.corpus import stopwords \n",
    "stop_words = set(stopwords.words('english')) "
   ]
  },
  {
   "cell_type": "code",
   "execution_count": 8,
   "metadata": {},
   "outputs": [],
   "source": [
    "from nlp_labs.utils2 import my_sentence_tokenizer, get_all_tokens, encode_sentence"
   ]
  },
  {
   "cell_type": "markdown",
   "metadata": {},
   "source": [
    "## Load and Preprocess Corpus"
   ]
  },
  {
   "cell_type": "code",
   "execution_count": 9,
   "metadata": {},
   "outputs": [],
   "source": [
    "tag_start = '<s>'\n",
    "tag_end = '</s>'\n",
    "tag_oov = '<unk>'\n",
    "tag_pad = '<pad>'\n",
    "\n",
    "tags = dict({'tag_start':tag_start, 'tag_end':tag_end,'tag_oov':tag_oov, 'tag_pad':tag_pad})\n",
    "\n",
    "use_tags = True"
   ]
  },
  {
   "cell_type": "code",
   "execution_count": 10,
   "metadata": {
    "tags": []
   },
   "outputs": [
    {
     "output_type": "stream",
     "name": "stdout",
     "text": "<class 'str'> 306996\nAfter cleaning:  55296 tokens, first 100  ['<s>', 'muse', 'fire', '.', '</s>', '<s>', 'would', 'ascend', 'brightest', 'heaven', 'invention', '.', '</s>', '<s>', 'kingdom', 'stage', '.', '</s>', '<s>', 'princes', 'act', 'monarchs', 'behold', 'swelling', 'scene', '.', '</s>', '<s>', 'warlike', 'harry', '.', '</s>', '<s>', 'like', '.', '</s>', '<s>', 'assume', 'port', 'mars', '.', '</s>', '<s>', 'heels', '.', '</s>', '<s>', 'leash', 'like', 'hounds', '.', '</s>', '<s>', 'famine', '.', '</s>', '<s>', 'sword', 'fire', 'crouch', 'employment', '.', '</s>', '<s>', 'pardon', '.', '</s>', '<s>', 'gentles', '.', '</s>', '<s>', 'flat', 'unraised', 'spirits', 'dared', 'unworthy', 'scaffold', 'bring', 'forth', 'great', 'object', 'cockpit', 'hold', 'vasty', 'fields', 'france', '.', '</s>', '<s>', 'may', 'cram', 'within', 'wooden', 'casques', 'affright', 'air', 'agincourt', '.', '</s>']\n[('.', 9597), ('thy', 359), ('thou', 332), ('love', 271), ('thee', 240), ('lord', 225), ('shall', 218), ('parolles', 175), ('king', 172), ('would', 138)]\ncount :  5652\n[(0, '<s>'), (1, '</s>'), (2, '<unk>'), (3, '<pad>'), (4, '.'), (5, 'abandon'), (6, 'abed'), (7, 'abhor'), (8, 'abhorr'), (9, 'abide')]\n1\n55296\n"
    }
   ],
   "source": [
    "'''corpus = gutenberg.words('shakespeare-caesar.txt') \n",
    "# 'bible-kjv.txt' 'melville-moby_dick.txt' 'shakespeare-hamlet.txt' 'shakespeare-caesar.txt',\n",
    "print(type(corpus),len(corpus))\n",
    "corpus_str = ' '.join(corpus)'''\n",
    "\n",
    "with open(\"./data/shakespeare.txt\", \"rb\") as f: # wiki_sample_corpusdataorg.txt shakespeare.txt\n",
    "    txt = f.readlines()\n",
    "corpus_str = ''.join([s.decode('utf-8') for s in txt])\n",
    "\n",
    "\n",
    "print(type(corpus_str),len(corpus_str))\n",
    "corpus_str = re.sub(r'[,!?;-]+', '.', corpus_str) # clean punctuation\n",
    "\n",
    "doc = my_sentence_tokenizer(corpus_str,tag_start,tag_end,tag=use_tags,stopwords=stop_words)\n",
    "tokens = get_all_tokens(doc)\n",
    "\n",
    "n_print = 100\n",
    "print(f'After cleaning:  {len(tokens)} tokens, first {n_print}  {tokens[:n_print]}')\n",
    "\n",
    "# create vocab including word count using collections.Counter\n",
    "word_count_vocab = dict()\n",
    "word_count_vocab = Counter(tokens)\n",
    "\n",
    "if tag_start in word_count_vocab:\n",
    "    word_count_vocab.pop(tag_start)\n",
    "\n",
    "if tag_end in word_count_vocab:\n",
    "    word_count_vocab.pop(tag_end)\n",
    "\n",
    "print(word_count_vocab.most_common(10))\n",
    "print('count : ',len(word_count_vocab))\n",
    "\n",
    "\n",
    "if use_tags:\n",
    "    vocabulary = list(enumerate(sorted(set(word_count_vocab.keys())),start=4))\n",
    "    for i, tag in enumerate(list(tags.values())):\n",
    "        vocabulary.insert(i,(i,tag))\n",
    "else:\n",
    "    vocabulary = list(enumerate(sorted(set(word_count_vocab.keys())),start=0))\n",
    "\n",
    "        \n",
    "print(vocabulary[:10]) # sorted vocabulary\n",
    "\n",
    "idx2word = dict(vocabulary)\n",
    "list(idx2word.items())[0:10]\n",
    "\n",
    "word2idx = dict({k:v for v, k in idx2word.items()})\n",
    "list(word2idx.items())[:10]\n",
    "\n",
    "coded_corpus = [word2idx[t] for t in tokens]\n",
    "\n",
    "print(coded_corpus[202])\n",
    "print(len(coded_corpus))\n",
    "\n",
    "S = len(coded_corpus)           \n",
    "V = len(word2idx)  "
   ]
  },
  {
   "cell_type": "code",
   "execution_count": 11,
   "metadata": {},
   "outputs": [
    {
     "output_type": "execute_result",
     "data": {
      "text/plain": "(55296, 5656)"
     },
     "metadata": {},
     "execution_count": 11
    }
   ],
   "source": [
    "S, V"
   ]
  },
  {
   "cell_type": "code",
   "execution_count": 12,
   "metadata": {},
   "outputs": [
    {
     "output_type": "execute_result",
     "data": {
      "text/plain": "(55296,)"
     },
     "metadata": {},
     "execution_count": 12
    }
   ],
   "source": [
    "coded_corpus_np = np.array(coded_corpus)\n",
    "coded_corpus_np.shape"
   ]
  },
  {
   "cell_type": "code",
   "execution_count": 13,
   "metadata": {},
   "outputs": [],
   "source": [
    "def get_context(coded_sentence, context_size,word2idx, tags):\n",
    "    \n",
    "    # end_position = np.where(coded_sentence==word2idx[tags['tag_end']])[0].item()\n",
    "    # apesar de quebrar a frase na hora certa, gera um problema de batches de tamanhos diferentes\n",
    "    \n",
    "    end_position = len(coded_sentence)\n",
    "    \n",
    "    target_context = []\n",
    "    for pos in range(0,end_position):\n",
    "        middle_word   = coded_sentence[pos]\n",
    "\n",
    "        left_start = max(pos-context_size,0)\n",
    "        right_end  = min(pos+1+context_size,end_position)\n",
    "\n",
    "        if pos - left_start < context_size:                # first words position\n",
    "            right_end += context_size-(pos-left_start)     # --> increse right_context size\n",
    "        elif right_end-(pos+1) < context_size:             # last words position\n",
    "            left_start -= context_size-(right_end-(pos+1)) # --> increase left_context size\n",
    "\n",
    "        left_context  = coded_sentence[left_start:pos]\n",
    "        right_context = coded_sentence[pos+1:right_end]\n",
    "        \n",
    "        \n",
    "        context       = left_context + right_context # list concatenation\n",
    "\n",
    "        target_context.append((middle_word,context))\n",
    "    return target_context"
   ]
  },
  {
   "cell_type": "code",
   "execution_count": 14,
   "metadata": {},
   "outputs": [],
   "source": [
    "def get_batches(coded_corpus, batch_size, half_context_size, S, V, word2idx, tags):\n",
    "    i = 0\n",
    "    while True:\n",
    "        s = coded_corpus[i:i+batch_size]\n",
    "        X = []\n",
    "        Y = []\n",
    "        for y, x in get_context(s, half_context_size, word2idx, tags):\n",
    "            X.append(x)\n",
    "            Y.append(y)\n",
    "        \n",
    "        yield (np.array(X), np.array(Y).reshape(-1,1))\n",
    "        \n",
    "        i += batch_size\n",
    "        if i >= S-batch_size:\n",
    "            print('i is being set to 0')\n",
    "            i = 0"
   ]
  },
  {
   "cell_type": "code",
   "execution_count": 15,
   "metadata": {},
   "outputs": [],
   "source": [
    "def get_train_vectors(context_batches, middle_word_batches):\n",
    "    X_train = np.zeros(shape=(batch_size,V))\n",
    "    #Y_train = np.zeros(shape=(batch_size,V))\n",
    "    Y_train = np.zeros(shape=(batch_size))\n",
    "    \n",
    "    for context_id in range(context_batches.shape[0]):\n",
    "        context     = context_batches[context_id]\n",
    "        middle_word = middle_word_batches[context_id].item()\n",
    "        for cw in  context:\n",
    "            weight = 1 if word_count_vocab[idx2word[cw]] else 0\n",
    "            X_train[context_id, cw] += weight/(2*half_context_size)\n",
    "        \n",
    "        # Y_train[context_id, middle_word] = 1\n",
    "        Y_train[context_id] = middle_word\n",
    "    return (torch.FloatTensor(X_train), torch.LongTensor(Y_train))\n",
    "# X_train[np.where(X_train)]"
   ]
  },
  {
   "cell_type": "code",
   "execution_count": 16,
   "metadata": {},
   "outputs": [],
   "source": [
    "batch_size = 10\n",
    "half_context_size = 2\n",
    "batch_generator = get_batches(coded_corpus=coded_corpus, \n",
    "                              batch_size=batch_size, half_context_size=half_context_size, \n",
    "                              S=S, V=V, word2idx=word2idx, tags=tags)"
   ]
  },
  {
   "cell_type": "code",
   "execution_count": 17,
   "metadata": {},
   "outputs": [
    {
     "output_type": "execute_result",
     "data": {
      "text/plain": "((10, 4), (10, 1), 10)"
     },
     "metadata": {},
     "execution_count": 17
    }
   ],
   "source": [
    "X, Y  = next(batch_generator)\n",
    "X.shape, Y.shape, (batch_size)\n",
    "#print(np.concatenate((X, Y),axis=1))"
   ]
  },
  {
   "cell_type": "code",
   "execution_count": 18,
   "metadata": {},
   "outputs": [
    {
     "output_type": "execute_result",
     "data": {
      "text/plain": "(torch.Size([10, 5656]), torch.Size([10]))"
     },
     "metadata": {},
     "execution_count": 18
    }
   ],
   "source": [
    "X_train, Y_train = get_train_vectors(context_batches=X, middle_word_batches=Y)\n",
    "X_train.shape, Y_train.shape"
   ]
  },
  {
   "cell_type": "code",
   "execution_count": 19,
   "metadata": {},
   "outputs": [
    {
     "output_type": "execute_result",
     "data": {
      "text/plain": "((array([1907, 3207], dtype=int64),), tensor([[0.2500, 0.2500]]), tensor(4))"
     },
     "metadata": {},
     "execution_count": 19
    }
   ],
   "source": [
    "i=3\n",
    "np.where(X_train[i]), X_train[i,np.where(X_train[i])], Y_train[i]"
   ]
  },
  {
   "cell_type": "markdown",
   "metadata": {},
   "source": [
    "# Training the Embeddings with Language Model"
   ]
  },
  {
   "cell_type": "markdown",
   "metadata": {},
   "source": [
    "## Continuous Bag-of-Words (CBOW)"
   ]
  },
  {
   "cell_type": "markdown",
   "metadata": {},
   "source": [
    "context vs target"
   ]
  },
  {
   "cell_type": "markdown",
   "metadata": {},
   "source": [
    "<details>    \n",
    "<summary>\n",
    "    <font size=\"3\" color=\"darkgreen\"><b>Hints about PyTorch input layer format</b></font>\n",
    "</summary>\n",
    "\n",
    "[from here](https://discuss.pytorch.org/t/confused-about-tensor-dimensions-and-batches/4761/2)\n",
    "\n",
    "    \n",
    "> The input to a linear layer should be a tensor of size [batch_size, input_size] where input_size is the same size as the first layer in your network (so in your case it’s num_letters).  \n",
    "    The problem appears in the line:  \n",
    "    `tensor = torch.zeros(len(name), 1, num_letters)`  \n",
    "    which should actually just be:  \n",
    "    `tensor = torch.zeros(len(name), num_letters)`\n",
    "\n",
    "> As an easy example:  \n",
    "> ```python\n",
    "        input_size = 8\n",
    "        output_size = 14\n",
    "        batch_size = 64\n",
    "        net = nn.Linear(input_size, output_size)  \n",
    "        input = Variable(torch.FloatTensor(batch_size, input_size))  \n",
    "        output = net(input)  \n",
    "        print(\"Output size:\", output.size())\n",
    "    \n",
    "> ```CPP\n",
    "    Output size: (64, 14)\n",
    "    \n",
    "\n",
    "> Hope this helps,  \n",
    "  Jordan\n",
    "</p>\n",
    "\n"
   ]
  },
  {
   "cell_type": "code",
   "execution_count": 20,
   "metadata": {},
   "outputs": [],
   "source": [
    "class Language_Model_w2v(nn.Module):\n",
    "    \n",
    "    def __init__(self, vocab_size, num_of_dimensions_of_embedding):\n",
    "        super(Language_Model_w2v, self).__init__()\n",
    "        self.V  = vocab_size\n",
    "        self.N  = num_of_dimensions_of_embedding \n",
    "        \n",
    "        self.W1  = nn.Linear(self.V, self.N)\n",
    "        self.H1  = nn.ReLU(inplace=True)\n",
    "        \n",
    "        self.W2 = nn.Linear(self.N, self.V)\n",
    "        self.LogSoftMax = nn.LogSoftmax(dim=1)\n",
    "        \n",
    "        # self.layers = nn.Sequential(*[self.e, self.W1, self.W2,self.LogSoftMax])\n",
    "        \n",
    "    def forward(self,x):              \n",
    "        x = self.H1(self.W1(x))\n",
    "        x = self.LogSoftMax(self.W2(x))\n",
    "        \n",
    "        return x"
   ]
  },
  {
   "cell_type": "code",
   "execution_count": 21,
   "metadata": {},
   "outputs": [],
   "source": [
    "max_epochs = 1\n",
    "batch_size = 128\n",
    "max_batch_iters = np.floor(S/batch_size)\n",
    "\n",
    "Nd = 200\n",
    "half_context_size = 2\n",
    "\n",
    "lr = 1e-2\n",
    "\n",
    "batch_generator = get_batches(coded_corpus=coded_corpus, \n",
    "                              batch_size=batch_size, half_context_size=half_context_size, \n",
    "                              S=S, V=V, word2idx=word2idx, tags=tags)\n",
    "print_iters = 10\n",
    "\n",
    "losses    = []\n",
    "criterion = nn.NLLLoss()\n",
    "model     = Language_Model_w2v(vocab_size=V, num_of_dimensions_of_embedding=Nd)\n",
    "\n",
    "optimizer = optim.Adam(model.parameters(), lr=lr) \n",
    "#optimizer = optim.SGD(model.parameters(),lr=lr) "
   ]
  },
  {
   "cell_type": "code",
   "execution_count": 22,
   "metadata": {},
   "outputs": [
    {
     "output_type": "execute_result",
     "data": {
      "text/plain": "Language_Model_w2v(\n  (W1): Linear(in_features=5656, out_features=200, bias=True)\n  (H1): ReLU(inplace=True)\n  (W2): Linear(in_features=200, out_features=5656, bias=True)\n  (LogSoftMax): LogSoftmax()\n)"
     },
     "metadata": {},
     "execution_count": 22
    }
   ],
   "source": [
    "model"
   ]
  },
  {
   "cell_type": "code",
   "execution_count": 23,
   "metadata": {},
   "outputs": [
    {
     "output_type": "execute_result",
     "data": {
      "text/plain": "432.0"
     },
     "metadata": {},
     "execution_count": 23
    }
   ],
   "source": [
    "max_batch_iters"
   ]
  },
  {
   "cell_type": "code",
   "execution_count": 24,
   "metadata": {
    "tags": []
   },
   "outputs": [
    {
     "output_type": "stream",
     "name": "stdout",
     "text": "epoch 0 sentence 128/55296 loss: 8.61760 (2.57904 ms per word)\nepoch 0 sentence 1408/55296 loss: 7.44683 (1.39368 ms per word)\nepoch 0 sentence 2688/55296 loss: 5.78196 (1.23501 ms per word)\nepoch 0 sentence 3968/55296 loss: 6.70826 (1.21391 ms per word)\nepoch 0 sentence 5248/55296 loss: 6.31944 (1.19710 ms per word)\nepoch 0 sentence 6528/55296 loss: 5.81827 (1.18757 ms per word)\nepoch 0 sentence 7808/55296 loss: 5.77460 (1.19465 ms per word)\nepoch 0 sentence 9088/55296 loss: 6.11734 (1.18749 ms per word)\nepoch 0 sentence 10368/55296 loss: 5.42291 (1.18687 ms per word)\nepoch 0 sentence 11648/55296 loss: 5.11624 (1.18732 ms per word)\nepoch 0 sentence 12928/55296 loss: 5.63395 (1.17403 ms per word)\nepoch 0 sentence 14208/55296 loss: 5.31103 (1.16120 ms per word)\nepoch 0 sentence 15488/55296 loss: 5.68863 (1.15690 ms per word)\nepoch 0 sentence 16768/55296 loss: 4.70763 (1.15614 ms per word)\nepoch 0 sentence 18048/55296 loss: 5.83393 (1.16278 ms per word)\nepoch 0 sentence 19328/55296 loss: 4.88845 (1.18232 ms per word)\nepoch 0 sentence 20608/55296 loss: 4.31963 (1.18201 ms per word)\nepoch 0 sentence 21888/55296 loss: 5.10275 (1.17688 ms per word)\nepoch 0 sentence 23168/55296 loss: 5.48403 (1.17062 ms per word)\nepoch 0 sentence 24448/55296 loss: 5.66245 (1.16784 ms per word)\nepoch 0 sentence 25728/55296 loss: 5.37538 (1.15831 ms per word)\nepoch 0 sentence 27008/55296 loss: 2.68890 (1.15072 ms per word)\nepoch 0 sentence 28288/55296 loss: 3.47999 (1.16621 ms per word)\nepoch 0 sentence 29568/55296 loss: 3.92848 (1.16525 ms per word)\nepoch 0 sentence 30848/55296 loss: 3.57928 (1.16697 ms per word)\nepoch 0 sentence 32128/55296 loss: 4.79580 (1.15851 ms per word)\nepoch 0 sentence 33408/55296 loss: 4.69246 (1.15008 ms per word)\nepoch 0 sentence 34688/55296 loss: 3.83420 (1.14347 ms per word)\nepoch 0 sentence 35968/55296 loss: 4.42861 (1.13970 ms per word)\nepoch 0 sentence 37248/55296 loss: 3.64806 (1.13648 ms per word)\nepoch 0 sentence 38528/55296 loss: 4.23980 (1.13450 ms per word)\nepoch 0 sentence 39808/55296 loss: 3.43575 (1.13372 ms per word)\nepoch 0 sentence 41088/55296 loss: 4.03760 (1.13148 ms per word)\nepoch 0 sentence 42368/55296 loss: 4.51465 (1.13015 ms per word)\nepoch 0 sentence 43648/55296 loss: 4.83180 (1.14636 ms per word)\nepoch 0 sentence 44928/55296 loss: 3.76832 (1.14929 ms per word)\nepoch 0 sentence 46208/55296 loss: 3.11279 (1.14890 ms per word)\nepoch 0 sentence 47488/55296 loss: 4.92163 (1.15727 ms per word)\nepoch 0 sentence 48768/55296 loss: 4.47275 (1.16252 ms per word)\nepoch 0 sentence 50048/55296 loss: 4.32689 (1.16523 ms per word)\nepoch 0 sentence 51328/55296 loss: 5.37503 (1.16656 ms per word)\nepoch 0 sentence 52608/55296 loss: 4.86046 (1.16411 ms per word)\nepoch 0 sentence 53888/55296 loss: 3.62218 (1.16376 ms per word)\ni is being set to 0\nepoch 0 sentence 55168/55296 loss: 5.37181 (1.16409 ms per word)\n"
    }
   ],
   "source": [
    "from time import time\n",
    "\n",
    "batch_losses = []\n",
    "for epoch in range(max_epochs):\n",
    "    \n",
    "    cnt = 0\n",
    "    \n",
    "    # coded_sentences = coded_sentences[:,np.random.permutation(S)]\n",
    "    \n",
    "    start_t = time()\n",
    "    \n",
    "    for X, Y in batch_generator:\n",
    "    \n",
    "        # Step 1. Prepare the inputs to be passed to the model (i.e, turn the words into integer indices and wrap them in tensors)\n",
    "        X_train, Y_train = get_train_vectors(context_batches=X, middle_word_batches = Y)\n",
    "        \n",
    "        # Step 2. Recall that torch *accumulates* gradients. \n",
    "        # Before passing in a new instance, you need to zero out the gradients from the oldinstance\n",
    "        model.zero_grad()\n",
    "            \n",
    "        # Step 3. Run the forward pass, getting log probabilities over next words\n",
    "        log_probs = model(X_train)  \n",
    "            \n",
    "        # Step 4. Compute your loss function. \n",
    "        # (Again, Torch wants the target word wrapped in a tensor)\n",
    "        loss = criterion(log_probs, Y_train.T)\n",
    "\n",
    "        # Step 5. Do the backward pass and update the gradient\n",
    "        loss.backward()\n",
    "        optimizer.step()\n",
    "\n",
    "        # Get the Python number from a 1-element Tensor by calling tensor.item()\n",
    "        # total_loss += loss.item()\n",
    "        \n",
    "        batch_losses.append(loss)\n",
    "        \n",
    "        \n",
    "        if cnt%print_iters==1:\n",
    "            now = time()\n",
    "            duration = 1000*(now - start_t)/cnt/batch_size\n",
    "            print(f'epoch {epoch} sentence {cnt*batch_size}/{S} loss: {loss.item():.5f} ({duration:.5f} ms per word)')\n",
    "            \n",
    "            \n",
    "        cnt+=1\n",
    "            \n",
    "        if cnt>=max_batch_iters:\n",
    "            break\n",
    "    \n",
    "    #time.sleep(1.5)\n",
    "    #clear_output()\n",
    "#print(losses)  # The loss decreased every iteration over the training data!"
   ]
  },
  {
   "cell_type": "markdown",
   "metadata": {},
   "source": [
    "## Plot Training Loss"
   ]
  },
  {
   "cell_type": "code",
   "execution_count": 25,
   "metadata": {},
   "outputs": [],
   "source": [
    "batch_losses_np = np.array([loss.detach() for loss in batch_losses])"
   ]
  },
  {
   "cell_type": "code",
   "execution_count": 26,
   "metadata": {},
   "outputs": [
    {
     "output_type": "display_data",
     "data": {
      "text/plain": "<Figure size 864x288 with 1 Axes>",
      "image/svg+xml": "<?xml version=\"1.0\" encoding=\"utf-8\" standalone=\"no\"?>\r\n<!DOCTYPE svg PUBLIC \"-//W3C//DTD SVG 1.1//EN\"\r\n  \"http://www.w3.org/Graphics/SVG/1.1/DTD/svg11.dtd\">\r\n<!-- Created with matplotlib (https://matplotlib.org/) -->\r\n<svg height=\"248.518125pt\" version=\"1.1\" viewBox=\"0 0 697.3625 248.518125\" width=\"697.3625pt\" xmlns=\"http://www.w3.org/2000/svg\" xmlns:xlink=\"http://www.w3.org/1999/xlink\">\r\n <defs>\r\n  <style type=\"text/css\">\r\n*{stroke-linecap:butt;stroke-linejoin:round;}\r\n  </style>\r\n </defs>\r\n <g id=\"figure_1\">\r\n  <g id=\"patch_1\">\r\n   <path d=\"M 0 248.518125 \r\nL 697.3625 248.518125 \r\nL 697.3625 0 \r\nL 0 0 \r\nz\r\n\" style=\"fill:none;\"/>\r\n  </g>\r\n  <g id=\"axes_1\">\r\n   <g id=\"patch_2\">\r\n    <path d=\"M 20.5625 224.64 \r\nL 690.1625 224.64 \r\nL 690.1625 7.2 \r\nL 20.5625 7.2 \r\nz\r\n\" style=\"fill:#ffffff;\"/>\r\n   </g>\r\n   <g id=\"matplotlib.axis_1\">\r\n    <g id=\"xtick_1\">\r\n     <g id=\"line2d_1\">\r\n      <defs>\r\n       <path d=\"M 0 0 \r\nL 0 3.5 \r\n\" id=\"mebe218e7d0\" style=\"stroke:#000000;stroke-width:0.8;\"/>\r\n      </defs>\r\n      <g>\r\n       <use style=\"stroke:#000000;stroke-width:0.8;\" x=\"50.998864\" xlink:href=\"#mebe218e7d0\" y=\"224.64\"/>\r\n      </g>\r\n     </g>\r\n     <g id=\"text_1\">\r\n      <!-- 0 -->\r\n      <defs>\r\n       <path d=\"M 31.78125 66.40625 \r\nQ 24.171875 66.40625 20.328125 58.90625 \r\nQ 16.5 51.421875 16.5 36.375 \r\nQ 16.5 21.390625 20.328125 13.890625 \r\nQ 24.171875 6.390625 31.78125 6.390625 \r\nQ 39.453125 6.390625 43.28125 13.890625 \r\nQ 47.125 21.390625 47.125 36.375 \r\nQ 47.125 51.421875 43.28125 58.90625 \r\nQ 39.453125 66.40625 31.78125 66.40625 \r\nz\r\nM 31.78125 74.21875 \r\nQ 44.046875 74.21875 50.515625 64.515625 \r\nQ 56.984375 54.828125 56.984375 36.375 \r\nQ 56.984375 17.96875 50.515625 8.265625 \r\nQ 44.046875 -1.421875 31.78125 -1.421875 \r\nQ 19.53125 -1.421875 13.0625 8.265625 \r\nQ 6.59375 17.96875 6.59375 36.375 \r\nQ 6.59375 54.828125 13.0625 64.515625 \r\nQ 19.53125 74.21875 31.78125 74.21875 \r\nz\r\n\" id=\"DejaVuSans-48\"/>\r\n      </defs>\r\n      <g transform=\"translate(47.817614 239.238437)scale(0.1 -0.1)\">\r\n       <use xlink:href=\"#DejaVuSans-48\"/>\r\n      </g>\r\n     </g>\r\n    </g>\r\n    <g id=\"xtick_2\">\r\n     <g id=\"line2d_2\">\r\n      <g>\r\n       <use style=\"stroke:#000000;stroke-width:0.8;\" x=\"192.23489\" xlink:href=\"#mebe218e7d0\" y=\"224.64\"/>\r\n      </g>\r\n     </g>\r\n     <g id=\"text_2\">\r\n      <!-- 100 -->\r\n      <defs>\r\n       <path d=\"M 12.40625 8.296875 \r\nL 28.515625 8.296875 \r\nL 28.515625 63.921875 \r\nL 10.984375 60.40625 \r\nL 10.984375 69.390625 \r\nL 28.421875 72.90625 \r\nL 38.28125 72.90625 \r\nL 38.28125 8.296875 \r\nL 54.390625 8.296875 \r\nL 54.390625 0 \r\nL 12.40625 0 \r\nz\r\n\" id=\"DejaVuSans-49\"/>\r\n      </defs>\r\n      <g transform=\"translate(182.69114 239.238437)scale(0.1 -0.1)\">\r\n       <use xlink:href=\"#DejaVuSans-49\"/>\r\n       <use x=\"63.623047\" xlink:href=\"#DejaVuSans-48\"/>\r\n       <use x=\"127.246094\" xlink:href=\"#DejaVuSans-48\"/>\r\n      </g>\r\n     </g>\r\n    </g>\r\n    <g id=\"xtick_3\">\r\n     <g id=\"line2d_3\">\r\n      <g>\r\n       <use style=\"stroke:#000000;stroke-width:0.8;\" x=\"333.470916\" xlink:href=\"#mebe218e7d0\" y=\"224.64\"/>\r\n      </g>\r\n     </g>\r\n     <g id=\"text_3\">\r\n      <!-- 200 -->\r\n      <defs>\r\n       <path d=\"M 19.1875 8.296875 \r\nL 53.609375 8.296875 \r\nL 53.609375 0 \r\nL 7.328125 0 \r\nL 7.328125 8.296875 \r\nQ 12.9375 14.109375 22.625 23.890625 \r\nQ 32.328125 33.6875 34.8125 36.53125 \r\nQ 39.546875 41.84375 41.421875 45.53125 \r\nQ 43.3125 49.21875 43.3125 52.78125 \r\nQ 43.3125 58.59375 39.234375 62.25 \r\nQ 35.15625 65.921875 28.609375 65.921875 \r\nQ 23.96875 65.921875 18.8125 64.3125 \r\nQ 13.671875 62.703125 7.8125 59.421875 \r\nL 7.8125 69.390625 \r\nQ 13.765625 71.78125 18.9375 73 \r\nQ 24.125 74.21875 28.421875 74.21875 \r\nQ 39.75 74.21875 46.484375 68.546875 \r\nQ 53.21875 62.890625 53.21875 53.421875 \r\nQ 53.21875 48.921875 51.53125 44.890625 \r\nQ 49.859375 40.875 45.40625 35.40625 \r\nQ 44.1875 33.984375 37.640625 27.21875 \r\nQ 31.109375 20.453125 19.1875 8.296875 \r\nz\r\n\" id=\"DejaVuSans-50\"/>\r\n      </defs>\r\n      <g transform=\"translate(323.927166 239.238437)scale(0.1 -0.1)\">\r\n       <use xlink:href=\"#DejaVuSans-50\"/>\r\n       <use x=\"63.623047\" xlink:href=\"#DejaVuSans-48\"/>\r\n       <use x=\"127.246094\" xlink:href=\"#DejaVuSans-48\"/>\r\n      </g>\r\n     </g>\r\n    </g>\r\n    <g id=\"xtick_4\">\r\n     <g id=\"line2d_4\">\r\n      <g>\r\n       <use style=\"stroke:#000000;stroke-width:0.8;\" x=\"474.706942\" xlink:href=\"#mebe218e7d0\" y=\"224.64\"/>\r\n      </g>\r\n     </g>\r\n     <g id=\"text_4\">\r\n      <!-- 300 -->\r\n      <defs>\r\n       <path d=\"M 40.578125 39.3125 \r\nQ 47.65625 37.796875 51.625 33 \r\nQ 55.609375 28.21875 55.609375 21.1875 \r\nQ 55.609375 10.40625 48.1875 4.484375 \r\nQ 40.765625 -1.421875 27.09375 -1.421875 \r\nQ 22.515625 -1.421875 17.65625 -0.515625 \r\nQ 12.796875 0.390625 7.625 2.203125 \r\nL 7.625 11.71875 \r\nQ 11.71875 9.328125 16.59375 8.109375 \r\nQ 21.484375 6.890625 26.8125 6.890625 \r\nQ 36.078125 6.890625 40.9375 10.546875 \r\nQ 45.796875 14.203125 45.796875 21.1875 \r\nQ 45.796875 27.640625 41.28125 31.265625 \r\nQ 36.765625 34.90625 28.71875 34.90625 \r\nL 20.21875 34.90625 \r\nL 20.21875 43.015625 \r\nL 29.109375 43.015625 \r\nQ 36.375 43.015625 40.234375 45.921875 \r\nQ 44.09375 48.828125 44.09375 54.296875 \r\nQ 44.09375 59.90625 40.109375 62.90625 \r\nQ 36.140625 65.921875 28.71875 65.921875 \r\nQ 24.65625 65.921875 20.015625 65.03125 \r\nQ 15.375 64.15625 9.8125 62.3125 \r\nL 9.8125 71.09375 \r\nQ 15.4375 72.65625 20.34375 73.4375 \r\nQ 25.25 74.21875 29.59375 74.21875 \r\nQ 40.828125 74.21875 47.359375 69.109375 \r\nQ 53.90625 64.015625 53.90625 55.328125 \r\nQ 53.90625 49.265625 50.4375 45.09375 \r\nQ 46.96875 40.921875 40.578125 39.3125 \r\nz\r\n\" id=\"DejaVuSans-51\"/>\r\n      </defs>\r\n      <g transform=\"translate(465.163192 239.238437)scale(0.1 -0.1)\">\r\n       <use xlink:href=\"#DejaVuSans-51\"/>\r\n       <use x=\"63.623047\" xlink:href=\"#DejaVuSans-48\"/>\r\n       <use x=\"127.246094\" xlink:href=\"#DejaVuSans-48\"/>\r\n      </g>\r\n     </g>\r\n    </g>\r\n    <g id=\"xtick_5\">\r\n     <g id=\"line2d_5\">\r\n      <g>\r\n       <use style=\"stroke:#000000;stroke-width:0.8;\" x=\"615.942968\" xlink:href=\"#mebe218e7d0\" y=\"224.64\"/>\r\n      </g>\r\n     </g>\r\n     <g id=\"text_5\">\r\n      <!-- 400 -->\r\n      <defs>\r\n       <path d=\"M 37.796875 64.3125 \r\nL 12.890625 25.390625 \r\nL 37.796875 25.390625 \r\nz\r\nM 35.203125 72.90625 \r\nL 47.609375 72.90625 \r\nL 47.609375 25.390625 \r\nL 58.015625 25.390625 \r\nL 58.015625 17.1875 \r\nL 47.609375 17.1875 \r\nL 47.609375 0 \r\nL 37.796875 0 \r\nL 37.796875 17.1875 \r\nL 4.890625 17.1875 \r\nL 4.890625 26.703125 \r\nz\r\n\" id=\"DejaVuSans-52\"/>\r\n      </defs>\r\n      <g transform=\"translate(606.399218 239.238437)scale(0.1 -0.1)\">\r\n       <use xlink:href=\"#DejaVuSans-52\"/>\r\n       <use x=\"63.623047\" xlink:href=\"#DejaVuSans-48\"/>\r\n       <use x=\"127.246094\" xlink:href=\"#DejaVuSans-48\"/>\r\n      </g>\r\n     </g>\r\n    </g>\r\n   </g>\r\n   <g id=\"matplotlib.axis_2\">\r\n    <g id=\"ytick_1\">\r\n     <g id=\"line2d_6\">\r\n      <defs>\r\n       <path d=\"M 0 0 \r\nL -3.5 0 \r\n\" id=\"m1449aa96c7\" style=\"stroke:#000000;stroke-width:0.8;\"/>\r\n      </defs>\r\n      <g>\r\n       <use style=\"stroke:#000000;stroke-width:0.8;\" x=\"20.5625\" xlink:href=\"#m1449aa96c7\" y=\"198.357777\"/>\r\n      </g>\r\n     </g>\r\n     <g id=\"text_6\">\r\n      <!-- 3 -->\r\n      <g transform=\"translate(7.2 202.156996)scale(0.1 -0.1)\">\r\n       <use xlink:href=\"#DejaVuSans-51\"/>\r\n      </g>\r\n     </g>\r\n    </g>\r\n    <g id=\"ytick_2\">\r\n     <g id=\"line2d_7\">\r\n      <g>\r\n       <use style=\"stroke:#000000;stroke-width:0.8;\" x=\"20.5625\" xlink:href=\"#m1449aa96c7\" y=\"166.261244\"/>\r\n      </g>\r\n     </g>\r\n     <g id=\"text_7\">\r\n      <!-- 4 -->\r\n      <g transform=\"translate(7.2 170.060463)scale(0.1 -0.1)\">\r\n       <use xlink:href=\"#DejaVuSans-52\"/>\r\n      </g>\r\n     </g>\r\n    </g>\r\n    <g id=\"ytick_3\">\r\n     <g id=\"line2d_8\">\r\n      <g>\r\n       <use style=\"stroke:#000000;stroke-width:0.8;\" x=\"20.5625\" xlink:href=\"#m1449aa96c7\" y=\"134.164711\"/>\r\n      </g>\r\n     </g>\r\n     <g id=\"text_8\">\r\n      <!-- 5 -->\r\n      <defs>\r\n       <path d=\"M 10.796875 72.90625 \r\nL 49.515625 72.90625 \r\nL 49.515625 64.59375 \r\nL 19.828125 64.59375 \r\nL 19.828125 46.734375 \r\nQ 21.96875 47.46875 24.109375 47.828125 \r\nQ 26.265625 48.1875 28.421875 48.1875 \r\nQ 40.625 48.1875 47.75 41.5 \r\nQ 54.890625 34.8125 54.890625 23.390625 \r\nQ 54.890625 11.625 47.5625 5.09375 \r\nQ 40.234375 -1.421875 26.90625 -1.421875 \r\nQ 22.3125 -1.421875 17.546875 -0.640625 \r\nQ 12.796875 0.140625 7.71875 1.703125 \r\nL 7.71875 11.625 \r\nQ 12.109375 9.234375 16.796875 8.0625 \r\nQ 21.484375 6.890625 26.703125 6.890625 \r\nQ 35.15625 6.890625 40.078125 11.328125 \r\nQ 45.015625 15.765625 45.015625 23.390625 \r\nQ 45.015625 31 40.078125 35.4375 \r\nQ 35.15625 39.890625 26.703125 39.890625 \r\nQ 22.75 39.890625 18.8125 39.015625 \r\nQ 14.890625 38.140625 10.796875 36.28125 \r\nz\r\n\" id=\"DejaVuSans-53\"/>\r\n      </defs>\r\n      <g transform=\"translate(7.2 137.96393)scale(0.1 -0.1)\">\r\n       <use xlink:href=\"#DejaVuSans-53\"/>\r\n      </g>\r\n     </g>\r\n    </g>\r\n    <g id=\"ytick_4\">\r\n     <g id=\"line2d_9\">\r\n      <g>\r\n       <use style=\"stroke:#000000;stroke-width:0.8;\" x=\"20.5625\" xlink:href=\"#m1449aa96c7\" y=\"102.068178\"/>\r\n      </g>\r\n     </g>\r\n     <g id=\"text_9\">\r\n      <!-- 6 -->\r\n      <defs>\r\n       <path d=\"M 33.015625 40.375 \r\nQ 26.375 40.375 22.484375 35.828125 \r\nQ 18.609375 31.296875 18.609375 23.390625 \r\nQ 18.609375 15.53125 22.484375 10.953125 \r\nQ 26.375 6.390625 33.015625 6.390625 \r\nQ 39.65625 6.390625 43.53125 10.953125 \r\nQ 47.40625 15.53125 47.40625 23.390625 \r\nQ 47.40625 31.296875 43.53125 35.828125 \r\nQ 39.65625 40.375 33.015625 40.375 \r\nz\r\nM 52.59375 71.296875 \r\nL 52.59375 62.3125 \r\nQ 48.875 64.0625 45.09375 64.984375 \r\nQ 41.3125 65.921875 37.59375 65.921875 \r\nQ 27.828125 65.921875 22.671875 59.328125 \r\nQ 17.53125 52.734375 16.796875 39.40625 \r\nQ 19.671875 43.65625 24.015625 45.921875 \r\nQ 28.375 48.1875 33.59375 48.1875 \r\nQ 44.578125 48.1875 50.953125 41.515625 \r\nQ 57.328125 34.859375 57.328125 23.390625 \r\nQ 57.328125 12.15625 50.6875 5.359375 \r\nQ 44.046875 -1.421875 33.015625 -1.421875 \r\nQ 20.359375 -1.421875 13.671875 8.265625 \r\nQ 6.984375 17.96875 6.984375 36.375 \r\nQ 6.984375 53.65625 15.1875 63.9375 \r\nQ 23.390625 74.21875 37.203125 74.21875 \r\nQ 40.921875 74.21875 44.703125 73.484375 \r\nQ 48.484375 72.75 52.59375 71.296875 \r\nz\r\n\" id=\"DejaVuSans-54\"/>\r\n      </defs>\r\n      <g transform=\"translate(7.2 105.867397)scale(0.1 -0.1)\">\r\n       <use xlink:href=\"#DejaVuSans-54\"/>\r\n      </g>\r\n     </g>\r\n    </g>\r\n    <g id=\"ytick_5\">\r\n     <g id=\"line2d_10\">\r\n      <g>\r\n       <use style=\"stroke:#000000;stroke-width:0.8;\" x=\"20.5625\" xlink:href=\"#m1449aa96c7\" y=\"69.971645\"/>\r\n      </g>\r\n     </g>\r\n     <g id=\"text_10\">\r\n      <!-- 7 -->\r\n      <defs>\r\n       <path d=\"M 8.203125 72.90625 \r\nL 55.078125 72.90625 \r\nL 55.078125 68.703125 \r\nL 28.609375 0 \r\nL 18.3125 0 \r\nL 43.21875 64.59375 \r\nL 8.203125 64.59375 \r\nz\r\n\" id=\"DejaVuSans-55\"/>\r\n      </defs>\r\n      <g transform=\"translate(7.2 73.770863)scale(0.1 -0.1)\">\r\n       <use xlink:href=\"#DejaVuSans-55\"/>\r\n      </g>\r\n     </g>\r\n    </g>\r\n    <g id=\"ytick_6\">\r\n     <g id=\"line2d_11\">\r\n      <g>\r\n       <use style=\"stroke:#000000;stroke-width:0.8;\" x=\"20.5625\" xlink:href=\"#m1449aa96c7\" y=\"37.875111\"/>\r\n      </g>\r\n     </g>\r\n     <g id=\"text_11\">\r\n      <!-- 8 -->\r\n      <defs>\r\n       <path d=\"M 31.78125 34.625 \r\nQ 24.75 34.625 20.71875 30.859375 \r\nQ 16.703125 27.09375 16.703125 20.515625 \r\nQ 16.703125 13.921875 20.71875 10.15625 \r\nQ 24.75 6.390625 31.78125 6.390625 \r\nQ 38.8125 6.390625 42.859375 10.171875 \r\nQ 46.921875 13.96875 46.921875 20.515625 \r\nQ 46.921875 27.09375 42.890625 30.859375 \r\nQ 38.875 34.625 31.78125 34.625 \r\nz\r\nM 21.921875 38.8125 \r\nQ 15.578125 40.375 12.03125 44.71875 \r\nQ 8.5 49.078125 8.5 55.328125 \r\nQ 8.5 64.0625 14.71875 69.140625 \r\nQ 20.953125 74.21875 31.78125 74.21875 \r\nQ 42.671875 74.21875 48.875 69.140625 \r\nQ 55.078125 64.0625 55.078125 55.328125 \r\nQ 55.078125 49.078125 51.53125 44.71875 \r\nQ 48 40.375 41.703125 38.8125 \r\nQ 48.828125 37.15625 52.796875 32.3125 \r\nQ 56.78125 27.484375 56.78125 20.515625 \r\nQ 56.78125 9.90625 50.3125 4.234375 \r\nQ 43.84375 -1.421875 31.78125 -1.421875 \r\nQ 19.734375 -1.421875 13.25 4.234375 \r\nQ 6.78125 9.90625 6.78125 20.515625 \r\nQ 6.78125 27.484375 10.78125 32.3125 \r\nQ 14.796875 37.15625 21.921875 38.8125 \r\nz\r\nM 18.3125 54.390625 \r\nQ 18.3125 48.734375 21.84375 45.5625 \r\nQ 25.390625 42.390625 31.78125 42.390625 \r\nQ 38.140625 42.390625 41.71875 45.5625 \r\nQ 45.3125 48.734375 45.3125 54.390625 \r\nQ 45.3125 60.0625 41.71875 63.234375 \r\nQ 38.140625 66.40625 31.78125 66.40625 \r\nQ 25.390625 66.40625 21.84375 63.234375 \r\nQ 18.3125 60.0625 18.3125 54.390625 \r\nz\r\n\" id=\"DejaVuSans-56\"/>\r\n      </defs>\r\n      <g transform=\"translate(7.2 41.67433)scale(0.1 -0.1)\">\r\n       <use xlink:href=\"#DejaVuSans-56\"/>\r\n      </g>\r\n     </g>\r\n    </g>\r\n   </g>\r\n   <g id=\"line2d_12\">\r\n    <path clip-path=\"url(#p7b1413581b)\" d=\"M 50.998864 17.083636 \r\nL 52.411224 18.052431 \r\nL 53.823584 19.212965 \r\nL 55.235944 21.119456 \r\nL 56.648305 22.439956 \r\nL 58.060665 26.438707 \r\nL 59.473025 29.22094 \r\nL 60.885385 36.985932 \r\nL 62.297746 41.367564 \r\nL 63.710106 42.299597 \r\nL 65.122466 46.335264 \r\nL 66.534827 55.63008 \r\nL 67.947187 60.411611 \r\nL 69.359547 73.096751 \r\nL 70.771907 71.843669 \r\nL 72.184268 82.532953 \r\nL 73.596628 83.022539 \r\nL 75.008988 85.704402 \r\nL 76.421348 106.936274 \r\nL 77.833709 106.836639 \r\nL 79.246069 114.447252 \r\nL 80.658429 109.066521 \r\nL 82.070789 128.38806 \r\nL 83.48315 86.850351 \r\nL 84.89551 89.783076 \r\nL 86.30787 82.613992 \r\nL 87.72023 45.698094 \r\nL 89.132591 103.596211 \r\nL 90.544951 50.283326 \r\nL 91.957311 102.416286 \r\nL 93.369671 67.025865 \r\nL 94.782032 79.335531 \r\nL 96.194392 84.005919 \r\nL 97.606752 90.352292 \r\nL 99.019113 82.49991 \r\nL 100.431473 94.060329 \r\nL 101.843833 98.714234 \r\nL 103.256193 90.494214 \r\nL 104.668554 94.906073 \r\nL 106.080914 83.994303 \r\nL 107.493274 94.251073 \r\nL 108.905634 91.815357 \r\nL 110.317995 86.650837 \r\nL 111.730355 99.027248 \r\nL 113.142715 90.858974 \r\nL 114.555075 95.443471 \r\nL 115.967436 85.901161 \r\nL 117.379796 99.081565 \r\nL 118.792156 126.90539 \r\nL 120.204516 102.293679 \r\nL 121.616877 122.12496 \r\nL 123.029237 107.900982 \r\nL 124.441597 119.627015 \r\nL 125.853957 121.903132 \r\nL 127.266318 105.438238 \r\nL 128.678678 120.835514 \r\nL 130.091038 110.951784 \r\nL 131.503399 122.834675 \r\nL 132.915759 116.203633 \r\nL 134.328119 106.243011 \r\nL 135.740479 95.07862 \r\nL 137.15284 109.302873 \r\nL 138.5652 117.446522 \r\nL 139.97756 119.584467 \r\nL 141.38992 105.883731 \r\nL 142.802281 127.014422 \r\nL 144.214641 107.211592 \r\nL 145.627001 123.805139 \r\nL 147.039361 107.671027 \r\nL 148.451722 123.513582 \r\nL 149.864082 117.103281 \r\nL 151.276442 98.301861 \r\nL 152.688802 122.043034 \r\nL 154.101163 93.798387 \r\nL 155.513523 117.199242 \r\nL 156.925883 111.211797 \r\nL 159.750604 114.943097 \r\nL 161.162964 117.257737 \r\nL 162.575324 130.090308 \r\nL 163.987685 124.315248 \r\nL 165.400045 120.590866 \r\nL 166.812405 118.227588 \r\nL 168.224765 117.340612 \r\nL 169.637126 126.204108 \r\nL 171.049486 114.281026 \r\nL 172.461846 117.517827 \r\nL 173.874206 118.451972 \r\nL 175.286567 132.522841 \r\nL 176.698927 117.855757 \r\nL 178.111287 115.177475 \r\nL 179.523647 130.433671 \r\nL 180.936008 129.129027 \r\nL 182.348368 125.904103 \r\nL 183.760728 137.34268 \r\nL 185.173088 143.61761 \r\nL 186.585449 137.117026 \r\nL 187.997809 116.953722 \r\nL 189.410169 116.903813 \r\nL 190.82253 117.747904 \r\nL 192.23489 103.779027 \r\nL 193.64725 113.817014 \r\nL 195.05961 128.348512 \r\nL 196.471971 127.665244 \r\nL 197.884331 114.063162 \r\nL 199.296691 120.219097 \r\nL 200.709051 133.395889 \r\nL 202.121412 144.435714 \r\nL 203.533772 131.375989 \r\nL 204.946132 122.915026 \r\nL 206.358492 126.108851 \r\nL 207.770853 124.181607 \r\nL 209.183213 108.258931 \r\nL 210.595573 112.866233 \r\nL 212.007933 123.693 \r\nL 213.420294 104.201379 \r\nL 214.832654 116.112799 \r\nL 216.245014 100.314735 \r\nL 217.657374 87.705691 \r\nL 219.069735 110.640117 \r\nL 220.482095 124.853703 \r\nL 221.894455 112.062026 \r\nL 223.306816 114.330078 \r\nL 224.719176 124.144814 \r\nL 226.131536 121.051343 \r\nL 227.543896 123.322761 \r\nL 228.956257 109.415593 \r\nL 230.368617 113.286733 \r\nL 231.780977 127.344088 \r\nL 233.193337 104.272409 \r\nL 234.605698 129.071068 \r\nL 236.018058 143.548769 \r\nL 237.430418 141.005032 \r\nL 238.842778 159.133637 \r\nL 240.255139 127.278154 \r\nL 241.667499 132.844976 \r\nL 243.079859 125.135418 \r\nL 244.492219 108.769408 \r\nL 245.90458 133.212812 \r\nL 247.31694 100.538492 \r\nL 248.7293 106.082617 \r\nL 250.141661 107.398296 \r\nL 251.554021 128.955639 \r\nL 252.966381 146.249412 \r\nL 254.378741 141.441143 \r\nL 255.791102 127.235255 \r\nL 257.203462 120.689414 \r\nL 258.615822 102.31307 \r\nL 260.028182 107.218663 \r\nL 261.440543 38.023216 \r\nL 262.852903 83.360821 \r\nL 264.265263 137.745136 \r\nL 265.677623 139.04955 \r\nL 267.089984 129.499572 \r\nL 268.502344 134.255668 \r\nL 269.914704 147.573218 \r\nL 271.327064 141.940248 \r\nL 272.739425 129.707902 \r\nL 274.151785 137.261167 \r\nL 275.564145 140.502498 \r\nL 276.976505 125.840542 \r\nL 278.388866 156.002133 \r\nL 279.801226 142.832534 \r\nL 281.213586 165.817282 \r\nL 282.625947 145.20971 \r\nL 284.038307 155.496263 \r\nL 285.450667 131.271595 \r\nL 286.863027 124.635226 \r\nL 288.275388 131.466946 \r\nL 289.687748 144.947599 \r\nL 291.100108 117.578113 \r\nL 292.512468 130.866767 \r\nL 293.924829 156.538766 \r\nL 295.337189 144.112431 \r\nL 298.161909 170.116712 \r\nL 299.57427 140.018192 \r\nL 300.98663 138.884763 \r\nL 302.39899 147.460345 \r\nL 305.223711 153.521329 \r\nL 306.636071 118.628896 \r\nL 308.048431 171.699881 \r\nL 309.460791 149.437161 \r\nL 310.873152 185.94449 \r\nL 312.285512 161.042775 \r\nL 313.697872 182.152009 \r\nL 315.110233 151.166544 \r\nL 316.522593 139.915176 \r\nL 317.934953 162.04469 \r\nL 319.347313 164.28155 \r\nL 320.759674 112.902383 \r\nL 322.172034 152.491345 \r\nL 323.584394 165.328691 \r\nL 324.996754 160.549287 \r\nL 326.409115 154.817754 \r\nL 327.821475 151.586692 \r\nL 329.233835 172.444537 \r\nL 330.646195 155.216904 \r\nL 332.058556 171.143176 \r\nL 333.470916 160.809269 \r\nL 334.883276 122.116283 \r\nL 336.295636 127.350669 \r\nL 337.707997 146.652021 \r\nL 339.120357 119.985699 \r\nL 340.532717 118.232838 \r\nL 341.945078 155.533514 \r\nL 343.357438 147.65545 \r\nL 344.769798 161.1944 \r\nL 346.182158 136.925318 \r\nL 347.594519 160.151101 \r\nL 349.006879 208.342887 \r\nL 350.419239 189.260776 \r\nL 351.831599 154.380664 \r\nL 353.24396 188.370793 \r\nL 354.65632 185.622989 \r\nL 356.06868 177.014013 \r\nL 357.48104 144.233951 \r\nL 358.893401 159.151819 \r\nL 360.305761 180.646872 \r\nL 361.718121 164.513924 \r\nL 363.130481 182.951716 \r\nL 364.542842 175.207156 \r\nL 365.955202 144.129312 \r\nL 367.367562 156.778638 \r\nL 368.779922 120.765816 \r\nL 370.192283 155.789472 \r\nL 371.604643 174.758625 \r\nL 373.017003 182.368098 \r\nL 374.429364 146.348266 \r\nL 375.841724 168.184149 \r\nL 377.254084 168.556791 \r\nL 378.666444 163.710987 \r\nL 380.078805 156.392145 \r\nL 381.491165 184.533485 \r\nL 382.903525 135.35515 \r\nL 384.315885 173.0505 \r\nL 385.728246 189.791999 \r\nL 387.140606 189.772347 \r\nL 388.552966 182.861479 \r\nL 389.965326 160.892849 \r\nL 391.377687 179.764939 \r\nL 392.790047 196.527765 \r\nL 394.202407 156.67706 \r\nL 395.614767 174.828492 \r\nL 397.027128 153.745253 \r\nL 398.439488 175.037334 \r\nL 399.851848 185.533693 \r\nL 401.264209 133.80338 \r\nL 402.676569 122.342748 \r\nL 404.088929 156.159191 \r\nL 405.501289 140.718862 \r\nL 406.91365 153.295705 \r\nL 408.32601 175.627136 \r\nL 409.73837 158.133283 \r\nL 411.15073 176.058188 \r\nL 412.563091 170.143572 \r\nL 413.975451 171.930953 \r\nL 415.387811 145.193364 \r\nL 416.800171 143.877593 \r\nL 418.212532 166.00247 \r\nL 419.624892 144.035539 \r\nL 421.037252 127.766684 \r\nL 422.449612 148.814683 \r\nL 423.861973 144.500377 \r\nL 425.274333 146.409332 \r\nL 426.686693 140.594067 \r\nL 428.099053 159.337726 \r\nL 429.511414 200.600676 \r\nL 430.923774 166.937205 \r\nL 432.336134 163.210198 \r\nL 433.748495 171.58299 \r\nL 435.160855 167.826269 \r\nL 436.573215 176.202941 \r\nL 437.985575 122.705686 \r\nL 439.397936 133.786208 \r\nL 440.810296 161.911507 \r\nL 442.222656 159.427856 \r\nL 443.635016 179.935205 \r\nL 445.047377 145.64657 \r\nL 446.459737 187.058596 \r\nL 447.872097 152.504446 \r\nL 449.284457 135.467687 \r\nL 450.696818 140.127943 \r\nL 452.109178 123.29633 \r\nL 453.521538 164.071124 \r\nL 454.933898 147.213799 \r\nL 456.346259 156.717067 \r\nL 457.758619 168.49711 \r\nL 459.170979 161.998546 \r\nL 460.583339 164.261746 \r\nL 461.9957 177.557295 \r\nL 463.40806 170.089224 \r\nL 464.82042 179.383466 \r\nL 466.232781 150.284956 \r\nL 467.645141 169.146386 \r\nL 469.057501 143.561396 \r\nL 470.469861 144.63884 \r\nL 471.882222 157.114273 \r\nL 473.294582 143.946756 \r\nL 474.706942 173.996629 \r\nL 477.531663 142.883438 \r\nL 478.944023 143.57566 \r\nL 480.356383 137.873956 \r\nL 481.768743 173.498197 \r\nL 483.181104 176.489126 \r\nL 484.593464 164.851869 \r\nL 486.005824 186.951332 \r\nL 487.418184 159.742814 \r\nL 488.830545 161.333199 \r\nL 490.242905 184.371751 \r\nL 491.655265 185.284377 \r\nL 493.067626 164.885938 \r\nL 494.479986 181.093397 \r\nL 495.892346 159.718908 \r\nL 497.304706 172.186712 \r\nL 498.717067 152.876705 \r\nL 500.129427 157.274943 \r\nL 501.541787 193.864428 \r\nL 502.954147 163.159738 \r\nL 504.366508 165.05426 \r\nL 505.778868 144.380265 \r\nL 507.191228 141.252557 \r\nL 508.603588 151.67722 \r\nL 510.015949 182.242208 \r\nL 511.428309 208.716003 \r\nL 514.253029 156.414536 \r\nL 515.66539 159.31806 \r\nL 517.07775 158.911196 \r\nL 518.49011 149.742752 \r\nL 519.90247 117.09295 \r\nL 521.314831 171.954163 \r\nL 522.727191 189.862126 \r\nL 524.139551 163.908021 \r\nL 525.551912 170.535077 \r\nL 526.964272 162.538867 \r\nL 528.376632 177.344436 \r\nL 529.788992 184.87632 \r\nL 531.201353 165.409255 \r\nL 532.613713 139.563302 \r\nL 534.026073 164.456791 \r\nL 535.438433 132.064477 \r\nL 536.850794 124.391466 \r\nL 538.263154 171.591714 \r\nL 539.675514 169.2058 \r\nL 541.087874 158.616441 \r\nL 542.500235 141.882625 \r\nL 543.912595 149.869798 \r\nL 545.324955 152.179815 \r\nL 546.737315 173.697336 \r\nL 548.149676 192.987186 \r\nL 549.562036 164.887744 \r\nL 550.974396 158.754307 \r\nL 552.386756 161.62194 \r\nL 553.799117 176.001974 \r\nL 556.623837 214.756364 \r\nL 558.036198 188.237052 \r\nL 559.448558 193.723302 \r\nL 560.860918 194.73766 \r\nL 562.273278 187.765449 \r\nL 563.685639 144.291742 \r\nL 565.097999 191.346639 \r\nL 566.510359 143.367132 \r\nL 567.922719 133.408882 \r\nL 569.33508 127.313264 \r\nL 570.74744 154.493644 \r\nL 572.1598 151.800195 \r\nL 573.57216 140.424795 \r\nL 574.984521 136.680058 \r\nL 576.396881 156.500978 \r\nL 577.809241 166.334677 \r\nL 579.221601 156.056358 \r\nL 580.633962 167.289506 \r\nL 582.046322 165.191697 \r\nL 583.458682 159.427061 \r\nL 584.871043 177.186865 \r\nL 586.283403 175.606076 \r\nL 587.695763 138.229794 \r\nL 589.108123 151.087572 \r\nL 590.520484 157.602864 \r\nL 591.932844 166.223487 \r\nL 593.345204 138.62703 \r\nL 594.757564 161.091934 \r\nL 596.169925 118.621963 \r\nL 597.582285 141.167278 \r\nL 598.994645 185.945477 \r\nL 600.407005 176.704258 \r\nL 601.819366 164.340872 \r\nL 603.231726 155.769316 \r\nL 604.644086 130.414234 \r\nL 606.056446 155.00611 \r\nL 608.881167 189.596243 \r\nL 610.293527 147.13325 \r\nL 611.705887 131.514957 \r\nL 613.118248 108.920436 \r\nL 614.530608 142.35908 \r\nL 615.942968 120.37738 \r\nL 617.355329 122.127532 \r\nL 618.767689 179.427453 \r\nL 620.180049 181.859541 \r\nL 621.592409 173.252065 \r\nL 623.00477 144.88863 \r\nL 624.41713 143.849448 \r\nL 625.82949 167.031054 \r\nL 627.24185 177.581844 \r\nL 628.654211 131.5111 \r\nL 630.066571 133.009717 \r\nL 631.478931 138.643345 \r\nL 632.891291 125.777318 \r\nL 634.303652 137.167838 \r\nL 635.716012 162.38435 \r\nL 637.128372 152.345658 \r\nL 638.540732 183.557481 \r\nL 639.953093 148.909665 \r\nL 641.365453 142.805598 \r\nL 642.777813 162.652995 \r\nL 644.190173 150.590456 \r\nL 645.602534 178.387995 \r\nL 647.014894 164.860486 \r\nL 648.427254 149.387038 \r\nL 649.839615 162.123892 \r\nL 651.251975 168.046911 \r\nL 652.664335 175.326526 \r\nL 654.076695 145.599248 \r\nL 655.489056 134.449962 \r\nL 656.901416 132.607415 \r\nL 658.313776 146.458353 \r\nL 659.726136 122.230793 \r\nL 659.726136 122.230793 \r\n\" style=\"fill:none;stroke:#1f77b4;stroke-linecap:square;stroke-width:1.5;\"/>\r\n   </g>\r\n   <g id=\"patch_3\">\r\n    <path d=\"M 20.5625 224.64 \r\nL 20.5625 7.2 \r\n\" style=\"fill:none;stroke:#000000;stroke-linecap:square;stroke-linejoin:miter;stroke-width:0.8;\"/>\r\n   </g>\r\n   <g id=\"patch_4\">\r\n    <path d=\"M 690.1625 224.64 \r\nL 690.1625 7.2 \r\n\" style=\"fill:none;stroke:#000000;stroke-linecap:square;stroke-linejoin:miter;stroke-width:0.8;\"/>\r\n   </g>\r\n   <g id=\"patch_5\">\r\n    <path d=\"M 20.5625 224.64 \r\nL 690.1625 224.64 \r\n\" style=\"fill:none;stroke:#000000;stroke-linecap:square;stroke-linejoin:miter;stroke-width:0.8;\"/>\r\n   </g>\r\n   <g id=\"patch_6\">\r\n    <path d=\"M 20.5625 7.2 \r\nL 690.1625 7.2 \r\n\" style=\"fill:none;stroke:#000000;stroke-linecap:square;stroke-linejoin:miter;stroke-width:0.8;\"/>\r\n   </g>\r\n  </g>\r\n </g>\r\n <defs>\r\n  <clipPath id=\"p7b1413581b\">\r\n   <rect height=\"217.44\" width=\"669.6\" x=\"20.5625\" y=\"7.2\"/>\r\n  </clipPath>\r\n </defs>\r\n</svg>\r\n",
      "image/png": "[encoded data removed]"
     },
     "metadata": {
      "needs_background": "light"
     }
    }
   ],
   "source": [
    "plt.figure(figsize=(12,4))\n",
    "\n",
    "plt.plot(batch_losses_np)\n",
    "plt.show();"
   ]
  },
  {
   "cell_type": "markdown",
   "metadata": {},
   "source": [
    "## Extract Embedding"
   ]
  },
  {
   "cell_type": "raw",
   "metadata": {},
   "source": [
    "for group in model.parameters():\n",
    "    print(group.grad)"
   ]
  },
  {
   "cell_type": "code",
   "execution_count": 27,
   "metadata": {
    "tags": []
   },
   "outputs": [
    {
     "output_type": "stream",
     "name": "stdout",
     "text": "W1.weight torch.Size([200, 5656])\nW1.bias torch.Size([200])\nW2.weight torch.Size([5656, 200])\nW2.bias torch.Size([5656])\n"
    }
   ],
   "source": [
    "for name, param in model.named_parameters():\n",
    "    if param.requires_grad:\n",
    "        print(name, param.shape) # param.data"
   ]
  },
  {
   "cell_type": "code",
   "execution_count": 28,
   "metadata": {},
   "outputs": [
    {
     "output_type": "execute_result",
     "data": {
      "text/plain": "(torch.Size([5656, 200]),\n tensor([[ 1.6675e-02,  1.9098e-02,  3.4785e-03,  ...,  3.8808e-03,\n           1.2059e-01,  7.3914e-01],\n         [ 3.8224e-02, -2.5240e-02,  6.6362e-03,  ..., -8.2214e-03,\n           3.7616e-01,  4.9187e-01],\n         [-3.5991e-02, -6.0674e-04,  6.4544e-03,  ..., -6.2446e-02,\n          -4.6587e-01, -6.1681e-01],\n         ...,\n         [-3.8194e-02, -3.3554e-02, -5.1734e-03,  ..., -1.8119e-02,\n          -1.0975e-01, -1.1687e-01],\n         [-5.2359e-02, -1.1665e-04, -2.1740e-02,  ..., -1.5391e-03,\n          -1.7865e-01, -2.4632e-01],\n         [-2.6841e-02,  1.7070e-02,  3.1027e-06,  ..., -2.6845e-02,\n          -3.2920e-01, -4.1289e-01]]))"
     },
     "metadata": {},
     "execution_count": 28
    }
   ],
   "source": [
    "# model.W2.bias.data.view(-1,1)\n",
    "# model.W1.bias.data.T\n",
    "# model.W2.weight.data\n",
    "# model.W1.weight.data.T\n",
    "#Embedding = model.W2.weight.data\n",
    "Embedding = .5*(model.W1.weight.data.T + model.W2.weight.data)\n",
    "\n",
    "\n",
    "Embedding.shape, Embedding"
   ]
  },
  {
   "cell_type": "code",
   "execution_count": null,
   "metadata": {},
   "outputs": [],
   "source": []
  },
  {
   "cell_type": "markdown",
   "metadata": {},
   "source": [
    "## Word Analogies"
   ]
  },
  {
   "cell_type": "code",
   "execution_count": 29,
   "metadata": {},
   "outputs": [],
   "source": [
    "def word_analogy(pos_neg_1=('king','man'),pos_neg_2=('queen','woman'), n_closest = 4, word2idx=None, idx2word=None):\n",
    "    king_w,    man_w = pos_neg_1\n",
    "    queen_w, woman_w = pos_neg_2\n",
    "    \n",
    "    for w in (king_w,man_w,woman_w):\n",
    "        if w not in word2idx:\n",
    "            # raise Exception(f'sorry, word \"{w}\" not in dictionary.')\n",
    "            print(f'sorry, word \"{w}\" not in dictionary.')\n",
    "            return None\n",
    "        \n",
    "    print(f'Expected: {king_w} - {man_w} = {queen_w} - {woman_w}')\n",
    "    \n",
    "    king   = word2idx[king_w]\n",
    "    man    = word2idx[man_w]\n",
    "    woman  = word2idx[woman_w]\n",
    "    \n",
    "    vec = (Embedding[king] - Embedding[man] + Embedding[woman]).view(1,-1) # Embedding[queen]\n",
    "    \n",
    "    \n",
    "    distances = pairwise_distances(vec.reshape(1, -1), Embedding, metric='cosine').reshape(V)\n",
    "    idx = distances.argsort()[:n_closest+3] \n",
    "    idx = [x for x in idx if x not in set([man,king,woman])]\n",
    "    queen_estimated = idx2word[idx[0]]\n",
    "    \n",
    "    print(f'Got:      {king_w} - {man_w} = {queen_estimated} - {woman_w}')\n",
    "    \n",
    "    print(f'Closest {len(idx[:n_closest])} words:')\n",
    "    for i in idx[:n_closest]:\n",
    "        print(f'{idx2word[i]}')"
   ]
  },
  {
   "cell_type": "code",
   "execution_count": 30,
   "metadata": {
    "tags": []
   },
   "outputs": [
    {
     "output_type": "stream",
     "name": "stdout",
     "text": "Expected: father - man = mother - woman\nGot:      father - man = herd - woman\nClosest 10 words:\nherd\nbreach\nderive\nhazard\ncurls\nbreed\nactor\nrule\nlower\ndarling\n\nExpected: prince - king = princess - queen\nGot:      prince - king = several - queen\nClosest 10 words:\nseveral\nthird\nproper\nheavenly\nfreer\nchid\npowers\nwenches\nteeth\nhearts\n\nsorry, word \"me\" not in dictionary.\n\nExpected: brother - man = sister - woman\nGot:      brother - man = trees - woman\nClosest 10 words:\ntrees\nmakeless\nyoungly\nwilder\nunprovident\nexpedition\nstrike\nimpanelled\nenglish\nchaces\n\nExpected: boy - man = girl - woman\nGot:      boy - man = fed - woman\nClosest 10 words:\nfed\npolitic\nexcept\nphysicians\nstretch\nafar\ngentlewoman\nwondrous\npursuit\nowing\n\nExpected: man - woman = husband - wife\nGot:      man - woman = noble - wife\nClosest 10 words:\nnoble\ngo\nwidow\nmessenger\nking\ndiana\ncome\nlady\nfortune\ngood\n\nsorry, word \"she\" not in dictionary.\n\nExpected: king - man = queen - woman\nGot:      king - man = lafeu - woman\nClosest 10 words:\nlafeu\nclown\ncountess\nbertram\ndiana\nhelena\nliege\nay\nparolles\npray\n\n"
    }
   ],
   "source": [
    "analogy_list = [('father', 'man', 'mother', 'woman'),\n",
    "               ('prince','king','princess','queen'),\n",
    "               ('me','i','his','he'),\n",
    "               ('brother','man','sister','woman'),\n",
    "               ('boy','man','girl','woman'),\n",
    "               ('man','woman','husband','wife'),\n",
    "               ('man','woman','he','she'),\n",
    "               ('king','man','queen','woman')]\n",
    "\n",
    "for w1, w2, w3, w4 in analogy_list:\n",
    "    word_analogy(pos_neg_1=(w1,w2),pos_neg_2=(w3,w4), n_closest = 10, word2idx=word2idx, idx2word=idx2word)\n",
    "    print()"
   ]
  },
  {
   "cell_type": "markdown",
   "metadata": {},
   "source": [
    "## Closest Neighbors"
   ]
  },
  {
   "cell_type": "code",
   "execution_count": 31,
   "metadata": {},
   "outputs": [],
   "source": [
    "def get_closest_from(word,n_closest=5, word2idx=None, idx2word=None):\n",
    "    \n",
    "    if word not in word2idx:\n",
    "        # raise Exception(f'sorry, word \"{w}\" not in dictionary.')\n",
    "        print(f'sorry, word \"{word}\" not in dictionary.')\n",
    "        return None\n",
    "    \n",
    "    word_idx = word2idx[word]\n",
    "    vec = Embedding[word_idx]\n",
    "    \n",
    "    distances = pairwise_distances(vec.reshape(1, -1), Embedding, metric='cosine').reshape(V)\n",
    "    idx = distances.argsort()[:n_closest+1] \n",
    "    idx = [x for x in idx if x not in set([word_idx])]\n",
    "    \n",
    "    print(f'Closest {len(idx)} words from {word}:')\n",
    "    for i in idx[:n_closest]:\n",
    "        print(f'{idx2word[i]}') "
   ]
  },
  {
   "cell_type": "code",
   "execution_count": 32,
   "metadata": {
    "tags": []
   },
   "outputs": [
    {
     "output_type": "stream",
     "name": "stdout",
     "text": "Closest 6 words from man:\nwife\nlady\nfortune\ngo\nnoble\nwidow\n\nClosest 6 words from king:\nlafeu\nay\n</s>\ncountess\nbertram\nclown\n\nClosest 6 words from woman:\nperceive\nnights\ngold\nstrike\njustice\nhideous\n\nClosest 6 words from queen:\ngracious\ncondemn\nlepidus\negypt\nlov\niras\n\nClosest 6 words from god:\nplease\nbidding\ncertainty\nliking\nsent\nmelancholy\n\nClosest 6 words from brother:\nmessengers\nperceive\nmeaning\nfreedom\npaper\ndeny\n\nClosest 6 words from sister:\nca\niris\nparson\nforsooth\nhonoured\nknee\n\nClosest 6 words from death:\nremedy\ngot\nrest\nadieu\nmeasure\npeace\n\nClosest 6 words from life:\nworth\nstrange\nhaply\ngrace\nwonder\nintelligence\n\nClosest 6 words from dog:\ndefend\nrightful\nprint\nomit\nvengeance\npredecessor\n\n"
    }
   ],
   "source": [
    "word_list = ['man', 'king', 'woman', 'queen', 'god', 'brother', 'sister', 'death', 'life', 'dog']\n",
    "\n",
    "for word in word_list:\n",
    "    get_closest_from(word,n_closest=6, word2idx=word2idx, idx2word=idx2word)\n",
    "    print()"
   ]
  },
  {
   "cell_type": "markdown",
   "metadata": {},
   "source": [
    "# PCA Visualization of Word-Analogy"
   ]
  },
  {
   "cell_type": "code",
   "execution_count": 33,
   "metadata": {},
   "outputs": [],
   "source": [
    "from sklearn.decomposition import PCA"
   ]
  },
  {
   "cell_type": "code",
   "execution_count": 34,
   "metadata": {},
   "outputs": [],
   "source": [
    "pca = PCA(n_components=2)\n",
    "pca.fit(Embedding)\n",
    "Embedding_2D = pca.transform(Embedding)"
   ]
  },
  {
   "cell_type": "raw",
   "metadata": {},
   "source": [
    "plt.figure(figsize=(11,11))\n",
    "\n",
    "Nplot = 100\n",
    "\n",
    "most_common_words = [word2idx[x[0]] for x in word_count_vocab.most_common(Nplot)]\n",
    "\n",
    "plt.scatter(x=Embedding_2D[most_common_words,0], y=Embedding_2D[most_common_words,1])\n",
    "\n",
    "for i in most_common_words:\n",
    "    plt.annotate(idx2word[i], xy=(Embedding_2D[i,0],Embedding_2D[i,1]))\n",
    "\n",
    "plt.show()"
   ]
  },
  {
   "cell_type": "code",
   "execution_count": 35,
   "metadata": {},
   "outputs": [],
   "source": [
    "import bokeh\n",
    "from bokeh.plotting import figure, output_file, show\n",
    "from bokeh.models import Label"
   ]
  },
  {
   "cell_type": "code",
   "execution_count": 36,
   "metadata": {},
   "outputs": [],
   "source": [
    "p = figure()\n",
    "\n",
    "# output to static HTML file\n",
    "output_file(\"embeeded_word_vectors_pca.html\")\n",
    "\n",
    "Nplot = 1000\n",
    "\n",
    "most_common_words = [word2idx[x[0]] for x in word_count_vocab.most_common(Nplot)]\n",
    "\n",
    "p.scatter(x=Embedding_2D[most_common_words,0], y=Embedding_2D[most_common_words,1])\n",
    "\n",
    "for i in most_common_words:\n",
    "    my_text = Label(text=idx2word[i], x=Embedding_2D[i,0],y=Embedding_2D[i,1])\n",
    "    p.add_layout(my_text)\n",
    "    \n",
    "show(p)"
   ]
  },
  {
   "cell_type": "code",
   "execution_count": 37,
   "metadata": {},
   "outputs": [],
   "source": [
    "words = ['king', 'queen',\n",
    "         'lord', 'lady',\n",
    "         'man', 'woman',\n",
    "         'dog','wolf',\n",
    "         'rich','poor',\n",
    "         'happy','sad']\n",
    "\n",
    "\n",
    "p = figure()\n",
    "\n",
    "# output to static HTML file\n",
    "output_file(\"embeeded_word_vectors_pca_wordlist.html\")\n",
    "\n",
    "most_common_words = [word2idx[x] for x in words if x in word2idx]\n",
    "\n",
    "p.scatter(x=Embedding_2D[most_common_words,0], y=Embedding_2D[most_common_words,1])\n",
    "\n",
    "for i in most_common_words:\n",
    "    my_text = Label(text=idx2word[i], x=Embedding_2D[i,0],y=Embedding_2D[i,1])\n",
    "    p.add_layout(my_text)\n",
    "    \n",
    "show(p)"
   ]
  },
  {
   "cell_type": "code",
   "execution_count": null,
   "metadata": {},
   "outputs": [],
   "source": []
  }
 ],
 "metadata": {
  "kernelspec": {
   "display_name": "Python 3.7.3 64-bit ('tensorflow': conda)",
   "language": "python",
   "name": "python37364bittensorflowconda98ea7fa0f93544439bd2db2ab29570c7"
  },
  "language_info": {
   "codemirror_mode": {
    "name": "ipython",
    "version": 3
   },
   "file_extension": ".py",
   "mimetype": "text/x-python",
   "name": "python",
   "nbconvert_exporter": "python",
   "pygments_lexer": "ipython3",
   "version": "3.7.3-final"
  }
 },
 "nbformat": 4,
 "nbformat_minor": 4
}