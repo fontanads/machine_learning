{
 "cells": [
  {
   "cell_type": "markdown",
   "metadata": {},
   "source": [
    "# Creating NLP Word Embeddings with PyTorch"
   ]
  },
  {
   "cell_type": "code",
   "execution_count": 1,
   "metadata": {},
   "outputs": [],
   "source": [
    "# https://stackoverflow.com/questions/50747947/embedding-in-pytorch\n",
    "# https://pytorch.org/tutorials/beginner/nlp/word_embeddings_tutorial.html"
   ]
  },
  {
   "cell_type": "code",
   "execution_count": 2,
   "metadata": {},
   "outputs": [],
   "source": [
    "import sys\n",
    "sys.path.append(\"..\") # Adds higher directory to python modules path.\n",
    "\n",
    "from IPython.display import clear_output\n",
    "import time"
   ]
  },
  {
   "cell_type": "code",
   "execution_count": 3,
   "metadata": {},
   "outputs": [],
   "source": [
    "import numpy as np\n",
    "from sklearn.metrics.pairwise import pairwise_distances"
   ]
  },
  {
   "cell_type": "code",
   "execution_count": 4,
   "metadata": {},
   "outputs": [],
   "source": [
    "import torch\n",
    "import torch.nn as nn\n",
    "import torch.nn.functional as F\n",
    "import torch.optim as optim"
   ]
  },
  {
   "cell_type": "code",
   "execution_count": 5,
   "metadata": {},
   "outputs": [],
   "source": [
    "#import mpld3\n",
    "#mpld3.enable_notebook()\n",
    "#!pip install --user \"git+https://github.com/javadba/mpld3@display_fix\""
   ]
  },
  {
   "cell_type": "code",
   "execution_count": 6,
   "metadata": {},
   "outputs": [],
   "source": [
    "%matplotlib inline\n",
    "import matplotlib.pyplot as plt"
   ]
  },
  {
   "cell_type": "code",
   "execution_count": 7,
   "metadata": {},
   "outputs": [],
   "source": [
    "import nltk\n",
    "from nltk.corpus import gutenberg\n",
    "import re\n",
    "from collections import Counter # collections library; counter: dict subclass for counting hashable objects\n",
    "\n",
    "from nltk.corpus import stopwords \n",
    "stop_words = set(stopwords.words('english')) "
   ]
  },
  {
   "cell_type": "code",
   "execution_count": 8,
   "metadata": {},
   "outputs": [],
   "source": [
    "from nlp_labs.utils2 import my_sentence_tokenizer, get_all_tokens, encode_sentence"
   ]
  },
  {
   "cell_type": "markdown",
   "metadata": {},
   "source": [
    "## Load and Preprocess Corpus"
   ]
  },
  {
   "cell_type": "code",
   "execution_count": 9,
   "metadata": {},
   "outputs": [],
   "source": [
    "tag_start = '<s>'\n",
    "tag_end = '</s>'\n",
    "tag_oov = '<unk>'\n",
    "tag_pad = '<pad>'\n",
    "\n",
    "tags = dict({'tag_start':tag_start, 'tag_end':tag_end,'tag_oov':tag_oov, 'tag_pad':tag_pad})\n",
    "\n",
    "use_tags = True"
   ]
  },
  {
   "cell_type": "code",
   "execution_count": 10,
   "metadata": {},
   "outputs": [
    {
     "name": "stdout",
     "output_type": "stream",
     "text": [
      "<class 'str'> 306996\n",
      "After cleaning:  55296 tokens, first 100  ['<s>', 'muse', 'fire', '.', '</s>', '<s>', 'would', 'ascend', 'brightest', 'heaven', 'invention', '.', '</s>', '<s>', 'kingdom', 'stage', '.', '</s>', '<s>', 'princes', 'act', 'monarchs', 'behold', 'swelling', 'scene', '.', '</s>', '<s>', 'warlike', 'harry', '.', '</s>', '<s>', 'like', '.', '</s>', '<s>', 'assume', 'port', 'mars', '.', '</s>', '<s>', 'heels', '.', '</s>', '<s>', 'leash', 'like', 'hounds', '.', '</s>', '<s>', 'famine', '.', '</s>', '<s>', 'sword', 'fire', 'crouch', 'employment', '.', '</s>', '<s>', 'pardon', '.', '</s>', '<s>', 'gentles', '.', '</s>', '<s>', 'flat', 'unraised', 'spirits', 'dared', 'unworthy', 'scaffold', 'bring', 'forth', 'great', 'object', 'cockpit', 'hold', 'vasty', 'fields', 'france', '.', '</s>', '<s>', 'may', 'cram', 'within', 'wooden', 'casques', 'affright', 'air', 'agincourt', '.', '</s>']\n",
      "[('.', 9597), ('thy', 359), ('thou', 332), ('love', 271), ('thee', 240), ('lord', 225), ('shall', 218), ('parolles', 175), ('king', 172), ('would', 138)]\n",
      "count :  5652\n",
      "[(0, '<s>'), (1, '</s>'), (2, '<unk>'), (3, '<pad>'), (4, '.'), (5, 'abandon'), (6, 'abed'), (7, 'abhor'), (8, 'abhorr'), (9, 'abide')]\n",
      "1\n",
      "55296\n"
     ]
    }
   ],
   "source": [
    "'''corpus = gutenberg.words('shakespeare-caesar.txt') \n",
    "# 'bible-kjv.txt' 'melville-moby_dick.txt' 'shakespeare-hamlet.txt' 'shakespeare-caesar.txt',\n",
    "print(type(corpus),len(corpus))\n",
    "corpus_str = ' '.join(corpus)'''\n",
    "\n",
    "with open(\"./data/shakespeare.txt\", \"rb\") as f: # wiki_sample_corpusdataorg.txt shakespeare.txt\n",
    "    txt = f.readlines()\n",
    "corpus_str = ''.join([s.decode('utf-8') for s in txt])\n",
    "\n",
    "\n",
    "print(type(corpus_str),len(corpus_str))\n",
    "corpus_str = re.sub(r'[,!?;-]+', '.', corpus_str) # clean punctuation\n",
    "\n",
    "doc = my_sentence_tokenizer(corpus_str,tag_start,tag_end,tag=use_tags,stopwords=stop_words)\n",
    "tokens = get_all_tokens(doc)\n",
    "\n",
    "n_print = 100\n",
    "print(f'After cleaning:  {len(tokens)} tokens, first {n_print}  {tokens[:n_print]}')\n",
    "\n",
    "# create vocab including word count using collections.Counter\n",
    "word_count_vocab = dict()\n",
    "word_count_vocab = Counter(tokens)\n",
    "\n",
    "if tag_start in word_count_vocab:\n",
    "    word_count_vocab.pop(tag_start)\n",
    "\n",
    "if tag_end in word_count_vocab:\n",
    "    word_count_vocab.pop(tag_end)\n",
    "\n",
    "print(word_count_vocab.most_common(10))\n",
    "print('count : ',len(word_count_vocab))\n",
    "\n",
    "\n",
    "if use_tags:\n",
    "    vocabulary = list(enumerate(sorted(set(word_count_vocab.keys())),start=4))\n",
    "    for i, tag in enumerate(list(tags.values())):\n",
    "        vocabulary.insert(i,(i,tag))\n",
    "else:\n",
    "    vocabulary = list(enumerate(sorted(set(word_count_vocab.keys())),start=0))\n",
    "\n",
    "        \n",
    "print(vocabulary[:10]) # sorted vocabulary\n",
    "\n",
    "idx2word = dict(vocabulary)\n",
    "list(idx2word.items())[0:10]\n",
    "\n",
    "word2idx = dict({k:v for v, k in idx2word.items()})\n",
    "list(word2idx.items())[:10]\n",
    "\n",
    "coded_corpus = [word2idx[t] for t in tokens]\n",
    "\n",
    "print(coded_corpus[202])\n",
    "print(len(coded_corpus))\n",
    "\n",
    "S = len(coded_corpus)           \n",
    "V = len(word2idx)  "
   ]
  },
  {
   "cell_type": "code",
   "execution_count": 11,
   "metadata": {},
   "outputs": [
    {
     "data": {
      "text/plain": [
       "(55296, 5656)"
      ]
     },
     "execution_count": 11,
     "metadata": {},
     "output_type": "execute_result"
    }
   ],
   "source": [
    "S, V"
   ]
  },
  {
   "cell_type": "code",
   "execution_count": 12,
   "metadata": {},
   "outputs": [
    {
     "data": {
      "text/plain": [
       "(55296,)"
      ]
     },
     "execution_count": 12,
     "metadata": {},
     "output_type": "execute_result"
    }
   ],
   "source": [
    "coded_corpus_np = np.array(coded_corpus)\n",
    "coded_corpus_np.shape"
   ]
  },
  {
   "cell_type": "code",
   "execution_count": 13,
   "metadata": {},
   "outputs": [],
   "source": [
    "def get_context(coded_sentence, context_size,word2idx, tags):\n",
    "    \n",
    "    # end_position = np.where(coded_sentence==word2idx[tags['tag_end']])[0].item()\n",
    "    # apesar de quebrar a frase na hora certa, gera um problema de batches de tamanhos diferentes\n",
    "    \n",
    "    end_position = len(coded_sentence)\n",
    "    \n",
    "    target_context = []\n",
    "    for pos in range(0,end_position):\n",
    "        middle_word   = coded_sentence[pos]\n",
    "\n",
    "        left_start = max(pos-context_size,0)\n",
    "        right_end  = min(pos+1+context_size,end_position)\n",
    "\n",
    "        if pos - left_start < context_size:                # first words position\n",
    "            right_end += context_size-(pos-left_start)     # --> increse right_context size\n",
    "        elif right_end-(pos+1) < context_size:             # last words position\n",
    "            left_start -= context_size-(right_end-(pos+1)) # --> increase left_context size\n",
    "\n",
    "        left_context  = coded_sentence[left_start:pos]\n",
    "        right_context = coded_sentence[pos+1:right_end]\n",
    "        \n",
    "        \n",
    "        context       = left_context + right_context # list concatenation\n",
    "\n",
    "        target_context.append((middle_word,context))\n",
    "    return target_context"
   ]
  },
  {
   "cell_type": "code",
   "execution_count": 14,
   "metadata": {},
   "outputs": [],
   "source": [
    "def get_batches(coded_corpus, batch_size, half_context_size, S, V, word2idx, tags):\n",
    "    i = 0\n",
    "    while True:\n",
    "        s = coded_corpus[i:i+batch_size]\n",
    "        X = []\n",
    "        Y = []\n",
    "        for y, x in get_context(s, half_context_size, word2idx, tags):\n",
    "            X.append(x)\n",
    "            Y.append(y)\n",
    "        \n",
    "        yield (np.array(X), np.array(Y).reshape(-1,1))\n",
    "        \n",
    "        i += batch_size\n",
    "        if i >= S-batch_size:\n",
    "            print('i is being set to 0')\n",
    "            i = 0"
   ]
  },
  {
   "cell_type": "code",
   "execution_count": 15,
   "metadata": {},
   "outputs": [],
   "source": [
    "def get_train_vectors(context_batches, middle_word_batches):\n",
    "    X_train = np.zeros(shape=(batch_size,V))\n",
    "    #Y_train = np.zeros(shape=(batch_size,V))\n",
    "    Y_train = np.zeros(shape=(batch_size))\n",
    "    \n",
    "    for context_id in range(context_batches.shape[0]):\n",
    "        context     = context_batches[context_id]\n",
    "        middle_word = middle_word_batches[context_id].item()\n",
    "        for cw in  context:\n",
    "            weight = 1 if word_count_vocab[idx2word[cw]] else 0\n",
    "            X_train[context_id, cw] += weight/(2*half_context_size)\n",
    "        \n",
    "        # Y_train[context_id, middle_word] = 1\n",
    "        Y_train[context_id] = middle_word\n",
    "    return (torch.FloatTensor(X_train), torch.LongTensor(Y_train))\n",
    "# X_train[np.where(X_train)]"
   ]
  },
  {
   "cell_type": "code",
   "execution_count": 16,
   "metadata": {},
   "outputs": [],
   "source": [
    "batch_size = 10\n",
    "half_context_size = 2\n",
    "batch_generator = get_batches(coded_corpus=coded_corpus, \n",
    "                              batch_size=batch_size, half_context_size=half_context_size, \n",
    "                              S=S, V=V, word2idx=word2idx, tags=tags)"
   ]
  },
  {
   "cell_type": "code",
   "execution_count": 17,
   "metadata": {},
   "outputs": [
    {
     "data": {
      "text/plain": [
       "((10, 4), (10, 1), 10)"
      ]
     },
     "execution_count": 17,
     "metadata": {},
     "output_type": "execute_result"
    }
   ],
   "source": [
    "X, Y  = next(batch_generator)\n",
    "X.shape, Y.shape, (batch_size)\n",
    "#print(np.concatenate((X, Y),axis=1))"
   ]
  },
  {
   "cell_type": "code",
   "execution_count": 18,
   "metadata": {},
   "outputs": [
    {
     "data": {
      "text/plain": [
       "(torch.Size([10, 5656]), torch.Size([10]))"
      ]
     },
     "execution_count": 18,
     "metadata": {},
     "output_type": "execute_result"
    }
   ],
   "source": [
    "X_train, Y_train = get_train_vectors(context_batches=X, middle_word_batches=Y)\n",
    "X_train.shape, Y_train.shape"
   ]
  },
  {
   "cell_type": "code",
   "execution_count": 19,
   "metadata": {},
   "outputs": [
    {
     "data": {
      "text/plain": [
       "((array([1907, 3207], dtype=int64),), tensor([[0.2500, 0.2500]]), tensor(4))"
      ]
     },
     "execution_count": 19,
     "metadata": {},
     "output_type": "execute_result"
    }
   ],
   "source": [
    "i=3\n",
    "np.where(X_train[i]), X_train[i,np.where(X_train[i])], Y_train[i]"
   ]
  },
  {
   "cell_type": "markdown",
   "metadata": {},
   "source": [
    "# Training the Embeddings with Language Model"
   ]
  },
  {
   "cell_type": "markdown",
   "metadata": {},
   "source": [
    "## Continuous Bag-of-Words (CBOW)"
   ]
  },
  {
   "cell_type": "markdown",
   "metadata": {},
   "source": [
    "context vs target"
   ]
  },
  {
   "cell_type": "markdown",
   "metadata": {},
   "source": [
    "<details>    \n",
    "<summary>\n",
    "    <font size=\"3\" color=\"darkgreen\"><b>Hints about PyTorch input layer format</b></font>\n",
    "</summary>\n",
    "\n",
    "[from here](https://discuss.pytorch.org/t/confused-about-tensor-dimensions-and-batches/4761/2)\n",
    "\n",
    "    \n",
    "> The input to a linear layer should be a tensor of size [batch_size, input_size] where input_size is the same size as the first layer in your network (so in your case it’s num_letters).  \n",
    "    The problem appears in the line:  \n",
    "    `tensor = torch.zeros(len(name), 1, num_letters)`  \n",
    "    which should actually just be:  \n",
    "    `tensor = torch.zeros(len(name), num_letters)`\n",
    "\n",
    "> As an easy example:  \n",
    "> ```python\n",
    "        input_size = 8\n",
    "        output_size = 14\n",
    "        batch_size = 64\n",
    "        net = nn.Linear(input_size, output_size)  \n",
    "        input = Variable(torch.FloatTensor(batch_size, input_size))  \n",
    "        output = net(input)  \n",
    "        print(\"Output size:\", output.size())\n",
    "    \n",
    "> ```CPP\n",
    "    Output size: (64, 14)\n",
    "    \n",
    "\n",
    "> Hope this helps,  \n",
    "  Jordan\n",
    "</p>\n",
    "\n"
   ]
  },
  {
   "cell_type": "code",
   "execution_count": 20,
   "metadata": {},
   "outputs": [],
   "source": [
    "class Language_Model_w2v(nn.Module):\n",
    "    \n",
    "    def __init__(self, vocab_size, num_of_dimensions_of_embedding):\n",
    "        super(Language_Model_w2v, self).__init__()\n",
    "        self.V  = vocab_size\n",
    "        self.N  = num_of_dimensions_of_embedding \n",
    "        \n",
    "        self.W1  = nn.Linear(self.V, self.N)\n",
    "        self.H1  = nn.ReLU(inplace=True)\n",
    "        \n",
    "        self.W2 = nn.Linear(self.N, self.V)\n",
    "        self.LogSoftMax = nn.LogSoftmax(dim=1)\n",
    "        \n",
    "        # self.layers = nn.Sequential(*[self.e, self.W1, self.W2,self.LogSoftMax])\n",
    "        \n",
    "    def forward(self,x):              \n",
    "        x = self.H1(self.W1(x))\n",
    "        x = self.LogSoftMax(self.W2(x))\n",
    "        \n",
    "        return x"
   ]
  },
  {
   "cell_type": "code",
   "execution_count": 141,
   "metadata": {},
   "outputs": [],
   "source": [
    "max_epochs = 1\n",
    "batch_size = 128\n",
    "max_batch_iters = np.floor(S/batch_size)\n",
    "\n",
    "Nd = 200\n",
    "half_context_size = 2\n",
    "\n",
    "lr = 1e-2\n",
    "\n",
    "batch_generator = get_batches(coded_corpus=coded_corpus, \n",
    "                              batch_size=batch_size, half_context_size=half_context_size, \n",
    "                              S=S, V=V, word2idx=word2idx, tags=tags)\n",
    "print_iters = 10\n",
    "\n",
    "losses    = []\n",
    "criterion = nn.NLLLoss()\n",
    "model     = Language_Model_w2v(vocab_size=V, num_of_dimensions_of_embedding=Nd)\n",
    "\n",
    "optimizer = optim.Adam(model.parameters(), lr=lr) \n",
    "#optimizer = optim.SGD(model.parameters(),lr=lr) "
   ]
  },
  {
   "cell_type": "code",
   "execution_count": 142,
   "metadata": {},
   "outputs": [
    {
     "data": {
      "text/plain": [
       "Language_Model_w2v(\n",
       "  (W1): Linear(in_features=5656, out_features=200, bias=True)\n",
       "  (H1): ReLU(inplace=True)\n",
       "  (W2): Linear(in_features=200, out_features=5656, bias=True)\n",
       "  (LogSoftMax): LogSoftmax()\n",
       ")"
      ]
     },
     "execution_count": 142,
     "metadata": {},
     "output_type": "execute_result"
    }
   ],
   "source": [
    "model"
   ]
  },
  {
   "cell_type": "code",
   "execution_count": 143,
   "metadata": {},
   "outputs": [
    {
     "data": {
      "text/plain": [
       "432.0"
      ]
     },
     "execution_count": 143,
     "metadata": {},
     "output_type": "execute_result"
    }
   ],
   "source": [
    "max_batch_iters"
   ]
  },
  {
   "cell_type": "code",
   "execution_count": 144,
   "metadata": {},
   "outputs": [
    {
     "name": "stdout",
     "output_type": "stream",
     "text": [
      "epoch 0 sentence 128/55296 loss: 8.61214 (0.88045 ms per word)\n",
      "epoch 0 sentence 1408/55296 loss: 7.41786 (0.42784 ms per word)\n",
      "epoch 0 sentence 2688/55296 loss: 5.78280 (0.41854 ms per word)\n",
      "epoch 0 sentence 3968/55296 loss: 6.69533 (0.40191 ms per word)\n",
      "epoch 0 sentence 5248/55296 loss: 6.31116 (0.40346 ms per word)\n",
      "epoch 0 sentence 6528/55296 loss: 5.78810 (0.39769 ms per word)\n",
      "epoch 0 sentence 7808/55296 loss: 5.76771 (0.39623 ms per word)\n",
      "epoch 0 sentence 9088/55296 loss: 6.11104 (0.39321 ms per word)\n",
      "epoch 0 sentence 10368/55296 loss: 5.40761 (0.39238 ms per word)\n",
      "epoch 0 sentence 11648/55296 loss: 5.09676 (0.40765 ms per word)\n",
      "epoch 0 sentence 12928/55296 loss: 5.60847 (0.43873 ms per word)\n",
      "epoch 0 sentence 14208/55296 loss: 5.29529 (0.47056 ms per word)\n",
      "epoch 0 sentence 15488/55296 loss: 5.69073 (0.49848 ms per word)\n",
      "epoch 0 sentence 16768/55296 loss: 4.69487 (0.51753 ms per word)\n",
      "epoch 0 sentence 18048/55296 loss: 5.84070 (0.52968 ms per word)\n",
      "epoch 0 sentence 19328/55296 loss: 4.89391 (0.53549 ms per word)\n",
      "epoch 0 sentence 20608/55296 loss: 4.33265 (0.53989 ms per word)\n",
      "epoch 0 sentence 21888/55296 loss: 5.11894 (0.54673 ms per word)\n",
      "epoch 0 sentence 23168/55296 loss: 5.50079 (0.55550 ms per word)\n",
      "epoch 0 sentence 24448/55296 loss: 5.68632 (0.55962 ms per word)\n",
      "epoch 0 sentence 25728/55296 loss: 5.34715 (0.56729 ms per word)\n",
      "epoch 0 sentence 27008/55296 loss: 2.66617 (0.57602 ms per word)\n",
      "epoch 0 sentence 28288/55296 loss: 3.41563 (0.58146 ms per word)\n",
      "epoch 0 sentence 29568/55296 loss: 3.90593 (0.58391 ms per word)\n",
      "epoch 0 sentence 30848/55296 loss: 3.51458 (0.58497 ms per word)\n",
      "epoch 0 sentence 32128/55296 loss: 4.81112 (0.58777 ms per word)\n",
      "epoch 0 sentence 33408/55296 loss: 4.64426 (0.58931 ms per word)\n",
      "epoch 0 sentence 34688/55296 loss: 3.80499 (0.59129 ms per word)\n",
      "epoch 0 sentence 35968/55296 loss: 4.43539 (0.59151 ms per word)\n",
      "epoch 0 sentence 37248/55296 loss: 3.62307 (0.59257 ms per word)\n",
      "epoch 0 sentence 38528/55296 loss: 4.26211 (0.59351 ms per word)\n",
      "epoch 0 sentence 39808/55296 loss: 3.40118 (0.59530 ms per word)\n",
      "epoch 0 sentence 41088/55296 loss: 3.99496 (0.59686 ms per word)\n",
      "epoch 0 sentence 42368/55296 loss: 4.51727 (0.59776 ms per word)\n",
      "epoch 0 sentence 43648/55296 loss: 4.84257 (0.59737 ms per word)\n",
      "epoch 0 sentence 44928/55296 loss: 3.74563 (0.59726 ms per word)\n",
      "epoch 0 sentence 46208/55296 loss: 3.10530 (0.59783 ms per word)\n",
      "epoch 0 sentence 47488/55296 loss: 4.89270 (0.59874 ms per word)\n",
      "epoch 0 sentence 48768/55296 loss: 4.43148 (0.59984 ms per word)\n",
      "epoch 0 sentence 50048/55296 loss: 4.32754 (0.59897 ms per word)\n",
      "epoch 0 sentence 51328/55296 loss: 5.36045 (0.59927 ms per word)\n",
      "epoch 0 sentence 52608/55296 loss: 4.87431 (0.60083 ms per word)\n",
      "epoch 0 sentence 53888/55296 loss: 3.61043 (0.60084 ms per word)\n",
      "i is being set to 0\n",
      "epoch 0 sentence 55168/55296 loss: 5.35979 (0.60035 ms per word)\n"
     ]
    }
   ],
   "source": [
    "from time import time\n",
    "\n",
    "batch_losses = []\n",
    "for epoch in range(max_epochs):\n",
    "    \n",
    "    cnt = 0\n",
    "    \n",
    "    # coded_sentences = coded_sentences[:,np.random.permutation(S)]\n",
    "    \n",
    "    start_t = time()\n",
    "    \n",
    "    for X, Y in batch_generator:\n",
    "    \n",
    "        # Step 1. Prepare the inputs to be passed to the model (i.e, turn the words into integer indices and wrap them in tensors)\n",
    "        X_train, Y_train = get_train_vectors(context_batches=X, middle_word_batches = Y)\n",
    "        \n",
    "        # Step 2. Recall that torch *accumulates* gradients. \n",
    "        # Before passing in a new instance, you need to zero out the gradients from the oldinstance\n",
    "        model.zero_grad()\n",
    "            \n",
    "        # Step 3. Run the forward pass, getting log probabilities over next words\n",
    "        log_probs = model(X_train)  \n",
    "            \n",
    "        # Step 4. Compute your loss function. \n",
    "        # (Again, Torch wants the target word wrapped in a tensor)\n",
    "        loss = criterion(log_probs, Y_train.T)\n",
    "\n",
    "        # Step 5. Do the backward pass and update the gradient\n",
    "        loss.backward()\n",
    "        optimizer.step()\n",
    "\n",
    "        # Get the Python number from a 1-element Tensor by calling tensor.item()\n",
    "        # total_loss += loss.item()\n",
    "        \n",
    "        batch_losses.append(loss)\n",
    "        \n",
    "        \n",
    "        if cnt%print_iters==1:\n",
    "            now = time()\n",
    "            duration = 1000*(now - start_t)/cnt/batch_size\n",
    "            print(f'epoch {epoch} sentence {cnt*batch_size}/{S} loss: {loss.item():.5f} ({duration:.5f} ms per word)')\n",
    "            \n",
    "            \n",
    "        cnt+=1\n",
    "            \n",
    "        if cnt>=max_batch_iters:\n",
    "            break\n",
    "    \n",
    "    #time.sleep(1.5)\n",
    "    #clear_output()\n",
    "#print(losses)  # The loss decreased every iteration over the training data!"
   ]
  },
  {
   "cell_type": "markdown",
   "metadata": {},
   "source": [
    "## Plot Training Loss"
   ]
  },
  {
   "cell_type": "code",
   "execution_count": 145,
   "metadata": {},
   "outputs": [],
   "source": [
    "batch_losses_np = np.array([loss.detach() for loss in batch_losses])"
   ]
  },
  {
   "cell_type": "code",
   "execution_count": 146,
   "metadata": {},
   "outputs": [
    {
     "data": {
      "image/png": "[encoded data removed]",
      "text/plain": [
       "<Figure size 864x288 with 1 Axes>"
      ]
     },
     "metadata": {
      "needs_background": "light"
     },
     "output_type": "display_data"
    }
   ],
   "source": [
    "plt.figure(figsize=(12,4))\n",
    "\n",
    "plt.plot(batch_losses_np)\n",
    "plt.show();"
   ]
  },
  {
   "cell_type": "markdown",
   "metadata": {},
   "source": [
    "## Extract Embedding"
   ]
  },
  {
   "cell_type": "raw",
   "metadata": {},
   "source": [
    "for group in model.parameters():\n",
    "    print(group.grad)"
   ]
  },
  {
   "cell_type": "code",
   "execution_count": 147,
   "metadata": {},
   "outputs": [
    {
     "name": "stdout",
     "output_type": "stream",
     "text": [
      "W1.weight torch.Size([200, 5656])\n",
      "W1.bias torch.Size([200])\n",
      "W2.weight torch.Size([5656, 200])\n",
      "W2.bias torch.Size([5656])\n"
     ]
    }
   ],
   "source": [
    "for name, param in model.named_parameters():\n",
    "    if param.requires_grad:\n",
    "        print(name, param.shape) # param.data"
   ]
  },
  {
   "cell_type": "code",
   "execution_count": 148,
   "metadata": {},
   "outputs": [
    {
     "data": {
      "text/plain": [
       "(torch.Size([5656, 200]),\n",
       " tensor([[ 0.8009,  0.0098,  0.0410,  ..., -0.0040,  0.0582,  0.3598],\n",
       "         [ 0.4543,  0.1354,  0.3528,  ...,  0.0475,  0.0349,  0.3136],\n",
       "         [-0.5629, -0.2630, -0.3735,  ...,  0.0070, -0.0081, -0.3943],\n",
       "         ...,\n",
       "         [-0.2041, -0.1357, -0.0863,  ..., -0.0384, -0.0157, -0.1169],\n",
       "         [-0.2456, -0.2203, -0.2177,  ..., -0.0143, -0.0482, -0.1386],\n",
       "         [-0.4142, -0.2079, -0.2435,  ..., -0.0196, -0.0367, -0.2793]]))"
      ]
     },
     "execution_count": 148,
     "metadata": {},
     "output_type": "execute_result"
    }
   ],
   "source": [
    "# model.W2.bias.data.view(-1,1)\n",
    "# model.W1.bias.data.T\n",
    "# model.W2.weight.data\n",
    "# model.W1.weight.data.T\n",
    "#Embedding = model.W2.weight.data\n",
    "Embedding = .5*(model.W1.weight.data.T + model.W2.weight.data)\n",
    "\n",
    "\n",
    "Embedding.shape, Embedding"
   ]
  },
  {
   "cell_type": "code",
   "execution_count": null,
   "metadata": {},
   "outputs": [],
   "source": []
  },
  {
   "cell_type": "markdown",
   "metadata": {},
   "source": [
    "## Word Analogies"
   ]
  },
  {
   "cell_type": "code",
   "execution_count": 149,
   "metadata": {},
   "outputs": [],
   "source": [
    "def word_analogy(pos_neg_1=('king','man'),pos_neg_2=('queen','woman'), n_closest = 4, word2idx=None, idx2word=None):\n",
    "    king_w,    man_w = pos_neg_1\n",
    "    queen_w, woman_w = pos_neg_2\n",
    "    \n",
    "    for w in (king_w,man_w,woman_w):\n",
    "        if w not in word2idx:\n",
    "            # raise Exception(f'sorry, word \"{w}\" not in dictionary.')\n",
    "            print(f'sorry, word \"{w}\" not in dictionary.')\n",
    "            return None\n",
    "        \n",
    "    print(f'Expected: {king_w} - {man_w} = {queen_w} - {woman_w}')\n",
    "    \n",
    "    king   = word2idx[king_w]\n",
    "    man    = word2idx[man_w]\n",
    "    woman  = word2idx[woman_w]\n",
    "    \n",
    "    vec = (Embedding[king] - Embedding[man] + Embedding[woman]).view(1,-1) # Embedding[queen]\n",
    "    \n",
    "    \n",
    "    distances = pairwise_distances(vec.reshape(1, -1), Embedding, metric='cosine').reshape(V)\n",
    "    idx = distances.argsort()[:n_closest+3] \n",
    "    idx = [x for x in idx if x not in set([man,king,woman])]\n",
    "    queen_estimated = idx2word[idx[0]]\n",
    "    \n",
    "    print(f'Got:      {king_w} - {man_w} = {queen_estimated} - {woman_w}')\n",
    "    \n",
    "    print(f'Closest {len(idx[:n_closest])} words:')\n",
    "    for i in idx[:n_closest]:\n",
    "        print(f'{idx2word[i]}')"
   ]
  },
  {
   "cell_type": "code",
   "execution_count": 150,
   "metadata": {},
   "outputs": [
    {
     "name": "stdout",
     "output_type": "stream",
     "text": [
      "Expected: father - man = mother - woman\n",
      "Got:      father - man = disdain - woman\n",
      "Closest 10 words:\n",
      "disdain\n",
      "pretty\n",
      "catch\n",
      "sweets\n",
      "among\n",
      "kept\n",
      "creatures\n",
      "treasure\n",
      "takes\n",
      "defence\n",
      "\n",
      "Expected: prince - king = princess - queen\n",
      "Got:      prince - king = tells - queen\n",
      "Closest 10 words:\n",
      "tells\n",
      "ambassadors\n",
      "hot\n",
      "borne\n",
      "safe\n",
      "close\n",
      "reference\n",
      "commits\n",
      "eagle\n",
      "sum\n",
      "\n",
      "sorry, word \"me\" not in dictionary.\n",
      "\n",
      "Expected: brother - man = sister - woman\n",
      "Got:      brother - man = satisfaction - woman\n",
      "Closest 10 words:\n",
      "satisfaction\n",
      "played\n",
      "reference\n",
      "fierce\n",
      "stood\n",
      "untrimmed\n",
      "shifting\n",
      "rough\n",
      "embassage\n",
      "presagers\n",
      "\n",
      "Expected: boy - man = girl - woman\n",
      "Got:      boy - man = waters - woman\n",
      "Closest 10 words:\n",
      "waters\n",
      "unlearned\n",
      "implies\n",
      "stretch\n",
      "schools\n",
      "cornets\n",
      "knowingly\n",
      "triple\n",
      "physicians\n",
      "hugs\n",
      "\n",
      "Expected: man - woman = husband - wife\n",
      "Got:      man - woman = noble - wife\n",
      "Closest 10 words:\n",
      "noble\n",
      "messenger\n",
      "us\n",
      "soldier\n",
      "letter\n",
      "ring\n",
      "business\n",
      "king\n",
      "beseech\n",
      "letters\n",
      "\n",
      "sorry, word \"she\" not in dictionary.\n",
      "\n",
      "Expected: king - man = queen - woman\n",
      "Got:      king - man = lafeu - woman\n",
      "Closest 10 words:\n",
      "lafeu\n",
      "clown\n",
      "bertram\n",
      "helena\n",
      "good\n",
      "countess\n",
      "liege\n",
      "parolles\n",
      "lady\n",
      "lord\n",
      "\n"
     ]
    }
   ],
   "source": [
    "analogy_list = [('father', 'man', 'mother', 'woman'),\n",
    "               ('prince','king','princess','queen'),\n",
    "               ('me','i','his','he'),\n",
    "               ('brother','man','sister','woman'),\n",
    "               ('boy','man','girl','woman'),\n",
    "               ('man','woman','husband','wife'),\n",
    "               ('man','woman','he','she'),\n",
    "               ('king','man','queen','woman')]\n",
    "\n",
    "for w1, w2, w3, w4 in analogy_list:\n",
    "    word_analogy(pos_neg_1=(w1,w2),pos_neg_2=(w3,w4), n_closest = 10, word2idx=word2idx, idx2word=idx2word)\n",
    "    print()"
   ]
  },
  {
   "cell_type": "markdown",
   "metadata": {},
   "source": [
    "## Closest Neighbors"
   ]
  },
  {
   "cell_type": "code",
   "execution_count": 151,
   "metadata": {},
   "outputs": [],
   "source": [
    "def get_closest_from(word,n_closest=5, word2idx=None, idx2word=None):\n",
    "    \n",
    "    if word not in word2idx:\n",
    "        # raise Exception(f'sorry, word \"{w}\" not in dictionary.')\n",
    "        print(f'sorry, word \"{word}\" not in dictionary.')\n",
    "        return None\n",
    "    \n",
    "    word_idx = word2idx[word]\n",
    "    vec = Embedding[word_idx]\n",
    "    \n",
    "    distances = pairwise_distances(vec.reshape(1, -1), Embedding, metric='cosine').reshape(V)\n",
    "    idx = distances.argsort()[:n_closest+1] \n",
    "    idx = [x for x in idx if x not in set([word_idx])]\n",
    "    \n",
    "    print(f'Closest {len(idx)} words from {word}:')\n",
    "    for i in idx[:n_closest]:\n",
    "        print(f'{idx2word[i]}') "
   ]
  },
  {
   "cell_type": "code",
   "execution_count": 152,
   "metadata": {},
   "outputs": [
    {
     "name": "stdout",
     "output_type": "stream",
     "text": [
      "Closest 6 words from man:\n",
      "wife\n",
      "noble\n",
      "see\n",
      "letter\n",
      "letters\n",
      "business\n",
      "\n",
      "Closest 6 words from king:\n",
      "</s>\n",
      "lafeu\n",
      "good\n",
      "nay\n",
      "helena\n",
      "countess\n",
      "\n",
      "Closest 6 words from woman:\n",
      "withal\n",
      "cunning\n",
      "marriage\n",
      "tide\n",
      "hideous\n",
      "foregone\n",
      "\n",
      "Closest 6 words from queen:\n",
      "died\n",
      "appear\n",
      "flatter\n",
      "speaking\n",
      "forget\n",
      "sea\n",
      "\n",
      "Closest 6 words from god:\n",
      "fare\n",
      "soldiers\n",
      "gold\n",
      "meant\n",
      "freely\n",
      "christian\n",
      "\n",
      "Closest 6 words from brother:\n",
      "perceive\n",
      "sorry\n",
      "meaning\n",
      "letters\n",
      "gold\n",
      "inheritance\n",
      "\n",
      "Closest 6 words from sister:\n",
      "ca\n",
      "iris\n",
      "thorn\n",
      "sithence\n",
      "religion\n",
      "parson\n",
      "\n",
      "Closest 6 words from death:\n",
      "blame\n",
      "ye\n",
      "slave\n",
      "convenient\n",
      "thinks\n",
      "intelligence\n",
      "\n",
      "Closest 6 words from life:\n",
      "grace\n",
      "manners\n",
      "part\n",
      "whence\n",
      "empirics\n",
      "sources\n",
      "\n",
      "Closest 6 words from dog:\n",
      "wrangler\n",
      "merriest\n",
      "dazzle\n",
      "unborn\n",
      "roofs\n",
      "waxen\n",
      "\n"
     ]
    }
   ],
   "source": [
    "word_list = ['man', 'king', 'woman', 'queen', 'god', 'brother', 'sister', 'death', 'life', 'dog']\n",
    "\n",
    "for word in word_list:\n",
    "    get_closest_from(word,n_closest=6, word2idx=word2idx, idx2word=idx2word)\n",
    "    print()"
   ]
  },
  {
   "cell_type": "markdown",
   "metadata": {},
   "source": [
    "# PCA Visualization of Word-Analogy"
   ]
  },
  {
   "cell_type": "code",
   "execution_count": 153,
   "metadata": {},
   "outputs": [],
   "source": [
    "from sklearn.decomposition import PCA"
   ]
  },
  {
   "cell_type": "code",
   "execution_count": 154,
   "metadata": {},
   "outputs": [],
   "source": [
    "pca = PCA(n_components=2)\n",
    "pca.fit(Embedding)\n",
    "Embedding_2D = pca.transform(Embedding)"
   ]
  },
  {
   "cell_type": "raw",
   "metadata": {},
   "source": [
    "plt.figure(figsize=(11,11))\n",
    "\n",
    "Nplot = 100\n",
    "\n",
    "most_common_words = [word2idx[x[0]] for x in word_count_vocab.most_common(Nplot)]\n",
    "\n",
    "plt.scatter(x=Embedding_2D[most_common_words,0], y=Embedding_2D[most_common_words,1])\n",
    "\n",
    "for i in most_common_words:\n",
    "    plt.annotate(idx2word[i], xy=(Embedding_2D[i,0],Embedding_2D[i,1]))\n",
    "\n",
    "plt.show()"
   ]
  },
  {
   "cell_type": "code",
   "execution_count": 155,
   "metadata": {},
   "outputs": [],
   "source": [
    "import bokeh\n",
    "from bokeh.plotting import figure, output_file, show\n",
    "from bokeh.models import Label"
   ]
  },
  {
   "cell_type": "code",
   "execution_count": 156,
   "metadata": {},
   "outputs": [],
   "source": [
    "p = figure()\n",
    "\n",
    "# output to static HTML file\n",
    "output_file(\"embeeded_word_vectors_pca.html\")\n",
    "\n",
    "Nplot = 1000\n",
    "\n",
    "most_common_words = [word2idx[x[0]] for x in word_count_vocab.most_common(Nplot)]\n",
    "\n",
    "p.scatter(x=Embedding_2D[most_common_words,0], y=Embedding_2D[most_common_words,1])\n",
    "\n",
    "for i in most_common_words:\n",
    "    my_text = Label(text=idx2word[i], x=Embedding_2D[i,0],y=Embedding_2D[i,1])\n",
    "    p.add_layout(my_text)\n",
    "    \n",
    "show(p)"
   ]
  },
  {
   "cell_type": "code",
   "execution_count": 157,
   "metadata": {},
   "outputs": [],
   "source": [
    "words = ['king', 'queen',\n",
    "         'lord', 'lady',\n",
    "         'man', 'woman',\n",
    "         'dog','wolf',\n",
    "         'rich','poor',\n",
    "         'happy','sad']\n",
    "\n",
    "\n",
    "p = figure()\n",
    "\n",
    "# output to static HTML file\n",
    "output_file(\"embeeded_word_vectors_pca_wordlist.html\")\n",
    "\n",
    "most_common_words = [word2idx[x] for x in words if x in word2idx]\n",
    "\n",
    "p.scatter(x=Embedding_2D[most_common_words,0], y=Embedding_2D[most_common_words,1])\n",
    "\n",
    "for i in most_common_words:\n",
    "    my_text = Label(text=idx2word[i], x=Embedding_2D[i,0],y=Embedding_2D[i,1])\n",
    "    p.add_layout(my_text)\n",
    "    \n",
    "show(p)"
   ]
  },
  {
   "cell_type": "code",
   "execution_count": null,
   "metadata": {},
   "outputs": [],
   "source": []
  },
  {
   "cell_type": "code",
   "execution_count": null,
   "metadata": {},
   "outputs": [],
   "source": []
  },
  {
   "cell_type": "code",
   "execution_count": null,
   "metadata": {},
   "outputs": [],
   "source": []
  },
  {
   "cell_type": "code",
   "execution_count": null,
   "metadata": {},
   "outputs": [],
   "source": []
  },
  {
   "cell_type": "code",
   "execution_count": null,
   "metadata": {},
   "outputs": [],
   "source": []
  },
  {
   "cell_type": "code",
   "execution_count": null,
   "metadata": {},
   "outputs": [],
   "source": []
  },
  {
   "cell_type": "code",
   "execution_count": null,
   "metadata": {},
   "outputs": [],
   "source": []
  }
 ],
 "metadata": {
  "kernelspec": {
   "display_name": "Python 3",
   "language": "python",
   "name": "python3"
  },
  "language_info": {
   "codemirror_mode": {
    "name": "ipython",
    "version": 3
   },
   "file_extension": ".py",
   "mimetype": "text/x-python",
   "name": "python",
   "nbconvert_exporter": "python",
   "pygments_lexer": "ipython3",
   "version": "3.7.3"
  }
 },
 "nbformat": 4,
 "nbformat_minor": 4
}
