{
  "nbformat": 4,
  "nbformat_minor": 0,
  "metadata": {
    "colab": {
      "name": "Introdução ao PyTorch: da Regressão Linear à NLP com word-embeddings",
      "provenance": [],
      "collapsed_sections": [],
      "toc_visible": true,
      "mount_file_id": "1QmCNpORpj2DLi464ZDNU5F3dLzhZ4DhM",
      "authorship_tag": "ABX9TyPk3PIbq0h93MVc4zi0q4B0",
      "include_colab_link": true
    },
    "kernelspec": {
      "name": "python3",
      "display_name": "Python 3"
    }
  },
  "cells": [
    {
      "cell_type": "markdown",
      "metadata": {
        "id": "view-in-github",
        "colab_type": "text"
      },
      "source": [
        "<a href=\"https://colab.research.google.com/github/fontanads/machine_learning/blob/master/pytorch_labs/Introdu%C3%A7%C3%A3o_ao_PyTorch_da_Regress%C3%A3o_Linear_%C3%A0_NLP_com_word_embeddings.ipynb\" target=\"_parent\"><img src=\"https://colab.research.google.com/assets/colab-badge.svg\" alt=\"Open In Colab\"/></a>"
      ]
    },
    {
      "cell_type": "markdown",
      "metadata": {
        "id": "Ke3D-VMVwwOg",
        "colab_type": "text"
      },
      "source": [
        "Tutorial elaborado por [Bruno Fontana da Silva](https://github.com/fontanads). "
      ]
    },
    {
      "cell_type": "markdown",
      "metadata": {
        "id": "a103P703xr_8",
        "colab_type": "text"
      },
      "source": [
        "# Sumário\n",
        "- [Introdução ao PyTorch](#0)\n",
        "- [Parte 1: Básico sobre Tensores](#1)\n",
        "    - [1.1 Criando Tensores ](#11)\n",
        "    - [1.1 Inicializando Tensores ](#12)\n",
        "    - [1.1 Tensores com números aleatórios](#13)\n",
        "    - [1.1 Atributos de Tensores](#14)\n",
        "    - [1.1 Slicing e Operações](#15)\n",
        "- [Parte 2:  Implementando a regressão linear](#2)\n",
        "    - [2.1  Dataset Artificial](#21)\n",
        "    - [2.2  Modelo do Perceptron](#22)\n",
        "    - [2.3  Classe do Modelo de Rede Neural](#23)\n",
        "    - [2.4  Usando o Modelo Existente](#24)\n",
        "    - [2.5  Critério de Avaliação do Treinamento](#25)\n",
        "    - [2.6  Otimizador dos parâmetros](#26)\n",
        "    - [2.7  Treinando o modelo](#27)\n",
        "    - [2.8  Avaliando o resultado do treino](#28)\n",
        "- [Parte 3:  Aprendendo a Função X-OR com a regressão logística](#3)\n",
        "    - [3.1  Dataset da Função X-OR](#31)\n",
        "    - [3.2  Camada linear com ativação sigmóide (regressão logística)](#32)\n",
        "    - [3.3  Função custo/perda: binary cross-entropy (BCE)](#33)\n",
        "    - [3.4  Treinando a regressão logística ](#34)\n",
        "    - [3.5  Feature engineering ](#35)\n",
        "- [Parte 4: Redes com mais camadas](#4)\n",
        "- [Parte 5:  NLP e Embedding Layers](#5)\n",
        "    - [5.1  Variáveis Categóricas](#51)\n",
        "    - [5.2  One-hot encoding](#52)\n",
        "    - [5.3  Embedding Layer](#53)\n",
        "    - [5.4  Embedding Layer no PyTorch](#54)\n",
        "    - [5.5  Dataset de e-mails de SPAM](#55)\n",
        "    - [5.6  Limpeza de texto e Vocabulário](#56)\n",
        "    - [5.7  Codificação do texto](#57)\n",
        "    - [5.8  Datasets de Treino e Teste](#58)\n",
        "    - [5.9  Modelo Classificador de SPAM](#59)\n",
        "    - [5.10  Treinamento do Modelo](#591)\n",
        "    - [5.11  Avaliação do Modelo com dataset de Teste](#592)\n",
        "    - [5.12  Visualizando Word-Embeddings](#593)\n",
        "    - [5.10  Encontrando palavras vizinhas](#594)\n"
      ]
    },
    {
      "cell_type": "code",
      "metadata": {
        "id": "P1c1rNcYTtqo",
        "colab_type": "code",
        "colab": {
          "base_uri": "https://localhost:8080/",
          "height": 70
        },
        "outputId": "8478fb30-7326-4f36-8852-68a773be52c7"
      },
      "source": [
        "from time import sleep\n",
        "from IPython import display\n",
        "import pylab as pl\n",
        "import seaborn as sns"
      ],
      "execution_count": 1,
      "outputs": [
        {
          "output_type": "stream",
          "text": [
            "/usr/local/lib/python3.6/dist-packages/statsmodels/tools/_testing.py:19: FutureWarning: pandas.util.testing is deprecated. Use the functions in the public API at pandas.testing instead.\n",
            "  import pandas.util.testing as tm\n"
          ],
          "name": "stderr"
        }
      ]
    },
    {
      "cell_type": "code",
      "metadata": {
        "id": "0V7Ijw0zT1O9",
        "colab_type": "code",
        "colab": {}
      },
      "source": [
        "import numpy as np\n",
        "import matplotlib.pyplot as plt\n",
        "import pandas as pd\n",
        "from sklearn.model_selection  import train_test_split"
      ],
      "execution_count": 2,
      "outputs": []
    },
    {
      "cell_type": "code",
      "metadata": {
        "id": "hbsC2CrQ3NE1",
        "colab_type": "code",
        "colab": {
          "base_uri": "https://localhost:8080/",
          "height": 84
        },
        "outputId": "1041af90-6d03-4677-9e8e-179da3ff7663"
      },
      "source": [
        "import nltk\n",
        "from nltk.corpus import stopwords \n",
        "\n",
        "nltk.download('punkt')\n",
        "nltk.download('stopwords')\n",
        "\n",
        "stop_words = set(stopwords.words('english'))"
      ],
      "execution_count": 3,
      "outputs": [
        {
          "output_type": "stream",
          "text": [
            "[nltk_data] Downloading package punkt to /root/nltk_data...\n",
            "[nltk_data]   Unzipping tokenizers/punkt.zip.\n",
            "[nltk_data] Downloading package stopwords to /root/nltk_data...\n",
            "[nltk_data]   Unzipping corpora/stopwords.zip.\n"
          ],
          "name": "stdout"
        }
      ]
    },
    {
      "cell_type": "code",
      "metadata": {
        "id": "A093PyDTEK3r",
        "colab_type": "code",
        "colab": {}
      },
      "source": [
        "# Valores padronizados para tamanho de fontes em gráficos\n",
        "SMALL_SIZE = 16\n",
        "MEDIUM_SIZE = 24\n",
        "BIGGER_SIZE = 30\n",
        "\n",
        "# Método para configurar as fontes de um gráfico com base nos valores padronizados \n",
        "def set_fontsizes_in_plot():\n",
        "    plt.rc('axes', titlesize=MEDIUM_SIZE)    # fontsize of the axes title\n",
        "    plt.rc('axes', labelsize=MEDIUM_SIZE)    # fontsize of the x and y labels\n",
        "    plt.rc('xtick', labelsize=SMALL_SIZE)    # fontsize of the tick labels\n",
        "    plt.rc('ytick', labelsize=SMALL_SIZE)    # fontsize of the tick labels\n",
        "    plt.rc('legend', fontsize=SMALL_SIZE)    # legend fontsize\n",
        "    plt.rc('figure', titlesize=BIGGER_SIZE)  # fontsize of the figure title"
      ],
      "execution_count": 4,
      "outputs": []
    },
    {
      "cell_type": "markdown",
      "metadata": {
        "id": "_zgaLxKoCZcJ",
        "colab_type": "text"
      },
      "source": [
        "<a name=\"0\"></a>\n",
        "# 1. Introdução ao PyTorch"
      ]
    },
    {
      "cell_type": "markdown",
      "metadata": {
        "id": "FmmZFN2Hnla0",
        "colab_type": "text"
      },
      "source": [
        "Vamos importar o framework PyTorch e utilizá-lo para construir e treinar redes neurais.  \n",
        "Antes disso, é importante saber que existem diversos frameworks bastante utilizados, em diferentes contextos. Por exemplo:\n",
        "- [Theano (obsoleto)](http://deeplearning.net/software/theano/): foi um dos primeiros frameworks que permitia computação eficiente de cálculos com vetores e matrizes utilizando CPUs e GPUs.\n",
        "- [Tensorflow](https://www.tensorflow.org/): é um dos _backends_ que substituiu o Theano; desenvolvido pela Google, o Tensorflow é uma ferramenta poderosa para operar cálculos sobre grafos, e é amplamente utilizado no desenvolvimento e _deploy_ de modelos de _deep learning_. Recentemente, a versão 2.0 absorveu a API [Keras](https://keras.io/), que é uma abstração de mais alto nível para a construção de modelos de redes neurais profundas.\n",
        "- [Trax](https://trax-ml.readthedocs.io/en/latest/) é uma biblioteca mantida pelo time da Google Brain que busca abstrair ainda mais os códigos de deep learning, tornando o processo mais veloz e a implementação mais simples, em alto nível. Para otimizar a velocidade de processamento dos cálculos em GPUs/TPUs, o trax usa uma versão aprimorada do NumPy, chamada [JAX](https://github.com/google/jax).\n",
        "- [Caffe](https://caffe.berkeleyvision.org/) é um framework desenvolvido pelo grupo _Berkeley Artificial Intelligence Research_ (BAIR). Apesar de ter uma interface em Python, o framework é escrito em C++ e também possui uma API de baixo nível para C++. As applicações com Caffe são, em maioria, na área de visão computacional.\n",
        "\n"
      ]
    },
    {
      "cell_type": "markdown",
      "metadata": {
        "id": "8U3XeciSMg1s",
        "colab_type": "text"
      },
      "source": [
        "Finalment temos o [PyTorch](https://pytorch.org/), um framework mantido pelo time de inteligência artifical do Facebook.  \n",
        "\n",
        "Recentemente, o PyTorch ganhou muita atenção da comunidade acadêmica de pesquisa, principalmente por ser muito mais flexível do que o seu maior competidor, o TensorFlow 1.0, quando se torna necessário personalizar as camadas e operações realizadas numa rede neural.  \n",
        "\n",
        "Mesmo com a chegada do Tensorflow 2.0 (incluindo a integração com o Keras), o PyTorch continua crescendo em uso e adoção (veja [este post](https://towardsdatascience.com/pytorch-vs-tensorflow-in-2020-fe237862fae1) mais recente comparando a situação da competição PyTorch vs. Tensorflow em 2020, observando que hoje em dia há pouca diferença em termos de implementação)"
      ]
    },
    {
      "cell_type": "markdown",
      "metadata": {
        "id": "fwVlOGdQTiwC",
        "colab_type": "text"
      },
      "source": [
        "Agora sim, após esse contexto, vamos aprender como utilizar o PyTorch. Como recomendação, tente fazer as mesmas tarefas daqui usando o TensorFlow. :)"
      ]
    },
    {
      "cell_type": "code",
      "metadata": {
        "id": "fPpBpWd5CVtu",
        "colab_type": "code",
        "colab": {}
      },
      "source": [
        "import torch"
      ],
      "execution_count": 5,
      "outputs": []
    },
    {
      "cell_type": "markdown",
      "metadata": {
        "id": "pr2gf3etMfM2",
        "colab_type": "text"
      },
      "source": [
        "Vamos verificar a versão do PyTorch, e também do CUDA (suporte para processamento em GPU) relacionado."
      ]
    },
    {
      "cell_type": "code",
      "metadata": {
        "id": "zTRu7EpBnl8K",
        "colab_type": "code",
        "colab": {
          "base_uri": "https://localhost:8080/",
          "height": 35
        },
        "outputId": "adcc23d2-5d68-49e5-b332-193b961a7584"
      },
      "source": [
        "torch.__version__"
      ],
      "execution_count": 6,
      "outputs": [
        {
          "output_type": "execute_result",
          "data": {
            "application/vnd.google.colaboratory.intrinsic+json": {
              "type": "string"
            },
            "text/plain": [
              "'1.6.0+cu101'"
            ]
          },
          "metadata": {
            "tags": []
          },
          "execution_count": 6
        }
      ]
    },
    {
      "cell_type": "markdown",
      "metadata": {
        "id": "aAoCJdTYDDZV",
        "colab_type": "text"
      },
      "source": [
        "<a name=\"1\"></a>\n",
        "## Preliminares: Tensores"
      ]
    },
    {
      "cell_type": "markdown",
      "metadata": {
        "id": "XbZDjwtrT_nN",
        "colab_type": "text"
      },
      "source": [
        "Assim como o pacote NumPy utiliza numpy-arrays como objeto para otimizar operações matemáticas utilizando as funções da sua biblioteca, os cálculos sobre grafos (ou seja, sobre redes neurais) também precisam de um tipo de objeto particular.  \n",
        "\n",
        "São os tensores. Um tensor nada mais é do que uma generalização dos conceitos de vetores/matrizes para espaços multidimensionais. Sua propriedade mais importante é se comportar como uma \"entidade\" que consegue se relacionar com outras entidades e sofrer transformações."
      ]
    },
    {
      "cell_type": "markdown",
      "metadata": {
        "id": "Bq1Z-FcLpYZN",
        "colab_type": "text"
      },
      "source": [
        "<a name=\"11\"></a>\n",
        "### Criando tensores"
      ]
    },
    {
      "cell_type": "markdown",
      "metadata": {
        "id": "Jn3temQ4pJQa",
        "colab_type": "text"
      },
      "source": [
        "Criando tensores a partir de arrays numpy:"
      ]
    },
    {
      "cell_type": "code",
      "metadata": {
        "id": "iEMV8IgFDJxl",
        "colab_type": "code",
        "colab": {
          "base_uri": "https://localhost:8080/",
          "height": 67
        },
        "outputId": "b7df4fd2-f380-4d9f-ec40-8075a6c5bf35"
      },
      "source": [
        "x = np.array([1,2,3,4])\n",
        "print(type(x), x.dtype, x, sep='\\n')"
      ],
      "execution_count": 7,
      "outputs": [
        {
          "output_type": "stream",
          "text": [
            "<class 'numpy.ndarray'>\n",
            "int64\n",
            "[1 2 3 4]\n"
          ],
          "name": "stdout"
        }
      ]
    },
    {
      "cell_type": "code",
      "metadata": {
        "id": "Y2V7A898nvaF",
        "colab_type": "code",
        "colab": {
          "base_uri": "https://localhost:8080/",
          "height": 67
        },
        "outputId": "4e0cdb64-7245-4783-b121-b20370846d0f"
      },
      "source": [
        "X = torch.from_numpy(x) # np.ndarray para torch-tensor\n",
        "print(type(X), X.dtype, X, sep='\\n')"
      ],
      "execution_count": 8,
      "outputs": [
        {
          "output_type": "stream",
          "text": [
            "<class 'torch.Tensor'>\n",
            "torch.int64\n",
            "tensor([1, 2, 3, 4])\n"
          ],
          "name": "stdout"
        }
      ]
    },
    {
      "cell_type": "markdown",
      "metadata": {
        "id": "rClt1ofGpM-t",
        "colab_type": "text"
      },
      "source": [
        "Criando tensores independentes das arrays numpy:"
      ]
    },
    {
      "cell_type": "code",
      "metadata": {
        "id": "C1rhJpO3n8jP",
        "colab_type": "code",
        "colab": {
          "base_uri": "https://localhost:8080/",
          "height": 67
        },
        "outputId": "642a2a62-de9f-4d85-cc1d-e7e22f775f39"
      },
      "source": [
        "X_copy = torch.tensor(x)\n",
        "print(type(X_copy), X_copy.dtype, X_copy, sep='\\n')"
      ],
      "execution_count": 9,
      "outputs": [
        {
          "output_type": "stream",
          "text": [
            "<class 'torch.Tensor'>\n",
            "torch.int64\n",
            "tensor([1, 2, 3, 4])\n"
          ],
          "name": "stdout"
        }
      ]
    },
    {
      "cell_type": "markdown",
      "metadata": {
        "id": "8ZRbymiyoJsV",
        "colab_type": "text"
      },
      "source": [
        "Em resumo:\n",
        "- `torch.from_numpy()` e `torch.as_tensor()` usam a mesma memória (instância), portanto uma alteração em um deles causa uma alteração no outro    \n",
        "\n",
        "- ``torch.tensor()`` faz uma cópia independente do array de entrada"
      ]
    },
    {
      "cell_type": "code",
      "metadata": {
        "id": "9xClvmXpoIk-",
        "colab_type": "code",
        "colab": {
          "base_uri": "https://localhost:8080/",
          "height": 67
        },
        "outputId": "39fce522-bfcb-46a0-d9f0-cb339bed794b"
      },
      "source": [
        "x[3] = -100\n",
        "print(f' numpy x: {x}, \\n tensor X (from numpy): {X}, \\n tensor X_copy: {X_copy}' )"
      ],
      "execution_count": 10,
      "outputs": [
        {
          "output_type": "stream",
          "text": [
            " numpy x: [   1    2    3 -100], \n",
            " tensor X (from numpy): tensor([   1,    2,    3, -100]), \n",
            " tensor X_copy: tensor([1, 2, 3, 4])\n"
          ],
          "name": "stdout"
        }
      ]
    },
    {
      "cell_type": "markdown",
      "metadata": {
        "id": "Xzq4aG0YpfCi",
        "colab_type": "text"
      },
      "source": [
        "Outros construtores da classe 'tensor' são:"
      ]
    },
    {
      "cell_type": "code",
      "metadata": {
        "id": "ikdDvKrHpeQ5",
        "colab_type": "code",
        "colab": {
          "base_uri": "https://localhost:8080/",
          "height": 34
        },
        "outputId": "a6aeca7c-ff20-4168-fe21-05ff861a5ab7"
      },
      "source": [
        "torch.FloatTensor([1,2,3,4]) # equivalente a torch.Tensor()"
      ],
      "execution_count": 11,
      "outputs": [
        {
          "output_type": "execute_result",
          "data": {
            "text/plain": [
              "tensor([1., 2., 3., 4.])"
            ]
          },
          "metadata": {
            "tags": []
          },
          "execution_count": 11
        }
      ]
    },
    {
      "cell_type": "code",
      "metadata": {
        "id": "5RC64NTopqjA",
        "colab_type": "code",
        "colab": {
          "base_uri": "https://localhost:8080/",
          "height": 34
        },
        "outputId": "32d9480b-91a4-4c1c-f336-f46e525bdb6d"
      },
      "source": [
        "torch.LongTensor([1.1, 2.054, 3.141516, 4.]) # equivalenta a torch.tensor([1,2,3,4], dtype=torch.long)"
      ],
      "execution_count": 12,
      "outputs": [
        {
          "output_type": "execute_result",
          "data": {
            "text/plain": [
              "tensor([1, 2, 3, 4])"
            ]
          },
          "metadata": {
            "tags": []
          },
          "execution_count": 12
        }
      ]
    },
    {
      "cell_type": "markdown",
      "metadata": {
        "id": "ZD6JKQw8pWvY",
        "colab_type": "text"
      },
      "source": [
        "<a name=\"12\"></a>\n",
        "### Inicializando Tensores"
      ]
    },
    {
      "cell_type": "markdown",
      "metadata": {
        "id": "iDGo78LJW5dL",
        "colab_type": "text"
      },
      "source": [
        "Tensores \"vazios\":"
      ]
    },
    {
      "cell_type": "code",
      "metadata": {
        "id": "h5aWqv0gotdT",
        "colab_type": "code",
        "colab": {
          "base_uri": "https://localhost:8080/",
          "height": 151
        },
        "outputId": "8d3deb93-1a87-4645-f5cf-890dd4ef5549"
      },
      "source": [
        "torch.empty(size=(4,10) )"
      ],
      "execution_count": 13,
      "outputs": [
        {
          "output_type": "execute_result",
          "data": {
            "text/plain": [
              "tensor([[1.2186e-35, 0.0000e+00, 0.0000e+00, 0.0000e+00, 0.0000e+00, 0.0000e+00,\n",
              "         0.0000e+00, 0.0000e+00, 0.0000e+00, 0.0000e+00],\n",
              "        [0.0000e+00, 0.0000e+00, 0.0000e+00, 0.0000e+00, 0.0000e+00, 0.0000e+00,\n",
              "         0.0000e+00, 0.0000e+00, 0.0000e+00, 0.0000e+00],\n",
              "        [0.0000e+00, 0.0000e+00, 0.0000e+00, 0.0000e+00, 0.0000e+00, 0.0000e+00,\n",
              "         0.0000e+00, 0.0000e+00, 0.0000e+00, 0.0000e+00],\n",
              "        [0.0000e+00, 0.0000e+00, 0.0000e+00, 0.0000e+00, 0.0000e+00, 0.0000e+00,\n",
              "         0.0000e+00, 0.0000e+00, 0.0000e+00, 0.0000e+00]])"
            ]
          },
          "metadata": {
            "tags": []
          },
          "execution_count": 13
        }
      ]
    },
    {
      "cell_type": "markdown",
      "metadata": {
        "id": "P4yAQij6W72d",
        "colab_type": "text"
      },
      "source": [
        "Tensores de uns e zeros (às vezes são chamados de \"máscaras\"):"
      ]
    },
    {
      "cell_type": "code",
      "metadata": {
        "id": "AdfIhA3QqUjM",
        "colab_type": "code",
        "colab": {
          "base_uri": "https://localhost:8080/",
          "height": 67
        },
        "outputId": "dcfe3d2c-3d2e-43ba-9ee2-f68378278ffc"
      },
      "source": [
        "torch.ones(size=(3,4))"
      ],
      "execution_count": 14,
      "outputs": [
        {
          "output_type": "execute_result",
          "data": {
            "text/plain": [
              "tensor([[1., 1., 1., 1.],\n",
              "        [1., 1., 1., 1.],\n",
              "        [1., 1., 1., 1.]])"
            ]
          },
          "metadata": {
            "tags": []
          },
          "execution_count": 14
        }
      ]
    },
    {
      "cell_type": "code",
      "metadata": {
        "id": "rZSzAkPyqX-4",
        "colab_type": "code",
        "colab": {
          "base_uri": "https://localhost:8080/",
          "height": 50
        },
        "outputId": "5fbef793-abc9-4e5b-d208-6a652c3452a6"
      },
      "source": [
        "torch.zeros(size=(2,5))"
      ],
      "execution_count": 15,
      "outputs": [
        {
          "output_type": "execute_result",
          "data": {
            "text/plain": [
              "tensor([[0., 0., 0., 0., 0.],\n",
              "        [0., 0., 0., 0., 0.]])"
            ]
          },
          "metadata": {
            "tags": []
          },
          "execution_count": 15
        }
      ]
    },
    {
      "cell_type": "markdown",
      "metadata": {
        "id": "BXhL2pQYXCqm",
        "colab_type": "text"
      },
      "source": [
        "Em vez de usar as dimensões (size, shape) como entrada, podemos \"exemplificar\" com outro tensor já existente:"
      ]
    },
    {
      "cell_type": "code",
      "metadata": {
        "id": "yrtsVHbGxOpO",
        "colab_type": "code",
        "colab": {
          "base_uri": "https://localhost:8080/",
          "height": 34
        },
        "outputId": "83a3d892-6edf-4979-e84d-91a77f881726"
      },
      "source": [
        "torch.ones_like(X_copy,dtype=torch.float)"
      ],
      "execution_count": 16,
      "outputs": [
        {
          "output_type": "execute_result",
          "data": {
            "text/plain": [
              "tensor([1., 1., 1., 1.])"
            ]
          },
          "metadata": {
            "tags": []
          },
          "execution_count": 16
        }
      ]
    },
    {
      "cell_type": "code",
      "metadata": {
        "id": "mvnkNSfIxTJf",
        "colab_type": "code",
        "colab": {
          "base_uri": "https://localhost:8080/",
          "height": 34
        },
        "outputId": "76da5fb6-4e5a-4ce2-88a1-4f76f6b11bb0"
      },
      "source": [
        "torch.zeros_like(X_copy)"
      ],
      "execution_count": 17,
      "outputs": [
        {
          "output_type": "execute_result",
          "data": {
            "text/plain": [
              "tensor([0, 0, 0, 0])"
            ]
          },
          "metadata": {
            "tags": []
          },
          "execution_count": 17
        }
      ]
    },
    {
      "cell_type": "markdown",
      "metadata": {
        "id": "J3RcuF1xXMJg",
        "colab_type": "text"
      },
      "source": [
        "**Sequências** ``[início, fim)`` com passo fixo (número de elementos calculado):"
      ]
    },
    {
      "cell_type": "code",
      "metadata": {
        "id": "Yxpp4UYSqcI-",
        "colab_type": "code",
        "colab": {
          "base_uri": "https://localhost:8080/",
          "height": 34
        },
        "outputId": "32a5fa6f-01e9-4150-fd67-c21eabb045fb"
      },
      "source": [
        "torch.arange(start=-10, end=11, step=2)"
      ],
      "execution_count": 18,
      "outputs": [
        {
          "output_type": "execute_result",
          "data": {
            "text/plain": [
              "tensor([-10,  -8,  -6,  -4,  -2,   0,   2,   4,   6,   8,  10])"
            ]
          },
          "metadata": {
            "tags": []
          },
          "execution_count": 18
        }
      ]
    },
    {
      "cell_type": "markdown",
      "metadata": {
        "id": "DbO_6seyXUmM",
        "colab_type": "text"
      },
      "source": [
        "**Sequências** com $n$ elementos igualmente espaçados entre ``[início, fim)`` (passo calculado):"
      ]
    },
    {
      "cell_type": "code",
      "metadata": {
        "id": "MJT9p3V0qkSl",
        "colab_type": "code",
        "colab": {
          "base_uri": "https://localhost:8080/",
          "height": 67
        },
        "outputId": "9186efb2-7d0d-46f7-de00-9c559c9da6d3"
      },
      "source": [
        "torch.linspace(start=0, end=10, steps=21)"
      ],
      "execution_count": 19,
      "outputs": [
        {
          "output_type": "execute_result",
          "data": {
            "text/plain": [
              "tensor([ 0.0000,  0.5000,  1.0000,  1.5000,  2.0000,  2.5000,  3.0000,  3.5000,\n",
              "         4.0000,  4.5000,  5.0000,  5.5000,  6.0000,  6.5000,  7.0000,  7.5000,\n",
              "         8.0000,  8.5000,  9.0000,  9.5000, 10.0000])"
            ]
          },
          "metadata": {
            "tags": []
          },
          "execution_count": 19
        }
      ]
    },
    {
      "cell_type": "markdown",
      "metadata": {
        "id": "tcze7oEHXwX0",
        "colab_type": "text"
      },
      "source": [
        "Também podemos usar ``reshape`` e ``view`` para mudar as dimensões dos tensores:"
      ]
    },
    {
      "cell_type": "code",
      "metadata": {
        "id": "AlBybw19qpNP",
        "colab_type": "code",
        "colab": {
          "base_uri": "https://localhost:8080/",
          "height": 134
        },
        "outputId": "ff34db6f-c001-4466-a1d7-40b49d90421a"
      },
      "source": [
        "torch.linspace(start=0, end=10, steps=21).reshape(shape=(-1,3))"
      ],
      "execution_count": 20,
      "outputs": [
        {
          "output_type": "execute_result",
          "data": {
            "text/plain": [
              "tensor([[ 0.0000,  0.5000,  1.0000],\n",
              "        [ 1.5000,  2.0000,  2.5000],\n",
              "        [ 3.0000,  3.5000,  4.0000],\n",
              "        [ 4.5000,  5.0000,  5.5000],\n",
              "        [ 6.0000,  6.5000,  7.0000],\n",
              "        [ 7.5000,  8.0000,  8.5000],\n",
              "        [ 9.0000,  9.5000, 10.0000]])"
            ]
          },
          "metadata": {
            "tags": []
          },
          "execution_count": 20
        }
      ]
    },
    {
      "cell_type": "code",
      "metadata": {
        "id": "WbpsGGa6q2kN",
        "colab_type": "code",
        "colab": {
          "base_uri": "https://localhost:8080/",
          "height": 134
        },
        "outputId": "951a8482-5008-4913-9ff3-ba1162db9fb8"
      },
      "source": [
        "torch.linspace(start=0, end=10, steps=21).view(size=(-1,3))"
      ],
      "execution_count": 21,
      "outputs": [
        {
          "output_type": "execute_result",
          "data": {
            "text/plain": [
              "tensor([[ 0.0000,  0.5000,  1.0000],\n",
              "        [ 1.5000,  2.0000,  2.5000],\n",
              "        [ 3.0000,  3.5000,  4.0000],\n",
              "        [ 4.5000,  5.0000,  5.5000],\n",
              "        [ 6.0000,  6.5000,  7.0000],\n",
              "        [ 7.5000,  8.0000,  8.5000],\n",
              "        [ 9.0000,  9.5000, 10.0000]])"
            ]
          },
          "metadata": {
            "tags": []
          },
          "execution_count": 21
        }
      ]
    },
    {
      "cell_type": "markdown",
      "metadata": {
        "id": "e29AKlTtX1L9",
        "colab_type": "text"
      },
      "source": [
        "desde que sempre sejam mantidos o número total de elementos!"
      ]
    },
    {
      "cell_type": "markdown",
      "metadata": {
        "id": "FjtxIlNkv6k2",
        "colab_type": "text"
      },
      "source": [
        "<a name=\"13\"></a>\n",
        "### Tensores com números aleatórios"
      ]
    },
    {
      "cell_type": "markdown",
      "metadata": {
        "id": "3RGYJfZ3xcG6",
        "colab_type": "text"
      },
      "source": [
        "Semente fixa (para reproduzir os resultados):"
      ]
    },
    {
      "cell_type": "code",
      "metadata": {
        "id": "v41RODbJxg3B",
        "colab_type": "code",
        "colab": {
          "base_uri": "https://localhost:8080/",
          "height": 34
        },
        "outputId": "e1fd7931-eb90-4ab4-c633-79d9b97a7e71"
      },
      "source": [
        "torch.manual_seed(42)"
      ],
      "execution_count": 22,
      "outputs": [
        {
          "output_type": "execute_result",
          "data": {
            "text/plain": [
              "<torch._C.Generator at 0x7f091cf38a98>"
            ]
          },
          "metadata": {
            "tags": []
          },
          "execution_count": 22
        }
      ]
    },
    {
      "cell_type": "markdown",
      "metadata": {
        "id": "fhusTSlLwHI7",
        "colab_type": "text"
      },
      "source": [
        "Cada elemento segue uma distribuição uniforme (valores entre $0$ e $1$, com a mesma probabilidade de serem gerados):"
      ]
    },
    {
      "cell_type": "code",
      "metadata": {
        "id": "m7WX_dSsrbyA",
        "colab_type": "code",
        "colab": {
          "base_uri": "https://localhost:8080/",
          "height": 34
        },
        "outputId": "06fb4317-5622-46d4-cd37-6a8466d225e0"
      },
      "source": [
        "torch.rand(1, 7)"
      ],
      "execution_count": 23,
      "outputs": [
        {
          "output_type": "execute_result",
          "data": {
            "text/plain": [
              "tensor([[0.8823, 0.9150, 0.3829, 0.9593, 0.3904, 0.6009, 0.2566]])"
            ]
          },
          "metadata": {
            "tags": []
          },
          "execution_count": 23
        }
      ]
    },
    {
      "cell_type": "markdown",
      "metadata": {
        "id": "bb5huj8FwQZd",
        "colab_type": "text"
      },
      "source": [
        "Cada elemento segue uma distribuição Gaussiana normal (média em $0$, desvio padrão $1$)"
      ]
    },
    {
      "cell_type": "code",
      "metadata": {
        "id": "rmHE5DCrv_yP",
        "colab_type": "code",
        "colab": {
          "base_uri": "https://localhost:8080/",
          "height": 34
        },
        "outputId": "fc15a7f0-68a1-44a3-8762-7f9e7988f61e"
      },
      "source": [
        "torch.randn(1,7)"
      ],
      "execution_count": 24,
      "outputs": [
        {
          "output_type": "execute_result",
          "data": {
            "text/plain": [
              "tensor([[-0.2147,  0.2989, -0.0107, -1.2492, -1.2284,  0.5294,  1.2211]])"
            ]
          },
          "metadata": {
            "tags": []
          },
          "execution_count": 24
        }
      ]
    },
    {
      "cell_type": "markdown",
      "metadata": {
        "id": "9-J3-MzDwsuS",
        "colab_type": "text"
      },
      "source": [
        "Números inteiros, sorteados aleatoriamente (com a mesma probabilidade) entre $a$ (`low`) e $b$ (`high`) (*valor superior não inclusivo*)."
      ]
    },
    {
      "cell_type": "code",
      "metadata": {
        "id": "As1Az0YJwExX",
        "colab_type": "code",
        "colab": {
          "base_uri": "https://localhost:8080/",
          "height": 101
        },
        "outputId": "fe56484e-0909-4dd4-cb00-416081b27ab0"
      },
      "source": [
        "torch.randint(low=0, high=4, size=(5,5))"
      ],
      "execution_count": 25,
      "outputs": [
        {
          "output_type": "execute_result",
          "data": {
            "text/plain": [
              "tensor([[3, 3, 1, 1, 1],\n",
              "        [3, 3, 0, 0, 3],\n",
              "        [1, 1, 0, 3, 0],\n",
              "        [0, 2, 2, 2, 1],\n",
              "        [3, 3, 3, 3, 2]])"
            ]
          },
          "metadata": {
            "tags": []
          },
          "execution_count": 25
        }
      ]
    },
    {
      "cell_type": "markdown",
      "metadata": {
        "id": "ImgIBmbiYABK",
        "colab_type": "text"
      },
      "source": [
        "Também podemos criar tensores aleatórios exemplificando com as dimensões de um outro tensor existente."
      ]
    },
    {
      "cell_type": "code",
      "metadata": {
        "id": "rSN8nvbHx0Oq",
        "colab_type": "code",
        "colab": {
          "base_uri": "https://localhost:8080/",
          "height": 67
        },
        "outputId": "eecb02a0-7217-45d3-84cc-8adfe606cb4d"
      },
      "source": [
        "X0 = torch.arange(0, 12, dtype=torch.float64).view(size=(3,-1))\n",
        "X0"
      ],
      "execution_count": 26,
      "outputs": [
        {
          "output_type": "execute_result",
          "data": {
            "text/plain": [
              "tensor([[ 0.,  1.,  2.,  3.],\n",
              "        [ 4.,  5.,  6.,  7.],\n",
              "        [ 8.,  9., 10., 11.]], dtype=torch.float64)"
            ]
          },
          "metadata": {
            "tags": []
          },
          "execution_count": 26
        }
      ]
    },
    {
      "cell_type": "code",
      "metadata": {
        "id": "DQ7fGvo0wfJa",
        "colab_type": "code",
        "colab": {
          "base_uri": "https://localhost:8080/",
          "height": 67
        },
        "outputId": "70cc59f2-8a6c-45ea-f7a7-58fb5d128545"
      },
      "source": [
        "X1 = torch.randn_like(X0)\n",
        "X1"
      ],
      "execution_count": 27,
      "outputs": [
        {
          "output_type": "execute_result",
          "data": {
            "text/plain": [
              "tensor([[ 0.1511,  0.2815,  0.0562,  0.5227],\n",
              "        [-0.2384, -0.0499,  0.5263, -0.0085],\n",
              "        [ 0.7291,  0.1331,  0.8640, -1.0157]], dtype=torch.float64)"
            ]
          },
          "metadata": {
            "tags": []
          },
          "execution_count": 27
        }
      ]
    },
    {
      "cell_type": "markdown",
      "metadata": {
        "id": "QGaBdP07xkBj",
        "colab_type": "text"
      },
      "source": [
        "<a name=\"14\"></a>\n",
        "### Atributos de tensores"
      ]
    },
    {
      "cell_type": "markdown",
      "metadata": {
        "id": "ejG_BiUWYI6_",
        "colab_type": "text"
      },
      "source": [
        "``shape`` é um atributo de um tensor, enquanto ``size()`` é um método que retorna esse atributo como saída"
      ]
    },
    {
      "cell_type": "code",
      "metadata": {
        "id": "_aILOXtQxnP4",
        "colab_type": "code",
        "colab": {
          "base_uri": "https://localhost:8080/",
          "height": 34
        },
        "outputId": "e6eca99f-6fb1-457f-c97d-26fc5c47ba60"
      },
      "source": [
        "X1.shape"
      ],
      "execution_count": 28,
      "outputs": [
        {
          "output_type": "execute_result",
          "data": {
            "text/plain": [
              "torch.Size([3, 4])"
            ]
          },
          "metadata": {
            "tags": []
          },
          "execution_count": 28
        }
      ]
    },
    {
      "cell_type": "code",
      "metadata": {
        "id": "bfloHo6TyTpE",
        "colab_type": "code",
        "colab": {
          "base_uri": "https://localhost:8080/",
          "height": 34
        },
        "outputId": "6ca20f04-625d-4aaa-9bd3-8ea0bccbcdae"
      },
      "source": [
        "X1.size()"
      ],
      "execution_count": 29,
      "outputs": [
        {
          "output_type": "execute_result",
          "data": {
            "text/plain": [
              "torch.Size([3, 4])"
            ]
          },
          "metadata": {
            "tags": []
          },
          "execution_count": 29
        }
      ]
    },
    {
      "cell_type": "markdown",
      "metadata": {
        "id": "Xy0ij_JmYTCJ",
        "colab_type": "text"
      },
      "source": [
        "``device`` é um atributo que indica se o tensor está rodando sobre uma CPU ou GPU"
      ]
    },
    {
      "cell_type": "code",
      "metadata": {
        "id": "8QkJGj-1yUXe",
        "colab_type": "code",
        "colab": {
          "base_uri": "https://localhost:8080/",
          "height": 34
        },
        "outputId": "e8d37e11-b7db-444f-ccc2-32ed3c3be6a5"
      },
      "source": [
        "X1.device"
      ],
      "execution_count": 30,
      "outputs": [
        {
          "output_type": "execute_result",
          "data": {
            "text/plain": [
              "device(type='cpu')"
            ]
          },
          "metadata": {
            "tags": []
          },
          "execution_count": 30
        }
      ]
    },
    {
      "cell_type": "code",
      "metadata": {
        "id": "g0989209yXkq",
        "colab_type": "code",
        "colab": {}
      },
      "source": [
        "# cuda"
      ],
      "execution_count": 31,
      "outputs": []
    },
    {
      "cell_type": "markdown",
      "metadata": {
        "id": "6fBenLLKydpL",
        "colab_type": "text"
      },
      "source": [
        "<a name=\"15\"></a>\n",
        "### Slicing e Operações"
      ]
    },
    {
      "cell_type": "markdown",
      "metadata": {
        "id": "Jb4xWgqvygQZ",
        "colab_type": "text"
      },
      "source": [
        "Slicing funciona similar ao numpy:"
      ]
    },
    {
      "cell_type": "code",
      "metadata": {
        "id": "DlRkxrGJyfWb",
        "colab_type": "code",
        "colab": {
          "base_uri": "https://localhost:8080/",
          "height": 151
        },
        "outputId": "7796f416-055b-41ff-9786-8d5f76235233"
      },
      "source": [
        "print('X1:', X1, sep='\\n')\n",
        "print(f'shape de X1: {X1.shape}')\n",
        "print(f'Linha 0 de X1: {X1[0]}')\n",
        "print(f'Coluna 0 de X1: {X1[:, 0]}')\n",
        "print(f'Elemento da Linha 2, Coluna 1 de X1: {X1[2, 1]}')"
      ],
      "execution_count": 32,
      "outputs": [
        {
          "output_type": "stream",
          "text": [
            "X1:\n",
            "tensor([[ 0.1511,  0.2815,  0.0562,  0.5227],\n",
            "        [-0.2384, -0.0499,  0.5263, -0.0085],\n",
            "        [ 0.7291,  0.1331,  0.8640, -1.0157]], dtype=torch.float64)\n",
            "shape de X1: torch.Size([3, 4])\n",
            "Linha 0 de X1: tensor([0.1511, 0.2815, 0.0562, 0.5227], dtype=torch.float64)\n",
            "Coluna 0 de X1: tensor([ 0.1511, -0.2384,  0.7291], dtype=torch.float64)\n",
            "Elemento da Linha 2, Coluna 1 de X1: 0.1331419636369182\n"
          ],
          "name": "stdout"
        }
      ]
    },
    {
      "cell_type": "markdown",
      "metadata": {
        "id": "e1Iky4Ij0K5Q",
        "colab_type": "text"
      },
      "source": [
        "Vamos criar dois tensores em formato de vetor linha, $\\mathbf{v}_1$ e $\\mathbf{v}_2$, com dimensões $1 \\times n_{\\text{c}}$, sendo $n_c$ o número de colunas."
      ]
    },
    {
      "cell_type": "code",
      "metadata": {
        "id": "08Z6azOJyi4B",
        "colab_type": "code",
        "colab": {
          "base_uri": "https://localhost:8080/",
          "height": 50
        },
        "outputId": "c970e46a-ef4c-41b2-bac8-08d69935d89f"
      },
      "source": [
        "v1 = torch.arange(3,0,-1, dtype=torch.float64).view(size=(-1,3))\n",
        "v2 = torch.from_numpy(np.array([1,0,-1])).view(size=(-1,3)).type(torch.float64)\n",
        "print('v1', v1,v1.shape)\n",
        "print('v2', v2, v2.shape)"
      ],
      "execution_count": 33,
      "outputs": [
        {
          "output_type": "stream",
          "text": [
            "v1 tensor([[3., 2., 1.]], dtype=torch.float64) torch.Size([1, 3])\n",
            "v2 tensor([[ 1.,  0., -1.]], dtype=torch.float64) torch.Size([1, 3])\n"
          ],
          "name": "stdout"
        }
      ]
    },
    {
      "cell_type": "markdown",
      "metadata": {
        "id": "lepdyYUN0fCT",
        "colab_type": "text"
      },
      "source": [
        "Algumas **operações binárias elemento a elemento**, entre *tensores de dimensões idênticas*:"
      ]
    },
    {
      "cell_type": "code",
      "metadata": {
        "id": "NQsHx3Iczf7w",
        "colab_type": "code",
        "colab": {
          "base_uri": "https://localhost:8080/",
          "height": 34
        },
        "outputId": "952b5ab4-a142-4f84-c7a5-10c0e8595119"
      },
      "source": [
        "v1+v2"
      ],
      "execution_count": 34,
      "outputs": [
        {
          "output_type": "execute_result",
          "data": {
            "text/plain": [
              "tensor([[4., 2., 0.]], dtype=torch.float64)"
            ]
          },
          "metadata": {
            "tags": []
          },
          "execution_count": 34
        }
      ]
    },
    {
      "cell_type": "code",
      "metadata": {
        "id": "vqxVnPMczojZ",
        "colab_type": "code",
        "colab": {
          "base_uri": "https://localhost:8080/",
          "height": 34
        },
        "outputId": "9ab18144-be7c-4793-b41a-beb7346fcce6"
      },
      "source": [
        "v1-v2"
      ],
      "execution_count": 35,
      "outputs": [
        {
          "output_type": "execute_result",
          "data": {
            "text/plain": [
              "tensor([[2., 2., 2.]], dtype=torch.float64)"
            ]
          },
          "metadata": {
            "tags": []
          },
          "execution_count": 35
        }
      ]
    },
    {
      "cell_type": "code",
      "metadata": {
        "id": "a-rsvZWEzy0M",
        "colab_type": "code",
        "colab": {
          "base_uri": "https://localhost:8080/",
          "height": 34
        },
        "outputId": "748de307-883e-4903-bc21-21e9a2eb4b5b"
      },
      "source": [
        "v1*v2"
      ],
      "execution_count": 36,
      "outputs": [
        {
          "output_type": "execute_result",
          "data": {
            "text/plain": [
              "tensor([[ 3.,  0., -1.]], dtype=torch.float64)"
            ]
          },
          "metadata": {
            "tags": []
          },
          "execution_count": 36
        }
      ]
    },
    {
      "cell_type": "code",
      "metadata": {
        "id": "-9Hq19rZzzl5",
        "colab_type": "code",
        "colab": {
          "base_uri": "https://localhost:8080/",
          "height": 34
        },
        "outputId": "0b3b499b-6572-489b-871a-3cf440717fcc"
      },
      "source": [
        "v1/v2"
      ],
      "execution_count": 37,
      "outputs": [
        {
          "output_type": "execute_result",
          "data": {
            "text/plain": [
              "tensor([[ 3., inf, -1.]], dtype=torch.float64)"
            ]
          },
          "metadata": {
            "tags": []
          },
          "execution_count": 37
        }
      ]
    },
    {
      "cell_type": "code",
      "metadata": {
        "id": "WE0Uvy7GsBbh",
        "colab_type": "code",
        "colab": {
          "base_uri": "https://localhost:8080/",
          "height": 34
        },
        "outputId": "6bc95097-67ff-4fba-ab16-2a1d31827572"
      },
      "source": [
        "v1**v2"
      ],
      "execution_count": 38,
      "outputs": [
        {
          "output_type": "execute_result",
          "data": {
            "text/plain": [
              "tensor([[3., 1., 1.]], dtype=torch.float64)"
            ]
          },
          "metadata": {
            "tags": []
          },
          "execution_count": 38
        }
      ]
    },
    {
      "cell_type": "markdown",
      "metadata": {
        "id": "selS8t760pAK",
        "colab_type": "text"
      },
      "source": [
        "Para realizar **operações matriciais** (em duas dimensões), precisamos respeitar a regra de que o número de colunas da matriz à esquerda tem que ser o mesmo número de linhas da matriz à direita."
      ]
    },
    {
      "cell_type": "markdown",
      "metadata": {
        "id": "eQy9AMJGsvDx",
        "colab_type": "text"
      },
      "source": [
        "Seja $A$ uma matriz com $m$ linhas e $n$ colunas e $B$ uma matriz com $n$ linhas e $p$ colunas, temos que:\n",
        "\n",
        "$A_{m \\times n}$ $\\times$ $B_{n \\times p}$ = $C_{m \\times p}$ \n",
        "\n",
        "resulta na matriz $C$ com $m$ linhas e $p$ colunas.  \n",
        "Note que o número de colunas de $A$, matriz à esquerda da multiplicação, é idêntico ao número de linhas de $B$, matriz à direita da multiplicação, portanto é possível realizar a operação."
      ]
    },
    {
      "cell_type": "code",
      "metadata": {
        "id": "sWSv16uAz01V",
        "colab_type": "code",
        "colab": {
          "base_uri": "https://localhost:8080/",
          "height": 101
        },
        "outputId": "1641fca6-c065-4015-be43-438df32ea930"
      },
      "source": [
        "print(f' shape de v1: {v1.shape}')\n",
        "print(f' shape de v2 tranposto: {v2.T.shape}')\n",
        "print(f' # de colunas de v1 é igual ao # de linhas de v2.T? {v1.shape[1] == v2.T.shape[0]}')\n",
        "print(f' v1 multiplicando matricialmente v2.T: {v1@v2.T}')  # torch.dot(v1, v2.T)\n",
        "print(f' dimensões do resultado {v1.shape[0]} x {v2.T.shape[1]}')"
      ],
      "execution_count": 39,
      "outputs": [
        {
          "output_type": "stream",
          "text": [
            " shape de v1: torch.Size([1, 3])\n",
            " shape de v2 tranposto: torch.Size([3, 1])\n",
            " # de colunas de v1 é igual ao # de linhas de v2.T? True\n",
            " v1 multiplicando matricialmente v2.T: tensor([[2.]], dtype=torch.float64)\n",
            " dimensões do resultado 1 x 1\n"
          ],
          "name": "stdout"
        }
      ]
    },
    {
      "cell_type": "code",
      "metadata": {
        "id": "vkgAaJTw0Dra",
        "colab_type": "code",
        "colab": {
          "base_uri": "https://localhost:8080/",
          "height": 151
        },
        "outputId": "5731131e-d554-47dc-fca7-64fa4220dff7"
      },
      "source": [
        "print(f' shape de v1 transposto: {v1.T.shape}')\n",
        "print(f' shape de v2 : {v2.shape}')\n",
        "print(f' # de colunas de v1 é igual ao # de linhas de v2.T? {v1.T.shape[1] == v2.shape[0]}')\n",
        "print('v1.T multiplicando matricialmente v2:', v1.T@v2, sep='\\n') \n",
        "print(f' dimensões do resultado {v1.T.shape[0]} x {v2.shape[1]}')"
      ],
      "execution_count": 40,
      "outputs": [
        {
          "output_type": "stream",
          "text": [
            " shape de v1 transposto: torch.Size([3, 1])\n",
            " shape de v2 : torch.Size([1, 3])\n",
            " # de colunas de v1 é igual ao # de linhas de v2.T? True\n",
            "v1.T multiplicando matricialmente v2:\n",
            "tensor([[ 3.,  0., -3.],\n",
            "        [ 2.,  0., -2.],\n",
            "        [ 1.,  0., -1.]], dtype=torch.float64)\n",
            " dimensões do resultado 3 x 3\n"
          ],
          "name": "stdout"
        }
      ]
    },
    {
      "cell_type": "markdown",
      "metadata": {
        "id": "Ftjwz7Nq3LW3",
        "colab_type": "text"
      },
      "source": [
        "<a name=\"2\"></a>\n",
        "## Implementando uma Regressão Linear com Redes Neurais"
      ]
    },
    {
      "cell_type": "markdown",
      "metadata": {
        "id": "EVnBF8uk3TRd",
        "colab_type": "text"
      },
      "source": [
        "Uma regressão linear é uma estimativa de uma variável dependente $h$ a partir de uma combinação linear de variáveis observadas $x_1, \\ldots, x_n$, independentes entre si.  \n",
        "As contribuições de cada variável independente para a previsão da variável estimada são ponderadas pelos coeficientes $w_1, \\ldots, w_n$.\n",
        "\n",
        "Matematicamente, realizamos o procedimento como mostrado na ilustração abaixo:"
      ]
    },
    {
      "cell_type": "markdown",
      "metadata": {
        "id": "fuT_rB3Rbf9f",
        "colab_type": "text"
      },
      "source": [
        "<img src=\"https://drive.google.com/uc?export=view&id=1X2lh9TJOqL3bAHfnQUilcvGFYqkEbU5x\" alt=\"Cálculo da métrica do Perceptron:\" width=\"500px\"/> "
      ]
    },
    {
      "cell_type": "markdown",
      "metadata": {
        "id": "91EikQUu6Q63",
        "colab_type": "text"
      },
      "source": [
        "Escrevendo na forma vetorial, podemos descrever a regressão linear conforme mostra a seguinte Figura:  \n",
        "<img src=\"https://drive.google.com/uc?export=view&id=1Bq8Y0FCzvRupRYN0hVIlkn_0MSGl5k1K\" alt=\"Função de ativação\" width=\"500px\"/> "
      ]
    },
    {
      "cell_type": "markdown",
      "metadata": {
        "id": "78Vb2sVm4HMk",
        "colab_type": "text"
      },
      "source": [
        "A regressão linear é um cálculo recorrente na composição de redes neurais. Em 1958, Frank Rosenblatt desenvolveu o modelo de classificação supervisionada denominado __*perceptron*__. O perceptron nada mais é do que a aplicação de uma regra de decisão binária sobre o resultado de uma regressão linear:\n",
        "$g\\left(h\\right) = \\begin{cases} +1 & \\text{se } h\\geq 0 \\\\ -1 & \\text{se } h<0  \\end{cases}$."
      ]
    },
    {
      "cell_type": "markdown",
      "metadata": {
        "id": "PN0ly6uK5ump",
        "colab_type": "text"
      },
      "source": [
        "No contexto atual de redes neurais, denominamos esse tipo de transformação aplicada sobre o resultado de uma regressão linear de variáveis de entrada como **funções de ativação**. "
      ]
    },
    {
      "cell_type": "markdown",
      "metadata": {
        "id": "36UYg1bV6EdA",
        "colab_type": "text"
      },
      "source": [
        "Acrescentando a função de ativação, chegamos ao modelo de uma \"_unidade_\" de uma __camada densa__ de redes neurais. Essa unidade também é comumente denominada \"__neurônio__\", em função da motivação histórica que originou o conceito das redes neurais."
      ]
    },
    {
      "cell_type": "markdown",
      "metadata": {
        "id": "naX38lO77PAQ",
        "colab_type": "text"
      },
      "source": [
        "A imagem abaixo mostra como ocorre a operação matemática embutida em um neurônio de uma camada densa das redes neurais.   \n",
        "\n",
        "<img src=\"https://drive.google.com/uc?export=view&id=1IBMyPcC1uLabf0n9U84M968Lrw6X_0gM\" alt=\"Função de ativação\" width=\"500px\"/> "
      ]
    },
    {
      "cell_type": "markdown",
      "metadata": {
        "id": "-efO0Bq87lYc",
        "colab_type": "text"
      },
      "source": [
        "Quando a função de ativação é a identidade, o neurônio retorna um valor real (a regressão linear da saída). Entretanto, escolhendo a função de ativação sigmóide, por exemplo, na qual $g(h)=\\dfrac{1}{1-e^{-h}}$, o neurônio passa a implementar a **regressão logística**."
      ]
    },
    {
      "cell_type": "markdown",
      "metadata": {
        "id": "1uYQBx2w7-wl",
        "colab_type": "text"
      },
      "source": [
        "Nesta seção, vamos implementar um neurônio que cálcula na sua saída $y$ uma estimativa linear a partir de uma única entrada $x_1$.  \n",
        "Ou seja, implementaremos uma unidade linear:  \n",
        "$y = w_1 x_1 + b$  \n",
        "sem usar nenhuma ativação.\n",
        "\n",
        "Note que se trata basicamente da equação da reta com inclinação $w_1$ e um termo de \"interceptação\" $b$.  \n",
        "Em redes neurais, também denomina-se $b$ como o termo de \"**_bias_**\", um valor constante que ajusta a equação e representa uma média de todas as influências que as variáveis independentes não conseguem representar sozinhas sobre o resultado estimado de $y$.  \n",
        "Na regressão linear, o _bias_ também é chamado de termo de erro, visto que $b = y - \\sum\\limits_i w_i x_i$."
      ]
    },
    {
      "cell_type": "markdown",
      "metadata": {
        "id": "kdXpGxXv3VR6",
        "colab_type": "text"
      },
      "source": [
        "<a name=\"21\"></a>\n",
        "### Dataset artificial"
      ]
    },
    {
      "cell_type": "markdown",
      "metadata": {
        "id": "6AYL3Vwl95iO",
        "colab_type": "text"
      },
      "source": [
        "Vamos implementar um neurônio que estima $y$ a partir dos valores de $x$ seguindo a relação $\\hat{y} = w_1 x + b$.  \n",
        "Nesse caso, $\\hat{y}$ é o valor estimado do valor verdadeiro de $y$."
      ]
    },
    {
      "cell_type": "markdown",
      "metadata": {
        "id": "L8PXQhzE-Xwy",
        "colab_type": "text"
      },
      "source": [
        "Primeiramente, vamos artificialmente gerar os valores possíveis para $x$."
      ]
    },
    {
      "cell_type": "code",
      "metadata": {
        "id": "mJpQnWN33OvO",
        "colab_type": "code",
        "colab": {
          "base_uri": "https://localhost:8080/",
          "height": 67
        },
        "outputId": "6deca8db-3dc5-4ea5-9fb8-c4e047897960"
      },
      "source": [
        "x = torch.linspace(-10., 10., 100).view(-1,1) # cada linha é um exemplo da entrada x; cada coluna é uma feature\n",
        "print(x.shape, x.dtype, type(x), sep='\\n')"
      ],
      "execution_count": 41,
      "outputs": [
        {
          "output_type": "stream",
          "text": [
            "torch.Size([100, 1])\n",
            "torch.float32\n",
            "<class 'torch.Tensor'>\n"
          ],
          "name": "stdout"
        }
      ]
    },
    {
      "cell_type": "markdown",
      "metadata": {
        "id": "tsHT-Gvu-aed",
        "colab_type": "text"
      },
      "source": [
        "Para fins didáticos, vamos gerar os valores reais de $y$ usando um modelo conhecido, a partir da equação de uma reta.  \n",
        "Porém, para que o erro não seja nulo ao final do treinamento do neurônio, vamos inserir um pouco de ruído aleatório, seguindo uma distribuição $\\mathcal{N}\\left(0, s^2\\right)$, onde $s$ é o desvio padrão do ruído, representando sua intensidade."
      ]
    },
    {
      "cell_type": "code",
      "metadata": {
        "id": "pA5cy2oi3eiA",
        "colab_type": "code",
        "colab": {}
      },
      "source": [
        "a = 3.0     # coeficiente angular da reta\n",
        "b = -1      # coeficiente linear (bias, intercepto)\n",
        "y = a*x + b # equação da reta\n",
        "\n",
        "s = 3       # desvio padrão para o ruído gaussiano\n",
        "ruido = s*torch.randn_like(x) # ruído Gaussiano, média 0, desvio padrão \"s\"\n",
        "\n",
        "y += ruido # y = (ax + b) + ruido"
      ],
      "execution_count": 42,
      "outputs": []
    },
    {
      "cell_type": "markdown",
      "metadata": {
        "id": "CO6ityEO_HPj",
        "colab_type": "text"
      },
      "source": [
        "Veja como são os valores verdadeiros de $y$ em função da entrada $x$."
      ]
    },
    {
      "cell_type": "code",
      "metadata": {
        "id": "2qRnIYKU3tQH",
        "colab_type": "code",
        "colab": {
          "base_uri": "https://localhost:8080/",
          "height": 459
        },
        "outputId": "9cbea1cf-0726-4b6b-e765-8baafeea45a2"
      },
      "source": [
        "plt.figure(figsize=(10,7))\n",
        "plt.scatter(x, y, marker='o', color='k')\n",
        "plt.xlabel('x')\n",
        "plt.ylabel('y')"
      ],
      "execution_count": 43,
      "outputs": [
        {
          "output_type": "execute_result",
          "data": {
            "text/plain": [
              "Text(0, 0.5, 'y')"
            ]
          },
          "metadata": {
            "tags": []
          },
          "execution_count": 43
        },
        {
          "output_type": "display_data",
          "data": {
            "image/png": "[encoded data removed]",
            "text/plain": [
              "<Figure size 720x504 with 1 Axes>"
            ]
          },
          "metadata": {
            "tags": [],
            "needs_background": "light"
          }
        }
      ]
    },
    {
      "cell_type": "markdown",
      "metadata": {
        "id": "SD52ynhn5MN7",
        "colab_type": "text"
      },
      "source": [
        "<a name=\"22\"></a>\n",
        "### Modelo do Perceptron"
      ]
    },
    {
      "cell_type": "markdown",
      "metadata": {
        "id": "WtMapO9P_O0G",
        "colab_type": "text"
      },
      "source": [
        "Aqui vamos abusar da nomenclatura e batizar nosso neurônio de \"perceptron\", mesmo que não seja aplicada a regra de decisão sobre o valor final da combinação linear. Na prática, é apenas uma regressão linear simples."
      ]
    },
    {
      "cell_type": "markdown",
      "metadata": {
        "id": "RrufX0lF_c5G",
        "colab_type": "text"
      },
      "source": [
        "Primeiro, importantos o módulo ``nn`` da biblioteca ``torch``."
      ]
    },
    {
      "cell_type": "code",
      "metadata": {
        "id": "tMomBWyW5dgf",
        "colab_type": "code",
        "colab": {}
      },
      "source": [
        "from torch import nn"
      ],
      "execution_count": 44,
      "outputs": []
    },
    {
      "cell_type": "markdown",
      "metadata": {
        "id": "vLxCMeTA_kn-",
        "colab_type": "text"
      },
      "source": [
        "Agora, vamos instanciar uma camada ``Linear`` do módulo ``nn``.  \n",
        "Os parâmetros de entrada são ``in_features`` (quantas variáveis são usadas pra estimar a saída) e ``out_features`` (quantas variáveis estamos estimando na saída). No nosso caso, ambos serão $1$.  \n",
        "\n",
        "Perceba que inicializarei a semente do gerador de números aleatórios.  \n",
        "Isso foi feito pra que sempre possamos reproduzir esse experimento da mesma maneira.  \n",
        "Os valores de $w_1$ (``weight``) e $b$ (``bias``) da nossa camada Linear serão inicializados aleatoriamente, usando essa semente.  \n"
      ]
    },
    {
      "cell_type": "code",
      "metadata": {
        "id": "11AsTa1v4r5f",
        "colab_type": "code",
        "colab": {
          "base_uri": "https://localhost:8080/",
          "height": 84
        },
        "outputId": "c0d0c1e2-b2d4-4fd3-9dfe-e61f906bfc24"
      },
      "source": [
        "torch.manual_seed(59)\n",
        "\n",
        "perceptron = nn.Linear(in_features=1, out_features=1) # uma entrada (vetor da feature x), uma saída (regressão linear de x com vetor de pesos w e bias b)\n",
        "print(perceptron.weight)\n",
        "print(perceptron.bias)"
      ],
      "execution_count": 45,
      "outputs": [
        {
          "output_type": "stream",
          "text": [
            "Parameter containing:\n",
            "tensor([[0.1060]], requires_grad=True)\n",
            "Parameter containing:\n",
            "tensor([0.9638], requires_grad=True)\n"
          ],
          "name": "stdout"
        }
      ]
    },
    {
      "cell_type": "markdown",
      "metadata": {
        "id": "pEYFLfiv_4Fy",
        "colab_type": "text"
      },
      "source": [
        "\n",
        "\n",
        "Note que na célula anterior acessamos ``weight`` e ``bias`` como atributos da camada Linear. A sáida são tensores, com um parâmetro ``require_grad=True``. Esse parâmetro indica que os tensores estão sujeitos a um processo de atualização, vinculado a um grafo de operações (veremos mais detalhes depois).  \n",
        "\n",
        "Se estivermos apenas interessados nos valores atuais desses tensores, precisamos acrescentar o atributo ``data`` para extrair uma cópia dos valores atuais dos tensores."
      ]
    },
    {
      "cell_type": "code",
      "metadata": {
        "id": "Dn5GXyjp5htx",
        "colab_type": "code",
        "colab": {
          "base_uri": "https://localhost:8080/",
          "height": 34
        },
        "outputId": "4a10390b-fd79-4266-b5c3-7d774754f8e4"
      },
      "source": [
        "a0 = perceptron.weight.data # recuperando apenas o valor dos parâmetros\n",
        "b0 = perceptron.bias.data   # data é necessário para acessar apenas os valores do tensor\n",
        "a0, b0"
      ],
      "execution_count": 46,
      "outputs": [
        {
          "output_type": "execute_result",
          "data": {
            "text/plain": [
              "(tensor([[0.1060]]), tensor([0.9638]))"
            ]
          },
          "metadata": {
            "tags": []
          },
          "execution_count": 46
        }
      ]
    },
    {
      "cell_type": "markdown",
      "metadata": {
        "id": "RziexcK5BHON",
        "colab_type": "text"
      },
      "source": [
        "Vamos testar o quanto as estimativas do nosso neurônio, cujos parâmetros foram inicializados aleatoriamente, estão próximas dos valores reais de $y$. As linhas verticais tracejadas, em vermelho, representam o tamanho (altura) do erro em cada ponto."
      ]
    },
    {
      "cell_type": "code",
      "metadata": {
        "id": "-K-QjteR53To",
        "colab_type": "code",
        "colab": {
          "base_uri": "https://localhost:8080/",
          "height": 442
        },
        "outputId": "372f6b22-99b6-48f3-ffbe-50a5449bd96f"
      },
      "source": [
        "y0 = a0*x + b0               # usando os parâmetros iniciais para fazer uma estimativa de y a partir de x (regressão linear)\n",
        "\n",
        "plt.figure(figsize=(10,7))\n",
        "plt.scatter(x,  y, marker='o', color='k', label='real')\n",
        "plt.scatter(x, y0, marker='x', color='b', label='estimativa')\n",
        "\n",
        "for xi, yi, y0i in zip(x,y,y0):\n",
        "  plt.vlines(xi, ymin=min(yi,y0i), ymax = max(yi,y0i), color='red', ls='--', lw=.5)\n",
        "\n",
        "plt.xlabel('x')\n",
        "plt.ylabel('y')\n",
        "plt.legend()\n",
        "\n",
        "set_fontsizes_in_plot()\n",
        "plt.show()"
      ],
      "execution_count": 47,
      "outputs": [
        {
          "output_type": "display_data",
          "data": {
            "image/png": "[encoded data removed]",
            "text/plain": [
              "<Figure size 720x504 with 1 Axes>"
            ]
          },
          "metadata": {
            "tags": [],
            "needs_background": "light"
          }
        }
      ]
    },
    {
      "cell_type": "markdown",
      "metadata": {
        "id": "KTt8e3FaFDp9",
        "colab_type": "text"
      },
      "source": [
        "Claramente, os valores aleatórios da inicialização não correspondem à inclinação e _bias_ da reta original. Para ajustar, em vez de usar as equações fechada da regressão linear, a partir das formulações estatísticas, vamos utilizar um algoritmo iterativo de otimização.  \n",
        "\n",
        "Através das ferramentas do PyTorch, vamos resolver esse exemplo simples de forma a criar um \"fluxo de trabalho\" (_workflow_) que pode ser estendido para problemas mais complexos."
      ]
    },
    {
      "cell_type": "markdown",
      "metadata": {
        "id": "tOC6K57d67yk",
        "colab_type": "text"
      },
      "source": [
        "<a name=\"23\"></a>\n",
        "### Modelo de Rede Neural: Herdando da Classe Existente"
      ]
    },
    {
      "cell_type": "markdown",
      "metadata": {
        "id": "E4SIkK3yFpDQ",
        "colab_type": "text"
      },
      "source": [
        "Antes de mais nada, precisamos criar um **modelo** de previsão usando **classes** derivadas dos módulos internos do PyTorch.  \n",
        "\n",
        "Isso é importante porque o nosso modelo vai herdar diversos métodos e atributos do Módulo original.  \n",
        "\n",
        "Dessa forma, não precisaremos implementar todos os detalhes do _workflow_ de otimização dos parâmetros internos do modelo, aproveitando os métodos já desenvolvidos e abstraídos pelo framework independente da complexidade do nosso modelo."
      ]
    },
    {
      "cell_type": "code",
      "metadata": {
        "id": "dOz1pVWx6BzY",
        "colab_type": "code",
        "colab": {}
      },
      "source": [
        "class perceptron_model(nn.Module):\n",
        "  ''' perceptron_model é o nome escolhido modelo\n",
        "\n",
        "      torch.nn.Module é a classe \"mãe\" da qual nosso modelo vai herdar alguns métodos \n",
        "  '''\n",
        "  \n",
        "  def __init__(self, n_in, n_out): # aqui estamos sobrescrevendo o método construtor da \"classe mãe\"\n",
        "    super().__init__() # mas antes vamos rodar o construtor original\n",
        "    # agora começam as personalizações do construtor:\n",
        "    self.perceptron = nn.Linear(in_features=n_in, out_features=n_out) # criamos uma camada com nome \"perceptron\", que recebe um modelo \"Linear\" (aka regressão linear ou camada \"densa\")\n",
        "\n",
        "  def forward(self, x): # aqui vamos sobrescrever como o modelo processa um sinal de entrada x\n",
        "    x = self.perceptron(x)  # aplicamos o perceptron em x\n",
        "    return x"
      ],
      "execution_count": 48,
      "outputs": []
    },
    {
      "cell_type": "markdown",
      "metadata": {
        "id": "iPpP1MU_GMwu",
        "colab_type": "text"
      },
      "source": [
        "Veja que na nossa classe, onde definimos nosso ``perceptron_model``, existe apenas uma camada Linear. Porém, agora essa camada e seus parâmetros internos fazem parte de um objeto que poderia possuir uma série de outras camadas e parâmetros.  \n",
        "\n",
        "Vamos então instanciar nosso modelo e acessar seus parâmetros."
      ]
    },
    {
      "cell_type": "code",
      "metadata": {
        "id": "sho-4XK-8OtQ",
        "colab_type": "code",
        "colab": {
          "base_uri": "https://localhost:8080/",
          "height": 101
        },
        "outputId": "64438493-04c7-4c9a-ddab-af5f32f0dd43"
      },
      "source": [
        "torch.manual_seed(59)\n",
        "\n",
        "my_model = perceptron_model(n_in=1, n_out=1)\n",
        "\n",
        "print(my_model)                         # imprime a arquitetura do modelo construído\n",
        "print(my_model.perceptron.weight.data) # acessando os pesos da camada nomeada \"perceptron\"\n",
        "print(my_model.perceptron.bias.data)   # acessando o bias da camada nomeada \"perceptron\""
      ],
      "execution_count": 49,
      "outputs": [
        {
          "output_type": "stream",
          "text": [
            "perceptron_model(\n",
            "  (perceptron): Linear(in_features=1, out_features=1, bias=True)\n",
            ")\n",
            "tensor([[0.1060]])\n",
            "tensor([0.9638])\n"
          ],
          "name": "stdout"
        }
      ]
    },
    {
      "cell_type": "markdown",
      "metadata": {
        "id": "LQ7bNhVEGlHl",
        "colab_type": "text"
      },
      "source": [
        "Outra forma de acessar todos os parâmetros do nosso modelo é invocando o método ``named_parameters()``.  \n",
        "Esse método foi herdado pela \"classe-mãe\" ``nn.Module``."
      ]
    },
    {
      "cell_type": "code",
      "metadata": {
        "id": "K4hw4Nbm8ggA",
        "colab_type": "code",
        "colab": {
          "base_uri": "https://localhost:8080/",
          "height": 50
        },
        "outputId": "d0e37b2f-03a6-414c-ab6a-aeaa7d0ab7f4"
      },
      "source": [
        "for name, param in my_model.named_parameters(): # outra forma de acessar todos os parâmetros do modelo\n",
        "    print(name, '\\t', param.data)"
      ],
      "execution_count": 50,
      "outputs": [
        {
          "output_type": "stream",
          "text": [
            "perceptron.weight \t tensor([[0.1060]])\n",
            "perceptron.bias \t tensor([0.9638])\n"
          ],
          "name": "stdout"
        }
      ]
    },
    {
      "cell_type": "markdown",
      "metadata": {
        "id": "cFPbv8nGHXJz",
        "colab_type": "text"
      },
      "source": [
        "Existem várias formas de criar modelos mais complexos e nomear as camadas. Veja mais [neste exemplo](https://pytorch.org/docs/master/generated/torch.nn.Sequential.html#torch.nn.Sequential)."
      ]
    },
    {
      "cell_type": "markdown",
      "metadata": {
        "id": "fIv7zPvt9KTl",
        "colab_type": "text"
      },
      "source": [
        "<a name=\"24\"></a>\n",
        "### Aplicando o modelo sobre as entradas"
      ]
    },
    {
      "cell_type": "markdown",
      "metadata": {
        "id": "90CjG6CKHk9_",
        "colab_type": "text"
      },
      "source": [
        "O modelo atua como uma função das entradas que retorna a saída.  \n",
        "Podemos usar a estrutura: \n",
        "```Python \n",
        "saida = Modelo(entradas)\n",
        "```\n",
        "sempre que quisermos aplicar o nosso modelo para estimar a saída com os parâmetros atuais."
      ]
    },
    {
      "cell_type": "code",
      "metadata": {
        "id": "1jSZwJ_w895W",
        "colab_type": "code",
        "colab": {
          "base_uri": "https://localhost:8080/",
          "height": 478
        },
        "outputId": "2f8d2ada-c78c-4936-d953-112c55c4a89b"
      },
      "source": [
        "y0 = my_model(x) # o modelo vai usar o método \"forward\" sobre x, e gerar a saída; cada linha corresponde a um exemplo, portanto X precisa ser uma coluna nesse caso\n",
        "y0 = y0.data                # acessado os valores do tensor\n",
        "\n",
        "plt.figure(figsize=(10,7))\n",
        "plt.scatter(x,  y, marker='o', color='k', label='real')\n",
        "plt.scatter(x, y0, marker='x', color='b', label='estimativa')\n",
        "plt.xlabel('x')\n",
        "plt.ylabel('y')\n",
        "plt.legend()"
      ],
      "execution_count": 51,
      "outputs": [
        {
          "output_type": "execute_result",
          "data": {
            "text/plain": [
              "<matplotlib.legend.Legend at 0x7f08d21726a0>"
            ]
          },
          "metadata": {
            "tags": []
          },
          "execution_count": 51
        },
        {
          "output_type": "display_data",
          "data": {
            "image/png": "[encoded data removed]",
            "text/plain": [
              "<Figure size 720x504 with 1 Axes>"
            ]
          },
          "metadata": {
            "tags": [],
            "needs_background": "light"
          }
        }
      ]
    },
    {
      "cell_type": "markdown",
      "metadata": {
        "id": "wAMOMgp--Dle",
        "colab_type": "text"
      },
      "source": [
        "Percebemos claramente que o modelo ainda não está treinado, já que foi novamente inicializado com parâmetros aleatórios."
      ]
    },
    {
      "cell_type": "markdown",
      "metadata": {
        "id": "-6hCEAT6-KcL",
        "colab_type": "text"
      },
      "source": [
        "<a name=\"25\"></a>\n",
        "### Escolhendo o Critério de Avaliação do Treino (Função Custo)"
      ]
    },
    {
      "cell_type": "markdown",
      "metadata": {
        "id": "X8mUG3GQH9TB",
        "colab_type": "text"
      },
      "source": [
        "Para otimizar os parâmetros de um modelo, precisamos de uma métrica de avaliação, a fim de compreender se o modelo está melhorando ou piorando o seu desempenho."
      ]
    },
    {
      "cell_type": "markdown",
      "metadata": {
        "id": "V2S0AWHPIGLI",
        "colab_type": "text"
      },
      "source": [
        "Em problemas de regressão linear, o **erro médio-quadrático** (MSE) é uma métrica comum. O MSE é calculado como a média, sobre todos os exemplos disponíveis, da norma quadrática do vetor de erro.  \n",
        "\n",
        "De maneira intuitiva, o MSE cálcula o erro $e_i = \\hat{y}_i - y_i$ (diferença entre o valor estimado e o valor real) para todos os exemplos $i=1,\\ldots, m$, e então calcula a média aritmética do quadrado do módulo dos erros: $\\text{MSE} = \\dfrac{\\sum\\limits_{i=1}^{m} \\left| e_i \\right|^2}{m} $."
      ]
    },
    {
      "cell_type": "markdown",
      "metadata": {
        "id": "faP7tGXZJHWn",
        "colab_type": "text"
      },
      "source": [
        "No PyTorch, normalmente nos referimos à métrica de desempenho do treinamento como o **critério**.  \n",
        "Em geral, essa métrica é também conhecida como **função custo** ou **função perda**."
      ]
    },
    {
      "cell_type": "code",
      "metadata": {
        "id": "MKSWcNwQ9WW5",
        "colab_type": "code",
        "colab": {}
      },
      "source": [
        "criterion = nn.MSELoss() # erro quadrático médio:  avg( |y-y0|^2 ) sobre todos os exemplos"
      ],
      "execution_count": 52,
      "outputs": []
    },
    {
      "cell_type": "markdown",
      "metadata": {
        "id": "QyHihleQ-fG6",
        "colab_type": "text"
      },
      "source": [
        "<a name=\"26\"></a>\n",
        "### Escolhendo o otimizador dos parâmetros da rede"
      ]
    },
    {
      "cell_type": "markdown",
      "metadata": {
        "id": "flm1c3xaJyfm",
        "colab_type": "text"
      },
      "source": [
        "Para compreender como o modelo irá atualizar seus parâmetros (neste caso, $w_1$ e $b$) a fim de **minimizar a função custo** (neste exemplo, o MSE), precisamos entender o algoritmo do gradiente descendente."
      ]
    },
    {
      "cell_type": "markdown",
      "metadata": {
        "id": "MjxztcTyKYol",
        "colab_type": "text"
      },
      "source": [
        "> **A Pizza Heterogênea**\n",
        "> \n",
        "> A palavra **gradiente** está relacionada à  \"_variação em alguma direção_\".  \n",
        "> Por exemplo, no mapa de calor da temperatura de um forno, existe uma variação das mais altas temperaturas (próximas da resistência ou das paredes que são fontes de calor) até os pontos mais distantes dessas fontes. \n",
        ">\n",
        "> <img src=\"https://drive.google.com/uc?export=view&id=15bV2feWgy-qDVA2zaZW0I0jXkQxRXUd-\" alt=\"Heatmap of a pizza\" width=\"300px\"/> \n",
        ">\n",
        "> Observe que fora do forno, as cores mais próximas do azul indicam baixas temperaturas, enquanto as cores mais próximas do vermelho dentro do forno indicam as altas temperaturas. Note também que, embora o forno esteja com a temperatura interna distribuida de maneira praticamente uniforme, a pizza não tem a mesma temperatura em todos os pontos.\n",
        ">\n",
        "> Se quisermos descobrir qual ponto da piza está mais frio (sem ver o mapa de calor), poderíamos começar tocando em um ponto da pizza (sentindo a temperatura em um ponto inicial) e deslocar nosso dedo na *direção em que a temperatura diminui*.  \n",
        "> \n",
        "> Quando atingirmos um ponto em que, ao deslocar o nosso dedo em qualquer direção, a temperatura só aumenta, teremos encontrado um **mínimo local** da temperatura da pizza. Com sorte, esse ponto será o **mínimo global** (a menor temperatura de toda a pizza). A fim de garantir isso, é bom que tenhamos explorado bem sentindo (medindo) a temperatura em várias regiões dessa pizza."
      ]
    },
    {
      "cell_type": "markdown",
      "metadata": {
        "id": "wKsVFJdQM2b7",
        "colab_type": "text"
      },
      "source": [
        "Matematicamente, escrevemos a atualização dos pesos do nosso modelo da seguinte maneira: seja $\\Theta = \\begin{bmatrix} w_1 & b \\end{bmatrix}^T$ um vetor de parâmetros do nosso modelo, vamos atualizar o vetor $\\Theta$ da seguinte maneira:\n",
        "\n",
        "$\\Theta^{t+1} = \\Theta^t - \\alpha \\times \\nabla J(\\Theta^t)$,\n",
        "\n",
        "onde $ J(\\Theta^t)$ é a função custo, $ \\nabla $ é o símbolo do operador \"gradiente\" (calcula a variação da função custo em relação à variação de $\\Theta^t$) e $\\alpha>0$ é uma constante denominada __*learning rate*__.\n",
        "\n",
        "A intuição da expressão anterior é a seguinte: os parâmetros do modelo na próxima iteração ($t+1$) serão iguais aos valores atuais acrescidos de uma proporção **na direção oposta do gradiente da função custo**. "
      ]
    },
    {
      "cell_type": "markdown",
      "metadata": {
        "id": "wOQQcB4QPUnk",
        "colab_type": "text"
      },
      "source": [
        ">**O gradiente descendente e a analogia da montanha**\n",
        ">\n",
        "> O gradiente funciona da seguinte maneira: é um calculo da \"inclinação\" da função custo após uma variação dos parâmetros.  \n",
        ">\n",
        "> Imagine que estamos vendados, no meio de uma montanha irregular, tentando descer a montanha. Se dermos alguns passos à frente (aumentamos os valores dos parâmetros, por exemplo) e \"sentirmos\" que houve uma inclinação de subida da montanha (o custo aumentou), vamos ter que dar alguns passos para trás, na direção oposta (diminuir os nossos parâmetros).\n",
        ">\n",
        "> Entretanto, imagine agora que demos dois passos para o lado e \"sentimos\" que a inclinação da montanha foi de descida (estamos na direção certa, nosso \"custo\" diminuiu!). Logo, precisamos seguir avançando (dando mais passos) nessa direção!\n",
        ">\n",
        "> Na prática, quem controla o quanto vamos mudar os valores dos parâmetros na direção oposta do gradiente é valor de $\\alpha$.  \n",
        ">\n",
        "> Se $\\alpha$ for muito pequeno, vamos dar passos muito pequenos tentando descer essa montanha, e podemos levar muito tempo pra chegar na base! Agora, se $\\alpha$ for muito grande, é como se começássemos a correr muito rapidamente na direção oposta do gradiente sem parar pra \"sentir\" se a inclinação está mudando no caminho percorrido (lembre que estamos vendados, que perigo!)."
      ]
    },
    {
      "cell_type": "markdown",
      "metadata": {
        "id": "RURggppfPuv2",
        "colab_type": "text"
      },
      "source": [
        "Na analogia acima, \n",
        "- a montanha representa a função custo (o critério), \n",
        "- os passos dados em cada iteração são as atualizações (mudanças) no valor dos parâmetros\n",
        "- e a sensação da inclinação (de subida ou descida) representa o gradiente do custo após uma tentativa de dar passos em alguma direção.\n",
        "\n",
        "Para calcular a função custo, precisamos avaliá-la após realizar as previsões a partir de todos os exemplos de entrada. Cada iteração $t$ _sobre TODO o conjunto de exemplos de treino_  representa uma **época**. \n",
        "\n",
        "**O gradiente descendente altera seus pesos a cada época.**\n",
        "\n",
        "Na prática, esse processo pode ser muito lento, em razão da escolha de $\\alpha$, da natureza da função custo (geografia do terreno da monhtanha) ou da complexidade computacional de realizar previsões para todos os exemplos de entrada (quando houver muitos).\n",
        "\n",
        "Portanto, existe uma variação do algoritmo chamada \"**gradiente descendente estocástico**\" (SGD), na qual os exemplos de treino são divididos em uma sequência de **_batches_**, e os parâmetros do modelo são atualizados a cada _batch_, em vez de aguardar uma passagem completa pelo dataset. \n",
        "\n",
        "Usar o SGD significa que decidimos calcular o \"custo\" médio e dar alguns \"passos\" no ajuste dos parâmetros apenas com amostras do conjunto completo de treino, em vez de analisá-lo por completo antes de tomar alguma decisão. Em geral, isso acelera a convergência do processo de treinamento, mas é preciso escolher muito bem o tamanho e a forma de amostragem das _batches_."
      ]
    },
    {
      "cell_type": "markdown",
      "metadata": {
        "id": "QIYrPMFVKDSf",
        "colab_type": "text"
      },
      "source": [
        "Veja mais animações do gradiente descendente de uma regressão linear [aqui](https://towardsdatascience.com/gradient-descent-animation-1-simple-linear-regression-e49315b24672) e [aqui](https://medium.com/diogo-menezes-borges/what-is-gradient-descent-235a6c8d26b0)."
      ]
    },
    {
      "cell_type": "markdown",
      "metadata": {
        "id": "8B2MlszmWCFK",
        "colab_type": "text"
      },
      "source": [
        "Para utilizar o SGD no PyTorch, vamos usar instanciar um objeto **otimizador**, que carrega o método ``SGD`` da biblioteca ``torch.optim``.  \n",
        "Note que a _learning rate_ é o principal parâmetro para o construtor desse objeto. "
      ]
    },
    {
      "cell_type": "code",
      "metadata": {
        "id": "-QT88q8J-ce_",
        "colab_type": "code",
        "colab": {}
      },
      "source": [
        "optimizer = torch.optim.SGD(my_model.parameters(), lr = 0.001) # (stochastic) gradient descent"
      ],
      "execution_count": 53,
      "outputs": []
    },
    {
      "cell_type": "markdown",
      "metadata": {
        "id": "vor1dznu-lCw",
        "colab_type": "text"
      },
      "source": [
        "> **Backpropagation**\n",
        "> \n",
        "> No caso de uma única camada, composta apenas por regressão linear, calcular o gradiente em relação aos parâmetros que processam os dados de entrada é muito fácil. \n",
        "> \n",
        "> Entretanto, para redes com sequências de camadas, que podem utilizar funções não-lineares como ativação (como a sigmóide), esse cálculo do gradiente não é trivial. \n",
        "> \n",
        "> Um algoritmo capaz de calcular essas variações do gradiente de maneira automática e por etapas (camada por camada, da saída para a entrada de uma rede neural) foi propost por [Rumelhart, Hinton & Williams em 1986](https://archive.org/details/paralleldistribu00rume).\n",
        ">\n",
        "> Basicamente, é uma forma iterativa e estruturada de calcular o gradiente da função custo em relação à variação dos parâmetros da última camada, e acumular esse valor com o efeito da variação dos parâmetros da última camada em relação à variação dos parâmetros da penúltima camada, e assim por diante até chegar nos parâmetros da primeira camada da rede."
      ]
    },
    {
      "cell_type": "markdown",
      "metadata": {
        "id": "CIQpsbvW-zvV",
        "colab_type": "text"
      },
      "source": [
        "<a name=\"27\"></a>\n",
        "### Treinando o modelo"
      ]
    },
    {
      "cell_type": "markdown",
      "metadata": {
        "id": "SBgJu8v7-1Yu",
        "colab_type": "text"
      },
      "source": [
        "Vamos estruturar uma laço em que iremos apresentar os dados de entrada para o Modelo durante várias iterações (épocas), realizando o _workflow_ de treinamento de redes neurais no PyTorch.\n",
        "\n",
        "Épocas (``epochs``): quantidade de vezes que o dataset de treino (inteiro, todos os exemplos) será mostrado para o modelo."
      ]
    },
    {
      "cell_type": "markdown",
      "metadata": {
        "id": "G4h_JHlzWq-j",
        "colab_type": "text"
      },
      "source": [
        "Antes disso, a função abaixo será apenas auxiliar para que consigamos visualizar o treino."
      ]
    },
    {
      "cell_type": "code",
      "metadata": {
        "id": "4tMZ7Oj8BAUe",
        "colab_type": "code",
        "colab": {}
      },
      "source": [
        "def atualiza_resultado_grafico(ax, x, y_pred, y_true, alpha=1, dt=0.5):\n",
        "  \n",
        "  ax.scatter(x, y_pred, marker='x', color='b', label='estimativa', alpha=alpha)\n",
        "  ax.set_xlabel('x')\n",
        "  ax.set_ylabel('y')\n",
        "  \n",
        "  display.display(pl.gcf())\n",
        "  display.clear_output(wait=True)\n",
        "  \n",
        "  sleep(dt)\n",
        "\n",
        "def atualiza_parametros_grafico(ax, w, iter, alpha=1, dt=0.5, epochs=100):\n",
        "  ax.scatter(iter, w, marker='x', color='k', label='weight', alpha=alpha)\n",
        "  ax.set_xlabel('epochs')\n",
        "  ax.set_ylabel('w')\n",
        "  ax.set_xlim([0, epochs])\n",
        "  ax.set_ylim([-1, 4])\n",
        "  ax.grid(True)\n",
        "  display.display(pl.gcf())\n",
        "  display.clear_output(wait=True)\n",
        "  \n",
        "  sleep(dt)"
      ],
      "execution_count": 54,
      "outputs": []
    },
    {
      "cell_type": "markdown",
      "metadata": {
        "id": "5p8aY4ihZq4o",
        "colab_type": "text"
      },
      "source": [
        "Abaixo segue a estrutura do treinamento em si.  \n",
        "Ao rodar a célula abaixo, o dataset de treino $x$ (todos os exemplos de treino) será passado para o modelo por ``epochs`` vezes.  \n",
        "Em cada iteração, é realizado o procedimento:\n",
        "- $\\hat{y} = \\text{Modelo}_{\\Theta}(x)$\n",
        "- backpropagation (calcula os gradientes  $\\nabla J(\\Theta)$ sobre a função custo)\n",
        "- calcula o valor dos próximos parâmetros usando a regra de atualização do otimizador.\n",
        "\n",
        "Neste exemplo, lembre que a função custo $J(\\Theta)$ é o MSE e o otimizador é o SGD (com $1$ _batch_, que é o próprio dataset de treino)."
      ]
    },
    {
      "cell_type": "code",
      "metadata": {
        "id": "1k-vVE4U-zCz",
        "colab_type": "code",
        "colab": {
          "base_uri": "https://localhost:8080/",
          "height": 514
        },
        "outputId": "b6bc18e6-407a-4dff-a035-4d9588d7642b"
      },
      "source": [
        "%matplotlib inline\n",
        "\n",
        "#----------------------- Opcional -----------------------#\n",
        "# Inicializa a visualização gráfica do treinamento\n",
        "f, ax = plt.subplots(nrows=1,ncols=2,figsize=(16,6))\n",
        "ax[0].scatter(x, y, marker='o', color='k', label='real')\n",
        "ax[1].scatter(0, my_model.perceptron.weight.item(), marker='o', color='k', label='weight')\n",
        "ax[1].set_ylim([-1, 4])\n",
        "ax[1].grid(True)\n",
        "#--------------------------------------------------------#\n",
        "\n",
        "# PRÂMETROS FIXOS DO TREINO\n",
        "epochs = 50 \n",
        "losses = []        # inicialização da lista\n",
        "print_iters = 5    # auxiliar: para imprimir o status a cada print_iters iterações\n",
        "\n",
        "# INICIO DO TREINO\n",
        "for i in range(epochs): # para cada época\n",
        "\n",
        "    #-----------------------------------#\n",
        "    # INÍCIO DO WORKFLOW DO TREINAMENTO #\n",
        "    # \n",
        "    y_pred = my_model.forward(x) # apresente os dados de entrada para o modelo, e obtenha a previsão\n",
        "    \n",
        "    loss = criterion(y_pred, y)             # calcule a perda (o custo, o erro) \n",
        "    optimizer.zero_grad()                   # inicialize os gradientes\n",
        "    loss.backward()                         # backpropagation sobre a perda atual (cálculo dos novos gradientes) \n",
        "    optimizer.step()                        # atualização dos parâmetros da rede utilizando a regra do otimizador escolhido\n",
        "\n",
        "    losses.append(loss)                     # salvando a perda atual\n",
        "    \n",
        "    # FIM DO WORKFLOW DO TREINAMENTO    #\n",
        "    #-----------------------------------#\n",
        "\n",
        "\n",
        "    # ------ Bloco Opcional ------ #\n",
        "    # Imprimindo resultados parciais\n",
        "    if i % print_iters ==0: # a cada 10 iterações\n",
        "\n",
        "      # impressão em modo texto\n",
        "      print(f'epoch: {i:2}  loss: {loss.item():10.8f}  \\\n",
        "      weight: {my_model.perceptron.weight.item():10.8f} \\\n",
        "      bias: {my_model.perceptron.bias.item():10.8f}') \n",
        "      \n",
        "      # visualização gráfica\n",
        "      alpha_i = 1-(epochs-i)/epochs # calcula uma transparência (0 a 1, sendo 0 totalmente transparente) que vai diminuindo de intensidade ao passar das épocas (até 1, sem transparência)\n",
        "      atualiza_resultado_grafico(ax=ax[0], x=x, y_pred=y_pred.data, y_true=y, alpha=alpha_i, dt=1) # usar dt (segundos) para causar um atraso para poder acompanhar as atualizações do gráfico\n",
        "      atualiza_parametros_grafico(ax[1], my_model.perceptron.weight.item(), i, alpha=alpha_i, dt=0.5, epochs=epochs)  \n",
        "    # ----------------------------- #\n",
        "#------------------------------------------------------------------------------#\n",
        "\n",
        "print('# finished training!')\n",
        "print(f' epoch: {i}  \\n initial loss: {losses[0]:10.8f}, \\n final loss: {losses[-1]:10.8f}  \\n \\\n",
        "weight: {my_model.perceptron.weight.item():10.8f} \\n \\\n",
        "bias: {my_model.perceptron.bias.item():10.8f}') "
      ],
      "execution_count": 55,
      "outputs": [
        {
          "output_type": "stream",
          "text": [
            "# finished training!\n",
            " epoch: 49  \n",
            " initial loss: 269.63906860, \n",
            " final loss: 10.50349808  \n",
            " weight: 2.78292108 \n",
            " bias: 0.78345239\n"
          ],
          "name": "stdout"
        },
        {
          "output_type": "display_data",
          "data": {
            "image/png": "[encoded data removed]",
            "text/plain": [
              "<Figure size 1152x432 with 2 Axes>"
            ]
          },
          "metadata": {
            "tags": [],
            "needs_background": "light"
          }
        }
      ]
    },
    {
      "cell_type": "markdown",
      "metadata": {
        "id": "zBFMaohTAek-",
        "colab_type": "text"
      },
      "source": [
        "<a name=\"28\"></a>\n",
        "### Avaliando o resultado do treino"
      ]
    },
    {
      "cell_type": "markdown",
      "metadata": {
        "id": "OfA4Ye3TbzX0",
        "colab_type": "text"
      },
      "source": [
        "Uma forma de avaliar o resultado do treinamento é visualizar a evolução da função custo (perda) ao longo das épocas.  \n",
        "\n",
        "Idealmente, essa curva deve ser decrescente e convergir para um valor mínimo."
      ]
    },
    {
      "cell_type": "code",
      "metadata": {
        "id": "zRQdnMZV_xdO",
        "colab_type": "code",
        "colab": {
          "base_uri": "https://localhost:8080/",
          "height": 478
        },
        "outputId": "68e6e648-4612-4d45-bb79-23af8132eaed"
      },
      "source": [
        "plt.figure(figsize=(10,7))\n",
        "plt.plot(range(epochs),  losses, '-k', label='MSE Loss')\n",
        "plt.xlabel('epochs')\n",
        "plt.ylabel('loss')\n",
        "plt.legend()"
      ],
      "execution_count": 56,
      "outputs": [
        {
          "output_type": "execute_result",
          "data": {
            "text/plain": [
              "<matplotlib.legend.Legend at 0x7f08d2131080>"
            ]
          },
          "metadata": {
            "tags": []
          },
          "execution_count": 56
        },
        {
          "output_type": "display_data",
          "data": {
            "image/png": "[encoded data removed]",
            "text/plain": [
              "<Figure size 720x504 with 1 Axes>"
            ]
          },
          "metadata": {
            "tags": [],
            "needs_background": "light"
          }
        }
      ]
    },
    {
      "cell_type": "markdown",
      "metadata": {
        "id": "BMXflzHQcFQf",
        "colab_type": "text"
      },
      "source": [
        "Para invocar o modelo treinado e fazer novas previsões, não precisamos mais salvar os cálculos de gradiente dos tensores.  \n",
        "Portanto, o modelo será executado mais eficientemente usando o gerenciador de contexto com ``torch.nograd()``."
      ]
    },
    {
      "cell_type": "code",
      "metadata": {
        "id": "UPSeJz_cApAs",
        "colab_type": "code",
        "colab": {
          "base_uri": "https://localhost:8080/",
          "height": 478
        },
        "outputId": "c4a7f24b-6dd7-4226-82c6-a9edd7c49b56"
      },
      "source": [
        "with torch.no_grad(): # usar para reduzir consumo de memória quando executar o modelo já treinado, já que não será aplicado nenhum gradiente após o treinamento\n",
        "  y0 = my_model(x)    # estimativa da saída com o modelo treinado\n",
        "\n",
        "plt.figure(figsize=(10,7))\n",
        "plt.scatter(x,  y, marker='o', color='k', label='real')\n",
        "plt.scatter(x, y0.data, marker='x', color='b', label='estimativa')\n",
        "plt.xlabel('x')\n",
        "plt.ylabel('y')\n",
        "plt.legend()"
      ],
      "execution_count": 57,
      "outputs": [
        {
          "output_type": "execute_result",
          "data": {
            "text/plain": [
              "<matplotlib.legend.Legend at 0x7f08d1915fd0>"
            ]
          },
          "metadata": {
            "tags": []
          },
          "execution_count": 57
        },
        {
          "output_type": "display_data",
          "data": {
            "image/png": "[encoded data removed]",
            "text/plain": [
              "<Figure size 720x504 with 1 Axes>"
            ]
          },
          "metadata": {
            "tags": [],
            "needs_background": "light"
          }
        }
      ]
    },
    {
      "cell_type": "markdown",
      "metadata": {
        "id": "Ieh33KJicgom",
        "colab_type": "text"
      },
      "source": [
        "A fim de ilustração, vamos calcular a função perda manualmente, usando operações com tensores."
      ]
    },
    {
      "cell_type": "code",
      "metadata": {
        "id": "lsZsubAWEec6",
        "colab_type": "code",
        "colab": {
          "base_uri": "https://localhost:8080/",
          "height": 34
        },
        "outputId": "a92ce3ba-aea2-430b-b0b9-8e520ce0dda2"
      },
      "source": [
        "MSE_manual = (torch.norm(y0 - y, p=2)**2)/y.numel()\n",
        "print(MSE_manual)"
      ],
      "execution_count": 58,
      "outputs": [
        {
          "output_type": "stream",
          "text": [
            "tensor(10.4576)\n"
          ],
          "name": "stdout"
        }
      ]
    },
    {
      "cell_type": "markdown",
      "metadata": {
        "id": "OIxy_RaEcwTL",
        "colab_type": "text"
      },
      "source": [
        "Note que o valor é um pouco menor que a última perda salva no workflow de treinamento."
      ]
    },
    {
      "cell_type": "code",
      "metadata": {
        "id": "MnTPjy_VRiKK",
        "colab_type": "code",
        "colab": {
          "base_uri": "https://localhost:8080/",
          "height": 34
        },
        "outputId": "3bb3c8da-3528-40f2-e574-fb9c050ac6d8"
      },
      "source": [
        "losses[-1]"
      ],
      "execution_count": 59,
      "outputs": [
        {
          "output_type": "execute_result",
          "data": {
            "text/plain": [
              "tensor(10.5035, grad_fn=<MseLossBackward>)"
            ]
          },
          "metadata": {
            "tags": []
          },
          "execution_count": 59
        }
      ]
    },
    {
      "cell_type": "markdown",
      "metadata": {
        "id": "EMJ6GMdyc3Zh",
        "colab_type": "text"
      },
      "source": [
        "Qual a explicação dessa diferença?\n",
        "\n",
        "<details>    \n",
        "<summary>\n",
        "    <font size=\"3\" color=\"darkgreen\"><b>Resposta $\\downarrow$</b></font>\n",
        "</summary>\n",
        "<p>\n",
        "<ul>\n",
        "    <li>Observando o <i>workflow</i> de treino, note que, após cálcular a última perda, o otimizador roda a atualização dos parâmetros mais uma vez. </li>\n",
        "    <li> Portanto, o último conjunto de parâmetros calculados resulta numa perda levemente menor que a última perda calculada no treinamento. </li>  \n",
        "</ul>\n",
        "</p>\n"
      ]
    },
    {
      "cell_type": "markdown",
      "metadata": {
        "id": "iZX-4BB-TOW_",
        "colab_type": "text"
      },
      "source": [
        "<a name=\"3\"></a>\n",
        "## Implementando uma rede neural para implementar um modelo não-linear"
      ]
    },
    {
      "cell_type": "markdown",
      "metadata": {
        "id": "rTFAexdUeX72",
        "colab_type": "text"
      },
      "source": [
        "Embora seja um ótimo _baseline_, uma regressão linear simples, em geral, não garante uma boa solução para prroblemas com relações não-lineares entre as entradas $\\mathbf{x}$ e a saída $y$.\n",
        "\n",
        "Na prática, redes neurais são muito úteis para implementar funções não-lineares, devido à versatilidade de projeto da topologia da rede e da adaptação dos parâmetros durante o treinamento."
      ]
    },
    {
      "cell_type": "markdown",
      "metadata": {
        "id": "izjZGlv4xHT1",
        "colab_type": "text"
      },
      "source": [
        "<a name=\"31\"></a>\n",
        "### Dataset da função XOR"
      ]
    },
    {
      "cell_type": "markdown",
      "metadata": {
        "id": "ZfmzgyVNlWmy",
        "colab_type": "text"
      },
      "source": [
        "Nesta seção, vamos tentar ensinar a função **OU-Exclusivo** (conhecida como X-OR ou apenas XOR) para a rede neural.    \n",
        "A XOR é definida como  \n",
        "$\\begin{aligned} y & =x_1 \\oplus x_2  \\\\ & = x_1 \\bar{x_2} + \\bar{x_1} x_2 \\end{aligned}$  \n",
        "sendo $x_1$ e $x_2$ dois bits e a operação $\\bar{x}$ a negação (inversão) do valor do bit."
      ]
    },
    {
      "cell_type": "markdown",
      "metadata": {
        "id": "eZcGKB9zfusV",
        "colab_type": "text"
      },
      "source": [
        "Vamos criar um dataset de exemplos pra o treinamento.  \n",
        "Na prática, só existem $4$ combinações de bits para a saída.  \n",
        "Porém, novamente, vamos adicionar um ruído para dificultar a aprendizagem.  \n",
        "Entretanto, dessa vez o ruído vai estar presente nas variáveis de entrada."
      ]
    },
    {
      "cell_type": "code",
      "metadata": {
        "id": "tA7HdkfGSBdG",
        "colab_type": "code",
        "colab": {}
      },
      "source": [
        "s = 0.075    # desvio padrão do ruído dos sinais de entrada\n",
        "\n",
        "X1 = torch.randint(low=0, high=2, size=(100,1)).float() \n",
        "X1 += s*torch.randn_like(X1)\n",
        "X2 = torch.randint(low=0, high=2, size=(100,1)).float()\n",
        "X2 += s*torch.randn_like(X2)\n",
        "\n",
        "Y  = torch.logical_xor(torch.round(X1), torch.round(X2)).float()"
      ],
      "execution_count": 60,
      "outputs": []
    },
    {
      "cell_type": "markdown",
      "metadata": {
        "id": "GDHnZaIngdiB",
        "colab_type": "text"
      },
      "source": [
        "Note que a função XOR depende de duas variáveis de entrada: $x_1$ e $x_2$.  \n",
        "Em aprendizagem de máquina, as entradas de um modelo são tipicamente denominadas __*features*__ do modelo.  \n",
        "Abaixo, vamos criar um dataset, no qual uma parte do mesmo é a matriz de _features_ e a outra corresponde à saída.  \n",
        "\n",
        "Observe que as _features_ e a saída são representadas pelas colunas, enquanto cada linha representa um exemplo de treino."
      ]
    },
    {
      "cell_type": "code",
      "metadata": {
        "id": "YPsapIs2SVe7",
        "colab_type": "code",
        "colab": {
          "base_uri": "https://localhost:8080/",
          "height": 402
        },
        "outputId": "27e2e0cf-ed44-4f08-c9dc-a6018a42a037"
      },
      "source": [
        "dataset = torch.cat([X1,X2,Y],dim=1).numpy() # concatena horizontalmente os tensores (dim=1) e depois transforma em uma array numpy\n",
        "pd.DataFrame(data=dataset,columns=['X1','X2','Y'])"
      ],
      "execution_count": 61,
      "outputs": [
        {
          "output_type": "execute_result",
          "data": {
            "text/html": [
              "<div>\n",
              "<style scoped>\n",
              "    .dataframe tbody tr th:only-of-type {\n",
              "        vertical-align: middle;\n",
              "    }\n",
              "\n",
              "    .dataframe tbody tr th {\n",
              "        vertical-align: top;\n",
              "    }\n",
              "\n",
              "    .dataframe thead th {\n",
              "        text-align: right;\n",
              "    }\n",
              "</style>\n",
              "<table border=\"1\" class=\"dataframe\">\n",
              "  <thead>\n",
              "    <tr style=\"text-align: right;\">\n",
              "      <th></th>\n",
              "      <th>X1</th>\n",
              "      <th>X2</th>\n",
              "      <th>Y</th>\n",
              "    </tr>\n",
              "  </thead>\n",
              "  <tbody>\n",
              "    <tr>\n",
              "      <th>0</th>\n",
              "      <td>0.979992</td>\n",
              "      <td>0.983558</td>\n",
              "      <td>0.0</td>\n",
              "    </tr>\n",
              "    <tr>\n",
              "      <th>1</th>\n",
              "      <td>0.934793</td>\n",
              "      <td>0.931160</td>\n",
              "      <td>0.0</td>\n",
              "    </tr>\n",
              "    <tr>\n",
              "      <th>2</th>\n",
              "      <td>0.958496</td>\n",
              "      <td>1.022381</td>\n",
              "      <td>0.0</td>\n",
              "    </tr>\n",
              "    <tr>\n",
              "      <th>3</th>\n",
              "      <td>1.078308</td>\n",
              "      <td>1.076509</td>\n",
              "      <td>0.0</td>\n",
              "    </tr>\n",
              "    <tr>\n",
              "      <th>4</th>\n",
              "      <td>1.028015</td>\n",
              "      <td>1.085798</td>\n",
              "      <td>0.0</td>\n",
              "    </tr>\n",
              "    <tr>\n",
              "      <th>...</th>\n",
              "      <td>...</td>\n",
              "      <td>...</td>\n",
              "      <td>...</td>\n",
              "    </tr>\n",
              "    <tr>\n",
              "      <th>95</th>\n",
              "      <td>0.032294</td>\n",
              "      <td>0.926221</td>\n",
              "      <td>1.0</td>\n",
              "    </tr>\n",
              "    <tr>\n",
              "      <th>96</th>\n",
              "      <td>-0.046463</td>\n",
              "      <td>-0.056484</td>\n",
              "      <td>0.0</td>\n",
              "    </tr>\n",
              "    <tr>\n",
              "      <th>97</th>\n",
              "      <td>-0.042588</td>\n",
              "      <td>0.928851</td>\n",
              "      <td>1.0</td>\n",
              "    </tr>\n",
              "    <tr>\n",
              "      <th>98</th>\n",
              "      <td>0.077763</td>\n",
              "      <td>-0.044695</td>\n",
              "      <td>0.0</td>\n",
              "    </tr>\n",
              "    <tr>\n",
              "      <th>99</th>\n",
              "      <td>0.037281</td>\n",
              "      <td>1.003573</td>\n",
              "      <td>1.0</td>\n",
              "    </tr>\n",
              "  </tbody>\n",
              "</table>\n",
              "<p>100 rows × 3 columns</p>\n",
              "</div>"
            ],
            "text/plain": [
              "          X1        X2    Y\n",
              "0   0.979992  0.983558  0.0\n",
              "1   0.934793  0.931160  0.0\n",
              "2   0.958496  1.022381  0.0\n",
              "3   1.078308  1.076509  0.0\n",
              "4   1.028015  1.085798  0.0\n",
              "..       ...       ...  ...\n",
              "95  0.032294  0.926221  1.0\n",
              "96 -0.046463 -0.056484  0.0\n",
              "97 -0.042588  0.928851  1.0\n",
              "98  0.077763 -0.044695  0.0\n",
              "99  0.037281  1.003573  1.0\n",
              "\n",
              "[100 rows x 3 columns]"
            ]
          },
          "metadata": {
            "tags": []
          },
          "execution_count": 61
        }
      ]
    },
    {
      "cell_type": "markdown",
      "metadata": {
        "id": "d7sQBeXChuui",
        "colab_type": "text"
      },
      "source": [
        "Vamos visualizar o diagrama de dispersão de pontos no plano das features $x_1 \\times x_2$.  \n",
        "Também, vamos colorir os pontos de acordo com as classes de saída $y$ ($0$ ou $1$ para cada exemplo)."
      ]
    },
    {
      "cell_type": "code",
      "metadata": {
        "id": "ttH9_3etktER",
        "colab_type": "code",
        "colab": {
          "base_uri": "https://localhost:8080/",
          "height": 478
        },
        "outputId": "63aba6cf-0b69-4df7-b08a-c81406225cc7"
      },
      "source": [
        "x1_plt = torch.squeeze(X1).numpy()\n",
        "x2_plt = torch.squeeze(X2).numpy()\n",
        "y_true_plt = torch.squeeze(Y).numpy()\n",
        "\n",
        "plt.figure(figsize=(10,7))\n",
        "sns.scatterplot(x=x1_plt, y=x2_plt, hue=np.round(y_true_plt), s=200)\n",
        "\n",
        "plt.xlabel('x1')\n",
        "plt.ylabel('x2')"
      ],
      "execution_count": 62,
      "outputs": [
        {
          "output_type": "execute_result",
          "data": {
            "text/plain": [
              "Text(0, 0.5, 'x2')"
            ]
          },
          "metadata": {
            "tags": []
          },
          "execution_count": 62
        },
        {
          "output_type": "display_data",
          "data": {
            "image/png": "[encoded data removed]",
            "text/plain": [
              "<Figure size 720x504 with 1 Axes>"
            ]
          },
          "metadata": {
            "tags": [],
            "needs_background": "light"
          }
        }
      ]
    },
    {
      "cell_type": "markdown",
      "metadata": {
        "id": "0AqOBjQAmBEh",
        "colab_type": "text"
      },
      "source": [
        "<a name=\"32\"></a>\n",
        "### Camada linear com ativação sigmóide: regressão logística"
      ]
    },
    {
      "cell_type": "markdown",
      "metadata": {
        "id": "NhzLemwBmIy9",
        "colab_type": "text"
      },
      "source": [
        "Acrescentaremos uma função de ativação $g(\\cdot)$ sobre o resultado da regressão linear calculada pela camada ``Linear``.   \n",
        "\n",
        "O resultado da rede agora será $y=g\\left( \\sum\\limits_i=1^n w_i x_i \\right)$.    \n",
        "\n",
        "A função de ativação que usaremos é a função sigmóide, que mapeia qualquer número real para um intervalo entre $0$ e $1$.  \n",
        "A função sigmoide é definida como:\n",
        "$g\\left( h \\right) = \\dfrac{1}{1+e^{-h}}$."
      ]
    },
    {
      "cell_type": "markdown",
      "metadata": {
        "id": "MgiP062GiVbz",
        "colab_type": "text"
      },
      "source": [
        "Abaixo segue a definição do nosso modelo, em formato de classe com herança.  \n",
        "\n",
        "Diferente do exemplo anterior, precisamos agora especificar a função de ativação sobre os neurônios da camada linear. \n",
        "\n",
        "Note que a sequência das camadas não precisa ser definida no método construtor ``__init__``, pois é apenas no método ``forward`` que vamos estabelecer a sequência de operações a ser realizadas.\n",
        "\n",
        "Entretanto, nesse caso, usamos a camada ``nn.Sequential`` para criar um _pipeline_ único e simplificar a descrição do método foward.  \n",
        "A camada ``Sequential`` recebe uma lista de camadas, e concatena-as horizontalmente, fazendo com que a sua entrada propague o dado realizando transformações em série (em sequência)."
      ]
    },
    {
      "cell_type": "code",
      "metadata": {
        "id": "9IFrbecEUGTF",
        "colab_type": "code",
        "colab": {}
      },
      "source": [
        "class xor_perceptron(nn.Module):\n",
        "  \n",
        "  def __init__(self, n_in, n_out): \n",
        "    super().__init__()    \n",
        "\n",
        "    self.perceptron = nn.Linear(in_features=n_in, out_features=n_out) # criamos uma camada com nome \"perceptron\", que recebe um modelo \"Linear\" (aka regressão linear ou camada \"densa\")\n",
        "    self.sigmoid = nn.Sigmoid() # a função sigmoide é aplicada sobre os resultados da camada anterior\n",
        "\n",
        "    layers_list = [self.perceptron, self.sigmoid] # lista das camadas da rede, em ordem sequencial\n",
        "    self.layers = nn.Sequential(*layers_list)     # \"merge\" de todas as camamadas em uma layer sequencial\n",
        "\n",
        "  def forward(self, x): \n",
        "    x = self.layers(x)  # aplica a layer sequencial (x vai passando camada por camada, até chegar na saída da rede sequencial)\n",
        "    return x"
      ],
      "execution_count": 63,
      "outputs": []
    },
    {
      "cell_type": "markdown",
      "metadata": {
        "id": "Uwz9cSEgjGob",
        "colab_type": "text"
      },
      "source": [
        "Agora, instanciamos o modelo e visualizamos a topologia da rede, bem como os parâmetros inicializados:"
      ]
    },
    {
      "cell_type": "code",
      "metadata": {
        "id": "mX1F9RhhWP2Y",
        "colab_type": "code",
        "colab": {
          "base_uri": "https://localhost:8080/",
          "height": 185
        },
        "outputId": "cce8faa0-0748-4d5f-d8e4-3c5000e760c0"
      },
      "source": [
        "my_xor = xor_perceptron(n_in=2, n_out=1)\n",
        "print(my_xor)\n",
        "\n",
        "for name, param in my_xor.named_parameters(): # outra forma de acessar todos os parâmetros do modelo\n",
        "    print(name, '\\t', param.data)"
      ],
      "execution_count": 64,
      "outputs": [
        {
          "output_type": "stream",
          "text": [
            "xor_perceptron(\n",
            "  (perceptron): Linear(in_features=2, out_features=1, bias=True)\n",
            "  (sigmoid): Sigmoid()\n",
            "  (layers): Sequential(\n",
            "    (0): Linear(in_features=2, out_features=1, bias=True)\n",
            "    (1): Sigmoid()\n",
            "  )\n",
            ")\n",
            "perceptron.weight \t tensor([[-0.5099, -0.7046]])\n",
            "perceptron.bias \t tensor([-0.0098])\n"
          ],
          "name": "stdout"
        }
      ]
    },
    {
      "cell_type": "markdown",
      "metadata": {
        "id": "CUH8FqYHjRfN",
        "colab_type": "text"
      },
      "source": [
        "<a name=\"33\"></a>\n",
        "### Função Custo para o problema de Classificação"
      ]
    },
    {
      "cell_type": "markdown",
      "metadata": {
        "id": "qd_ofxCAnWWL",
        "colab_type": "text"
      },
      "source": [
        "Para avaliar o problema atual, vamos utilizar a função custo **_binary cross-entropy_** (BCE).  \n",
        "A BCE é adequada para problemas cuja saída é uma classificação binária.  \n",
        "Como otimizador, seguiremos usando o SGD."
      ]
    },
    {
      "cell_type": "code",
      "metadata": {
        "id": "5D7jsOLiUVEv",
        "colab_type": "code",
        "colab": {}
      },
      "source": [
        "criterion = nn.BCELoss() # binary cross-entropy\n",
        "optimizer = torch.optim.SGD(my_xor.parameters(), lr = 0.01) "
      ],
      "execution_count": 65,
      "outputs": []
    },
    {
      "cell_type": "markdown",
      "metadata": {
        "id": "932OLMwMjcY0",
        "colab_type": "text"
      },
      "source": [
        "<a name=\"34\"></a>\n",
        "### Treinando a regressão logística"
      ]
    },
    {
      "cell_type": "markdown",
      "metadata": {
        "id": "zr8o31FGnl8Z",
        "colab_type": "text"
      },
      "source": [
        "Vamos encapsular o loop de treinamento em uma única função, para não reescrevê-lo mais."
      ]
    },
    {
      "cell_type": "code",
      "metadata": {
        "id": "KhKJ7b5LVwTl",
        "colab_type": "code",
        "colab": {}
      },
      "source": [
        "def train_loop(model, data, max_epochs = 1000, print_iters = 5):\n",
        "  '''Função que organiza o fluxo de treinamento de um modelo do torch.\n",
        "\n",
        "  Entradas:\n",
        "    model: um objeto instanciado do modelo para ser treinado\n",
        "    data: uma tupla (X_treino, Y_treino), com os dados de treinamento supervisionado\n",
        "      \n",
        "    max_epochs: total de vezes que 'data' será iterado dando exemplos para o modelo\n",
        "    print_iters: auxiliar, define a frequência de impressão dos resultados parciais \n",
        "\n",
        "    Saídas:\n",
        "\n",
        "    model: modelo treinado, com parâmetros atualizados\n",
        "    losses: lista com o os valores das perdas ao longo das épocas\n",
        "    accs: lista com a taxa de acerto (acurácia) do modelo ao longo das épocas\n",
        "  '''\n",
        "  \n",
        "  X_train, Y_train = data\n",
        "  losses = []\n",
        "  accs = []\n",
        "\n",
        "  for i in range(max_epochs): # para cada época\n",
        "     \n",
        "    #-----------------------------------#\n",
        "    # INÍCIO DO WORKFLOW DO TREINAMENTO #\n",
        "    # \n",
        "    Y_pred = model.forward(X_train) # apresente os dados de entrada para o modelo, e obtenha a previsão\n",
        "      \n",
        "    loss = criterion(Y_pred, Y_train)       # calcule a perda (o custo, o erro) \n",
        "    optimizer.zero_grad()                   # inicialize os gradientes\n",
        "    loss.backward()                         # backpropagation sobre a perda atual (cálculo dos novos gradientes) \n",
        "    optimizer.step()                        # atualização dos parâmetros da rede utilizando a regra do otimizador escolhido\n",
        "    # FIM DO WORKFLOW DO TREINAMENTO    #\n",
        "    #-----------------------------------#\n",
        "\n",
        "\n",
        "    # ------ Bloco Opcional ------ #\n",
        "    # Salvando métricas\n",
        "    losses.append(loss)                     # salvando a perda atual\n",
        "    acc = calc_accuracy(Y_pred, Y_train)    # calcula a taxa de acerto atual\n",
        "    accs.append(acc)\n",
        "\n",
        "    # Imprimindo resultados parciais\n",
        "    if i % print_iters ==0: # a cada t iterações\n",
        "      print(f'epoch: {i:2}  loss: {loss.item():10.8f} accuracy: {acc:2.8f}') \n",
        "    #-----------------------------------#\n",
        "\n",
        "  #----------------------------------------------------------------------------#     \n",
        "  print('\\n# finished training!')\n",
        "  print(f' # --> epoch: {i}  \\n# --> initial loss: {losses[0]:10.8f}, \\n# --> accuracy: {acc:2.8f} , \\n# --> final loss: {losses[-1]:10.8f}')\n",
        "\n",
        "  # retorna resultados\n",
        "  return model, losses, accs\n",
        "\n",
        "\n",
        "def calc_accuracy(y_pred, y_true):\n",
        "  ''' Helper function para calcular a taxa de acerto deste exemplo.\n",
        "  '''\n",
        "  num_hits  = torch.sum(torch.round(y_pred)==y_true).numpy()\n",
        "  num_total =  float(y_true.numel())\n",
        "  acc=  num_hits/num_total\n",
        "  return acc"
      ],
      "execution_count": 66,
      "outputs": []
    },
    {
      "cell_type": "markdown",
      "metadata": {
        "id": "ta5jl3-4oNKn",
        "colab_type": "text"
      },
      "source": [
        "Vamos agrupar todas as features para que formem uma matriz de entrada ``X_train``."
      ]
    },
    {
      "cell_type": "code",
      "metadata": {
        "id": "8mLDhl34nslb",
        "colab_type": "code",
        "colab": {}
      },
      "source": [
        "X_train = torch.cat([X1, X2], dim=1) # concatena os vetores coluna em uma matriz [X1 X2] com m linhas (exemplos) e n colunas (features)\n",
        "data = (X_train, Y) # encapsula (X,Y) de treino numa tupla (dupla)"
      ],
      "execution_count": 67,
      "outputs": []
    },
    {
      "cell_type": "markdown",
      "metadata": {
        "id": "5DwRUOsKvaqH",
        "colab_type": "text"
      },
      "source": [
        "Agora vamos chamar a fução de treinamento, indicando o número de iterações:"
      ]
    },
    {
      "cell_type": "code",
      "metadata": {
        "id": "yTSmLlmpXoOk",
        "colab_type": "code",
        "colab": {
          "base_uri": "https://localhost:8080/",
          "height": 454
        },
        "outputId": "f0a9a1e8-1fc1-4415-f1a6-2dd36849aad0"
      },
      "source": [
        "my_xor, losses, accs = train_loop(my_xor, data, max_epochs=2000, print_iters=100) # note que o modelo é sobrescrito pela saída treinada"
      ],
      "execution_count": 68,
      "outputs": [
        {
          "output_type": "stream",
          "text": [
            "epoch:  0  loss: 0.78253359 accuracy: 0.35000000\n",
            "epoch: 100  loss: 0.73152548 accuracy: 0.24000000\n",
            "epoch: 200  loss: 0.70713264 accuracy: 0.27000000\n",
            "epoch: 300  loss: 0.69590032 accuracy: 0.53000000\n",
            "epoch: 400  loss: 0.69080216 accuracy: 0.54000000\n",
            "epoch: 500  loss: 0.68848878 accuracy: 0.69000000\n",
            "epoch: 600  loss: 0.68742639 accuracy: 0.76000000\n",
            "epoch: 700  loss: 0.68692470 accuracy: 0.79000000\n",
            "epoch: 800  loss: 0.68667531 accuracy: 0.79000000\n",
            "epoch: 900  loss: 0.68654001 accuracy: 0.79000000\n",
            "epoch: 1000  loss: 0.68645740 accuracy: 0.78000000\n",
            "epoch: 1100  loss: 0.68639952 accuracy: 0.76000000\n",
            "epoch: 1200  loss: 0.68635446 accuracy: 0.76000000\n",
            "epoch: 1300  loss: 0.68631625 accuracy: 0.76000000\n",
            "epoch: 1400  loss: 0.68628210 accuracy: 0.75000000\n",
            "epoch: 1500  loss: 0.68625128 accuracy: 0.74000000\n",
            "epoch: 1600  loss: 0.68622291 accuracy: 0.73000000\n",
            "epoch: 1700  loss: 0.68619651 accuracy: 0.70000000\n",
            "epoch: 1800  loss: 0.68617201 accuracy: 0.70000000\n",
            "epoch: 1900  loss: 0.68614930 accuracy: 0.69000000\n",
            "\n",
            "# finished training!\n",
            " # --> epoch: 1999  \n",
            "# --> initial loss: 0.78253359, \n",
            "# --> accuracy: 0.68000000 , \n",
            "# --> final loss: 0.68612814\n"
          ],
          "name": "stdout"
        }
      ]
    },
    {
      "cell_type": "markdown",
      "metadata": {
        "id": "nMnhmeguoDqO",
        "colab_type": "text"
      },
      "source": [
        "Vamos avaliar o resultado plotando:\n",
        "- o gráfico da evolução da perda BCE vs. as épocas de treinamento,\n",
        "- o gráfico da taxa de acerto (acurácia) vs. as épocas de  treinamento.\n",
        "\n",
        "Vamos organizar uma função para facilitar essa visualização."
      ]
    },
    {
      "cell_type": "code",
      "metadata": {
        "id": "pstsHGwUYoW5",
        "colab_type": "code",
        "colab": {}
      },
      "source": [
        "def plot_loss_and_accuracy(losses, accs):\n",
        "\n",
        "  fig, ax_tuple = plt.subplots(1, 2, figsize=(16,6))\n",
        "  fig.suptitle('Loss and accuracy')\n",
        "\n",
        "  for i, (y_label, y_values) in enumerate(zip(['BCE loss','Accuracy'],[losses, accs])):\n",
        "    ax_tuple[i].plot(range(len(y_values)),  y_values, label='train')\n",
        "    ax_tuple[i].set_xlabel('epochs')\n",
        "    ax_tuple[i].set_ylabel(y_label)\n",
        "    ax_tuple[i].legend()"
      ],
      "execution_count": 69,
      "outputs": []
    },
    {
      "cell_type": "markdown",
      "metadata": {
        "id": "cqUCsEU3wVOs",
        "colab_type": "text"
      },
      "source": [
        " Mostrando os gráficos, percebemos que o exemplo saturou em uma perda relativamente alta.  \n",
        " Além disso, a evolução da taxa de acerto apresenta uma curva estranha, e converge para um valor insatisfatório."
      ]
    },
    {
      "cell_type": "code",
      "metadata": {
        "id": "8MTIOVNapyKk",
        "colab_type": "code",
        "colab": {
          "base_uri": "https://localhost:8080/",
          "height": 450
        },
        "outputId": "1e39f03d-3894-4d21-e107-4af3bfd70c37"
      },
      "source": [
        "plot_loss_and_accuracy(losses, accs)"
      ],
      "execution_count": 70,
      "outputs": [
        {
          "output_type": "display_data",
          "data": {
            "image/png": "[encoded data removed]",
            "text/plain": [
              "<Figure size 1152x432 with 2 Axes>"
            ]
          },
          "metadata": {
            "tags": [],
            "needs_background": "light"
          }
        }
      ]
    },
    {
      "cell_type": "markdown",
      "metadata": {
        "id": "n1UIdGrZwZ_3",
        "colab_type": "text"
      },
      "source": [
        "Vamos tentar visualizar o scatterplot das saídas previstas no espaço cartesiano $x_1 \\times x_2$ (aqui, $\\times$ indica produto cartesiano). "
      ]
    },
    {
      "cell_type": "markdown",
      "metadata": {
        "id": "a-pijn7_wqeW",
        "colab_type": "text"
      },
      "source": [
        "Primeiro, vamos gerar as previsões com o modelo treinado."
      ]
    },
    {
      "cell_type": "code",
      "metadata": {
        "id": "xZ91lcEOa_Jb",
        "colab_type": "code",
        "colab": {}
      },
      "source": [
        "with torch.no_grad():\n",
        "  y_pred_plt = torch.squeeze(my_xor(torch.cat([X1, X2],dim=1))).numpy() # para transformar em numpy, é necessário primeiro desvincular o ten"
      ],
      "execution_count": 71,
      "outputs": []
    },
    {
      "cell_type": "markdown",
      "metadata": {
        "id": "VmJ--Lj-wtts",
        "colab_type": "text"
      },
      "source": [
        "Fazendo a imagem das saídas, notamos que a rede não aprendeu a função XOR.    \n",
        "\n",
        "Note também que precisamos arrendodar o valor de saída da sigmoid para estratificar em $\\hat{y}=\\left\\lbrace 0,1 \\right\\rbrace$."
      ]
    },
    {
      "cell_type": "code",
      "metadata": {
        "id": "1hDvLDOLbTTF",
        "colab_type": "code",
        "colab": {
          "base_uri": "https://localhost:8080/",
          "height": 450
        },
        "outputId": "fe717cd3-a127-471b-c3f3-1843eab7f442"
      },
      "source": [
        "plt.figure(figsize=(10,7))\n",
        "sns.scatterplot(x=x1_plt, y=x2_plt, s=200, hue=np.round(y_pred_plt))"
      ],
      "execution_count": 72,
      "outputs": [
        {
          "output_type": "execute_result",
          "data": {
            "text/plain": [
              "<matplotlib.axes._subplots.AxesSubplot at 0x7f08d1704438>"
            ]
          },
          "metadata": {
            "tags": []
          },
          "execution_count": 72
        },
        {
          "output_type": "display_data",
          "data": {
            "image/png": "[encoded data removed]",
            "text/plain": [
              "<Figure size 720x504 with 1 Axes>"
            ]
          },
          "metadata": {
            "tags": [],
            "needs_background": "light"
          }
        }
      ]
    },
    {
      "cell_type": "markdown",
      "metadata": {
        "id": "QoZDybUqxDGz",
        "colab_type": "text"
      },
      "source": [
        "<a name=\"35\"></a>\n",
        "### Feature Engineering: incluindo não-linearidades na entrada"
      ]
    },
    {
      "cell_type": "markdown",
      "metadata": {
        "id": "M5fxI4o4xWSx",
        "colab_type": "text"
      },
      "source": [
        "A regressão logística não foi capaz de aprender a função XOR adequadamente.   \n",
        "\n",
        "Uma possível alternativa seria buscarmos um modelo mais complexo, com mais camadas e neurônios.\n",
        "\n",
        "Entretanto, podemos tentar manter a simplicidade do modelo e inserir as não-linearidades na entrada, acrescentando novas _features_.  \n",
        "Esse processo é chamado *__feature engineering__*."
      ]
    },
    {
      "cell_type": "markdown",
      "metadata": {
        "id": "DWUwUlpvx4Ki",
        "colab_type": "text"
      },
      "source": [
        "Já temos as features $x_1$ e $x_2$, os bits de entrada da função XOR.  \n",
        "Vamos criar uma feature que combina as duas entradas usando $x_1 x_2$.  \n",
        "Note que, embora a operação dos tensores seja com valores ``float``, o resultado, caso não houvesse ruído, seria idêntico ao da operação booleana ``and`` $x_1 \\& x_2$."
      ]
    },
    {
      "cell_type": "code",
      "metadata": {
        "id": "74UzfB7NcuHK",
        "colab_type": "code",
        "colab": {
          "base_uri": "https://localhost:8080/",
          "height": 402
        },
        "outputId": "cc805eaa-2b68-49e0-cf21-f785d2703131"
      },
      "source": [
        "dataset = torch.cat([X1,X2, X1*X2,Y],dim=1).numpy() # feature engineering\n",
        "pd.DataFrame(data=dataset,columns=['X1','X2', 'X1*X2','Y'])"
      ],
      "execution_count": 73,
      "outputs": [
        {
          "output_type": "execute_result",
          "data": {
            "text/html": [
              "<div>\n",
              "<style scoped>\n",
              "    .dataframe tbody tr th:only-of-type {\n",
              "        vertical-align: middle;\n",
              "    }\n",
              "\n",
              "    .dataframe tbody tr th {\n",
              "        vertical-align: top;\n",
              "    }\n",
              "\n",
              "    .dataframe thead th {\n",
              "        text-align: right;\n",
              "    }\n",
              "</style>\n",
              "<table border=\"1\" class=\"dataframe\">\n",
              "  <thead>\n",
              "    <tr style=\"text-align: right;\">\n",
              "      <th></th>\n",
              "      <th>X1</th>\n",
              "      <th>X2</th>\n",
              "      <th>X1*X2</th>\n",
              "      <th>Y</th>\n",
              "    </tr>\n",
              "  </thead>\n",
              "  <tbody>\n",
              "    <tr>\n",
              "      <th>0</th>\n",
              "      <td>0.979992</td>\n",
              "      <td>0.983558</td>\n",
              "      <td>0.963880</td>\n",
              "      <td>0.0</td>\n",
              "    </tr>\n",
              "    <tr>\n",
              "      <th>1</th>\n",
              "      <td>0.934793</td>\n",
              "      <td>0.931160</td>\n",
              "      <td>0.870442</td>\n",
              "      <td>0.0</td>\n",
              "    </tr>\n",
              "    <tr>\n",
              "      <th>2</th>\n",
              "      <td>0.958496</td>\n",
              "      <td>1.022381</td>\n",
              "      <td>0.979949</td>\n",
              "      <td>0.0</td>\n",
              "    </tr>\n",
              "    <tr>\n",
              "      <th>3</th>\n",
              "      <td>1.078308</td>\n",
              "      <td>1.076509</td>\n",
              "      <td>1.160808</td>\n",
              "      <td>0.0</td>\n",
              "    </tr>\n",
              "    <tr>\n",
              "      <th>4</th>\n",
              "      <td>1.028015</td>\n",
              "      <td>1.085798</td>\n",
              "      <td>1.116217</td>\n",
              "      <td>0.0</td>\n",
              "    </tr>\n",
              "    <tr>\n",
              "      <th>...</th>\n",
              "      <td>...</td>\n",
              "      <td>...</td>\n",
              "      <td>...</td>\n",
              "      <td>...</td>\n",
              "    </tr>\n",
              "    <tr>\n",
              "      <th>95</th>\n",
              "      <td>0.032294</td>\n",
              "      <td>0.926221</td>\n",
              "      <td>0.029911</td>\n",
              "      <td>1.0</td>\n",
              "    </tr>\n",
              "    <tr>\n",
              "      <th>96</th>\n",
              "      <td>-0.046463</td>\n",
              "      <td>-0.056484</td>\n",
              "      <td>0.002624</td>\n",
              "      <td>0.0</td>\n",
              "    </tr>\n",
              "    <tr>\n",
              "      <th>97</th>\n",
              "      <td>-0.042588</td>\n",
              "      <td>0.928851</td>\n",
              "      <td>-0.039558</td>\n",
              "      <td>1.0</td>\n",
              "    </tr>\n",
              "    <tr>\n",
              "      <th>98</th>\n",
              "      <td>0.077763</td>\n",
              "      <td>-0.044695</td>\n",
              "      <td>-0.003476</td>\n",
              "      <td>0.0</td>\n",
              "    </tr>\n",
              "    <tr>\n",
              "      <th>99</th>\n",
              "      <td>0.037281</td>\n",
              "      <td>1.003573</td>\n",
              "      <td>0.037414</td>\n",
              "      <td>1.0</td>\n",
              "    </tr>\n",
              "  </tbody>\n",
              "</table>\n",
              "<p>100 rows × 4 columns</p>\n",
              "</div>"
            ],
            "text/plain": [
              "          X1        X2     X1*X2    Y\n",
              "0   0.979992  0.983558  0.963880  0.0\n",
              "1   0.934793  0.931160  0.870442  0.0\n",
              "2   0.958496  1.022381  0.979949  0.0\n",
              "3   1.078308  1.076509  1.160808  0.0\n",
              "4   1.028015  1.085798  1.116217  0.0\n",
              "..       ...       ...       ...  ...\n",
              "95  0.032294  0.926221  0.029911  1.0\n",
              "96 -0.046463 -0.056484  0.002624  0.0\n",
              "97 -0.042588  0.928851 -0.039558  1.0\n",
              "98  0.077763 -0.044695 -0.003476  0.0\n",
              "99  0.037281  1.003573  0.037414  1.0\n",
              "\n",
              "[100 rows x 4 columns]"
            ]
          },
          "metadata": {
            "tags": []
          },
          "execution_count": 73
        }
      ]
    },
    {
      "cell_type": "markdown",
      "metadata": {
        "id": "ZwmUp7pTyXy1",
        "colab_type": "text"
      },
      "source": [
        "Vamos repetir todo procedimento anterior:\n",
        "- instanciar um modelo, agora com $n_{\\text{in}}=3$ features de entrada\n",
        "- escolher o critério do treino (a função perda), novamente a BCE\n",
        "- escolher o otimizador (SGD) e a _learning rate_\n",
        "- treinar o modelo\n",
        "- fazer as previsões com o modelo treinado.\n",
        "\n",
        "Vamos aproveitar as funções anteriores para simplificar tudo numa única célula."
      ]
    },
    {
      "cell_type": "code",
      "metadata": {
        "id": "vsrCi1B1jJ2o",
        "colab_type": "code",
        "colab": {
          "base_uri": "https://localhost:8080/",
          "height": 454
        },
        "outputId": "a9a2c776-59eb-4ac2-c23e-0f8648f145ef"
      },
      "source": [
        "my_xor = xor_perceptron(n_in=3, n_out=1)\n",
        "criterion = nn.BCELoss() # binary cross-entropy\n",
        "optimizer = torch.optim.SGD(my_xor.parameters(), lr = 0.05) \n",
        "data = (torch.cat([X1, X2, X1*X2], dim=1), Y)\n",
        "my_xor, losses, accs = train_loop(my_xor, data, max_epochs=2000, print_iters=100)\n",
        "\n",
        "with torch.no_grad():\n",
        "  y_pred_plt = torch.squeeze(my_xor(torch.cat([X1, X2, X1*X2],dim=1))).numpy() # para transformar em numpy, é necessário primeiro desvincular o ten"
      ],
      "execution_count": 74,
      "outputs": [
        {
          "output_type": "stream",
          "text": [
            "epoch:  0  loss: 0.80011767 accuracy: 0.55000000\n",
            "epoch: 100  loss: 0.64209604 accuracy: 0.66000000\n",
            "epoch: 200  loss: 0.57851976 accuracy: 0.79000000\n",
            "epoch: 300  loss: 0.53213811 accuracy: 0.79000000\n",
            "epoch: 400  loss: 0.49533677 accuracy: 0.79000000\n",
            "epoch: 500  loss: 0.46456447 accuracy: 0.79000000\n",
            "epoch: 600  loss: 0.43788895 accuracy: 0.79000000\n",
            "epoch: 700  loss: 0.41421303 accuracy: 0.80000000\n",
            "epoch: 800  loss: 0.39287907 accuracy: 0.83000000\n",
            "epoch: 900  loss: 0.37346742 accuracy: 0.87000000\n",
            "epoch: 1000  loss: 0.35569093 accuracy: 0.89000000\n",
            "epoch: 1100  loss: 0.33933944 accuracy: 0.93000000\n",
            "epoch: 1200  loss: 0.32424951 accuracy: 0.96000000\n",
            "epoch: 1300  loss: 0.31028771 accuracy: 0.97000000\n",
            "epoch: 1400  loss: 0.29734203 accuracy: 0.99000000\n",
            "epoch: 1500  loss: 0.28531513 accuracy: 1.00000000\n",
            "epoch: 1600  loss: 0.27412194 accuracy: 1.00000000\n",
            "epoch: 1700  loss: 0.26368687 accuracy: 1.00000000\n",
            "epoch: 1800  loss: 0.25394279 accuracy: 1.00000000\n",
            "epoch: 1900  loss: 0.24482954 accuracy: 1.00000000\n",
            "\n",
            "# finished training!\n",
            " # --> epoch: 1999  \n",
            "# --> initial loss: 0.80011767, \n",
            "# --> accuracy: 1.00000000 , \n",
            "# --> final loss: 0.23637579\n"
          ],
          "name": "stdout"
        }
      ]
    },
    {
      "cell_type": "markdown",
      "metadata": {
        "id": "NM-EYnkAy3Kk",
        "colab_type": "text"
      },
      "source": [
        "Agora visualizamos a perda e a acurácia e notamos que o modelo conseguiu generalizar a função XOR a partir dos exemplos $(X, Y)$.  \n",
        "\n",
        "Porém, lembre que aumentamos o espaço de featuers de $X$, usando  \n",
        "$(x_1, x_2, x_1 x_2)\\to y$  \n",
        "em vez de apenas  \n",
        "$(x_1, x_2) \\to y$."
      ]
    },
    {
      "cell_type": "code",
      "metadata": {
        "id": "71ihMPfnjpMo",
        "colab_type": "code",
        "colab": {
          "base_uri": "https://localhost:8080/",
          "height": 450
        },
        "outputId": "e930ff2f-35e7-4551-f350-b11e76cca07b"
      },
      "source": [
        "plot_loss_and_accuracy(losses, accs)"
      ],
      "execution_count": 75,
      "outputs": [
        {
          "output_type": "display_data",
          "data": {
            "image/png": "[encoded data removed]",
            "text/plain": [
              "<Figure size 1152x432 with 2 Axes>"
            ]
          },
          "metadata": {
            "tags": [],
            "needs_background": "light"
          }
        }
      ]
    },
    {
      "cell_type": "code",
      "metadata": {
        "id": "VluuMp2Cjjiq",
        "colab_type": "code",
        "colab": {
          "base_uri": "https://localhost:8080/",
          "height": 450
        },
        "outputId": "c79548d8-23c3-4fd3-c2e2-290cc12d2922"
      },
      "source": [
        "plt.figure(figsize=(10,7))\n",
        "sns.scatterplot(x=x1_plt, y=x2_plt, s=200, hue=np.round(y_pred_plt))"
      ],
      "execution_count": 76,
      "outputs": [
        {
          "output_type": "execute_result",
          "data": {
            "text/plain": [
              "<matplotlib.axes._subplots.AxesSubplot at 0x7f08d1578fd0>"
            ]
          },
          "metadata": {
            "tags": []
          },
          "execution_count": 76
        },
        {
          "output_type": "display_data",
          "data": {
            "image/png": "[encoded data removed]",
            "text/plain": [
              "<Figure size 720x504 with 1 Axes>"
            ]
          },
          "metadata": {
            "tags": [],
            "needs_background": "light"
          }
        }
      ]
    },
    {
      "cell_type": "markdown",
      "metadata": {
        "id": "tgejOpPlzaEA",
        "colab_type": "text"
      },
      "source": [
        "<a name=\"4\"></a>\n",
        "## Redes com mais camadas"
      ]
    },
    {
      "cell_type": "markdown",
      "metadata": {
        "id": "1Uu6NmIL0MML",
        "colab_type": "text"
      },
      "source": [
        "Estudar exemplo da [\"rede classificadora de elipses\"](https://github.com/fontanads/machine_learning/blob/master/pytorch_labs/PyTorch_Custom_BCE_Loss_and_GradOpt.ipynb):\n",
        "- modelos com várias camadas densas\n",
        "- função de ativação ReLU."
      ]
    },
    {
      "cell_type": "markdown",
      "metadata": {
        "id": "Yq0uPS9Y0csp",
        "colab_type": "text"
      },
      "source": [
        "<a name=\"5\"></a>\n",
        "## Procesamento de Linguagem Natural e Embedding Layers"
      ]
    },
    {
      "cell_type": "markdown",
      "metadata": {
        "id": "I59VDxqbpA4I",
        "colab_type": "text"
      },
      "source": [
        "Camadas densas com uma função de ativação apropriada são capazes de generalizar muitas funções, inclusive funções não-lineares.  \n",
        "\n",
        "Porém, essas camadas assumem que os dados de entrada são quantiativos, ou seja, um vetor de valores reais."
      ]
    },
    {
      "cell_type": "markdown",
      "metadata": {
        "id": "5XLnCaTFqcUF",
        "colab_type": "text"
      },
      "source": [
        "<a name=\"51\"></a>\n",
        "### Variáveis Categóricas"
      ]
    },
    {
      "cell_type": "markdown",
      "metadata": {
        "id": "rESOUqI-pW_8",
        "colab_type": "text"
      },
      "source": [
        "Quando nossos dados são **categóricos** por natureza, ou seja, são classes que não possuem relação de ordem entre si, as camadas densas não são a melhor forma de fazer o processamento."
      ]
    },
    {
      "cell_type": "markdown",
      "metadata": {
        "id": "qyIZWeccpqLQ",
        "colab_type": "text"
      },
      "source": [
        "Considere um vetor de dados categóricos $\\mathbf{x}$, em que cada elemento $x_i$ do vetor pode assumir apenas um valor do conjunto $\\mathcal{X}=\\left\\lbrace 0, 1, \\ldots, N-1 \\right\\rbrace$.  \n",
        "\n",
        "Ou seja, cada entrada do vetor $\\mathbf{x}$ representa uma dentre $N$ classes possíveis.  \n",
        "\n",
        "Nesse tipo de dado, não existe o conceito de comparação $x_2 > x_1$, ou coisas do gênero, pois **os números que representam as classes são apenas símbolos para enumerar as diferentes categorias existentes**."
      ]
    },
    {
      "cell_type": "markdown",
      "metadata": {
        "id": "wg2sSN-JqenF",
        "colab_type": "text"
      },
      "source": [
        "<a name=\"52\"></a>\n",
        "### One-Hot Encoding"
      ]
    },
    {
      "cell_type": "markdown",
      "metadata": {
        "id": "o8EbKv_Vrz6M",
        "colab_type": "text"
      },
      "source": [
        "Como existem $N$ classes, uma representação matemática possível é transformar cada classe em um **vetor esparso**, com $N$ elementos, onde o único valor não-nulo de cada vetor seja um número $1$ na posição correspondente da classe que será representada. Essa representação esparsa se chama _one-hot encoding_.\n",
        "\n",
        "Vamos considerar um exemplo concreto. Suponha que temos $N=3$ classes, ou seja, $\\mathcal{X}=\\left\\lbrace 0, 1, 2 \\right\\rbrace$. A transformação _one-hot encoding_ vai criar as seguintes representações vetoriais para cada classe:\n",
        "- classe $0$ será mapeada para o vetor $\\mathbf{x}_0 = \\begin{bmatrix} 1 & 0 & 0 \\end{bmatrix}$\n",
        "- classe $1$ será mapeada para o vetor $\\mathbf{x}_1 = \\begin{bmatrix} 0 & 1 & 0 \\end{bmatrix}$\n",
        "- classe $2$ será mapeada para o vetor $\\mathbf{x}_2 = \\begin{bmatrix} 0 & 0 & 1 \\end{bmatrix}$."
      ]
    },
    {
      "cell_type": "markdown",
      "metadata": {
        "id": "Ji7HvXREtEZj",
        "colab_type": "text"
      },
      "source": [
        "> **Desvantagens da representação _one-hot encoding_**\n",
        "> \n",
        "> Um dos problemas da represnetação _one-hot encoding_ é que, num cenário onde o número de categorias seja muito grande (exemplo: do tamanho de um vocabulário de palavras de um idioma), teremos vetores dimensões muito grandes (cada vetor tem tamanho igual ao número de classes), com apenas um valor não-nulo cada.  \n",
        "> \n",
        "> Além de tornar os vetores muito grandes, o processo obriga que a computação seja feita com álgebra para matrizes e vetores esparsos, a fim de tornar o processo computacionalmente eficiente e viável.\n",
        "> \n",
        "> Outro problema é que a representação esparsa _one-hot encoding_ é invariante, não possui nenhum parâmetro adatável, e não absorve nenhum tipo de relação de \"distância\" (ou diferenciação) entre dois vetores que representam diferentes classes (é como se todas as classes estivessem equidistances uma das outras)."
      ]
    },
    {
      "cell_type": "markdown",
      "metadata": {
        "id": "wjJesKWirvQw",
        "colab_type": "text"
      },
      "source": [
        "<a name=\"53\"></a>\n",
        "### Embedding Layer"
      ]
    },
    {
      "cell_type": "markdown",
      "metadata": {
        "id": "KGaW7VvQuCxK",
        "colab_type": "text"
      },
      "source": [
        "Como alternativa à representação esparsa de variáveis categóricas, podemos usar uma **representação vetorial densa**.  \n",
        "Nessa abordagem, cada classe do conjunto $\\mathcal{X}$ possuirá uma representação geométrica no espaço euclidiano $\\mathbb{R}^n$, onde $n$ é um número arbitrário de dimensões, escolhido em função da complexidade do problema.  \n",
        "Essas representações densas são denominadas _embeddings_. A palavra remete ao fato de que os vetores \"embarcam\" características de cada classe, criando inclusive uma relação de distâncias e agrupamentos entre classes no espaço euclidiano."
      ]
    },
    {
      "cell_type": "markdown",
      "metadata": {
        "id": "sjDjPkTcvMaA",
        "colab_type": "text"
      },
      "source": [
        "Imagine o exemplo anterior, $N=3$  classes, ou seja,  $\\mathcal{X}={0,1,2}$.  \n",
        "Vamos escolher $n=2$ dimensões (plano cartesiano) para construir o _embedding_ dessas classes.\n",
        "Inicializando com valores aleatórios, poderíamos ter as seguintes representações:\n",
        "- classe $0$ será mapeada para o vetor $\\mathbf{x}_0 = \\begin{bmatrix} 2.1 & 3.2 \\end{bmatrix}$\n",
        "- classe $1$ será mapeada para o vetor $\\mathbf{x}_1 = \\begin{bmatrix} 1.9 & -1.1 \\end{bmatrix}$\n",
        "- classe $2$ será mapeada para o vetor $\\mathbf{x}_2 = \\begin{bmatrix} -3.1 & -1.2 \\end{bmatrix}$."
      ]
    },
    {
      "cell_type": "code",
      "metadata": {
        "id": "jBVS8p1ywLIf",
        "colab_type": "code",
        "colab": {
          "base_uri": "https://localhost:8080/",
          "height": 398
        },
        "outputId": "f6c9d945-09fe-4533-dd15-4d9c206e9bba"
      },
      "source": [
        "embedding_example = np.array([[2.1, 3.2], [1.9, -1.1], [-3.1, -1.2]]) # matriz de embedding\n",
        "print(f'Embedding Matrix: \\n {np.array_str(embedding_example)}')      \n",
        "\n",
        "plt.figure(figsize=(6,5))\n",
        "plt.scatter(x=embedding_example[:,0], y=embedding_example[:, 1])      # cada linha é uma classe, cada coluna é uma dimensão do embedding\n",
        "plt.grid()\n",
        "for x, coord in zip (range(3), embedding_example):\n",
        "  plt.annotate(s='classe '+ str(x),xy=coord+.1, fontsize=15)\n",
        "\n",
        "plt.xlim([-3.5,3.5])\n",
        "plt.ylim([-2,4]);"
      ],
      "execution_count": 77,
      "outputs": [
        {
          "output_type": "stream",
          "text": [
            "Embedding Matrix: \n",
            " [[ 2.1  3.2]\n",
            " [ 1.9 -1.1]\n",
            " [-3.1 -1.2]]\n"
          ],
          "name": "stdout"
        },
        {
          "output_type": "display_data",
          "data": {
            "image/png": "[encoded data removed]",
            "text/plain": [
              "<Figure size 432x360 with 1 Axes>"
            ]
          },
          "metadata": {
            "tags": [],
            "needs_background": "light"
          }
        }
      ]
    },
    {
      "cell_type": "markdown",
      "metadata": {
        "id": "TzfgrsHxyn1Z",
        "colab_type": "text"
      },
      "source": [
        "Note que, ao agrupar todos os _embeddings_ numa matriz  \n",
        "$\\mathbf{E}$ de tamanho $N \\times n$,  \n",
        "ou seja, \n",
        "- cada linha correspondendo ao _embedding_ de uma classe e \n",
        "- cada coluna correspondendo a uma dimensão diferente do embedding\n",
        "\n",
        "podemos dizer que o vetor _one-hot ecoded_ $\\mathbf{x}_{i}$, de tamanho  $1\\times N$, que representa a classe $i$ (possui $1$ na $i$-ésima coluna e zero nas demais) **seleciona a linha** (o _embedding_) $\\mathbf{e}_i$ da matriz $\\mathbf{E}$ através da multiplicação:\n",
        "$\\mathbf{e_i} = \\mathbf{x}_i \\mathbf{E}$.\n",
        "\n",
        "Essa notação serve apenas para uma descrição matemática da operação.  \n",
        "Na prática, em código, para ser eficiente, basta selecionar com um slice da matriz ```e_i = E[i]```.\n"
      ]
    },
    {
      "cell_type": "markdown",
      "metadata": {
        "id": "2CRiJMX84ueM",
        "colab_type": "text"
      },
      "source": [
        "<a name=\"54\"></a>\n",
        "### Embedding Layers no PyTorch"
      ]
    },
    {
      "cell_type": "markdown",
      "metadata": {
        "id": "XNKt_u6L0Vbu",
        "colab_type": "text"
      },
      "source": [
        "Para criar um embedding no PyTorch, inicializado com valores aleatórios, usamos a camada ```nn.Embedding```:"
      ]
    },
    {
      "cell_type": "code",
      "metadata": {
        "id": "6YD9QprY0hI3",
        "colab_type": "code",
        "colab": {
          "base_uri": "https://localhost:8080/",
          "height": 398
        },
        "outputId": "1c6ae8f1-afb6-4979-9128-c407f46d92a5"
      },
      "source": [
        "embedding_layer = nn.Embedding(num_embeddings=3, embedding_dim=2)\n",
        "print(embedding_layer)\n",
        "for i in torch.arange(0,3,1):\n",
        "  print(f\"o embedding da classe {i} é {embedding_layer(i).data}\")\n",
        "\n",
        "embedding_matrix = embedding_layer(torch.arange(0,3,1)).data\n",
        "\n",
        "plt.figure(figsize=(6,5))\n",
        "plt.scatter(x=embedding_matrix[:,0], y=embedding_matrix[:, 1])      # cada linha é uma classe, cada coluna é uma dimensão do embedding\n",
        "plt.grid()\n",
        "for x, coord in zip (range(3), embedding_matrix):\n",
        "  plt.annotate(s='classe '+ str(x),xy=coord+.1, fontsize=15)\n",
        "\n",
        "plt.xlim([-3.5,4.0])\n",
        "plt.ylim([-2,4]);"
      ],
      "execution_count": 78,
      "outputs": [
        {
          "output_type": "stream",
          "text": [
            "Embedding(3, 2)\n",
            "o embedding da classe 0 é tensor([ 0.3961, -1.7381])\n",
            "o embedding da classe 1 é tensor([2.7990, 1.2095])\n",
            "o embedding da classe 2 é tensor([-0.7230,  0.0201])\n"
          ],
          "name": "stdout"
        },
        {
          "output_type": "display_data",
          "data": {
            "image/png": "[encoded data removed]",
            "text/plain": [
              "<Figure size 432x360 with 1 Axes>"
            ]
          },
          "metadata": {
            "tags": [],
            "needs_background": "light"
          }
        }
      ]
    },
    {
      "cell_type": "markdown",
      "metadata": {
        "id": "PGhnG-o_4zkN",
        "colab_type": "text"
      },
      "source": [
        "Note que"
      ]
    },
    {
      "cell_type": "code",
      "metadata": {
        "id": "dQvxh9Y14478",
        "colab_type": "code",
        "colab": {
          "base_uri": "https://localhost:8080/",
          "height": 67
        },
        "outputId": "d5b35c1e-3fad-4cd2-9828-2936c2d90cdd"
      },
      "source": [
        "embedding_layer(torch.arange(0,3,1))"
      ],
      "execution_count": 79,
      "outputs": [
        {
          "output_type": "execute_result",
          "data": {
            "text/plain": [
              "tensor([[ 0.3961, -1.7381],\n",
              "        [ 2.7990,  1.2095],\n",
              "        [-0.7230,  0.0201]], grad_fn=<EmbeddingBackward>)"
            ]
          },
          "metadata": {
            "tags": []
          },
          "execution_count": 79
        }
      ]
    },
    {
      "cell_type": "markdown",
      "metadata": {
        "id": "6gkdvYsn47kV",
        "colab_type": "text"
      },
      "source": [
        "é uma matriz de _embedding_ que está sendo representada por um tensor, e que esse tensor possui um método de gradiente associado.  \n",
        "Ou seja, **é possível treinar os parâmetros do Embedding para otimizar a tarefa que a rede neural está realizando**, buscando encontrar a melhor representação possível da variável categória."
      ]
    },
    {
      "cell_type": "markdown",
      "metadata": {
        "id": "1W9-RFq-1O7A",
        "colab_type": "text"
      },
      "source": [
        "> **Como avaliar se um _Embedding_ é uma boa representação da minha variável categórica?**\n",
        "> \n",
        "> Em aplicações de **processamento de linguagem natural (NLP)**, cada palavra do vocabulário pode ser representada por um word-embedding, tipicamente na ordem de $50$ a $300$ dimensões.  \n",
        "> \n",
        "> Esses word-embeddings são obtidos treinando os parâmetros de uma rede neural (os valores dos elementos da matriz da camada de _embedding_) com um vocabulário grande e um _corpus_ muito extenso. \n",
        "> \n",
        "> Em geral, é difícil avaliar se um word-embedding é uma boa representação do vocabulário sem definir uma tarefa a mais para a rede-neural.\n",
        "> \n",
        "> Em NLP, dois _embeddings_ consolidadados da língua inglesa são [GLoVe](https://nlp.stanford.edu/projects/glove/) e [word2vec](https://code.google.com/archive/p/word2vec/) foram treinados em _corpus_ enormes e obtiveram bons resultados no processo de gerar \"**analogias de palavras**\". \n",
        "> \n",
        "> Por exemplo, ao realizar a operação vetorial \n",
        ">  ```Embedding['Paris'] - Embedding['France'] + Embedding['Italy']```,\n",
        "> o vetor resultante é muito próximo (geometricamente) do ponto ```Embedding['Rome']```.  \n",
        "> Similarmente,  \n",
        "> ```Embedding['king'] - Embedding['man'] + Embedding['woman']```  \n",
        "> resulta num ponto muito próximo de  ```Embedding['queen']```.\n",
        ">\n",
        "> Para mais informações sobre métodos de avaliação de word-embeddings, [leia este artigo](https://arxiv.org/pdf/1801.09536.pdf)."
      ]
    },
    {
      "cell_type": "markdown",
      "metadata": {
        "id": "XYnGWYQfqgnc",
        "colab_type": "text"
      },
      "source": [
        "<a name=\"55\"></a>\n",
        "### Dataset de NLP: SMS Spam"
      ]
    },
    {
      "cell_type": "markdown",
      "metadata": {
        "id": "sarZw3cX6LEE",
        "colab_type": "text"
      },
      "source": [
        "Vamos montar uma rede neural com PyTorch para implementar um classificador de Spam.  \n",
        "Trataremos o problema com uma aplicação de NLP.  \n",
        "\n",
        "Abaixo, carregamos o dataset utilizado do arquivo ```spam.csv```, obtido do [repositório de Machine Learning da UCI](https://archive.ics.uci.edu/ml/datasets/spambase)."
      ]
    },
    {
      "cell_type": "code",
      "metadata": {
        "id": "ivyWu7Edk9X0",
        "colab_type": "code",
        "colab": {}
      },
      "source": [
        "encoding_str = 'Windows-1252' # 'iso-8859-1'\n",
        "url_data = 'https://raw.githubusercontent.com/fontanads/machine_learning/master/pytorch_labs/data/spam.csv'\n",
        "data = pd.read_csv(url_data, encoding=encoding_str, usecols=['v1','v2'])\n",
        "data = data.rename(columns={'v1':'label','v2':'e-mails'})\n",
        "data['y'] = data['label'].replace({'ham':0,'spam':1})\n",
        "data = data[['e-mails', 'label','y']]"
      ],
      "execution_count": 80,
      "outputs": []
    },
    {
      "cell_type": "markdown",
      "metadata": {
        "id": "csNCjQzC7ZRI",
        "colab_type": "text"
      },
      "source": [
        "Observe o dataset original traz \"sentenças\" e \"rótulos, sendo os rótulos possíveis \"ham\" ou \"spam\".  \n",
        "A coluna $y$ foi adicionada manualmente na célula anterior, substituindo \"ham\" por \"0\" (não é spam) e \"spam\" por $1$ (é spam)."
      ]
    },
    {
      "cell_type": "code",
      "metadata": {
        "id": "ELn_2S_u1JZL",
        "colab_type": "code",
        "colab": {
          "base_uri": "https://localhost:8080/",
          "height": 195
        },
        "outputId": "b0a1c758-b63d-4496-f3b8-2332e6dad904"
      },
      "source": [
        "data.head()"
      ],
      "execution_count": 81,
      "outputs": [
        {
          "output_type": "execute_result",
          "data": {
            "text/html": [
              "<div>\n",
              "<style scoped>\n",
              "    .dataframe tbody tr th:only-of-type {\n",
              "        vertical-align: middle;\n",
              "    }\n",
              "\n",
              "    .dataframe tbody tr th {\n",
              "        vertical-align: top;\n",
              "    }\n",
              "\n",
              "    .dataframe thead th {\n",
              "        text-align: right;\n",
              "    }\n",
              "</style>\n",
              "<table border=\"1\" class=\"dataframe\">\n",
              "  <thead>\n",
              "    <tr style=\"text-align: right;\">\n",
              "      <th></th>\n",
              "      <th>e-mails</th>\n",
              "      <th>label</th>\n",
              "      <th>y</th>\n",
              "    </tr>\n",
              "  </thead>\n",
              "  <tbody>\n",
              "    <tr>\n",
              "      <th>0</th>\n",
              "      <td>Go until jurong point, crazy.. Available only ...</td>\n",
              "      <td>ham</td>\n",
              "      <td>0</td>\n",
              "    </tr>\n",
              "    <tr>\n",
              "      <th>1</th>\n",
              "      <td>Ok lar... Joking wif u oni...</td>\n",
              "      <td>ham</td>\n",
              "      <td>0</td>\n",
              "    </tr>\n",
              "    <tr>\n",
              "      <th>2</th>\n",
              "      <td>Free entry in 2 a wkly comp to win FA Cup fina...</td>\n",
              "      <td>spam</td>\n",
              "      <td>1</td>\n",
              "    </tr>\n",
              "    <tr>\n",
              "      <th>3</th>\n",
              "      <td>U dun say so early hor... U c already then say...</td>\n",
              "      <td>ham</td>\n",
              "      <td>0</td>\n",
              "    </tr>\n",
              "    <tr>\n",
              "      <th>4</th>\n",
              "      <td>Nah I don't think he goes to usf, he lives aro...</td>\n",
              "      <td>ham</td>\n",
              "      <td>0</td>\n",
              "    </tr>\n",
              "  </tbody>\n",
              "</table>\n",
              "</div>"
            ],
            "text/plain": [
              "                                             e-mails label  y\n",
              "0  Go until jurong point, crazy.. Available only ...   ham  0\n",
              "1                      Ok lar... Joking wif u oni...   ham  0\n",
              "2  Free entry in 2 a wkly comp to win FA Cup fina...  spam  1\n",
              "3  U dun say so early hor... U c already then say...   ham  0\n",
              "4  Nah I don't think he goes to usf, he lives aro...   ham  0"
            ]
          },
          "metadata": {
            "tags": []
          },
          "execution_count": 81
        }
      ]
    },
    {
      "cell_type": "markdown",
      "metadata": {
        "id": "MFYLIw7P7u1N",
        "colab_type": "text"
      },
      "source": [
        "Número total de exemplos do dataset: $5572$."
      ]
    },
    {
      "cell_type": "code",
      "metadata": {
        "id": "DY9M5Ua13feD",
        "colab_type": "code",
        "colab": {
          "base_uri": "https://localhost:8080/",
          "height": 34
        },
        "outputId": "78af6ee4-c712-481c-d7bd-ff1a2e137b46"
      },
      "source": [
        "len(data)"
      ],
      "execution_count": 82,
      "outputs": [
        {
          "output_type": "execute_result",
          "data": {
            "text/plain": [
              "5572"
            ]
          },
          "metadata": {
            "tags": []
          },
          "execution_count": 82
        }
      ]
    },
    {
      "cell_type": "markdown",
      "metadata": {
        "id": "WL3BsGQfqn4u",
        "colab_type": "text"
      },
      "source": [
        "<a name=\"56\"></a>\n",
        "### Limpeza do Texto e Criação de um Vocabulário"
      ]
    },
    {
      "cell_type": "markdown",
      "metadata": {
        "id": "Ji7OuX-c9Svq",
        "colab_type": "text"
      },
      "source": [
        "> _Disclaimer_: em geral, num problema de machine learning, e também em NLP, o primeiro passo é dividir o dataset em treino e teste, e só então realizar os pré-processamentos.  \n",
        "> \n",
        "> Porém, vou ignorar a regra para conseguir um vocabulário maior, pois o _dataset_ é muito pequeno."
      ]
    },
    {
      "cell_type": "markdown",
      "metadata": {
        "id": "HGCMeADt9o6S",
        "colab_type": "text"
      },
      "source": [
        "Vamos percorrer o dataset e criar um vocabulário, ou seja, um conjunto de palavras $\\mathcal{V}=\\left\\lbrace w_1, \\ldots, w_V \\right\\rbrace$, que terá tamanho $V$.  \n",
        "\n",
        "Para que não seja muito extenso, vamos fazer uma limpeza e pré-processamento:\n",
        "- as palavras serão convertidas em minúsculas (``lowercase``)\n",
        "- _stopwords_ serão removidas\n",
        "- palavras muito pequenas, que não atinjam um número mínimo de caracteres, serão removidas."
      ]
    },
    {
      "cell_type": "code",
      "metadata": {
        "id": "tUbn5VDY2ETO",
        "colab_type": "code",
        "colab": {
          "base_uri": "https://localhost:8080/",
          "height": 67
        },
        "outputId": "ced16fea-893c-464e-f570-926df6140a47"
      },
      "source": [
        "vocab_set = set() # será usado para gerar o vocabulário principal\n",
        "all_tokens = []   # opcional: usei para aplica o método Counter() e gerar a frequência das palavras, mas é irrelevante para a rede neural\n",
        "max_len_doc = 0   # vamos medir o maior comprimento das mensagens envidas, em número de tokens\n",
        "sum_len_doc = 0   # vamos medir o valor médio de palavras (tokens) por mensagem\n",
        "min_word_len = 3  # comprimento mínimo de um token (em número de caracteres) para entrar no vocabulário \n",
        "\n",
        "for doc in data['e-mails']: # para cada documento do dataset\n",
        "  sentences = nltk.sent_tokenize(doc)  # tokenizar em uma lista de frases com nltk\n",
        "  tokens = nltk.wordpunct_tokenize(' '.join(sentences)) # tokenizar o documento inteiro em uma lista de palavras também\n",
        "  # limpeza dos tokens: lowercase, alfabético, não é stopword, tem mais de min_word_len caracteres\n",
        "  tokens_list = [t.lower() for t in tokens if t.lower().isalpha() and (t.lower() not in stop_words) and len(t)>=min_word_len] \n",
        "  # uso da função set: cria um conjunto dos elementos únicos da lista\n",
        "  tokens_set = set(tokens_list)\n",
        "  vocab_set = set.union(vocab_set, tokens_set) # adiciona elementos únicos que ainda não pertencem ao conjunto do vocabulário\n",
        "\n",
        "  sum_len_doc += len(tokens)\n",
        "  if len(tokens) > max_len_doc:\n",
        "    max_len_doc=len(tokens)\n",
        "\n",
        "  all_tokens.extend(tokens_list)\n",
        "\n",
        "print(f'Tamanho total do vocabulário: V={len(vocab_set)}')\n",
        "print(f'Número de palavras da mensagem mais longa: {max_len_doc}')\n",
        "print(f'Média de palavras por mensagem: {sum_len_doc/len(data):3.4f}')"
      ],
      "execution_count": 83,
      "outputs": [
        {
          "output_type": "stream",
          "text": [
            "Tamanho total do vocabulário: V=7222\n",
            "Número de palavras da mensagem mais longa: 210\n",
            "Média de palavras por mensagem: 19.4939\n"
          ],
          "name": "stdout"
        }
      ]
    },
    {
      "cell_type": "markdown",
      "metadata": {
        "id": "4GCY3rB8-R-N",
        "colab_type": "text"
      },
      "source": [
        "> O trecho abaixo analisa a frequência das palavras no dataset.  \n",
        "> Não vamos precisar disso na rede neural, mas vamos usar essa informação para explorar os resultados ao fim do treino e teste."
      ]
    },
    {
      "cell_type": "code",
      "metadata": {
        "id": "ycKBsY3cUgnk",
        "colab_type": "code",
        "colab": {
          "base_uri": "https://localhost:8080/",
          "height": 87
        },
        "outputId": "700d6481-2b03-4279-ce7c-a1e9d39d804b"
      },
      "source": [
        "from collections import Counter                # cria dicionário de frequência de items\n",
        "count_dictionary = Counter(all_tokens)         # vai fazer a contagem de palavras e converter em um dicionário\n",
        "print(f'Vocabulário de tamanho V={len(count_dictionary)}')   # conferindo que o tamanho do vocabulário é o mesmo obtido no método anterior\n",
        "N = 10\n",
        "print(count_dictionary.most_common(N))             # imprime as N palavras  mais comuns e suas frequências\n",
        "print(count_dictionary.most_common()[:-N-1:-1])    # imprime as N palavras menos comuns e suas frequências"
      ],
      "execution_count": 84,
      "outputs": [
        {
          "output_type": "stream",
          "text": [
            "Vocabulário de tamanho V=7222\n",
            "[('call', 591), ('get', 391), ('free', 284), ('know', 261), ('like', 245), ('good', 245), ('got', 239), ('day', 229), ('come', 229), ('time', 220)]\n",
            "[('bitching', 1), ('suggestions', 1), ('pity', 1), ('salesman', 1), ('lowes', 1), ('heap', 1), ('dump', 1), ('nmde', 1), ('dental', 1), ('accent', 1)]\n"
          ],
          "name": "stdout"
        }
      ]
    },
    {
      "cell_type": "markdown",
      "metadata": {
        "id": "pnoRbZC_-542",
        "colab_type": "text"
      },
      "source": [
        "Vamos criar agora duas estruturas Python:\n",
        "- o **dicionário** ``word2idx`` recebe como chave uma palavra (token) e converte o mesmo para um índice (variável categórica) de correspondência única (mapeamento um pra um)\n",
        "- a **lista** ``idx2word`` faz a operação contrária, a posição do elemento (seu índice) indica a palavra (token) correspondente."
      ]
    },
    {
      "cell_type": "markdown",
      "metadata": {
        "id": "9xwL8E1tADmf",
        "colab_type": "text"
      },
      "source": [
        "Vamos adicionar ao vocabulário dois tokens:\n",
        "- ``'<OOV>'`` para lidar com palavras novas, fora do vocabulário do corpus\n",
        "- ``'<PAD>'`` para preencher sentenças curtas até um comprimento mínimo."
      ]
    },
    {
      "cell_type": "code",
      "metadata": {
        "id": "5UGALtMW46ik",
        "colab_type": "code",
        "colab": {
          "base_uri": "https://localhost:8080/",
          "height": 50
        },
        "outputId": "2ab4803d-f2f0-4daf-8796-05dc0dba2d34"
      },
      "source": [
        "word2idx = dict({})        # inicializa o dicionário\n",
        "word2idx['<OOV>'] = 0      # índice da tag \"out of vocabulary\" é 0\n",
        "word2idx['<PAD>'] = 1      # índice da tag \"padding token\" é 1\n",
        "\n",
        "for i, v in enumerate(sorted(vocab_set),start=2): # enumera o vocabulário em ordem alfabética, a partir do índice 2\n",
        "  word2idx[v] = i\n",
        "\n",
        "# testando a conversão \"word to index\" com o dicionário:\n",
        "print(f'index for \"<PAD>\": {word2idx[\"<PAD>\"]}')\n",
        "print(f'index for \"action\": {word2idx[\"action\"]}')"
      ],
      "execution_count": 85,
      "outputs": [
        {
          "output_type": "stream",
          "text": [
            "index for \"<PAD>\": 1\n",
            "index for \"action\": 60\n"
          ],
          "name": "stdout"
        }
      ]
    },
    {
      "cell_type": "code",
      "metadata": {
        "id": "GEvhyjYyYIyT",
        "colab_type": "code",
        "colab": {
          "base_uri": "https://localhost:8080/",
          "height": 50
        },
        "outputId": "77aeb76e-d79e-4e96-9139-0d34c81e8c35"
      },
      "source": [
        "idx2word = list(word2idx.keys()) # apenas transforma as chaves (palavras ordenadas) do dicionário word2idx em uma lista\n",
        "\n",
        "# testando a conversão \"index to word\":\n",
        "print(f'word for index 0:    {idx2word[0]}')\n",
        "print(f'word for index 100\": {idx2word[100]}')"
      ],
      "execution_count": 86,
      "outputs": [
        {
          "output_type": "stream",
          "text": [
            "word for index 0:    <OOV>\n",
            "word for index 100\": aeronautics\n"
          ],
          "name": "stdout"
        }
      ]
    },
    {
      "cell_type": "markdown",
      "metadata": {
        "id": "_7gWxy1Nq0_5",
        "colab_type": "text"
      },
      "source": [
        "<a name=\"57\"></a>\n",
        "### Codificando as mensagens"
      ]
    },
    {
      "cell_type": "markdown",
      "metadata": {
        "id": "mflgRLD0BEY5",
        "colab_type": "text"
      },
      "source": [
        "Agora que temos o mapeamento do vocabulário para variáveis categóricas (índices), vamos codificar as mensagens.  \n",
        "Observe que cada mensagem do dataset pode ter uma ou mais frases:"
      ]
    },
    {
      "cell_type": "code",
      "metadata": {
        "id": "Y2jPOFi1BQB4",
        "colab_type": "code",
        "colab": {
          "base_uri": "https://localhost:8080/",
          "height": 101
        },
        "outputId": "28f6c631-5601-4c3e-d926-7765390d1859"
      },
      "source": [
        "for msg in data['e-mails'].sample(5):\n",
        "  print(msg)"
      ],
      "execution_count": 87,
      "outputs": [
        {
          "output_type": "stream",
          "text": [
            "Tell them the drug dealer's getting impatient\n",
            "Free any day but i finish at 6 on mon n thurs...\n",
            "Gud mrng dear hav a nice day\n",
            "Haha, my friend tyler literally just asked if you could get him a dubsack\n",
            "Try to do something dear. You read something for exams\n"
          ],
          "name": "stdout"
        }
      ]
    },
    {
      "cell_type": "markdown",
      "metadata": {
        "id": "Oji_U2JnBqZ5",
        "colab_type": "text"
      },
      "source": [
        "Portanto, nossa estratégia será a seguinte:\n",
        "- vamos converter as mensagens em uma sequência de índices (correspondentes aos tokens das mensagens)\n",
        "- vamos limitar o cumprimento máximo da mensagem (truncar a mensagem) em ``max_len`` tokens\n",
        "- vamos acrescentar tokens ``'<PAD>'`` em frases curtas até atingirem ``max_len`` tokens.  \n",
        "Isso vai nos garantir que todas as mensagens serão mapeadas para um vetor de ``max_len`` elementos, onde cada elemento é uma variável categórica (índice que representa um token do vocabulário).\n"
      ]
    },
    {
      "cell_type": "code",
      "metadata": {
        "id": "fVKHx3Js552p",
        "colab_type": "code",
        "colab": {
          "base_uri": "https://localhost:8080/",
          "height": 34
        },
        "outputId": "8c3352ff-0d43-4320-9330-0060f0353fb3"
      },
      "source": [
        "max_len = 64         # comprimento máximo da mensagem (em número de palavras)\n",
        "encoded_docs = []    # inicializa a lista de documentos codificados\n",
        "for doc in data['e-mails']: # para cada mensagem\n",
        "  # sentences = nltk.sent_tokenize(doc)                              # separa o documento por frases\n",
        "  # tokens = nltk.wordpunct_tokenize(' '.join(sentences))            # junta as frases e separa o documento por tokens\n",
        "  tokens = nltk.wordpunct_tokenize(doc)                              # tokeniza o documento\n",
        "  encoded_d = [word2idx.get(t,word2idx['<OOV>']) for t in tokens]    # codifica o documento usando o dicionário word2idx\n",
        "  encoded_d += [word2idx['<PAD>']]*max(0, max_len-len(encoded_d))    # adiciona o padding, se necessário\n",
        "  \n",
        "  encoded_docs.append(encoded_d[:max_len])                           # trunca o documento e salva na lista de documentos codificados\n",
        "\n",
        "len(encoded_docs)  "
      ],
      "execution_count": 88,
      "outputs": [
        {
          "output_type": "execute_result",
          "data": {
            "text/plain": [
              "5572"
            ]
          },
          "metadata": {
            "tags": []
          },
          "execution_count": 88
        }
      ]
    },
    {
      "cell_type": "markdown",
      "metadata": {
        "id": "qaB5d-fUEcAi",
        "colab_type": "text"
      },
      "source": [
        "Vamos então adicionar as mensagens codificadas ao dataset original, na coluna denominada ``X``:"
      ]
    },
    {
      "cell_type": "code",
      "metadata": {
        "id": "fikLtJfL8qON",
        "colab_type": "code",
        "colab": {
          "base_uri": "https://localhost:8080/",
          "height": 195
        },
        "outputId": "7af782fb-da95-4476-f4a8-ff266e3c9a5d"
      },
      "source": [
        "data['X'] = encoded_docs\n",
        "data.head()"
      ],
      "execution_count": 89,
      "outputs": [
        {
          "output_type": "execute_result",
          "data": {
            "text/html": [
              "<div>\n",
              "<style scoped>\n",
              "    .dataframe tbody tr th:only-of-type {\n",
              "        vertical-align: middle;\n",
              "    }\n",
              "\n",
              "    .dataframe tbody tr th {\n",
              "        vertical-align: top;\n",
              "    }\n",
              "\n",
              "    .dataframe thead th {\n",
              "        text-align: right;\n",
              "    }\n",
              "</style>\n",
              "<table border=\"1\" class=\"dataframe\">\n",
              "  <thead>\n",
              "    <tr style=\"text-align: right;\">\n",
              "      <th></th>\n",
              "      <th>e-mails</th>\n",
              "      <th>label</th>\n",
              "      <th>y</th>\n",
              "      <th>X</th>\n",
              "    </tr>\n",
              "  </thead>\n",
              "  <tbody>\n",
              "    <tr>\n",
              "      <th>0</th>\n",
              "      <td>Go until jurong point, crazy.. Available only ...</td>\n",
              "      <td>ham</td>\n",
              "      <td>0</td>\n",
              "      <td>[0, 0, 3258, 4666, 0, 1380, 0, 0, 0, 0, 836, 0...</td>\n",
              "    </tr>\n",
              "    <tr>\n",
              "      <th>1</th>\n",
              "      <td>Ok lar... Joking wif u oni...</td>\n",
              "      <td>ham</td>\n",
              "      <td>0</td>\n",
              "      <td>[0, 3399, 0, 0, 6982, 0, 4321, 0, 1, 1, 1, 1, ...</td>\n",
              "    </tr>\n",
              "    <tr>\n",
              "      <th>2</th>\n",
              "      <td>Free entry in 2 a wkly comp to win FA Cup fina...</td>\n",
              "      <td>spam</td>\n",
              "      <td>1</td>\n",
              "      <td>[0, 1965, 0, 0, 0, 7032, 1222, 0, 6994, 0, 0, ...</td>\n",
              "    </tr>\n",
              "    <tr>\n",
              "      <th>3</th>\n",
              "      <td>U dun say so early hor... U c already then say...</td>\n",
              "      <td>ham</td>\n",
              "      <td>0</td>\n",
              "      <td>[0, 1831, 5354, 0, 1849, 2873, 0, 0, 0, 182, 0...</td>\n",
              "    </tr>\n",
              "    <tr>\n",
              "      <th>4</th>\n",
              "      <td>Nah I don't think he goes to usf, he lives aro...</td>\n",
              "      <td>ham</td>\n",
              "      <td>0</td>\n",
              "      <td>[0, 0, 0, 0, 0, 6325, 0, 2537, 0, 6708, 0, 0, ...</td>\n",
              "    </tr>\n",
              "  </tbody>\n",
              "</table>\n",
              "</div>"
            ],
            "text/plain": [
              "                                             e-mails  ...                                                  X\n",
              "0  Go until jurong point, crazy.. Available only ...  ...  [0, 0, 3258, 4666, 0, 1380, 0, 0, 0, 0, 836, 0...\n",
              "1                      Ok lar... Joking wif u oni...  ...  [0, 3399, 0, 0, 6982, 0, 4321, 0, 1, 1, 1, 1, ...\n",
              "2  Free entry in 2 a wkly comp to win FA Cup fina...  ...  [0, 1965, 0, 0, 0, 7032, 1222, 0, 6994, 0, 0, ...\n",
              "3  U dun say so early hor... U c already then say...  ...  [0, 1831, 5354, 0, 1849, 2873, 0, 0, 0, 182, 0...\n",
              "4  Nah I don't think he goes to usf, he lives aro...  ...  [0, 0, 0, 0, 0, 6325, 0, 2537, 0, 6708, 0, 0, ...\n",
              "\n",
              "[5 rows x 4 columns]"
            ]
          },
          "metadata": {
            "tags": []
          },
          "execution_count": 89
        }
      ]
    },
    {
      "cell_type": "code",
      "metadata": {
        "id": "7Tx93YFq-0cj",
        "colab_type": "code",
        "colab": {
          "base_uri": "https://localhost:8080/",
          "height": 70
        },
        "outputId": "b1bab371-56a0-4f90-d2e2-79fa7ca2597f"
      },
      "source": [
        "# verificando o comprimento de um exemplo de mensagem codificada\n",
        "msg_codificada_ex = data['X'].iloc[53]\n",
        "print(f' Mensagem codificada {msg_codificada_ex} \\n Comprimento: {len(msg_codificada_ex)}')"
      ],
      "execution_count": 90,
      "outputs": [
        {
          "output_type": "stream",
          "text": [
            " Mensagem codificada [0, 0, 0, 4134, 5011, 0, 0, 0, 0, 1916, 0, 0, 41, 0, 0, 6344, 0, 3497, 0, 0, 5611, 0, 0, 0, 0, 607, 0, 1346, 0, 0, 191, 5418, 0, 2714, 0, 0, 0, 979, 0, 0, 0, 0, 5779, 0, 0, 0, 0, 0, 0, 0, 0, 0, 0, 0, 2516, 0, 0, 0, 0, 5779, 0, 4277, 0, 0] \n",
            " Comprimento: 64\n"
          ],
          "name": "stdout"
        }
      ]
    },
    {
      "cell_type": "markdown",
      "metadata": {
        "id": "-HyFivPUrCch",
        "colab_type": "text"
      },
      "source": [
        "<a name=\"58\"></a>\n",
        "### Separação de Treino e Teste"
      ]
    },
    {
      "cell_type": "markdown",
      "metadata": {
        "id": "dPva6ii4FFjk",
        "colab_type": "text"
      },
      "source": [
        "Aqui, vamos separar o dataset em treino e teste.  \n",
        "Lembre que, em problemas reais, esse passo deve ocorre ainda antes do pré-processamento, limpeza e construção do vocabulário!  \n",
        "Vamos usar apenas as mensagens codificadas (vetores de variáveis categóricas, coluna do DataFrame ``'X'``) e as saídas rotuladas em $\\left\\lbrace 0, 1 \\right\\rbrace$ (coluna ``'y'`` do DataFrame). Também vamos converter os objetos para arrays do numpy."
      ]
    },
    {
      "cell_type": "code",
      "metadata": {
        "id": "Yzz8pjCE8_Mc",
        "colab_type": "code",
        "colab": {
          "base_uri": "https://localhost:8080/",
          "height": 34
        },
        "outputId": "e3b39f81-2d60-43dc-d1d2-485d50214a3e"
      },
      "source": [
        "X = np.vstack(data['X'].apply(lambda x: np.array(x)))\n",
        "Y = np.array(data['y']).reshape(-1,1)\n",
        "X.shape, X[0].shape, Y.shape, Y[0].shape"
      ],
      "execution_count": 91,
      "outputs": [
        {
          "output_type": "execute_result",
          "data": {
            "text/plain": [
              "((5572, 64), (64,), (5572, 1), (1,))"
            ]
          },
          "metadata": {
            "tags": []
          },
          "execution_count": 91
        }
      ]
    },
    {
      "cell_type": "markdown",
      "metadata": {
        "id": "iELsC8WPFwsv",
        "colab_type": "text"
      },
      "source": [
        "Para separar os exemplos de treino e de teste, vamos usar o método ``train_test_split`` da biblioteca ``sklearn.model_selection``."
      ]
    },
    {
      "cell_type": "code",
      "metadata": {
        "id": "JwSByft01igo",
        "colab_type": "code",
        "colab": {}
      },
      "source": [
        "train_size = 0.8    # percentual de exemplos para o treino\n",
        "\n",
        "X_train, X_test, Y_train, Y_test = train_test_split(X,Y,                       # dataset para ser dividido, entrada X e saída Y\n",
        "                                                    train_size=train_size,     # percentual resevado para o treinamento\n",
        "                                                    stratify=Y,                # estratificação para manter a distribuição dos rótulos igual entre treino e teste\n",
        "                                                    shuffle=True)              # embaralhar os exemplos aleatoriamente"
      ],
      "execution_count": 92,
      "outputs": []
    },
    {
      "cell_type": "markdown",
      "metadata": {
        "id": "YL_ElHLerPyP",
        "colab_type": "text"
      },
      "source": [
        "<a name=\"59\"></a>\n",
        "### Modelo Classificador de Spam"
      ]
    },
    {
      "cell_type": "markdown",
      "metadata": {
        "id": "s7XR8jOjGfRq",
        "colab_type": "text"
      },
      "source": [
        "Agora vamos construir nosso modelo.  \n",
        "Aqui, duas coisas diferentes dos exemplos anteriores.  \n",
        "A primeira novidade é a construção de uma camada auxiliar, personalizada:\n",
        "- como cada exemplo de entrada é uma mensagem, um documento inteiro cheio de tokens, cada token vai ser convertido em um vetor denso do Embedding na primeira camada;\n",
        "- logo após a conversão, vamos misturar os vetores de embedding, fazendo uma média\n",
        "- para isso acontecer no meio da rede neural, precisamos de uma camada que calcule essa média entre os vetores de embedding\n",
        "- essa camada nova será uma instância de uma classe personalizada, que chamaremos de ``Torch_Mean_Layer``.  \n",
        "\n",
        "A segunda novidade é que vamos modificar o método ``model.forward()``, ou seja, vamos mudar a definição de como o modelo processa a entrada. \n",
        "- A diferença em relação aos exemplos anteriores visa apenas enfatizar que a primeira parte da rede corresponde à forma de lidar com as variáveis categóricas. \n",
        "- Após transformar as entradas em _embeddings_ e fazer a média dos vetores dos _embeddings_ do documento, esse vetor resultante será processado por duas camadas densas.\n",
        "- Podemos resumir a estrutura da rede seguinte maneira:\n",
        "\n",
        "> $\\mathbf{H}_{\\text{max$\\_$len} \\times n} = \\mathbf{X}_{\\text{max$\\_$len} \\times V} \\mathbf{E}_{V \\times n} $ $\\to$  faz a conversão do documento (_one-hot-encoded tokens_) para uma sequência (linhas) de vetores de _embedding_  \n",
        "> $\\mathbf{h} = \\dfrac{\\sum\\limits_{i=1}^{\\text{max$\\_$len}} \\mathbf{h}_i}{\\text{max$\\_$len}}$ $\\to$ faz a média dos _embeddings_ (linhas) do documento  \n",
        "> $\\mathbf{a}_1 = g_1\\left( \\mathbf{W}_1 \\mathbf{h}^T + \\mathbf{b}_1 \\right)$ $\\to$ aplica uma camada densa sobre o _embedding_ médio ($\\mathbf{W}_1$ tem dimensões $L \\times n$ e $\\mathbf{h}^T$ tem dimensões $n\\times 1$, enquanto $\\mathbf{b}_1$ e $\\mathbf{a}_1$ são $L\\times 1$)  \n",
        "> $y = g_2\\left( \\mathbf{W}_2 \\mathbf{a}_1 + b_2 \\right)$ $\\to$ aplica mais uma camada densa para gerar a saída ($\\mathbf{W}_2$ tem dimensões $1 \\times L$, enquanto $b_2$ e $y$ são $1\\times 1$)\n",
        "\n",
        "\n",
        "Note que a primeira camada densa cria $L$ regressões lineares sobre as $n$ dimensões do _embedding_médio do documento.  Aqui será usada a função de ativação **ReLU**: $g_1(x)= \\max\\left(0, x\\right)$ (bloqueia valores negativos).\n",
        "\n",
        "Já na segunda camada densa, usaremos uma função de ativação sigmóide, $g_2(x)=\\dfrac{1}{1-e^{-x}}$, para finalizar a rede realizando uma regressão logística sobre o vetor de saída da primeira camada densa.\n",
        "\n",
        "Note que saída de $g_2$ já  retorna $y \\in \\left[ 0,1 \\right]$.  \n",
        "\n",
        "Para decidir se o resultado retorna SPAM ($1$) ou não-SPAM ($0$), precisamos de um limiar de decisão. Neste exemplo, o limiar será $0,5$ (assim, um arredondamento irá decidir a classificação)."
      ]
    },
    {
      "cell_type": "code",
      "metadata": {
        "id": "LkxLtdz-_gox",
        "colab_type": "code",
        "colab": {}
      },
      "source": [
        "class Torch_Mean_Layer(nn.Module):\n",
        "  '''Camada personalizada: calcula a média do tensor dentrada sobre a dimensão 1 (colunas).\n",
        "     Retorna um vetor linha, onde cada elemento é a média dos elementos da coluna correspondente do tensor de entrada.\n",
        "  '''\n",
        "  def forward(self, x, dim=1):\n",
        "    x = torch.mean(x, dim=dim, keepdims=True)\n",
        "    return x\n",
        "\n",
        "class spam_classifier(nn.Module):\n",
        "  '''Modelo classificador de SPAM.\n",
        "  '''\n",
        "\n",
        "  # ----------------------------------------------#\n",
        "  # Método construtor\n",
        "  def __init__(self, vocab_size, dim_embed, n_units): \n",
        "    super().__init__()  \n",
        "\n",
        "    embedding_seq = [] # \n",
        "    ann_seq       = [] # \n",
        "\n",
        "    #---------------------------------------------------------------#\n",
        "    # Embedding step: sequência de operações para converter X --> h\n",
        "    embedding_seq.append(\n",
        "        nn.Embedding(num_embeddings=vocab_size, embedding_dim=dim_embed) # camada \"embedding\": categórico (tamanho V) para R^d\n",
        "    )\n",
        "    embedding_seq.append(Torch_Mean_Layer())\n",
        "    #---------------------------------------------------------------#\n",
        "\n",
        "    #--------------------------------------------------------------------------#\n",
        "    # ANN: Rede Neural Artifical Tradicional, com regressão logística na saída\n",
        "    ann_seq.append(nn.Linear(dim_embed, n_units))\n",
        "    ann_seq.append(nn.ReLU(inplace=True))\n",
        "    ann_seq.append(nn.Linear(n_units, 1))\n",
        "    ann_seq.append(nn.Sigmoid())      \n",
        "    #--------------------------------------------------------------------------#\n",
        "\n",
        "    #--------------------------------------------------------------------------#\n",
        "    # \"merge\" de todas as camamadas em uma layer sequencial \n",
        "    # (uma sequência para cada etapa)\n",
        "    self.embedding = nn.Sequential(*embedding_seq)     # etapa de embedding \n",
        "    self.ann       = nn.Sequential(*ann_seq)           # etapa ANN\n",
        "    #--------------------------------------------------------------------------#\n",
        "\n",
        "\n",
        "  def forward(self, x): \n",
        "    '''Processamento realizado ao chamar y=modelo(x)\n",
        "    '''\n",
        "    x = self.embedding(x)  # aplica a etapa de embedding\n",
        "    x = self.ann(x)        # passa o embedding médio pelas camadas da ANN\n",
        "    return x"
      ],
      "execution_count": 93,
      "outputs": []
    },
    {
      "cell_type": "markdown",
      "metadata": {
        "id": "RpBRoSfUrUHn",
        "colab_type": "text"
      },
      "source": [
        "<a name=\"591\"></a>\n",
        "### Treinamento do Modelo"
      ]
    },
    {
      "cell_type": "markdown",
      "metadata": {
        "id": "4zBgBL6ParNz",
        "colab_type": "text"
      },
      "source": [
        "Para treinar o modelo, vamos reescrever o loop de treinamento, com algumas adaptações."
      ]
    },
    {
      "cell_type": "code",
      "metadata": {
        "id": "FhoG8DWoM740",
        "colab_type": "code",
        "colab": {}
      },
      "source": [
        "def train_loop(model, data, max_epochs = 1000, print_iters = 5):\n",
        "  X_train, Y_train = data\n",
        "  losses = []\n",
        "  accs = []\n",
        "  for i in range(max_epochs): # para cada época\n",
        "\n",
        "      #-----------------------------------#\n",
        "      # INÍCIO DO WORKFLOW DO TREINAMENTO #\n",
        "      # \n",
        "      Y_pred = model.forward(X_train)         # apresente os dados de entrada para o modelo, e obtenha a previsão    \n",
        "      loss = criterion(Y_pred, Y_train)       # calcule a perda (o custo, o erro) \n",
        "      optimizer.zero_grad()                   # inicialize os gradientes\n",
        "      loss.backward()                         # backpropagation sobre a perda atual (cálculo dos novos gradientes) \n",
        "      optimizer.step()                        # atualização dos parâmetros da rede utilizando a regra do otimizador escolhido\n",
        "      # FIM DO WORKFLOW DO TREINAMENTO    #\n",
        "      #-----------------------------------#\n",
        "\n",
        "      # ------ Bloco Opcional ------ #\n",
        "      # Salvando métricas\n",
        "      losses.append(loss)                     # salvando a perda atual\n",
        "      acc = calc_accuracy(Y_pred, Y_train)     # calcula a taxa de acerto atual\n",
        "      accs.append(acc)\n",
        "      \n",
        "      # Imprimindo resultados parciais\n",
        "      if i % print_iters ==0: # a cada 10 iterações\n",
        "        print(f'epoch: {i:2}  loss: {loss.item():10.8f} accuracy: {acc:2.8f}') \n",
        "      #-----------------------------------#\n",
        "\n",
        "  #----------------------------------------------------------------------------# \n",
        "  print('\\n# Finished training!')\n",
        "  print(f'# --> epoch: {i}  \\n# --> initial loss: {losses[0]:10.8f}, \\n# --> accuracy: {acc:2.8f} , \\n# --> final loss: {losses[-1]:10.8f}')\n",
        "  \n",
        "  # retornando resultados\n",
        "  return model, losses, accs\n",
        "\n",
        "# Redefinindo cálculo da taxa de acerto \n",
        "def calc_accuracy(y_pred, y_true):\n",
        "  ''' Helper function para calcular a taxa de acerto deste exemplo.\n",
        "  '''\n",
        "  y_true = torch.squeeze(y_true)\n",
        "  y_pred = torch.round(torch.squeeze(y_pred))\n",
        "  num_hits  = torch.sum(y_pred==y_true).numpy()\n",
        "  num_total =  float(y_true.numel())\n",
        "  acc=  num_hits/num_total\n",
        "  return acc"
      ],
      "execution_count": 94,
      "outputs": []
    },
    {
      "cell_type": "markdown",
      "metadata": {
        "id": "-W6bl-Leb2Nl",
        "colab_type": "text"
      },
      "source": [
        "Por fim, vamos>\n",
        "- converter os dados de treino para tensores\n",
        "- instanciar o modelo, com os parâmetros de entrada, e ver sua estrutrua\n",
        "- definir a função custo (usaremos a BCE)\n",
        "- definir um otimizador (usaremos o ADAM em vez do SGD)\n",
        "- treinar o modelo e coletar os resultados. \n",
        "\n",
        "> **SGD? Adadelta? ADAM? Ranger vermelho?**  \n",
        "> Para entender quais as diferenças entre os possíveis otimizadores, [veja este vídeo](https://youtu.be/mdKjMPmcWjY).  \n",
        "> De qualquer maneira, é a apenas uma regra um pouco diferente de atualização dos parâmetros do modelo, mas que segue os mesmos princípios do SGD.  \n",
        "> Além disso, o PyTorch permite configurações manuais para adpatação da _learning rate_ usando ``lr_scheduler`` ([veja mais aqui](https://pytorch.org/docs/stable/optim.html#how-to-adjust-learning-rate))."
      ]
    },
    {
      "cell_type": "code",
      "metadata": {
        "id": "AjKlBxlYBhsH",
        "colab_type": "code",
        "colab": {
          "base_uri": "https://localhost:8080/",
          "height": 1000
        },
        "outputId": "0a2532fa-a6ec-4327-cc7c-e64cb9ecf928"
      },
      "source": [
        "data_train = (torch.LongTensor(X_train), torch.FloatTensor(Y_train))\n",
        "\n",
        "Model = spam_classifier(vocab_size=len(word2idx), dim_embed=50, n_units=256)\n",
        "print(Model)\n",
        "\n",
        "criterion = nn.BCELoss() # binary cross-entropy\n",
        "optimizer = torch.optim.Adam(Model.parameters(), lr = 0.01) \n",
        "\n",
        "Model, losses, accs = train_loop(Model, data_train, max_epochs=100, print_iters=1) # note que o modelo é sobrescrito pela saída treinada"
      ],
      "execution_count": 95,
      "outputs": [
        {
          "output_type": "stream",
          "text": [
            "spam_classifier(\n",
            "  (embedding): Sequential(\n",
            "    (0): Embedding(7224, 50)\n",
            "    (1): Torch_Mean_Layer()\n",
            "  )\n",
            "  (ann): Sequential(\n",
            "    (0): Linear(in_features=50, out_features=256, bias=True)\n",
            "    (1): ReLU(inplace=True)\n",
            "    (2): Linear(in_features=256, out_features=1, bias=True)\n",
            "    (3): Sigmoid()\n",
            "  )\n",
            ")\n"
          ],
          "name": "stdout"
        },
        {
          "output_type": "stream",
          "text": [
            "/usr/local/lib/python3.6/dist-packages/torch/nn/modules/loss.py:529: UserWarning: Using a target size (torch.Size([4457, 1])) that is different to the input size (torch.Size([4457, 1, 1])) is deprecated. Please ensure they have the same size.\n",
            "  return F.binary_cross_entropy(input, target, weight=self.weight, reduction=self.reduction)\n"
          ],
          "name": "stderr"
        },
        {
          "output_type": "stream",
          "text": [
            "epoch:  0  loss: 0.65798670 accuracy: 0.86582903\n",
            "epoch:  1  loss: 0.36684316 accuracy: 0.86582903\n",
            "epoch:  2  loss: 0.37983957 accuracy: 0.86582903\n",
            "epoch:  3  loss: 0.39496866 accuracy: 0.86582903\n",
            "epoch:  4  loss: 0.37412477 accuracy: 0.86582903\n",
            "epoch:  5  loss: 0.33914402 accuracy: 0.86582903\n",
            "epoch:  6  loss: 0.30977702 accuracy: 0.86582903\n",
            "epoch:  7  loss: 0.29535583 accuracy: 0.86582903\n",
            "epoch:  8  loss: 0.29392231 accuracy: 0.86582903\n",
            "epoch:  9  loss: 0.29616180 accuracy: 0.86582903\n",
            "epoch: 10  loss: 0.29371282 accuracy: 0.86582903\n",
            "epoch: 11  loss: 0.28547338 accuracy: 0.86582903\n",
            "epoch: 12  loss: 0.27531734 accuracy: 0.86986762\n",
            "epoch: 13  loss: 0.26734674 accuracy: 0.87076509\n",
            "epoch: 14  loss: 0.26331392 accuracy: 0.87031636\n",
            "epoch: 15  loss: 0.26268467 accuracy: 0.87188692\n",
            "epoch: 16  loss: 0.26363966 accuracy: 0.87211129\n",
            "epoch: 17  loss: 0.26423904 accuracy: 0.87413058\n",
            "epoch: 18  loss: 0.26352671 accuracy: 0.87570114\n",
            "epoch: 19  loss: 0.26158431 accuracy: 0.87951537\n",
            "epoch: 20  loss: 0.25911939 accuracy: 0.87929100\n",
            "epoch: 21  loss: 0.25698522 accuracy: 0.87816917\n",
            "epoch: 22  loss: 0.25566292 accuracy: 0.87502805\n",
            "epoch: 23  loss: 0.25506201 accuracy: 0.87435495\n",
            "epoch: 24  loss: 0.25467053 accuracy: 0.87300875\n",
            "epoch: 25  loss: 0.25394362 accuracy: 0.87457931\n",
            "epoch: 26  loss: 0.25259939 accuracy: 0.87614988\n",
            "epoch: 27  loss: 0.25067884 accuracy: 0.87929100\n",
            "epoch: 28  loss: 0.24847148 accuracy: 0.88310523\n",
            "epoch: 29  loss: 0.24634035 accuracy: 0.88804128\n",
            "epoch: 30  loss: 0.24452168 accuracy: 0.88849002\n",
            "epoch: 31  loss: 0.24306576 accuracy: 0.89230424\n",
            "epoch: 32  loss: 0.24184725 accuracy: 0.89320171\n",
            "epoch: 33  loss: 0.24064893 accuracy: 0.89499663\n",
            "epoch: 34  loss: 0.23925833 accuracy: 0.89387480\n",
            "epoch: 35  loss: 0.23758991 accuracy: 0.89544537\n",
            "epoch: 36  loss: 0.23569679 accuracy: 0.89724030\n",
            "epoch: 37  loss: 0.23370782 accuracy: 0.89925959\n",
            "epoch: 38  loss: 0.23174563 accuracy: 0.90172762\n",
            "epoch: 39  loss: 0.22986895 accuracy: 0.90307382\n",
            "epoch: 40  loss: 0.22800191 accuracy: 0.90329818\n",
            "epoch: 41  loss: 0.22598387 accuracy: 0.90778551\n",
            "epoch: 42  loss: 0.22368522 accuracy: 0.91002917\n",
            "epoch: 43  loss: 0.22104606 accuracy: 0.91204846\n",
            "epoch: 44  loss: 0.21808416 accuracy: 0.91339466\n",
            "epoch: 45  loss: 0.21483408 accuracy: 0.91541396\n",
            "epoch: 46  loss: 0.21145521 accuracy: 0.91922818\n",
            "epoch: 47  loss: 0.20794164 accuracy: 0.92236931\n",
            "epoch: 48  loss: 0.20397894 accuracy: 0.92393987\n",
            "epoch: 49  loss: 0.19962795 accuracy: 0.92528607\n",
            "epoch: 50  loss: 0.19465601 accuracy: 0.92820283\n",
            "epoch: 51  loss: 0.18922158 accuracy: 0.93201705\n",
            "epoch: 52  loss: 0.18356267 accuracy: 0.93605564\n",
            "epoch: 53  loss: 0.17740031 accuracy: 0.93986987\n",
            "epoch: 54  loss: 0.17067456 accuracy: 0.94862015\n",
            "epoch: 55  loss: 0.16322073 accuracy: 0.95108818\n",
            "epoch: 56  loss: 0.15538764 accuracy: 0.95714606\n",
            "epoch: 57  loss: 0.14730278 accuracy: 0.95961409\n",
            "epoch: 58  loss: 0.13901484 accuracy: 0.96253085\n",
            "epoch: 59  loss: 0.13068676 accuracy: 0.96522324\n",
            "epoch: 60  loss: 0.12221642 accuracy: 0.96679381\n",
            "epoch: 61  loss: 0.11367138 accuracy: 0.96881310\n",
            "epoch: 62  loss: 0.10540380 accuracy: 0.96926184\n",
            "epoch: 63  loss: 0.09738205 accuracy: 0.97105676\n",
            "epoch: 64  loss: 0.08997236 accuracy: 0.97262733\n",
            "epoch: 65  loss: 0.08315289 accuracy: 0.97374916\n",
            "epoch: 66  loss: 0.07699520 accuracy: 0.97487099\n",
            "epoch: 67  loss: 0.07135284 accuracy: 0.97599282\n",
            "epoch: 68  loss: 0.06630638 accuracy: 0.97644155\n",
            "epoch: 69  loss: 0.06172331 accuracy: 0.97778775\n",
            "epoch: 70  loss: 0.05759976 accuracy: 0.97890958\n",
            "epoch: 71  loss: 0.05380307 accuracy: 0.98070451\n",
            "epoch: 72  loss: 0.05036525 accuracy: 0.98272381\n",
            "epoch: 73  loss: 0.04730282 accuracy: 0.98429437\n",
            "epoch: 74  loss: 0.04452632 accuracy: 0.98541620\n",
            "epoch: 75  loss: 0.04195569 accuracy: 0.98496747\n",
            "epoch: 76  loss: 0.03959760 accuracy: 0.98631366\n",
            "epoch: 77  loss: 0.03744701 accuracy: 0.98653803\n",
            "epoch: 78  loss: 0.03547522 accuracy: 0.98743549\n",
            "epoch: 79  loss: 0.03363394 accuracy: 0.98743549\n",
            "epoch: 80  loss: 0.03192830 accuracy: 0.98788423\n",
            "epoch: 81  loss: 0.03038201 accuracy: 0.98945479\n",
            "epoch: 82  loss: 0.02896662 accuracy: 0.99012789\n",
            "epoch: 83  loss: 0.02765246 accuracy: 0.99102535\n",
            "epoch: 84  loss: 0.02643546 accuracy: 0.99147409\n",
            "epoch: 85  loss: 0.02531686 accuracy: 0.99259592\n",
            "epoch: 86  loss: 0.02429154 accuracy: 0.99282028\n",
            "epoch: 87  loss: 0.02333884 accuracy: 0.99349338\n",
            "epoch: 88  loss: 0.02245575 accuracy: 0.99371775\n",
            "epoch: 89  loss: 0.02164314 accuracy: 0.99439085\n",
            "epoch: 90  loss: 0.02089430 accuracy: 0.99439085\n",
            "epoch: 91  loss: 0.02019403 accuracy: 0.99506394\n",
            "epoch: 92  loss: 0.01954262 accuracy: 0.99506394\n",
            "epoch: 93  loss: 0.01893680 accuracy: 0.99573704\n",
            "epoch: 94  loss: 0.01837726 accuracy: 0.99573704\n",
            "epoch: 95  loss: 0.01786668 accuracy: 0.99596141\n",
            "epoch: 96  loss: 0.01740008 accuracy: 0.99596141\n",
            "epoch: 97  loss: 0.01696941 accuracy: 0.99641014\n",
            "epoch: 98  loss: 0.01656591 accuracy: 0.99641014\n",
            "epoch: 99  loss: 0.01618838 accuracy: 0.99641014\n",
            "\n",
            "# Finished training!\n",
            "# --> epoch: 99  \n",
            "# --> initial loss: 0.65798670, \n",
            "# --> accuracy: 0.99641014 , \n",
            "# --> final loss: 0.01618838\n"
          ],
          "name": "stdout"
        }
      ]
    },
    {
      "cell_type": "markdown",
      "metadata": {
        "id": "OFh2fyGRe8r0",
        "colab_type": "text"
      },
      "source": [
        "Pelo status resultante do treinamento e observando a evolução da função custo e da taxa de acerto (abaixo), observamos que nossa rede teve um ótimo resultado e aprendeu a diferenciar e-mails SPAM de não-SPAM com uma precisão muito alta."
      ]
    },
    {
      "cell_type": "code",
      "metadata": {
        "id": "DoJo1G2JN_rZ",
        "colab_type": "code",
        "colab": {
          "base_uri": "https://localhost:8080/",
          "height": 450
        },
        "outputId": "5c408bbb-0bf7-4628-b39f-53534d203e35"
      },
      "source": [
        "plot_loss_and_accuracy(losses, accs)"
      ],
      "execution_count": 96,
      "outputs": [
        {
          "output_type": "display_data",
          "data": {
            "image/png": "[encoded data removed]",
            "text/plain": [
              "<Figure size 1152x432 with 2 Axes>"
            ]
          },
          "metadata": {
            "tags": [],
            "needs_background": "light"
          }
        }
      ]
    },
    {
      "cell_type": "markdown",
      "metadata": {
        "id": "fz3RrG4trYtv",
        "colab_type": "text"
      },
      "source": [
        "<a name=\"592\"></a>\n",
        "### Avaliação do Modelo no Dataset de Teste"
      ]
    },
    {
      "cell_type": "markdown",
      "metadata": {
        "id": "rx-q8QrIfPWi",
        "colab_type": "text"
      },
      "source": [
        "Vamos **avaliar o modelo fazendo previsões sobre o dataset de teste**."
      ]
    },
    {
      "cell_type": "code",
      "metadata": {
        "id": "TMaYsELgMjR3",
        "colab_type": "code",
        "colab": {}
      },
      "source": [
        "with torch.no_grad():\n",
        "  y_test_pred = Model(torch.LongTensor(X_test))"
      ],
      "execution_count": 97,
      "outputs": []
    },
    {
      "cell_type": "markdown",
      "metadata": {
        "id": "byTlo_W_fW0v",
        "colab_type": "text"
      },
      "source": [
        "A taxa de acerto no teste foi:"
      ]
    },
    {
      "cell_type": "code",
      "metadata": {
        "id": "rJrwjhFqMuuK",
        "colab_type": "code",
        "colab": {
          "base_uri": "https://localhost:8080/",
          "height": 34
        },
        "outputId": "2020af66-8ae7-49e9-87a9-15d83aaced80"
      },
      "source": [
        "test_acc = calc_accuracy(y_test_pred, torch.FloatTensor(Y_test))\n",
        "print(f'Taxa de acerto no teste: {100*test_acc:3.6f}% de acerto!')"
      ],
      "execution_count": 98,
      "outputs": [
        {
          "output_type": "stream",
          "text": [
            "Taxa de acerto no teste: 98.026906% de acerto!\n"
          ],
          "name": "stdout"
        }
      ]
    },
    {
      "cell_type": "markdown",
      "metadata": {
        "id": "DDxRJZqPfmHs",
        "colab_type": "text"
      },
      "source": [
        "É importante identificarmos, tanto nos exemplos de treino quanto nos exemplos de teste, quais são os casos em que o nosso modelo falha na sua classificação.  \n",
        "\n",
        "Mais ainda, precisamos entender a diferença entre os erros de:\n",
        "- **_sneaky spam_**: quando o detector classifica um SPAM erroneamente como uma mensagem legítima (TRUE: $1$ $\\to$ Predicted: $0$)\n",
        "- **_misread messages_**: quando o detector interpreta uma mensagem legítima como SPAM (TRUE: $0$ $\\to$ Predicted: $1$).\n",
        "\n",
        "Vamos inclusive verificar o valor da saída $y$ antes do arredondamento, para repensar se o nosso limiar ($0.5$) está adequado ou se podemos exigir um grau maior (ou menor) de certeza para classificar mensagens como SPAM."
      ]
    },
    {
      "cell_type": "code",
      "metadata": {
        "id": "D4myK9_Zbw9j",
        "colab_type": "code",
        "colab": {
          "base_uri": "https://localhost:8080/",
          "height": 118
        },
        "outputId": "cb2431f1-05b4-4949-8f2a-d709effc7404"
      },
      "source": [
        "# Primeiro vamos gerar a saída previsa usando o Dataset inteiro (treino e teste)\n",
        "with torch.no_grad():\n",
        "  Y_pred_dataset = Model(torch.LongTensor(X))\n",
        "data['Y_pred'] = torch.squeeze(Y_pred_dataset).numpy() # converte para numpy e adiciona no DataFrame\n",
        "\n",
        "# tensores 'true' e 'predicted'\n",
        "y_true_vec = torch.squeeze(torch.FloatTensor(Y))\n",
        "y_pred_vec = torch.squeeze(torch.round(Y_pred_dataset))\n",
        "\n",
        "\n",
        "filter             = (y_pred_vec != y_true_vec).numpy()          # todos os erros\n",
        "sneaky_spam_filter = ((y_true_vec==1) & (y_pred_vec==0)).numpy() # erros de 1 (True) para 0 (predicted)\n",
        "misread_filter     = ((y_true_vec==0) & (y_pred_vec==1)).numpy() # erros de 0 (True) para 1 (predicted)\n",
        "\n",
        "print(f'Number of errors: {filter.sum()} \\n')\n",
        "print(f'Number of sneaky spam: {sneaky_spam_filter.sum()} \\n')\n",
        "print(f'Number of misread messages: {misread_filter.sum()} \\n')"
      ],
      "execution_count": 99,
      "outputs": [
        {
          "output_type": "stream",
          "text": [
            "Number of errors: 38 \n",
            "\n",
            "Number of sneaky spam: 32 \n",
            "\n",
            "Number of misread messages: 6 \n",
            "\n"
          ],
          "name": "stdout"
        }
      ]
    },
    {
      "cell_type": "markdown",
      "metadata": {
        "id": "BYBTYCc0g3K0",
        "colab_type": "text"
      },
      "source": [
        "Vamos ler as mensagens legítimas que foram classificadas como SPAM:"
      ]
    },
    {
      "cell_type": "code",
      "metadata": {
        "id": "lTfS7zvdg1sC",
        "colab_type": "code",
        "colab": {
          "base_uri": "https://localhost:8080/",
          "height": 373
        },
        "outputId": "08eefee7-a216-4f7b-e8cf-e9d0c871020a"
      },
      "source": [
        "print('Misread Messages: \\n')\n",
        "for s, y_true, y_pred in data[misread_filter][['e-mails', 'y', 'Y_pred']].values:\n",
        "  print(f'true: {y_true}, output: {y_pred:2.4f} in sentence: \\n {s}')\n",
        "  print()\n",
        "\n"
      ],
      "execution_count": 100,
      "outputs": [
        {
          "output_type": "stream",
          "text": [
            "Misread Messages: \n",
            "\n",
            "true: 0, output: 0.8522 in sentence: \n",
            " So there's a ring that comes with the guys costumes. It's there so they can gift their future yowifes. Hint hint\n",
            "\n",
            "true: 0, output: 0.9260 in sentence: \n",
            " Misplaced your number and was sending texts to your old number. Wondering why i've not heard from you this year. All the best in your mcat. Got this number from my atlanta friends\n",
            "\n",
            "true: 0, output: 0.5567 in sentence: \n",
            " Hi Chachi tried calling u now unable to reach u .. Pl give me a missed cal once u c tiz msg  Kanagu\n",
            "\n",
            "true: 0, output: 0.9410 in sentence: \n",
            " We are pleased to inform that your application for Airtel Broadband is processed successfully. Your installation will happen within 3 days.\n",
            "\n",
            "true: 0, output: 0.8926 in sentence: \n",
            " Sir, i am waiting for your call, once free please call me.\n",
            "\n",
            "true: 0, output: 0.5046 in sentence: \n",
            " Dear Sir,Salam Alaikkum.Pride and Pleasure meeting you today at the Tea Shop.We are pleased to send you our contact number at Qatar.Rakhesh an Indian.Pls save our Number.Respectful Regards.\n",
            "\n"
          ],
          "name": "stdout"
        }
      ]
    },
    {
      "cell_type": "markdown",
      "metadata": {
        "id": "jtPmCll3g6hW",
        "colab_type": "text"
      },
      "source": [
        "E agora vamos ler as mensagens de SPAM que conseguiram \"burlar\" nosso classificador automático.\n",
        "> **Aviso Legal**: esse dataset possui mensagens de SPAM com linguagem ou palavras que podem ser consideradas vulgares, profanas ou ofensivas para alguns leitores."
      ]
    },
    {
      "cell_type": "code",
      "metadata": {
        "id": "9CnXvB71g1cp",
        "colab_type": "code",
        "colab": {
          "base_uri": "https://localhost:8080/",
          "height": 1000
        },
        "outputId": "b8f5e5f9-5089-4569-e791-82ac2aaa3cc1"
      },
      "source": [
        "print('Printing Sneaky SPAM: \\n')\n",
        "for s, y_true, y_pred in data[sneaky_spam_filter][['e-mails', 'y', 'Y_pred']].values:\n",
        "  print(f'true: {y_true}, output: {y_pred:2.4f} in sentence: \\n {s}')\n",
        "  print()"
      ],
      "execution_count": 101,
      "outputs": [
        {
          "output_type": "stream",
          "text": [
            "Printing Sneaky SPAM: \n",
            "\n",
            "true: 1, output: 0.2391 in sentence: \n",
            " Will u meet ur dream partner soon? Is ur career off 2 a flyng start? 2 find out free, txt HORO followed by ur star sign, e. g. HORO ARIES\n",
            "\n",
            "true: 1, output: 0.2962 in sentence: \n",
            " Update_Now - Xmas Offer! Latest Motorola, SonyEricsson & Nokia & FREE Bluetooth! Double Mins & 1000 Txt on Orange. Call MobileUpd8 on 08000839402 or call2optout/F4Q=\n",
            "\n",
            "true: 1, output: 0.0088 in sentence: \n",
            " 08714712388 between 10am-7pm Cost 10p\n",
            "\n",
            "true: 1, output: 0.0894 in sentence: \n",
            " Email AlertFrom: Jeri StewartSize: 2KBSubject: Low-cost prescripiton drvgsTo listen to email call 123\n",
            "\n",
            "true: 1, output: 0.3050 in sentence: \n",
            " Filthy stories and GIRLS waiting for your\n",
            "\n",
            "true: 1, output: 0.3475 in sentence: \n",
            " URGENT, IMPORTANT INFORMATION FOR O2 USER. TODAY IS YOUR LUCKY DAY! 2 FIND OUT WHY LOG ONTO HTTP://WWW.URAWINNER.COM THERE IS A FANTASTIC SURPRISE AWAITING FOR YOU\n",
            "\n",
            "true: 1, output: 0.0088 in sentence: \n",
            " Call FREEPHONE 0800 542 0578 now!\n",
            "\n",
            "true: 1, output: 0.2580 in sentence: \n",
            " CALL 09090900040 & LISTEN TO EXTREME DIRTY LIVE CHAT GOING ON IN THE OFFICE RIGHT NOW TOTAL PRIVACY NO ONE KNOWS YOUR [sic] LISTENING 60P MIN 24/7MP 0870753331018+\n",
            "\n",
            "true: 1, output: 0.0088 in sentence: \n",
            " 85233 FREE>Ringtone!Reply REAL\n",
            "\n",
            "true: 1, output: 0.0071 in sentence: \n",
            " 88066 FROM 88066 LOST 3POUND HELP\n",
            "\n",
            "true: 1, output: 0.1052 in sentence: \n",
            " Download as many ringtones as u like no restrictions, 1000s 2 choose. U can even send 2 yr buddys. Txt Sir to 80082 å£3 \n",
            "\n",
            "true: 1, output: 0.0032 in sentence: \n",
            " Babe: U want me dont u baby! Im nasty and have a thing 4 filthyguys. Fancy a rude time with a sexy bitch. How about we go slo n hard! Txt XXX SLO(4msgs)\n",
            "\n",
            "true: 1, output: 0.0317 in sentence: \n",
            " 3 FREE TAROT TEXTS! Find out about your love life now! TRY 3 FOR FREE! Text CHANCE to 85555 16 only! After 3 Free, Msgs å£1.50 each\n",
            "\n",
            "true: 1, output: 0.0088 in sentence: \n",
            " FROM 88066 LOST å£12 HELP\n",
            "\n",
            "true: 1, output: 0.3299 in sentence: \n",
            " U‰Ûªve Bin Awarded å£50 to Play 4 Instant Cash. Call 08715203028 To Claim. EVERY 9th Player Wins Min å£50-å£500. OptOut 08718727870\n",
            "\n",
            "true: 1, output: 0.0109 in sentence: \n",
            " FreeMsg>FAV XMAS TONES!Reply REAL\n",
            "\n",
            "true: 1, output: 0.0320 in sentence: \n",
            " INTERFLORA - åÒIt's not too late to order Interflora flowers for christmas call 0800 505060 to place your order before Midnight tomorrow.\n",
            "\n",
            "true: 1, output: 0.2799 in sentence: \n",
            " Xmas Offer! Latest Motorola, SonyEricsson & Nokia & FREE Bluetooth or DVD! Double Mins & 1000 Txt on Orange. Call MobileUpd8 on 08000839402 or call2optout/4QF2\n",
            "\n",
            "true: 1, output: 0.0885 in sentence: \n",
            " RCT' THNQ Adrian for U text. Rgds Vatian\n",
            "\n",
            "true: 1, output: 0.2544 in sentence: \n",
            " Sorry I missed your call let's talk when you have the time. I'm on 07090201529\n",
            "\n",
            "true: 1, output: 0.2298 in sentence: \n",
            " Congratulations YOU'VE Won. You're a Winner in our August å£1000 Prize Draw. Call 09066660100 NOW. Prize Code 2309.\n",
            "\n",
            "true: 1, output: 0.0046 in sentence: \n",
            " 2/2 146tf150p\n",
            "\n",
            "true: 1, output: 0.0529 in sentence: \n",
            " ringtoneking 84484\n",
            "\n",
            "true: 1, output: 0.0424 in sentence: \n",
            " cmon babe, make me horny, *turn* me on! Txt me your fantasy now babe -) Im hot, sticky and need you now. All replies cost å£1.50. 2 cancel send STOP\n",
            "\n",
            "true: 1, output: 0.1908 in sentence: \n",
            " Missed call alert. These numbers called but left no message. 07008009200\n",
            "\n",
            "true: 1, output: 0.4415 in sentence: \n",
            " Kit Strip - you have been billed 150p. Netcollex Ltd. PO Box 1013 IG11 OJA\n",
            "\n",
            "true: 1, output: 0.2875 in sentence: \n",
            " For your chance to WIN a FREE Bluetooth Headset then simply reply back with \\ADP\\\"\"\n",
            "\n",
            "true: 1, output: 0.0097 in sentence: \n",
            " Money i have won wining number 946 wot do i do next\n",
            "\n",
            "true: 1, output: 0.0706 in sentence: \n",
            " Cashbin.co.uk (Get lots of cash this weekend!) www.cashbin.co.uk Dear Welcome to the weekend We have got our biggest and best EVER cash give away!! These..\n",
            "\n",
            "true: 1, output: 0.0109 in sentence: \n",
            " PRIVATE! Your 2003 Account Statement for 078\n",
            "\n",
            "true: 1, output: 0.0818 in sentence: \n",
            " Marvel Mobile Play the official Ultimate Spider-man game (å£4.50) on ur mobile right now. Text SPIDER to 83338 for the game & we ll send u a FREE 8Ball wallpaper\n",
            "\n",
            "true: 1, output: 0.3059 in sentence: \n",
            " ASKED 3MOBILE IF 0870 CHATLINES INCLU IN FREE MINS. INDIA CUST SERVs SED YES. L8ER GOT MEGA BILL. 3 DONT GIV A SHIT. BAILIFF DUE IN DAYS. I O å£250 3 WANT å£800\n",
            "\n"
          ],
          "name": "stdout"
        }
      ]
    },
    {
      "cell_type": "markdown",
      "metadata": {
        "id": "BcX2KNprrgjJ",
        "colab_type": "text"
      },
      "source": [
        "<a name=\"593\"></a>\n",
        "### Analisando os Word-Embeddings"
      ]
    },
    {
      "cell_type": "markdown",
      "metadata": {
        "id": "jjAoId3Qh7GN",
        "colab_type": "text"
      },
      "source": [
        "Agora que nossa rede está treinada, podemos extrair os parâmetros que o modelo ajustou durante o processo de treinamento.  \n",
        "\n",
        "Os parâmetros que estamos mais interessados, nesse caso, são os vetores de _embedding_ da primeira camada.  \n",
        "\n",
        "Note que a rede otimizou essa matriz de _embeddings_ a fim de encontrar as melhores representações geométricas das palavras do _corpus_ que auxiliassem na solução do problema apresentado (otimizassem a função custo do classificador). "
      ]
    },
    {
      "cell_type": "code",
      "metadata": {
        "id": "9M8Z2XwjOwiz",
        "colab_type": "code",
        "colab": {
          "base_uri": "https://localhost:8080/",
          "height": 185
        },
        "outputId": "c6a12b79-4f68-408e-d928-8b88d786cf64"
      },
      "source": [
        "for p in Model.embedding.named_parameters():\n",
        "  print('Camada de embedding:')\n",
        "  print(p)"
      ],
      "execution_count": 102,
      "outputs": [
        {
          "output_type": "stream",
          "text": [
            "Camada de embedding:\n",
            "('0.weight', Parameter containing:\n",
            "tensor([[ 0.8623,  1.7364,  0.6959,  ...,  0.3643,  0.1148, -0.6727],\n",
            "        [-1.2083, -0.0189, -0.7544,  ...,  0.5896, -0.1083, -0.2871],\n",
            "        [-2.3998, -0.6198, -0.5424,  ..., -0.3341, -1.1268,  1.6870],\n",
            "        ...,\n",
            "        [ 1.3236, -1.5672, -0.0663,  ...,  0.7849, -1.3910,  1.6744],\n",
            "        [ 0.9682,  0.5094,  1.5766,  ...,  1.5436,  0.4050, -1.3042],\n",
            "        [ 1.4591,  0.8223, -1.2212,  ..., -0.6202,  0.5015,  0.0731]],\n",
            "       requires_grad=True))\n"
          ],
          "name": "stdout"
        }
      ]
    },
    {
      "cell_type": "markdown",
      "metadata": {
        "id": "3PigPqosi5Jo",
        "colab_type": "text"
      },
      "source": [
        "Vamos extrair os valores da matriz e salvar numa array numpy $\\mathbf{E}$."
      ]
    },
    {
      "cell_type": "code",
      "metadata": {
        "id": "J8xIi77LOykT",
        "colab_type": "code",
        "colab": {
          "base_uri": "https://localhost:8080/",
          "height": 252
        },
        "outputId": "168e54a6-3d1c-4a56-c8b1-eb973e7b85fd"
      },
      "source": [
        "E = list(Model.embedding.parameters())[0].data.numpy()\n",
        "print(f'Shape da matriz de embedding: {E.shape} = (vocab. size x dim. size)')\n",
        "print(E)"
      ],
      "execution_count": 103,
      "outputs": [
        {
          "output_type": "stream",
          "text": [
            "Shape da matriz de embedding: (7224, 50) = (vocab. size x dim. size)\n",
            "[[ 0.8622845   1.7363521   0.69593954 ...  0.36425254  0.11483601\n",
            "  -0.6727438 ]\n",
            " [-1.2083205  -0.01887046 -0.7543687  ...  0.5896373  -0.10825501\n",
            "  -0.28706804]\n",
            " [-2.3997543  -0.6198175  -0.54237956 ... -0.3340511  -1.1267915\n",
            "   1.6869681 ]\n",
            " ...\n",
            " [ 1.3236334  -1.5672362  -0.06628692 ...  0.7848949  -1.3910111\n",
            "   1.6744143 ]\n",
            " [ 0.9682373   0.5094077   1.5765758  ...  1.5436063   0.40500626\n",
            "  -1.3042057 ]\n",
            " [ 1.4590733   0.8222734  -1.2212082  ... -0.6201727   0.5015232\n",
            "   0.07305267]]\n"
          ],
          "name": "stdout"
        }
      ]
    },
    {
      "cell_type": "markdown",
      "metadata": {
        "id": "emeQkokpjQkl",
        "colab_type": "text"
      },
      "source": [
        "Veja que usamos um número muito grande para o número de dimensões dos _embeddings_. Ou seja, não é possível visualizar e comparar em um gráfico a localização geométrica desses pontos nesse espaço de dimensão alta (\"_high-dimensional_\")."
      ]
    },
    {
      "cell_type": "markdown",
      "metadata": {
        "id": "4TUm0Yc5jkp3",
        "colab_type": "text"
      },
      "source": [
        "> **Algoritmos de redução de dimensionalidade**\n",
        "> Existem algoritmos que são apropriados para reduzir a dimensionalidade de conjuntos de dados de dimensões altas.  \n",
        "> \n",
        "> O objetivo é extrair uma representação mais \"compacta\", com \"menos features\", mas que conserve as principais características da representação original.  \n",
        "> \n",
        "> Obviamente, reduzir a dimensionalidade pode gerar uma perda de informação muito grande, dependendo da \"ambição\" e das características do problema.  \n",
        "> \n",
        "> Dentre os algoritmos existentes, dois são muito utilizados:\n",
        "> - **Principal Component Analysis** (PCA)\n",
        "> - **Singular Value Decomposition** (SVD)\n",
        "> - **Linear Discriminant Analysis** (LDA)\n",
        "> - **t-distributed Stochastic Neighbor Embedding** (t-SNE)\n",
        "> \n",
        "> A aplicação de cada um depende da natureza e das propriedades de cada problema. Leia mais sobre esses algoritmos [aqui](https://stackabuse.com/dimensionality-reduction-in-python-with-scikit-learn/#:~:text=The%20primary%20algorithms%20used%20to,into%20the%20machine%20learning%20classifier.) e [aqui](https://towardsdatascience.com/dimension-reduction-techniques-with-python-f36ca7009e5c)."
      ]
    },
    {
      "cell_type": "markdown",
      "metadata": {
        "id": "9vE6PJCclhD-",
        "colab_type": "text"
      },
      "source": [
        "Abaixo vamos fazer uma redução de dimensionalidade com o algoritmo PCA.  \n",
        "Vamos reduzir os _embeddings_ de $n$ dimensões para $2$, a fim de visualizar a representação geométrica das palavras em um plano cartesiano.  "
      ]
    },
    {
      "cell_type": "code",
      "metadata": {
        "id": "JmPy-DYQPhW1",
        "colab_type": "code",
        "colab": {
          "base_uri": "https://localhost:8080/",
          "height": 50
        },
        "outputId": "8881da97-0322-4512-c803-4bd95351b0e4"
      },
      "source": [
        "from sklearn.decomposition import PCA\n",
        "\n",
        "pca = PCA(n_components=2)\n",
        "pca.fit(E)\n",
        "Embedding_2D = pca.transform(E)\n",
        "\n",
        "print(f'A matriz dos embeddings originais tinha shape {E.shape}')\n",
        "print(f'A matriz dos embeddings PCA em 2D tem shape {Embedding_2D.shape}')"
      ],
      "execution_count": 104,
      "outputs": [
        {
          "output_type": "stream",
          "text": [
            "A matriz dos embeddings originais tinha shape (7224, 50)\n",
            "A matriz dos embeddings PCA em 2D tem shape (7224, 2)\n"
          ],
          "name": "stdout"
        }
      ]
    },
    {
      "cell_type": "markdown",
      "metadata": {
        "id": "kIFiaf4zl7Xw",
        "colab_type": "text"
      },
      "source": [
        "Para criar uma visualização dinâmica no caderno do Jupyter, vamos utilizar a biblioteca de visualização gráfica [``bokeh``](https://docs.bokeh.org/en/latest/index.html).  \n",
        "Navegue pelo gráfico e reflita sobre as semelhanças e diferenças entre as palavras próximas e as distantes. "
      ]
    },
    {
      "cell_type": "code",
      "metadata": {
        "id": "afBzRuoAPSvp",
        "colab_type": "code",
        "colab": {}
      },
      "source": [
        "#!pip install -q bokeh\n",
        "from bokeh.plotting import figure, output_file, show\n",
        "from bokeh.models import Label\n",
        "from bokeh.io import output_notebook\n",
        "output_notebook()"
      ],
      "execution_count": 105,
      "outputs": []
    },
    {
      "cell_type": "code",
      "metadata": {
        "id": "ZPujuQc7QN7Z",
        "colab_type": "code",
        "colab": {
          "base_uri": "https://localhost:8080/",
          "height": 617
        },
        "outputId": "afb0cb63-9bad-48b6-e2fe-f1271970a43c"
      },
      "source": [
        "p = figure(plot_width=800, plot_height=600) # objeto do bokeh\n",
        "\n",
        "# total de palavras para plotar\n",
        "Nplot = 1000 \n",
        "\n",
        "# aqui vamos selecionar metade das palavras como sendo as mais comuns do vocabulário\n",
        "# e a outra metade como sendo as menos comuns\n",
        "\n",
        "most_common_N  = count_dictionary.most_common(int(Nplot/2))            # N/2 most common elements\n",
        "least_common_N = count_dictionary.most_common()[:-int(Nplot/2)-1:-1]   # N/2 least common elements\n",
        "\n",
        "# agrupamos tudo numa lista\n",
        "common_words = [word2idx[x[0]] for x in most_common_N] + [word2idx[x[0]] for x in least_common_N]\n",
        "\n",
        "\n",
        "# scatterplot do bokeh:\n",
        "# -- usamos as linhas do embedding 2D correspondentes às palavras de interesse\n",
        "# -- a coordenada da coluna 0 vai no eixo horizontal (x) \n",
        "# -- a coordenada da coluna 1 vai no eixo   vertical (y)\n",
        "p.scatter(x=Embedding_2D[common_words,0], y=Embedding_2D[common_words,1])\n",
        "\n",
        "# rotulamos os pontos (usando a lista idx2word) para saber qual ponto corresponde a qual palavra\n",
        "for i in common_words:\n",
        "    my_text = Label(text=idx2word[i], x=Embedding_2D[i,0],y=Embedding_2D[i,1])\n",
        "    p.add_layout(my_text)\n",
        "    \n",
        "# mostra o gráfico na célula\n",
        "show(p)"
      ],
      "execution_count": 106,
      "outputs": [
        {
          "output_type": "display_data",
          "data": {
            "application/javascript": [
              "\n",
              "(function(root) {\n",
              "  function now() {\n",
              "    return new Date();\n",
              "  }\n",
              "\n",
              "  var force = true;\n",
              "\n",
              "  if (typeof root._bokeh_onload_callbacks === \"undefined\" || force === true) {\n",
              "    root._bokeh_onload_callbacks = [];\n",
              "    root._bokeh_is_loading = undefined;\n",
              "  }\n",
              "\n",
              "  var JS_MIME_TYPE = 'application/javascript';\n",
              "  var HTML_MIME_TYPE = 'text/html';\n",
              "  var EXEC_MIME_TYPE = 'application/vnd.bokehjs_exec.v0+json';\n",
              "  var CLASS_NAME = 'output_bokeh rendered_html';\n",
              "\n",
              "  /**\n",
              "   * Render data to the DOM node\n",
              "   */\n",
              "  function render(props, node) {\n",
              "    var script = document.createElement(\"script\");\n",
              "    node.appendChild(script);\n",
              "  }\n",
              "\n",
              "  /**\n",
              "   * Handle when an output is cleared or removed\n",
              "   */\n",
              "  function handleClearOutput(event, handle) {\n",
              "    var cell = handle.cell;\n",
              "\n",
              "    var id = cell.output_area._bokeh_element_id;\n",
              "    var server_id = cell.output_area._bokeh_server_id;\n",
              "    // Clean up Bokeh references\n",
              "    if (id != null && id in Bokeh.index) {\n",
              "      Bokeh.index[id].model.document.clear();\n",
              "      delete Bokeh.index[id];\n",
              "    }\n",
              "\n",
              "    if (server_id !== undefined) {\n",
              "      // Clean up Bokeh references\n",
              "      var cmd = \"from bokeh.io.state import curstate; print(curstate().uuid_to_server['\" + server_id + \"'].get_sessions()[0].document.roots[0]._id)\";\n",
              "      cell.notebook.kernel.execute(cmd, {\n",
              "        iopub: {\n",
              "          output: function(msg) {\n",
              "            var id = msg.content.text.trim();\n",
              "            if (id in Bokeh.index) {\n",
              "              Bokeh.index[id].model.document.clear();\n",
              "              delete Bokeh.index[id];\n",
              "            }\n",
              "          }\n",
              "        }\n",
              "      });\n",
              "      // Destroy server and session\n",
              "      var cmd = \"import bokeh.io.notebook as ion; ion.destroy_server('\" + server_id + \"')\";\n",
              "      cell.notebook.kernel.execute(cmd);\n",
              "    }\n",
              "  }\n",
              "\n",
              "  /**\n",
              "   * Handle when a new output is added\n",
              "   */\n",
              "  function handleAddOutput(event, handle) {\n",
              "    var output_area = handle.output_area;\n",
              "    var output = handle.output;\n",
              "\n",
              "    // limit handleAddOutput to display_data with EXEC_MIME_TYPE content only\n",
              "    if ((output.output_type != \"display_data\") || (!output.data.hasOwnProperty(EXEC_MIME_TYPE))) {\n",
              "      return\n",
              "    }\n",
              "\n",
              "    var toinsert = output_area.element.find(\".\" + CLASS_NAME.split(' ')[0]);\n",
              "\n",
              "    if (output.metadata[EXEC_MIME_TYPE][\"id\"] !== undefined) {\n",
              "      toinsert[toinsert.length - 1].firstChild.textContent = output.data[JS_MIME_TYPE];\n",
              "      // store reference to embed id on output_area\n",
              "      output_area._bokeh_element_id = output.metadata[EXEC_MIME_TYPE][\"id\"];\n",
              "    }\n",
              "    if (output.metadata[EXEC_MIME_TYPE][\"server_id\"] !== undefined) {\n",
              "      var bk_div = document.createElement(\"div\");\n",
              "      bk_div.innerHTML = output.data[HTML_MIME_TYPE];\n",
              "      var script_attrs = bk_div.children[0].attributes;\n",
              "      for (var i = 0; i < script_attrs.length; i++) {\n",
              "        toinsert[toinsert.length - 1].firstChild.setAttribute(script_attrs[i].name, script_attrs[i].value);\n",
              "        toinsert[toinsert.length - 1].firstChild.textContent = bk_div.children[0].textContent\n",
              "      }\n",
              "      // store reference to server id on output_area\n",
              "      output_area._bokeh_server_id = output.metadata[EXEC_MIME_TYPE][\"server_id\"];\n",
              "    }\n",
              "  }\n",
              "\n",
              "  function register_renderer(events, OutputArea) {\n",
              "\n",
              "    function append_mime(data, metadata, element) {\n",
              "      // create a DOM node to render to\n",
              "      var toinsert = this.create_output_subarea(\n",
              "        metadata,\n",
              "        CLASS_NAME,\n",
              "        EXEC_MIME_TYPE\n",
              "      );\n",
              "      this.keyboard_manager.register_events(toinsert);\n",
              "      // Render to node\n",
              "      var props = {data: data, metadata: metadata[EXEC_MIME_TYPE]};\n",
              "      render(props, toinsert[toinsert.length - 1]);\n",
              "      element.append(toinsert);\n",
              "      return toinsert\n",
              "    }\n",
              "\n",
              "    /* Handle when an output is cleared or removed */\n",
              "    events.on('clear_output.CodeCell', handleClearOutput);\n",
              "    events.on('delete.Cell', handleClearOutput);\n",
              "\n",
              "    /* Handle when a new output is added */\n",
              "    events.on('output_added.OutputArea', handleAddOutput);\n",
              "\n",
              "    /**\n",
              "     * Register the mime type and append_mime function with output_area\n",
              "     */\n",
              "    OutputArea.prototype.register_mime_type(EXEC_MIME_TYPE, append_mime, {\n",
              "      /* Is output safe? */\n",
              "      safe: true,\n",
              "      /* Index of renderer in `output_area.display_order` */\n",
              "      index: 0\n",
              "    });\n",
              "  }\n",
              "\n",
              "  // register the mime type if in Jupyter Notebook environment and previously unregistered\n",
              "  if (root.Jupyter !== undefined) {\n",
              "    var events = require('base/js/events');\n",
              "    var OutputArea = require('notebook/js/outputarea').OutputArea;\n",
              "\n",
              "    if (OutputArea.prototype.mime_types().indexOf(EXEC_MIME_TYPE) == -1) {\n",
              "      register_renderer(events, OutputArea);\n",
              "    }\n",
              "  }\n",
              "\n",
              "  \n",
              "  if (typeof (root._bokeh_timeout) === \"undefined\" || force === true) {\n",
              "    root._bokeh_timeout = Date.now() + 5000;\n",
              "    root._bokeh_failed_load = false;\n",
              "  }\n",
              "\n",
              "  var NB_LOAD_WARNING = {'data': {'text/html':\n",
              "     \"<div style='background-color: #fdd'>\\n\"+\n",
              "     \"<p>\\n\"+\n",
              "     \"BokehJS does not appear to have successfully loaded. If loading BokehJS from CDN, this \\n\"+\n",
              "     \"may be due to a slow or bad network connection. Possible fixes:\\n\"+\n",
              "     \"</p>\\n\"+\n",
              "     \"<ul>\\n\"+\n",
              "     \"<li>re-rerun `output_notebook()` to attempt to load from CDN again, or</li>\\n\"+\n",
              "     \"<li>use INLINE resources instead, as so:</li>\\n\"+\n",
              "     \"</ul>\\n\"+\n",
              "     \"<code>\\n\"+\n",
              "     \"from bokeh.resources import INLINE\\n\"+\n",
              "     \"output_notebook(resources=INLINE)\\n\"+\n",
              "     \"</code>\\n\"+\n",
              "     \"</div>\"}};\n",
              "\n",
              "  function display_loaded() {\n",
              "    var el = document.getElementById(null);\n",
              "    if (el != null) {\n",
              "      el.textContent = \"BokehJS is loading...\";\n",
              "    }\n",
              "    if (root.Bokeh !== undefined) {\n",
              "      if (el != null) {\n",
              "        el.textContent = \"BokehJS \" + root.Bokeh.version + \" successfully loaded.\";\n",
              "      }\n",
              "    } else if (Date.now() < root._bokeh_timeout) {\n",
              "      setTimeout(display_loaded, 100)\n",
              "    }\n",
              "  }\n",
              "\n",
              "\n",
              "  function run_callbacks() {\n",
              "    try {\n",
              "      root._bokeh_onload_callbacks.forEach(function(callback) {\n",
              "        if (callback != null)\n",
              "          callback();\n",
              "      });\n",
              "    } finally {\n",
              "      delete root._bokeh_onload_callbacks\n",
              "    }\n",
              "    console.debug(\"Bokeh: all callbacks have finished\");\n",
              "  }\n",
              "\n",
              "  function load_libs(css_urls, js_urls, callback) {\n",
              "    if (css_urls == null) css_urls = [];\n",
              "    if (js_urls == null) js_urls = [];\n",
              "\n",
              "    root._bokeh_onload_callbacks.push(callback);\n",
              "    if (root._bokeh_is_loading > 0) {\n",
              "      console.debug(\"Bokeh: BokehJS is being loaded, scheduling callback at\", now());\n",
              "      return null;\n",
              "    }\n",
              "    if (js_urls == null || js_urls.length === 0) {\n",
              "      run_callbacks();\n",
              "      return null;\n",
              "    }\n",
              "    console.debug(\"Bokeh: BokehJS not loaded, scheduling load and callback at\", now());\n",
              "    root._bokeh_is_loading = css_urls.length + js_urls.length;\n",
              "\n",
              "    function on_load() {\n",
              "      root._bokeh_is_loading--;\n",
              "      if (root._bokeh_is_loading === 0) {\n",
              "        console.debug(\"Bokeh: all BokehJS libraries/stylesheets loaded\");\n",
              "        run_callbacks()\n",
              "      }\n",
              "    }\n",
              "\n",
              "    function on_error() {\n",
              "      console.error(\"failed to load \" + url);\n",
              "    }\n",
              "\n",
              "    for (var i = 0; i < css_urls.length; i++) {\n",
              "      var url = css_urls[i];\n",
              "      const element = document.createElement(\"link\");\n",
              "      element.onload = on_load;\n",
              "      element.onerror = on_error;\n",
              "      element.rel = \"stylesheet\";\n",
              "      element.type = \"text/css\";\n",
              "      element.href = url;\n",
              "      console.debug(\"Bokeh: injecting link tag for BokehJS stylesheet: \", url);\n",
              "      document.body.appendChild(element);\n",
              "    }\n",
              "\n",
              "    const hashes = {\"https://cdn.bokeh.org/bokeh/release/bokeh-2.1.1.min.js\": \"kLr4fYcqcSpbuI95brIH3vnnYCquzzSxHPU6XGQCIkQRGJwhg0StNbj1eegrHs12\", \"https://cdn.bokeh.org/bokeh/release/bokeh-widgets-2.1.1.min.js\": \"xIGPmVtaOm+z0BqfSOMn4lOR6ciex448GIKG4eE61LsAvmGj48XcMQZtKcE/UXZe\", \"https://cdn.bokeh.org/bokeh/release/bokeh-tables-2.1.1.min.js\": \"Dc9u1wF/0zApGIWoBbH77iWEHtdmkuYWG839Uzmv8y8yBLXebjO9ZnERsde5Ln/P\", \"https://cdn.bokeh.org/bokeh/release/bokeh-gl-2.1.1.min.js\": \"cT9JaBz7GiRXdENrJLZNSC6eMNF3nh3fa5fTF51Svp+ukxPdwcU5kGXGPBgDCa2j\"};\n",
              "\n",
              "    for (var i = 0; i < js_urls.length; i++) {\n",
              "      var url = js_urls[i];\n",
              "      var element = document.createElement('script');\n",
              "      element.onload = on_load;\n",
              "      element.onerror = on_error;\n",
              "      element.async = false;\n",
              "      element.src = url;\n",
              "      if (url in hashes) {\n",
              "        element.crossOrigin = \"anonymous\";\n",
              "        element.integrity = \"sha384-\" + hashes[url];\n",
              "      }\n",
              "      console.debug(\"Bokeh: injecting script tag for BokehJS library: \", url);\n",
              "      document.head.appendChild(element);\n",
              "    }\n",
              "  };\n",
              "\n",
              "  function inject_raw_css(css) {\n",
              "    const element = document.createElement(\"style\");\n",
              "    element.appendChild(document.createTextNode(css));\n",
              "    document.body.appendChild(element);\n",
              "  }\n",
              "\n",
              "  \n",
              "  var js_urls = [\"https://cdn.bokeh.org/bokeh/release/bokeh-2.1.1.min.js\", \"https://cdn.bokeh.org/bokeh/release/bokeh-widgets-2.1.1.min.js\", \"https://cdn.bokeh.org/bokeh/release/bokeh-tables-2.1.1.min.js\", \"https://cdn.bokeh.org/bokeh/release/bokeh-gl-2.1.1.min.js\"];\n",
              "  var css_urls = [];\n",
              "  \n",
              "\n",
              "  var inline_js = [\n",
              "    function(Bokeh) {\n",
              "      Bokeh.set_log_level(\"info\");\n",
              "    },\n",
              "    function(Bokeh) {\n",
              "    \n",
              "    \n",
              "    }\n",
              "  ];\n",
              "\n",
              "  function run_inline_js() {\n",
              "    \n",
              "    if (root.Bokeh !== undefined || force === true) {\n",
              "      \n",
              "    for (var i = 0; i < inline_js.length; i++) {\n",
              "      inline_js[i].call(root, root.Bokeh);\n",
              "    }\n",
              "    } else if (Date.now() < root._bokeh_timeout) {\n",
              "      setTimeout(run_inline_js, 100);\n",
              "    } else if (!root._bokeh_failed_load) {\n",
              "      console.log(\"Bokeh: BokehJS failed to load within specified timeout.\");\n",
              "      root._bokeh_failed_load = true;\n",
              "    } else if (force !== true) {\n",
              "      var cell = $(document.getElementById(null)).parents('.cell').data().cell;\n",
              "      cell.output_area.append_execute_result(NB_LOAD_WARNING)\n",
              "    }\n",
              "\n",
              "  }\n",
              "\n",
              "  if (root._bokeh_is_loading === 0) {\n",
              "    console.debug(\"Bokeh: BokehJS loaded, going straight to plotting\");\n",
              "    run_inline_js();\n",
              "  } else {\n",
              "    load_libs(css_urls, js_urls, function() {\n",
              "      console.debug(\"Bokeh: BokehJS plotting callback run at\", now());\n",
              "      run_inline_js();\n",
              "    });\n",
              "  }\n",
              "}(window));"
            ],
            "application/vnd.bokehjs_load.v0+json": "\n(function(root) {\n  function now() {\n    return new Date();\n  }\n\n  var force = true;\n\n  if (typeof root._bokeh_onload_callbacks === \"undefined\" || force === true) {\n    root._bokeh_onload_callbacks = [];\n    root._bokeh_is_loading = undefined;\n  }\n\n  \n\n  \n  if (typeof (root._bokeh_timeout) === \"undefined\" || force === true) {\n    root._bokeh_timeout = Date.now() + 5000;\n    root._bokeh_failed_load = false;\n  }\n\n  var NB_LOAD_WARNING = {'data': {'text/html':\n     \"<div style='background-color: #fdd'>\\n\"+\n     \"<p>\\n\"+\n     \"BokehJS does not appear to have successfully loaded. If loading BokehJS from CDN, this \\n\"+\n     \"may be due to a slow or bad network connection. Possible fixes:\\n\"+\n     \"</p>\\n\"+\n     \"<ul>\\n\"+\n     \"<li>re-rerun `output_notebook()` to attempt to load from CDN again, or</li>\\n\"+\n     \"<li>use INLINE resources instead, as so:</li>\\n\"+\n     \"</ul>\\n\"+\n     \"<code>\\n\"+\n     \"from bokeh.resources import INLINE\\n\"+\n     \"output_notebook(resources=INLINE)\\n\"+\n     \"</code>\\n\"+\n     \"</div>\"}};\n\n  function display_loaded() {\n    var el = document.getElementById(null);\n    if (el != null) {\n      el.textContent = \"BokehJS is loading...\";\n    }\n    if (root.Bokeh !== undefined) {\n      if (el != null) {\n        el.textContent = \"BokehJS \" + root.Bokeh.version + \" successfully loaded.\";\n      }\n    } else if (Date.now() < root._bokeh_timeout) {\n      setTimeout(display_loaded, 100)\n    }\n  }\n\n\n  function run_callbacks() {\n    try {\n      root._bokeh_onload_callbacks.forEach(function(callback) {\n        if (callback != null)\n          callback();\n      });\n    } finally {\n      delete root._bokeh_onload_callbacks\n    }\n    console.debug(\"Bokeh: all callbacks have finished\");\n  }\n\n  function load_libs(css_urls, js_urls, callback) {\n    if (css_urls == null) css_urls = [];\n    if (js_urls == null) js_urls = [];\n\n    root._bokeh_onload_callbacks.push(callback);\n    if (root._bokeh_is_loading > 0) {\n      console.debug(\"Bokeh: BokehJS is being loaded, scheduling callback at\", now());\n      return null;\n    }\n    if (js_urls == null || js_urls.length === 0) {\n      run_callbacks();\n      return null;\n    }\n    console.debug(\"Bokeh: BokehJS not loaded, scheduling load and callback at\", now());\n    root._bokeh_is_loading = css_urls.length + js_urls.length;\n\n    function on_load() {\n      root._bokeh_is_loading--;\n      if (root._bokeh_is_loading === 0) {\n        console.debug(\"Bokeh: all BokehJS libraries/stylesheets loaded\");\n        run_callbacks()\n      }\n    }\n\n    function on_error() {\n      console.error(\"failed to load \" + url);\n    }\n\n    for (var i = 0; i < css_urls.length; i++) {\n      var url = css_urls[i];\n      const element = document.createElement(\"link\");\n      element.onload = on_load;\n      element.onerror = on_error;\n      element.rel = \"stylesheet\";\n      element.type = \"text/css\";\n      element.href = url;\n      console.debug(\"Bokeh: injecting link tag for BokehJS stylesheet: \", url);\n      document.body.appendChild(element);\n    }\n\n    const hashes = {\"https://cdn.bokeh.org/bokeh/release/bokeh-2.1.1.min.js\": \"kLr4fYcqcSpbuI95brIH3vnnYCquzzSxHPU6XGQCIkQRGJwhg0StNbj1eegrHs12\", \"https://cdn.bokeh.org/bokeh/release/bokeh-widgets-2.1.1.min.js\": \"xIGPmVtaOm+z0BqfSOMn4lOR6ciex448GIKG4eE61LsAvmGj48XcMQZtKcE/UXZe\", \"https://cdn.bokeh.org/bokeh/release/bokeh-tables-2.1.1.min.js\": \"Dc9u1wF/0zApGIWoBbH77iWEHtdmkuYWG839Uzmv8y8yBLXebjO9ZnERsde5Ln/P\", \"https://cdn.bokeh.org/bokeh/release/bokeh-gl-2.1.1.min.js\": \"cT9JaBz7GiRXdENrJLZNSC6eMNF3nh3fa5fTF51Svp+ukxPdwcU5kGXGPBgDCa2j\"};\n\n    for (var i = 0; i < js_urls.length; i++) {\n      var url = js_urls[i];\n      var element = document.createElement('script');\n      element.onload = on_load;\n      element.onerror = on_error;\n      element.async = false;\n      element.src = url;\n      if (url in hashes) {\n        element.crossOrigin = \"anonymous\";\n        element.integrity = \"sha384-\" + hashes[url];\n      }\n      console.debug(\"Bokeh: injecting script tag for BokehJS library: \", url);\n      document.head.appendChild(element);\n    }\n  };\n\n  function inject_raw_css(css) {\n    const element = document.createElement(\"style\");\n    element.appendChild(document.createTextNode(css));\n    document.body.appendChild(element);\n  }\n\n  \n  var js_urls = [\"https://cdn.bokeh.org/bokeh/release/bokeh-2.1.1.min.js\", \"https://cdn.bokeh.org/bokeh/release/bokeh-widgets-2.1.1.min.js\", \"https://cdn.bokeh.org/bokeh/release/bokeh-tables-2.1.1.min.js\", \"https://cdn.bokeh.org/bokeh/release/bokeh-gl-2.1.1.min.js\"];\n  var css_urls = [];\n  \n\n  var inline_js = [\n    function(Bokeh) {\n      Bokeh.set_log_level(\"info\");\n    },\n    function(Bokeh) {\n    \n    \n    }\n  ];\n\n  function run_inline_js() {\n    \n    if (root.Bokeh !== undefined || force === true) {\n      \n    for (var i = 0; i < inline_js.length; i++) {\n      inline_js[i].call(root, root.Bokeh);\n    }\n    } else if (Date.now() < root._bokeh_timeout) {\n      setTimeout(run_inline_js, 100);\n    } else if (!root._bokeh_failed_load) {\n      console.log(\"Bokeh: BokehJS failed to load within specified timeout.\");\n      root._bokeh_failed_load = true;\n    } else if (force !== true) {\n      var cell = $(document.getElementById(null)).parents('.cell').data().cell;\n      cell.output_area.append_execute_result(NB_LOAD_WARNING)\n    }\n\n  }\n\n  if (root._bokeh_is_loading === 0) {\n    console.debug(\"Bokeh: BokehJS loaded, going straight to plotting\");\n    run_inline_js();\n  } else {\n    load_libs(css_urls, js_urls, function() {\n      console.debug(\"Bokeh: BokehJS plotting callback run at\", now());\n      run_inline_js();\n    });\n  }\n}(window));"
          },
          "metadata": {
            "tags": []
          }
        },
        {
          "output_type": "display_data",
          "data": {
            "text/html": [
              "\n",
              "\n",
              "\n",
              "\n",
              "\n",
              "\n",
              "  <div class=\"bk-root\" id=\"7d9a49c8-bed3-48b6-9a7c-41adbad6f1af\" data-root-id=\"1001\"></div>\n"
            ]
          },
          "metadata": {
            "tags": []
          }
        },
        {
          "output_type": "display_data",
          "data": {
            "application/javascript": [
              "(function(root) {\n",
              "  function embed_document(root) {\n",
              "    \n",
              "  var docs_json = {\"3e5132bd-3833-44fe-b894-947702002285\":{\"roots\":{\"references\":[{\"attributes\":{\"below\":[{\"id\":\"1010\"}],\"center\":[{\"id\":\"1013\"},{\"id\":\"1017\"},{\"id\":\"1037\"},{\"id\":\"1038\"},{\"id\":\"1039\"},{\"id\":\"1040\"},{\"id\":\"1041\"},{\"id\":\"1042\"},{\"id\":\"1043\"},{\"id\":\"1044\"},{\"id\":\"1045\"},{\"id\":\"1046\"},{\"id\":\"1047\"},{\"id\":\"1048\"},{\"id\":\"1049\"},{\"id\":\"1050\"},{\"id\":\"1051\"},{\"id\":\"1052\"},{\"id\":\"1053\"},{\"id\":\"1054\"},{\"id\":\"1055\"},{\"id\":\"1056\"},{\"id\":\"1057\"},{\"id\":\"1058\"},{\"id\":\"1059\"},{\"id\":\"1060\"},{\"id\":\"1061\"},{\"id\":\"1062\"},{\"id\":\"1063\"},{\"id\":\"1064\"},{\"id\":\"1065\"},{\"id\":\"1066\"},{\"id\":\"1067\"},{\"id\":\"1068\"},{\"id\":\"1069\"},{\"id\":\"1070\"},{\"id\":\"1071\"},{\"id\":\"1072\"},{\"id\":\"1073\"},{\"id\":\"1074\"},{\"id\":\"1075\"},{\"id\":\"1076\"},{\"id\":\"1077\"},{\"id\":\"1078\"},{\"id\":\"1079\"},{\"id\":\"1080\"},{\"id\":\"1081\"},{\"id\":\"1082\"},{\"id\":\"1083\"},{\"id\":\"1084\"},{\"id\":\"1085\"},{\"id\":\"1086\"},{\"id\":\"1087\"},{\"id\":\"1088\"},{\"id\":\"1089\"},{\"id\":\"1090\"},{\"id\":\"1091\"},{\"id\":\"1092\"},{\"id\":\"1093\"},{\"id\":\"1094\"},{\"id\":\"1095\"},{\"id\":\"1096\"},{\"id\":\"1097\"},{\"id\":\"1098\"},{\"id\":\"1099\"},{\"id\":\"1100\"},{\"id\":\"1101\"},{\"id\":\"1102\"},{\"id\":\"1103\"},{\"id\":\"1104\"},{\"id\":\"1105\"},{\"id\":\"1106\"},{\"id\":\"1107\"},{\"id\":\"1108\"},{\"id\":\"1109\"},{\"id\":\"1110\"},{\"id\":\"1111\"},{\"id\":\"1112\"},{\"id\":\"1113\"},{\"id\":\"1114\"},{\"id\":\"1115\"},{\"id\":\"1116\"},{\"id\":\"1117\"},{\"id\":\"1118\"},{\"id\":\"1119\"},{\"id\":\"1120\"},{\"id\":\"1121\"},{\"id\":\"1122\"},{\"id\":\"1123\"},{\"id\":\"1124\"},{\"id\":\"1125\"},{\"id\":\"1126\"},{\"id\":\"1127\"},{\"id\":\"1128\"},{\"id\":\"1129\"},{\"id\":\"1130\"},{\"id\":\"1131\"},{\"id\":\"1132\"},{\"id\":\"1133\"},{\"id\":\"1134\"},{\"id\":\"1135\"},{\"id\":\"1136\"},{\"id\":\"1137\"},{\"id\":\"1138\"},{\"id\":\"1139\"},{\"id\":\"1140\"},{\"id\":\"1141\"},{\"id\":\"1142\"},{\"id\":\"1143\"},{\"id\":\"1144\"},{\"id\":\"1145\"},{\"id\":\"1146\"},{\"id\":\"1147\"},{\"id\":\"1148\"},{\"id\":\"1149\"},{\"id\":\"1150\"},{\"id\":\"1151\"},{\"id\":\"1152\"},{\"id\":\"1153\"},{\"id\":\"1154\"},{\"id\":\"1155\"},{\"id\":\"1156\"},{\"id\":\"1157\"},{\"id\":\"1158\"},{\"id\":\"1159\"},{\"id\":\"1160\"},{\"id\":\"1161\"},{\"id\":\"1162\"},{\"id\":\"1163\"},{\"id\":\"1164\"},{\"id\":\"1165\"},{\"id\":\"1166\"},{\"id\":\"1167\"},{\"id\":\"1168\"},{\"id\":\"1169\"},{\"id\":\"1170\"},{\"id\":\"1171\"},{\"id\":\"1172\"},{\"id\":\"1173\"},{\"id\":\"1174\"},{\"id\":\"1175\"},{\"id\":\"1176\"},{\"id\":\"1177\"},{\"id\":\"1178\"},{\"id\":\"1179\"},{\"id\":\"1180\"},{\"id\":\"1181\"},{\"id\":\"1182\"},{\"id\":\"1183\"},{\"id\":\"1184\"},{\"id\":\"1185\"},{\"id\":\"1186\"},{\"id\":\"1187\"},{\"id\":\"1188\"},{\"id\":\"1189\"},{\"id\":\"1190\"},{\"id\":\"1191\"},{\"id\":\"1192\"},{\"id\":\"1193\"},{\"id\":\"1194\"},{\"id\":\"1195\"},{\"id\":\"1196\"},{\"id\":\"1197\"},{\"id\":\"1198\"},{\"id\":\"1199\"},{\"id\":\"1200\"},{\"id\":\"1201\"},{\"id\":\"1202\"},{\"id\":\"1203\"},{\"id\":\"1204\"},{\"id\":\"1205\"},{\"id\":\"1206\"},{\"id\":\"1207\"},{\"id\":\"1208\"},{\"id\":\"1209\"},{\"id\":\"1210\"},{\"id\":\"1211\"},{\"id\":\"1212\"},{\"id\":\"1213\"},{\"id\":\"1214\"},{\"id\":\"1215\"},{\"id\":\"1216\"},{\"id\":\"1217\"},{\"id\":\"1218\"},{\"id\":\"1219\"},{\"id\":\"1220\"},{\"id\":\"1221\"},{\"id\":\"1222\"},{\"id\":\"1223\"},{\"id\":\"1224\"},{\"id\":\"1225\"},{\"id\":\"1226\"},{\"id\":\"1227\"},{\"id\":\"1228\"},{\"id\":\"1229\"},{\"id\":\"1230\"},{\"id\":\"1231\"},{\"id\":\"1232\"},{\"id\":\"1233\"},{\"id\":\"1234\"},{\"id\":\"1235\"},{\"id\":\"1236\"},{\"id\":\"1237\"},{\"id\":\"1238\"},{\"id\":\"1239\"},{\"id\":\"1240\"},{\"id\":\"1241\"},{\"id\":\"1242\"},{\"id\":\"1243\"},{\"id\":\"1244\"},{\"id\":\"1245\"},{\"id\":\"1246\"},{\"id\":\"1247\"},{\"id\":\"1248\"},{\"id\":\"1249\"},{\"id\":\"1250\"},{\"id\":\"1251\"},{\"id\":\"1252\"},{\"id\":\"1253\"},{\"id\":\"1254\"},{\"id\":\"1255\"},{\"id\":\"1256\"},{\"id\":\"1257\"},{\"id\":\"1258\"},{\"id\":\"1259\"},{\"id\":\"1260\"},{\"id\":\"1261\"},{\"id\":\"1262\"},{\"id\":\"1263\"},{\"id\":\"1264\"},{\"id\":\"1265\"},{\"id\":\"1266\"},{\"id\":\"1267\"},{\"id\":\"1268\"},{\"id\":\"1269\"},{\"id\":\"1270\"},{\"id\":\"1271\"},{\"id\":\"1272\"},{\"id\":\"1273\"},{\"id\":\"1274\"},{\"id\":\"1275\"},{\"id\":\"1276\"},{\"id\":\"1277\"},{\"id\":\"1278\"},{\"id\":\"1279\"},{\"id\":\"1280\"},{\"id\":\"1281\"},{\"id\":\"1282\"},{\"id\":\"1283\"},{\"id\":\"1284\"},{\"id\":\"1285\"},{\"id\":\"1286\"},{\"id\":\"1287\"},{\"id\":\"1288\"},{\"id\":\"1289\"},{\"id\":\"1290\"},{\"id\":\"1291\"},{\"id\":\"1292\"},{\"id\":\"1293\"},{\"id\":\"1294\"},{\"id\":\"1295\"},{\"id\":\"1296\"},{\"id\":\"1297\"},{\"id\":\"1298\"},{\"id\":\"1299\"},{\"id\":\"1300\"},{\"id\":\"1301\"},{\"id\":\"1302\"},{\"id\":\"1303\"},{\"id\":\"1304\"},{\"id\":\"1305\"},{\"id\":\"1306\"},{\"id\":\"1307\"},{\"id\":\"1308\"},{\"id\":\"1309\"},{\"id\":\"1310\"},{\"id\":\"1311\"},{\"id\":\"1312\"},{\"id\":\"1313\"},{\"id\":\"1314\"},{\"id\":\"1315\"},{\"id\":\"1316\"},{\"id\":\"1317\"},{\"id\":\"1318\"},{\"id\":\"1319\"},{\"id\":\"1320\"},{\"id\":\"1321\"},{\"id\":\"1322\"},{\"id\":\"1323\"},{\"id\":\"1324\"},{\"id\":\"1325\"},{\"id\":\"1326\"},{\"id\":\"1327\"},{\"id\":\"1328\"},{\"id\":\"1329\"},{\"id\":\"1330\"},{\"id\":\"1331\"},{\"id\":\"1332\"},{\"id\":\"1333\"},{\"id\":\"1334\"},{\"id\":\"1335\"},{\"id\":\"1336\"},{\"id\":\"1337\"},{\"id\":\"1338\"},{\"id\":\"1339\"},{\"id\":\"1340\"},{\"id\":\"1341\"},{\"id\":\"1342\"},{\"id\":\"1343\"},{\"id\":\"1344\"},{\"id\":\"1345\"},{\"id\":\"1346\"},{\"id\":\"1347\"},{\"id\":\"1348\"},{\"id\":\"1349\"},{\"id\":\"1350\"},{\"id\":\"1351\"},{\"id\":\"1352\"},{\"id\":\"1353\"},{\"id\":\"1354\"},{\"id\":\"1355\"},{\"id\":\"1356\"},{\"id\":\"1357\"},{\"id\":\"1358\"},{\"id\":\"1359\"},{\"id\":\"1360\"},{\"id\":\"1361\"},{\"id\":\"1362\"},{\"id\":\"1363\"},{\"id\":\"1364\"},{\"id\":\"1365\"},{\"id\":\"1366\"},{\"id\":\"1367\"},{\"id\":\"1368\"},{\"id\":\"1369\"},{\"id\":\"1370\"},{\"id\":\"1371\"},{\"id\":\"1372\"},{\"id\":\"1373\"},{\"id\":\"1374\"},{\"id\":\"1375\"},{\"id\":\"1376\"},{\"id\":\"1377\"},{\"id\":\"1378\"},{\"id\":\"1379\"},{\"id\":\"1380\"},{\"id\":\"1381\"},{\"id\":\"1382\"},{\"id\":\"1383\"},{\"id\":\"1384\"},{\"id\":\"1385\"},{\"id\":\"1386\"},{\"id\":\"1387\"},{\"id\":\"1388\"},{\"id\":\"1389\"},{\"id\":\"1390\"},{\"id\":\"1391\"},{\"id\":\"1392\"},{\"id\":\"1393\"},{\"id\":\"1394\"},{\"id\":\"1395\"},{\"id\":\"1396\"},{\"id\":\"1397\"},{\"id\":\"1398\"},{\"id\":\"1399\"},{\"id\":\"1400\"},{\"id\":\"1401\"},{\"id\":\"1402\"},{\"id\":\"1403\"},{\"id\":\"1404\"},{\"id\":\"1405\"},{\"id\":\"1406\"},{\"id\":\"1407\"},{\"id\":\"1408\"},{\"id\":\"1409\"},{\"id\":\"1410\"},{\"id\":\"1411\"},{\"id\":\"1412\"},{\"id\":\"1413\"},{\"id\":\"1414\"},{\"id\":\"1415\"},{\"id\":\"1416\"},{\"id\":\"1417\"},{\"id\":\"1418\"},{\"id\":\"1419\"},{\"id\":\"1420\"},{\"id\":\"1421\"},{\"id\":\"1422\"},{\"id\":\"1423\"},{\"id\":\"1424\"},{\"id\":\"1425\"},{\"id\":\"1426\"},{\"id\":\"1427\"},{\"id\":\"1428\"},{\"id\":\"1429\"},{\"id\":\"1430\"},{\"id\":\"1431\"},{\"id\":\"1432\"},{\"id\":\"1433\"},{\"id\":\"1434\"},{\"id\":\"1435\"},{\"id\":\"1436\"},{\"id\":\"1437\"},{\"id\":\"1438\"},{\"id\":\"1439\"},{\"id\":\"1440\"},{\"id\":\"1441\"},{\"id\":\"1442\"},{\"id\":\"1443\"},{\"id\":\"1444\"},{\"id\":\"1445\"},{\"id\":\"1446\"},{\"id\":\"1447\"},{\"id\":\"1448\"},{\"id\":\"1449\"},{\"id\":\"1450\"},{\"id\":\"1451\"},{\"id\":\"1452\"},{\"id\":\"1453\"},{\"id\":\"1454\"},{\"id\":\"1455\"},{\"id\":\"1456\"},{\"id\":\"1457\"},{\"id\":\"1458\"},{\"id\":\"1459\"},{\"id\":\"1460\"},{\"id\":\"1461\"},{\"id\":\"1462\"},{\"id\":\"1463\"},{\"id\":\"1464\"},{\"id\":\"1465\"},{\"id\":\"1466\"},{\"id\":\"1467\"},{\"id\":\"1468\"},{\"id\":\"1469\"},{\"id\":\"1470\"},{\"id\":\"1471\"},{\"id\":\"1472\"},{\"id\":\"1473\"},{\"id\":\"1474\"},{\"id\":\"1475\"},{\"id\":\"1476\"},{\"id\":\"1477\"},{\"id\":\"1478\"},{\"id\":\"1479\"},{\"id\":\"1480\"},{\"id\":\"1481\"},{\"id\":\"1482\"},{\"id\":\"1483\"},{\"id\":\"1484\"},{\"id\":\"1485\"},{\"id\":\"1486\"},{\"id\":\"1487\"},{\"id\":\"1488\"},{\"id\":\"1489\"},{\"id\":\"1490\"},{\"id\":\"1491\"},{\"id\":\"1492\"},{\"id\":\"1493\"},{\"id\":\"1494\"},{\"id\":\"1495\"},{\"id\":\"1496\"},{\"id\":\"1497\"},{\"id\":\"1498\"},{\"id\":\"1499\"},{\"id\":\"1500\"},{\"id\":\"1501\"},{\"id\":\"1502\"},{\"id\":\"1503\"},{\"id\":\"1504\"},{\"id\":\"1505\"},{\"id\":\"1506\"},{\"id\":\"1507\"},{\"id\":\"1508\"},{\"id\":\"1509\"},{\"id\":\"1510\"},{\"id\":\"1511\"},{\"id\":\"1512\"},{\"id\":\"1513\"},{\"id\":\"1514\"},{\"id\":\"1515\"},{\"id\":\"1516\"},{\"id\":\"1517\"},{\"id\":\"1518\"},{\"id\":\"1519\"},{\"id\":\"1520\"},{\"id\":\"1521\"},{\"id\":\"1522\"},{\"id\":\"1523\"},{\"id\":\"1524\"},{\"id\":\"1525\"},{\"id\":\"1526\"},{\"id\":\"1527\"},{\"id\":\"1528\"},{\"id\":\"1529\"},{\"id\":\"1530\"},{\"id\":\"1531\"},{\"id\":\"1532\"},{\"id\":\"1533\"},{\"id\":\"1534\"},{\"id\":\"1535\"},{\"id\":\"1536\"},{\"id\":\"1537\"},{\"id\":\"1538\"},{\"id\":\"1539\"},{\"id\":\"1540\"},{\"id\":\"1541\"},{\"id\":\"1542\"},{\"id\":\"1543\"},{\"id\":\"1544\"},{\"id\":\"1545\"},{\"id\":\"1546\"},{\"id\":\"1547\"},{\"id\":\"1548\"},{\"id\":\"1549\"},{\"id\":\"1550\"},{\"id\":\"1551\"},{\"id\":\"1552\"},{\"id\":\"1553\"},{\"id\":\"1554\"},{\"id\":\"1555\"},{\"id\":\"1556\"},{\"id\":\"1557\"},{\"id\":\"1558\"},{\"id\":\"1559\"},{\"id\":\"1560\"},{\"id\":\"1561\"},{\"id\":\"1562\"},{\"id\":\"1563\"},{\"id\":\"1564\"},{\"id\":\"1565\"},{\"id\":\"1566\"},{\"id\":\"1567\"},{\"id\":\"1568\"},{\"id\":\"1569\"},{\"id\":\"1570\"},{\"id\":\"1571\"},{\"id\":\"1572\"},{\"id\":\"1573\"},{\"id\":\"1574\"},{\"id\":\"1575\"},{\"id\":\"1576\"},{\"id\":\"1577\"},{\"id\":\"1578\"},{\"id\":\"1579\"},{\"id\":\"1580\"},{\"id\":\"1581\"},{\"id\":\"1582\"},{\"id\":\"1583\"},{\"id\":\"1584\"},{\"id\":\"1585\"},{\"id\":\"1586\"},{\"id\":\"1587\"},{\"id\":\"1588\"},{\"id\":\"1589\"},{\"id\":\"1590\"},{\"id\":\"1591\"},{\"id\":\"1592\"},{\"id\":\"1593\"},{\"id\":\"1594\"},{\"id\":\"1595\"},{\"id\":\"1596\"},{\"id\":\"1597\"},{\"id\":\"1598\"},{\"id\":\"1599\"},{\"id\":\"1600\"},{\"id\":\"1601\"},{\"id\":\"1602\"},{\"id\":\"1603\"},{\"id\":\"1604\"},{\"id\":\"1605\"},{\"id\":\"1606\"},{\"id\":\"1607\"},{\"id\":\"1608\"},{\"id\":\"1609\"},{\"id\":\"1610\"},{\"id\":\"1611\"},{\"id\":\"1612\"},{\"id\":\"1613\"},{\"id\":\"1614\"},{\"id\":\"1615\"},{\"id\":\"1616\"},{\"id\":\"1617\"},{\"id\":\"1618\"},{\"id\":\"1619\"},{\"id\":\"1620\"},{\"id\":\"1621\"},{\"id\":\"1622\"},{\"id\":\"1623\"},{\"id\":\"1624\"},{\"id\":\"1625\"},{\"id\":\"1626\"},{\"id\":\"1627\"},{\"id\":\"1628\"},{\"id\":\"1629\"},{\"id\":\"1630\"},{\"id\":\"1631\"},{\"id\":\"1632\"},{\"id\":\"1633\"},{\"id\":\"1634\"},{\"id\":\"1635\"},{\"id\":\"1636\"},{\"id\":\"1637\"},{\"id\":\"1638\"},{\"id\":\"1639\"},{\"id\":\"1640\"},{\"id\":\"1641\"},{\"id\":\"1642\"},{\"id\":\"1643\"},{\"id\":\"1644\"},{\"id\":\"1645\"},{\"id\":\"1646\"},{\"id\":\"1647\"},{\"id\":\"1648\"},{\"id\":\"1649\"},{\"id\":\"1650\"},{\"id\":\"1651\"},{\"id\":\"1652\"},{\"id\":\"1653\"},{\"id\":\"1654\"},{\"id\":\"1655\"},{\"id\":\"1656\"},{\"id\":\"1657\"},{\"id\":\"1658\"},{\"id\":\"1659\"},{\"id\":\"1660\"},{\"id\":\"1661\"},{\"id\":\"1662\"},{\"id\":\"1663\"},{\"id\":\"1664\"},{\"id\":\"1665\"},{\"id\":\"1666\"},{\"id\":\"1667\"},{\"id\":\"1668\"},{\"id\":\"1669\"},{\"id\":\"1670\"},{\"id\":\"1671\"},{\"id\":\"1672\"},{\"id\":\"1673\"},{\"id\":\"1674\"},{\"id\":\"1675\"},{\"id\":\"1676\"},{\"id\":\"1677\"},{\"id\":\"1678\"},{\"id\":\"1679\"},{\"id\":\"1680\"},{\"id\":\"1681\"},{\"id\":\"1682\"},{\"id\":\"1683\"},{\"id\":\"1684\"},{\"id\":\"1685\"},{\"id\":\"1686\"},{\"id\":\"1687\"},{\"id\":\"1688\"},{\"id\":\"1689\"},{\"id\":\"1690\"},{\"id\":\"1691\"},{\"id\":\"1692\"},{\"id\":\"1693\"},{\"id\":\"1694\"},{\"id\":\"1695\"},{\"id\":\"1696\"},{\"id\":\"1697\"},{\"id\":\"1698\"},{\"id\":\"1699\"},{\"id\":\"1700\"},{\"id\":\"1701\"},{\"id\":\"1702\"},{\"id\":\"1703\"},{\"id\":\"1704\"},{\"id\":\"1705\"},{\"id\":\"1706\"},{\"id\":\"1707\"},{\"id\":\"1708\"},{\"id\":\"1709\"},{\"id\":\"1710\"},{\"id\":\"1711\"},{\"id\":\"1712\"},{\"id\":\"1713\"},{\"id\":\"1714\"},{\"id\":\"1715\"},{\"id\":\"1716\"},{\"id\":\"1717\"},{\"id\":\"1718\"},{\"id\":\"1719\"},{\"id\":\"1720\"},{\"id\":\"1721\"},{\"id\":\"1722\"},{\"id\":\"1723\"},{\"id\":\"1724\"},{\"id\":\"1725\"},{\"id\":\"1726\"},{\"id\":\"1727\"},{\"id\":\"1728\"},{\"id\":\"1729\"},{\"id\":\"1730\"},{\"id\":\"1731\"},{\"id\":\"1732\"},{\"id\":\"1733\"},{\"id\":\"1734\"},{\"id\":\"1735\"},{\"id\":\"1736\"},{\"id\":\"1737\"},{\"id\":\"1738\"},{\"id\":\"1739\"},{\"id\":\"1740\"},{\"id\":\"1741\"},{\"id\":\"1742\"},{\"id\":\"1743\"},{\"id\":\"1744\"},{\"id\":\"1745\"},{\"id\":\"1746\"},{\"id\":\"1747\"},{\"id\":\"1748\"},{\"id\":\"1749\"},{\"id\":\"1750\"},{\"id\":\"1751\"},{\"id\":\"1752\"},{\"id\":\"1753\"},{\"id\":\"1754\"},{\"id\":\"1755\"},{\"id\":\"1756\"},{\"id\":\"1757\"},{\"id\":\"1758\"},{\"id\":\"1759\"},{\"id\":\"1760\"},{\"id\":\"1761\"},{\"id\":\"1762\"},{\"id\":\"1763\"},{\"id\":\"1764\"},{\"id\":\"1765\"},{\"id\":\"1766\"},{\"id\":\"1767\"},{\"id\":\"1768\"},{\"id\":\"1769\"},{\"id\":\"1770\"},{\"id\":\"1771\"},{\"id\":\"1772\"},{\"id\":\"1773\"},{\"id\":\"1774\"},{\"id\":\"1775\"},{\"id\":\"1776\"},{\"id\":\"1777\"},{\"id\":\"1778\"},{\"id\":\"1779\"},{\"id\":\"1780\"},{\"id\":\"1781\"},{\"id\":\"1782\"},{\"id\":\"1783\"},{\"id\":\"1784\"},{\"id\":\"1785\"},{\"id\":\"1786\"},{\"id\":\"1787\"},{\"id\":\"1788\"},{\"id\":\"1789\"},{\"id\":\"1790\"},{\"id\":\"1791\"},{\"id\":\"1792\"},{\"id\":\"1793\"},{\"id\":\"1794\"},{\"id\":\"1795\"},{\"id\":\"1796\"},{\"id\":\"1797\"},{\"id\":\"1798\"},{\"id\":\"1799\"},{\"id\":\"1800\"},{\"id\":\"1801\"},{\"id\":\"1802\"},{\"id\":\"1803\"},{\"id\":\"1804\"},{\"id\":\"1805\"},{\"id\":\"1806\"},{\"id\":\"1807\"},{\"id\":\"1808\"},{\"id\":\"1809\"},{\"id\":\"1810\"},{\"id\":\"1811\"},{\"id\":\"1812\"},{\"id\":\"1813\"},{\"id\":\"1814\"},{\"id\":\"1815\"},{\"id\":\"1816\"},{\"id\":\"1817\"},{\"id\":\"1818\"},{\"id\":\"1819\"},{\"id\":\"1820\"},{\"id\":\"1821\"},{\"id\":\"1822\"},{\"id\":\"1823\"},{\"id\":\"1824\"},{\"id\":\"1825\"},{\"id\":\"1826\"},{\"id\":\"1827\"},{\"id\":\"1828\"},{\"id\":\"1829\"},{\"id\":\"1830\"},{\"id\":\"1831\"},{\"id\":\"1832\"},{\"id\":\"1833\"},{\"id\":\"1834\"},{\"id\":\"1835\"},{\"id\":\"1836\"},{\"id\":\"1837\"},{\"id\":\"1838\"},{\"id\":\"1839\"},{\"id\":\"1840\"},{\"id\":\"1841\"},{\"id\":\"1842\"},{\"id\":\"1843\"},{\"id\":\"1844\"},{\"id\":\"1845\"},{\"id\":\"1846\"},{\"id\":\"1847\"},{\"id\":\"1848\"},{\"id\":\"1849\"},{\"id\":\"1850\"},{\"id\":\"1851\"},{\"id\":\"1852\"},{\"id\":\"1853\"},{\"id\":\"1854\"},{\"id\":\"1855\"},{\"id\":\"1856\"},{\"id\":\"1857\"},{\"id\":\"1858\"},{\"id\":\"1859\"},{\"id\":\"1860\"},{\"id\":\"1861\"},{\"id\":\"1862\"},{\"id\":\"1863\"},{\"id\":\"1864\"},{\"id\":\"1865\"},{\"id\":\"1866\"},{\"id\":\"1867\"},{\"id\":\"1868\"},{\"id\":\"1869\"},{\"id\":\"1870\"},{\"id\":\"1871\"},{\"id\":\"1872\"},{\"id\":\"1873\"},{\"id\":\"1874\"},{\"id\":\"1875\"},{\"id\":\"1876\"},{\"id\":\"1877\"},{\"id\":\"1878\"},{\"id\":\"1879\"},{\"id\":\"1880\"},{\"id\":\"1881\"},{\"id\":\"1882\"},{\"id\":\"1883\"},{\"id\":\"1884\"},{\"id\":\"1885\"},{\"id\":\"1886\"},{\"id\":\"1887\"},{\"id\":\"1888\"},{\"id\":\"1889\"},{\"id\":\"1890\"},{\"id\":\"1891\"},{\"id\":\"1892\"},{\"id\":\"1893\"},{\"id\":\"1894\"},{\"id\":\"1895\"},{\"id\":\"1896\"},{\"id\":\"1897\"},{\"id\":\"1898\"},{\"id\":\"1899\"},{\"id\":\"1900\"},{\"id\":\"1901\"},{\"id\":\"1902\"},{\"id\":\"1903\"},{\"id\":\"1904\"},{\"id\":\"1905\"},{\"id\":\"1906\"},{\"id\":\"1907\"},{\"id\":\"1908\"},{\"id\":\"1909\"},{\"id\":\"1910\"},{\"id\":\"1911\"},{\"id\":\"1912\"},{\"id\":\"1913\"},{\"id\":\"1914\"},{\"id\":\"1915\"},{\"id\":\"1916\"},{\"id\":\"1917\"},{\"id\":\"1918\"},{\"id\":\"1919\"},{\"id\":\"1920\"},{\"id\":\"1921\"},{\"id\":\"1922\"},{\"id\":\"1923\"},{\"id\":\"1924\"},{\"id\":\"1925\"},{\"id\":\"1926\"},{\"id\":\"1927\"},{\"id\":\"1928\"},{\"id\":\"1929\"},{\"id\":\"1930\"},{\"id\":\"1931\"},{\"id\":\"1932\"},{\"id\":\"1933\"},{\"id\":\"1934\"},{\"id\":\"1935\"},{\"id\":\"1936\"},{\"id\":\"1937\"},{\"id\":\"1938\"},{\"id\":\"1939\"},{\"id\":\"1940\"},{\"id\":\"1941\"},{\"id\":\"1942\"},{\"id\":\"1943\"},{\"id\":\"1944\"},{\"id\":\"1945\"},{\"id\":\"1946\"},{\"id\":\"1947\"},{\"id\":\"1948\"},{\"id\":\"1949\"},{\"id\":\"1950\"},{\"id\":\"1951\"},{\"id\":\"1952\"},{\"id\":\"1953\"},{\"id\":\"1954\"},{\"id\":\"1955\"},{\"id\":\"1956\"},{\"id\":\"1957\"},{\"id\":\"1958\"},{\"id\":\"1959\"},{\"id\":\"1960\"},{\"id\":\"1961\"},{\"id\":\"1962\"},{\"id\":\"1963\"},{\"id\":\"1964\"},{\"id\":\"1965\"},{\"id\":\"1966\"},{\"id\":\"1967\"},{\"id\":\"1968\"},{\"id\":\"1969\"},{\"id\":\"1970\"},{\"id\":\"1971\"},{\"id\":\"1972\"},{\"id\":\"1973\"},{\"id\":\"1974\"},{\"id\":\"1975\"},{\"id\":\"1976\"},{\"id\":\"1977\"},{\"id\":\"1978\"},{\"id\":\"1979\"},{\"id\":\"1980\"},{\"id\":\"1981\"},{\"id\":\"1982\"},{\"id\":\"1983\"},{\"id\":\"1984\"},{\"id\":\"1985\"},{\"id\":\"1986\"},{\"id\":\"1987\"},{\"id\":\"1988\"},{\"id\":\"1989\"},{\"id\":\"1990\"},{\"id\":\"1991\"},{\"id\":\"1992\"},{\"id\":\"1993\"},{\"id\":\"1994\"},{\"id\":\"1995\"},{\"id\":\"1996\"},{\"id\":\"1997\"},{\"id\":\"1998\"},{\"id\":\"1999\"},{\"id\":\"2000\"},{\"id\":\"2001\"},{\"id\":\"2002\"},{\"id\":\"2003\"},{\"id\":\"2004\"},{\"id\":\"2005\"},{\"id\":\"2006\"},{\"id\":\"2007\"},{\"id\":\"2008\"},{\"id\":\"2009\"},{\"id\":\"2010\"},{\"id\":\"2011\"},{\"id\":\"2012\"},{\"id\":\"2013\"},{\"id\":\"2014\"},{\"id\":\"2015\"},{\"id\":\"2016\"},{\"id\":\"2017\"},{\"id\":\"2018\"},{\"id\":\"2019\"},{\"id\":\"2020\"},{\"id\":\"2021\"},{\"id\":\"2022\"},{\"id\":\"2023\"},{\"id\":\"2024\"},{\"id\":\"2025\"},{\"id\":\"2026\"},{\"id\":\"2027\"},{\"id\":\"2028\"},{\"id\":\"2029\"},{\"id\":\"2030\"},{\"id\":\"2031\"},{\"id\":\"2032\"},{\"id\":\"2033\"},{\"id\":\"2034\"},{\"id\":\"2035\"},{\"id\":\"2036\"}],\"left\":[{\"id\":\"1014\"}],\"plot_width\":800,\"renderers\":[{\"id\":\"1035\"}],\"title\":{\"id\":\"2037\"},\"toolbar\":{\"id\":\"1025\"},\"x_range\":{\"id\":\"1002\"},\"x_scale\":{\"id\":\"1006\"},\"y_range\":{\"id\":\"1004\"},\"y_scale\":{\"id\":\"1008\"}},\"id\":\"1001\",\"subtype\":\"Figure\",\"type\":\"Plot\"},{\"attributes\":{\"text\":\"wants\",\"x\":2.224915027618408,\"y\":2.1949095726013184},\"id\":\"1456\",\"type\":\"Label\"},{\"attributes\":{\"text\":\"zebra\",\"x\":1.8642563819885254,\"y\":-0.6421486735343933},\"id\":\"1816\",\"type\":\"Label\"},{\"attributes\":{\"text\":\"fired\",\"x\":4.03684139251709,\"y\":2.799269199371338},\"id\":\"2032\",\"type\":\"Label\"},{\"attributes\":{\"text\":\"sad\",\"x\":-4.429376602172852,\"y\":0.02512449026107788},\"id\":\"1457\",\"type\":\"Label\"},{\"attributes\":{\"text\":\"sugababes\",\"x\":2.230539321899414,\"y\":0.4765411913394928},\"id\":\"1817\",\"type\":\"Label\"},{\"attributes\":{\"text\":\"quarter\",\"x\":-3.0093305110931396,\"y\":0.5618779063224792},\"id\":\"2033\",\"type\":\"Label\"},{\"attributes\":{\"text\":\"brother\",\"x\":-3.346358299255371,\"y\":-1.0924313068389893},\"id\":\"1458\",\"type\":\"Label\"},{\"attributes\":{\"text\":\"panther\",\"x\":0.2593076527118683,\"y\":0.5646734237670898},\"id\":\"1818\",\"type\":\"Label\"},{\"attributes\":{\"text\":\"santacalling\",\"x\":7.777575492858887,\"y\":-2.5401573181152344},\"id\":\"2034\",\"type\":\"Label\"},{\"attributes\":{\"text\":\"set\",\"x\":-0.6903120279312134,\"y\":-1.3282530307769775},\"id\":\"1459\",\"type\":\"Label\"},{\"attributes\":{\"text\":\"kotees\",\"x\":-0.7381300330162048,\"y\":-1.64849853515625},\"id\":\"1819\",\"type\":\"Label\"},{\"attributes\":{\"text\":\"swayze\",\"x\":1.9341974258422852,\"y\":-0.3706026077270508},\"id\":\"2035\",\"type\":\"Label\"},{\"attributes\":{\"text\":\"smiling\",\"x\":-2.6898505687713623,\"y\":-0.9703752398490906},\"id\":\"1460\",\"type\":\"Label\"},{\"attributes\":{\"text\":\"dino\",\"x\":1.7801933288574219,\"y\":-1.1773192882537842},\"id\":\"1820\",\"type\":\"Label\"},{\"attributes\":{\"text\":\"patrick\",\"x\":0.3377622067928314,\"y\":1.2635737657546997},\"id\":\"2036\",\"type\":\"Label\"},{\"attributes\":{\"text\":\"mean\",\"x\":-2.732975959777832,\"y\":1.2832517623901367},\"id\":\"1461\",\"type\":\"Label\"},{\"attributes\":{\"text\":\"diamond\",\"x\":1.7957401275634766,\"y\":-0.8164312243461609},\"id\":\"1821\",\"type\":\"Label\"},{\"attributes\":{\"text\":\"\"},\"id\":\"2037\",\"type\":\"Title\"},{\"attributes\":{\"text\":\"old\",\"x\":4.786964416503906,\"y\":-1.5215184688568115},\"id\":\"1462\",\"type\":\"Label\"},{\"attributes\":{\"text\":\"uncut\",\"x\":3.04542875289917,\"y\":-1.6903536319732666},\"id\":\"1822\",\"type\":\"Label\"},{\"attributes\":{\"text\":\"points\",\"x\":6.675325870513916,\"y\":-0.0035049982834607363},\"id\":\"1463\",\"type\":\"Label\"},{\"attributes\":{\"text\":\"exchanged\",\"x\":2.7383174896240234,\"y\":0.4838915765285492},\"id\":\"1823\",\"type\":\"Label\"},{\"attributes\":{},\"id\":\"2043\",\"type\":\"Selection\"},{\"attributes\":{},\"id\":\"2042\",\"type\":\"BasicTickFormatter\"},{\"attributes\":{\"text\":\"leaving\",\"x\":-4.199772834777832,\"y\":-0.47868484258651733},\"id\":\"1464\",\"type\":\"Label\"},{\"attributes\":{\"text\":\"shanil\",\"x\":1.7309160232543945,\"y\":1.040722131729126},\"id\":\"1824\",\"type\":\"Label\"},{\"attributes\":{\"text\":\"story\",\"x\":-0.5870791673660278,\"y\":3.905785322189331},\"id\":\"1465\",\"type\":\"Label\"},{\"attributes\":{\"text\":\"gokila\",\"x\":-0.45533281564712524,\"y\":-2.953392505645752},\"id\":\"1825\",\"type\":\"Label\"},{\"attributes\":{\"text\":\"sleeping\",\"x\":-3.550609588623047,\"y\":1.044366478919983},\"id\":\"1466\",\"type\":\"Label\"},{\"attributes\":{\"text\":\"virgil\",\"x\":-1.0068552494049072,\"y\":0.003889869200065732},\"id\":\"1826\",\"type\":\"Label\"},{\"attributes\":{},\"id\":\"2040\",\"type\":\"BasicTickFormatter\"},{\"attributes\":{\"text\":\"noe\",\"x\":-2.739281177520752,\"y\":0.7555953860282898},\"id\":\"1467\",\"type\":\"Label\"},{\"attributes\":{\"text\":\"andre\",\"x\":1.2141057252883911,\"y\":0.3998948633670807},\"id\":\"1827\",\"type\":\"Label\"},{\"attributes\":{},\"id\":\"2044\",\"type\":\"UnionRenderers\"},{\"attributes\":{\"text\":\"happen\",\"x\":-3.0453107357025146,\"y\":-2.735724449157715},\"id\":\"1468\",\"type\":\"Label\"},{\"attributes\":{\"text\":\"dysentry\",\"x\":-1.4468061923980713,\"y\":-0.6610894799232483},\"id\":\"1828\",\"type\":\"Label\"},{\"attributes\":{\"text\":\"ring\",\"x\":3.6881279945373535,\"y\":4.4334821701049805},\"id\":\"1469\",\"type\":\"Label\"},{\"attributes\":{\"text\":\"suffering\",\"x\":-2.3524606227874756,\"y\":0.1035352274775505},\"id\":\"1829\",\"type\":\"Label\"},{\"attributes\":{\"text\":\"club\",\"x\":6.556281566619873,\"y\":-1.6145180463790894},\"id\":\"1470\",\"type\":\"Label\"},{\"attributes\":{\"text\":\"worms\",\"x\":0.27731752395629883,\"y\":-0.16825677454471588},\"id\":\"1830\",\"type\":\"Label\"},{\"attributes\":{\"text\":\"charge\",\"x\":4.364100456237793,\"y\":1.836251974105835},\"id\":\"1471\",\"type\":\"Label\"},{\"attributes\":{\"text\":\"eleven\",\"x\":2.051959753036499,\"y\":1.6992608308792114},\"id\":\"1831\",\"type\":\"Label\"},{\"attributes\":{\"text\":\"games\",\"x\":8.75356674194336,\"y\":0.6682496666908264},\"id\":\"1472\",\"type\":\"Label\"},{\"attributes\":{\"text\":\"hitler\",\"x\":3.4729161262512207,\"y\":0.7962405681610107},\"id\":\"1832\",\"type\":\"Label\"},{\"attributes\":{\"text\":\"chikku\",\"x\":-3.013840675354004,\"y\":0.73326176404953},\"id\":\"1473\",\"type\":\"Label\"},{\"attributes\":{\"text\":\"recount\",\"x\":4.405595302581787,\"y\":2.037447690963745},\"id\":\"1833\",\"type\":\"Label\"},{\"attributes\":{\"text\":\"huh\",\"x\":-4.044877529144287,\"y\":1.5489410161972046},\"id\":\"1474\",\"type\":\"Label\"},{\"attributes\":{\"text\":\"election\",\"x\":1.3852043151855469,\"y\":0.12137578427791595},\"id\":\"1834\",\"type\":\"Label\"},{\"attributes\":{\"text\":\"eve\",\"x\":2.7377724647521973,\"y\":-2.3233113288879395},\"id\":\"1475\",\"type\":\"Label\"},{\"attributes\":{\"text\":\"starer\",\"x\":3.2552924156188965,\"y\":1.7029019594192505},\"id\":\"1835\",\"type\":\"Label\"},{\"attributes\":{\"text\":\"saying\",\"x\":-3.970932960510254,\"y\":0.6062696576118469},\"id\":\"1476\",\"type\":\"Label\"},{\"attributes\":{\"text\":\"astronomer\",\"x\":0.4710923433303833,\"y\":-1.7468994855880737},\"id\":\"1836\",\"type\":\"Label\"},{\"attributes\":{\"text\":\"drive\",\"x\":-3.4697911739349365,\"y\":-0.3810833990573883},\"id\":\"1477\",\"type\":\"Label\"},{\"attributes\":{\"text\":\"dormitory\",\"x\":3.0769214630126953,\"y\":0.2868232727050781},\"id\":\"1837\",\"type\":\"Label\"},{\"attributes\":{\"text\":\"await\",\"x\":5.108246326446533,\"y\":-3.7368271350860596},\"id\":\"1478\",\"type\":\"Label\"},{\"attributes\":{\"text\":\"rearrange\",\"x\":4.476135730743408,\"y\":3.0849483013153076},\"id\":\"1838\",\"type\":\"Label\"},{\"attributes\":{\"text\":\"dreams\",\"x\":-3.226099729537964,\"y\":0.4486488401889801},\"id\":\"1479\",\"type\":\"Label\"},{\"attributes\":{\"text\":\"fuckinnice\",\"x\":1.6780997514724731,\"y\":-0.23111340403556824},\"id\":\"1839\",\"type\":\"Label\"},{\"attributes\":{\"text\":\"pounds\",\"x\":5.785651206970215,\"y\":0.3592609763145447},\"id\":\"1480\",\"type\":\"Label\"},{\"attributes\":{\"text\":\"ourbacks\",\"x\":3.122075080871582,\"y\":-0.713640570640564},\"id\":\"1840\",\"type\":\"Label\"},{\"attributes\":{\"data_source\":{\"id\":\"1032\"},\"glyph\":{\"id\":\"1033\"},\"hover_glyph\":null,\"muted_glyph\":null,\"nonselection_glyph\":{\"id\":\"1034\"},\"selection_glyph\":null,\"view\":{\"id\":\"1036\"}},\"id\":\"1035\",\"type\":\"GlyphRenderer\"},{\"attributes\":{\"text\":\"news\",\"x\":4.890152454376221,\"y\":2.497602701187134},\"id\":\"1481\",\"type\":\"Label\"},{\"attributes\":{\"text\":\"gotmarried\",\"x\":2.1629576683044434,\"y\":-0.09431792795658112},\"id\":\"1841\",\"type\":\"Label\"},{\"attributes\":{\"text\":\"aft\",\"x\":-3.642418146133423,\"y\":-0.186412513256073},\"id\":\"1482\",\"type\":\"Label\"},{\"attributes\":{\"text\":\"thatmum\",\"x\":1.931479811668396,\"y\":-1.155017375946045},\"id\":\"1842\",\"type\":\"Label\"},{\"attributes\":{\"text\":\"tomo\",\"x\":-3.769652843475342,\"y\":1.6617084741592407},\"id\":\"1483\",\"type\":\"Label\"},{\"attributes\":{\"text\":\"aletter\",\"x\":1.665388584136963,\"y\":-0.22463606297969818},\"id\":\"1843\",\"type\":\"Label\"},{\"attributes\":{\"text\":\"congrats\",\"x\":-2.730637550354004,\"y\":-0.8326415419578552},\"id\":\"1484\",\"type\":\"Label\"},{\"attributes\":{\"text\":\"justfound\",\"x\":1.7956477403640747,\"y\":1.1126370429992676},\"id\":\"1844\",\"type\":\"Label\"},{\"attributes\":{\"text\":\"took\",\"x\":-3.590944290161133,\"y\":-1.2248505353927612},\"id\":\"1485\",\"type\":\"Label\"},{\"attributes\":{\"text\":\"feellikw\",\"x\":1.9003950357437134,\"y\":-0.22014352679252625},\"id\":\"1845\",\"type\":\"Label\"},{\"attributes\":{\"text\":\"finished\",\"x\":-4.6950578689575195,\"y\":0.9365766644477844},\"id\":\"1486\",\"type\":\"Label\"},{\"attributes\":{\"text\":\"uawake\",\"x\":3.558990716934204,\"y\":0.21447037160396576},\"id\":\"1846\",\"type\":\"Label\"},{\"attributes\":{\"text\":\"started\",\"x\":1.3757598400115967,\"y\":-0.7735021710395813},\"id\":\"1487\",\"type\":\"Label\"},{\"attributes\":{\"text\":\"afterwards\",\"x\":-3.0422816276550293,\"y\":-0.3685499429702759},\"id\":\"1847\",\"type\":\"Label\"},{\"attributes\":{\"text\":\"private\",\"x\":3.06644344329834,\"y\":-1.0047894716262817},\"id\":\"1488\",\"type\":\"Label\"},{\"attributes\":{\"text\":\"disagreeable\",\"x\":-2.5677733421325684,\"y\":-1.0317409038543701},\"id\":\"1848\",\"type\":\"Label\"},{\"attributes\":{\"text\":\"awesome\",\"x\":-3.57069993019104,\"y\":1.580313801765442},\"id\":\"1489\",\"type\":\"Label\"},{\"attributes\":{\"text\":\"styles\",\"x\":-2.823718309402466,\"y\":-0.05550582706928253},\"id\":\"1849\",\"type\":\"Label\"},{\"attributes\":{\"fill_color\":{\"value\":\"#1f77b4\"},\"line_color\":{\"value\":\"#1f77b4\"},\"x\":{\"field\":\"x\"},\"y\":{\"field\":\"y\"}},\"id\":\"1033\",\"type\":\"Scatter\"},{\"attributes\":{\"text\":\"minute\",\"x\":-0.3254793584346771,\"y\":-0.6102346777915955},\"id\":\"1490\",\"type\":\"Label\"},{\"attributes\":{\"text\":\"ranju\",\"x\":2.197957754135132,\"y\":0.2698676884174347},\"id\":\"1850\",\"type\":\"Label\"},{\"attributes\":{\"text\":\"walk\",\"x\":-3.4554150104522705,\"y\":-1.105002999305725},\"id\":\"1491\",\"type\":\"Label\"},{\"attributes\":{\"text\":\"rajitha\",\"x\":2.08477783203125,\"y\":2.1604974269866943},\"id\":\"1851\",\"type\":\"Label\"},{\"attributes\":{\"text\":\"bit\",\"x\":-3.635537624359131,\"y\":-0.44946518540382385},\"id\":\"1204\",\"type\":\"Label\"},{\"attributes\":{\"text\":\"inclu\",\"x\":1.9070649147033691,\"y\":0.17137350142002106},\"id\":\"1564\",\"type\":\"Label\"},{\"attributes\":{\"text\":\"ecstacy\",\"x\":7.076396465301514,\"y\":0.18619516491889954},\"id\":\"1672\",\"type\":\"Label\"},{\"attributes\":{\"text\":\"sday\",\"x\":1.580660343170166,\"y\":0.5427432060241699},\"id\":\"1780\",\"type\":\"Label\"},{\"attributes\":{\"text\":\"never\",\"x\":-0.24938566982746124,\"y\":0.7425417900085449},\"id\":\"1205\",\"type\":\"Label\"},{\"attributes\":{\"text\":\"chatlines\",\"x\":1.2767882347106934,\"y\":0.5815294981002808},\"id\":\"1565\",\"type\":\"Label\"},{\"attributes\":{\"text\":\"erotic\",\"x\":7.663210391998291,\"y\":1.810245156288147},\"id\":\"1673\",\"type\":\"Label\"},{\"attributes\":{\"text\":\"perfume\",\"x\":-2.9601314067840576,\"y\":-0.3133469521999359},\"id\":\"1781\",\"type\":\"Label\"},{\"attributes\":{\"text\":\"meeting\",\"x\":-4.372659206390381,\"y\":1.3857600688934326},\"id\":\"1206\",\"type\":\"Label\"},{\"attributes\":{\"text\":\"gsex\",\"x\":2.104688882827759,\"y\":0.16677410900592804},\"id\":\"1566\",\"type\":\"Label\"},{\"attributes\":{\"text\":\"percent\",\"x\":-1.4844032526016235,\"y\":1.3877441883087158},\"id\":\"1674\",\"type\":\"Label\"},{\"attributes\":{\"text\":\"goigng\",\"x\":-2.7700047492980957,\"y\":-0.27096322178840637},\"id\":\"1782\",\"type\":\"Label\"},{\"attributes\":{\"text\":\"thats\",\"x\":-3.528667449951172,\"y\":2.8257651329040527},\"id\":\"1207\",\"type\":\"Label\"},{\"attributes\":{\"text\":\"chief\",\"x\":0.5114886164665222,\"y\":2.308053970336914},\"id\":\"1567\",\"type\":\"Label\"},{\"attributes\":{\"text\":\"mentor\",\"x\":0.7821568846702576,\"y\":-0.6358217000961304},\"id\":\"1675\",\"type\":\"Label\"},{\"attributes\":{\"text\":\"savings\",\"x\":-2.6521759033203125,\"y\":-2.045569658279419},\"id\":\"1783\",\"type\":\"Label\"},{\"attributes\":{\"text\":\"job\",\"x\":-4.100148677825928,\"y\":-0.19430333375930786},\"id\":\"1208\",\"type\":\"Label\"},{\"attributes\":{\"text\":\"adventuring\",\"x\":-0.8875238299369812,\"y\":2.0894320011138916},\"id\":\"1568\",\"type\":\"Label\"},{\"attributes\":{\"text\":\"slacking\",\"x\":-1.734388828277588,\"y\":-0.13430102169513702},\"id\":\"1676\",\"type\":\"Label\"},{\"attributes\":{\"text\":\"zeros\",\"x\":-3.977951765060425,\"y\":-1.6525102853775024},\"id\":\"1784\",\"type\":\"Label\"},{\"attributes\":{\"text\":\"better\",\"x\":-2.560621500015259,\"y\":1.3347830772399902},\"id\":\"1209\",\"type\":\"Label\"},{\"attributes\":{\"text\":\"compliments\",\"x\":2.3047587871551514,\"y\":-2.950443983078003},\"id\":\"1569\",\"type\":\"Label\"},{\"attributes\":{\"text\":\"astrology\",\"x\":-4.465489864349365,\"y\":-0.44796958565711975},\"id\":\"1677\",\"type\":\"Label\"},{\"attributes\":{\"text\":\"adding\",\"x\":-4.217236518859863,\"y\":-0.6353158950805664},\"id\":\"1785\",\"type\":\"Label\"},{\"attributes\":{\"text\":\"house\",\"x\":-3.923643112182617,\"y\":0.6922177076339722},\"id\":\"1210\",\"type\":\"Label\"},{\"attributes\":{\"text\":\"tantrum\",\"x\":-1.9834104776382446,\"y\":-0.7765851616859436},\"id\":\"1570\",\"type\":\"Label\"},{\"attributes\":{\"text\":\"guai\",\"x\":2.406923770904541,\"y\":-0.3437866270542145},\"id\":\"1678\",\"type\":\"Label\"},{\"attributes\":{\"text\":\"ibored\",\"x\":-0.49302613735198975,\"y\":1.0668529272079468},\"id\":\"1786\",\"type\":\"Label\"},{\"attributes\":{\"text\":\"line\",\"x\":7.352752685546875,\"y\":-1.0039888620376587},\"id\":\"1211\",\"type\":\"Label\"},{\"attributes\":{\"text\":\"irritation\",\"x\":1.74119234085083,\"y\":-0.9398732781410217},\"id\":\"1571\",\"type\":\"Label\"},{\"attributes\":{\"text\":\"upcharge\",\"x\":-1.3025248050689697,\"y\":-0.5732695460319519},\"id\":\"1679\",\"type\":\"Label\"},{\"attributes\":{\"text\":\"okors\",\"x\":1.9861421585083008,\"y\":-1.9913042783737183},\"id\":\"1787\",\"type\":\"Label\"},{\"attributes\":{\"text\":\"finish\",\"x\":-4.759185314178467,\"y\":-0.49873054027557373},\"id\":\"1212\",\"type\":\"Label\"},{\"attributes\":{\"text\":\"disappointment\",\"x\":0.8896662592887878,\"y\":0.22430242598056793},\"id\":\"1572\",\"type\":\"Label\"},{\"attributes\":{\"text\":\"openings\",\"x\":-2.467115879058838,\"y\":-0.7439159154891968},\"id\":\"1680\",\"type\":\"Label\"},{\"attributes\":{\"text\":\"treats\",\"x\":0.2761642634868622,\"y\":-1.1263296604156494},\"id\":\"1788\",\"type\":\"Label\"},{\"attributes\":{\"text\":\"cool\",\"x\":5.315461158752441,\"y\":2.288466691970825},\"id\":\"1213\",\"type\":\"Label\"},{\"attributes\":{\"text\":\"declare\",\"x\":2.8645083904266357,\"y\":-0.8808423280715942},\"id\":\"1573\",\"type\":\"Label\"},{\"attributes\":{\"text\":\"subsequent\",\"x\":3.5511085987091064,\"y\":0.7975342273712158},\"id\":\"1681\",\"type\":\"Label\"},{\"attributes\":{\"text\":\"ileave\",\"x\":1.9081567525863647,\"y\":-1.787394642829895},\"id\":\"1789\",\"type\":\"Label\"},{\"attributes\":{\"text\":\"long\",\"x\":-3.178589105606079,\"y\":-0.29608622193336487},\"id\":\"1214\",\"type\":\"Label\"},{\"attributes\":{\"text\":\"chic\",\"x\":-0.28890296816825867,\"y\":-0.6133735775947571},\"id\":\"1574\",\"type\":\"Label\"},{\"attributes\":{\"text\":\"follows\",\"x\":6.851296901702881,\"y\":0.15051548182964325},\"id\":\"1682\",\"type\":\"Label\"},{\"attributes\":{\"text\":\"tocall\",\"x\":3.7649714946746826,\"y\":1.272121787071228},\"id\":\"1790\",\"type\":\"Label\"},{\"attributes\":{\"text\":\"ill\",\"x\":-4.455649375915527,\"y\":-1.9646835327148438},\"id\":\"1215\",\"type\":\"Label\"},{\"attributes\":{\"text\":\"colany\",\"x\":-0.5210994482040405,\"y\":0.9854286909103394},\"id\":\"1575\",\"type\":\"Label\"},{\"attributes\":{\"text\":\"stink\",\"x\":-0.6702313423156738,\"y\":-0.7398638129234314},\"id\":\"1683\",\"type\":\"Label\"},{\"attributes\":{\"text\":\"enufcredeit\",\"x\":1.5416457653045654,\"y\":0.3107087016105652},\"id\":\"1791\",\"type\":\"Label\"},{\"attributes\":{\"text\":\"ready\",\"x\":-3.1569645404815674,\"y\":-0.05669831857085228},\"id\":\"1216\",\"type\":\"Label\"},{\"attributes\":{\"text\":\"saibaba\",\"x\":-1.507826805114746,\"y\":-0.3510385751724243},\"id\":\"1576\",\"type\":\"Label\"},{\"attributes\":{\"text\":\"jerk\",\"x\":2.6522789001464844,\"y\":0.11062289774417877},\"id\":\"1684\",\"type\":\"Label\"},{\"attributes\":{\"text\":\"mahfuuz\",\"x\":-2.689645290374756,\"y\":-2.1259765625},\"id\":\"1792\",\"type\":\"Label\"},{\"attributes\":{\"text\":\"person\",\"x\":-1.9675697088241577,\"y\":3.137176036834717},\"id\":\"1217\",\"type\":\"Label\"},{\"attributes\":{\"text\":\"referin\",\"x\":-0.190018430352211,\"y\":-1.1206916570663452},\"id\":\"1577\",\"type\":\"Label\"},{\"attributes\":{\"text\":\"costume\",\"x\":-3.287473201751709,\"y\":0.5874660015106201},\"id\":\"1685\",\"type\":\"Label\"},{\"attributes\":{\"text\":\"mufti\",\"x\":-1.3019565343856812,\"y\":0.013541432097554207},\"id\":\"1793\",\"type\":\"Label\"},{\"attributes\":{\"text\":\"car\",\"x\":-2.8915023803710938,\"y\":3.1005492210388184},\"id\":\"1218\",\"type\":\"Label\"},{\"attributes\":{\"text\":\"young\",\"x\":1.2188607454299927,\"y\":2.015028953552246},\"id\":\"1578\",\"type\":\"Label\"},{\"attributes\":{\"text\":\"grownup\",\"x\":3.1025450229644775,\"y\":-0.10134726017713547},\"id\":\"1686\",\"type\":\"Label\"},{\"attributes\":{\"text\":\"albi\",\"x\":-0.8140171766281128,\"y\":0.2968023121356964},\"id\":\"1794\",\"type\":\"Label\"},{\"attributes\":{\"text\":\"dat\",\"x\":-2.84305477142334,\"y\":-0.9167594909667969},\"id\":\"1219\",\"type\":\"Label\"},{\"attributes\":{\"text\":\"reassuring\",\"x\":2.624676465988159,\"y\":-1.6444116830825806},\"id\":\"1579\",\"type\":\"Label\"},{\"attributes\":{\"text\":\"chex\",\"x\":-0.12162671983242035,\"y\":1.6867676973342896},\"id\":\"1687\",\"type\":\"Label\"},{\"attributes\":{\"text\":\"muht\",\"x\":-1.4663954973220825,\"y\":1.1570552587509155},\"id\":\"1795\",\"type\":\"Label\"},{\"attributes\":{\"text\":\"mind\",\"x\":-3.6787006855010986,\"y\":-1.1236340999603271},\"id\":\"1220\",\"type\":\"Label\"},{\"attributes\":{\"text\":\"endless\",\"x\":0.6433544754981995,\"y\":2.243108034133911},\"id\":\"1580\",\"type\":\"Label\"},{\"attributes\":{\"text\":\"wheat\",\"x\":-1.7830774784088135,\"y\":0.6834608912467957},\"id\":\"1688\",\"type\":\"Label\"},{\"attributes\":{\"text\":\"beeen\",\"x\":-2.027555227279663,\"y\":-0.34804567694664},\"id\":\"1796\",\"type\":\"Label\"},{\"attributes\":{\"text\":\"end\",\"x\":-0.29568973183631897,\"y\":-2.879345178604126},\"id\":\"1221\",\"type\":\"Label\"},{\"attributes\":{\"text\":\"boundaries\",\"x\":1.9442944526672363,\"y\":0.5754023194313049},\"id\":\"1581\",\"type\":\"Label\"},{\"attributes\":{\"text\":\"hannaford\",\"x\":-0.4555480182170868,\"y\":0.09515529125928879},\"id\":\"1689\",\"type\":\"Label\"},{\"attributes\":{\"text\":\"tohar\",\"x\":0.4023227095603943,\"y\":-0.15394076704978943},\"id\":\"1797\",\"type\":\"Label\"},{\"attributes\":{\"text\":\"account\",\"x\":2.817511796951294,\"y\":3.1941680908203125},\"id\":\"1222\",\"type\":\"Label\"},{\"attributes\":{\"text\":\"limit\",\"x\":-0.19999684393405914,\"y\":0.8742616772651672},\"id\":\"1582\",\"type\":\"Label\"},{\"attributes\":{\"text\":\"jam\",\"x\":0.5010256171226501,\"y\":1.5526596307754517},\"id\":\"1690\",\"type\":\"Label\"},{\"attributes\":{\"text\":\"aslamalaikkum\",\"x\":0.16800890862941742,\"y\":-3.4037716388702393},\"id\":\"1798\",\"type\":\"Label\"},{\"attributes\":{\"text\":\"enjoy\",\"x\":4.548698902130127,\"y\":-2.1263985633850098},\"id\":\"1223\",\"type\":\"Label\"},{\"attributes\":{\"text\":\"identification\",\"x\":1.3123712539672852,\"y\":0.9097873568534851},\"id\":\"1583\",\"type\":\"Label\"},{\"attributes\":{\"text\":\"resolved\",\"x\":-2.6743569374084473,\"y\":0.13325709104537964},\"id\":\"1691\",\"type\":\"Label\"},{\"attributes\":{\"text\":\"reassurance\",\"x\":-1.277573823928833,\"y\":-0.02648909203708172},\"id\":\"1799\",\"type\":\"Label\"},{\"attributes\":{\"text\":\"latest\",\"x\":6.213494777679443,\"y\":-0.9329327344894409},\"id\":\"1224\",\"type\":\"Label\"},{\"attributes\":{\"text\":\"tip\",\"x\":1.250397801399231,\"y\":0.379564106464386},\"id\":\"1584\",\"type\":\"Label\"},{\"attributes\":{\"text\":\"sterm\",\"x\":-1.4169472455978394,\"y\":1.52633535861969},\"id\":\"1692\",\"type\":\"Label\"},{\"attributes\":{\"text\":\"humanities\",\"x\":-1.5497872829437256,\"y\":-0.41276878118515015},\"id\":\"1800\",\"type\":\"Label\"},{\"attributes\":{\"text\":\"month\",\"x\":-0.9520555734634399,\"y\":-0.1511445939540863},\"id\":\"1225\",\"type\":\"Label\"},{\"attributes\":{\"text\":\"tamilnadu\",\"x\":2.367769718170166,\"y\":1.1558860540390015},\"id\":\"1585\",\"type\":\"Label\"},{\"attributes\":{\"text\":\"wicket\",\"x\":-0.20158261060714722,\"y\":0.9325981736183167},\"id\":\"1693\",\"type\":\"Label\"},{\"attributes\":{\"text\":\"vco\",\"x\":0.6334529519081116,\"y\":-0.9305854439735413},\"id\":\"1801\",\"type\":\"Label\"},{\"attributes\":{\"text\":\"half\",\"x\":4.065350532531738,\"y\":-2.0825412273406982},\"id\":\"1226\",\"type\":\"Label\"},{\"attributes\":{\"text\":\"ultimate\",\"x\":0.9625123739242554,\"y\":1.4944013357162476},\"id\":\"1586\",\"type\":\"Label\"},{\"attributes\":{\"text\":\"steyn\",\"x\":1.4749693870544434,\"y\":-0.15480510890483856},\"id\":\"1694\",\"type\":\"Label\"},{\"attributes\":{\"text\":\"responsibilities\",\"x\":1.435465693473816,\"y\":0.520279049873352},\"id\":\"1802\",\"type\":\"Label\"},{\"attributes\":{\"text\":\"play\",\"x\":6.989007472991943,\"y\":-1.0498220920562744},\"id\":\"1227\",\"type\":\"Label\"},{\"attributes\":{\"text\":\"marvel\",\"x\":0.6786515712738037,\"y\":-0.2794463038444519},\"id\":\"1587\",\"type\":\"Label\"},{\"attributes\":{\"text\":\"aquarius\",\"x\":-2.1603548526763916,\"y\":0.11972440034151077},\"id\":\"1695\",\"type\":\"Label\"},{\"attributes\":{\"text\":\"londn\",\"x\":-1.760693907737732,\"y\":2.0584845542907715},\"id\":\"1803\",\"type\":\"Label\"},{\"attributes\":{\"text\":\"check\",\"x\":-3.4181458950042725,\"y\":0.26165881752967834},\"id\":\"1228\",\"type\":\"Label\"},{\"attributes\":{\"text\":\"planettalkinstant\",\"x\":0.06479407846927643,\"y\":0.3959748148918152},\"id\":\"1588\",\"type\":\"Label\"},{\"attributes\":{\"text\":\"pisces\",\"x\":-0.724063515663147,\"y\":-0.786108136177063},\"id\":\"1696\",\"type\":\"Label\"},{\"attributes\":{\"text\":\"blacko\",\"x\":0.9839594960212708,\"y\":-2.060122013092041},\"id\":\"1804\",\"type\":\"Label\"},{\"attributes\":{\"text\":\"real\",\"x\":3.2297308444976807,\"y\":-3.346797227859497},\"id\":\"1229\",\"type\":\"Label\"},{\"attributes\":{\"text\":\"ofcourse\",\"x\":1.4371501207351685,\"y\":0.7798780202865601},\"id\":\"1589\",\"type\":\"Label\"},{\"attributes\":{\"text\":\"heaven\",\"x\":2.673140287399292,\"y\":3.160963296890259},\"id\":\"1697\",\"type\":\"Label\"},{\"attributes\":{\"text\":\"fassyole\",\"x\":-1.2113425731658936,\"y\":0.44044458866119385},\"id\":\"1805\",\"type\":\"Label\"},{\"attributes\":{\"text\":\"sir\",\"x\":-5.345995903015137,\"y\":0.48174431920051575},\"id\":\"1230\",\"type\":\"Label\"},{\"attributes\":{\"text\":\"bong\",\"x\":-2.787870407104492,\"y\":-2.098261833190918},\"id\":\"1590\",\"type\":\"Label\"},{\"attributes\":{\"text\":\"alaikkum\",\"x\":0.5015779137611389,\"y\":-0.62457674741745},\"id\":\"1698\",\"type\":\"Label\"},{\"attributes\":{\"text\":\"haughaighgtujhyguj\",\"x\":-0.1635749787092209,\"y\":0.3597579002380371},\"id\":\"1806\",\"type\":\"Label\"},{\"attributes\":{\"text\":\"chance\",\"x\":5.294435501098633,\"y\":-3.241907835006714},\"id\":\"1231\",\"type\":\"Label\"},{\"attributes\":{\"text\":\"rhode\",\"x\":-3.2694790363311768,\"y\":-0.12030234932899475},\"id\":\"1591\",\"type\":\"Label\"},{\"attributes\":{\"text\":\"correctly\",\"x\":2.8151159286499023,\"y\":0.6160473227500916},\"id\":\"1699\",\"type\":\"Label\"},{\"attributes\":{\"text\":\"andres\",\"x\":-2.3387491703033447,\"y\":0.7644109129905701},\"id\":\"1807\",\"type\":\"Label\"},{\"attributes\":{\"text\":\"world\",\"x\":-3.9241220951080322,\"y\":-2.375969648361206},\"id\":\"1232\",\"type\":\"Label\"},{\"attributes\":{\"text\":\"max\",\"x\":2.253211736679077,\"y\":-1.1905790567398071},\"id\":\"1592\",\"type\":\"Label\"},{\"attributes\":{\"text\":\"marandratha\",\"x\":-0.7915766835212708,\"y\":-1.0861746072769165},\"id\":\"1700\",\"type\":\"Label\"},{\"attributes\":{\"text\":\"hassling\",\"x\":-2.8461334705352783,\"y\":0.6247149109840393},\"id\":\"1808\",\"type\":\"Label\"},{\"attributes\":{\"text\":\"lar\",\"x\":-1.9144595861434937,\"y\":-0.41670724749565125},\"id\":\"1233\",\"type\":\"Label\"},{\"attributes\":{\"text\":\"motor\",\"x\":1.6239137649536133,\"y\":-0.9544882774353027},\"id\":\"1593\",\"type\":\"Label\"},{\"attributes\":{\"text\":\"rumbling\",\"x\":-0.924850583076477,\"y\":-0.8367543816566467},\"id\":\"1701\",\"type\":\"Label\"},{\"attributes\":{\"text\":\"netvision\",\"x\":5.577625751495361,\"y\":0.9990389347076416},\"id\":\"1809\",\"type\":\"Label\"},{\"attributes\":{\"text\":\"receive\",\"x\":5.686885833740234,\"y\":-0.27964678406715393},\"id\":\"1234\",\"type\":\"Label\"},{\"attributes\":{\"text\":\"yeovil\",\"x\":2.8130245208740234,\"y\":-0.9605237245559692},\"id\":\"1594\",\"type\":\"Label\"},{\"attributes\":{\"text\":\"sashimi\",\"x\":-1.512905478477478,\"y\":-1.656572699546814},\"id\":\"1702\",\"type\":\"Label\"},{\"attributes\":{\"text\":\"customersqueries\",\"x\":4.310861110687256,\"y\":0.10782358050346375},\"id\":\"1810\",\"type\":\"Label\"},{\"attributes\":{\"text\":\"word\",\"x\":6.748456001281738,\"y\":-2.1336629390716553},\"id\":\"1235\",\"type\":\"Label\"},{\"attributes\":{\"text\":\"repeating\",\"x\":0.5994981527328491,\"y\":-0.928289532661438},\"id\":\"1595\",\"type\":\"Label\"},{\"attributes\":{\"text\":\"oyster\",\"x\":-2.917940378189087,\"y\":0.10690674930810928},\"id\":\"1703\",\"type\":\"Label\"},{\"attributes\":{\"text\":\"queries\",\"x\":2.5887229442596436,\"y\":1.5805734395980835},\"id\":\"1811\",\"type\":\"Label\"},{\"attributes\":{\"text\":\"camera\",\"x\":8.036437034606934,\"y\":0.9756577014923096},\"id\":\"1236\",\"type\":\"Label\"},{\"attributes\":{\"text\":\"lecturer\",\"x\":1.7280019521713257,\"y\":0.10322627425193787},\"id\":\"1596\",\"type\":\"Label\"},{\"attributes\":{\"text\":\"adress\",\"x\":-2.2885355949401855,\"y\":-0.8981351852416992},\"id\":\"1704\",\"type\":\"Label\"},{\"attributes\":{\"text\":\"resent\",\"x\":5.864171504974365,\"y\":0.3393336534500122},\"id\":\"1812\",\"type\":\"Label\"},{\"attributes\":{\"text\":\"eat\",\"x\":-4.008285999298096,\"y\":-0.881896436214447},\"id\":\"1237\",\"type\":\"Label\"},{\"attributes\":{\"text\":\"holby\",\"x\":1.7116048336029053,\"y\":-0.1259879767894745},\"id\":\"1597\",\"type\":\"Label\"},{\"attributes\":{\"text\":\"theplace\",\"x\":-3.5549182891845703,\"y\":0.32431143522262573},\"id\":\"1705\",\"type\":\"Label\"},{\"attributes\":{\"text\":\"hoody\",\"x\":1.7665419578552246,\"y\":-0.8363993167877197},\"id\":\"1813\",\"type\":\"Label\"},{\"attributes\":{\"text\":\"awarded\",\"x\":6.398839950561523,\"y\":-0.443885862827301},\"id\":\"1238\",\"type\":\"Label\"},{\"attributes\":{\"text\":\"stressful\",\"x\":-0.6228151917457581,\"y\":-1.0138404369354248},\"id\":\"1598\",\"type\":\"Label\"},{\"attributes\":{\"text\":\"beendropping\",\"x\":-2.395101547241211,\"y\":-0.9432434439659119},\"id\":\"1706\",\"type\":\"Label\"},{\"attributes\":{\"text\":\"badass\",\"x\":1.0291519165039062,\"y\":-1.7742323875427246},\"id\":\"1814\",\"type\":\"Label\"},{\"attributes\":{\"text\":\"wanna\",\"x\":1.499716877937317,\"y\":-1.650385856628418},\"id\":\"1239\",\"type\":\"Label\"},{\"attributes\":{\"text\":\"command\",\"x\":-0.34082654118537903,\"y\":0.14385202527046204},\"id\":\"1599\",\"type\":\"Label\"},{\"attributes\":{\"text\":\"mumhas\",\"x\":2.1096408367156982,\"y\":-0.2241278737783432},\"id\":\"1707\",\"type\":\"Label\"},{\"attributes\":{\"text\":\"animation\",\"x\":2.051616668701172,\"y\":-0.30502912402153015},\"id\":\"1815\",\"type\":\"Label\"},{\"attributes\":{\"text\":\"stop\",\"x\":6.0255446434021,\"y\":-1.848648190498352},\"id\":\"1060\",\"type\":\"Label\"},{\"attributes\":{\"text\":\"test\",\"x\":-2.14900541305542,\"y\":2.155625104904175},\"id\":\"1420\",\"type\":\"Label\"},{\"attributes\":{\"text\":\"powerful\",\"x\":-3.5417730808258057,\"y\":0.43268290162086487},\"id\":\"1996\",\"type\":\"Label\"},{\"attributes\":{\"text\":\"still\",\"x\":-3.0269899368286133,\"y\":-1.5694013833999634},\"id\":\"1061\",\"type\":\"Label\"},{\"attributes\":{\"text\":\"address\",\"x\":0.7112922072410583,\"y\":1.4368067979812622},\"id\":\"1421\",\"type\":\"Label\"},{\"attributes\":{\"text\":\"breathing\",\"x\":-2.8083994388580322,\"y\":0.27672669291496277},\"id\":\"1997\",\"type\":\"Label\"},{\"attributes\":{},\"id\":\"1018\",\"type\":\"PanTool\"},{\"attributes\":{\"text\":\"back\",\"x\":0.007451566401869059,\"y\":-1.950440764427185},\"id\":\"1062\",\"type\":\"Label\"},{\"attributes\":{\"text\":\"answer\",\"x\":1.664932370185852,\"y\":0.5784627199172974},\"id\":\"1422\",\"type\":\"Label\"},{\"attributes\":{\"text\":\"bomb\",\"x\":-3.891213893890381,\"y\":-0.5360355377197266},\"id\":\"1998\",\"type\":\"Label\"},{\"attributes\":{},\"id\":\"1019\",\"type\":\"WheelZoomTool\"},{\"attributes\":{\"text\":\"reply\",\"x\":7.1753716468811035,\"y\":0.47213268280029297},\"id\":\"1063\",\"type\":\"Label\"},{\"attributes\":{\"text\":\"top\",\"x\":7.218247413635254,\"y\":-0.4420391023159027},\"id\":\"1423\",\"type\":\"Label\"},{\"attributes\":{\"text\":\"gre\",\"x\":-0.27871641516685486,\"y\":0.7337074875831604},\"id\":\"1999\",\"type\":\"Label\"},{\"attributes\":{\"overlay\":{\"id\":\"1024\"}},\"id\":\"1020\",\"type\":\"BoxZoomTool\"},{\"attributes\":{\"text\":\"dont\",\"x\":0.681010365486145,\"y\":-1.5603547096252441},\"id\":\"1064\",\"type\":\"Label\"},{\"attributes\":{\"text\":\"coz\",\"x\":-4.076132774353027,\"y\":-2.2117726802825928},\"id\":\"1424\",\"type\":\"Label\"},{\"attributes\":{\"text\":\"texas\",\"x\":-2.8311586380004883,\"y\":-0.12104224413633347},\"id\":\"2000\",\"type\":\"Label\"},{\"attributes\":{},\"id\":\"1021\",\"type\":\"SaveTool\"},{\"attributes\":{\"text\":\"mobile\",\"x\":7.839870452880859,\"y\":-1.0297071933746338},\"id\":\"1065\",\"type\":\"Label\"},{\"attributes\":{\"text\":\"nite\",\"x\":-3.662226438522339,\"y\":-0.09950640797615051},\"id\":\"1425\",\"type\":\"Label\"},{\"attributes\":{\"text\":\"carolina\",\"x\":-1.8149292469024658,\"y\":-1.0008130073547363},\"id\":\"2001\",\"type\":\"Label\"},{\"attributes\":{},\"id\":\"1022\",\"type\":\"ResetTool\"},{\"attributes\":{\"text\":\"take\",\"x\":-1.6104508638381958,\"y\":-2.275285243988037},\"id\":\"1066\",\"type\":\"Label\"},{\"attributes\":{\"text\":\"hot\",\"x\":6.337047576904297,\"y\":-0.5702135562896729},\"id\":\"1426\",\"type\":\"Label\"},{\"attributes\":{\"text\":\"north\",\"x\":-2.179105281829834,\"y\":-0.6725799441337585},\"id\":\"2002\",\"type\":\"Label\"},{\"attributes\":{},\"id\":\"1023\",\"type\":\"HelpTool\"},{\"attributes\":{\"text\":\"tell\",\"x\":-1.3304916620254517,\"y\":-1.2727118730545044},\"id\":\"1067\",\"type\":\"Label\"},{\"attributes\":{\"text\":\"hurt\",\"x\":-3.8236918449401855,\"y\":0.9224539995193481},\"id\":\"1427\",\"type\":\"Label\"},{\"attributes\":{\"text\":\"increase\",\"x\":-2.7378382682800293,\"y\":0.19010727107524872},\"id\":\"2003\",\"type\":\"Label\"},{\"attributes\":{\"text\":\"new\",\"x\":8.919028282165527,\"y\":-0.9927032589912415},\"id\":\"1068\",\"type\":\"Label\"},{\"attributes\":{\"text\":\"friendship\",\"x\":-3.3790841102600098,\"y\":0.908401370048523},\"id\":\"1428\",\"type\":\"Label\"},{\"attributes\":{\"text\":\"manageable\",\"x\":-2.258166790008545,\"y\":-0.7835339307785034},\"id\":\"2004\",\"type\":\"Label\"},{\"attributes\":{\"active_drag\":\"auto\",\"active_inspect\":\"auto\",\"active_multi\":null,\"active_scroll\":\"auto\",\"active_tap\":\"auto\",\"tools\":[{\"id\":\"1018\"},{\"id\":\"1019\"},{\"id\":\"1020\"},{\"id\":\"1021\"},{\"id\":\"1022\"},{\"id\":\"1023\"}]},\"id\":\"1025\",\"type\":\"Toolbar\"},{\"attributes\":{\"text\":\"later\",\"x\":-7.559387683868408,\"y\":-0.8141792416572571},\"id\":\"1069\",\"type\":\"Label\"},{\"attributes\":{\"text\":\"change\",\"x\":-2.204037666320801,\"y\":0.3448478877544403},\"id\":\"1429\",\"type\":\"Label\"},{\"attributes\":{\"text\":\"photoshop\",\"x\":0.17130061984062195,\"y\":0.5316690802574158},\"id\":\"2005\",\"type\":\"Label\"},{\"attributes\":{\"text\":\"pls\",\"x\":-1.0754303932189941,\"y\":5.284526824951172},\"id\":\"1070\",\"type\":\"Label\"},{\"attributes\":{\"text\":\"feeling\",\"x\":-3.197798013687134,\"y\":0.4864598214626312},\"id\":\"1430\",\"type\":\"Label\"},{\"attributes\":{\"text\":\"themes\",\"x\":-1.471867561340332,\"y\":0.9151627421379089},\"id\":\"2006\",\"type\":\"Label\"},{\"attributes\":{\"text\":\"please\",\"x\":1.4950467348098755,\"y\":1.9395121335983276},\"id\":\"1071\",\"type\":\"Label\"},{\"attributes\":{\"text\":\"either\",\"x\":3.4756805896759033,\"y\":2.587073564529419},\"id\":\"1431\",\"type\":\"Label\"},{\"attributes\":{\"text\":\"rats\",\"x\":2.1983482837677,\"y\":1.2583032846450806},\"id\":\"2007\",\"type\":\"Label\"},{\"attributes\":{\"bottom_units\":\"screen\",\"fill_alpha\":0.5,\"fill_color\":\"lightgrey\",\"left_units\":\"screen\",\"level\":\"overlay\",\"line_alpha\":1.0,\"line_color\":\"black\",\"line_dash\":[4,4],\"line_width\":2,\"right_units\":\"screen\",\"top_units\":\"screen\"},\"id\":\"1024\",\"type\":\"BoxAnnotation\"},{\"attributes\":{\"text\":\"think\",\"x\":-2.256889820098877,\"y\":1.2165703773498535},\"id\":\"1072\",\"type\":\"Label\"},{\"attributes\":{\"text\":\"sch\",\"x\":-3.3506641387939453,\"y\":-0.576023280620575},\"id\":\"1432\",\"type\":\"Label\"},{\"attributes\":{\"text\":\"maat\",\"x\":1.0439289808273315,\"y\":0.016159122809767723},\"id\":\"2008\",\"type\":\"Label\"},{\"attributes\":{\"source\":{\"id\":\"1032\"}},\"id\":\"1036\",\"type\":\"CDSView\"},{\"attributes\":{\"text\":\"farrell\",\"x\":1.2597644329071045,\"y\":0.9857702255249023},\"id\":\"1959\",\"type\":\"Label\"},{\"attributes\":{\"text\":\"week\",\"x\":5.817185401916504,\"y\":-1.2189468145370483},\"id\":\"1073\",\"type\":\"Label\"},{\"attributes\":{\"text\":\"family\",\"x\":-1.9618021249771118,\"y\":-1.8191769123077393},\"id\":\"1433\",\"type\":\"Label\"},{\"attributes\":{\"text\":\"shah\",\"x\":1.5447090864181519,\"y\":0.31320634484291077},\"id\":\"2009\",\"type\":\"Label\"},{\"attributes\":{\"text\":\"call\",\"x\":6.064891815185547,\"y\":-1.7910159826278687},\"id\":\"1037\",\"type\":\"Label\"},{\"attributes\":{\"text\":\"get\",\"x\":-0.06616264581680298,\"y\":-0.7953539490699768},\"id\":\"1038\",\"type\":\"Label\"},{\"attributes\":{\"text\":\"phone\",\"x\":5.322492599487305,\"y\":0.9248737096786499},\"id\":\"1074\",\"type\":\"Label\"},{\"attributes\":{\"text\":\"goin\",\"x\":-2.537623882293701,\"y\":0.2003534734249115},\"id\":\"1434\",\"type\":\"Label\"},{\"attributes\":{\"text\":\"phrase\",\"x\":-3.4684975147247314,\"y\":-1.2632386684417725},\"id\":\"2010\",\"type\":\"Label\"},{\"attributes\":{\"text\":\"free\",\"x\":4.782656192779541,\"y\":0.07346025109291077},\"id\":\"1039\",\"type\":\"Label\"},{\"attributes\":{\"text\":\"dear\",\"x\":-2.8722167015075684,\"y\":-0.5783464908599854},\"id\":\"1075\",\"type\":\"Label\"},{\"attributes\":{\"text\":\"hours\",\"x\":-0.3745478391647339,\"y\":-0.050269752740859985},\"id\":\"1435\",\"type\":\"Label\"},{\"attributes\":{\"text\":\"persian\",\"x\":2.8714020252227783,\"y\":0.7070144414901733},\"id\":\"2011\",\"type\":\"Label\"},{\"attributes\":{\"text\":\"well\",\"x\":-3.1061818599700928,\"y\":1.1092138290405273},\"id\":\"1076\",\"type\":\"Label\"},{\"attributes\":{\"text\":\"date\",\"x\":6.865582466125488,\"y\":0.6066535115242004},\"id\":\"1436\",\"type\":\"Label\"},{\"attributes\":{\"text\":\"chess\",\"x\":-5.934430122375488,\"y\":0.3529563844203949},\"id\":\"2012\",\"type\":\"Label\"},{\"attributes\":{\"text\":\"know\",\"x\":-1.1608185768127441,\"y\":-2.6260712146759033},\"id\":\"1040\",\"type\":\"Label\"},{\"attributes\":{\"text\":\"much\",\"x\":-2.2129809856414795,\"y\":0.7807093858718872},\"id\":\"1077\",\"type\":\"Label\"},{\"attributes\":{\"text\":\"like\",\"x\":-0.17219296097755432,\"y\":1.0920047760009766},\"id\":\"1041\",\"type\":\"Label\"},{\"attributes\":{\"text\":\"http\",\"x\":8.118515968322754,\"y\":0.8252661824226379},\"id\":\"1437\",\"type\":\"Label\"},{\"attributes\":{\"text\":\"checkmate\",\"x\":0.5901542901992798,\"y\":0.22942103445529938},\"id\":\"2013\",\"type\":\"Label\"},{\"attributes\":{\"text\":\"good\",\"x\":-4.123133659362793,\"y\":0.09748435765504837},\"id\":\"1042\",\"type\":\"Label\"},{\"attributes\":{\"text\":\"great\",\"x\":-0.11979984492063522,\"y\":3.5070159435272217},\"id\":\"1078\",\"type\":\"Label\"},{\"attributes\":{\"text\":\"bonus\",\"x\":3.8440206050872803,\"y\":-2.1391258239746094},\"id\":\"1438\",\"type\":\"Label\"},{\"attributes\":{\"text\":\"admission\",\"x\":-0.594369649887085,\"y\":0.6954603791236877},\"id\":\"2014\",\"type\":\"Label\"},{\"attributes\":{\"text\":\"got\",\"x\":-3.477842330932617,\"y\":1.4020565748214722},\"id\":\"1043\",\"type\":\"Label\"},{\"attributes\":{\"text\":\"night\",\"x\":-0.7248916029930115,\"y\":-1.0061372518539429},\"id\":\"1079\",\"type\":\"Label\"},{\"attributes\":{\"text\":\"trip\",\"x\":-2.713517427444458,\"y\":-1.8395600318908691},\"id\":\"1439\",\"type\":\"Label\"},{\"attributes\":{\"text\":\"defer\",\"x\":-0.7719237208366394,\"y\":1.3332725763320923},\"id\":\"2015\",\"type\":\"Label\"},{\"attributes\":{\"text\":\"day\",\"x\":-2.869319200515747,\"y\":0.9695698022842407},\"id\":\"1044\",\"type\":\"Label\"},{\"attributes\":{\"text\":\"claim\",\"x\":8.323888778686523,\"y\":0.6668597459793091},\"id\":\"1080\",\"type\":\"Label\"},{\"attributes\":{\"text\":\"comes\",\"x\":5.246333599090576,\"y\":-0.5328992605209351},\"id\":\"1440\",\"type\":\"Label\"},{\"attributes\":{\"text\":\"fgkslpo\",\"x\":9.644877433776855,\"y\":-0.010970528237521648},\"id\":\"2016\",\"type\":\"Label\"},{\"attributes\":{\"text\":\"come\",\"x\":-5.352919578552246,\"y\":0.43809688091278076},\"id\":\"1045\",\"type\":\"Label\"},{\"attributes\":{\"text\":\"hope\",\"x\":-2.863820791244507,\"y\":0.8255024552345276},\"id\":\"1081\",\"type\":\"Label\"},{\"attributes\":{\"text\":\"movie\",\"x\":-2.710359811782837,\"y\":0.10676053166389465},\"id\":\"1441\",\"type\":\"Label\"},{\"attributes\":{\"text\":\"fgkslpopw\",\"x\":0.37139248847961426,\"y\":1.2327135801315308},\"id\":\"2017\",\"type\":\"Label\"},{\"attributes\":{\"text\":\"time\",\"x\":-0.11071337014436722,\"y\":-3.8187408447265625},\"id\":\"1046\",\"type\":\"Label\"},{\"attributes\":{\"text\":\"hey\",\"x\":-2.6504812240600586,\"y\":-0.7360873222351074},\"id\":\"1082\",\"type\":\"Label\"},{\"attributes\":{\"text\":\"busy\",\"x\":-3.0990381240844727,\"y\":-0.4515547752380371},\"id\":\"1442\",\"type\":\"Label\"},{\"attributes\":{\"text\":\"netun\",\"x\":0.5008719563484192,\"y\":-1.4335697889328003},\"id\":\"2018\",\"type\":\"Label\"},{\"attributes\":{\"text\":\"love\",\"x\":-2.2443456649780273,\"y\":0.12906940281391144},\"id\":\"1047\",\"type\":\"Label\"},{\"attributes\":{\"text\":\"msg\",\"x\":3.5353870391845703,\"y\":-1.5651636123657227},\"id\":\"1083\",\"type\":\"Label\"},{\"attributes\":{\"text\":\"todays\",\"x\":-2.862722635269165,\"y\":-0.5810486674308777},\"id\":\"1443\",\"type\":\"Label\"},{\"attributes\":{\"text\":\"shsex\",\"x\":9.649686813354492,\"y\":-1.5440605878829956},\"id\":\"2019\",\"type\":\"Label\"},{\"attributes\":{\"text\":\"send\",\"x\":3.7882180213928223,\"y\":0.700839102268219},\"id\":\"1048\",\"type\":\"Label\"},{\"attributes\":{\"text\":\"wat\",\"x\":-2.065000534057617,\"y\":0.325789213180542},\"id\":\"1084\",\"type\":\"Label\"},{\"attributes\":{\"text\":\"order\",\"x\":5.142526626586914,\"y\":0.0010113527532666922},\"id\":\"1444\",\"type\":\"Label\"},{\"attributes\":{\"text\":\"videos\",\"x\":1.8243491649627686,\"y\":-1.5223071575164795},\"id\":\"2020\",\"type\":\"Label\"},{\"attributes\":{\"text\":\"want\",\"x\":-3.4334001541137695,\"y\":-1.3070802688598633},\"id\":\"1049\",\"type\":\"Label\"},{\"attributes\":{\"text\":\"happy\",\"x\":-3.0447475910186768,\"y\":-0.8521143794059753},\"id\":\"1085\",\"type\":\"Label\"},{\"attributes\":{\"text\":\"believe\",\"x\":0.30296590924263,\"y\":0.0038356638979166746},\"id\":\"1445\",\"type\":\"Label\"},{\"attributes\":{\"text\":\"capacity\",\"x\":-0.7141767740249634,\"y\":0.9407835006713867},\"id\":\"2021\",\"type\":\"Label\"},{\"attributes\":{\"text\":\"text\",\"x\":6.6211466789245605,\"y\":-0.3738853931427002},\"id\":\"1050\",\"type\":\"Label\"},{\"attributes\":{\"text\":\"yes\",\"x\":-2.1424245834350586,\"y\":0.5067256689071655},\"id\":\"1086\",\"type\":\"Label\"},{\"attributes\":{\"text\":\"vouchers\",\"x\":6.892299652099609,\"y\":-1.9584410190582275},\"id\":\"1446\",\"type\":\"Label\"},{\"attributes\":{\"text\":\"smaller\",\"x\":-1.2950196266174316,\"y\":-0.6125004887580872},\"id\":\"2022\",\"type\":\"Label\"},{\"attributes\":{\"text\":\"txt\",\"x\":6.62167501449585,\"y\":-1.9361120462417603},\"id\":\"1051\",\"type\":\"Label\"},{\"attributes\":{\"text\":\"make\",\"x\":-3.8755266666412354,\"y\":0.08622266352176666},\"id\":\"1087\",\"type\":\"Label\"},{\"attributes\":{\"text\":\"wid\",\"x\":-1.223578691482544,\"y\":0.25676894187927246},\"id\":\"1447\",\"type\":\"Label\"},{\"attributes\":{\"text\":\"loosing\",\"x\":-4.623886585235596,\"y\":-1.0870670080184937},\"id\":\"2023\",\"type\":\"Label\"},{\"attributes\":{\"text\":\"one\",\"x\":-1.8316045999526978,\"y\":0.660894513130188},\"id\":\"1052\",\"type\":\"Label\"},{\"attributes\":{\"text\":\"way\",\"x\":-3.8703458309173584,\"y\":-0.7615877389907837},\"id\":\"1088\",\"type\":\"Label\"},{\"attributes\":{\"text\":\"full\",\"x\":-4.483675479888916,\"y\":-0.15277770161628723},\"id\":\"1448\",\"type\":\"Label\"},{\"attributes\":{\"text\":\"situations\",\"x\":-4.327909469604492,\"y\":-0.4041464924812317},\"id\":\"2024\",\"type\":\"Label\"},{\"attributes\":{\"text\":\"going\",\"x\":-3.2914178371429443,\"y\":0.01604931615293026},\"id\":\"1053\",\"type\":\"Label\"},{\"attributes\":{\"text\":\"www\",\"x\":5.599171161651611,\"y\":-2.29314923286438},\"id\":\"1089\",\"type\":\"Label\"},{\"attributes\":{\"text\":\"calling\",\"x\":1.2766963243484497,\"y\":-2.4483871459960938},\"id\":\"1449\",\"type\":\"Label\"},{\"attributes\":{\"text\":\"predicte\",\"x\":0.9338461756706238,\"y\":0.6791161298751831},\"id\":\"2025\",\"type\":\"Label\"},{\"attributes\":{\"text\":\"need\",\"x\":-3.6674108505249023,\"y\":0.5491103529930115},\"id\":\"1054\",\"type\":\"Label\"},{\"attributes\":{\"text\":\"work\",\"x\":-3.9690122604370117,\"y\":0.809787392616272},\"id\":\"1090\",\"type\":\"Label\"},{\"attributes\":{\"text\":\"tot\",\"x\":-3.6328251361846924,\"y\":-1.628251075744629},\"id\":\"1450\",\"type\":\"Label\"},{\"attributes\":{\"text\":\"kill\",\"x\":1.480188012123108,\"y\":-0.7914533019065857},\"id\":\"2026\",\"type\":\"Label\"},{\"attributes\":{\"text\":\"home\",\"x\":-3.8876490592956543,\"y\":1.60978102684021},\"id\":\"1055\",\"type\":\"Label\"},{\"attributes\":{\"text\":\"give\",\"x\":-2.5617496967315674,\"y\":0.3814234435558319},\"id\":\"1091\",\"type\":\"Label\"},{\"attributes\":{\"text\":\"beautiful\",\"x\":-2.7820231914520264,\"y\":-0.848653256893158},\"id\":\"1451\",\"type\":\"Label\"},{\"attributes\":{\"text\":\"brb\",\"x\":2.4894423484802246,\"y\":-1.99211847782135},\"id\":\"2027\",\"type\":\"Label\"},{\"attributes\":{\"text\":\"lor\",\"x\":-2.551755666732788,\"y\":-2.436401844024658},\"id\":\"1056\",\"type\":\"Label\"},{\"attributes\":{\"text\":\"number\",\"x\":4.560699939727783,\"y\":1.8114036321640015},\"id\":\"1092\",\"type\":\"Label\"},{\"attributes\":{\"text\":\"sae\",\"x\":2.062852144241333,\"y\":-1.1396113634109497},\"id\":\"1452\",\"type\":\"Label\"},{\"attributes\":{\"text\":\"punishment\",\"x\":2.4964356422424316,\"y\":0.296816349029541},\"id\":\"2028\",\"type\":\"Label\"},{\"attributes\":{\"text\":\"today\",\"x\":-1.1931434869766235,\"y\":-1.933736801147461},\"id\":\"1057\",\"type\":\"Label\"},{\"attributes\":{\"text\":\"message\",\"x\":7.014132499694824,\"y\":0.10612410306930542},\"id\":\"1093\",\"type\":\"Label\"},{\"attributes\":{\"text\":\"lose\",\"x\":-3.635324239730835,\"y\":-1.0284467935562134},\"id\":\"1453\",\"type\":\"Label\"},{\"attributes\":{\"text\":\"poorly\",\"x\":2.289548635482788,\"y\":-1.1397099494934082},\"id\":\"2029\",\"type\":\"Label\"},{\"attributes\":{\"text\":\"sorry\",\"x\":-0.02750404365360737,\"y\":4.642152309417725},\"id\":\"1058\",\"type\":\"Label\"},{\"attributes\":{\"text\":\"prize\",\"x\":5.895620346069336,\"y\":-0.330045223236084},\"id\":\"1094\",\"type\":\"Label\"},{\"attributes\":{\"text\":\"game\",\"x\":-2.1381723880767822,\"y\":2.6960864067077637},\"id\":\"1454\",\"type\":\"Label\"},{\"attributes\":{\"text\":\"oga\",\"x\":-3.676523208618164,\"y\":-0.48776790499687195},\"id\":\"2030\",\"type\":\"Label\"},{\"attributes\":{\"text\":\"tomorrow\",\"x\":-1.3484798669815063,\"y\":3.4738471508026123},\"id\":\"1095\",\"type\":\"Label\"},{\"attributes\":{\"text\":\"see\",\"x\":1.5013538599014282,\"y\":2.911484718322754},\"id\":\"1059\",\"type\":\"Label\"},{\"attributes\":{\"text\":\"together\",\"x\":-4.458202362060547,\"y\":0.08689536899328232},\"id\":\"1455\",\"type\":\"Label\"},{\"attributes\":{\"text\":\"limping\",\"x\":0.6963291764259338,\"y\":-0.3288629651069641},\"id\":\"2031\",\"type\":\"Label\"},{\"attributes\":{\"text\":\"face\",\"x\":0.9541416764259338,\"y\":3.9623630046844482},\"id\":\"1312\",\"type\":\"Label\"},{\"attributes\":{\"text\":\"statement\",\"x\":-2.554039239883423,\"y\":-1.7143597602844238},\"id\":\"1528\",\"type\":\"Label\"},{\"attributes\":{\"text\":\"camry\",\"x\":3.588637113571167,\"y\":0.2253732532262802},\"id\":\"1888\",\"type\":\"Label\"},{\"attributes\":{\"text\":\"didnt\",\"x\":-2.0776798725128174,\"y\":0.09962943196296692},\"id\":\"1313\",\"type\":\"Label\"},{\"attributes\":{\"text\":\"expires\",\"x\":2.7038285732269287,\"y\":-0.729351282119751},\"id\":\"1529\",\"type\":\"Label\"},{\"attributes\":{\"text\":\"toyota\",\"x\":2.0019383430480957,\"y\":0.41294869780540466},\"id\":\"1889\",\"type\":\"Label\"},{\"attributes\":{\"text\":\"hour\",\"x\":-3.702199697494507,\"y\":2.448303461074829},\"id\":\"1314\",\"type\":\"Label\"},{\"attributes\":{\"text\":\"msgs\",\"x\":6.534755706787109,\"y\":0.7295817732810974},\"id\":\"1530\",\"type\":\"Label\"},{\"attributes\":{\"text\":\"freeentry\",\"x\":2.248697519302368,\"y\":-0.42627230286598206},\"id\":\"1890\",\"type\":\"Label\"},{\"attributes\":{\"text\":\"network\",\"x\":5.736051082611084,\"y\":0.2039138823747635},\"id\":\"1315\",\"type\":\"Label\"},{\"attributes\":{\"text\":\"open\",\"x\":-1.540385365486145,\"y\":-0.304888516664505},\"id\":\"1531\",\"type\":\"Label\"},{\"attributes\":{\"text\":\"travelled\",\"x\":-0.17615030705928802,\"y\":-1.4481714963912964},\"id\":\"1891\",\"type\":\"Label\"},{\"attributes\":{\"text\":\"buy\",\"x\":-2.8752458095550537,\"y\":2.830000400543213},\"id\":\"1131\",\"type\":\"Label\"},{\"attributes\":{\"text\":\"selected\",\"x\":7.254096031188965,\"y\":-0.40948548913002014},\"id\":\"1316\",\"type\":\"Label\"},{\"attributes\":{\"text\":\"whats\",\"x\":-4.766727447509766,\"y\":0.11209744960069656},\"id\":\"1532\",\"type\":\"Label\"},{\"attributes\":{\"text\":\"ayo\",\"x\":-3.4568421840667725,\"y\":1.542195439338684},\"id\":\"1892\",\"type\":\"Label\"},{\"attributes\":{\"text\":\"enough\",\"x\":2.1907806396484375,\"y\":-0.8741134405136108},\"id\":\"1317\",\"type\":\"Label\"},{\"attributes\":{\"text\":\"lots\",\"x\":-2.5293402671813965,\"y\":-0.07484710961580276},\"id\":\"1533\",\"type\":\"Label\"},{\"attributes\":{\"text\":\"punto\",\"x\":0.9595238566398621,\"y\":-0.9942718744277954},\"id\":\"1893\",\"type\":\"Label\"},{\"attributes\":{\"text\":\"thank\",\"x\":-2.0107104778289795,\"y\":-0.5223225355148315},\"id\":\"1318\",\"type\":\"Label\"},{\"attributes\":{\"text\":\"parents\",\"x\":-4.968385219573975,\"y\":0.8610591292381287},\"id\":\"1534\",\"type\":\"Label\"},{\"attributes\":{\"text\":\"baller\",\"x\":-1.036089301109314,\"y\":0.42321154475212097},\"id\":\"1894\",\"type\":\"Label\"},{\"attributes\":{\"text\":\"bus\",\"x\":-3.2460415363311768,\"y\":-0.4643138647079468},\"id\":\"1319\",\"type\":\"Label\"},{\"attributes\":{\"text\":\"carlos\",\"x\":-3.5199594497680664,\"y\":0.32317617535591125},\"id\":\"1535\",\"type\":\"Label\"},{\"attributes\":{\"text\":\"hmph\",\"x\":4.194728374481201,\"y\":0.6350998878479004},\"id\":\"1895\",\"type\":\"Label\"},{\"attributes\":{\"text\":\"looking\",\"x\":5.747934818267822,\"y\":1.795764446258545},\"id\":\"1320\",\"type\":\"Label\"},{\"attributes\":{\"text\":\"smoke\",\"x\":-3.2935848236083984,\"y\":1.2080785036087036},\"id\":\"1536\",\"type\":\"Label\"},{\"attributes\":{\"text\":\"okday\",\"x\":2.6905782222747803,\"y\":-0.8335075378417969},\"id\":\"1896\",\"type\":\"Label\"},{\"attributes\":{\"text\":\"anyway\",\"x\":-4.632999897003174,\"y\":-1.000641942024231},\"id\":\"1321\",\"type\":\"Label\"},{\"attributes\":{\"text\":\"bitching\",\"x\":-2.0940322875976562,\"y\":-1.890851616859436},\"id\":\"1537\",\"type\":\"Label\"},{\"attributes\":{\"text\":\"phony\",\"x\":3.923116445541382,\"y\":-0.9609401822090149},\"id\":\"1897\",\"type\":\"Label\"},{\"attributes\":{\"text\":\"award\",\"x\":6.8295392990112305,\"y\":-1.6071048974990845},\"id\":\"1322\",\"type\":\"Label\"},{\"attributes\":{\"text\":\"suggestions\",\"x\":-3.2418832778930664,\"y\":0.5607519745826721},\"id\":\"1538\",\"type\":\"Label\"},{\"attributes\":{\"text\":\"coulda\",\"x\":2.046884298324585,\"y\":0.6489410400390625},\"id\":\"1898\",\"type\":\"Label\"},{\"attributes\":{\"text\":\"working\",\"x\":-5.400500774383545,\"y\":-0.8282403349876404},\"id\":\"1323\",\"type\":\"Label\"},{\"attributes\":{\"text\":\"pity\",\"x\":2.8069071769714355,\"y\":-0.736436665058136},\"id\":\"1539\",\"type\":\"Label\"},{\"attributes\":{\"text\":\"rushing\",\"x\":0.7541435360908508,\"y\":-1.1401442289352417},\"id\":\"1899\",\"type\":\"Label\"},{\"attributes\":{\"text\":\"everything\",\"x\":-2.966446876525879,\"y\":2.5259006023406982},\"id\":\"1324\",\"type\":\"Label\"},{\"attributes\":{\"text\":\"salesman\",\"x\":2.312788724899292,\"y\":-0.2663135528564453},\"id\":\"1540\",\"type\":\"Label\"},{\"attributes\":{\"text\":\"dangerous\",\"x\":-4.106451511383057,\"y\":0.9527417421340942},\"id\":\"1900\",\"type\":\"Label\"},{\"attributes\":{\"text\":\"made\",\"x\":-2.18316912651062,\"y\":-2.8970694541931152},\"id\":\"1325\",\"type\":\"Label\"},{\"attributes\":{\"text\":\"lowes\",\"x\":-1.2883305549621582,\"y\":0.46004730463027954},\"id\":\"1541\",\"type\":\"Label\"},{\"attributes\":{\"text\":\"thinkthis\",\"x\":2.59578013420105,\"y\":0.43748512864112854},\"id\":\"1901\",\"type\":\"Label\"},{\"attributes\":{\"text\":\"put\",\"x\":-1.2594447135925293,\"y\":2.4878175258636475},\"id\":\"1326\",\"type\":\"Label\"},{\"attributes\":{\"text\":\"heap\",\"x\":-0.9501169919967651,\"y\":1.128627896308899},\"id\":\"1542\",\"type\":\"Label\"},{\"attributes\":{\"text\":\"barmed\",\"x\":1.7528297901153564,\"y\":0.042633555829524994},\"id\":\"1902\",\"type\":\"Label\"},{\"attributes\":{\"text\":\"fuck\",\"x\":-3.4348766803741455,\"y\":0.8300043344497681},\"id\":\"1327\",\"type\":\"Label\"},{\"attributes\":{\"text\":\"dump\",\"x\":-1.1920796632766724,\"y\":0.4869712293148041},\"id\":\"1543\",\"type\":\"Label\"},{\"attributes\":{\"text\":\"paul\",\"x\":1.806067943572998,\"y\":-1.3967869281768799},\"id\":\"1903\",\"type\":\"Label\"},{\"attributes\":{\"text\":\"wife\",\"x\":-3.333317995071411,\"y\":0.5843580961227417},\"id\":\"1328\",\"type\":\"Label\"},{\"attributes\":{\"text\":\"nmde\",\"x\":2.0351169109344482,\"y\":-1.2703042030334473},\"id\":\"1544\",\"type\":\"Label\"},{\"attributes\":{\"text\":\"jade\",\"x\":-0.8477071523666382,\"y\":-0.23250368237495422},\"id\":\"1904\",\"type\":\"Label\"},{\"attributes\":{\"text\":\"dad\",\"x\":-4.004034996032715,\"y\":-1.4329230785369873},\"id\":\"1329\",\"type\":\"Label\"},{\"attributes\":{\"text\":\"dental\",\"x\":0.6979801654815674,\"y\":-0.26925384998321533},\"id\":\"1545\",\"type\":\"Label\"},{\"attributes\":{\"text\":\"cumming\",\"x\":0.84751296043396,\"y\":0.6561753749847412},\"id\":\"1905\",\"type\":\"Label\"},{\"attributes\":{\"text\":\"afternoon\",\"x\":-2.820936918258667,\"y\":-0.5088271498680115},\"id\":\"1330\",\"type\":\"Label\"},{\"attributes\":{\"text\":\"accent\",\"x\":1.2674744129180908,\"y\":0.42124250531196594},\"id\":\"1546\",\"type\":\"Label\"},{\"attributes\":{\"text\":\"collapsed\",\"x\":-4.628546237945557,\"y\":-1.4795186519622803},\"id\":\"1906\",\"type\":\"Label\"},{\"attributes\":{\"text\":\"without\",\"x\":-3.115212917327881,\"y\":-0.8054682016372681},\"id\":\"1331\",\"type\":\"Label\"},{\"attributes\":{\"text\":\"units\",\"x\":1.3606749773025513,\"y\":-1.2353496551513672},\"id\":\"1547\",\"type\":\"Label\"},{\"attributes\":{\"text\":\"hos\",\"x\":-1.6398812532424927,\"y\":-1.4669511318206787},\"id\":\"1907\",\"type\":\"Label\"},{\"attributes\":{\"text\":\"missing\",\"x\":-1.8275483846664429,\"y\":0.3506450355052948},\"id\":\"1332\",\"type\":\"Label\"},{\"attributes\":{\"text\":\"pshew\",\"x\":0.09702300280332565,\"y\":-0.23749229311943054},\"id\":\"1548\",\"type\":\"Label\"},{\"attributes\":{\"text\":\"fund\",\"x\":6.4650559425354,\"y\":-2.6038506031036377},\"id\":\"1908\",\"type\":\"Label\"},{\"attributes\":{\"text\":\"tmr\",\"x\":-4.641817569732666,\"y\":-1.1067792177200317},\"id\":\"1333\",\"type\":\"Label\"},{\"attributes\":{\"text\":\"shud\",\"x\":2.2149105072021484,\"y\":3.8162548542022705},\"id\":\"1549\",\"type\":\"Label\"},{\"attributes\":{\"text\":\"disaster\",\"x\":6.916345596313477,\"y\":-2.040224313735962},\"id\":\"1909\",\"type\":\"Label\"},{\"attributes\":{\"text\":\"evening\",\"x\":-1.7576117515563965,\"y\":2.4424283504486084},\"id\":\"1334\",\"type\":\"Label\"},{\"attributes\":{\"text\":\"kane\",\"x\":1.2297570705413818,\"y\":4.145552158355713},\"id\":\"1550\",\"type\":\"Label\"},{\"attributes\":{\"text\":\"tsunami\",\"x\":1.1534783840179443,\"y\":0.05135871469974518},\"id\":\"1910\",\"type\":\"Label\"},{\"attributes\":{\"text\":\"collect\",\"x\":6.683401107788086,\"y\":-0.18522177636623383},\"id\":\"1335\",\"type\":\"Label\"},{\"attributes\":{\"text\":\"influx\",\"x\":2.1883647441864014,\"y\":-0.6610316038131714},\"id\":\"1551\",\"type\":\"Label\"},{\"attributes\":{\"text\":\"asian\",\"x\":0.8601561784744263,\"y\":0.8567443490028381},\"id\":\"1911\",\"type\":\"Label\"},{\"attributes\":{\"text\":\"asked\",\"x\":2.038926362991333,\"y\":1.0374622344970703},\"id\":\"1336\",\"type\":\"Label\"},{\"attributes\":{\"text\":\"sudden\",\"x\":-0.016497666016221046,\"y\":1.9772788286209106},\"id\":\"1552\",\"type\":\"Label\"},{\"attributes\":{\"text\":\"unicef\",\"x\":2.004913806915283,\"y\":-0.7615468502044678},\"id\":\"1912\",\"type\":\"Label\"},{\"attributes\":{\"text\":\"texts\",\"x\":4.4112772941589355,\"y\":-1.852916955947876},\"id\":\"1337\",\"type\":\"Label\"},{\"attributes\":{\"text\":\"barring\",\"x\":2.0862057209014893,\"y\":0.33584001660346985},\"id\":\"1553\",\"type\":\"Label\"},{\"attributes\":{\"text\":\"kaila\",\"x\":-0.5928522944450378,\"y\":0.26463261246681213},\"id\":\"1913\",\"type\":\"Label\"},{\"attributes\":{\"text\":\"town\",\"x\":3.3184640407562256,\"y\":0.8718640208244324},\"id\":\"1338\",\"type\":\"Label\"},{\"attributes\":{\"text\":\"spiritual\",\"x\":0.11383900791406631,\"y\":0.7935928106307983},\"id\":\"1554\",\"type\":\"Label\"},{\"attributes\":{\"text\":\"etlp\",\"x\":2.282900810241699,\"y\":0.6464105844497681},\"id\":\"1914\",\"type\":\"Label\"},{\"attributes\":{\"text\":\"wif\",\"x\":-2.983020544052124,\"y\":0.607825756072998},\"id\":\"1339\",\"type\":\"Label\"},{\"attributes\":{\"text\":\"cribbs\",\"x\":2.0730419158935547,\"y\":0.6686309576034546},\"id\":\"1555\",\"type\":\"Label\"},{\"attributes\":{\"text\":\"experiencehttp\",\"x\":4.215159893035889,\"y\":-1.11915922164917},\"id\":\"1915\",\"type\":\"Label\"},{\"attributes\":{\"text\":\"though\",\"x\":-3.0044610500335693,\"y\":-0.6037018895149231},\"id\":\"1340\",\"type\":\"Label\"},{\"attributes\":{\"text\":\"belt\",\"x\":-3.727761745452881,\"y\":1.3153802156448364},\"id\":\"1556\",\"type\":\"Label\"},{\"attributes\":{\"text\":\"ahhhh\",\"x\":2.9297115802764893,\"y\":-0.12473937124013901},\"id\":\"1916\",\"type\":\"Label\"},{\"attributes\":{\"text\":\"calls\",\"x\":3.732332944869995,\"y\":0.22858746349811554},\"id\":\"1341\",\"type\":\"Label\"},{\"attributes\":{\"text\":\"hat\",\"x\":-1.6814273595809937,\"y\":-2.6819849014282227},\"id\":\"1557\",\"type\":\"Label\"},{\"attributes\":{\"text\":\"stuffing\",\"x\":-1.692651629447937,\"y\":-0.10272408276796341},\"id\":\"1917\",\"type\":\"Label\"},{\"attributes\":{\"text\":\"since\",\"x\":2.1303374767303467,\"y\":4.015199661254883},\"id\":\"1342\",\"type\":\"Label\"},{\"attributes\":{\"text\":\"jumpers\",\"x\":-2.411665201187134,\"y\":-1.2215332984924316},\"id\":\"1558\",\"type\":\"Label\"},{\"attributes\":{\"text\":\"dialling\",\"x\":6.754069805145264,\"y\":1.6350090503692627},\"id\":\"1918\",\"type\":\"Label\"},{\"attributes\":{\"text\":\"came\",\"x\":-0.542421281337738,\"y\":-2.608492612838745},\"id\":\"1343\",\"type\":\"Label\"},{\"attributes\":{\"text\":\"childporn\",\"x\":-4.116196632385254,\"y\":0.6855441331863403},\"id\":\"1559\",\"type\":\"Label\"},{\"attributes\":{\"text\":\"advisors\",\"x\":5.4667863845825195,\"y\":0.8849612474441528},\"id\":\"1919\",\"type\":\"Label\"},{\"attributes\":{\"text\":\"okay\",\"x\":-1.839378833770752,\"y\":1.0529725551605225},\"id\":\"1344\",\"type\":\"Label\"},{\"attributes\":{\"text\":\"desk\",\"x\":-1.990858793258667,\"y\":3.7411272525787354},\"id\":\"1560\",\"type\":\"Label\"},{\"attributes\":{\"text\":\"trained\",\"x\":6.982211112976074,\"y\":1.5523673295974731},\"id\":\"1920\",\"type\":\"Label\"},{\"attributes\":{\"text\":\"says\",\"x\":-4.601046562194824,\"y\":0.21337512135505676},\"id\":\"1345\",\"type\":\"Label\"},{\"attributes\":{\"text\":\"mouse\",\"x\":-1.5072613954544067,\"y\":1.3573949337005615},\"id\":\"1561\",\"type\":\"Label\"},{\"attributes\":{\"text\":\"ortxt\",\"x\":-2.332401990890503,\"y\":0.6209473013877869},\"id\":\"1921\",\"type\":\"Label\"},{\"attributes\":{\"text\":\"must\",\"x\":-3.457730293273926,\"y\":1.0263988971710205},\"id\":\"1346\",\"type\":\"Label\"},{\"attributes\":{\"text\":\"bailiff\",\"x\":-0.7030830979347229,\"y\":1.0638422966003418},\"id\":\"1562\",\"type\":\"Label\"},{\"attributes\":{\"text\":\"farting\",\"x\":-3.9189181327819824,\"y\":-0.889655590057373},\"id\":\"1922\",\"type\":\"Label\"},{\"attributes\":{\"text\":\"school\",\"x\":-2.385220527648926,\"y\":0.7762090563774109},\"id\":\"1347\",\"type\":\"Label\"},{\"attributes\":{\"text\":\"servs\",\"x\":2.746304988861084,\"y\":-0.3583141267299652},\"id\":\"1563\",\"type\":\"Label\"},{\"attributes\":{\"text\":\"parties\",\"x\":4.931042671203613,\"y\":-0.3855476379394531},\"id\":\"1923\",\"type\":\"Label\"},{\"attributes\":{\"text\":\"min\",\"x\":5.157881736755371,\"y\":-1.683434247970581},\"id\":\"1132\",\"type\":\"Label\"},{\"attributes\":{\"text\":\"wish\",\"x\":2.7706050872802734,\"y\":3.612208604812622},\"id\":\"1168\",\"type\":\"Label\"},{\"attributes\":{\"text\":\"apply\",\"x\":7.362977981567383,\"y\":-0.8013431429862976},\"id\":\"1276\",\"type\":\"Label\"},{\"attributes\":{\"text\":\"ramen\",\"x\":1.8109219074249268,\"y\":-0.1394524723291397},\"id\":\"1636\",\"type\":\"Label\"},{\"attributes\":{\"text\":\"compensation\",\"x\":-0.28938841819763184,\"y\":0.8570842146873474},\"id\":\"1744\",\"type\":\"Label\"},{\"attributes\":{\"text\":\"wait\",\"x\":-3.362307548522949,\"y\":-0.28939661383628845},\"id\":\"1133\",\"type\":\"Label\"},{\"attributes\":{\"text\":\"hello\",\"x\":-2.138498544692993,\"y\":1.3223772048950195},\"id\":\"1169\",\"type\":\"Label\"},{\"attributes\":{\"text\":\"wont\",\"x\":-3.9934511184692383,\"y\":-0.36495310068130493},\"id\":\"1277\",\"type\":\"Label\"},{\"attributes\":{\"text\":\"broth\",\"x\":3.006296396255493,\"y\":-0.7640658617019653},\"id\":\"1637\",\"type\":\"Label\"},{\"attributes\":{\"text\":\"ree\",\"x\":5.214844226837158,\"y\":-2.144564151763916},\"id\":\"1745\",\"type\":\"Label\"},{\"attributes\":{\"text\":\"cant\",\"x\":-4.918503761291504,\"y\":-1.5785400867462158},\"id\":\"1134\",\"type\":\"Label\"},{\"attributes\":{\"text\":\"waiting\",\"x\":5.680605411529541,\"y\":-0.913777768611908},\"id\":\"1170\",\"type\":\"Label\"},{\"attributes\":{\"text\":\"remember\",\"x\":-4.1711506843566895,\"y\":-1.5773082971572876},\"id\":\"1278\",\"type\":\"Label\"},{\"attributes\":{\"text\":\"wocay\",\"x\":-1.8586101531982422,\"y\":-1.3018989562988281},\"id\":\"1638\",\"type\":\"Label\"},{\"attributes\":{\"text\":\"wrkin\",\"x\":2.068197727203369,\"y\":2.3489279747009277},\"id\":\"1746\",\"type\":\"Label\"},{\"attributes\":{\"text\":\"first\",\"x\":-2.399238109588623,\"y\":-0.7816644310951233},\"id\":\"1135\",\"type\":\"Label\"},{\"attributes\":{\"text\":\"fine\",\"x\":-3.1014857292175293,\"y\":2.5015676021575928},\"id\":\"1171\",\"type\":\"Label\"},{\"attributes\":{\"text\":\"maybe\",\"x\":-3.656789541244507,\"y\":-2.0149593353271484},\"id\":\"1279\",\"type\":\"Label\"},{\"attributes\":{\"text\":\"pocay\",\"x\":-0.07080832868814468,\"y\":-0.6359812021255493},\"id\":\"1639\",\"type\":\"Label\"},{\"attributes\":{\"text\":\"uploaded\",\"x\":0.4442536234855652,\"y\":-0.4553412199020386},\"id\":\"1747\",\"type\":\"Label\"},{\"attributes\":{\"text\":\"even\",\"x\":0.7715085744857788,\"y\":2.5348308086395264},\"id\":\"1136\",\"type\":\"Label\"},{\"attributes\":{\"text\":\"friend\",\"x\":1.6227401494979858,\"y\":-3.1253509521484375},\"id\":\"1172\",\"type\":\"Label\"},{\"attributes\":{\"text\":\"hear\",\"x\":5.258094787597656,\"y\":2.8825602531433105},\"id\":\"1280\",\"type\":\"Label\"},{\"attributes\":{\"text\":\"victoria\",\"x\":-2.6683850288391113,\"y\":1.3294316530227661},\"id\":\"1640\",\"type\":\"Label\"},{\"attributes\":{\"text\":\"salmon\",\"x\":0.2213887721300125,\"y\":0.7018423676490784},\"id\":\"1748\",\"type\":\"Label\"},{\"attributes\":{\"text\":\"next\",\"x\":3.385258197784424,\"y\":0.5404531955718994},\"id\":\"1137\",\"type\":\"Label\"},{\"attributes\":{\"text\":\"special\",\"x\":7.388516426086426,\"y\":-1.3271064758300781},\"id\":\"1173\",\"type\":\"Label\"},{\"attributes\":{\"text\":\"bed\",\"x\":-5.510866641998291,\"y\":-0.11081384122371674},\"id\":\"1281\",\"type\":\"Label\"},{\"attributes\":{\"text\":\"singapore\",\"x\":-2.662559747695923,\"y\":0.023205244913697243},\"id\":\"1641\",\"type\":\"Label\"},{\"attributes\":{\"text\":\"fuuuuck\",\"x\":1.723117470741272,\"y\":0.863643229007721},\"id\":\"1749\",\"type\":\"Label\"},{\"attributes\":{\"text\":\"feel\",\"x\":-4.010380744934082,\"y\":-0.9448529481887817},\"id\":\"1138\",\"type\":\"Label\"},{\"attributes\":{\"text\":\"haha\",\"x\":-2.135485887527466,\"y\":-0.32294511795043945},\"id\":\"1174\",\"type\":\"Label\"},{\"attributes\":{\"text\":\"forgot\",\"x\":-2.1141717433929443,\"y\":3.3251142501831055},\"id\":\"1282\",\"type\":\"Label\"},{\"attributes\":{\"text\":\"feed\",\"x\":-1.2568334341049194,\"y\":0.25974422693252563},\"id\":\"1642\",\"type\":\"Label\"},{\"attributes\":{\"text\":\"implications\",\"x\":-2.796751022338867,\"y\":-0.2968286871910095},\"id\":\"1750\",\"type\":\"Label\"},{\"attributes\":{\"text\":\"nice\",\"x\":-3.189364194869995,\"y\":0.026501905173063278},\"id\":\"1139\",\"type\":\"Label\"},{\"attributes\":{\"text\":\"coming\",\"x\":-3.1130027770996094,\"y\":1.2300666570663452},\"id\":\"1175\",\"type\":\"Label\"},{\"attributes\":{\"text\":\"boy\",\"x\":-3.8181934356689453,\"y\":-0.831601619720459},\"id\":\"1283\",\"type\":\"Label\"},{\"attributes\":{\"text\":\"syrup\",\"x\":-0.799126923084259,\"y\":-0.7463314533233643},\"id\":\"1643\",\"type\":\"Label\"},{\"attributes\":{\"text\":\"geoenvironmental\",\"x\":2.7238125801086426,\"y\":0.06418099254369736},\"id\":\"1751\",\"type\":\"Label\"},{\"attributes\":{\"text\":\"someone\",\"x\":3.024909019470215,\"y\":-2.1467626094818115},\"id\":\"1140\",\"type\":\"Label\"},{\"attributes\":{\"text\":\"may\",\"x\":-0.4840233325958252,\"y\":1.1964665651321411},\"id\":\"1176\",\"type\":\"Label\"},{\"attributes\":{\"text\":\"thanx\",\"x\":-1.1477165222167969,\"y\":-1.8383039236068726},\"id\":\"1284\",\"type\":\"Label\"},{\"attributes\":{\"text\":\"prometazine\",\"x\":-0.9614276885986328,\"y\":-0.17923295497894287},\"id\":\"1644\",\"type\":\"Label\"},{\"attributes\":{\"text\":\"logging\",\"x\":-0.13818451762199402,\"y\":3.401200532913208},\"id\":\"1752\",\"type\":\"Label\"},{\"attributes\":{\"text\":\"went\",\"x\":-4.532329559326172,\"y\":3.1201953887939453},\"id\":\"1141\",\"type\":\"Label\"},{\"attributes\":{\"text\":\"name\",\"x\":1.7988131046295166,\"y\":-2.4876363277435303},\"id\":\"1177\",\"type\":\"Label\"},{\"attributes\":{\"text\":\"plan\",\"x\":-4.175904273986816,\"y\":-0.49845555424690247},\"id\":\"1285\",\"type\":\"Label\"},{\"attributes\":{\"text\":\"franxx\",\"x\":0.6216254830360413,\"y\":1.06313157081604},\"id\":\"1645\",\"type\":\"Label\"},{\"attributes\":{\"text\":\"wounds\",\"x\":-2.7335972785949707,\"y\":0.9295111894607544},\"id\":\"1753\",\"type\":\"Label\"},{\"attributes\":{\"text\":\"thing\",\"x\":-4.262567520141602,\"y\":-1.343027114868164},\"id\":\"1142\",\"type\":\"Label\"},{\"attributes\":{\"text\":\"getting\",\"x\":1.6507147550582886,\"y\":0.48824796080589294},\"id\":\"1178\",\"type\":\"Label\"},{\"attributes\":{\"text\":\"shall\",\"x\":-4.6690192222595215,\"y\":-0.08574233949184418},\"id\":\"1286\",\"type\":\"Label\"},{\"attributes\":{\"text\":\"brolly\",\"x\":-0.45343858003616333,\"y\":-0.5053045749664307},\"id\":\"1646\",\"type\":\"Label\"},{\"attributes\":{\"text\":\"salt\",\"x\":-1.1826660633087158,\"y\":0.20553670823574066},\"id\":\"1754\",\"type\":\"Label\"},{\"attributes\":{\"text\":\"around\",\"x\":-2.140704870223999,\"y\":2.7835402488708496},\"id\":\"1143\",\"type\":\"Label\"},{\"attributes\":{\"text\":\"done\",\"x\":-4.759333610534668,\"y\":0.09637343883514404},\"id\":\"1179\",\"type\":\"Label\"},{\"attributes\":{\"text\":\"two\",\"x\":-0.8876785635948181,\"y\":0.26119861006736755},\"id\":\"1287\",\"type\":\"Label\"},{\"attributes\":{\"text\":\"seperated\",\"x\":-2.682835340499878,\"y\":2.0295064449310303},\"id\":\"1647\",\"type\":\"Label\"},{\"attributes\":{\"text\":\"bluray\",\"x\":-2.4176084995269775,\"y\":-0.23799176514148712},\"id\":\"1755\",\"type\":\"Label\"},{\"attributes\":{\"text\":\"soon\",\"x\":-2.7106151580810547,\"y\":0.850066602230072},\"id\":\"1144\",\"type\":\"Label\"},{\"attributes\":{\"text\":\"year\",\"x\":-1.633873462677002,\"y\":2.084930658340454},\"id\":\"1180\",\"type\":\"Label\"},{\"attributes\":{\"text\":\"minutes\",\"x\":1.551754117012024,\"y\":0.745072066783905},\"id\":\"1288\",\"type\":\"Label\"},{\"attributes\":{\"text\":\"carly\",\"x\":-0.1613924354314804,\"y\":0.7458680272102356},\"id\":\"1648\",\"type\":\"Label\"},{\"attributes\":{\"text\":\"karnan\",\"x\":-0.0038816919550299644,\"y\":-0.5180527567863464},\"id\":\"1756\",\"type\":\"Label\"},{\"attributes\":{\"text\":\"could\",\"x\":0.7867408990859985,\"y\":-1.888497233390808},\"id\":\"1145\",\"type\":\"Label\"},{\"attributes\":{\"text\":\"guaranteed\",\"x\":8.479607582092285,\"y\":-1.1035529375076294},\"id\":\"1181\",\"type\":\"Label\"},{\"attributes\":{\"text\":\"sat\",\"x\":-4.42838716506958,\"y\":-1.9372490644454956},\"id\":\"1289\",\"type\":\"Label\"},{\"attributes\":{\"text\":\"bffs\",\"x\":-2.1289212703704834,\"y\":1.1803897619247437},\"id\":\"1649\",\"type\":\"Label\"},{\"attributes\":{\"text\":\"facilities\",\"x\":0.3679828941822052,\"y\":0.6804181337356567},\"id\":\"1757\",\"type\":\"Label\"},{\"attributes\":{\"text\":\"place\",\"x\":3.4168148040771484,\"y\":2.4647343158721924},\"id\":\"1146\",\"type\":\"Label\"},{\"attributes\":{\"text\":\"yet\",\"x\":-2.4411025047302246,\"y\":0.6588355302810669},\"id\":\"1182\",\"type\":\"Label\"},{\"attributes\":{\"text\":\"actually\",\"x\":-4.323561668395996,\"y\":0.9730802178382874},\"id\":\"1290\",\"type\":\"Label\"},{\"attributes\":{\"text\":\"officer\",\"x\":1.0455573797225952,\"y\":0.3914877474308014},\"id\":\"1650\",\"type\":\"Label\"},{\"attributes\":{\"text\":\"velusamy\",\"x\":2.103461742401123,\"y\":2.0615732669830322},\"id\":\"1758\",\"type\":\"Label\"},{\"attributes\":{\"text\":\"money\",\"x\":-1.2796908617019653,\"y\":1.185542106628418},\"id\":\"1147\",\"type\":\"Label\"},{\"attributes\":{\"text\":\"people\",\"x\":-4.372457504272461,\"y\":3.8236849308013916},\"id\":\"1183\",\"type\":\"Label\"},{\"attributes\":{\"text\":\"den\",\"x\":-3.887359619140625,\"y\":0.03215115889906883},\"id\":\"1291\",\"type\":\"Label\"},{\"attributes\":{\"text\":\"counts\",\"x\":-1.9458191394805908,\"y\":-1.3386244773864746},\"id\":\"1651\",\"type\":\"Label\"},{\"attributes\":{\"text\":\"failing\",\"x\":3.2575719356536865,\"y\":1.9613409042358398},\"id\":\"1759\",\"type\":\"Label\"},{\"attributes\":{\"text\":\"service\",\"x\":9.170251846313477,\"y\":1.3722279071807861},\"id\":\"1148\",\"type\":\"Label\"},{\"attributes\":{\"text\":\"thk\",\"x\":-3.099886894226074,\"y\":-2.2094814777374268},\"id\":\"1184\",\"type\":\"Label\"},{\"attributes\":{\"text\":\"bad\",\"x\":-3.727604627609253,\"y\":-1.4006001949310303},\"id\":\"1292\",\"type\":\"Label\"},{\"attributes\":{\"text\":\"asda\",\"x\":-2.0555386543273926,\"y\":-0.004554749000817537},\"id\":\"1652\",\"type\":\"Label\"},{\"attributes\":{\"text\":\"failure\",\"x\":-0.6215322613716125,\"y\":1.5710052251815796},\"id\":\"1760\",\"type\":\"Label\"},{\"attributes\":{\"text\":\"tone\",\"x\":6.685275077819824,\"y\":-0.4136984050273895},\"id\":\"1149\",\"type\":\"Label\"},{\"attributes\":{\"text\":\"use\",\"x\":-0.7957567572593689,\"y\":-1.316861867904663},\"id\":\"1185\",\"type\":\"Label\"},{\"attributes\":{\"text\":\"princess\",\"x\":-4.535182952880859,\"y\":-0.12185747176408768},\"id\":\"1293\",\"type\":\"Label\"},{\"attributes\":{\"text\":\"yoville\",\"x\":-2.469398260116577,\"y\":0.635529637336731},\"id\":\"1653\",\"type\":\"Label\"},{\"attributes\":{\"text\":\"bawling\",\"x\":2.1760592460632324,\"y\":1.121036410331726},\"id\":\"1761\",\"type\":\"Label\"},{\"attributes\":{\"text\":\"tonight\",\"x\":-4.09726095199585,\"y\":-0.4654948115348816},\"id\":\"1150\",\"type\":\"Label\"},{\"attributes\":{\"text\":\"try\",\"x\":-2.793004035949707,\"y\":0.8176286220550537},\"id\":\"1186\",\"type\":\"Label\"},{\"attributes\":{\"text\":\"fun\",\"x\":5.061842918395996,\"y\":-2.7987723350524902},\"id\":\"1294\",\"type\":\"Label\"},{\"attributes\":{\"text\":\"ooooooh\",\"x\":1.4252701997756958,\"y\":0.14538443088531494},\"id\":\"1654\",\"type\":\"Label\"},{\"attributes\":{\"text\":\"colourful\",\"x\":-1.6038594245910645,\"y\":0.5788436532020569},\"id\":\"1762\",\"type\":\"Label\"},{\"attributes\":{\"text\":\"late\",\"x\":-4.13238525390625,\"y\":2.018587589263916},\"id\":\"1151\",\"type\":\"Label\"},{\"attributes\":{\"text\":\"heart\",\"x\":-3.4426074028015137,\"y\":-0.014896384440362453},\"id\":\"1187\",\"type\":\"Label\"},{\"attributes\":{\"text\":\"code\",\"x\":6.978057861328125,\"y\":0.08833983540534973},\"id\":\"1295\",\"type\":\"Label\"},{\"attributes\":{\"text\":\"ajith\",\"x\":-0.8478751182556152,\"y\":1.6430283784866333},\"id\":\"1655\",\"type\":\"Label\"},{\"attributes\":{\"text\":\"vibrant\",\"x\":-0.9289395809173584,\"y\":1.1173299551010132},\"id\":\"1763\",\"type\":\"Label\"},{\"attributes\":{\"text\":\"many\",\"x\":-0.037119150161743164,\"y\":-2.9990170001983643},\"id\":\"1152\",\"type\":\"Label\"},{\"attributes\":{\"text\":\"mins\",\"x\":5.578417778015137,\"y\":0.488422691822052},\"id\":\"1188\",\"type\":\"Label\"},{\"attributes\":{\"text\":\"pay\",\"x\":-3.8373806476593018,\"y\":1.5310927629470825},\"id\":\"1296\",\"type\":\"Label\"},{\"attributes\":{\"text\":\"forgt\",\"x\":-1.635806679725647,\"y\":-0.11614479869604111},\"id\":\"1656\",\"type\":\"Label\"},{\"attributes\":{\"text\":\"tranquility\",\"x\":-2.7088592052459717,\"y\":-0.052680451422929764},\"id\":\"1764\",\"type\":\"Label\"},{\"attributes\":{\"text\":\"per\",\"x\":5.52911901473999,\"y\":-0.40022844076156616},\"id\":\"1153\",\"type\":\"Label\"},{\"attributes\":{\"text\":\"thought\",\"x\":-3.5795438289642334,\"y\":0.2625122368335724},\"id\":\"1189\",\"type\":\"Label\"},{\"attributes\":{\"text\":\"left\",\"x\":-1.9577958583831787,\"y\":0.2361113429069519},\"id\":\"1297\",\"type\":\"Label\"},{\"attributes\":{\"text\":\"helps\",\"x\":-2.7736403942108154,\"y\":0.20440074801445007},\"id\":\"1657\",\"type\":\"Label\"},{\"attributes\":{\"text\":\"stability\",\"x\":-3.0562870502471924,\"y\":-0.8998416066169739},\"id\":\"1765\",\"type\":\"Label\"},{\"attributes\":{\"text\":\"customer\",\"x\":6.759815692901611,\"y\":-1.0172109603881836},\"id\":\"1154\",\"type\":\"Label\"},{\"attributes\":{\"text\":\"holiday\",\"x\":4.164575576782227,\"y\":-0.5523589849472046},\"id\":\"1190\",\"type\":\"Label\"},{\"attributes\":{\"text\":\"ringtone\",\"x\":9.083322525024414,\"y\":0.7514690160751343},\"id\":\"1298\",\"type\":\"Label\"},{\"attributes\":{\"text\":\"lands\",\"x\":1.6417597532272339,\"y\":0.0915016457438469},\"id\":\"1658\",\"type\":\"Label\"},{\"attributes\":{\"text\":\"wenever\",\"x\":-1.7910642623901367,\"y\":-1.8659275770187378},\"id\":\"1766\",\"type\":\"Label\"},{\"attributes\":{\"text\":\"gonna\",\"x\":-3.1034438610076904,\"y\":-0.070968396961689},\"id\":\"1155\",\"type\":\"Label\"},{\"attributes\":{\"text\":\"lunch\",\"x\":-3.3263442516326904,\"y\":-0.8968073129653931},\"id\":\"1191\",\"type\":\"Label\"},{\"attributes\":{\"text\":\"look\",\"x\":1.5014280080795288,\"y\":-3.3946166038513184},\"id\":\"1299\",\"type\":\"Label\"},{\"attributes\":{\"text\":\"suggestion\",\"x\":-1.9518245458602905,\"y\":-0.056868746876716614},\"id\":\"1659\",\"type\":\"Label\"},{\"attributes\":{\"text\":\"unintentionally\",\"x\":-1.8925741910934448,\"y\":-0.7986906170845032},\"id\":\"1767\",\"type\":\"Label\"},{\"attributes\":{\"text\":\"help\",\"x\":2.956045150756836,\"y\":-0.3323228061199188},\"id\":\"1156\",\"type\":\"Label\"},{\"attributes\":{\"text\":\"live\",\"x\":3.6990880966186523,\"y\":-1.8051445484161377},\"id\":\"1192\",\"type\":\"Label\"},{\"attributes\":{\"text\":\"part\",\"x\":3.0543577671051025,\"y\":-3.3236472606658936},\"id\":\"1300\",\"type\":\"Label\"},{\"attributes\":{\"text\":\"thou\",\"x\":-1.9424399137496948,\"y\":1.3152812719345093},\"id\":\"1660\",\"type\":\"Label\"},{\"attributes\":{\"text\":\"princes\",\"x\":-0.9454520344734192,\"y\":-1.9100861549377441},\"id\":\"1768\",\"type\":\"Label\"},{\"attributes\":{\"text\":\"chat\",\"x\":8.183869361877441,\"y\":-1.5078189373016357},\"id\":\"1157\",\"type\":\"Label\"},{\"attributes\":{\"text\":\"man\",\"x\":-2.120516061782837,\"y\":-1.9520753622055054},\"id\":\"1193\",\"type\":\"Label\"},{\"attributes\":{\"text\":\"easy\",\"x\":-0.0973217636346817,\"y\":-0.6293590664863586},\"id\":\"1301\",\"type\":\"Label\"},{\"attributes\":{\"text\":\"dreading\",\"x\":-3.266754388809204,\"y\":1.042008638381958},\"id\":\"1661\",\"type\":\"Label\"},{\"attributes\":{\"text\":\"helens\",\"x\":-3.302403450012207,\"y\":-0.5890822410583496},\"id\":\"1769\",\"type\":\"Label\"},{\"attributes\":{\"text\":\"sleep\",\"x\":-4.319253444671631,\"y\":-0.8889917731285095},\"id\":\"1158\",\"type\":\"Label\"},{\"attributes\":{\"text\":\"best\",\"x\":-0.8531402945518494,\"y\":-0.3960746228694916},\"id\":\"1194\",\"type\":\"Label\"},{\"attributes\":{\"text\":\"reach\",\"x\":-3.0685079097747803,\"y\":0.20901957154273987},\"id\":\"1302\",\"type\":\"Label\"},{\"attributes\":{\"text\":\"maintaining\",\"x\":-3.149394989013672,\"y\":0.009220772422850132},\"id\":\"1662\",\"type\":\"Label\"},{\"attributes\":{\"text\":\"turkeys\",\"x\":-0.571541965007782,\"y\":-2.0299782752990723},\"id\":\"1770\",\"type\":\"Label\"},{\"attributes\":{\"text\":\"always\",\"x\":-4.156671047210693,\"y\":1.8135573863983154},\"id\":\"1159\",\"type\":\"Label\"},{\"attributes\":{\"text\":\"god\",\"x\":-4.478281497955322,\"y\":0.07488184422254562},\"id\":\"1195\",\"type\":\"Label\"},{\"attributes\":{\"text\":\"shopping\",\"x\":5.8648247718811035,\"y\":-0.22274361550807953},\"id\":\"1303\",\"type\":\"Label\"},{\"attributes\":{\"text\":\"squeezed\",\"x\":1.1209132671356201,\"y\":-0.48693758249282837},\"id\":\"1663\",\"type\":\"Label\"},{\"attributes\":{\"text\":\"patients\",\"x\":-0.919251024723053,\"y\":-0.26647427678108215},\"id\":\"1771\",\"type\":\"Label\"},{\"attributes\":{\"text\":\"sms\",\"x\":5.149956703186035,\"y\":0.748261570930481},\"id\":\"1160\",\"type\":\"Label\"},{\"attributes\":{\"text\":\"talk\",\"x\":3.014437198638916,\"y\":-1.1808196306228638},\"id\":\"1196\",\"type\":\"Label\"},{\"attributes\":{\"text\":\"baby\",\"x\":-1.848807692527771,\"y\":-0.00030556402634829283},\"id\":\"1304\",\"type\":\"Label\"},{\"attributes\":{\"text\":\"spacebucks\",\"x\":-2.260079860687256,\"y\":0.42414936423301697},\"id\":\"1664\",\"type\":\"Label\"},{\"attributes\":{\"text\":\"unlike\",\"x\":2.240528106689453,\"y\":-1.2901935577392578},\"id\":\"1772\",\"type\":\"Label\"},{\"attributes\":{\"text\":\"leave\",\"x\":-3.7032408714294434,\"y\":0.4641554653644562},\"id\":\"1161\",\"type\":\"Label\"},{\"attributes\":{\"text\":\"stuff\",\"x\":1.139124870300293,\"y\":0.8389530777931213},\"id\":\"1197\",\"type\":\"Label\"},{\"attributes\":{\"text\":\"dunno\",\"x\":-4.767119884490967,\"y\":-0.6396362781524658},\"id\":\"1305\",\"type\":\"Label\"},{\"attributes\":{\"text\":\"psp\",\"x\":0.1399594396352768,\"y\":0.27773165702819824},\"id\":\"1665\",\"type\":\"Label\"},{\"attributes\":{\"text\":\"owed\",\"x\":2.855372428894043,\"y\":0.6727110743522644},\"id\":\"1773\",\"type\":\"Label\"},{\"attributes\":{\"text\":\"dun\",\"x\":-3.623274326324463,\"y\":-0.5738036632537842},\"id\":\"1162\",\"type\":\"Label\"},{\"attributes\":{\"text\":\"class\",\"x\":0.8652790188789368,\"y\":2.250756025314331},\"id\":\"1198\",\"type\":\"Label\"},{\"attributes\":{\"text\":\"orange\",\"x\":0.197019562125206,\"y\":-0.45537540316581726},\"id\":\"1306\",\"type\":\"Label\"},{\"attributes\":{\"text\":\"pause\",\"x\":7.156198501586914,\"y\":0.39702028036117554},\"id\":\"1666\",\"type\":\"Label\"},{\"attributes\":{\"text\":\"diapers\",\"x\":3.3872010707855225,\"y\":0.5974646806716919},\"id\":\"1774\",\"type\":\"Label\"},{\"attributes\":{\"text\":\"friends\",\"x\":-1.2558752298355103,\"y\":2.3819236755371094},\"id\":\"1163\",\"type\":\"Label\"},{\"attributes\":{\"text\":\"smile\",\"x\":-2.4961066246032715,\"y\":0.7754107117652893},\"id\":\"1199\",\"type\":\"Label\"},{\"attributes\":{\"text\":\"office\",\"x\":-6.606721878051758,\"y\":-1.0545134544372559},\"id\":\"1307\",\"type\":\"Label\"},{\"attributes\":{\"text\":\"leading\",\"x\":8.501375198364258,\"y\":-0.2978852391242981},\"id\":\"1667\",\"type\":\"Label\"},{\"attributes\":{\"text\":\"changing\",\"x\":3.5542709827423096,\"y\":-0.06521809101104736},\"id\":\"1775\",\"type\":\"Label\"},{\"attributes\":{\"text\":\"gud\",\"x\":-2.6434195041656494,\"y\":-0.3171871602535248},\"id\":\"1164\",\"type\":\"Label\"},{\"attributes\":{\"text\":\"draw\",\"x\":6.860063076019287,\"y\":-3.2590701580047607},\"id\":\"1200\",\"type\":\"Label\"},{\"attributes\":{\"text\":\"kiss\",\"x\":-2.578076124191284,\"y\":-1.4389222860336304},\"id\":\"1308\",\"type\":\"Label\"},{\"attributes\":{\"text\":\"helping\",\"x\":-3.212857246398926,\"y\":-1.8812483549118042},\"id\":\"1668\",\"type\":\"Label\"},{\"attributes\":{\"text\":\"bennys\",\"x\":2.959421396255493,\"y\":-1.192789912223816},\"id\":\"1776\",\"type\":\"Label\"},{\"attributes\":{\"text\":\"wan\",\"x\":-2.2691097259521484,\"y\":0.20133328437805176},\"id\":\"1165\",\"type\":\"Label\"},{\"attributes\":{\"text\":\"days\",\"x\":6.88652229309082,\"y\":1.8615894317626953},\"id\":\"1201\",\"type\":\"Label\"},{\"attributes\":{\"text\":\"dis\",\"x\":0.08577246218919754,\"y\":3.304964542388916},\"id\":\"1309\",\"type\":\"Label\"},{\"attributes\":{\"text\":\"sane\",\"x\":-2.6180834770202637,\"y\":-1.4607701301574707},\"id\":\"1669\",\"type\":\"Label\"},{\"attributes\":{\"text\":\"frankie\",\"x\":0.3923201858997345,\"y\":0.9036189913749695},\"id\":\"1777\",\"type\":\"Label\"},{\"attributes\":{\"text\":\"things\",\"x\":-1.0567678213119507,\"y\":1.3502517938613892},\"id\":\"1166\",\"type\":\"Label\"},{\"attributes\":{\"text\":\"yup\",\"x\":1.486919641494751,\"y\":-2.9623615741729736},\"id\":\"1202\",\"type\":\"Label\"},{\"attributes\":{\"text\":\"little\",\"x\":2.5878002643585205,\"y\":-0.5449365973472595},\"id\":\"1310\",\"type\":\"Label\"},{\"attributes\":{\"text\":\"coincidence\",\"x\":7.695592880249023,\"y\":-0.685126543045044},\"id\":\"1670\",\"type\":\"Label\"},{\"attributes\":{\"text\":\"pubs\",\"x\":2.562973976135254,\"y\":0.3597274422645569},\"id\":\"1778\",\"type\":\"Label\"},{\"attributes\":{\"text\":\"told\",\"x\":-1.911575436592102,\"y\":1.6796269416809082},\"id\":\"1167\",\"type\":\"Label\"},{\"attributes\":{\"text\":\"trying\",\"x\":2.301069974899292,\"y\":-1.139694333076477},\"id\":\"1203\",\"type\":\"Label\"},{\"attributes\":{\"text\":\"leh\",\"x\":-2.793789863586426,\"y\":-1.1168808937072754},\"id\":\"1311\",\"type\":\"Label\"},{\"attributes\":{\"text\":\"dept\",\"x\":6.739198207855225,\"y\":0.5210352540016174},\"id\":\"1671\",\"type\":\"Label\"},{\"attributes\":{\"text\":\"grocers\",\"x\":-3.9828617572784424,\"y\":1.022977590560913},\"id\":\"1779\",\"type\":\"Label\"},{\"attributes\":{\"text\":\"okie\",\"x\":-3.3421502113342285,\"y\":0.7636951804161072},\"id\":\"1492\",\"type\":\"Label\"},{\"attributes\":{\"text\":\"hmmmm\",\"x\":1.7842228412628174,\"y\":-0.6463071703910828},\"id\":\"1600\",\"type\":\"Label\"},{\"attributes\":{\"text\":\"mustprovide\",\"x\":7.073421001434326,\"y\":-1.307891607284546},\"id\":\"1852\",\"type\":\"Label\"},{\"attributes\":{\"text\":\"colin\",\"x\":2.595334529876709,\"y\":0.7146669030189514},\"id\":\"1960\",\"type\":\"Label\"},{\"attributes\":{\"text\":\"post\",\"x\":-4.209624290466309,\"y\":-0.47342240810394287},\"id\":\"1493\",\"type\":\"Label\"},{\"attributes\":{\"text\":\"negative\",\"x\":-2.3494255542755127,\"y\":-0.5848053097724915},\"id\":\"1601\",\"type\":\"Label\"},{\"attributes\":{\"text\":\"accommodationvouchers\",\"x\":2.6642279624938965,\"y\":-1.3799607753753662},\"id\":\"1853\",\"type\":\"Label\"},{\"attributes\":{\"text\":\"fold\",\"x\":1.5272091627120972,\"y\":0.5054750442504883},\"id\":\"1961\",\"type\":\"Label\"},{\"attributes\":{\"text\":\"row\",\"x\":-0.8149065971374512,\"y\":-0.16684402525424957},\"id\":\"1494\",\"type\":\"Label\"},{\"attributes\":{\"text\":\"positive\",\"x\":-1.5018543004989624,\"y\":-0.2295149564743042},\"id\":\"1602\",\"type\":\"Label\"},{\"attributes\":{\"text\":\"mumbai\",\"x\":-2.6748054027557373,\"y\":-0.28541824221611023},\"id\":\"1854\",\"type\":\"Label\"},{\"attributes\":{\"text\":\"ritten\",\"x\":3.6624271869659424,\"y\":1.1026725769042969},\"id\":\"1962\",\"type\":\"Label\"},{\"attributes\":{\"text\":\"poly\",\"x\":4.32932186126709,\"y\":-0.23521026968955994},\"id\":\"1495\",\"type\":\"Label\"},{\"attributes\":{\"text\":\"ringtone\\u00e5\\u00e1\",\"x\":2.3528475761413574,\"y\":-0.8963348269462585},\"id\":\"1603\",\"type\":\"Label\"},{\"attributes\":{\"text\":\"mtnl\",\"x\":-2.805689811706543,\"y\":-0.7419206500053406},\"id\":\"1855\",\"type\":\"Label\"},{\"attributes\":{\"text\":\"taka\",\"x\":0.8064975142478943,\"y\":2.243621826171875},\"id\":\"1963\",\"type\":\"Label\"},{\"attributes\":{\"text\":\"head\",\"x\":-4.027243137359619,\"y\":3.261648416519165},\"id\":\"1496\",\"type\":\"Label\"},{\"attributes\":{\"text\":\"true\\u00e5\\u00e1c\",\"x\":2.4839820861816406,\"y\":0.9959971904754639},\"id\":\"1604\",\"type\":\"Label\"},{\"attributes\":{\"text\":\"onwords\",\"x\":-2.6877362728118896,\"y\":-1.3897312879562378},\"id\":\"1856\",\"type\":\"Label\"},{\"attributes\":{\"text\":\"tallahassee\",\"x\":0.38862836360931396,\"y\":-0.37790217995643616},\"id\":\"1964\",\"type\":\"Label\"},{\"attributes\":{\"text\":\"thinking\",\"x\":-3.003931999206543,\"y\":2.0666377544403076},\"id\":\"1497\",\"type\":\"Label\"},{\"attributes\":{\"text\":\"treasure\",\"x\":-1.105760931968689,\"y\":-1.7381868362426758},\"id\":\"1605\",\"type\":\"Label\"},{\"attributes\":{\"text\":\"skyving\",\"x\":4.542937278747559,\"y\":-1.2373722791671753},\"id\":\"1857\",\"type\":\"Label\"},{\"attributes\":{\"text\":\"wrenching\",\"x\":-1.909166932106018,\"y\":-0.1551065593957901},\"id\":\"1965\",\"type\":\"Label\"},{\"attributes\":{\"text\":\"simple\",\"x\":-2.40069842338562,\"y\":-0.42660483717918396},\"id\":\"1498\",\"type\":\"Label\"},{\"attributes\":{\"text\":\"gamb\",\"x\":4.274261474609375,\"y\":1.4112603664398193},\"id\":\"1606\",\"type\":\"Label\"},{\"attributes\":{\"text\":\"loneliness\",\"x\":-1.9678528308868408,\"y\":-1.29274320602417},\"id\":\"1858\",\"type\":\"Label\"},{\"attributes\":{\"text\":\"gut\",\"x\":-2.9489595890045166,\"y\":-0.5944159030914307},\"id\":\"1966\",\"type\":\"Label\"},{\"attributes\":{\"text\":\"pics\",\"x\":5.448975086212158,\"y\":-2.6002676486968994},\"id\":\"1499\",\"type\":\"Label\"},{\"attributes\":{\"text\":\"belong\",\"x\":1.3502287864685059,\"y\":1.291578769683838},\"id\":\"1607\",\"type\":\"Label\"},{\"attributes\":{\"text\":\"watched\",\"x\":-0.03792252391576767,\"y\":-0.5733237862586975},\"id\":\"1859\",\"type\":\"Label\"},{\"attributes\":{\"text\":\"uses\",\"x\":-1.3239037990570068,\"y\":0.42912721633911133},\"id\":\"1967\",\"type\":\"Label\"},{\"attributes\":{\"text\":\"mum\",\"x\":-3.1606664657592773,\"y\":-0.22290869057178497},\"id\":\"1500\",\"type\":\"Label\"},{\"attributes\":{\"text\":\"gyno\",\"x\":0.9755027890205383,\"y\":-0.01898821070790291},\"id\":\"1608\",\"type\":\"Label\"},{\"attributes\":{\"text\":\"guides\",\"x\":0.7773325443267822,\"y\":-1.1331943273544312},\"id\":\"1860\",\"type\":\"Label\"},{\"attributes\":{\"text\":\"beatings\",\"x\":-1.0191761255264282,\"y\":-0.16411057114601135},\"id\":\"1968\",\"type\":\"Label\"},{\"attributes\":{\"text\":\"email\",\"x\":-4.696749210357666,\"y\":0.7850547432899475},\"id\":\"1501\",\"type\":\"Label\"},{\"attributes\":{\"text\":\"org\",\"x\":6.6714935302734375,\"y\":0.1768045872449875},\"id\":\"1609\",\"type\":\"Label\"},{\"attributes\":{\"text\":\"opener\",\"x\":-0.03856337070465088,\"y\":-0.21798166632652283},\"id\":\"1861\",\"type\":\"Label\"},{\"attributes\":{\"text\":\"device\",\"x\":-1.1623197793960571,\"y\":-0.45756658911705017},\"id\":\"1969\",\"type\":\"Label\"},{\"attributes\":{\"text\":\"rite\",\"x\":-3.871006727218628,\"y\":0.36579275131225586},\"id\":\"1502\",\"type\":\"Label\"},{\"attributes\":{\"text\":\"shortbreaks\",\"x\":5.219414710998535,\"y\":-0.6425808668136597},\"id\":\"1610\",\"type\":\"Label\"},{\"attributes\":{\"text\":\"liver\",\"x\":-2.78513503074646,\"y\":-2.3513081073760986},\"id\":\"1862\",\"type\":\"Label\"},{\"attributes\":{\"text\":\"chastity\",\"x\":-0.3590050935745239,\"y\":-2.39776611328125},\"id\":\"1970\",\"type\":\"Label\"},{\"attributes\":{\"text\":\"pic\",\"x\":4.547408103942871,\"y\":-1.8129299879074097},\"id\":\"1503\",\"type\":\"Label\"},{\"attributes\":{\"text\":\"breaks\",\"x\":7.306179046630859,\"y\":-0.21891354024410248},\"id\":\"1611\",\"type\":\"Label\"},{\"attributes\":{\"text\":\"younger\",\"x\":-0.38221752643585205,\"y\":-0.3922017812728882},\"id\":\"1863\",\"type\":\"Label\"},{\"attributes\":{\"text\":\"exposed\",\"x\":2.1153345108032227,\"y\":-0.7521601915359497},\"id\":\"1971\",\"type\":\"Label\"},{\"attributes\":{\"text\":\"available\",\"x\":-2.357680320739746,\"y\":0.771369993686676},\"id\":\"1504\",\"type\":\"Label\"},{\"attributes\":{\"text\":\"sparkling\",\"x\":5.3613457679748535,\"y\":-0.42364466190338135},\"id\":\"1612\",\"type\":\"Label\"},{\"attributes\":{\"text\":\"natalie\",\"x\":1.9924943447113037,\"y\":0.20863421261310577},\"id\":\"1864\",\"type\":\"Label\"},{\"attributes\":{\"text\":\"gynae\",\"x\":1.0473623275756836,\"y\":1.3306243419647217},\"id\":\"1972\",\"type\":\"Label\"},{\"attributes\":{\"text\":\"final\",\"x\":7.064661026000977,\"y\":-1.9795840978622437},\"id\":\"1505\",\"type\":\"Label\"},{\"attributes\":{\"text\":\"revealing\",\"x\":-2.8638668060302734,\"y\":-0.8772476315498352},\"id\":\"1613\",\"type\":\"Label\"},{\"attributes\":{\"text\":\"preponed\",\"x\":-3.1760780811309814,\"y\":-0.5512241125106812},\"id\":\"1865\",\"type\":\"Label\"},{\"attributes\":{\"text\":\"abdomen\",\"x\":2.784320592880249,\"y\":-0.02910805679857731},\"id\":\"1973\",\"type\":\"Label\"},{\"attributes\":{\"text\":\"tho\",\"x\":-3.0751726627349854,\"y\":1.0659327507019043},\"id\":\"1506\",\"type\":\"Label\"},{\"attributes\":{\"text\":\"boobs\",\"x\":-1.31949782371521,\"y\":-0.12780030071735382},\"id\":\"1614\",\"type\":\"Label\"},{\"attributes\":{\"text\":\"clarify\",\"x\":-1.878987193107605,\"y\":-0.2895243167877197},\"id\":\"1866\",\"type\":\"Label\"},{\"attributes\":{\"text\":\"antibiotic\",\"x\":2.180192232131958,\"y\":-0.3420928120613098},\"id\":\"1974\",\"type\":\"Label\"},{\"attributes\":{\"text\":\"forget\",\"x\":4.619902610778809,\"y\":-1.7028733491897583},\"id\":\"1507\",\"type\":\"Label\"},{\"attributes\":{\"text\":\"chick\",\"x\":-0.24693550169467926,\"y\":-0.7495847344398499},\"id\":\"1615\",\"type\":\"Label\"},{\"attributes\":{\"text\":\"stage\",\"x\":-1.3238940238952637,\"y\":-0.6540808081626892},\"id\":\"1867\",\"type\":\"Label\"},{\"attributes\":{\"text\":\"lists\",\"x\":-3.2637009620666504,\"y\":0.37075361609458923},\"id\":\"1975\",\"type\":\"Label\"},{\"attributes\":{\"text\":\"second\",\"x\":-3.700563430786133,\"y\":-0.20896632969379425},\"id\":\"1508\",\"type\":\"Label\"},{\"attributes\":{\"text\":\"guidance\",\"x\":0.7404384016990662,\"y\":1.0111699104309082},\"id\":\"1616\",\"type\":\"Label\"},{\"attributes\":{\"text\":\"perumbavoor\",\"x\":-1.9805861711502075,\"y\":-0.4330909550189972},\"id\":\"1868\",\"type\":\"Label\"},{\"attributes\":{\"text\":\"differences\",\"x\":-2.655423641204834,\"y\":-0.41233721375465393},\"id\":\"1976\",\"type\":\"Label\"},{\"attributes\":{\"text\":\"close\",\"x\":-3.1314053535461426,\"y\":0.3455677330493927},\"id\":\"1509\",\"type\":\"Label\"},{\"attributes\":{\"text\":\"require\",\"x\":0.8513351678848267,\"y\":-0.4993140697479248},\"id\":\"1617\",\"type\":\"Label\"},{\"attributes\":{\"text\":\"dudette\",\"x\":-1.2355403900146484,\"y\":-1.3675999641418457},\"id\":\"1869\",\"type\":\"Label\"},{\"attributes\":{\"text\":\"characters\",\"x\":-2.1023664474487305,\"y\":-0.4161720275878906},\"id\":\"1977\",\"type\":\"Label\"},{\"attributes\":{\"text\":\"cause\",\"x\":-4.0843987464904785,\"y\":0.9123114347457886},\"id\":\"1510\",\"type\":\"Label\"},{\"attributes\":{\"text\":\"choosing\",\"x\":1.7960216999053955,\"y\":0.20496444404125214},\"id\":\"1618\",\"type\":\"Label\"},{\"attributes\":{\"text\":\"approved\",\"x\":-1.0017144680023193,\"y\":-2.0001072883605957},\"id\":\"1870\",\"type\":\"Label\"},{\"attributes\":{\"text\":\"happiest\",\"x\":-2.9612884521484375,\"y\":-0.8403396010398865},\"id\":\"1978\",\"type\":\"Label\"},{\"attributes\":{\"text\":\"services\",\"x\":5.8662109375,\"y\":0.8943836688995361},\"id\":\"1511\",\"type\":\"Label\"},{\"attributes\":{\"text\":\"navigate\",\"x\":1.7907224893569946,\"y\":-1.742007851600647},\"id\":\"1619\",\"type\":\"Label\"},{\"attributes\":{\"text\":\"adsense\",\"x\":-0.8340783715248108,\"y\":1.0502716302871704},\"id\":\"1871\",\"type\":\"Label\"},{\"attributes\":{\"text\":\"hmmross\",\"x\":4.0458455085754395,\"y\":-5.188199520111084},\"id\":\"1979\",\"type\":\"Label\"},{\"attributes\":{\"text\":\"taking\",\"x\":-3.9640886783599854,\"y\":-1.7867674827575684},\"id\":\"1512\",\"type\":\"Label\"},{\"attributes\":{\"text\":\"cops\",\"x\":5.93910026550293,\"y\":2.0776476860046387},\"id\":\"1620\",\"type\":\"Label\"},{\"attributes\":{\"text\":\"inconvenient\",\"x\":-1.0394136905670166,\"y\":0.2348998486995697},\"id\":\"1872\",\"type\":\"Label\"},{\"attributes\":{\"text\":\"lyricalladie\",\"x\":2.1654717922210693,\"y\":-4.015573978424072},\"id\":\"1980\",\"type\":\"Label\"},{\"attributes\":{\"text\":\"everyone\",\"x\":-1.634421944618225,\"y\":0.47563865780830383},\"id\":\"1513\",\"type\":\"Label\"},{\"attributes\":{\"text\":\"stolen\",\"x\":7.441501617431641,\"y\":-2.0237748622894287},\"id\":\"1621\",\"type\":\"Label\"},{\"attributes\":{\"text\":\"darkest\",\"x\":3.865475654602051,\"y\":-1.9295144081115723},\"id\":\"1873\",\"type\":\"Label\"},{\"attributes\":{\"text\":\"dip\",\"x\":2.242093086242676,\"y\":-0.42684754729270935},\"id\":\"1981\",\"type\":\"Label\"},{\"attributes\":{\"text\":\"wil\",\"x\":-4.640761852264404,\"y\":0.259322851896286},\"id\":\"1514\",\"type\":\"Label\"},{\"attributes\":{\"text\":\"toilet\",\"x\":9.029565811157227,\"y\":-2.0999033451080322},\"id\":\"1622\",\"type\":\"Label\"},{\"attributes\":{\"text\":\"deepest\",\"x\":-1.0659180879592896,\"y\":-1.759488582611084},\"id\":\"1874\",\"type\":\"Label\"},{\"attributes\":{\"text\":\"joker\",\"x\":1.9181371927261353,\"y\":4.22161340713501},\"id\":\"1982\",\"type\":\"Label\"},{\"attributes\":{\"text\":\"angry\",\"x\":-2.5733373165130615,\"y\":0.5832318663597107},\"id\":\"1515\",\"type\":\"Label\"},{\"attributes\":{\"text\":\"pendent\",\"x\":-2.923283338546753,\"y\":0.8425512313842773},\"id\":\"1623\",\"type\":\"Label\"},{\"attributes\":{\"text\":\"crossing\",\"x\":-1.42661452293396,\"y\":-0.8692272901535034},\"id\":\"1875\",\"type\":\"Label\"},{\"attributes\":{\"text\":\"decent\",\"x\":3.1945016384124756,\"y\":3.284438371658325},\"id\":\"1983\",\"type\":\"Label\"},{\"attributes\":{\"text\":\"unsubscribe\",\"x\":4.374655723571777,\"y\":0.8897861242294312},\"id\":\"1516\",\"type\":\"Label\"},{\"attributes\":{\"text\":\"efreefone\",\"x\":2.157243490219116,\"y\":-0.4589216113090515},\"id\":\"1624\",\"type\":\"Label\"},{\"attributes\":{\"text\":\"meg\",\"x\":5.1913065910339355,\"y\":-0.1914955973625183},\"id\":\"1876\",\"type\":\"Label\"},{\"attributes\":{\"text\":\"cruel\",\"x\":2.8586487770080566,\"y\":-0.14797818660736084},\"id\":\"1984\",\"type\":\"Label\"},{\"attributes\":{\"text\":\"lets\",\"x\":6.423617839813232,\"y\":2.33772349357605},\"id\":\"1517\",\"type\":\"Label\"},{\"attributes\":{\"text\":\"legitimat\",\"x\":1.2424736022949219,\"y\":0.9678849577903748},\"id\":\"1625\",\"type\":\"Label\"},{\"attributes\":{\"text\":\"noise\",\"x\":-0.005010605789721012,\"y\":-1.7517632246017456},\"id\":\"1877\",\"type\":\"Label\"},{\"attributes\":{\"text\":\"terror\",\"x\":1.1554290056228638,\"y\":-1.7256762981414795},\"id\":\"1985\",\"type\":\"Label\"},{\"attributes\":{\"text\":\"drink\",\"x\":-4.17115592956543,\"y\":0.3135307729244232},\"id\":\"1518\",\"type\":\"Label\"},{\"attributes\":{\"text\":\"shrub\",\"x\":-1.887953519821167,\"y\":-0.5776408314704895},\"id\":\"1626\",\"type\":\"Label\"},{\"attributes\":{\"text\":\"puppy\",\"x\":-0.37742602825164795,\"y\":-0.738645613193512},\"id\":\"1878\",\"type\":\"Label\"},{\"attributes\":{\"text\":\"swashbuckling\",\"x\":-3.037864923477173,\"y\":-2.283501386642456},\"id\":\"1986\",\"type\":\"Label\"},{\"attributes\":{\"text\":\"land\",\"x\":6.439897060394287,\"y\":0.8852819204330444},\"id\":\"1519\",\"type\":\"Label\"},{\"attributes\":{\"text\":\"foregate\",\"x\":-1.2330023050308228,\"y\":-0.3010985851287842},\"id\":\"1627\",\"type\":\"Label\"},{\"attributes\":{\"text\":\"n\\u00ec\\u00e2te\",\"x\":1.3105852603912354,\"y\":-0.5819990634918213},\"id\":\"1879\",\"type\":\"Label\"},{\"attributes\":{\"text\":\"rents\",\"x\":1.342252254486084,\"y\":-0.8310094475746155},\"id\":\"1987\",\"type\":\"Label\"},{\"attributes\":{\"text\":\"mine\",\"x\":-4.1112380027771,\"y\":0.08399263024330139},\"id\":\"1520\",\"type\":\"Label\"},{\"attributes\":{\"text\":\"worc\",\"x\":-0.08205319195985794,\"y\":1.0740612745285034},\"id\":\"1628\",\"type\":\"Label\"},{\"attributes\":{\"text\":\"mountains\",\"x\":0.6379071474075317,\"y\":-0.46570345759391785},\"id\":\"1880\",\"type\":\"Label\"},{\"attributes\":{\"text\":\"couch\",\"x\":1.178394079208374,\"y\":0.574962317943573},\"id\":\"1988\",\"type\":\"Label\"},{\"attributes\":{\"text\":\"neva\",\"x\":-3.0716190338134766,\"y\":-0.3616288900375366},\"id\":\"1521\",\"type\":\"Label\"},{\"attributes\":{\"text\":\"youdoing\",\"x\":-1.6475625038146973,\"y\":0.9831932783126831},\"id\":\"1629\",\"type\":\"Label\"},{\"attributes\":{\"text\":\"rencontre\",\"x\":-2.122938871383667,\"y\":0.4328943192958832},\"id\":\"1881\",\"type\":\"Label\"},{\"attributes\":{\"text\":\"loooooool\",\"x\":-0.6254412531852722,\"y\":-0.1516280472278595},\"id\":\"1989\",\"type\":\"Label\"},{\"attributes\":{\"text\":\"pub\",\"x\":-3.6846835613250732,\"y\":0.5159963369369507},\"id\":\"1522\",\"type\":\"Label\"},{\"attributes\":{\"text\":\"fne\",\"x\":1.718352198600769,\"y\":1.0714216232299805},\"id\":\"1630\",\"type\":\"Label\"},{\"attributes\":{\"text\":\"amma\",\"x\":0.7403263449668884,\"y\":-0.7596994638442993},\"id\":\"1882\",\"type\":\"Label\"},{\"attributes\":{\"text\":\"lit\",\"x\":-1.6273577213287354,\"y\":-1.269370675086975},\"id\":\"1990\",\"type\":\"Label\"},{\"attributes\":{\"text\":\"drop\",\"x\":-4.669160842895508,\"y\":-0.6046035885810852},\"id\":\"1523\",\"type\":\"Label\"},{\"attributes\":{\"text\":\"tix\",\"x\":2.5650455951690674,\"y\":-0.25322848558425903},\"id\":\"1631\",\"type\":\"Label\"},{\"attributes\":{\"text\":\"achan\",\"x\":-0.2202259600162506,\"y\":-2.039468288421631},\"id\":\"1883\",\"type\":\"Label\"},{\"attributes\":{\"text\":\"clas\",\"x\":-1.7127470970153809,\"y\":0.03885596990585327},\"id\":\"1991\",\"type\":\"Label\"},{\"attributes\":{\"text\":\"auction\",\"x\":7.612926959991455,\"y\":-1.1583237648010254},\"id\":\"1524\",\"type\":\"Label\"},{\"attributes\":{\"text\":\"attention\",\"x\":-1.8590333461761475,\"y\":-0.5263253450393677},\"id\":\"1632\",\"type\":\"Label\"},{\"attributes\":{\"text\":\"clover\",\"x\":-3.165802478790283,\"y\":1.4168215990066528},\"id\":\"1884\",\"type\":\"Label\"},{\"attributes\":{\"text\":\"customercare\",\"x\":0.2910434603691101,\"y\":0.668696939945221},\"id\":\"1992\",\"type\":\"Label\"},{\"attributes\":{\"text\":\"lesson\",\"x\":-2.836348295211792,\"y\":1.436185359954834},\"id\":\"1525\",\"type\":\"Label\"},{\"attributes\":{\"text\":\"flew\",\"x\":-1.3157780170440674,\"y\":-0.5776100158691406},\"id\":\"1633\",\"type\":\"Label\"},{\"attributes\":{\"text\":\"landing\",\"x\":2.80324125289917,\"y\":1.8604451417922974},\"id\":\"1885\",\"type\":\"Label\"},{\"attributes\":{\"text\":\"msgrcvd\",\"x\":-0.08489089459180832,\"y\":-2.060004949569702},\"id\":\"1993\",\"type\":\"Label\"},{\"attributes\":{\"text\":\"lucky\",\"x\":8.360884666442871,\"y\":-1.5364582538604736},\"id\":\"1526\",\"type\":\"Label\"},{\"attributes\":{\"text\":\"tats\",\"x\":-2.3393702507019043,\"y\":0.08742374181747437},\"id\":\"1634\",\"type\":\"Label\"},{\"attributes\":{\"text\":\"mileage\",\"x\":1.4010252952575684,\"y\":-1.2929320335388184},\"id\":\"1886\",\"type\":\"Label\"},{\"attributes\":{\"text\":\"lovly\",\"x\":-2.3044583797454834,\"y\":0.9823459386825562},\"id\":\"1994\",\"type\":\"Label\"},{\"attributes\":{\"text\":\"search\",\"x\":-1.9925068616867065,\"y\":-0.7847743630409241},\"id\":\"1527\",\"type\":\"Label\"},{\"attributes\":{\"text\":\"fowler\",\"x\":2.073781728744507,\"y\":0.16649843752384186},\"id\":\"1635\",\"type\":\"Label\"},{\"attributes\":{\"text\":\"olayiwola\",\"x\":5.41314697265625,\"y\":-0.10843203216791153},\"id\":\"1887\",\"type\":\"Label\"},{\"attributes\":{\"text\":\"weapon\",\"x\":-1.6120216846466064,\"y\":0.27966079115867615},\"id\":\"1995\",\"type\":\"Label\"},{\"attributes\":{\"text\":\"update\",\"x\":6.179765224456787,\"y\":-1.2882366180419922},\"id\":\"1384\",\"type\":\"Label\"},{\"attributes\":{\"text\":\"treacle\",\"x\":1.9672130346298218,\"y\":-1.7283673286437988},\"id\":\"1708\",\"type\":\"Label\"},{\"attributes\":{\"text\":\"alright\",\"x\":-3.623601198196411,\"y\":2.133011817932129},\"id\":\"1385\",\"type\":\"Label\"},{\"attributes\":{\"text\":\"treatin\",\"x\":1.7084648609161377,\"y\":-0.883686900138855},\"id\":\"1709\",\"type\":\"Label\"},{\"attributes\":{\"text\":\"till\",\"x\":-1.5345020294189453,\"y\":-2.520864963531494},\"id\":\"1386\",\"type\":\"Label\"},{\"attributes\":{\"text\":\"reapply\",\"x\":-1.6922048330307007,\"y\":-1.7238788604736328},\"id\":\"1710\",\"type\":\"Label\"},{\"attributes\":{\"text\":\"saw\",\"x\":-3.038623094558716,\"y\":1.7550886869430542},\"id\":\"1387\",\"type\":\"Label\"},{\"attributes\":{\"text\":\"resuming\",\"x\":-2.5693352222442627,\"y\":-1.0992145538330078},\"id\":\"1711\",\"type\":\"Label\"},{\"attributes\":{\"text\":\"yesterday\",\"x\":-3.9656128883361816,\"y\":1.8567790985107422},\"id\":\"1388\",\"type\":\"Label\"},{\"attributes\":{\"text\":\"genes\",\"x\":-0.9097619652748108,\"y\":-0.665229320526123},\"id\":\"1712\",\"type\":\"Label\"},{\"attributes\":{\"text\":\"hair\",\"x\":-3.245001792907715,\"y\":-0.7243598103523254},\"id\":\"1389\",\"type\":\"Label\"},{\"attributes\":{\"text\":\"misundrstud\",\"x\":-0.81082683801651,\"y\":-1.4543591737747192},\"id\":\"1713\",\"type\":\"Label\"},{\"attributes\":{\"text\":\"wen\",\"x\":-3.6283786296844482,\"y\":-0.6277359127998352},\"id\":\"1390\",\"type\":\"Label\"},{\"attributes\":{\"text\":\"foward\",\"x\":-1.9386276006698608,\"y\":0.7601698040962219},\"id\":\"1714\",\"type\":\"Label\"},{\"attributes\":{\"formatter\":{\"id\":\"2040\"},\"ticker\":{\"id\":\"1011\"}},\"id\":\"1010\",\"type\":\"LinearAxis\"},{\"attributes\":{\"text\":\"havent\",\"x\":-2.3508644104003906,\"y\":1.180713415145874},\"id\":\"1391\",\"type\":\"Label\"},{\"attributes\":{\"text\":\"lamp\",\"x\":-0.3554268181324005,\"y\":3.4001588821411133},\"id\":\"1715\",\"type\":\"Label\"},{\"attributes\":{\"text\":\"else\",\"x\":-1.9837394952774048,\"y\":-0.7151833176612854},\"id\":\"1392\",\"type\":\"Label\"},{\"attributes\":{\"text\":\"swan\",\"x\":2.2548160552978516,\"y\":0.9117851257324219},\"id\":\"1716\",\"type\":\"Label\"},{\"attributes\":{\"text\":\"worry\",\"x\":-2.7091917991638184,\"y\":1.1669855117797852},\"id\":\"1393\",\"type\":\"Label\"},{\"attributes\":{\"text\":\"absolutely\",\"x\":-1.707633376121521,\"y\":-0.620623767375946},\"id\":\"1717\",\"type\":\"Label\"},{\"attributes\":{\"text\":\"music\",\"x\":6.33207893371582,\"y\":-1.5450328588485718},\"id\":\"1394\",\"type\":\"Label\"},{\"attributes\":{\"text\":\"craigslist\",\"x\":1.828245997428894,\"y\":-0.04008687660098076},\"id\":\"1718\",\"type\":\"Label\"},{\"attributes\":{\"text\":\"weekly\",\"x\":7.539316654205322,\"y\":-1.8324599266052246},\"id\":\"1395\",\"type\":\"Label\"},{\"attributes\":{\"text\":\"treadmill\",\"x\":-3.147559642791748,\"y\":-0.6567602753639221},\"id\":\"1719\",\"type\":\"Label\"},{\"attributes\":{\"text\":\"attempt\",\"x\":7.816136360168457,\"y\":-2.218942642211914},\"id\":\"1396\",\"type\":\"Label\"},{\"attributes\":{\"text\":\"anyones\",\"x\":-0.264285683631897,\"y\":-1.4889450073242188},\"id\":\"1720\",\"type\":\"Label\"},{\"attributes\":{\"text\":\"colour\",\"x\":4.7228264808654785,\"y\":-0.3815918266773224},\"id\":\"1397\",\"type\":\"Label\"},{\"attributes\":{\"text\":\"studies\",\"x\":-1.6299015283584595,\"y\":-0.19966447353363037},\"id\":\"1721\",\"type\":\"Label\"},{\"attributes\":{\"text\":\"net\",\"x\":6.9470415115356445,\"y\":-2.353856325149536},\"id\":\"1398\",\"type\":\"Label\"},{\"attributes\":{\"text\":\"dull\",\"x\":-2.394033908843994,\"y\":-0.8706239461898804},\"id\":\"1722\",\"type\":\"Label\"},{\"attributes\":{\"text\":\"words\",\"x\":-4.442785263061523,\"y\":-1.173915982246399},\"id\":\"1399\",\"type\":\"Label\"},{\"attributes\":{\"text\":\"finishd\",\"x\":-3.418945074081421,\"y\":0.09413403272628784},\"id\":\"1723\",\"type\":\"Label\"},{\"attributes\":{\"text\":\"double\",\"x\":0.2755972445011139,\"y\":0.3038080036640167},\"id\":\"1400\",\"type\":\"Label\"},{\"attributes\":{\"text\":\"temales\",\"x\":-3.2252566814422607,\"y\":0.6525089144706726},\"id\":\"1724\",\"type\":\"Label\"},{\"attributes\":{\"text\":\"run\",\"x\":-3.313074827194214,\"y\":-0.35967227816581726},\"id\":\"1401\",\"type\":\"Label\"},{\"attributes\":{\"text\":\"tke\",\"x\":0.5739927291870117,\"y\":0.03693738579750061},\"id\":\"1725\",\"type\":\"Label\"},{\"attributes\":{\"text\":\"making\",\"x\":-2.502466917037964,\"y\":-0.5102277994155884},\"id\":\"1402\",\"type\":\"Label\"},{\"attributes\":{\"text\":\"someonone\",\"x\":1.8586026430130005,\"y\":-1.490035891532898},\"id\":\"1726\",\"type\":\"Label\"},{\"attributes\":{\"text\":\"food\",\"x\":-3.814253330230713,\"y\":-1.0443986654281616},\"id\":\"1403\",\"type\":\"Label\"},{\"attributes\":{\"text\":\"assessment\",\"x\":-3.6995654106140137,\"y\":-1.2188081741333008},\"id\":\"1727\",\"type\":\"Label\"},{\"attributes\":{\"text\":\"haf\",\"x\":-2.534198045730591,\"y\":-1.064355731010437},\"id\":\"1404\",\"type\":\"Label\"},{\"attributes\":{\"text\":\"qbank\",\"x\":-3.2008774280548096,\"y\":-2.5217158794403076},\"id\":\"1728\",\"type\":\"Label\"},{\"attributes\":{\"text\":\"oso\",\"x\":-3.7126858234405518,\"y\":0.07702924311161041},\"id\":\"1405\",\"type\":\"Label\"},{\"attributes\":{\"text\":\"uworld\",\"x\":-1.2405444383621216,\"y\":-1.8887839317321777},\"id\":\"1729\",\"type\":\"Label\"},{\"attributes\":{\"text\":\"shop\",\"x\":-4.118411540985107,\"y\":1.4919869899749756},\"id\":\"1406\",\"type\":\"Label\"},{\"attributes\":{\"text\":\"spinout\",\"x\":1.635798692703247,\"y\":-2.2747912406921387},\"id\":\"1730\",\"type\":\"Label\"},{\"attributes\":{\"text\":\"book\",\"x\":8.415594100952148,\"y\":1.9068002700805664},\"id\":\"1407\",\"type\":\"Label\"},{\"attributes\":{\"text\":\"docks\",\"x\":0.8720492124557495,\"y\":0.5131800770759583},\"id\":\"1731\",\"type\":\"Label\"},{\"attributes\":{\"text\":\"dude\",\"x\":-3.9516866207122803,\"y\":0.7325286865234375},\"id\":\"1408\",\"type\":\"Label\"},{\"attributes\":{\"text\":\"boatin\",\"x\":0.7883946895599365,\"y\":-0.4797271192073822},\"id\":\"1732\",\"type\":\"Label\"},{\"attributes\":{\"text\":\"stay\",\"x\":1.6965043544769287,\"y\":0.7587566375732422},\"id\":\"1409\",\"type\":\"Label\"},{\"attributes\":{\"text\":\"juswoke\",\"x\":1.3354113101959229,\"y\":0.529034435749054},\"id\":\"1733\",\"type\":\"Label\"},{\"attributes\":{\"text\":\"bored\",\"x\":-3.251100540161133,\"y\":0.783552885055542},\"id\":\"1410\",\"type\":\"Label\"},{\"attributes\":{\"text\":\"stuffs\",\"x\":-0.6981207132339478,\"y\":-0.9025156497955322},\"id\":\"1734\",\"type\":\"Label\"},{\"attributes\":{\"text\":\"online\",\"x\":-2.3006508350372314,\"y\":2.593193531036377},\"id\":\"1411\",\"type\":\"Label\"},{\"attributes\":{\"text\":\"port\",\"x\":-1.8419126272201538,\"y\":1.3447966575622559},\"id\":\"1735\",\"type\":\"Label\"},{\"attributes\":{\"text\":\"makes\",\"x\":-2.6015918254852295,\"y\":-1.1651899814605713},\"id\":\"1412\",\"type\":\"Label\"},{\"attributes\":{\"text\":\"chuck\",\"x\":0.26747119426727295,\"y\":0.4517460763454437},\"id\":\"1736\",\"type\":\"Label\"},{\"attributes\":{\"text\":\"lei\",\"x\":-3.7372467517852783,\"y\":-1.2033387422561646},\"id\":\"1413\",\"type\":\"Label\"},{\"attributes\":{\"text\":\"foned\",\"x\":2.5652308464050293,\"y\":1.2451329231262207},\"id\":\"1737\",\"type\":\"Label\"},{\"attributes\":{\"text\":\"question\",\"x\":2.6631007194519043,\"y\":-1.9743446111679077},\"id\":\"1414\",\"type\":\"Label\"},{\"attributes\":{\"text\":\"telediscount\",\"x\":7.265414237976074,\"y\":-0.5956019759178162},\"id\":\"1738\",\"type\":\"Label\"},{\"attributes\":{\"text\":\"national\",\"x\":6.441924095153809,\"y\":-1.1388657093048096},\"id\":\"1415\",\"type\":\"Label\"},{\"attributes\":{\"text\":\"overdid\",\"x\":-0.3468087911605835,\"y\":-0.7669583559036255},\"id\":\"1739\",\"type\":\"Label\"},{\"attributes\":{\"text\":\"ard\",\"x\":-4.291390895843506,\"y\":-0.9781619906425476},\"id\":\"1416\",\"type\":\"Label\"},{\"attributes\":{\"text\":\"musta\",\"x\":0.6133806109428406,\"y\":-0.435245543718338},\"id\":\"1740\",\"type\":\"Label\"},{\"attributes\":{\"text\":\"tried\",\"x\":6.429930210113525,\"y\":-0.13587363064289093},\"id\":\"1417\",\"type\":\"Label\"},{\"attributes\":{\"text\":\"leg\",\"x\":0.27473679184913635,\"y\":-0.7304648160934448},\"id\":\"1741\",\"type\":\"Label\"},{\"attributes\":{\"text\":\"delivery\",\"x\":6.076038837432861,\"y\":0.5440444350242615},\"id\":\"1418\",\"type\":\"Label\"},{\"attributes\":{\"text\":\"splash\",\"x\":2.009993553161621,\"y\":0.7601653337478638},\"id\":\"1742\",\"type\":\"Label\"},{\"attributes\":{\"text\":\"driving\",\"x\":4.832668781280518,\"y\":1.1934736967086792},\"id\":\"1419\",\"type\":\"Label\"},{\"attributes\":{\"text\":\"awkward\",\"x\":-3.1464264392852783,\"y\":-2.1722028255462646},\"id\":\"1743\",\"type\":\"Label\"},{\"attributes\":{\"text\":\"say\",\"x\":-2.3360166549682617,\"y\":1.3449409008026123},\"id\":\"1096\",\"type\":\"Label\"},{\"attributes\":{\"text\":\"nothing\",\"x\":6.138311386108398,\"y\":-1.4850969314575195},\"id\":\"1240\",\"type\":\"Label\"},{\"attributes\":{\"text\":\"join\",\"x\":8.338005065917969,\"y\":-0.5508886575698853},\"id\":\"1348\",\"type\":\"Label\"},{\"attributes\":{\"text\":\"secure\",\"x\":-1.4197614192962646,\"y\":-0.7101256847381592},\"id\":\"1924\",\"type\":\"Label\"},{\"attributes\":{\"text\":\"right\",\"x\":-2.4833014011383057,\"y\":-0.6620582938194275},\"id\":\"1097\",\"type\":\"Label\"},{\"attributes\":{\"text\":\"guess\",\"x\":-0.9241841435432434,\"y\":0.38701286911964417},\"id\":\"1241\",\"type\":\"Label\"},{\"attributes\":{\"text\":\"mail\",\"x\":-4.153419017791748,\"y\":-0.9295472502708435},\"id\":\"1349\",\"type\":\"Label\"},{\"attributes\":{\"text\":\"varma\",\"x\":-1.965463399887085,\"y\":-2.4929888248443604},\"id\":\"1925\",\"type\":\"Label\"},{\"attributes\":{\"text\":\"already\",\"x\":-4.090126991271973,\"y\":-0.781184196472168},\"id\":\"1098\",\"type\":\"Label\"},{\"attributes\":{\"text\":\"lot\",\"x\":-4.540807247161865,\"y\":0.10675343871116638},\"id\":\"1242\",\"type\":\"Label\"},{\"attributes\":{\"text\":\"sexy\",\"x\":6.391997814178467,\"y\":-0.8393356800079346},\"id\":\"1350\",\"type\":\"Label\"},{\"attributes\":{\"text\":\"mailed\",\"x\":-1.433809518814087,\"y\":0.3299424648284912},\"id\":\"1926\",\"type\":\"Label\"},{\"attributes\":{\"text\":\"ask\",\"x\":-1.9634977579116821,\"y\":-1.4928104877471924},\"id\":\"1099\",\"type\":\"Label\"},{\"attributes\":{\"text\":\"problem\",\"x\":-3.308054208755493,\"y\":2.0126092433929443},\"id\":\"1243\",\"type\":\"Label\"},{\"attributes\":{\"text\":\"xmas\",\"x\":-3.5180275440216064,\"y\":0.4199073016643524},\"id\":\"1351\",\"type\":\"Label\"},{\"attributes\":{\"text\":\"deer\",\"x\":-2.783198356628418,\"y\":0.15018701553344727},\"id\":\"1927\",\"type\":\"Label\"},{\"attributes\":{\"text\":\"cash\",\"x\":5.986604690551758,\"y\":-0.48077213764190674},\"id\":\"1100\",\"type\":\"Label\"},{\"attributes\":{\"text\":\"another\",\"x\":-3.8553264141082764,\"y\":0.3836284279823303},\"id\":\"1244\",\"type\":\"Label\"},{\"attributes\":{\"text\":\"true\",\"x\":-0.7979230284690857,\"y\":-0.8722121119499207},\"id\":\"1352\",\"type\":\"Label\"},{\"attributes\":{\"text\":\"mountain\",\"x\":-1.6388455629348755,\"y\":0.20676639676094055},\"id\":\"1928\",\"type\":\"Label\"},{\"attributes\":{\"text\":\"said\",\"x\":-4.775262355804443,\"y\":0.9982211589813232},\"id\":\"1101\",\"type\":\"Label\"},{\"attributes\":{\"text\":\"liao\",\"x\":-2.570521831512451,\"y\":-1.007286548614502},\"id\":\"1245\",\"type\":\"Label\"},{\"attributes\":{\"text\":\"details\",\"x\":1.8465529680252075,\"y\":1.626497745513916},\"id\":\"1353\",\"type\":\"Label\"},{\"attributes\":{\"text\":\"frontierville\",\"x\":-2.017282009124756,\"y\":0.31074759364128113},\"id\":\"1929\",\"type\":\"Label\"},{\"attributes\":{\"text\":\"yeah\",\"x\":-3.7206075191497803,\"y\":-0.5317897796630859},\"id\":\"1102\",\"type\":\"Label\"},{\"attributes\":{\"text\":\"big\",\"x\":-4.167704105377197,\"y\":0.4936888813972473},\"id\":\"1246\",\"type\":\"Label\"},{\"attributes\":{\"text\":\"entry\",\"x\":6.463759422302246,\"y\":-1.3397235870361328},\"id\":\"1354\",\"type\":\"Label\"},{\"attributes\":{\"text\":\"chapel\",\"x\":-0.28382471203804016,\"y\":-0.38891446590423584},\"id\":\"1930\",\"type\":\"Label\"},{\"attributes\":{\"text\":\"really\",\"x\":-2.5673139095306396,\"y\":2.4619290828704834},\"id\":\"1103\",\"type\":\"Label\"},{\"attributes\":{\"text\":\"shit\",\"x\":-3.6781463623046875,\"y\":0.22895784676074982},\"id\":\"1247\",\"type\":\"Label\"},{\"attributes\":{\"text\":\"goes\",\"x\":-2.3436787128448486,\"y\":-0.24145802855491638},\"id\":\"1355\",\"type\":\"Label\"},{\"attributes\":{\"text\":\"court\",\"x\":1.9070953130722046,\"y\":1.7509149312973022},\"id\":\"1931\",\"type\":\"Label\"},{\"attributes\":{\"text\":\"amp\",\"x\":-3.7722678184509277,\"y\":2.6626663208007812},\"id\":\"1104\",\"type\":\"Label\"},{\"attributes\":{\"text\":\"dinner\",\"x\":-2.7921676635742188,\"y\":0.6005463600158691},\"id\":\"1248\",\"type\":\"Label\"},{\"attributes\":{\"text\":\"wanted\",\"x\":-3.7114486694335938,\"y\":0.17282111942768097},\"id\":\"1356\",\"type\":\"Label\"},{\"attributes\":{\"text\":\"congratulation\",\"x\":-1.4583663940429688,\"y\":0.8437450528144836},\"id\":\"1932\",\"type\":\"Label\"},{\"attributes\":{\"text\":\"meet\",\"x\":-1.2987020015716553,\"y\":-0.8874111175537109},\"id\":\"1105\",\"type\":\"Label\"},{\"attributes\":{\"text\":\"birthday\",\"x\":-2.683915138244629,\"y\":1.4764872789382935},\"id\":\"1249\",\"type\":\"Label\"},{\"attributes\":{\"text\":\"pain\",\"x\":-1.7618720531463623,\"y\":1.631876826286316},\"id\":\"1357\",\"type\":\"Label\"},{\"attributes\":{\"text\":\"lips\",\"x\":0.9683108329772949,\"y\":1.3760275840759277},\"id\":\"1933\",\"type\":\"Label\"},{\"attributes\":{\"text\":\"life\",\"x\":-2.6392130851745605,\"y\":-0.18156760931015015},\"id\":\"1106\",\"type\":\"Label\"},{\"attributes\":{\"text\":\"shows\",\"x\":6.734769344329834,\"y\":-1.8651334047317505},\"id\":\"1250\",\"type\":\"Label\"},{\"attributes\":{\"text\":\"means\",\"x\":-2.9451687335968018,\"y\":2.1452789306640625},\"id\":\"1358\",\"type\":\"Label\"},{\"attributes\":{\"text\":\"sexychat\",\"x\":1.6278696060180664,\"y\":-1.3377665281295776},\"id\":\"1934\",\"type\":\"Label\"},{\"attributes\":{\"text\":\"find\",\"x\":5.609320163726807,\"y\":-3.5699639320373535},\"id\":\"1107\",\"type\":\"Label\"},{\"attributes\":{\"text\":\"girl\",\"x\":-1.820900797843933,\"y\":0.9254775643348694},\"id\":\"1251\",\"type\":\"Label\"},{\"attributes\":{\"text\":\"abt\",\"x\":-2.9437410831451416,\"y\":-0.6723906397819519},\"id\":\"1359\",\"type\":\"Label\"},{\"attributes\":{\"text\":\"sisters\",\"x\":-3.2374887466430664,\"y\":-0.04809591546654701},\"id\":\"1935\",\"type\":\"Label\"},{\"attributes\":{\"text\":\"let\",\"x\":-0.4780426025390625,\"y\":-3.7236125469207764},\"id\":\"1108\",\"type\":\"Label\"},{\"attributes\":{\"text\":\"guys\",\"x\":0.6737194657325745,\"y\":-3.0416035652160645},\"id\":\"1252\",\"type\":\"Label\"},{\"attributes\":{\"text\":\"til\",\"x\":-1.4715718030929565,\"y\":4.210395812988281},\"id\":\"1360\",\"type\":\"Label\"},{\"attributes\":{\"text\":\"hopeing\",\"x\":-3.479459047317505,\"y\":-0.32958081364631653},\"id\":\"1936\",\"type\":\"Label\"},{\"attributes\":{\"text\":\"morning\",\"x\":-3.0046563148498535,\"y\":1.3910367488861084},\"id\":\"1109\",\"type\":\"Label\"},{\"attributes\":{\"text\":\"start\",\"x\":0.2390904724597931,\"y\":-0.9397799372673035},\"id\":\"1253\",\"type\":\"Label\"},{\"attributes\":{\"text\":\"able\",\"x\":-3.3034768104553223,\"y\":0.7507057189941406},\"id\":\"1361\",\"type\":\"Label\"},{\"attributes\":{\"text\":\"torture\",\"x\":-1.5917218923568726,\"y\":-0.818723738193512},\"id\":\"1937\",\"type\":\"Label\"},{\"attributes\":{\"text\":\"babe\",\"x\":-3.388443946838379,\"y\":-1.7624355554580688},\"id\":\"1110\",\"type\":\"Label\"},{\"attributes\":{\"text\":\"sweet\",\"x\":-4.295133113861084,\"y\":0.1112569272518158},\"id\":\"1254\",\"type\":\"Label\"},{\"attributes\":{\"text\":\"hav\",\"x\":0.5105201005935669,\"y\":3.659856081008911},\"id\":\"1362\",\"type\":\"Label\"},{\"attributes\":{\"text\":\"yah\",\"x\":-0.9628013968467712,\"y\":0.357890784740448},\"id\":\"1938\",\"type\":\"Label\"},{\"attributes\":{\"text\":\"last\",\"x\":-3.0037331581115723,\"y\":-0.093925341963768},\"id\":\"1111\",\"type\":\"Label\"},{\"attributes\":{\"text\":\"luv\",\"x\":-3.9776370525360107,\"y\":1.0074330568313599},\"id\":\"1255\",\"type\":\"Label\"},{\"attributes\":{\"text\":\"important\",\"x\":7.092867851257324,\"y\":-0.5708875060081482},\"id\":\"1363\",\"type\":\"Label\"},{\"attributes\":{\"text\":\"hearin\",\"x\":-0.7233967781066895,\"y\":1.3776679039001465},\"id\":\"1939\",\"type\":\"Label\"},{\"attributes\":{\"text\":\"miss\",\"x\":-2.9191133975982666,\"y\":-0.33593714237213135},\"id\":\"1112\",\"type\":\"Label\"},{\"attributes\":{\"text\":\"jus\",\"x\":-4.53304386138916,\"y\":-2.4581878185272217},\"id\":\"1256\",\"type\":\"Label\"},{\"attributes\":{\"text\":\"wake\",\"x\":-3.1511075496673584,\"y\":-1.0285422801971436},\"id\":\"1364\",\"type\":\"Label\"},{\"attributes\":{\"text\":\"deny\",\"x\":3.4015209674835205,\"y\":-1.0046972036361694},\"id\":\"1940\",\"type\":\"Label\"},{\"attributes\":{\"text\":\"thanks\",\"x\":-3.3685855865478516,\"y\":-0.7021434903144836},\"id\":\"1113\",\"type\":\"Label\"},{\"attributes\":{\"text\":\"might\",\"x\":-4.178558826446533,\"y\":-0.5089353919029236},\"id\":\"1257\",\"type\":\"Label\"},{\"attributes\":{\"text\":\"guy\",\"x\":-2.2294704914093018,\"y\":4.134692668914795},\"id\":\"1365\",\"type\":\"Label\"},{\"attributes\":{\"text\":\"knees\",\"x\":-3.1980254650115967,\"y\":-1.1507117748260498},\"id\":\"1941\",\"type\":\"Label\"},{\"attributes\":{\"text\":\"would\",\"x\":-0.7131096720695496,\"y\":0.0787225216627121},\"id\":\"1114\",\"type\":\"Label\"},{\"attributes\":{\"text\":\"box\",\"x\":-4.5408453941345215,\"y\":0.6991457939147949},\"id\":\"1258\",\"type\":\"Label\"},{\"attributes\":{\"text\":\"tones\",\"x\":7.390327453613281,\"y\":-0.15293793380260468},\"id\":\"1366\",\"type\":\"Label\"},{\"attributes\":{\"text\":\"grazed\",\"x\":2.5930304527282715,\"y\":0.6266353726387024},\"id\":\"1942\",\"type\":\"Label\"},{\"attributes\":{\"text\":\"cos\",\"x\":-2.5824215412139893,\"y\":0.483928918838501},\"id\":\"1115\",\"type\":\"Label\"},{\"attributes\":{\"text\":\"ever\",\"x\":-2.7335524559020996,\"y\":1.043267846107483},\"id\":\"1259\",\"type\":\"Label\"},{\"attributes\":{\"text\":\"wot\",\"x\":-3.2095625400543213,\"y\":-0.14420165121555328},\"id\":\"1367\",\"type\":\"Label\"},{\"attributes\":{\"text\":\"splat\",\"x\":0.7833808064460754,\"y\":-0.23042847216129303},\"id\":\"1943\",\"type\":\"Label\"},{\"attributes\":{\"text\":\"win\",\"x\":2.6532704830169678,\"y\":-5.561472415924072},\"id\":\"1116\",\"type\":\"Label\"},{\"attributes\":{\"text\":\"quite\",\"x\":-3.781014919281006,\"y\":0.7679575085639954},\"id\":\"1260\",\"type\":\"Label\"},{\"attributes\":{\"text\":\"bring\",\"x\":-1.8252785205841064,\"y\":-0.1979975551366806},\"id\":\"1368\",\"type\":\"Label\"},{\"attributes\":{\"text\":\"toaday\",\"x\":-2.5479185581207275,\"y\":0.46853408217430115},\"id\":\"1944\",\"type\":\"Label\"},{\"attributes\":{\"text\":\"lol\",\"x\":-2.8869097232818604,\"y\":-0.9313066601753235},\"id\":\"1117\",\"type\":\"Label\"},{\"attributes\":{\"text\":\"cost\",\"x\":8.076703071594238,\"y\":-2.038536548614502},\"id\":\"1261\",\"type\":\"Label\"},{\"attributes\":{\"text\":\"collection\",\"x\":6.8399553298950195,\"y\":-1.555267095565796},\"id\":\"1369\",\"type\":\"Label\"},{\"attributes\":{\"text\":\"hooch\",\"x\":-2.680391550064087,\"y\":1.4517079591751099},\"id\":\"1945\",\"type\":\"Label\"},{\"attributes\":{\"text\":\"valid\",\"x\":9.15587043762207,\"y\":0.7592031359672546},\"id\":\"1383\",\"type\":\"Label\"},{\"attributes\":{\"text\":\"anything\",\"x\":-4.30985689163208,\"y\":-1.4119102954864502},\"id\":\"1118\",\"type\":\"Label\"},{\"attributes\":{\"text\":\"watching\",\"x\":-3.80930495262146,\"y\":-0.7450379729270935},\"id\":\"1262\",\"type\":\"Label\"},{\"attributes\":{\"text\":\"times\",\"x\":-3.351247787475586,\"y\":1.8003360033035278},\"id\":\"1370\",\"type\":\"Label\"},{\"attributes\":{\"text\":\"nonetheless\",\"x\":3.7234668731689453,\"y\":-0.1772855669260025},\"id\":\"1946\",\"type\":\"Label\"},{\"attributes\":{\"text\":\"also\",\"x\":-3.2295732498168945,\"y\":0.7242119908332825},\"id\":\"1119\",\"type\":\"Label\"},{\"attributes\":{\"text\":\"room\",\"x\":-4.383610248565674,\"y\":0.061985477805137634},\"id\":\"1263\",\"type\":\"Label\"},{\"attributes\":{\"text\":\"messages\",\"x\":3.6773879528045654,\"y\":-2.597339391708374},\"id\":\"1371\",\"type\":\"Label\"},{\"attributes\":{\"text\":\"unintentional\",\"x\":1.7694342136383057,\"y\":2.2782113552093506},\"id\":\"1947\",\"type\":\"Label\"},{\"attributes\":{\"data\":{\"x\":{\"__ndarray__\":\"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\",\"dtype\":\"float32\",\"order\":\"little\",\"shape\":[1000]},\"y\":{\"__ndarray__\":\"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\",\"dtype\":\"float32\",\"order\":\"little\",\"shape\":[1000]}},\"selected\":{\"id\":\"2043\"},\"selection_policy\":{\"id\":\"2044\"}},\"id\":\"1032\",\"type\":\"ColumnDataSource\"},{\"attributes\":{\"text\":\"every\",\"x\":6.150551795959473,\"y\":-0.32007554173469543},\"id\":\"1120\",\"type\":\"Label\"},{\"attributes\":{\"text\":\"landline\",\"x\":8.31071662902832,\"y\":-0.22042503952980042},\"id\":\"1264\",\"type\":\"Label\"},{\"attributes\":{\"text\":\"missed\",\"x\":-0.34533727169036865,\"y\":-2.199052333831787},\"id\":\"1372\",\"type\":\"Label\"},{\"attributes\":{\"text\":\"snot\",\"x\":2.0940868854522705,\"y\":1.0506999492645264},\"id\":\"1948\",\"type\":\"Label\"},{\"attributes\":{\"text\":\"com\",\"x\":7.165217399597168,\"y\":0.4415196478366852},\"id\":\"1121\",\"type\":\"Label\"},{\"attributes\":{\"text\":\"offer\",\"x\":6.248776435852051,\"y\":1.0421125888824463},\"id\":\"1265\",\"type\":\"Label\"},{\"attributes\":{\"text\":\"mob\",\"x\":6.960920333862305,\"y\":-1.784589409828186},\"id\":\"1373\",\"type\":\"Label\"},{\"attributes\":{\"text\":\"margin\",\"x\":6.934262752532959,\"y\":0.3640511631965637},\"id\":\"1949\",\"type\":\"Label\"},{\"attributes\":{},\"id\":\"1002\",\"type\":\"DataRange1d\"},{\"attributes\":{\"fill_alpha\":{\"value\":0.1},\"fill_color\":{\"value\":\"#1f77b4\"},\"line_alpha\":{\"value\":0.1},\"line_color\":{\"value\":\"#1f77b4\"},\"x\":{\"field\":\"x\"},\"y\":{\"field\":\"y\"}},\"id\":\"1034\",\"type\":\"Scatter\"},{\"attributes\":{\"text\":\"sure\",\"x\":-4.965386390686035,\"y\":0.5962247252464294},\"id\":\"1122\",\"type\":\"Label\"},{\"attributes\":{\"text\":\"video\",\"x\":8.975762367248535,\"y\":-0.3107296824455261},\"id\":\"1266\",\"type\":\"Label\"},{\"attributes\":{\"text\":\"show\",\"x\":-2.5401296615600586,\"y\":-2.3965818881988525},\"id\":\"1374\",\"type\":\"Label\"},{\"attributes\":{\"text\":\"bergkamp\",\"x\":1.8342992067337036,\"y\":0.899314820766449},\"id\":\"1950\",\"type\":\"Label\"},{\"attributes\":{},\"id\":\"1004\",\"type\":\"DataRange1d\"},{\"attributes\":{\"text\":\"pick\",\"x\":-3.371161699295044,\"y\":-0.7109439373016357},\"id\":\"1123\",\"type\":\"Label\"},{\"attributes\":{\"text\":\"early\",\"x\":-4.6909050941467285,\"y\":-0.5896097421646118},\"id\":\"1267\",\"type\":\"Label\"},{\"attributes\":{\"text\":\"price\",\"x\":8.859234809875488,\"y\":-1.599797248840332},\"id\":\"1375\",\"type\":\"Label\"},{\"attributes\":{\"text\":\"yards\",\"x\":6.124303817749023,\"y\":-1.3704838752746582},\"id\":\"1951\",\"type\":\"Label\"},{\"attributes\":{},\"id\":\"1006\",\"type\":\"LinearScale\"},{\"attributes\":{\"text\":\"care\",\"x\":-2.895458221435547,\"y\":-0.4672127366065979},\"id\":\"1124\",\"type\":\"Label\"},{\"attributes\":{\"text\":\"xxx\",\"x\":0.8617430925369263,\"y\":-0.5612532496452332},\"id\":\"1268\",\"type\":\"Label\"},{\"attributes\":{\"text\":\"juz\",\"x\":-3.5342371463775635,\"y\":-0.13031883537769318},\"id\":\"1376\",\"type\":\"Label\"},{\"attributes\":{\"text\":\"dentists\",\"x\":-1.442691683769226,\"y\":-0.12231818586587906},\"id\":\"1952\",\"type\":\"Label\"},{\"attributes\":{},\"id\":\"1008\",\"type\":\"LinearScale\"},{\"attributes\":{\"text\":\"urgent\",\"x\":9.06447696685791,\"y\":-0.9211277365684509},\"id\":\"1125\",\"type\":\"Label\"},{\"attributes\":{\"text\":\"speak\",\"x\":5.38308572769165,\"y\":1.0835782289505005},\"id\":\"1269\",\"type\":\"Label\"},{\"attributes\":{\"text\":\"years\",\"x\":1.191010594367981,\"y\":-3.3761396408081055},\"id\":\"1377\",\"type\":\"Label\"},{\"attributes\":{\"text\":\"inconvenience\",\"x\":1.8195310831069946,\"y\":0.9448273181915283},\"id\":\"1953\",\"type\":\"Label\"},{\"attributes\":{\"text\":\"nokia\",\"x\":6.931891441345215,\"y\":0.028898630291223526},\"id\":\"1126\",\"type\":\"Label\"},{\"attributes\":{\"text\":\"weekend\",\"x\":-2.8333215713500977,\"y\":0.9099268913269043},\"id\":\"1270\",\"type\":\"Label\"},{\"attributes\":{\"text\":\"decimal\",\"x\":-3.4218389987945557,\"y\":-0.7605771422386169},\"id\":\"1378\",\"type\":\"Label\"},{\"attributes\":{\"text\":\"terminated\",\"x\":2.3979711532592773,\"y\":0.5985586643218994},\"id\":\"1954\",\"type\":\"Label\"},{\"attributes\":{},\"id\":\"1011\",\"type\":\"BasicTicker\"},{\"attributes\":{\"axis\":{\"id\":\"1010\"},\"ticker\":null},\"id\":\"1013\",\"type\":\"Grid\"},{\"attributes\":{\"text\":\"sent\",\"x\":-3.031642198562622,\"y\":1.4378266334533691},\"id\":\"1127\",\"type\":\"Label\"},{\"attributes\":{\"text\":\"aight\",\"x\":-2.2451059818267822,\"y\":0.31342414021492004},\"id\":\"1271\",\"type\":\"Label\"},{\"attributes\":{\"text\":\"plz\",\"x\":-4.759120464324951,\"y\":0.4870345890522003},\"id\":\"1379\",\"type\":\"Label\"},{\"attributes\":{\"text\":\"nhs\",\"x\":0.38066598773002625,\"y\":-1.1917822360992432},\"id\":\"1955\",\"type\":\"Label\"},{\"attributes\":{\"text\":\"something\",\"x\":-3.1368441581726074,\"y\":0.7390046715736389},\"id\":\"1128\",\"type\":\"Label\"},{\"attributes\":{\"text\":\"called\",\"x\":-2.0913913249969482,\"y\":1.3560607433319092},\"id\":\"1272\",\"type\":\"Label\"},{\"attributes\":{\"text\":\"away\",\"x\":1.3639923334121704,\"y\":-1.054419994354248},\"id\":\"1380\",\"type\":\"Label\"},{\"attributes\":{\"text\":\"solihull\",\"x\":-3.6846888065338135,\"y\":2.7293810844421387},\"id\":\"1956\",\"type\":\"Label\"},{\"attributes\":{\"formatter\":{\"id\":\"2042\"},\"ticker\":{\"id\":\"1015\"}},\"id\":\"1014\",\"type\":\"LinearAxis\"},{\"attributes\":{\"text\":\"keep\",\"x\":-2.767777681350708,\"y\":-1.2171335220336914},\"id\":\"1129\",\"type\":\"Label\"},{\"attributes\":{\"text\":\"watch\",\"x\":-2.758666753768921,\"y\":-1.7460256814956665},\"id\":\"1273\",\"type\":\"Label\"},{\"attributes\":{\"text\":\"gift\",\"x\":4.545614719390869,\"y\":-0.6690171360969543},\"id\":\"1381\",\"type\":\"Label\"},{\"attributes\":{\"text\":\"mre\",\"x\":1.8364477157592773,\"y\":-3.353426218032837},\"id\":\"1957\",\"type\":\"Label\"},{\"attributes\":{},\"id\":\"1015\",\"type\":\"BasicTicker\"},{\"attributes\":{\"axis\":{\"id\":\"1014\"},\"dimension\":1,\"ticker\":null},\"id\":\"1017\",\"type\":\"Grid\"},{\"attributes\":{\"text\":\"contact\",\"x\":4.811562538146973,\"y\":0.36304041743278503},\"id\":\"1130\",\"type\":\"Label\"},{\"attributes\":{\"text\":\"probably\",\"x\":-1.358242392539978,\"y\":0.25001752376556396},\"id\":\"1274\",\"type\":\"Label\"},{\"attributes\":{\"text\":\"plus\",\"x\":5.0588154792785645,\"y\":1.5796128511428833},\"id\":\"1382\",\"type\":\"Label\"},{\"attributes\":{\"text\":\"swat\",\"x\":1.3892717361450195,\"y\":0.9371012449264526},\"id\":\"1958\",\"type\":\"Label\"},{\"attributes\":{\"text\":\"rate\",\"x\":5.875345230102539,\"y\":-0.7404826879501343},\"id\":\"1275\",\"type\":\"Label\"}],\"root_ids\":[\"1001\"]},\"title\":\"Bokeh Application\",\"version\":\"2.1.1\"}};\n",
              "  var render_items = [{\"docid\":\"3e5132bd-3833-44fe-b894-947702002285\",\"root_ids\":[\"1001\"],\"roots\":{\"1001\":\"7d9a49c8-bed3-48b6-9a7c-41adbad6f1af\"}}];\n",
              "  root.Bokeh.embed.embed_items_notebook(docs_json, render_items);\n",
              "\n",
              "  }\n",
              "  if (root.Bokeh !== undefined) {\n",
              "    embed_document(root);\n",
              "  } else {\n",
              "    var attempts = 0;\n",
              "    var timer = setInterval(function(root) {\n",
              "      if (root.Bokeh !== undefined) {\n",
              "        clearInterval(timer);\n",
              "        embed_document(root);\n",
              "      } else {\n",
              "        attempts++;\n",
              "        if (attempts > 100) {\n",
              "          clearInterval(timer);\n",
              "          console.log(\"Bokeh: ERROR: Unable to run BokehJS code because BokehJS library is missing\");\n",
              "        }\n",
              "      }\n",
              "    }, 10, root)\n",
              "  }\n",
              "})(window);"
            ],
            "application/vnd.bokehjs_exec.v0+json": ""
          },
          "metadata": {
            "tags": [],
            "application/vnd.bokehjs_exec.v0+json": {
              "id": "1001"
            }
          }
        }
      ]
    },
    {
      "cell_type": "markdown",
      "metadata": {
        "id": "CXRNSN9Ark8o",
        "colab_type": "text"
      },
      "source": [
        "<a name=\"594\"></a>\n",
        "### Palavras Vizinhas no Embedding "
      ]
    },
    {
      "cell_type": "markdown",
      "metadata": {
        "id": "r9IVEX61n_5D",
        "colab_type": "text"
      },
      "source": [
        "Um problema da redução de dimensionalidade é que ao reduzir o _embedding_ de um número alto de dimensões para apenas $2$, podemos acabar aproximando palavras que não estavam tão próximas no espaço geométrico original."
      ]
    },
    {
      "cell_type": "markdown",
      "metadata": {
        "id": "jylO4wQUoOB5",
        "colab_type": "text"
      },
      "source": [
        "Vamos então avaliar **as palavras vizinhas mais próximas** no espaço original ($\\mathbb{R}^n$) dos _embeddings_. "
      ]
    },
    {
      "cell_type": "markdown",
      "metadata": {
        "id": "sZ2OgYK0oe12",
        "colab_type": "text"
      },
      "source": [
        "A função abaixo vai calcular a distância entre o vetor de _embedding_ de uma palavra especifica $w_i$ contra todos os vetores do _embedding_ (exceto o dela mesma).  \n",
        "Após isso, vamos ordenar as distâncias da menor para a maior e imprimir as palavras correspondentes as primeiras $n_{\\text{closest}}$ palavras, ou seja, os \"vizinhos\" mais próximos."
      ]
    },
    {
      "cell_type": "code",
      "metadata": {
        "id": "iZM7qghxSlCd",
        "colab_type": "code",
        "colab": {}
      },
      "source": [
        "from sklearn.metrics.pairwise import pairwise_distances\n",
        "\n",
        "def closest_words(word, n_closest = 5, embedding=None, word2idx = word2idx, idx2word = idx2word, d_metric='cosine', print_flag=True):\n",
        "  ''' Encontra as palavras mais próximas da entrada (word) no embedding correspondente.\n",
        "\n",
        "  Entradas:\n",
        "  - word: palavra de referência\n",
        "  - n_closets: quantos vizinhos imprimir\n",
        "  - embedding: matriz de embedding (V x D)\n",
        "  - word2idx: dicionário que converte de palavra para índice\n",
        "  - idx2word: lista de palavras do vocabulário na ordem correspondente aos seus índices\n",
        "  - d_metric: string correspondente à métrica de distância utilizada (default: 'cosine')\n",
        "  - print_flag: para imprimir os resultados ou não\n",
        "\n",
        "  Saída:\n",
        "  - lista das palavras encontradas\n",
        "  '''\n",
        "  \n",
        "  V, D = embedding.shape # leitura das dimensões do embedding\n",
        "\n",
        "  # converte a palavra de referência --> vetor de embedding\n",
        "  if word in word2idx:\n",
        "    vec = embedding[word2idx[word]].reshape(1, -1) # reshape para garantir 2-dimensões\n",
        "  else:\n",
        "    print(f'Palavra \"{word}\" não está no dicionário')\n",
        "    return [None]\n",
        "\n",
        "  # todas as distâncias entre vec e os vetores do embedding\n",
        "  distances = pairwise_distances(vec, embedding, \n",
        "                                   metric=d_metric).reshape(V) # reshape para 1 dimensão\n",
        "    \n",
        "  # ordena o índice dos embeddings da menor para a maior distância\n",
        "  # e seleciona n_closets+1 índices\n",
        "  idx = distances.argsort()[:n_closest+1]         # uma a mais, porque a primeira com certeza é o embedding de referência\n",
        "  idx = [x for x in idx if x != word2idx[word]]   # remove o embedding de referência (outra forma seria idx = idx[1:])\n",
        " \n",
        "  # imprime resultados\n",
        "  if print_flag:\n",
        "    print(f'As {len(idx)} palavras mais próximas de \"{word}\":')          \n",
        "    for i in idx:\n",
        "      print(f'{idx2word[i]}')\n",
        "    print()\n",
        "  \n",
        "  # retorna palavras encontradas\n",
        "  return [idx2word[i] for i in idx]"
      ],
      "execution_count": 107,
      "outputs": []
    },
    {
      "cell_type": "markdown",
      "metadata": {
        "id": "X-hWQQxmrMyY",
        "colab_type": "text"
      },
      "source": [
        "Vamos testar a função com algumas palavras da lista abaixo."
      ]
    },
    {
      "cell_type": "code",
      "metadata": {
        "id": "i_NfrWAZrQaF",
        "colab_type": "code",
        "colab": {}
      },
      "source": [
        "lista_de_palavras = ['free', 'call', 'reply', 'today', 'card', 'mobile', 'txt', 'dollars', 'pay', 'attach', 'link']"
      ],
      "execution_count": 108,
      "outputs": []
    },
    {
      "cell_type": "code",
      "metadata": {
        "id": "yU6VjzkSYyrI",
        "colab_type": "code",
        "colab": {
          "base_uri": "https://localhost:8080/",
          "height": 1000
        },
        "outputId": "6636baab-75a6-4482-84bb-7602ede73566"
      },
      "source": [
        "listas_de_vizinhos = []\n",
        "for palavra in lista_de_palavras:\n",
        "  vizinhos_de_palavra = closest_words(palavra, n_closest=10, \n",
        "                                      embedding=E, \n",
        "                                      word2idx=word2idx, idx2word=idx2word)\n",
        "  listas_de_vizinhos.append(vizinhos_de_palavra)"
      ],
      "execution_count": 109,
      "outputs": [
        {
          "output_type": "stream",
          "text": [
            "As 10 palavras mais próximas de \"free\":\n",
            "conditions\n",
            "flights\n",
            "national\n",
            "contact\n",
            "quality\n",
            "sale\n",
            "sexy\n",
            "reply\n",
            "callcost\n",
            "ldew\n",
            "\n",
            "As 10 palavras mais próximas de \"call\":\n",
            "begin\n",
            "canname\n",
            "video\n",
            "shsex\n",
            "top\n",
            "summer\n",
            "saucy\n",
            "gudnyt\n",
            "offering\n",
            "weekly\n",
            "\n",
            "As 10 palavras mais próximas de \"reply\":\n",
            "subscription\n",
            "video\n",
            "connected\n",
            "charges\n",
            "adult\n",
            "chg\n",
            "ringtoneking\n",
            "received\n",
            "improved\n",
            "worlds\n",
            "\n",
            "As 10 palavras mais próximas de \"today\":\n",
            "centre\n",
            "tiring\n",
            "impatient\n",
            "whole\n",
            "ringing\n",
            "middle\n",
            "adds\n",
            "remember\n",
            "kano\n",
            "recognises\n",
            "\n",
            "As 10 palavras mais próximas de \"card\":\n",
            "addicted\n",
            "spatula\n",
            "wine\n",
            "naughty\n",
            "booked\n",
            "teaching\n",
            "hurts\n",
            "dude\n",
            "captain\n",
            "covers\n",
            "\n",
            "As 10 palavras mais próximas de \"mobile\":\n",
            "video\n",
            "new\n",
            "top\n",
            "ads\n",
            "allow\n",
            "stories\n",
            "http\n",
            "newest\n",
            "spree\n",
            "offering\n",
            "\n",
            "As 10 palavras mais próximas de \"txt\":\n",
            "svc\n",
            "visionsms\n",
            "mustprovide\n",
            "area\n",
            "price\n",
            "fancy\n",
            "secs\n",
            "pause\n",
            "team\n",
            "gprs\n",
            "\n",
            "As 10 palavras mais próximas de \"dollars\":\n",
            "mei\n",
            "cause\n",
            "swoop\n",
            "opted\n",
            "dangerous\n",
            "arrived\n",
            "recognise\n",
            "tht\n",
            "dead\n",
            "goodmate\n",
            "\n",
            "As 10 palavras mais próximas de \"pay\":\n",
            "sure\n",
            "quick\n",
            "dangerous\n",
            "paru\n",
            "somtimes\n",
            "hoping\n",
            "planned\n",
            "dead\n",
            "settled\n",
            "stupid\n",
            "\n",
            "As 10 palavras mais próximas de \"attach\":\n",
            "blanket\n",
            "relationship\n",
            "tour\n",
            "wonders\n",
            "possibly\n",
            "wocay\n",
            "coveragd\n",
            "bloke\n",
            "sheffield\n",
            "lecture\n",
            "\n",
            "As 10 palavras mais próximas de \"link\":\n",
            "worlds\n",
            "announcement\n",
            "clip\n",
            "shsex\n",
            "mustprovide\n",
            "afraid\n",
            "price\n",
            "subscription\n",
            "premium\n",
            "dogging\n",
            "\n"
          ],
          "name": "stdout"
        }
      ]
    },
    {
      "cell_type": "markdown",
      "metadata": {
        "id": "0Xyb7Abcs89D",
        "colab_type": "text"
      },
      "source": [
        "Agora confira os vizinhos das mesmas palavras calculados em relação à representação em $2$-D (duas dimensões) no _embedding_ gerado pelo PCA:"
      ]
    },
    {
      "cell_type": "code",
      "metadata": {
        "id": "k_bbwnN_aNqu",
        "colab_type": "code",
        "colab": {
          "base_uri": "https://localhost:8080/",
          "height": 1000
        },
        "outputId": "cd4789c2-3018-4e43-d639-9d9afcebb195"
      },
      "source": [
        "listas_de_vizinhos_2D = []\n",
        "for palavra in lista_de_palavras:\n",
        "  vizinhos_de_palavra = closest_words(palavra, n_closest=10, \n",
        "                                      embedding=Embedding_2D, \n",
        "                                      word2idx=word2idx, idx2word=idx2word)\n",
        "  listas_de_vizinhos_2D.append(vizinhos_de_palavra)"
      ],
      "execution_count": 110,
      "outputs": [
        {
          "output_type": "stream",
          "text": [
            "As 10 palavras mais próximas de \"free\":\n",
            "access\n",
            "message\n",
            "maat\n",
            "alle\n",
            "craving\n",
            "careers\n",
            "everywhere\n",
            "brought\n",
            "girlfrnd\n",
            "boyfriend\n",
            "\n",
            "As 10 palavras mais próximas de \"call\":\n",
            "deny\n",
            "callcost\n",
            "promptly\n",
            "disaster\n",
            "peak\n",
            "subject\n",
            "beauty\n",
            "learn\n",
            "txting\n",
            "splat\n",
            "\n",
            "As 10 palavras mais próximas de \"reply\":\n",
            "howz\n",
            "speedchat\n",
            "british\n",
            "using\n",
            "textpod\n",
            "sapna\n",
            "brown\n",
            "readers\n",
            "tke\n",
            "wrking\n",
            "\n",
            "As 10 palavras mais próximas de \"today\":\n",
            "barrel\n",
            "download\n",
            "stressful\n",
            "nowadays\n",
            "mention\n",
            "thanx\n",
            "outreach\n",
            "till\n",
            "hat\n",
            "deepest\n",
            "\n",
            "As 10 palavras mais próximas de \"card\":\n",
            "witot\n",
            "sweater\n",
            "dnot\n",
            "missin\n",
            "irulinae\n",
            "snake\n",
            "lion\n",
            "gate\n",
            "dha\n",
            "jog\n",
            "\n",
            "As 10 palavras mais próximas de \"mobile\":\n",
            "brandy\n",
            "rto\n",
            "click\n",
            "ladies\n",
            "sexy\n",
            "cyclists\n",
            "servs\n",
            "reward\n",
            "heading\n",
            "guaranteed\n",
            "\n",
            "As 10 palavras mais próximas de \"txt\":\n",
            "waliking\n",
            "monos\n",
            "loyalty\n",
            "aww\n",
            "nic\n",
            "asp\n",
            "splat\n",
            "txting\n",
            "learn\n",
            "beauty\n",
            "\n",
            "As 10 palavras mais próximas de \"dollars\":\n",
            "program\n",
            "missions\n",
            "connections\n",
            "falls\n",
            "valuable\n",
            "sources\n",
            "transport\n",
            "tightly\n",
            "recognise\n",
            "purchases\n",
            "\n",
            "As 10 palavras mais próximas de \"pay\":\n",
            "shower\n",
            "cstore\n",
            "abusers\n",
            "kittum\n",
            "rakhesh\n",
            "canlove\n",
            "underwear\n",
            "forgiveness\n",
            "buffet\n",
            "screwd\n",
            "\n",
            "As 10 palavras mais próximas de \"attach\":\n",
            "trishul\n",
            "steps\n",
            "memorable\n",
            "notebook\n",
            "eye\n",
            "avatar\n",
            "phasing\n",
            "murali\n",
            "pee\n",
            "proper\n",
            "\n",
            "As 10 palavras mais próximas de \"link\":\n",
            "axis\n",
            "billed\n",
            "changing\n",
            "revealed\n",
            "ringtones\n",
            "renewal\n",
            "atleast\n",
            "stu\n",
            "bluetooth\n",
            "downloads\n",
            "\n"
          ],
          "name": "stdout"
        }
      ]
    }
  ]
}