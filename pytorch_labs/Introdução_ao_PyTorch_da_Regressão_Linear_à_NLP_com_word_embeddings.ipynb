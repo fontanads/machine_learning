{
  "nbformat": 4,
  "nbformat_minor": 0,
  "metadata": {
    "colab": {
      "name": "Introdução ao PyTorch: da Regressão Linear à NLP com word-embeddings",
      "provenance": [],
      "collapsed_sections": [],
      "toc_visible": true,
      "mount_file_id": "1QmCNpORpj2DLi464ZDNU5F3dLzhZ4DhM",
      "authorship_tag": "ABX9TyOtqPcvAZS75yzJZ6wGJtbx",
      "include_colab_link": true
    },
    "kernelspec": {
      "name": "python3",
      "display_name": "Python 3"
    }
  },
  "cells": [
    {
      "cell_type": "markdown",
      "metadata": {
        "id": "view-in-github",
        "colab_type": "text"
      },
      "source": [
        "<a href=\"https://colab.research.google.com/github/fontanads/machine_learning/blob/master/pytorch_labs/Introdu%C3%A7%C3%A3o_ao_PyTorch_da_Regress%C3%A3o_Linear_%C3%A0_NLP_com_word_embeddings.ipynb\" target=\"_parent\"><img src=\"https://colab.research.google.com/assets/colab-badge.svg\" alt=\"Open In Colab\"/></a>"
      ]
    },
    {
      "cell_type": "code",
      "metadata": {
        "id": "P1c1rNcYTtqo",
        "colab_type": "code",
        "colab": {
          "base_uri": "https://localhost:8080/",
          "height": 70
        },
        "outputId": "1dde471c-3381-4658-8dbf-41b2dc853f35"
      },
      "source": [
        "from time import sleep\n",
        "from IPython import display\n",
        "import pylab as pl\n",
        "import seaborn as sns"
      ],
      "execution_count": 1,
      "outputs": [
        {
          "output_type": "stream",
          "text": [
            "/usr/local/lib/python3.6/dist-packages/statsmodels/tools/_testing.py:19: FutureWarning: pandas.util.testing is deprecated. Use the functions in the public API at pandas.testing instead.\n",
            "  import pandas.util.testing as tm\n"
          ],
          "name": "stderr"
        }
      ]
    },
    {
      "cell_type": "code",
      "metadata": {
        "id": "0V7Ijw0zT1O9",
        "colab_type": "code",
        "colab": {}
      },
      "source": [
        "import numpy as np\n",
        "import matplotlib.pyplot as plt\n",
        "import pandas as pd\n",
        "from sklearn.model_selection  import train_test_split"
      ],
      "execution_count": 2,
      "outputs": []
    },
    {
      "cell_type": "code",
      "metadata": {
        "id": "hbsC2CrQ3NE1",
        "colab_type": "code",
        "colab": {
          "base_uri": "https://localhost:8080/",
          "height": 84
        },
        "outputId": "fedbefe1-4c98-4b87-8c3d-b85bf4425dce"
      },
      "source": [
        "import nltk\n",
        "from nltk.corpus import stopwords \n",
        "\n",
        "nltk.download('punkt')\n",
        "nltk.download('stopwords')\n",
        "\n",
        "stop_words = set(stopwords.words('english'))"
      ],
      "execution_count": 3,
      "outputs": [
        {
          "output_type": "stream",
          "text": [
            "[nltk_data] Downloading package punkt to /root/nltk_data...\n",
            "[nltk_data]   Package punkt is already up-to-date!\n",
            "[nltk_data] Downloading package stopwords to /root/nltk_data...\n",
            "[nltk_data]   Package stopwords is already up-to-date!\n"
          ],
          "name": "stdout"
        }
      ]
    },
    {
      "cell_type": "code",
      "metadata": {
        "id": "A093PyDTEK3r",
        "colab_type": "code",
        "colab": {}
      },
      "source": [
        "# Valores padronizados para tamanho de fontes em gráficos\n",
        "SMALL_SIZE = 16\n",
        "MEDIUM_SIZE = 24\n",
        "BIGGER_SIZE = 30\n",
        "\n",
        "# Método para configurar as fontes de um gráfico com base nos valores padronizados \n",
        "def set_fontsizes_in_plot():\n",
        "    plt.rc('axes', titlesize=MEDIUM_SIZE)    # fontsize of the axes title\n",
        "    plt.rc('axes', labelsize=MEDIUM_SIZE)    # fontsize of the x and y labels\n",
        "    plt.rc('xtick', labelsize=SMALL_SIZE)    # fontsize of the tick labels\n",
        "    plt.rc('ytick', labelsize=SMALL_SIZE)    # fontsize of the tick labels\n",
        "    plt.rc('legend', fontsize=SMALL_SIZE)    # legend fontsize\n",
        "    plt.rc('figure', titlesize=BIGGER_SIZE)  # fontsize of the figure title"
      ],
      "execution_count": 4,
      "outputs": []
    },
    {
      "cell_type": "markdown",
      "metadata": {
        "id": "_zgaLxKoCZcJ",
        "colab_type": "text"
      },
      "source": [
        "# Introdução ao PyTorch"
      ]
    },
    {
      "cell_type": "markdown",
      "metadata": {
        "id": "FmmZFN2Hnla0",
        "colab_type": "text"
      },
      "source": [
        "Vamos importar o framework PyTorch e utilizá-lo para construir e treinar redes neurais.  \n",
        "Antes disso, é importante saber que existem diversos frameworks bastante utilizados, em diferentes contextos. Por exemplo:\n",
        "- [Theano (obsoleto)](http://deeplearning.net/software/theano/): foi um dos primeiros frameworks que permitia computação eficiente de cálculos com vetores e matrizes utilizando CPUs e GPUs.\n",
        "- [Tensorflow](https://www.tensorflow.org/): é um dos _backends_ que substituiu o Theano; desenvolvido pela Google, o Tensorflow é uma ferramenta poderosa para operar cálculos sobre grafos, e é amplamente utilizado no desenvolvimento e _deploy_ de modelos de _deep learning_. Recentemente, a versão 2.0 absorveu a API [Keras](https://keras.io/), que é uma abstração de mais alto nível para a construção de modelos de redes neurais profundas.\n",
        "- [Trax](https://trax-ml.readthedocs.io/en/latest/) é uma biblioteca mantida pelo time da Google Brain que busca abstrair ainda mais os códigos de deep learning, tornando o processo mais veloz e a implementação mais simples, em alto nível. Para otimizar a velocidade de processamento dos cálculos em GPUs/TPUs, o trax usa uma versão aprimorada do NumPy, chamada [JAX](https://github.com/google/jax).\n",
        "- [Caffe](https://caffe.berkeleyvision.org/) é um framework desenvolvido pelo grupo _Berkeley Artificial Intelligence Research_ (BAIR). Apesar de ter uma interface em Python, o framework é escrito em C++ e também possui uma API de baixo nível para C++. As applicações com Caffe são, em maioria, na área de visão computacional.\n",
        "\n"
      ]
    },
    {
      "cell_type": "markdown",
      "metadata": {
        "id": "8U3XeciSMg1s",
        "colab_type": "text"
      },
      "source": [
        "Finalment temos o [PyTorch](https://pytorch.org/), um framework mantido pelo time de inteligência artifical do Facebook.  \n",
        "\n",
        "Recentemente, o PyTorch ganhou muita atenção da comunidade acadêmica de pesquisa, principalmente por ser muito mais flexível do que o seu maior competidor, o TensorFlow 1.0, quando se torna necessário personalizar as camadas e operações realizadas numa rede neural.  \n",
        "\n",
        "Mesmo com a chegada do Tensorflow 2.0 (incluindo a integração com o Keras), o PyTorch continua crescendo em uso e adoção (veja [este post](https://towardsdatascience.com/pytorch-vs-tensorflow-in-2020-fe237862fae1) mais recente comparando a situação da competição PyTorch vs. Tensorflow em 2020, observando que hoje em dia há pouca diferença em termos de implementação)"
      ]
    },
    {
      "cell_type": "markdown",
      "metadata": {
        "id": "fwVlOGdQTiwC",
        "colab_type": "text"
      },
      "source": [
        "Agora sim, após esse contexto, vamos aprender como utilizar o PyTorch. Como recomendação, tente fazer as mesmas tarefas daqui usando o TensorFlow. :)"
      ]
    },
    {
      "cell_type": "code",
      "metadata": {
        "id": "fPpBpWd5CVtu",
        "colab_type": "code",
        "colab": {}
      },
      "source": [
        "import torch"
      ],
      "execution_count": 5,
      "outputs": []
    },
    {
      "cell_type": "markdown",
      "metadata": {
        "id": "pr2gf3etMfM2",
        "colab_type": "text"
      },
      "source": [
        "Vamos verificar a versão do PyTorch, e também do CUDA (suporte para processamento em GPU) relacionado."
      ]
    },
    {
      "cell_type": "code",
      "metadata": {
        "id": "zTRu7EpBnl8K",
        "colab_type": "code",
        "colab": {
          "base_uri": "https://localhost:8080/",
          "height": 35
        },
        "outputId": "fb4695ce-2035-4718-f553-b84ee2c866bb"
      },
      "source": [
        "torch.__version__"
      ],
      "execution_count": 6,
      "outputs": [
        {
          "output_type": "execute_result",
          "data": {
            "application/vnd.google.colaboratory.intrinsic+json": {
              "type": "string"
            },
            "text/plain": [
              "'1.6.0+cu101'"
            ]
          },
          "metadata": {
            "tags": []
          },
          "execution_count": 6
        }
      ]
    },
    {
      "cell_type": "markdown",
      "metadata": {
        "id": "aAoCJdTYDDZV",
        "colab_type": "text"
      },
      "source": [
        "## Preliminares: Tensores"
      ]
    },
    {
      "cell_type": "markdown",
      "metadata": {
        "id": "XbZDjwtrT_nN",
        "colab_type": "text"
      },
      "source": [
        "Assim como o pacote NumPy utiliza numpy-arrays como objeto para otimizar operações matemáticas utilizando as funções da sua biblioteca, os cálculos sobre grafos (ou seja, sobre redes neurais) também precisam de um tipo de objeto particular.  \n",
        "\n",
        "São os tensores. Um tensor nada mais é do que uma generalização dos conceitos de vetores/matrizes para espaços multidimensionais. Sua propriedade mais importante é se comportar como uma \"entidade\" que consegue se relacionar com outras entidades e sofrer transformações."
      ]
    },
    {
      "cell_type": "markdown",
      "metadata": {
        "id": "Bq1Z-FcLpYZN",
        "colab_type": "text"
      },
      "source": [
        "### Criando tensores"
      ]
    },
    {
      "cell_type": "markdown",
      "metadata": {
        "id": "Jn3temQ4pJQa",
        "colab_type": "text"
      },
      "source": [
        "Criando tensores a partir de arrays numpy:"
      ]
    },
    {
      "cell_type": "code",
      "metadata": {
        "id": "iEMV8IgFDJxl",
        "colab_type": "code",
        "colab": {
          "base_uri": "https://localhost:8080/",
          "height": 67
        },
        "outputId": "c856e4b6-b8dd-4b36-f016-af0c50ed0472"
      },
      "source": [
        "x = np.array([1,2,3,4])\n",
        "print(type(x), x.dtype, x, sep='\\n')"
      ],
      "execution_count": 7,
      "outputs": [
        {
          "output_type": "stream",
          "text": [
            "<class 'numpy.ndarray'>\n",
            "int64\n",
            "[1 2 3 4]\n"
          ],
          "name": "stdout"
        }
      ]
    },
    {
      "cell_type": "code",
      "metadata": {
        "id": "Y2V7A898nvaF",
        "colab_type": "code",
        "colab": {
          "base_uri": "https://localhost:8080/",
          "height": 67
        },
        "outputId": "a1d436fd-8351-4c4a-b6c1-80b29f35294f"
      },
      "source": [
        "X = torch.from_numpy(x) # np.ndarray para torch-tensor\n",
        "print(type(X), X.dtype, X, sep='\\n')"
      ],
      "execution_count": 8,
      "outputs": [
        {
          "output_type": "stream",
          "text": [
            "<class 'torch.Tensor'>\n",
            "torch.int64\n",
            "tensor([1, 2, 3, 4])\n"
          ],
          "name": "stdout"
        }
      ]
    },
    {
      "cell_type": "markdown",
      "metadata": {
        "id": "rClt1ofGpM-t",
        "colab_type": "text"
      },
      "source": [
        "Criando tensores independentes das arrays numpy:"
      ]
    },
    {
      "cell_type": "code",
      "metadata": {
        "id": "C1rhJpO3n8jP",
        "colab_type": "code",
        "colab": {
          "base_uri": "https://localhost:8080/",
          "height": 67
        },
        "outputId": "30fddb6c-45c7-442b-e5ad-786a7f97475a"
      },
      "source": [
        "X_copy = torch.tensor(x)\n",
        "print(type(X_copy), X_copy.dtype, X_copy, sep='\\n')"
      ],
      "execution_count": 9,
      "outputs": [
        {
          "output_type": "stream",
          "text": [
            "<class 'torch.Tensor'>\n",
            "torch.int64\n",
            "tensor([1, 2, 3, 4])\n"
          ],
          "name": "stdout"
        }
      ]
    },
    {
      "cell_type": "markdown",
      "metadata": {
        "id": "8ZRbymiyoJsV",
        "colab_type": "text"
      },
      "source": [
        "Em resumo:\n",
        "- `torch.from_numpy()` e `torch.as_tensor()` usam a mesma memória (instância), portanto uma alteração em um deles causa uma alteração no outro    \n",
        "\n",
        "- ``torch.tensor()`` faz uma cópia independente do array de entrada"
      ]
    },
    {
      "cell_type": "code",
      "metadata": {
        "id": "9xClvmXpoIk-",
        "colab_type": "code",
        "colab": {
          "base_uri": "https://localhost:8080/",
          "height": 67
        },
        "outputId": "5cdee8b4-c30a-4d72-b9ed-be28de2f3048"
      },
      "source": [
        "x[3] = -100\n",
        "print(f' numpy x: {x}, \\n tensor X (from numpy): {X}, \\n tensor X_copy: {X_copy}' )"
      ],
      "execution_count": 10,
      "outputs": [
        {
          "output_type": "stream",
          "text": [
            " numpy x: [   1    2    3 -100], \n",
            " tensor X (from numpy): tensor([   1,    2,    3, -100]), \n",
            " tensor X_copy: tensor([1, 2, 3, 4])\n"
          ],
          "name": "stdout"
        }
      ]
    },
    {
      "cell_type": "markdown",
      "metadata": {
        "id": "Xzq4aG0YpfCi",
        "colab_type": "text"
      },
      "source": [
        "Outros construtores da classe 'tensor' são:"
      ]
    },
    {
      "cell_type": "code",
      "metadata": {
        "id": "ikdDvKrHpeQ5",
        "colab_type": "code",
        "colab": {
          "base_uri": "https://localhost:8080/",
          "height": 34
        },
        "outputId": "702181da-a2e2-48d4-b667-6e98f2fd84f3"
      },
      "source": [
        "torch.FloatTensor([1,2,3,4]) # equivalente a torch.Tensor()"
      ],
      "execution_count": 11,
      "outputs": [
        {
          "output_type": "execute_result",
          "data": {
            "text/plain": [
              "tensor([1., 2., 3., 4.])"
            ]
          },
          "metadata": {
            "tags": []
          },
          "execution_count": 11
        }
      ]
    },
    {
      "cell_type": "code",
      "metadata": {
        "id": "5RC64NTopqjA",
        "colab_type": "code",
        "colab": {
          "base_uri": "https://localhost:8080/",
          "height": 34
        },
        "outputId": "cac42864-0fc2-490e-e7fc-47bfd5f06451"
      },
      "source": [
        "torch.LongTensor([1.1, 2.054, 3.141516, 4.]) # equivalenta a torch.tensor([1,2,3,4], dtype=torch.long)"
      ],
      "execution_count": 12,
      "outputs": [
        {
          "output_type": "execute_result",
          "data": {
            "text/plain": [
              "tensor([1, 2, 3, 4])"
            ]
          },
          "metadata": {
            "tags": []
          },
          "execution_count": 12
        }
      ]
    },
    {
      "cell_type": "markdown",
      "metadata": {
        "id": "ZD6JKQw8pWvY",
        "colab_type": "text"
      },
      "source": [
        "### Inicializando Tensores"
      ]
    },
    {
      "cell_type": "markdown",
      "metadata": {
        "id": "iDGo78LJW5dL",
        "colab_type": "text"
      },
      "source": [
        "Tensores \"vazios\":"
      ]
    },
    {
      "cell_type": "code",
      "metadata": {
        "id": "h5aWqv0gotdT",
        "colab_type": "code",
        "colab": {
          "base_uri": "https://localhost:8080/",
          "height": 151
        },
        "outputId": "21fe4f52-5ce4-49e2-80f1-9fe64f480e54"
      },
      "source": [
        "torch.empty(size=(4,10) )"
      ],
      "execution_count": 13,
      "outputs": [
        {
          "output_type": "execute_result",
          "data": {
            "text/plain": [
              "tensor([[4.1933e-35, 0.0000e+00, 0.0000e+00, 0.0000e+00, 0.0000e+00, 0.0000e+00,\n",
              "         0.0000e+00, 0.0000e+00, 0.0000e+00, 0.0000e+00],\n",
              "        [0.0000e+00, 0.0000e+00, 0.0000e+00, 0.0000e+00, 0.0000e+00, 0.0000e+00,\n",
              "         0.0000e+00, 0.0000e+00, 0.0000e+00, 0.0000e+00],\n",
              "        [0.0000e+00, 0.0000e+00, 0.0000e+00, 0.0000e+00, 0.0000e+00, 0.0000e+00,\n",
              "         0.0000e+00, 0.0000e+00, 0.0000e+00, 0.0000e+00],\n",
              "        [0.0000e+00, 0.0000e+00, 0.0000e+00, 0.0000e+00, 0.0000e+00, 0.0000e+00,\n",
              "         0.0000e+00, 0.0000e+00, 0.0000e+00, 0.0000e+00]])"
            ]
          },
          "metadata": {
            "tags": []
          },
          "execution_count": 13
        }
      ]
    },
    {
      "cell_type": "markdown",
      "metadata": {
        "id": "P4yAQij6W72d",
        "colab_type": "text"
      },
      "source": [
        "Tensores de uns e zeros (às vezes são chamados de \"máscaras\"):"
      ]
    },
    {
      "cell_type": "code",
      "metadata": {
        "id": "AdfIhA3QqUjM",
        "colab_type": "code",
        "colab": {
          "base_uri": "https://localhost:8080/",
          "height": 67
        },
        "outputId": "0bf4ebe2-d861-48db-8c66-814ec0b25ed3"
      },
      "source": [
        "torch.ones(size=(3,4))"
      ],
      "execution_count": 14,
      "outputs": [
        {
          "output_type": "execute_result",
          "data": {
            "text/plain": [
              "tensor([[1., 1., 1., 1.],\n",
              "        [1., 1., 1., 1.],\n",
              "        [1., 1., 1., 1.]])"
            ]
          },
          "metadata": {
            "tags": []
          },
          "execution_count": 14
        }
      ]
    },
    {
      "cell_type": "code",
      "metadata": {
        "id": "rZSzAkPyqX-4",
        "colab_type": "code",
        "colab": {
          "base_uri": "https://localhost:8080/",
          "height": 50
        },
        "outputId": "d8bb9b12-7556-4333-a9fa-b43aab13d854"
      },
      "source": [
        "torch.zeros(size=(2,5))"
      ],
      "execution_count": 15,
      "outputs": [
        {
          "output_type": "execute_result",
          "data": {
            "text/plain": [
              "tensor([[0., 0., 0., 0., 0.],\n",
              "        [0., 0., 0., 0., 0.]])"
            ]
          },
          "metadata": {
            "tags": []
          },
          "execution_count": 15
        }
      ]
    },
    {
      "cell_type": "markdown",
      "metadata": {
        "id": "BXhL2pQYXCqm",
        "colab_type": "text"
      },
      "source": [
        "Em vez de usar as dimensões (size, shape) como entrada, podemos \"exemplificar\" com outro tensor já existente:"
      ]
    },
    {
      "cell_type": "code",
      "metadata": {
        "id": "yrtsVHbGxOpO",
        "colab_type": "code",
        "colab": {
          "base_uri": "https://localhost:8080/",
          "height": 34
        },
        "outputId": "cd8ba6bb-226d-420f-d5c6-af9931ac9313"
      },
      "source": [
        "torch.ones_like(X_copy,dtype=torch.float)"
      ],
      "execution_count": 16,
      "outputs": [
        {
          "output_type": "execute_result",
          "data": {
            "text/plain": [
              "tensor([1., 1., 1., 1.])"
            ]
          },
          "metadata": {
            "tags": []
          },
          "execution_count": 16
        }
      ]
    },
    {
      "cell_type": "code",
      "metadata": {
        "id": "mvnkNSfIxTJf",
        "colab_type": "code",
        "colab": {
          "base_uri": "https://localhost:8080/",
          "height": 34
        },
        "outputId": "cef1bc5e-3183-4706-8aa9-73aea3c9dd2b"
      },
      "source": [
        "torch.zeros_like(X_copy)"
      ],
      "execution_count": 17,
      "outputs": [
        {
          "output_type": "execute_result",
          "data": {
            "text/plain": [
              "tensor([0, 0, 0, 0])"
            ]
          },
          "metadata": {
            "tags": []
          },
          "execution_count": 17
        }
      ]
    },
    {
      "cell_type": "markdown",
      "metadata": {
        "id": "J3RcuF1xXMJg",
        "colab_type": "text"
      },
      "source": [
        "**Sequências** ``[início, fim)`` com passo fixo (número de elementos calculado):"
      ]
    },
    {
      "cell_type": "code",
      "metadata": {
        "id": "Yxpp4UYSqcI-",
        "colab_type": "code",
        "colab": {
          "base_uri": "https://localhost:8080/",
          "height": 34
        },
        "outputId": "90f0f3be-5557-4591-9a01-7512a7277b8e"
      },
      "source": [
        "torch.arange(start=-10, end=11, step=2)"
      ],
      "execution_count": 18,
      "outputs": [
        {
          "output_type": "execute_result",
          "data": {
            "text/plain": [
              "tensor([-10,  -8,  -6,  -4,  -2,   0,   2,   4,   6,   8,  10])"
            ]
          },
          "metadata": {
            "tags": []
          },
          "execution_count": 18
        }
      ]
    },
    {
      "cell_type": "markdown",
      "metadata": {
        "id": "DbO_6seyXUmM",
        "colab_type": "text"
      },
      "source": [
        "**Sequências** com $n$ elementos igualmente espaçados entre ``[início, fim)`` (passo calculado):"
      ]
    },
    {
      "cell_type": "code",
      "metadata": {
        "id": "MJT9p3V0qkSl",
        "colab_type": "code",
        "colab": {
          "base_uri": "https://localhost:8080/",
          "height": 67
        },
        "outputId": "313f3e1b-23b0-4f71-a16b-1d95aad148b6"
      },
      "source": [
        "torch.linspace(start=0, end=10, steps=21)"
      ],
      "execution_count": 19,
      "outputs": [
        {
          "output_type": "execute_result",
          "data": {
            "text/plain": [
              "tensor([ 0.0000,  0.5000,  1.0000,  1.5000,  2.0000,  2.5000,  3.0000,  3.5000,\n",
              "         4.0000,  4.5000,  5.0000,  5.5000,  6.0000,  6.5000,  7.0000,  7.5000,\n",
              "         8.0000,  8.5000,  9.0000,  9.5000, 10.0000])"
            ]
          },
          "metadata": {
            "tags": []
          },
          "execution_count": 19
        }
      ]
    },
    {
      "cell_type": "markdown",
      "metadata": {
        "id": "tcze7oEHXwX0",
        "colab_type": "text"
      },
      "source": [
        "Também podemos usar ``reshape`` e ``view`` para mudar as dimensões dos tensores:"
      ]
    },
    {
      "cell_type": "code",
      "metadata": {
        "id": "AlBybw19qpNP",
        "colab_type": "code",
        "colab": {
          "base_uri": "https://localhost:8080/",
          "height": 134
        },
        "outputId": "29c4bb04-067a-429b-f9c0-ab906267a0bb"
      },
      "source": [
        "torch.linspace(start=0, end=10, steps=21).reshape(shape=(-1,3))"
      ],
      "execution_count": 20,
      "outputs": [
        {
          "output_type": "execute_result",
          "data": {
            "text/plain": [
              "tensor([[ 0.0000,  0.5000,  1.0000],\n",
              "        [ 1.5000,  2.0000,  2.5000],\n",
              "        [ 3.0000,  3.5000,  4.0000],\n",
              "        [ 4.5000,  5.0000,  5.5000],\n",
              "        [ 6.0000,  6.5000,  7.0000],\n",
              "        [ 7.5000,  8.0000,  8.5000],\n",
              "        [ 9.0000,  9.5000, 10.0000]])"
            ]
          },
          "metadata": {
            "tags": []
          },
          "execution_count": 20
        }
      ]
    },
    {
      "cell_type": "code",
      "metadata": {
        "id": "WbpsGGa6q2kN",
        "colab_type": "code",
        "colab": {
          "base_uri": "https://localhost:8080/",
          "height": 134
        },
        "outputId": "d3c7a4e0-0ba7-4ad8-f893-660f95a5bd9d"
      },
      "source": [
        "torch.linspace(start=0, end=10, steps=21).view(size=(-1,3))"
      ],
      "execution_count": 21,
      "outputs": [
        {
          "output_type": "execute_result",
          "data": {
            "text/plain": [
              "tensor([[ 0.0000,  0.5000,  1.0000],\n",
              "        [ 1.5000,  2.0000,  2.5000],\n",
              "        [ 3.0000,  3.5000,  4.0000],\n",
              "        [ 4.5000,  5.0000,  5.5000],\n",
              "        [ 6.0000,  6.5000,  7.0000],\n",
              "        [ 7.5000,  8.0000,  8.5000],\n",
              "        [ 9.0000,  9.5000, 10.0000]])"
            ]
          },
          "metadata": {
            "tags": []
          },
          "execution_count": 21
        }
      ]
    },
    {
      "cell_type": "markdown",
      "metadata": {
        "id": "e29AKlTtX1L9",
        "colab_type": "text"
      },
      "source": [
        "desde que sempre sejam mantidos o número total de elementos!"
      ]
    },
    {
      "cell_type": "markdown",
      "metadata": {
        "id": "FjtxIlNkv6k2",
        "colab_type": "text"
      },
      "source": [
        "### Tensores com números aleatórios"
      ]
    },
    {
      "cell_type": "markdown",
      "metadata": {
        "id": "3RGYJfZ3xcG6",
        "colab_type": "text"
      },
      "source": [
        "Semente fixa (para reproduzir os resultados):"
      ]
    },
    {
      "cell_type": "code",
      "metadata": {
        "id": "v41RODbJxg3B",
        "colab_type": "code",
        "colab": {
          "base_uri": "https://localhost:8080/",
          "height": 34
        },
        "outputId": "86cae2ff-41f0-45a3-be0e-9e249929f3e3"
      },
      "source": [
        "torch.manual_seed(42)"
      ],
      "execution_count": 22,
      "outputs": [
        {
          "output_type": "execute_result",
          "data": {
            "text/plain": [
              "<torch._C.Generator at 0x7fd4e9a509a8>"
            ]
          },
          "metadata": {
            "tags": []
          },
          "execution_count": 22
        }
      ]
    },
    {
      "cell_type": "markdown",
      "metadata": {
        "id": "fhusTSlLwHI7",
        "colab_type": "text"
      },
      "source": [
        "Cada elemento segue uma distribuição uniforme (valores entre $0$ e $1$, com a mesma probabilidade de serem gerados):"
      ]
    },
    {
      "cell_type": "code",
      "metadata": {
        "id": "m7WX_dSsrbyA",
        "colab_type": "code",
        "colab": {
          "base_uri": "https://localhost:8080/",
          "height": 34
        },
        "outputId": "5f792c6a-396b-4ba0-9c0b-9c7bf1d1fef5"
      },
      "source": [
        "torch.rand(1, 7)"
      ],
      "execution_count": 23,
      "outputs": [
        {
          "output_type": "execute_result",
          "data": {
            "text/plain": [
              "tensor([[0.8823, 0.9150, 0.3829, 0.9593, 0.3904, 0.6009, 0.2566]])"
            ]
          },
          "metadata": {
            "tags": []
          },
          "execution_count": 23
        }
      ]
    },
    {
      "cell_type": "markdown",
      "metadata": {
        "id": "bb5huj8FwQZd",
        "colab_type": "text"
      },
      "source": [
        "Cada elemento segue uma distribuição Gaussiana normal (média em $0$, desvio padrão $1$)"
      ]
    },
    {
      "cell_type": "code",
      "metadata": {
        "id": "rmHE5DCrv_yP",
        "colab_type": "code",
        "colab": {
          "base_uri": "https://localhost:8080/",
          "height": 34
        },
        "outputId": "1e681c7a-85c7-47ef-f3a8-76b1ee026aa2"
      },
      "source": [
        "torch.randn(1,7)"
      ],
      "execution_count": 24,
      "outputs": [
        {
          "output_type": "execute_result",
          "data": {
            "text/plain": [
              "tensor([[-0.2147,  0.2989, -0.0107, -1.2492, -1.2284,  0.5294,  1.2211]])"
            ]
          },
          "metadata": {
            "tags": []
          },
          "execution_count": 24
        }
      ]
    },
    {
      "cell_type": "markdown",
      "metadata": {
        "id": "9-J3-MzDwsuS",
        "colab_type": "text"
      },
      "source": [
        "Números inteiros, sorteados aleatoriamente (com a mesma probabilidade) entre $a$ (`low`) e $b$ (`high`) (*valor superior não inclusivo*)."
      ]
    },
    {
      "cell_type": "code",
      "metadata": {
        "id": "As1Az0YJwExX",
        "colab_type": "code",
        "colab": {
          "base_uri": "https://localhost:8080/",
          "height": 101
        },
        "outputId": "101fc6ef-6f71-485d-bd37-4ada6cb9e187"
      },
      "source": [
        "torch.randint(low=0, high=4, size=(5,5))"
      ],
      "execution_count": 25,
      "outputs": [
        {
          "output_type": "execute_result",
          "data": {
            "text/plain": [
              "tensor([[3, 3, 1, 1, 1],\n",
              "        [3, 3, 0, 0, 3],\n",
              "        [1, 1, 0, 3, 0],\n",
              "        [0, 2, 2, 2, 1],\n",
              "        [3, 3, 3, 3, 2]])"
            ]
          },
          "metadata": {
            "tags": []
          },
          "execution_count": 25
        }
      ]
    },
    {
      "cell_type": "markdown",
      "metadata": {
        "id": "ImgIBmbiYABK",
        "colab_type": "text"
      },
      "source": [
        "Também podemos criar tensores aleatórios exemplificando com as dimensões de um outro tensor existente."
      ]
    },
    {
      "cell_type": "code",
      "metadata": {
        "id": "rSN8nvbHx0Oq",
        "colab_type": "code",
        "colab": {
          "base_uri": "https://localhost:8080/",
          "height": 67
        },
        "outputId": "b75dc0ad-b915-4e44-b9b1-19fb509ff091"
      },
      "source": [
        "X0 = torch.arange(0, 12, dtype=torch.float64).view(size=(3,-1))\n",
        "X0"
      ],
      "execution_count": 26,
      "outputs": [
        {
          "output_type": "execute_result",
          "data": {
            "text/plain": [
              "tensor([[ 0.,  1.,  2.,  3.],\n",
              "        [ 4.,  5.,  6.,  7.],\n",
              "        [ 8.,  9., 10., 11.]], dtype=torch.float64)"
            ]
          },
          "metadata": {
            "tags": []
          },
          "execution_count": 26
        }
      ]
    },
    {
      "cell_type": "code",
      "metadata": {
        "id": "DQ7fGvo0wfJa",
        "colab_type": "code",
        "colab": {
          "base_uri": "https://localhost:8080/",
          "height": 67
        },
        "outputId": "5a196bc7-9a79-4268-8b2f-79a3ca259d3f"
      },
      "source": [
        "X1 = torch.randn_like(X0)\n",
        "X1"
      ],
      "execution_count": 27,
      "outputs": [
        {
          "output_type": "execute_result",
          "data": {
            "text/plain": [
              "tensor([[ 0.1511,  0.2815,  0.0562,  0.5227],\n",
              "        [-0.2384, -0.0499,  0.5263, -0.0085],\n",
              "        [ 0.7291,  0.1331,  0.8640, -1.0157]], dtype=torch.float64)"
            ]
          },
          "metadata": {
            "tags": []
          },
          "execution_count": 27
        }
      ]
    },
    {
      "cell_type": "markdown",
      "metadata": {
        "id": "QGaBdP07xkBj",
        "colab_type": "text"
      },
      "source": [
        "### Atributos de tensores"
      ]
    },
    {
      "cell_type": "markdown",
      "metadata": {
        "id": "ejG_BiUWYI6_",
        "colab_type": "text"
      },
      "source": [
        "``shape`` é um atributo de um tensor, enquanto ``size()`` é um método que retorna esse atributo como saída"
      ]
    },
    {
      "cell_type": "code",
      "metadata": {
        "id": "_aILOXtQxnP4",
        "colab_type": "code",
        "colab": {
          "base_uri": "https://localhost:8080/",
          "height": 34
        },
        "outputId": "599d61a7-05d4-479c-b07d-643b6a5620fb"
      },
      "source": [
        "X1.shape"
      ],
      "execution_count": 28,
      "outputs": [
        {
          "output_type": "execute_result",
          "data": {
            "text/plain": [
              "torch.Size([3, 4])"
            ]
          },
          "metadata": {
            "tags": []
          },
          "execution_count": 28
        }
      ]
    },
    {
      "cell_type": "code",
      "metadata": {
        "id": "bfloHo6TyTpE",
        "colab_type": "code",
        "colab": {
          "base_uri": "https://localhost:8080/",
          "height": 34
        },
        "outputId": "63258456-e108-4008-8cdb-b7a0fd3bb64d"
      },
      "source": [
        "X1.size()"
      ],
      "execution_count": 29,
      "outputs": [
        {
          "output_type": "execute_result",
          "data": {
            "text/plain": [
              "torch.Size([3, 4])"
            ]
          },
          "metadata": {
            "tags": []
          },
          "execution_count": 29
        }
      ]
    },
    {
      "cell_type": "markdown",
      "metadata": {
        "id": "Xy0ij_JmYTCJ",
        "colab_type": "text"
      },
      "source": [
        "``device`` é um atributo que indica se o tensor está rodando sobre uma CPU ou GPU"
      ]
    },
    {
      "cell_type": "code",
      "metadata": {
        "id": "8QkJGj-1yUXe",
        "colab_type": "code",
        "colab": {
          "base_uri": "https://localhost:8080/",
          "height": 34
        },
        "outputId": "64b35420-86a8-4d2f-f82f-1ee94ae9471a"
      },
      "source": [
        "X1.device"
      ],
      "execution_count": 30,
      "outputs": [
        {
          "output_type": "execute_result",
          "data": {
            "text/plain": [
              "device(type='cpu')"
            ]
          },
          "metadata": {
            "tags": []
          },
          "execution_count": 30
        }
      ]
    },
    {
      "cell_type": "code",
      "metadata": {
        "id": "g0989209yXkq",
        "colab_type": "code",
        "colab": {}
      },
      "source": [
        "# cuda"
      ],
      "execution_count": 31,
      "outputs": []
    },
    {
      "cell_type": "markdown",
      "metadata": {
        "id": "6fBenLLKydpL",
        "colab_type": "text"
      },
      "source": [
        "### Slicing e Operações"
      ]
    },
    {
      "cell_type": "markdown",
      "metadata": {
        "id": "Jb4xWgqvygQZ",
        "colab_type": "text"
      },
      "source": [
        "Slicing funciona similar ao numpy:"
      ]
    },
    {
      "cell_type": "code",
      "metadata": {
        "id": "DlRkxrGJyfWb",
        "colab_type": "code",
        "colab": {
          "base_uri": "https://localhost:8080/",
          "height": 151
        },
        "outputId": "00594481-120a-4956-9237-896c5c664f64"
      },
      "source": [
        "print('X1:', X1, sep='\\n')\n",
        "print(f'shape de X1: {X1.shape}')\n",
        "print(f'Linha 0 de X1: {X1[0]}')\n",
        "print(f'Coluna 0 de X1: {X1[:, 0]}')\n",
        "print(f'Elemento da Linha 2, Coluna 1 de X1: {X1[2, 1]}')"
      ],
      "execution_count": 32,
      "outputs": [
        {
          "output_type": "stream",
          "text": [
            "X1:\n",
            "tensor([[ 0.1511,  0.2815,  0.0562,  0.5227],\n",
            "        [-0.2384, -0.0499,  0.5263, -0.0085],\n",
            "        [ 0.7291,  0.1331,  0.8640, -1.0157]], dtype=torch.float64)\n",
            "shape de X1: torch.Size([3, 4])\n",
            "Linha 0 de X1: tensor([0.1511, 0.2815, 0.0562, 0.5227], dtype=torch.float64)\n",
            "Coluna 0 de X1: tensor([ 0.1511, -0.2384,  0.7291], dtype=torch.float64)\n",
            "Elemento da Linha 2, Coluna 1 de X1: 0.1331419636369182\n"
          ],
          "name": "stdout"
        }
      ]
    },
    {
      "cell_type": "markdown",
      "metadata": {
        "id": "e1Iky4Ij0K5Q",
        "colab_type": "text"
      },
      "source": [
        "Vamos criar dois tensores em formato de vetor linha, $\\mathbf{v}_1$ e $\\mathbf{v}_2$, com dimensões $1 \\times n_{\\text{c}}$, sendo $n_c$ o número de colunas."
      ]
    },
    {
      "cell_type": "code",
      "metadata": {
        "id": "08Z6azOJyi4B",
        "colab_type": "code",
        "colab": {
          "base_uri": "https://localhost:8080/",
          "height": 50
        },
        "outputId": "36eac4ae-a300-4f4b-cf48-eb2fd20b3d66"
      },
      "source": [
        "v1 = torch.arange(3,0,-1, dtype=torch.float64).view(size=(-1,3))\n",
        "v2 = torch.from_numpy(np.array([1,0,-1])).view(size=(-1,3)).type(torch.float64)\n",
        "print('v1', v1,v1.shape)\n",
        "print('v2', v2, v2.shape)"
      ],
      "execution_count": 33,
      "outputs": [
        {
          "output_type": "stream",
          "text": [
            "v1 tensor([[3., 2., 1.]], dtype=torch.float64) torch.Size([1, 3])\n",
            "v2 tensor([[ 1.,  0., -1.]], dtype=torch.float64) torch.Size([1, 3])\n"
          ],
          "name": "stdout"
        }
      ]
    },
    {
      "cell_type": "markdown",
      "metadata": {
        "id": "lepdyYUN0fCT",
        "colab_type": "text"
      },
      "source": [
        "Algumas **operações binárias elemento a elemento**, entre *tensores de dimensões idênticas*:"
      ]
    },
    {
      "cell_type": "code",
      "metadata": {
        "id": "NQsHx3Iczf7w",
        "colab_type": "code",
        "colab": {
          "base_uri": "https://localhost:8080/",
          "height": 34
        },
        "outputId": "c2248a2f-4117-4a18-e3eb-6377fd45beb6"
      },
      "source": [
        "v1+v2"
      ],
      "execution_count": 34,
      "outputs": [
        {
          "output_type": "execute_result",
          "data": {
            "text/plain": [
              "tensor([[4., 2., 0.]], dtype=torch.float64)"
            ]
          },
          "metadata": {
            "tags": []
          },
          "execution_count": 34
        }
      ]
    },
    {
      "cell_type": "code",
      "metadata": {
        "id": "vqxVnPMczojZ",
        "colab_type": "code",
        "colab": {
          "base_uri": "https://localhost:8080/",
          "height": 34
        },
        "outputId": "e6924f31-7c4e-44e2-9e6f-dc5afb2b76ba"
      },
      "source": [
        "v1-v2"
      ],
      "execution_count": 35,
      "outputs": [
        {
          "output_type": "execute_result",
          "data": {
            "text/plain": [
              "tensor([[2., 2., 2.]], dtype=torch.float64)"
            ]
          },
          "metadata": {
            "tags": []
          },
          "execution_count": 35
        }
      ]
    },
    {
      "cell_type": "code",
      "metadata": {
        "id": "a-rsvZWEzy0M",
        "colab_type": "code",
        "colab": {
          "base_uri": "https://localhost:8080/",
          "height": 34
        },
        "outputId": "3041be67-7904-43eb-f55c-51f7022b4957"
      },
      "source": [
        "v1*v2"
      ],
      "execution_count": 36,
      "outputs": [
        {
          "output_type": "execute_result",
          "data": {
            "text/plain": [
              "tensor([[ 3.,  0., -1.]], dtype=torch.float64)"
            ]
          },
          "metadata": {
            "tags": []
          },
          "execution_count": 36
        }
      ]
    },
    {
      "cell_type": "code",
      "metadata": {
        "id": "-9Hq19rZzzl5",
        "colab_type": "code",
        "colab": {
          "base_uri": "https://localhost:8080/",
          "height": 34
        },
        "outputId": "de76018d-2fdc-4de0-fa5e-eb89cbb9782c"
      },
      "source": [
        "v1/v2"
      ],
      "execution_count": 37,
      "outputs": [
        {
          "output_type": "execute_result",
          "data": {
            "text/plain": [
              "tensor([[ 3., inf, -1.]], dtype=torch.float64)"
            ]
          },
          "metadata": {
            "tags": []
          },
          "execution_count": 37
        }
      ]
    },
    {
      "cell_type": "code",
      "metadata": {
        "id": "WE0Uvy7GsBbh",
        "colab_type": "code",
        "colab": {
          "base_uri": "https://localhost:8080/",
          "height": 34
        },
        "outputId": "cb093dc8-9f81-4dd5-fd9c-2a2e88142eb7"
      },
      "source": [
        "v1**v2"
      ],
      "execution_count": 38,
      "outputs": [
        {
          "output_type": "execute_result",
          "data": {
            "text/plain": [
              "tensor([[3., 1., 1.]], dtype=torch.float64)"
            ]
          },
          "metadata": {
            "tags": []
          },
          "execution_count": 38
        }
      ]
    },
    {
      "cell_type": "markdown",
      "metadata": {
        "id": "selS8t760pAK",
        "colab_type": "text"
      },
      "source": [
        "Para realizar **operações matriciais** (em duas dimensões), precisamos respeitar a regra de que o número de colunas da matriz à esquerda tem que ser o mesmo número de linhas da matriz à direita."
      ]
    },
    {
      "cell_type": "markdown",
      "metadata": {
        "id": "eQy9AMJGsvDx",
        "colab_type": "text"
      },
      "source": [
        "Seja $A$ uma matriz com $m$ linhas e $n$ colunas e $B$ uma matriz com $n$ linhas e $p$ colunas, temos que:\n",
        "\n",
        "$A_{m \\times n}$ $\\times$ $B_{n \\times p}$ = $C_{m \\times p}$ \n",
        "\n",
        "resulta na matriz $C$ com $m$ linhas e $p$ colunas.  \n",
        "Note que o número de colunas de $A$, matriz à esquerda da multiplicação, é idêntico ao número de linhas de $B$, matriz à direita da multiplicação, portanto é possível realizar a operação."
      ]
    },
    {
      "cell_type": "code",
      "metadata": {
        "id": "sWSv16uAz01V",
        "colab_type": "code",
        "colab": {
          "base_uri": "https://localhost:8080/",
          "height": 101
        },
        "outputId": "a2f2c512-7198-4d99-ef9d-3b84a773f6f2"
      },
      "source": [
        "print(f' shape de v1: {v1.shape}')\n",
        "print(f' shape de v2 tranposto: {v2.T.shape}')\n",
        "print(f' # de colunas de v1 é igual ao # de linhas de v2.T? {v1.shape[1] == v2.T.shape[0]}')\n",
        "print(f' v1 multiplicando matricialmente v2.T: {v1@v2.T}')  # torch.dot(v1, v2.T)\n",
        "print(f' dimensões do resultado {v1.shape[0]} x {v2.T.shape[1]}')"
      ],
      "execution_count": 39,
      "outputs": [
        {
          "output_type": "stream",
          "text": [
            " shape de v1: torch.Size([1, 3])\n",
            " shape de v2 tranposto: torch.Size([3, 1])\n",
            " # de colunas de v1 é igual ao # de linhas de v2.T? True\n",
            " v1 multiplicando matricialmente v2.T: tensor([[2.]], dtype=torch.float64)\n",
            " dimensões do resultado 1 x 1\n"
          ],
          "name": "stdout"
        }
      ]
    },
    {
      "cell_type": "code",
      "metadata": {
        "id": "vkgAaJTw0Dra",
        "colab_type": "code",
        "colab": {
          "base_uri": "https://localhost:8080/",
          "height": 151
        },
        "outputId": "0f8de77d-2341-4df4-8541-7126d5b03624"
      },
      "source": [
        "print(f' shape de v1 transposto: {v1.T.shape}')\n",
        "print(f' shape de v2 : {v2.shape}')\n",
        "print(f' # de colunas de v1 é igual ao # de linhas de v2.T? {v1.T.shape[1] == v2.shape[0]}')\n",
        "print('v1.T multiplicando matricialmente v2:', v1.T@v2, sep='\\n') \n",
        "print(f' dimensões do resultado {v1.T.shape[0]} x {v2.shape[1]}')"
      ],
      "execution_count": 40,
      "outputs": [
        {
          "output_type": "stream",
          "text": [
            " shape de v1 transposto: torch.Size([3, 1])\n",
            " shape de v2 : torch.Size([1, 3])\n",
            " # de colunas de v1 é igual ao # de linhas de v2.T? True\n",
            "v1.T multiplicando matricialmente v2:\n",
            "tensor([[ 3.,  0., -3.],\n",
            "        [ 2.,  0., -2.],\n",
            "        [ 1.,  0., -1.]], dtype=torch.float64)\n",
            " dimensões do resultado 3 x 3\n"
          ],
          "name": "stdout"
        }
      ]
    },
    {
      "cell_type": "markdown",
      "metadata": {
        "id": "Ftjwz7Nq3LW3",
        "colab_type": "text"
      },
      "source": [
        "## Implementando uma Regressão Linear com Redes Neurais"
      ]
    },
    {
      "cell_type": "markdown",
      "metadata": {
        "id": "EVnBF8uk3TRd",
        "colab_type": "text"
      },
      "source": [
        "Uma regressão linear é uma estimativa de uma variável dependente $h$ a partir de uma combinação linear de variáveis observadas $x_1, \\ldots, x_n$, independentes entre si.  \n",
        "As contribuições de cada variável independente para a previsão da variável estimada são ponderadas pelos coeficientes $w_1, \\ldots, w_n$.\n",
        "\n",
        "Matematicamente, realizamos o procedimento como mostrado na ilustração abaixo:"
      ]
    },
    {
      "cell_type": "markdown",
      "metadata": {
        "id": "fuT_rB3Rbf9f",
        "colab_type": "text"
      },
      "source": [
        "<img src=\"https://drive.google.com/uc?export=view&id=1X2lh9TJOqL3bAHfnQUilcvGFYqkEbU5x\" alt=\"Cálculo da métrica do Perceptron:\" width=\"500px\"/> "
      ]
    },
    {
      "cell_type": "markdown",
      "metadata": {
        "id": "91EikQUu6Q63",
        "colab_type": "text"
      },
      "source": [
        "Escrevendo na forma vetorial, podemos descrever a regressão linear conforme mostra a seguinte Figura:  \n",
        "<img src=\"https://drive.google.com/uc?export=view&id=1Bq8Y0FCzvRupRYN0hVIlkn_0MSGl5k1K\" alt=\"Função de ativação\" width=\"500px\"/> "
      ]
    },
    {
      "cell_type": "markdown",
      "metadata": {
        "id": "78Vb2sVm4HMk",
        "colab_type": "text"
      },
      "source": [
        "A regressão linear é um cálculo recorrente na composição de redes neurais. Em 1958, Frank Rosenblatt desenvolveu o modelo de classificação supervisionada denominado __*perceptron*__. O perceptron nada mais é do que a aplicação de uma regra de decisão binária sobre o resultado de uma regressão linear:\n",
        "$g\\left(h\\right) = \\begin{cases} +1 & \\text{se } h\\geq 0 \\\\ -1 & \\text{se } h<0  \\end{cases}$."
      ]
    },
    {
      "cell_type": "markdown",
      "metadata": {
        "id": "PN0ly6uK5ump",
        "colab_type": "text"
      },
      "source": [
        "No contexto atual de redes neurais, denominamos esse tipo de transformação aplicada sobre o resultado de uma regressão linear de variáveis de entrada como **funções de ativação**. "
      ]
    },
    {
      "cell_type": "markdown",
      "metadata": {
        "id": "36UYg1bV6EdA",
        "colab_type": "text"
      },
      "source": [
        "Acrescentando a função de ativação, chegamos ao modelo de uma \"_unidade_\" de uma __camada densa__ de redes neurais. Essa unidade também é comumente denominada \"__neurônio__\", em função da motivação histórica que originou o conceito das redes neurais."
      ]
    },
    {
      "cell_type": "markdown",
      "metadata": {
        "id": "naX38lO77PAQ",
        "colab_type": "text"
      },
      "source": [
        "A imagem abaixo mostra como ocorre a operação matemática embutida em um neurônio de uma camada densa das redes neurais.   \n",
        "\n",
        "<img src=\"https://drive.google.com/uc?export=view&id=1IBMyPcC1uLabf0n9U84M968Lrw6X_0gM\" alt=\"Função de ativação\" width=\"500px\"/> "
      ]
    },
    {
      "cell_type": "markdown",
      "metadata": {
        "id": "-efO0Bq87lYc",
        "colab_type": "text"
      },
      "source": [
        "Quando a função de ativação é a identidade, o neurônio retorna um valor real (a regressão linear da saída). Entretanto, escolhendo a função de ativação sigmóide, por exemplo, na qual $g(h)=\\dfrac{1}{1-e^{-h}}$, o neurônio passa a implementar a **regressão logística**."
      ]
    },
    {
      "cell_type": "markdown",
      "metadata": {
        "id": "1uYQBx2w7-wl",
        "colab_type": "text"
      },
      "source": [
        "Nesta seção, vamos implementar um neurônio que cálcula na sua saída $y$ uma estimativa linear a partir de uma única entrada $x_1$.  \n",
        "Ou seja, implementaremos uma unidade linear:  \n",
        "$y = w_1 x_1 + b$  \n",
        "sem usar nenhuma ativação.\n",
        "\n",
        "Note que se trata basicamente da equação da reta com inclinação $w_1$ e um termo de \"interceptação\" $b$.  \n",
        "Em redes neurais, também denomina-se $b$ como o termo de \"**_bias_**\", um valor constante que ajusta a equação e representa uma média de todas as influências que as variáveis independentes não conseguem representar sozinhas sobre o resultado estimado de $y$.  \n",
        "Na regressão linear, o _bias_ também é chamado de termo de erro, visto que $b = y - \\sum\\limits_i w_i x_i$."
      ]
    },
    {
      "cell_type": "markdown",
      "metadata": {
        "id": "kdXpGxXv3VR6",
        "colab_type": "text"
      },
      "source": [
        "### Dataset artificial"
      ]
    },
    {
      "cell_type": "markdown",
      "metadata": {
        "id": "6AYL3Vwl95iO",
        "colab_type": "text"
      },
      "source": [
        "Vamos implementar um neurônio que estima $y$ a partir dos valores de $x$ seguindo a relação $\\hat{y} = w_1 x + b$.  \n",
        "Nesse caso, $\\hat{y}$ é o valor estimado do valor verdadeiro de $y$."
      ]
    },
    {
      "cell_type": "markdown",
      "metadata": {
        "id": "L8PXQhzE-Xwy",
        "colab_type": "text"
      },
      "source": [
        "Primeiramente, vamos artificialmente gerar os valores possíveis para $x$."
      ]
    },
    {
      "cell_type": "code",
      "metadata": {
        "id": "mJpQnWN33OvO",
        "colab_type": "code",
        "colab": {
          "base_uri": "https://localhost:8080/",
          "height": 67
        },
        "outputId": "05f4450f-d876-49ef-d2fc-c070d9bd2bb0"
      },
      "source": [
        "x = torch.linspace(-10., 10., 100).view(-1,1) # cada linha é um exemplo da entrada x; cada coluna é uma feature\n",
        "print(x.shape, x.dtype, type(x), sep='\\n')"
      ],
      "execution_count": 41,
      "outputs": [
        {
          "output_type": "stream",
          "text": [
            "torch.Size([100, 1])\n",
            "torch.float32\n",
            "<class 'torch.Tensor'>\n"
          ],
          "name": "stdout"
        }
      ]
    },
    {
      "cell_type": "markdown",
      "metadata": {
        "id": "tsHT-Gvu-aed",
        "colab_type": "text"
      },
      "source": [
        "Para fins didáticos, vamos gerar os valores reais de $y$ usando um modelo conhecido, a partir da equação de uma reta.  \n",
        "Porém, para que o erro não seja nulo ao final do treinamento do neurônio, vamos inserir um pouco de ruído aleatório, seguindo uma distribuição $\\mathcal{N}\\left(0, s^2\\right)$, onde $s$ é o desvio padrão do ruído, representando sua intensidade."
      ]
    },
    {
      "cell_type": "code",
      "metadata": {
        "id": "pA5cy2oi3eiA",
        "colab_type": "code",
        "colab": {}
      },
      "source": [
        "a = 3.0     # coeficiente angular da reta\n",
        "b = -1      # coeficiente linear (bias, intercepto)\n",
        "y = a*x + b # equação da reta\n",
        "\n",
        "s = 3       # desvio padrão para o ruído gaussiano\n",
        "ruido = s*torch.randn_like(x) # ruído Gaussiano, média 0, desvio padrão \"s\"\n",
        "\n",
        "y += ruido # y = (ax + b) + ruido"
      ],
      "execution_count": 42,
      "outputs": []
    },
    {
      "cell_type": "markdown",
      "metadata": {
        "id": "CO6ityEO_HPj",
        "colab_type": "text"
      },
      "source": [
        "Veja como são os valores verdadeiros de $y$ em função da entrada $x$."
      ]
    },
    {
      "cell_type": "code",
      "metadata": {
        "id": "2qRnIYKU3tQH",
        "colab_type": "code",
        "colab": {
          "base_uri": "https://localhost:8080/",
          "height": 459
        },
        "outputId": "2fd2537a-8143-478c-a8da-bd0efcf3601e"
      },
      "source": [
        "plt.figure(figsize=(10,7))\n",
        "plt.scatter(x, y, marker='o', color='k')\n",
        "plt.xlabel('x')\n",
        "plt.ylabel('y')"
      ],
      "execution_count": 43,
      "outputs": [
        {
          "output_type": "execute_result",
          "data": {
            "text/plain": [
              "Text(0, 0.5, 'y')"
            ]
          },
          "metadata": {
            "tags": []
          },
          "execution_count": 43
        },
        {
          "output_type": "display_data",
          "data": {
            "image/png": "[encoded data removed]",
            "text/plain": [
              "<Figure size 720x504 with 1 Axes>"
            ]
          },
          "metadata": {
            "tags": [],
            "needs_background": "light"
          }
        }
      ]
    },
    {
      "cell_type": "markdown",
      "metadata": {
        "id": "SD52ynhn5MN7",
        "colab_type": "text"
      },
      "source": [
        "### Modelo do Perceptron"
      ]
    },
    {
      "cell_type": "markdown",
      "metadata": {
        "id": "WtMapO9P_O0G",
        "colab_type": "text"
      },
      "source": [
        "Aqui vamos abusar da nomenclatura e batizar nosso neurônio de \"perceptron\", mesmo que não seja aplicada a regra de decisão sobre o valor final da combinação linear. Na prática, é apenas uma regressão linear simples."
      ]
    },
    {
      "cell_type": "markdown",
      "metadata": {
        "id": "RrufX0lF_c5G",
        "colab_type": "text"
      },
      "source": [
        "Primeiro, importantos o módulo ``nn`` da biblioteca ``torch``."
      ]
    },
    {
      "cell_type": "code",
      "metadata": {
        "id": "tMomBWyW5dgf",
        "colab_type": "code",
        "colab": {}
      },
      "source": [
        "from torch import nn"
      ],
      "execution_count": 44,
      "outputs": []
    },
    {
      "cell_type": "markdown",
      "metadata": {
        "id": "vLxCMeTA_kn-",
        "colab_type": "text"
      },
      "source": [
        "Agora, vamos instanciar uma camada ``Linear`` do módulo ``nn``.  \n",
        "Os parâmetros de entrada são ``in_features`` (quantas variáveis são usadas pra estimar a saída) e ``out_features`` (quantas variáveis estamos estimando na saída). No nosso caso, ambos serão $1$.  \n",
        "\n",
        "Perceba que inicializarei a semente do gerador de números aleatórios.  \n",
        "Isso foi feito pra que sempre possamos reproduzir esse experimento da mesma maneira.  \n",
        "Os valores de $w_1$ (``weight``) e $b$ (``bias``) da nossa camada Linear serão inicializados aleatoriamente, usando essa semente.  \n"
      ]
    },
    {
      "cell_type": "code",
      "metadata": {
        "id": "11AsTa1v4r5f",
        "colab_type": "code",
        "colab": {
          "base_uri": "https://localhost:8080/",
          "height": 84
        },
        "outputId": "27984bb8-aa76-45b5-a6d5-213aaaebeafe"
      },
      "source": [
        "torch.manual_seed(59)\n",
        "\n",
        "perceptron = nn.Linear(in_features=1, out_features=1) # uma entrada (vetor da feature x), uma saída (regressão linear de x com vetor de pesos w e bias b)\n",
        "print(perceptron.weight)\n",
        "print(perceptron.bias)"
      ],
      "execution_count": 45,
      "outputs": [
        {
          "output_type": "stream",
          "text": [
            "Parameter containing:\n",
            "tensor([[0.1060]], requires_grad=True)\n",
            "Parameter containing:\n",
            "tensor([0.9638], requires_grad=True)\n"
          ],
          "name": "stdout"
        }
      ]
    },
    {
      "cell_type": "markdown",
      "metadata": {
        "id": "pEYFLfiv_4Fy",
        "colab_type": "text"
      },
      "source": [
        "\n",
        "\n",
        "Note que na célula anterior acessamos ``weight`` e ``bias`` como atributos da camada Linear. A sáida são tensores, com um parâmetro ``require_grad=True``. Esse parâmetro indica que os tensores estão sujeitos a um processo de atualização, vinculado a um grafo de operações (veremos mais detalhes depois).  \n",
        "\n",
        "Se estivermos apenas interessados nos valores atuais desses tensores, precisamos acrescentar o atributo ``data`` para extrair uma cópia dos valores atuais dos tensores."
      ]
    },
    {
      "cell_type": "code",
      "metadata": {
        "id": "Dn5GXyjp5htx",
        "colab_type": "code",
        "colab": {
          "base_uri": "https://localhost:8080/",
          "height": 34
        },
        "outputId": "a9296771-59cd-45dd-870f-6104365dd16d"
      },
      "source": [
        "a0 = perceptron.weight.data # recuperando apenas o valor dos parâmetros\n",
        "b0 = perceptron.bias.data   # data é necessário para acessar apenas os valores do tensor\n",
        "a0, b0"
      ],
      "execution_count": 46,
      "outputs": [
        {
          "output_type": "execute_result",
          "data": {
            "text/plain": [
              "(tensor([[0.1060]]), tensor([0.9638]))"
            ]
          },
          "metadata": {
            "tags": []
          },
          "execution_count": 46
        }
      ]
    },
    {
      "cell_type": "markdown",
      "metadata": {
        "id": "RziexcK5BHON",
        "colab_type": "text"
      },
      "source": [
        "Vamos testar o quanto as estimativas do nosso neurônio, cujos parâmetros foram inicializados aleatoriamente, estão próximas dos valores reais de $y$. As linhas verticais tracejadas, em vermelho, representam o tamanho (altura) do erro em cada ponto."
      ]
    },
    {
      "cell_type": "code",
      "metadata": {
        "id": "-K-QjteR53To",
        "colab_type": "code",
        "colab": {
          "base_uri": "https://localhost:8080/",
          "height": 442
        },
        "outputId": "e1cd8ab5-9cc2-405d-9de2-fc38f0f68a4a"
      },
      "source": [
        "y0 = a0*x + b0               # usando os parâmetros iniciais para fazer uma estimativa de y a partir de x (regressão linear)\n",
        "\n",
        "plt.figure(figsize=(10,7))\n",
        "plt.scatter(x,  y, marker='o', color='k', label='real')\n",
        "plt.scatter(x, y0, marker='x', color='b', label='estimativa')\n",
        "\n",
        "for xi, yi, y0i in zip(x,y,y0):\n",
        "  plt.vlines(xi, ymin=min(yi,y0i), ymax = max(yi,y0i), color='red', ls='--', lw=.5)\n",
        "\n",
        "plt.xlabel('x')\n",
        "plt.ylabel('y')\n",
        "plt.legend()\n",
        "\n",
        "set_fontsizes_in_plot()\n",
        "plt.show()"
      ],
      "execution_count": 47,
      "outputs": [
        {
          "output_type": "display_data",
          "data": {
            "image/png": "[encoded data removed]",
            "text/plain": [
              "<Figure size 720x504 with 1 Axes>"
            ]
          },
          "metadata": {
            "tags": [],
            "needs_background": "light"
          }
        }
      ]
    },
    {
      "cell_type": "markdown",
      "metadata": {
        "id": "KTt8e3FaFDp9",
        "colab_type": "text"
      },
      "source": [
        "Claramente, os valores aleatórios da inicialização não correspondem à inclinação e _bias_ da reta original. Para ajustar, em vez de usar as equações fechada da regressão linear, a partir das formulações estatísticas, vamos utilizar um algoritmo iterativo de otimização.  \n",
        "\n",
        "Através das ferramentas do PyTorch, vamos resolver esse exemplo simples de forma a criar um \"fluxo de trabalho\" (_workflow_) que pode ser estendido para problemas mais complexos."
      ]
    },
    {
      "cell_type": "markdown",
      "metadata": {
        "id": "tOC6K57d67yk",
        "colab_type": "text"
      },
      "source": [
        "### Modelo de Rede Neural: Herdando da Classe Existente"
      ]
    },
    {
      "cell_type": "markdown",
      "metadata": {
        "id": "E4SIkK3yFpDQ",
        "colab_type": "text"
      },
      "source": [
        "Antes de mais nada, precisamos criar um **modelo** de previsão usando **classes** derivadas dos módulos internos do PyTorch.  \n",
        "\n",
        "Isso é importante porque o nosso modelo vai herdar diversos métodos e atributos do Módulo original.  \n",
        "\n",
        "Dessa forma, não precisaremos implementar todos os detalhes do _workflow_ de otimização dos parâmetros internos do modelo, aproveitando os métodos já desenvolvidos e abstraídos pelo framework independente da complexidade do nosso modelo."
      ]
    },
    {
      "cell_type": "code",
      "metadata": {
        "id": "dOz1pVWx6BzY",
        "colab_type": "code",
        "colab": {}
      },
      "source": [
        "class perceptron_model(nn.Module):\n",
        "  ''' perceptron_model é o nome escolhido modelo\n",
        "\n",
        "      torch.nn.Module é a classe \"mãe\" da qual nosso modelo vai herdar alguns métodos \n",
        "  '''\n",
        "  \n",
        "  def __init__(self, n_in, n_out): # aqui estamos sobrescrevendo o método construtor da \"classe mãe\"\n",
        "    super().__init__() # mas antes vamos rodar o construtor original\n",
        "    # agora começam as personalizações do construtor:\n",
        "    self.perceptron = nn.Linear(in_features=n_in, out_features=n_out) # criamos uma camada com nome \"perceptron\", que recebe um modelo \"Linear\" (aka regressão linear ou camada \"densa\")\n",
        "\n",
        "  def forward(self, x): # aqui vamos sobrescrever como o modelo processa um sinal de entrada x\n",
        "    x = self.perceptron(x)  # aplicamos o perceptron em x\n",
        "    return x"
      ],
      "execution_count": 48,
      "outputs": []
    },
    {
      "cell_type": "markdown",
      "metadata": {
        "id": "iPpP1MU_GMwu",
        "colab_type": "text"
      },
      "source": [
        "Veja que na nossa classe, onde definimos nosso ``perceptron_model``, existe apenas uma camada Linear. Porém, agora essa camada e seus parâmetros internos fazem parte de um objeto que poderia possuir uma série de outras camadas e parâmetros.  \n",
        "\n",
        "Vamos então instanciar nosso modelo e acessar seus parâmetros."
      ]
    },
    {
      "cell_type": "code",
      "metadata": {
        "id": "sho-4XK-8OtQ",
        "colab_type": "code",
        "colab": {
          "base_uri": "https://localhost:8080/",
          "height": 101
        },
        "outputId": "c02eafd4-d699-4918-f58d-ce94befe98e5"
      },
      "source": [
        "torch.manual_seed(59)\n",
        "\n",
        "my_model = perceptron_model(n_in=1, n_out=1)\n",
        "\n",
        "print(my_model)                         # imprime a arquitetura do modelo construído\n",
        "print(my_model.perceptron.weight.data) # acessando os pesos da camada nomeada \"perceptron\"\n",
        "print(my_model.perceptron.bias.data)   # acessando o bias da camada nomeada \"perceptron\""
      ],
      "execution_count": 49,
      "outputs": [
        {
          "output_type": "stream",
          "text": [
            "perceptron_model(\n",
            "  (perceptron): Linear(in_features=1, out_features=1, bias=True)\n",
            ")\n",
            "tensor([[0.1060]])\n",
            "tensor([0.9638])\n"
          ],
          "name": "stdout"
        }
      ]
    },
    {
      "cell_type": "markdown",
      "metadata": {
        "id": "LQ7bNhVEGlHl",
        "colab_type": "text"
      },
      "source": [
        "Outra forma de acessar todos os parâmetros do nosso modelo é invocando o método ``named_parameters()``.  \n",
        "Esse método foi herdado pela \"classe-mãe\" ``nn.Module``."
      ]
    },
    {
      "cell_type": "code",
      "metadata": {
        "id": "K4hw4Nbm8ggA",
        "colab_type": "code",
        "colab": {
          "base_uri": "https://localhost:8080/",
          "height": 50
        },
        "outputId": "03753c68-fc17-4526-f883-1f8d88baeeff"
      },
      "source": [
        "for name, param in my_model.named_parameters(): # outra forma de acessar todos os parâmetros do modelo\n",
        "    print(name, '\\t', param.data)"
      ],
      "execution_count": 50,
      "outputs": [
        {
          "output_type": "stream",
          "text": [
            "perceptron.weight \t tensor([[0.1060]])\n",
            "perceptron.bias \t tensor([0.9638])\n"
          ],
          "name": "stdout"
        }
      ]
    },
    {
      "cell_type": "markdown",
      "metadata": {
        "id": "cFPbv8nGHXJz",
        "colab_type": "text"
      },
      "source": [
        "Existem várias formas de criar modelos mais complexos e nomear as camadas. Veja mais [neste exemplo](https://pytorch.org/docs/master/generated/torch.nn.Sequential.html#torch.nn.Sequential)."
      ]
    },
    {
      "cell_type": "markdown",
      "metadata": {
        "id": "fIv7zPvt9KTl",
        "colab_type": "text"
      },
      "source": [
        "### Aplicando o modelo sobre as entradas"
      ]
    },
    {
      "cell_type": "markdown",
      "metadata": {
        "id": "90CjG6CKHk9_",
        "colab_type": "text"
      },
      "source": [
        "O modelo atua como uma função das entradas que retorna a saída.  \n",
        "Podemos usar a estrutura: \n",
        "```Python \n",
        "saida = Modelo(entradas)\n",
        "```\n",
        "sempre que quisermos aplicar o nosso modelo para estimar a saída com os parâmetros atuais."
      ]
    },
    {
      "cell_type": "code",
      "metadata": {
        "id": "1jSZwJ_w895W",
        "colab_type": "code",
        "colab": {
          "base_uri": "https://localhost:8080/",
          "height": 478
        },
        "outputId": "d3549996-1b20-4d96-939f-8e28d5021fe8"
      },
      "source": [
        "y0 = my_model(x) # o modelo vai usar o método \"forward\" sobre x, e gerar a saída; cada linha corresponde a um exemplo, portanto X precisa ser uma coluna nesse caso\n",
        "y0 = y0.data                # acessado os valores do tensor\n",
        "\n",
        "plt.figure(figsize=(10,7))\n",
        "plt.scatter(x,  y, marker='o', color='k', label='real')\n",
        "plt.scatter(x, y0, marker='x', color='b', label='estimativa')\n",
        "plt.xlabel('x')\n",
        "plt.ylabel('y')\n",
        "plt.legend()"
      ],
      "execution_count": 51,
      "outputs": [
        {
          "output_type": "execute_result",
          "data": {
            "text/plain": [
              "<matplotlib.legend.Legend at 0x7fd49ec8a080>"
            ]
          },
          "metadata": {
            "tags": []
          },
          "execution_count": 51
        },
        {
          "output_type": "display_data",
          "data": {
            "image/png": "[encoded data removed]",
            "text/plain": [
              "<Figure size 720x504 with 1 Axes>"
            ]
          },
          "metadata": {
            "tags": [],
            "needs_background": "light"
          }
        }
      ]
    },
    {
      "cell_type": "markdown",
      "metadata": {
        "id": "wAMOMgp--Dle",
        "colab_type": "text"
      },
      "source": [
        "Percebemos claramente que o modelo ainda não está treinado, já que foi novamente inicializado com parâmetros aleatórios."
      ]
    },
    {
      "cell_type": "markdown",
      "metadata": {
        "id": "-6hCEAT6-KcL",
        "colab_type": "text"
      },
      "source": [
        "### Escolhendo o Critério de Avaliação do Treino (Função Custo)"
      ]
    },
    {
      "cell_type": "markdown",
      "metadata": {
        "id": "X8mUG3GQH9TB",
        "colab_type": "text"
      },
      "source": [
        "Para otimizar os parâmetros de um modelo, precisamos de uma métrica de avaliação, a fim de compreender se o modelo está melhorando ou piorando o seu desempenho."
      ]
    },
    {
      "cell_type": "markdown",
      "metadata": {
        "id": "V2S0AWHPIGLI",
        "colab_type": "text"
      },
      "source": [
        "Em problemas de regressão linear, o **erro médio-quadrático** (MSE) é uma métrica comum. O MSE é calculado como a média, sobre todos os exemplos disponíveis, da norma quadrática do vetor de erro.  \n",
        "\n",
        "De maneira intuitiva, o MSE cálcula o erro $e_i = \\hat{y}_i - y_i$ (diferença entre o valor estimado e o valor real) para todos os exemplos $i=1,\\ldots, m$, e então calcula a média aritmética do quadrado do módulo dos erros: $\\text{MSE} = \\dfrac{\\sum\\limits_{i=1}^{m} \\left| e_i \\right|^2}{m} $."
      ]
    },
    {
      "cell_type": "markdown",
      "metadata": {
        "id": "faP7tGXZJHWn",
        "colab_type": "text"
      },
      "source": [
        "No PyTorch, normalmente nos referimos à métrica de desempenho do treinamento como o **critério**.  \n",
        "Em geral, essa métrica é também conhecida como **função custo** ou **função perda**."
      ]
    },
    {
      "cell_type": "code",
      "metadata": {
        "id": "MKSWcNwQ9WW5",
        "colab_type": "code",
        "colab": {}
      },
      "source": [
        "criterion = nn.MSELoss() # erro quadrático médio:  avg( |y-y0|^2 ) sobre todos os exemplos"
      ],
      "execution_count": 52,
      "outputs": []
    },
    {
      "cell_type": "markdown",
      "metadata": {
        "id": "QyHihleQ-fG6",
        "colab_type": "text"
      },
      "source": [
        "### Escolhendo o otimizador dos parâmetros da rede"
      ]
    },
    {
      "cell_type": "markdown",
      "metadata": {
        "id": "flm1c3xaJyfm",
        "colab_type": "text"
      },
      "source": [
        "Para compreender como o modelo irá atualizar seus parâmetros (neste caso, $w_1$ e $b$) a fim de **minimizar a função custo** (neste exemplo, o MSE), precisamos entender o algoritmo do gradiente descendente."
      ]
    },
    {
      "cell_type": "markdown",
      "metadata": {
        "id": "MjxztcTyKYol",
        "colab_type": "text"
      },
      "source": [
        "> **A Pizza Heterogênea**\n",
        "> \n",
        "> A palavra **gradiente** está relacionada à  \"_variação em alguma direção_\".  \n",
        "> Por exemplo, no mapa de calor da temperatura de um forno, existe uma variação das mais altas temperaturas (próximas da resistência ou das paredes que são fontes de calor) até os pontos mais distantes dessas fontes. \n",
        ">\n",
        "> <img src=\"https://drive.google.com/uc?export=view&id=15bV2feWgy-qDVA2zaZW0I0jXkQxRXUd-\" alt=\"Heatmap of a pizza\" width=\"300px\"/> \n",
        ">\n",
        "> Observe que fora do forno, as cores mais próximas do azul indicam baixas temperaturas, enquanto as cores mais próximas do vermelho dentro do forno indicam as altas temperaturas. Note também que, embora o forno esteja com a temperatura interna distribuida de maneira praticamente uniforme, a pizza não tem a mesma temperatura em todos os pontos.\n",
        ">\n",
        "> Se quisermos descobrir qual ponto da piza está mais frio (sem ver o mapa de calor), poderíamos começar tocando em um ponto da pizza (sentindo a temperatura em um ponto inicial) e deslocar nosso dedo na *direção em que a temperatura diminui*.  \n",
        "> \n",
        "> Quando atingirmos um ponto em que, ao deslocar o nosso dedo em qualquer direção, a temperatura só aumenta, teremos encontrado um **mínimo local** da temperatura da pizza. Com sorte, esse ponto será o **mínimo global** (a menor temperatura de toda a pizza). A fim de garantir isso, é bom que tenhamos explorado bem sentindo (medindo) a temperatura em várias regiões dessa pizza."
      ]
    },
    {
      "cell_type": "markdown",
      "metadata": {
        "id": "wKsVFJdQM2b7",
        "colab_type": "text"
      },
      "source": [
        "Matematicamente, escrevemos a atualização dos pesos do nosso modelo da seguinte maneira: seja $\\Theta = \\begin{bmatrix} w_1 & b \\end{bmatrix}^T$ um vetor de parâmetros do nosso modelo, vamos atualizar o vetor $\\Theta$ da seguinte maneira:\n",
        "\n",
        "$\\Theta^{t+1} = \\Theta^t - \\alpha \\times \\nabla J(\\Theta^t)$,\n",
        "\n",
        "onde $ J(\\Theta^t)$ é a função custo, $ \\nabla $ é o símbolo do operador \"gradiente\" (calcula a variação da função custo em relação à variação de $\\Theta^t$) e $\\alpha>0$ é uma constante denominada __*learning rate*__.\n",
        "\n",
        "A intuição da expressão anterior é a seguinte: os parâmetros do modelo na próxima iteração ($t+1$) serão iguais aos valores atuais acrescidos de uma proporção **na direção oposta do gradiente da função custo**. "
      ]
    },
    {
      "cell_type": "markdown",
      "metadata": {
        "id": "wOQQcB4QPUnk",
        "colab_type": "text"
      },
      "source": [
        ">**O gradiente descendente e a analogia da montanha**\n",
        ">\n",
        "> O gradiente funciona da seguinte maneira: é um calculo da \"inclinação\" da função custo após uma variação dos parâmetros.  \n",
        ">\n",
        "> Imagine que estamos vendados, no meio de uma montanha irregular, tentando descer a montanha. Se dermos alguns passos à frente (aumentamos os valores dos parâmetros, por exemplo) e \"sentirmos\" que houve uma inclinação de subida da montanha (o custo aumentou), vamos ter que dar alguns passos para trás, na direção oposta (diminuir os nossos parâmetros).\n",
        ">\n",
        "> Entretanto, imagine agora que demos dois passos para o lado e \"sentimos\" que a inclinação da montanha foi de descida (estamos na direção certa, nosso \"custo\" diminuiu!). Logo, precisamos seguir avançando (dando mais passos) nessa direção!\n",
        ">\n",
        "> Na prática, quem controla o quanto vamos mudar os valores dos parâmetros na direção oposta do gradiente é valor de $\\alpha$.  \n",
        ">\n",
        "> Se $\\alpha$ for muito pequeno, vamos dar passos muito pequenos tentando descer essa montanha, e podemos levar muito tempo pra chegar na base! Agora, se $\\alpha$ for muito grande, é como se começássemos a correr muito rapidamente na direção oposta do gradiente sem parar pra \"sentir\" se a inclinação está mudando no caminho percorrido (lembre que estamos vendados, que perigo!)."
      ]
    },
    {
      "cell_type": "markdown",
      "metadata": {
        "id": "RURggppfPuv2",
        "colab_type": "text"
      },
      "source": [
        "Na analogia acima, \n",
        "- a montanha representa a função custo (o critério), \n",
        "- os passos dados em cada iteração são as atualizações (mudanças) no valor dos parâmetros\n",
        "- e a sensação da inclinação (de subida ou descida) representa o gradiente do custo após uma tentativa de dar passos em alguma direção.\n",
        "\n",
        "Para calcular a função custo, precisamos avaliá-la após realizar as previsões a partir de todos os exemplos de entrada. Cada iteração $t$ _sobre TODO o conjunto de exemplos de treino_  representa uma **época**. \n",
        "\n",
        "**O gradiente descendente altera seus pesos a cada época.**\n",
        "\n",
        "Na prática, esse processo pode ser muito lento, em razão da escolha de $\\alpha$, da natureza da função custo (geografia do terreno da monhtanha) ou da complexidade computacional de realizar previsões para todos os exemplos de entrada (quando houver muitos).\n",
        "\n",
        "Portanto, existe uma variação do algoritmo chamada \"**gradiente descendente estocástico**\" (SGD), na qual os exemplos de treino são divididos em uma sequência de **_batches_**, e os parâmetros do modelo são atualizados a cada _batch_, em vez de aguardar uma passagem completa pelo dataset. \n",
        "\n",
        "Usar o SGD significa que decidimos calcular o \"custo\" médio e dar alguns \"passos\" no ajuste dos parâmetros apenas com amostras do conjunto completo de treino, em vez de analisá-lo por completo antes de tomar alguma decisão. Em geral, isso acelera a convergência do processo de treinamento, mas é preciso escolher muito bem o tamanho e a forma de amostragem das _batches_."
      ]
    },
    {
      "cell_type": "markdown",
      "metadata": {
        "id": "QIYrPMFVKDSf",
        "colab_type": "text"
      },
      "source": [
        "Veja mais animações do gradiente descendente de uma regressão linear [aqui](https://towardsdatascience.com/gradient-descent-animation-1-simple-linear-regression-e49315b24672) e [aqui](https://medium.com/diogo-menezes-borges/what-is-gradient-descent-235a6c8d26b0)."
      ]
    },
    {
      "cell_type": "markdown",
      "metadata": {
        "id": "8B2MlszmWCFK",
        "colab_type": "text"
      },
      "source": [
        "Para utilizar o SGD no PyTorch, vamos usar instanciar um objeto **otimizador**, que carrega o método ``SGD`` da biblioteca ``torch.optim``.  \n",
        "Note que a _learning rate_ é o principal parâmetro para o construtor desse objeto. "
      ]
    },
    {
      "cell_type": "code",
      "metadata": {
        "id": "-QT88q8J-ce_",
        "colab_type": "code",
        "colab": {}
      },
      "source": [
        "optimizer = torch.optim.SGD(my_model.parameters(), lr = 0.001) # (stochastic) gradient descent"
      ],
      "execution_count": 53,
      "outputs": []
    },
    {
      "cell_type": "markdown",
      "metadata": {
        "id": "vor1dznu-lCw",
        "colab_type": "text"
      },
      "source": [
        "> **Backpropagation**\n",
        "> \n",
        "> No caso de uma única camada, composta apenas por regressão linear, calcular o gradiente em relação aos parâmetros que processam os dados de entrada é muito fácil. \n",
        "> \n",
        "> Entretanto, para redes com sequências de camadas, que podem utilizar funções não-lineares como ativação (como a sigmóide), esse cálculo do gradiente não é trivial. \n",
        "> \n",
        "> Um algoritmo capaz de calcular essas variações do gradiente de maneira automática e por etapas (camada por camada, da saída para a entrada de uma rede neural) foi propost por [Rumelhart, Hinton & Williams em 1986](https://archive.org/details/paralleldistribu00rume).\n",
        ">\n",
        "> Basicamente, é uma forma iterativa e estruturada de calcular o gradiente da função custo em relação à variação dos parâmetros da última camada, e acumular esse valor com o efeito da variação dos parâmetros da última camada em relação à variação dos parâmetros da penúltima camada, e assim por diante até chegar nos parâmetros da primeira camada da rede."
      ]
    },
    {
      "cell_type": "markdown",
      "metadata": {
        "id": "CIQpsbvW-zvV",
        "colab_type": "text"
      },
      "source": [
        "### Treinando o modelo"
      ]
    },
    {
      "cell_type": "markdown",
      "metadata": {
        "id": "SBgJu8v7-1Yu",
        "colab_type": "text"
      },
      "source": [
        "Vamos estruturar uma laço em que iremos apresentar os dados de entrada para o Modelo durante várias iterações (épocas), realizando o _workflow_ de treinamento de redes neurais no PyTorch.\n",
        "\n",
        "Épocas (``epochs``): quantidade de vezes que o dataset de treino (inteiro, todos os exemplos) será mostrado para o modelo."
      ]
    },
    {
      "cell_type": "markdown",
      "metadata": {
        "id": "G4h_JHlzWq-j",
        "colab_type": "text"
      },
      "source": [
        "Antes disso, a função abaixo será apenas auxiliar para que consigamos visualizar o treino."
      ]
    },
    {
      "cell_type": "code",
      "metadata": {
        "id": "4tMZ7Oj8BAUe",
        "colab_type": "code",
        "colab": {}
      },
      "source": [
        "def atualiza_resultado_grafico(ax, x, y_pred, y_true, alpha=1, dt=0.5):\n",
        "  \n",
        "  ax.scatter(x, y_pred, marker='x', color='b', label='estimativa', alpha=alpha)\n",
        "  ax.set_xlabel('x')\n",
        "  ax.set_ylabel('y')\n",
        "  \n",
        "  display.display(pl.gcf())\n",
        "  display.clear_output(wait=True)\n",
        "  \n",
        "  sleep(dt)\n",
        "\n",
        "def atualiza_parametros_grafico(ax, w, iter, alpha=1, dt=0.5, epochs=100):\n",
        "  ax.scatter(iter, w, marker='x', color='k', label='weight', alpha=alpha)\n",
        "  ax.set_xlabel('epochs')\n",
        "  ax.set_ylabel('w')\n",
        "  ax.set_xlim([0, epochs])\n",
        "  ax.set_ylim([-1, 4])\n",
        "  ax.grid(True)\n",
        "  display.display(pl.gcf())\n",
        "  display.clear_output(wait=True)\n",
        "  \n",
        "  sleep(dt)"
      ],
      "execution_count": 54,
      "outputs": []
    },
    {
      "cell_type": "markdown",
      "metadata": {
        "id": "5p8aY4ihZq4o",
        "colab_type": "text"
      },
      "source": [
        "Abaixo segue a estrutura do treinamento em si.  \n",
        "Ao rodar a célula abaixo, o dataset de treino $x$ (todos os exemplos de treino) será passado para o modelo por ``epochs`` vezes.  \n",
        "Em cada iteração, é realizado o procedimento:\n",
        "- $\\hat{y} = \\text{Modelo}_{\\Theta}(x)$\n",
        "- backpropagation (calcula os gradientes  $\\nabla J(\\Theta)$ sobre a função custo)\n",
        "- calcula o valor dos próximos parâmetros usando a regra de atualização do otimizador.\n",
        "\n",
        "Neste exemplo, lembre que a função custo $J(\\Theta)$ é o MSE e o otimizador é o SGD (com $1$ _batch_, que é o próprio dataset de treino)."
      ]
    },
    {
      "cell_type": "code",
      "metadata": {
        "id": "1k-vVE4U-zCz",
        "colab_type": "code",
        "colab": {
          "base_uri": "https://localhost:8080/",
          "height": 514
        },
        "outputId": "5014f61f-f90f-46a5-9b91-51f2da5ad810"
      },
      "source": [
        "%matplotlib inline\n",
        "\n",
        "#----------------------- Opcional -----------------------#\n",
        "# Inicializa a visualização gráfica do treinamento\n",
        "f, ax = plt.subplots(nrows=1,ncols=2,figsize=(16,6))\n",
        "ax[0].scatter(x, y, marker='o', color='k', label='real')\n",
        "ax[1].scatter(0, my_model.perceptron.weight.item(), marker='o', color='k', label='weight')\n",
        "ax[1].set_ylim([-1, 4])\n",
        "ax[1].grid(True)\n",
        "#--------------------------------------------------------#\n",
        "\n",
        "# PRÂMETROS FIXOS DO TREINO\n",
        "epochs = 50 \n",
        "losses = []        # inicialização da lista\n",
        "print_iters = 5    # auxiliar: para imprimir o status a cada print_iters iterações\n",
        "\n",
        "# INICIO DO TREINO\n",
        "for i in range(epochs): # para cada época\n",
        "\n",
        "    #-----------------------------------#\n",
        "    # INÍCIO DO WORKFLOW DO TREINAMENTO #\n",
        "    # \n",
        "    y_pred = my_model.forward(x) # apresente os dados de entrada para o modelo, e obtenha a previsão\n",
        "    \n",
        "    loss = criterion(y_pred, y)             # calcule a perda (o custo, o erro) \n",
        "    optimizer.zero_grad()                   # inicialize os gradientes\n",
        "    loss.backward()                         # backpropagation sobre a perda atual (cálculo dos novos gradientes) \n",
        "    optimizer.step()                        # atualização dos parâmetros da rede utilizando a regra do otimizador escolhido\n",
        "\n",
        "    losses.append(loss)                     # salvando a perda atual\n",
        "    \n",
        "    # FIM DO WORKFLOW DO TREINAMENTO    #\n",
        "    #-----------------------------------#\n",
        "\n",
        "\n",
        "    # ------ Bloco Opcional ------ #\n",
        "    # Imprimindo resultados parciais\n",
        "    if i % print_iters ==0: # a cada 10 iterações\n",
        "\n",
        "      # impressão em modo texto\n",
        "      print(f'epoch: {i:2}  loss: {loss.item():10.8f}  \\\n",
        "      weight: {my_model.perceptron.weight.item():10.8f} \\\n",
        "      bias: {my_model.perceptron.bias.item():10.8f}') \n",
        "      \n",
        "      # visualização gráfica\n",
        "      alpha_i = 1-(epochs-i)/epochs # calcula uma transparência (0 a 1, sendo 0 totalmente transparente) que vai diminuindo de intensidade ao passar das épocas (até 1, sem transparência)\n",
        "      atualiza_resultado_grafico(ax=ax[0], x=x, y_pred=y_pred.data, y_true=y, alpha=alpha_i, dt=1) # usar dt (segundos) para causar um atraso para poder acompanhar as atualizações do gráfico\n",
        "      atualiza_parametros_grafico(ax[1], my_model.perceptron.weight.item(), i, alpha=alpha_i, dt=0.5, epochs=epochs)  \n",
        "    # ----------------------------- #\n",
        "#------------------------------------------------------------------------------#\n",
        "\n",
        "print('# finished training!')\n",
        "print(f' epoch: {i}  \\n initial loss: {losses[0]:10.8f}, \\n final loss: {losses[-1]:10.8f}  \\n \\\n",
        "weight: {my_model.perceptron.weight.item():10.8f} \\n \\\n",
        "bias: {my_model.perceptron.bias.item():10.8f}') "
      ],
      "execution_count": 55,
      "outputs": [
        {
          "output_type": "stream",
          "text": [
            "# finished training!\n",
            " epoch: 49  \n",
            " initial loss: 269.63906860, \n",
            " final loss: 10.50349808  \n",
            " weight: 2.78292108 \n",
            " bias: 0.78345239\n"
          ],
          "name": "stdout"
        },
        {
          "output_type": "display_data",
          "data": {
            "image/png": "[encoded data removed]",
            "text/plain": [
              "<Figure size 1152x432 with 2 Axes>"
            ]
          },
          "metadata": {
            "tags": [],
            "needs_background": "light"
          }
        }
      ]
    },
    {
      "cell_type": "markdown",
      "metadata": {
        "id": "zBFMaohTAek-",
        "colab_type": "text"
      },
      "source": [
        "### Avaliando o resultado do treino"
      ]
    },
    {
      "cell_type": "markdown",
      "metadata": {
        "id": "OfA4Ye3TbzX0",
        "colab_type": "text"
      },
      "source": [
        "Uma forma de avaliar o resultado do treinamento é visualizar a evolução da função custo (perda) ao longo das épocas.  \n",
        "\n",
        "Idealmente, essa curva deve ser decrescente e convergir para um valor mínimo."
      ]
    },
    {
      "cell_type": "code",
      "metadata": {
        "id": "zRQdnMZV_xdO",
        "colab_type": "code",
        "colab": {
          "base_uri": "https://localhost:8080/",
          "height": 478
        },
        "outputId": "6c21936e-e549-401d-f9bd-a8ec8e28e56d"
      },
      "source": [
        "plt.figure(figsize=(10,7))\n",
        "plt.plot(range(epochs),  losses, '-k', label='MSE Loss')\n",
        "plt.xlabel('epochs')\n",
        "plt.ylabel('loss')\n",
        "plt.legend()"
      ],
      "execution_count": 56,
      "outputs": [
        {
          "output_type": "execute_result",
          "data": {
            "text/plain": [
              "<matplotlib.legend.Legend at 0x7fd49ec8ac18>"
            ]
          },
          "metadata": {
            "tags": []
          },
          "execution_count": 56
        },
        {
          "output_type": "display_data",
          "data": {
            "image/png": "[encoded data removed]",
            "text/plain": [
              "<Figure size 720x504 with 1 Axes>"
            ]
          },
          "metadata": {
            "tags": [],
            "needs_background": "light"
          }
        }
      ]
    },
    {
      "cell_type": "markdown",
      "metadata": {
        "id": "BMXflzHQcFQf",
        "colab_type": "text"
      },
      "source": [
        "Para invocar o modelo treinado e fazer novas previsões, não precisamos mais salvar os cálculos de gradiente dos tensores.  \n",
        "Portanto, o modelo será executado mais eficientemente usando o gerenciador de contexto com ``torch.nograd()``."
      ]
    },
    {
      "cell_type": "code",
      "metadata": {
        "id": "UPSeJz_cApAs",
        "colab_type": "code",
        "colab": {
          "base_uri": "https://localhost:8080/",
          "height": 478
        },
        "outputId": "e8830af7-a278-4911-fb39-a9549f6b34c7"
      },
      "source": [
        "with torch.no_grad(): # usar para reduzir consumo de memória quando executar o modelo já treinado, já que não será aplicado nenhum gradiente após o treinamento\n",
        "  y0 = my_model(x)    # estimativa da saída com o modelo treinado\n",
        "\n",
        "plt.figure(figsize=(10,7))\n",
        "plt.scatter(x,  y, marker='o', color='k', label='real')\n",
        "plt.scatter(x, y0.data, marker='x', color='b', label='estimativa')\n",
        "plt.xlabel('x')\n",
        "plt.ylabel('y')\n",
        "plt.legend()"
      ],
      "execution_count": 57,
      "outputs": [
        {
          "output_type": "execute_result",
          "data": {
            "text/plain": [
              "<matplotlib.legend.Legend at 0x7fd49e42a860>"
            ]
          },
          "metadata": {
            "tags": []
          },
          "execution_count": 57
        },
        {
          "output_type": "display_data",
          "data": {
            "image/png": "[encoded data removed]",
            "text/plain": [
              "<Figure size 720x504 with 1 Axes>"
            ]
          },
          "metadata": {
            "tags": [],
            "needs_background": "light"
          }
        }
      ]
    },
    {
      "cell_type": "markdown",
      "metadata": {
        "id": "Ieh33KJicgom",
        "colab_type": "text"
      },
      "source": [
        "A fim de ilustração, vamos calcular a função perda manualmente, usando operações com tensores."
      ]
    },
    {
      "cell_type": "code",
      "metadata": {
        "id": "lsZsubAWEec6",
        "colab_type": "code",
        "colab": {
          "base_uri": "https://localhost:8080/",
          "height": 34
        },
        "outputId": "2e255db6-5fc6-4ab9-dbf2-b23b957e9907"
      },
      "source": [
        "MSE_manual = (torch.norm(y0 - y, p=2)**2)/y.numel()\n",
        "print(MSE_manual)"
      ],
      "execution_count": 58,
      "outputs": [
        {
          "output_type": "stream",
          "text": [
            "tensor(10.4576)\n"
          ],
          "name": "stdout"
        }
      ]
    },
    {
      "cell_type": "markdown",
      "metadata": {
        "id": "OIxy_RaEcwTL",
        "colab_type": "text"
      },
      "source": [
        "Note que o valor é um pouco menor que a última perda salva no workflow de treinamento."
      ]
    },
    {
      "cell_type": "code",
      "metadata": {
        "id": "MnTPjy_VRiKK",
        "colab_type": "code",
        "colab": {
          "base_uri": "https://localhost:8080/",
          "height": 34
        },
        "outputId": "27b40d36-52a9-43dc-a466-8bdacd4e97db"
      },
      "source": [
        "losses[-1]"
      ],
      "execution_count": 59,
      "outputs": [
        {
          "output_type": "execute_result",
          "data": {
            "text/plain": [
              "tensor(10.5035, grad_fn=<MseLossBackward>)"
            ]
          },
          "metadata": {
            "tags": []
          },
          "execution_count": 59
        }
      ]
    },
    {
      "cell_type": "markdown",
      "metadata": {
        "id": "EMJ6GMdyc3Zh",
        "colab_type": "text"
      },
      "source": [
        "Qual a explicação dessa diferença?\n",
        "\n",
        "<details>    \n",
        "<summary>\n",
        "    <font size=\"3\" color=\"darkgreen\"><b>Resposta $\\downarrow$</b></font>\n",
        "</summary>\n",
        "<p>\n",
        "<ul>\n",
        "    <li>Observando o <i>workflow</i> de treino, note que, após cálcular a última perda, o otimizador roda a atualização dos parâmetros mais uma vez. </li>\n",
        "    <li> Portanto, o último conjunto de parâmetros calculados resulta numa perda levemente menor que a última perda calculada no treinamento. </li>  \n",
        "</ul>\n",
        "</p>\n"
      ]
    },
    {
      "cell_type": "markdown",
      "metadata": {
        "id": "iZX-4BB-TOW_",
        "colab_type": "text"
      },
      "source": [
        "## Implementando uma rede neural para implementar um modelo não-linear"
      ]
    },
    {
      "cell_type": "markdown",
      "metadata": {
        "id": "rTFAexdUeX72",
        "colab_type": "text"
      },
      "source": [
        "Embora seja um ótimo _baseline_, uma regressão linear simples, em geral, não garante uma boa solução para prroblemas com relações não-lineares entre as entradas $\\mathbf{x}$ e a saída $y$.\n",
        "\n",
        "Na prática, redes neurais são muito úteis para implementar funções não-lineares, devido à versatilidade de projeto da topologia da rede e da adaptação dos parâmetros durante o treinamento."
      ]
    },
    {
      "cell_type": "markdown",
      "metadata": {
        "id": "izjZGlv4xHT1",
        "colab_type": "text"
      },
      "source": [
        "### Dataset da função XOR"
      ]
    },
    {
      "cell_type": "markdown",
      "metadata": {
        "id": "ZfmzgyVNlWmy",
        "colab_type": "text"
      },
      "source": [
        "Nesta seção, vamos tentar ensinar a função **OU-Exclusivo** (conhecida como X-OR ou apenas XOR) para a rede neural.    \n",
        "A XOR é definida como  \n",
        "$\\begin{aligned} y & =x_1 \\oplus x_2  \\\\ & = x_1 \\bar{x_2} + \\bar{x_1} x_2 \\end{aligned}$  \n",
        "sendo $x_1$ e $x_2$ dois bits e a operação $\\bar{x}$ a negação (inversão) do valor do bit."
      ]
    },
    {
      "cell_type": "markdown",
      "metadata": {
        "id": "eZcGKB9zfusV",
        "colab_type": "text"
      },
      "source": [
        "Vamos criar um dataset de exemplos pra o treinamento.  \n",
        "Na prática, só existem $4$ combinações de bits para a saída.  \n",
        "Porém, novamente, vamos adicionar um ruído para dificultar a aprendizagem.  \n",
        "Entretanto, dessa vez o ruído vai estar presente nas variáveis de entrada."
      ]
    },
    {
      "cell_type": "code",
      "metadata": {
        "id": "tA7HdkfGSBdG",
        "colab_type": "code",
        "colab": {}
      },
      "source": [
        "s = 0.075    # desvio padrão do ruído dos sinais de entrada\n",
        "\n",
        "X1 = torch.randint(low=0, high=2, size=(100,1)).float() \n",
        "X1 += s*torch.randn_like(X1)\n",
        "X2 = torch.randint(low=0, high=2, size=(100,1)).float()\n",
        "X2 += s*torch.randn_like(X2)\n",
        "\n",
        "Y  = torch.logical_xor(torch.round(X1), torch.round(X2)).float()"
      ],
      "execution_count": 60,
      "outputs": []
    },
    {
      "cell_type": "markdown",
      "metadata": {
        "id": "GDHnZaIngdiB",
        "colab_type": "text"
      },
      "source": [
        "Note que a função XOR depende de duas variáveis de entrada: $x_1$ e $x_2$.  \n",
        "Em aprendizagem de máquina, as entradas de um modelo são tipicamente denominadas __*features*__ do modelo.  \n",
        "Abaixo, vamos criar um dataset, no qual uma parte do mesmo é a matriz de _features_ e a outra corresponde à saída.  \n",
        "\n",
        "Observe que as _features_ e a saída são representadas pelas colunas, enquanto cada linha representa um exemplo de treino."
      ]
    },
    {
      "cell_type": "code",
      "metadata": {
        "id": "YPsapIs2SVe7",
        "colab_type": "code",
        "colab": {
          "base_uri": "https://localhost:8080/",
          "height": 402
        },
        "outputId": "81df7cb2-3fc3-483a-8bc6-5ac1c9b38ce2"
      },
      "source": [
        "dataset = torch.cat([X1,X2,Y],dim=1).numpy() # concatena horizontalmente os tensores (dim=1) e depois transforma em uma array numpy\n",
        "pd.DataFrame(data=dataset,columns=['X1','X2','Y'])"
      ],
      "execution_count": 61,
      "outputs": [
        {
          "output_type": "execute_result",
          "data": {
            "text/html": [
              "<div>\n",
              "<style scoped>\n",
              "    .dataframe tbody tr th:only-of-type {\n",
              "        vertical-align: middle;\n",
              "    }\n",
              "\n",
              "    .dataframe tbody tr th {\n",
              "        vertical-align: top;\n",
              "    }\n",
              "\n",
              "    .dataframe thead th {\n",
              "        text-align: right;\n",
              "    }\n",
              "</style>\n",
              "<table border=\"1\" class=\"dataframe\">\n",
              "  <thead>\n",
              "    <tr style=\"text-align: right;\">\n",
              "      <th></th>\n",
              "      <th>X1</th>\n",
              "      <th>X2</th>\n",
              "      <th>Y</th>\n",
              "    </tr>\n",
              "  </thead>\n",
              "  <tbody>\n",
              "    <tr>\n",
              "      <th>0</th>\n",
              "      <td>0.979992</td>\n",
              "      <td>0.983558</td>\n",
              "      <td>0.0</td>\n",
              "    </tr>\n",
              "    <tr>\n",
              "      <th>1</th>\n",
              "      <td>0.934793</td>\n",
              "      <td>0.931160</td>\n",
              "      <td>0.0</td>\n",
              "    </tr>\n",
              "    <tr>\n",
              "      <th>2</th>\n",
              "      <td>0.958496</td>\n",
              "      <td>1.022381</td>\n",
              "      <td>0.0</td>\n",
              "    </tr>\n",
              "    <tr>\n",
              "      <th>3</th>\n",
              "      <td>1.078308</td>\n",
              "      <td>1.076509</td>\n",
              "      <td>0.0</td>\n",
              "    </tr>\n",
              "    <tr>\n",
              "      <th>4</th>\n",
              "      <td>1.028015</td>\n",
              "      <td>1.085798</td>\n",
              "      <td>0.0</td>\n",
              "    </tr>\n",
              "    <tr>\n",
              "      <th>...</th>\n",
              "      <td>...</td>\n",
              "      <td>...</td>\n",
              "      <td>...</td>\n",
              "    </tr>\n",
              "    <tr>\n",
              "      <th>95</th>\n",
              "      <td>0.032294</td>\n",
              "      <td>0.926221</td>\n",
              "      <td>1.0</td>\n",
              "    </tr>\n",
              "    <tr>\n",
              "      <th>96</th>\n",
              "      <td>-0.046463</td>\n",
              "      <td>-0.056484</td>\n",
              "      <td>0.0</td>\n",
              "    </tr>\n",
              "    <tr>\n",
              "      <th>97</th>\n",
              "      <td>-0.042588</td>\n",
              "      <td>0.928851</td>\n",
              "      <td>1.0</td>\n",
              "    </tr>\n",
              "    <tr>\n",
              "      <th>98</th>\n",
              "      <td>0.077763</td>\n",
              "      <td>-0.044695</td>\n",
              "      <td>0.0</td>\n",
              "    </tr>\n",
              "    <tr>\n",
              "      <th>99</th>\n",
              "      <td>0.037281</td>\n",
              "      <td>1.003573</td>\n",
              "      <td>1.0</td>\n",
              "    </tr>\n",
              "  </tbody>\n",
              "</table>\n",
              "<p>100 rows × 3 columns</p>\n",
              "</div>"
            ],
            "text/plain": [
              "          X1        X2    Y\n",
              "0   0.979992  0.983558  0.0\n",
              "1   0.934793  0.931160  0.0\n",
              "2   0.958496  1.022381  0.0\n",
              "3   1.078308  1.076509  0.0\n",
              "4   1.028015  1.085798  0.0\n",
              "..       ...       ...  ...\n",
              "95  0.032294  0.926221  1.0\n",
              "96 -0.046463 -0.056484  0.0\n",
              "97 -0.042588  0.928851  1.0\n",
              "98  0.077763 -0.044695  0.0\n",
              "99  0.037281  1.003573  1.0\n",
              "\n",
              "[100 rows x 3 columns]"
            ]
          },
          "metadata": {
            "tags": []
          },
          "execution_count": 61
        }
      ]
    },
    {
      "cell_type": "markdown",
      "metadata": {
        "id": "d7sQBeXChuui",
        "colab_type": "text"
      },
      "source": [
        "Vamos visualizar o diagrama de dispersão de pontos no plano das features $x_1 \\times x_2$.  \n",
        "Também, vamos colorir os pontos de acordo com as classes de saída $y$ ($0$ ou $1$ para cada exemplo)."
      ]
    },
    {
      "cell_type": "code",
      "metadata": {
        "id": "ttH9_3etktER",
        "colab_type": "code",
        "colab": {
          "base_uri": "https://localhost:8080/",
          "height": 478
        },
        "outputId": "25bca1a3-10ae-4cc4-8be0-bcc813e5df6b"
      },
      "source": [
        "x1_plt = torch.squeeze(X1).numpy()\n",
        "x2_plt = torch.squeeze(X2).numpy()\n",
        "y_true_plt = torch.squeeze(Y).numpy()\n",
        "\n",
        "plt.figure(figsize=(10,7))\n",
        "sns.scatterplot(x=x1_plt, y=x2_plt, hue=np.round(y_true_plt), s=200)\n",
        "\n",
        "plt.xlabel('x1')\n",
        "plt.ylabel('x2')"
      ],
      "execution_count": 62,
      "outputs": [
        {
          "output_type": "execute_result",
          "data": {
            "text/plain": [
              "Text(0, 0.5, 'x2')"
            ]
          },
          "metadata": {
            "tags": []
          },
          "execution_count": 62
        },
        {
          "output_type": "display_data",
          "data": {
            "image/png": "[encoded data removed]",
            "text/plain": [
              "<Figure size 720x504 with 1 Axes>"
            ]
          },
          "metadata": {
            "tags": [],
            "needs_background": "light"
          }
        }
      ]
    },
    {
      "cell_type": "markdown",
      "metadata": {
        "id": "0AqOBjQAmBEh",
        "colab_type": "text"
      },
      "source": [
        "### Camada linear com ativação sigmóide: regressão logística"
      ]
    },
    {
      "cell_type": "markdown",
      "metadata": {
        "id": "NhzLemwBmIy9",
        "colab_type": "text"
      },
      "source": [
        "Acrescentaremos uma função de ativação $g(\\cdot)$ sobre o resultado da regressão linear calculada pela camada ``Linear``.   \n",
        "\n",
        "O resultado da rede agora será $y=g\\left( \\sum\\limits_i=1^n w_i x_i \\right)$.    \n",
        "\n",
        "A função de ativação que usaremos é a função sigmóide, que mapeia qualquer número real para um intervalo entre $0$ e $1$.  \n",
        "A função sigmoide é definida como:\n",
        "$g\\left( h \\right) = \\dfrac{1}{1+e^{-h}}$."
      ]
    },
    {
      "cell_type": "markdown",
      "metadata": {
        "id": "MgiP062GiVbz",
        "colab_type": "text"
      },
      "source": [
        "Abaixo segue a definição do nosso modelo, em formato de classe com herança.  \n",
        "\n",
        "Diferente do exemplo anterior, precisamos agora especificar a função de ativação sobre os neurônios da camada linear. \n",
        "\n",
        "Note que a sequência das camadas não precisa ser definida no método construtor ``__init__``, pois é apenas no método ``forward`` que vamos estabelecer a sequência de operações a ser realizadas.\n",
        "\n",
        "Entretanto, nesse caso, usamos a camada ``nn.Sequential`` para criar um _pipeline_ único e simplificar a descrição do método foward.  \n",
        "A camada ``Sequential`` recebe uma lista de camadas, e concatena-as horizontalmente, fazendo com que a sua entrada propague o dado realizando transformações em série (em sequência)."
      ]
    },
    {
      "cell_type": "code",
      "metadata": {
        "id": "9IFrbecEUGTF",
        "colab_type": "code",
        "colab": {}
      },
      "source": [
        "class xor_perceptron(nn.Module):\n",
        "  \n",
        "  def __init__(self, n_in, n_out): \n",
        "    super().__init__()    \n",
        "\n",
        "    self.perceptron = nn.Linear(in_features=n_in, out_features=n_out) # criamos uma camada com nome \"perceptron\", que recebe um modelo \"Linear\" (aka regressão linear ou camada \"densa\")\n",
        "    self.sigmoid = nn.Sigmoid() # a função sigmoide é aplicada sobre os resultados da camada anterior\n",
        "\n",
        "    layers_list = [self.perceptron, self.sigmoid] # lista das camadas da rede, em ordem sequencial\n",
        "    self.layers = nn.Sequential(*layers_list)     # \"merge\" de todas as camamadas em uma layer sequencial\n",
        "\n",
        "  def forward(self, x): \n",
        "    x = self.layers(x)  # aplica a layer sequencial (x vai passando camada por camada, até chegar na saída da rede sequencial)\n",
        "    return x"
      ],
      "execution_count": 63,
      "outputs": []
    },
    {
      "cell_type": "markdown",
      "metadata": {
        "id": "Uwz9cSEgjGob",
        "colab_type": "text"
      },
      "source": [
        "Agora, instanciamos o modelo e visualizamos a topologia da rede, bem como os parâmetros inicializados:"
      ]
    },
    {
      "cell_type": "code",
      "metadata": {
        "id": "mX1F9RhhWP2Y",
        "colab_type": "code",
        "colab": {
          "base_uri": "https://localhost:8080/",
          "height": 185
        },
        "outputId": "7aeedc6f-95b8-4e7c-b821-2397e650c9d9"
      },
      "source": [
        "my_xor = xor_perceptron(n_in=2, n_out=1)\n",
        "print(my_xor)\n",
        "\n",
        "for name, param in my_xor.named_parameters(): # outra forma de acessar todos os parâmetros do modelo\n",
        "    print(name, '\\t', param.data)"
      ],
      "execution_count": 64,
      "outputs": [
        {
          "output_type": "stream",
          "text": [
            "xor_perceptron(\n",
            "  (perceptron): Linear(in_features=2, out_features=1, bias=True)\n",
            "  (sigmoid): Sigmoid()\n",
            "  (layers): Sequential(\n",
            "    (0): Linear(in_features=2, out_features=1, bias=True)\n",
            "    (1): Sigmoid()\n",
            "  )\n",
            ")\n",
            "perceptron.weight \t tensor([[-0.5099, -0.7046]])\n",
            "perceptron.bias \t tensor([-0.0098])\n"
          ],
          "name": "stdout"
        }
      ]
    },
    {
      "cell_type": "markdown",
      "metadata": {
        "id": "CUH8FqYHjRfN",
        "colab_type": "text"
      },
      "source": [
        "### Função Custo para o problema de Classificação"
      ]
    },
    {
      "cell_type": "markdown",
      "metadata": {
        "id": "qd_ofxCAnWWL",
        "colab_type": "text"
      },
      "source": [
        "Para avaliar o problema atual, vamos utilizar a função custo **_binary cross-entropy_** (BCE).  \n",
        "A BCE é adequada para problemas cuja saída é uma classificação binária.  \n",
        "Como otimizador, seguiremos usando o SGD."
      ]
    },
    {
      "cell_type": "code",
      "metadata": {
        "id": "5D7jsOLiUVEv",
        "colab_type": "code",
        "colab": {}
      },
      "source": [
        "criterion = nn.BCELoss() # binary cross-entropy\n",
        "optimizer = torch.optim.SGD(my_xor.parameters(), lr = 0.01) "
      ],
      "execution_count": 65,
      "outputs": []
    },
    {
      "cell_type": "markdown",
      "metadata": {
        "id": "932OLMwMjcY0",
        "colab_type": "text"
      },
      "source": [
        "### Treinando a regressão logística"
      ]
    },
    {
      "cell_type": "markdown",
      "metadata": {
        "id": "zr8o31FGnl8Z",
        "colab_type": "text"
      },
      "source": [
        "Vamos encapsular o loop de treinamento em uma única função, para não reescrevê-lo mais."
      ]
    },
    {
      "cell_type": "code",
      "metadata": {
        "id": "KhKJ7b5LVwTl",
        "colab_type": "code",
        "colab": {}
      },
      "source": [
        "def train_loop(model, data, max_epochs = 1000, print_iters = 5):\n",
        "  '''Função que organiza o fluxo de treinamento de um modelo do torch.\n",
        "\n",
        "  Entradas:\n",
        "    model: um objeto instanciado do modelo para ser treinado\n",
        "    data: uma tupla (X_treino, Y_treino), com os dados de treinamento supervisionado\n",
        "      \n",
        "    max_epochs: total de vezes que 'data' será iterado dando exemplos para o modelo\n",
        "    print_iters: auxiliar, define a frequência de impressão dos resultados parciais \n",
        "\n",
        "    Saídas:\n",
        "\n",
        "    model: modelo treinado, com parâmetros atualizados\n",
        "    losses: lista com o os valores das perdas ao longo das épocas\n",
        "    accs: lista com a taxa de acerto (acurácia) do modelo ao longo das épocas\n",
        "  '''\n",
        "  \n",
        "  X_train, Y_train = data\n",
        "  losses = []\n",
        "  accs = []\n",
        "\n",
        "  for i in range(max_epochs): # para cada época\n",
        "     \n",
        "    #-----------------------------------#\n",
        "    # INÍCIO DO WORKFLOW DO TREINAMENTO #\n",
        "    # \n",
        "    Y_pred = model.forward(X_train) # apresente os dados de entrada para o modelo, e obtenha a previsão\n",
        "      \n",
        "    loss = criterion(Y_pred, Y_train)       # calcule a perda (o custo, o erro) \n",
        "    optimizer.zero_grad()                   # inicialize os gradientes\n",
        "    loss.backward()                         # backpropagation sobre a perda atual (cálculo dos novos gradientes) \n",
        "    optimizer.step()                        # atualização dos parâmetros da rede utilizando a regra do otimizador escolhido\n",
        "    # FIM DO WORKFLOW DO TREINAMENTO    #\n",
        "    #-----------------------------------#\n",
        "\n",
        "\n",
        "    # ------ Bloco Opcional ------ #\n",
        "    # Salvando métricas\n",
        "    losses.append(loss)                     # salvando a perda atual\n",
        "    acc = calc_accuracy(Y_pred, Y_train)    # calcula a taxa de acerto atual\n",
        "    accs.append(acc)\n",
        "\n",
        "    # Imprimindo resultados parciais\n",
        "    if i % print_iters ==0: # a cada t iterações\n",
        "      print(f'epoch: {i:2}  loss: {loss.item():10.8f} accuracy: {acc:2.8f}') \n",
        "    #-----------------------------------#\n",
        "\n",
        "  #----------------------------------------------------------------------------#     \n",
        "  print('\\n# finished training!')\n",
        "  print(f' # --> epoch: {i}  \\n# --> initial loss: {losses[0]:10.8f}, \\n# --> accuracy: {acc:2.8f} , \\n# --> final loss: {losses[-1]:10.8f}')\n",
        "\n",
        "  # retorna resultados\n",
        "  return model, losses, accs\n",
        "\n",
        "\n",
        "def calc_accuracy(y_pred, y_true):\n",
        "  ''' Helper function para calcular a taxa de acerto deste exemplo.\n",
        "  '''\n",
        "  num_hits  = torch.sum(torch.round(y_pred)==y_true).numpy()\n",
        "  num_total =  float(y_true.numel())\n",
        "  acc=  num_hits/num_total\n",
        "  return acc"
      ],
      "execution_count": 66,
      "outputs": []
    },
    {
      "cell_type": "markdown",
      "metadata": {
        "id": "ta5jl3-4oNKn",
        "colab_type": "text"
      },
      "source": [
        "Vamos agrupar todas as features para que formem uma matriz de entrada ``X_train``."
      ]
    },
    {
      "cell_type": "code",
      "metadata": {
        "id": "8mLDhl34nslb",
        "colab_type": "code",
        "colab": {}
      },
      "source": [
        "X_train = torch.cat([X1, X2], dim=1) # concatena os vetores coluna em uma matriz [X1 X2] com m linhas (exemplos) e n colunas (features)\n",
        "data = (X_train, Y) # encapsula (X,Y) de treino numa tupla (dupla)"
      ],
      "execution_count": 67,
      "outputs": []
    },
    {
      "cell_type": "markdown",
      "metadata": {
        "id": "5DwRUOsKvaqH",
        "colab_type": "text"
      },
      "source": [
        "Agora vamos chamar a fução de treinamento, indicando o número de iterações:"
      ]
    },
    {
      "cell_type": "code",
      "metadata": {
        "id": "yTSmLlmpXoOk",
        "colab_type": "code",
        "colab": {
          "base_uri": "https://localhost:8080/",
          "height": 454
        },
        "outputId": "3cb910c5-ac49-456b-b917-7adb7dcedfc8"
      },
      "source": [
        "my_xor, losses, accs = train_loop(my_xor, data, max_epochs=2000, print_iters=100) # note que o modelo é sobrescrito pela saída treinada"
      ],
      "execution_count": 68,
      "outputs": [
        {
          "output_type": "stream",
          "text": [
            "epoch:  0  loss: 0.78253359 accuracy: 0.35000000\n",
            "epoch: 100  loss: 0.73152548 accuracy: 0.24000000\n",
            "epoch: 200  loss: 0.70713264 accuracy: 0.27000000\n",
            "epoch: 300  loss: 0.69590032 accuracy: 0.53000000\n",
            "epoch: 400  loss: 0.69080216 accuracy: 0.54000000\n",
            "epoch: 500  loss: 0.68848878 accuracy: 0.69000000\n",
            "epoch: 600  loss: 0.68742639 accuracy: 0.76000000\n",
            "epoch: 700  loss: 0.68692470 accuracy: 0.79000000\n",
            "epoch: 800  loss: 0.68667531 accuracy: 0.79000000\n",
            "epoch: 900  loss: 0.68654001 accuracy: 0.79000000\n",
            "epoch: 1000  loss: 0.68645740 accuracy: 0.78000000\n",
            "epoch: 1100  loss: 0.68639952 accuracy: 0.76000000\n",
            "epoch: 1200  loss: 0.68635446 accuracy: 0.76000000\n",
            "epoch: 1300  loss: 0.68631625 accuracy: 0.76000000\n",
            "epoch: 1400  loss: 0.68628210 accuracy: 0.75000000\n",
            "epoch: 1500  loss: 0.68625128 accuracy: 0.74000000\n",
            "epoch: 1600  loss: 0.68622291 accuracy: 0.73000000\n",
            "epoch: 1700  loss: 0.68619651 accuracy: 0.70000000\n",
            "epoch: 1800  loss: 0.68617201 accuracy: 0.70000000\n",
            "epoch: 1900  loss: 0.68614930 accuracy: 0.69000000\n",
            "\n",
            "# finished training!\n",
            " # --> epoch: 1999  \n",
            "# --> initial loss: 0.78253359, \n",
            "# --> accuracy: 0.68000000 , \n",
            "# --> final loss: 0.68612814\n"
          ],
          "name": "stdout"
        }
      ]
    },
    {
      "cell_type": "markdown",
      "metadata": {
        "id": "nMnhmeguoDqO",
        "colab_type": "text"
      },
      "source": [
        "Vamos avaliar o resultado plotando:\n",
        "- o gráfico da evolução da perda BCE vs. as épocas de treinamento,\n",
        "- o gráfico da taxa de acerto (acurácia) vs. as épocas de  treinamento.\n",
        "\n",
        "Vamos organizar uma função para facilitar essa visualização."
      ]
    },
    {
      "cell_type": "code",
      "metadata": {
        "id": "pstsHGwUYoW5",
        "colab_type": "code",
        "colab": {}
      },
      "source": [
        "def plot_loss_and_accuracy(losses, accs):\n",
        "\n",
        "  fig, ax_tuple = plt.subplots(1, 2, figsize=(16,6))\n",
        "  fig.suptitle('Loss and accuracy')\n",
        "\n",
        "  for i, (y_label, y_values) in enumerate(zip(['BCE loss','Accuracy'],[losses, accs])):\n",
        "    ax_tuple[i].plot(range(len(y_values)),  y_values, label='train')\n",
        "    ax_tuple[i].set_xlabel('epochs')\n",
        "    ax_tuple[i].set_ylabel(y_label)\n",
        "    ax_tuple[i].legend()"
      ],
      "execution_count": 69,
      "outputs": []
    },
    {
      "cell_type": "markdown",
      "metadata": {
        "id": "cqUCsEU3wVOs",
        "colab_type": "text"
      },
      "source": [
        " Mostrando os gráficos, percebemos que o exemplo saturou em uma perda relativamente alta.  \n",
        " Além disso, a evolução da taxa de acerto apresenta uma curva estranha, e converge para um valor insatisfatório."
      ]
    },
    {
      "cell_type": "code",
      "metadata": {
        "id": "8MTIOVNapyKk",
        "colab_type": "code",
        "colab": {
          "base_uri": "https://localhost:8080/",
          "height": 450
        },
        "outputId": "62a047db-b428-4533-b8a7-350d73fa3383"
      },
      "source": [
        "plot_loss_and_accuracy(losses, accs)"
      ],
      "execution_count": 70,
      "outputs": [
        {
          "output_type": "display_data",
          "data": {
            "image/png": "[encoded data removed]",
            "text/plain": [
              "<Figure size 1152x432 with 2 Axes>"
            ]
          },
          "metadata": {
            "tags": [],
            "needs_background": "light"
          }
        }
      ]
    },
    {
      "cell_type": "markdown",
      "metadata": {
        "id": "n1UIdGrZwZ_3",
        "colab_type": "text"
      },
      "source": [
        "Vamos tentar visualizar o scatterplot das saídas previstas no espaço cartesiano $x_1 \\times x_2$ (aqui, $\\times$ indica produto cartesiano). "
      ]
    },
    {
      "cell_type": "markdown",
      "metadata": {
        "id": "a-pijn7_wqeW",
        "colab_type": "text"
      },
      "source": [
        "Primeiro, vamos gerar as previsões com o modelo treinado."
      ]
    },
    {
      "cell_type": "code",
      "metadata": {
        "id": "xZ91lcEOa_Jb",
        "colab_type": "code",
        "colab": {}
      },
      "source": [
        "with torch.no_grad():\n",
        "  y_pred_plt = torch.squeeze(my_xor(torch.cat([X1, X2],dim=1))).numpy() # para transformar em numpy, é necessário primeiro desvincular o ten"
      ],
      "execution_count": 71,
      "outputs": []
    },
    {
      "cell_type": "markdown",
      "metadata": {
        "id": "VmJ--Lj-wtts",
        "colab_type": "text"
      },
      "source": [
        "Fazendo a imagem das saídas, notamos que a rede não aprendeu a função XOR.    \n",
        "\n",
        "Note também que precisamos arrendodar o valor de saída da sigmoid para estratificar em $\\hat{y}=\\left\\lbrace 0,1 \\right\\rbrace$."
      ]
    },
    {
      "cell_type": "code",
      "metadata": {
        "id": "1hDvLDOLbTTF",
        "colab_type": "code",
        "colab": {
          "base_uri": "https://localhost:8080/",
          "height": 450
        },
        "outputId": "7aaf8c71-832e-43c4-b473-e2ab95edc498"
      },
      "source": [
        "plt.figure(figsize=(10,7))\n",
        "sns.scatterplot(x=x1_plt, y=x2_plt, s=200, hue=np.round(y_pred_plt))"
      ],
      "execution_count": 72,
      "outputs": [
        {
          "output_type": "execute_result",
          "data": {
            "text/plain": [
              "<matplotlib.axes._subplots.AxesSubplot at 0x7fd49e212630>"
            ]
          },
          "metadata": {
            "tags": []
          },
          "execution_count": 72
        },
        {
          "output_type": "display_data",
          "data": {
            "image/png": "[encoded data removed]",
            "text/plain": [
              "<Figure size 720x504 with 1 Axes>"
            ]
          },
          "metadata": {
            "tags": [],
            "needs_background": "light"
          }
        }
      ]
    },
    {
      "cell_type": "markdown",
      "metadata": {
        "id": "QoZDybUqxDGz",
        "colab_type": "text"
      },
      "source": [
        "### Feature Engineering: incluindo não-linearidades na entrada"
      ]
    },
    {
      "cell_type": "markdown",
      "metadata": {
        "id": "M5fxI4o4xWSx",
        "colab_type": "text"
      },
      "source": [
        "A regressão logística não foi capaz de aprender a função XOR adequadamente.   \n",
        "\n",
        "Uma possível alternativa seria buscarmos um modelo mais complexo, com mais camadas e neurônios.\n",
        "\n",
        "Entretanto, podemos tentar manter a simplicidade do modelo e inserir as não-linearidades na entrada, acrescentando novas _features_.  \n",
        "Esse processo é chamado *__feature engineering__*."
      ]
    },
    {
      "cell_type": "markdown",
      "metadata": {
        "id": "DWUwUlpvx4Ki",
        "colab_type": "text"
      },
      "source": [
        "Já temos as features $x_1$ e $x_2$, os bits de entrada da função XOR.  \n",
        "Vamos criar uma feature que combina as duas entradas usando $x_1 x_2$.  \n",
        "Note que, embora a operação dos tensores seja com valores ``float``, o resultado, caso não houvesse ruído, seria idêntico ao da operação booleana ``and`` $x_1 \\& x_2$."
      ]
    },
    {
      "cell_type": "code",
      "metadata": {
        "id": "74UzfB7NcuHK",
        "colab_type": "code",
        "colab": {
          "base_uri": "https://localhost:8080/",
          "height": 402
        },
        "outputId": "2ac7e090-d6d5-4a58-be51-d3e5e87608a1"
      },
      "source": [
        "dataset = torch.cat([X1,X2, X1*X2,Y],dim=1).numpy() # feature engineering\n",
        "pd.DataFrame(data=dataset,columns=['X1','X2', 'X1*X2','Y'])"
      ],
      "execution_count": 73,
      "outputs": [
        {
          "output_type": "execute_result",
          "data": {
            "text/html": [
              "<div>\n",
              "<style scoped>\n",
              "    .dataframe tbody tr th:only-of-type {\n",
              "        vertical-align: middle;\n",
              "    }\n",
              "\n",
              "    .dataframe tbody tr th {\n",
              "        vertical-align: top;\n",
              "    }\n",
              "\n",
              "    .dataframe thead th {\n",
              "        text-align: right;\n",
              "    }\n",
              "</style>\n",
              "<table border=\"1\" class=\"dataframe\">\n",
              "  <thead>\n",
              "    <tr style=\"text-align: right;\">\n",
              "      <th></th>\n",
              "      <th>X1</th>\n",
              "      <th>X2</th>\n",
              "      <th>X1*X2</th>\n",
              "      <th>Y</th>\n",
              "    </tr>\n",
              "  </thead>\n",
              "  <tbody>\n",
              "    <tr>\n",
              "      <th>0</th>\n",
              "      <td>0.979992</td>\n",
              "      <td>0.983558</td>\n",
              "      <td>0.963880</td>\n",
              "      <td>0.0</td>\n",
              "    </tr>\n",
              "    <tr>\n",
              "      <th>1</th>\n",
              "      <td>0.934793</td>\n",
              "      <td>0.931160</td>\n",
              "      <td>0.870442</td>\n",
              "      <td>0.0</td>\n",
              "    </tr>\n",
              "    <tr>\n",
              "      <th>2</th>\n",
              "      <td>0.958496</td>\n",
              "      <td>1.022381</td>\n",
              "      <td>0.979949</td>\n",
              "      <td>0.0</td>\n",
              "    </tr>\n",
              "    <tr>\n",
              "      <th>3</th>\n",
              "      <td>1.078308</td>\n",
              "      <td>1.076509</td>\n",
              "      <td>1.160808</td>\n",
              "      <td>0.0</td>\n",
              "    </tr>\n",
              "    <tr>\n",
              "      <th>4</th>\n",
              "      <td>1.028015</td>\n",
              "      <td>1.085798</td>\n",
              "      <td>1.116217</td>\n",
              "      <td>0.0</td>\n",
              "    </tr>\n",
              "    <tr>\n",
              "      <th>...</th>\n",
              "      <td>...</td>\n",
              "      <td>...</td>\n",
              "      <td>...</td>\n",
              "      <td>...</td>\n",
              "    </tr>\n",
              "    <tr>\n",
              "      <th>95</th>\n",
              "      <td>0.032294</td>\n",
              "      <td>0.926221</td>\n",
              "      <td>0.029911</td>\n",
              "      <td>1.0</td>\n",
              "    </tr>\n",
              "    <tr>\n",
              "      <th>96</th>\n",
              "      <td>-0.046463</td>\n",
              "      <td>-0.056484</td>\n",
              "      <td>0.002624</td>\n",
              "      <td>0.0</td>\n",
              "    </tr>\n",
              "    <tr>\n",
              "      <th>97</th>\n",
              "      <td>-0.042588</td>\n",
              "      <td>0.928851</td>\n",
              "      <td>-0.039558</td>\n",
              "      <td>1.0</td>\n",
              "    </tr>\n",
              "    <tr>\n",
              "      <th>98</th>\n",
              "      <td>0.077763</td>\n",
              "      <td>-0.044695</td>\n",
              "      <td>-0.003476</td>\n",
              "      <td>0.0</td>\n",
              "    </tr>\n",
              "    <tr>\n",
              "      <th>99</th>\n",
              "      <td>0.037281</td>\n",
              "      <td>1.003573</td>\n",
              "      <td>0.037414</td>\n",
              "      <td>1.0</td>\n",
              "    </tr>\n",
              "  </tbody>\n",
              "</table>\n",
              "<p>100 rows × 4 columns</p>\n",
              "</div>"
            ],
            "text/plain": [
              "          X1        X2     X1*X2    Y\n",
              "0   0.979992  0.983558  0.963880  0.0\n",
              "1   0.934793  0.931160  0.870442  0.0\n",
              "2   0.958496  1.022381  0.979949  0.0\n",
              "3   1.078308  1.076509  1.160808  0.0\n",
              "4   1.028015  1.085798  1.116217  0.0\n",
              "..       ...       ...       ...  ...\n",
              "95  0.032294  0.926221  0.029911  1.0\n",
              "96 -0.046463 -0.056484  0.002624  0.0\n",
              "97 -0.042588  0.928851 -0.039558  1.0\n",
              "98  0.077763 -0.044695 -0.003476  0.0\n",
              "99  0.037281  1.003573  0.037414  1.0\n",
              "\n",
              "[100 rows x 4 columns]"
            ]
          },
          "metadata": {
            "tags": []
          },
          "execution_count": 73
        }
      ]
    },
    {
      "cell_type": "markdown",
      "metadata": {
        "id": "ZwmUp7pTyXy1",
        "colab_type": "text"
      },
      "source": [
        "Vamos repetir todo procedimento anterior:\n",
        "- instanciar um modelo, agora com $n_{\\text{in}}=3$ features de entrada\n",
        "- escolher o critério do treino (a função perda), novamente a BCE\n",
        "- escolher o otimizador (SGD) e a _learning rate_\n",
        "- treinar o modelo\n",
        "- fazer as previsões com o modelo treinado.\n",
        "\n",
        "Vamos aproveitar as funções anteriores para simplificar tudo numa única célula."
      ]
    },
    {
      "cell_type": "code",
      "metadata": {
        "id": "vsrCi1B1jJ2o",
        "colab_type": "code",
        "colab": {
          "base_uri": "https://localhost:8080/",
          "height": 454
        },
        "outputId": "c213d930-b745-4dac-c319-b55ddac24a1f"
      },
      "source": [
        "my_xor = xor_perceptron(n_in=3, n_out=1)\n",
        "criterion = nn.BCELoss() # binary cross-entropy\n",
        "optimizer = torch.optim.SGD(my_xor.parameters(), lr = 0.05) \n",
        "data = (torch.cat([X1, X2, X1*X2], dim=1), Y)\n",
        "my_xor, losses, accs = train_loop(my_xor, data, max_epochs=2000, print_iters=100)\n",
        "\n",
        "with torch.no_grad():\n",
        "  y_pred_plt = torch.squeeze(my_xor(torch.cat([X1, X2, X1*X2],dim=1))).numpy() # para transformar em numpy, é necessário primeiro desvincular o ten"
      ],
      "execution_count": 74,
      "outputs": [
        {
          "output_type": "stream",
          "text": [
            "epoch:  0  loss: 0.80011773 accuracy: 0.55000000\n",
            "epoch: 100  loss: 0.64209604 accuracy: 0.66000000\n",
            "epoch: 200  loss: 0.57851976 accuracy: 0.79000000\n",
            "epoch: 300  loss: 0.53213811 accuracy: 0.79000000\n",
            "epoch: 400  loss: 0.49533680 accuracy: 0.79000000\n",
            "epoch: 500  loss: 0.46456447 accuracy: 0.79000000\n",
            "epoch: 600  loss: 0.43788895 accuracy: 0.79000000\n",
            "epoch: 700  loss: 0.41421306 accuracy: 0.80000000\n",
            "epoch: 800  loss: 0.39287907 accuracy: 0.83000000\n",
            "epoch: 900  loss: 0.37346742 accuracy: 0.87000000\n",
            "epoch: 1000  loss: 0.35569093 accuracy: 0.89000000\n",
            "epoch: 1100  loss: 0.33933944 accuracy: 0.93000000\n",
            "epoch: 1200  loss: 0.32424951 accuracy: 0.96000000\n",
            "epoch: 1300  loss: 0.31028774 accuracy: 0.97000000\n",
            "epoch: 1400  loss: 0.29734206 accuracy: 0.99000000\n",
            "epoch: 1500  loss: 0.28531513 accuracy: 1.00000000\n",
            "epoch: 1600  loss: 0.27412194 accuracy: 1.00000000\n",
            "epoch: 1700  loss: 0.26368687 accuracy: 1.00000000\n",
            "epoch: 1800  loss: 0.25394279 accuracy: 1.00000000\n",
            "epoch: 1900  loss: 0.24482954 accuracy: 1.00000000\n",
            "\n",
            "# finished training!\n",
            " # --> epoch: 1999  \n",
            "# --> initial loss: 0.80011773, \n",
            "# --> accuracy: 1.00000000 , \n",
            "# --> final loss: 0.23637579\n"
          ],
          "name": "stdout"
        }
      ]
    },
    {
      "cell_type": "markdown",
      "metadata": {
        "id": "NM-EYnkAy3Kk",
        "colab_type": "text"
      },
      "source": [
        "Agora visualizamos a perda e a acurácia e notamos que o modelo conseguiu generalizar a função XOR a partir dos exemplos $(X, Y)$.  \n",
        "\n",
        "Porém, lembre que aumentamos o espaço de featuers de $X$, usando  \n",
        "$(x_1, x_2, x_1 x_2)\\to y$  \n",
        "em vez de apenas  \n",
        "$(x_1, x_2) \\to y$."
      ]
    },
    {
      "cell_type": "code",
      "metadata": {
        "id": "71ihMPfnjpMo",
        "colab_type": "code",
        "colab": {
          "base_uri": "https://localhost:8080/",
          "height": 450
        },
        "outputId": "452c5f4a-d749-4354-a4b7-f929d7300cf3"
      },
      "source": [
        "plot_loss_and_accuracy(losses, accs)"
      ],
      "execution_count": 75,
      "outputs": [
        {
          "output_type": "display_data",
          "data": {
            "image/png": "[encoded data removed]",
            "text/plain": [
              "<Figure size 1152x432 with 2 Axes>"
            ]
          },
          "metadata": {
            "tags": [],
            "needs_background": "light"
          }
        }
      ]
    },
    {
      "cell_type": "code",
      "metadata": {
        "id": "VluuMp2Cjjiq",
        "colab_type": "code",
        "colab": {
          "base_uri": "https://localhost:8080/",
          "height": 450
        },
        "outputId": "78c9be6b-a78a-4aba-c8e3-2021a1c69454"
      },
      "source": [
        "plt.figure(figsize=(10,7))\n",
        "sns.scatterplot(x=x1_plt, y=x2_plt, s=200, hue=np.round(y_pred_plt))"
      ],
      "execution_count": 76,
      "outputs": [
        {
          "output_type": "execute_result",
          "data": {
            "text/plain": [
              "<matplotlib.axes._subplots.AxesSubplot at 0x7fd49e0954a8>"
            ]
          },
          "metadata": {
            "tags": []
          },
          "execution_count": 76
        },
        {
          "output_type": "display_data",
          "data": {
            "image/png": "[encoded data removed]",
            "text/plain": [
              "<Figure size 720x504 with 1 Axes>"
            ]
          },
          "metadata": {
            "tags": [],
            "needs_background": "light"
          }
        }
      ]
    },
    {
      "cell_type": "markdown",
      "metadata": {
        "id": "tgejOpPlzaEA",
        "colab_type": "text"
      },
      "source": [
        "## Redes com mais camadas"
      ]
    },
    {
      "cell_type": "markdown",
      "metadata": {
        "id": "1Uu6NmIL0MML",
        "colab_type": "text"
      },
      "source": [
        "Estudar exemplo da [\"rede classificadora de elipses\"](https://github.com/fontanads/machine_learning/blob/master/pytorch_labs/PyTorch_Custom_BCE_Loss_and_GradOpt.ipynb):\n",
        "- modelos com várias camadas densas\n",
        "- função de ativação ReLU."
      ]
    },
    {
      "cell_type": "markdown",
      "metadata": {
        "id": "Yq0uPS9Y0csp",
        "colab_type": "text"
      },
      "source": [
        "## Procesamento de Linguagem Natural e Embedding Layers"
      ]
    },
    {
      "cell_type": "markdown",
      "metadata": {
        "id": "I59VDxqbpA4I",
        "colab_type": "text"
      },
      "source": [
        "Camadas densas com uma função de ativação apropriada são capazes de generalizar muitas funções, inclusive funções não-lineares.  \n",
        "\n",
        "Porém, essas camadas assumem que os dados de entrada são quantiativos, ou seja, um vetor de valores reais."
      ]
    },
    {
      "cell_type": "markdown",
      "metadata": {
        "id": "5XLnCaTFqcUF",
        "colab_type": "text"
      },
      "source": [
        "### Variáveis Categóricas"
      ]
    },
    {
      "cell_type": "markdown",
      "metadata": {
        "id": "rESOUqI-pW_8",
        "colab_type": "text"
      },
      "source": [
        "Quando nossos dados são **categóricos** por natureza, ou seja, são classes que não possuem relação de ordem entre si, as camadas densas não são a melhor forma de fazer o processamento."
      ]
    },
    {
      "cell_type": "markdown",
      "metadata": {
        "id": "qyIZWeccpqLQ",
        "colab_type": "text"
      },
      "source": [
        "Considere um vetor de dados categóricos $\\mathbf{x}$, em que cada elemento $x_i$ do vetor pode assumir apenas um valor do conjunto $\\mathcal{X}=\\left\\lbrace 0, 1, \\ldots, N-1 \\right\\rbrace$.  \n",
        "\n",
        "Ou seja, cada entrada do vetor $\\mathbf{x}$ representa uma dentre $N$ classes possíveis.  \n",
        "\n",
        "Nesse tipo de dado, não existe o conceito de comparação $x_2 > x_1$, ou coisas do gênero, pois **os números que representam as classes são apenas símbolos para enumerar as diferentes categorias existentes**."
      ]
    },
    {
      "cell_type": "markdown",
      "metadata": {
        "id": "wg2sSN-JqenF",
        "colab_type": "text"
      },
      "source": [
        "### One-Hot Encoding"
      ]
    },
    {
      "cell_type": "markdown",
      "metadata": {
        "id": "o8EbKv_Vrz6M",
        "colab_type": "text"
      },
      "source": [
        "Como existem $N$ classes, uma representação matemática possível é transformar cada classe em um **vetor esparso**, com $N$ elementos, onde o único valor não-nulo de cada vetor seja um número $1$ na posição correspondente da classe que será representada. Essa representação esparsa se chama _one-hot encoding_.\n",
        "\n",
        "Vamos considerar um exemplo concreto. Suponha que temos $N=3$ classes, ou seja, $\\mathcal{X}=\\left\\lbrace 0, 1, 2 \\right\\rbrace$. A transformação _one-hot encoding_ vai criar as seguintes representações vetoriais para cada classe:\n",
        "- classe $0$ será mapeada para o vetor $\\mathbf{x}_0 = \\begin{bmatrix} 1 & 0 & 0 \\end{bmatrix}$\n",
        "- classe $1$ será mapeada para o vetor $\\mathbf{x}_1 = \\begin{bmatrix} 0 & 1 & 0 \\end{bmatrix}$\n",
        "- classe $2$ será mapeada para o vetor $\\mathbf{x}_2 = \\begin{bmatrix} 0 & 0 & 1 \\end{bmatrix}$."
      ]
    },
    {
      "cell_type": "markdown",
      "metadata": {
        "id": "Ji7HvXREtEZj",
        "colab_type": "text"
      },
      "source": [
        "> **Desvantagens da representação _one-hot encoding_**\n",
        "> \n",
        "> Um dos problemas da represnetação _one-hot encoding_ é que, num cenário onde o número de categorias seja muito grande (exemplo: do tamanho de um vocabulário de palavras de um idioma), teremos vetores dimensões muito grandes (cada vetor tem tamanho igual ao número de classes), com apenas um valor não-nulo cada.  \n",
        "> \n",
        "> Além de tornar os vetores muito grandes, o processo obriga que a computação seja feita com álgebra para matrizes e vetores esparsos, a fim de tornar o processo computacionalmente eficiente e viável.\n",
        "> \n",
        "> Outro problema é que a representação esparsa _one-hot encoding_ é invariante, não possui nenhum parâmetro adatável, e não absorve nenhum tipo de relação de \"distância\" (ou diferenciação) entre dois vetores que representam diferentes classes (é como se todas as classes estivessem equidistances uma das outras)."
      ]
    },
    {
      "cell_type": "markdown",
      "metadata": {
        "id": "wjJesKWirvQw",
        "colab_type": "text"
      },
      "source": [
        "### Embedding Layer"
      ]
    },
    {
      "cell_type": "markdown",
      "metadata": {
        "id": "KGaW7VvQuCxK",
        "colab_type": "text"
      },
      "source": [
        "Como alternativa à representação esparsa de variáveis categóricas, podemos usar uma **representação vetorial densa**.  \n",
        "Nessa abordagem, cada classe do conjunto $\\mathcal{X}$ possuirá uma representação geométrica no espaço euclidiano $\\mathbb{R}^n$, onde $n$ é um número arbitrário de dimensões, escolhido em função da complexidade do problema.  \n",
        "Essas representações densas são denominadas _embeddings_. A palavra remete ao fato de que os vetores \"embarcam\" características de cada classe, criando inclusive uma relação de distâncias e agrupamentos entre classes no espaço euclidiano."
      ]
    },
    {
      "cell_type": "markdown",
      "metadata": {
        "id": "sjDjPkTcvMaA",
        "colab_type": "text"
      },
      "source": [
        "Imagine o exemplo anterior, $N=3$  classes, ou seja,  $\\mathcal{X}={0,1,2}$.  \n",
        "Vamos escolher $n=2$ dimensões (plano cartesiano) para construir o _embedding_ dessas classes.\n",
        "Inicializando com valores aleatórios, poderíamos ter as seguintes representações:\n",
        "- classe $0$ será mapeada para o vetor $\\mathbf{x}_0 = \\begin{bmatrix} 2.1 & 3.2 \\end{bmatrix}$\n",
        "- classe $1$ será mapeada para o vetor $\\mathbf{x}_1 = \\begin{bmatrix} 1.9 & -1.1 \\end{bmatrix}$\n",
        "- classe $2$ será mapeada para o vetor $\\mathbf{x}_2 = \\begin{bmatrix} -3.1 & -1.2 \\end{bmatrix}$."
      ]
    },
    {
      "cell_type": "code",
      "metadata": {
        "id": "jBVS8p1ywLIf",
        "colab_type": "code",
        "colab": {
          "base_uri": "https://localhost:8080/",
          "height": 398
        },
        "outputId": "937d2fe0-6d94-4923-8770-08c709c9a0eb"
      },
      "source": [
        "embedding_example = np.array([[2.1, 3.2], [1.9, -1.1], [-3.1, -1.2]]) # matriz de embedding\n",
        "print(f'Embedding Matrix: \\n {np.array_str(embedding_example)}')      \n",
        "\n",
        "plt.figure(figsize=(6,5))\n",
        "plt.scatter(x=embedding_example[:,0], y=embedding_example[:, 1])      # cada linha é uma classe, cada coluna é uma dimensão do embedding\n",
        "plt.grid()\n",
        "for x, coord in zip (range(3), embedding_example):\n",
        "  plt.annotate(s='classe '+ str(x),xy=coord+.1, fontsize=15)\n",
        "\n",
        "plt.xlim([-3.5,3.5])\n",
        "plt.ylim([-2,4]);"
      ],
      "execution_count": 77,
      "outputs": [
        {
          "output_type": "stream",
          "text": [
            "Embedding Matrix: \n",
            " [[ 2.1  3.2]\n",
            " [ 1.9 -1.1]\n",
            " [-3.1 -1.2]]\n"
          ],
          "name": "stdout"
        },
        {
          "output_type": "display_data",
          "data": {
            "image/png": "[encoded data removed]",
            "text/plain": [
              "<Figure size 432x360 with 1 Axes>"
            ]
          },
          "metadata": {
            "tags": [],
            "needs_background": "light"
          }
        }
      ]
    },
    {
      "cell_type": "markdown",
      "metadata": {
        "id": "TzfgrsHxyn1Z",
        "colab_type": "text"
      },
      "source": [
        "Note que, ao agrupar todos os _embeddings_ numa matriz  \n",
        "$\\mathbf{E}$ de tamanho $N \\times n$,  \n",
        "ou seja, \n",
        "- cada linha correspondendo ao _embedding_ de uma classe e \n",
        "- cada coluna correspondendo a uma dimensão diferente do embedding\n",
        "\n",
        "podemos dizer que o vetor _one-hot ecoded_ $\\mathbf{x}_{i}$, de tamanho  $1\\times N$, que representa a classe $i$ (possui $1$ na $i$-ésima coluna e zero nas demais) **seleciona a linha** (o _embedding_) $\\mathbf{e}_i$ da matriz $\\mathbf{E}$ através da multiplicação:\n",
        "$\\mathbf{e_i} = \\mathbf{x}_i \\mathbf{E}$.\n",
        "\n",
        "Essa notação serve apenas para uma descrição matemática da operação.  \n",
        "Na prática, em código, para ser eficiente, basta selecionar com um slice da matriz ```e_i = E[i]```.\n"
      ]
    },
    {
      "cell_type": "markdown",
      "metadata": {
        "id": "2CRiJMX84ueM",
        "colab_type": "text"
      },
      "source": [
        "### Embedding Layers no PyTorch"
      ]
    },
    {
      "cell_type": "markdown",
      "metadata": {
        "id": "XNKt_u6L0Vbu",
        "colab_type": "text"
      },
      "source": [
        "Para criar um embedding no PyTorch, inicializado com valores aleatórios, usamos a camada ```nn.Embedding```:"
      ]
    },
    {
      "cell_type": "code",
      "metadata": {
        "id": "6YD9QprY0hI3",
        "colab_type": "code",
        "colab": {
          "base_uri": "https://localhost:8080/",
          "height": 398
        },
        "outputId": "171025b0-0531-42a0-e888-e0755b3ef404"
      },
      "source": [
        "embedding_layer = nn.Embedding(num_embeddings=3, embedding_dim=2)\n",
        "print(embedding_layer)\n",
        "for i in torch.arange(0,3,1):\n",
        "  print(f\"o embedding da classe {i} é {embedding_layer(i).data}\")\n",
        "\n",
        "embedding_matrix = embedding_layer(torch.arange(0,3,1)).data\n",
        "\n",
        "plt.figure(figsize=(6,5))\n",
        "plt.scatter(x=embedding_matrix[:,0], y=embedding_matrix[:, 1])      # cada linha é uma classe, cada coluna é uma dimensão do embedding\n",
        "plt.grid()\n",
        "for x, coord in zip (range(3), embedding_matrix):\n",
        "  plt.annotate(s='classe '+ str(x),xy=coord+.1, fontsize=15)\n",
        "\n",
        "plt.xlim([-3.5,4.0])\n",
        "plt.ylim([-2,4]);"
      ],
      "execution_count": 78,
      "outputs": [
        {
          "output_type": "stream",
          "text": [
            "Embedding(3, 2)\n",
            "o embedding da classe 0 é tensor([ 0.3961, -1.7381])\n",
            "o embedding da classe 1 é tensor([2.7990, 1.2095])\n",
            "o embedding da classe 2 é tensor([-0.7230,  0.0201])\n"
          ],
          "name": "stdout"
        },
        {
          "output_type": "display_data",
          "data": {
            "image/png": "[encoded data removed]",
            "text/plain": [
              "<Figure size 432x360 with 1 Axes>"
            ]
          },
          "metadata": {
            "tags": [],
            "needs_background": "light"
          }
        }
      ]
    },
    {
      "cell_type": "markdown",
      "metadata": {
        "id": "PGhnG-o_4zkN",
        "colab_type": "text"
      },
      "source": [
        "Note que"
      ]
    },
    {
      "cell_type": "code",
      "metadata": {
        "id": "dQvxh9Y14478",
        "colab_type": "code",
        "colab": {
          "base_uri": "https://localhost:8080/",
          "height": 67
        },
        "outputId": "ac6614da-86eb-4f4f-cca0-cf5ec2ffa791"
      },
      "source": [
        "embedding_layer(torch.arange(0,3,1))"
      ],
      "execution_count": 79,
      "outputs": [
        {
          "output_type": "execute_result",
          "data": {
            "text/plain": [
              "tensor([[ 0.3961, -1.7381],\n",
              "        [ 2.7990,  1.2095],\n",
              "        [-0.7230,  0.0201]], grad_fn=<EmbeddingBackward>)"
            ]
          },
          "metadata": {
            "tags": []
          },
          "execution_count": 79
        }
      ]
    },
    {
      "cell_type": "markdown",
      "metadata": {
        "id": "6gkdvYsn47kV",
        "colab_type": "text"
      },
      "source": [
        "é uma matriz de _embedding_ que está sendo representada por um tensor, e que esse tensor possui um método de gradiente associado.  \n",
        "Ou seja, **é possível treinar os parâmetros do Embedding para otimizar a tarefa que a rede neural está realizando**, buscando encontrar a melhor representação possível da variável categória."
      ]
    },
    {
      "cell_type": "markdown",
      "metadata": {
        "id": "1W9-RFq-1O7A",
        "colab_type": "text"
      },
      "source": [
        "> **Como avaliar se um _Embedding_ é uma boa representação da minha variável categórica?**\n",
        "> \n",
        "> Em aplicações de **processamento de linguagem natural (NLP)**, cada palavra do vocabulário pode ser representada por um word-embedding, tipicamente na ordem de $50$ a $300$ dimensões.  \n",
        "> \n",
        "> Esses word-embeddings são obtidos treinando os parâmetros de uma rede neural (os valores dos elementos da matriz da camada de _embedding_) com um vocabulário grande e um _corpus_ muito extenso. \n",
        "> \n",
        "> Em geral, é difícil avaliar se um word-embedding é uma boa representação do vocabulário sem definir uma tarefa a mais para a rede-neural.\n",
        "> \n",
        "> Em NLP, dois _embeddings_ consolidadados da língua inglesa são [GLoVe](https://nlp.stanford.edu/projects/glove/) e [word2vec](https://code.google.com/archive/p/word2vec/) foram treinados em _corpus_ enormes e obtiveram bons resultados no processo de gerar \"**analogias de palavras**\". \n",
        "> \n",
        "> Por exemplo, ao realizar a operação vetorial \n",
        ">  ```Embedding['Paris'] - Embedding['France'] + Embedding['Italy']```,\n",
        "> o vetor resultante é muito próximo (geometricamente) do ponto ```Embedding['Rome']```.  \n",
        "> Similarmente,  \n",
        "> ```Embedding['king'] - Embedding['man'] + Embedding['woman']```  \n",
        "> resulta num ponto muito próximo de  ```Embedding['queen']```.\n",
        ">\n",
        "> Para mais informações sobre métodos de avaliação de word-embeddings, [leia este artigo](https://arxiv.org/pdf/1801.09536.pdf)."
      ]
    },
    {
      "cell_type": "markdown",
      "metadata": {
        "id": "XYnGWYQfqgnc",
        "colab_type": "text"
      },
      "source": [
        "### Dataset de NLP: SMS Spam"
      ]
    },
    {
      "cell_type": "markdown",
      "metadata": {
        "id": "sarZw3cX6LEE",
        "colab_type": "text"
      },
      "source": [
        "Vamos montar uma rede neural com PyTorch para implementar um classificador de Spam.  \n",
        "Trataremos o problema com uma aplicação de NLP.  \n",
        "\n",
        "Abaixo, carregamos o dataset utilizado do arquivo ```spam.csv```, obtido do [repositório de Machine Learning da UCI](https://archive.ics.uci.edu/ml/datasets/spambase)."
      ]
    },
    {
      "cell_type": "code",
      "metadata": {
        "id": "ivyWu7Edk9X0",
        "colab_type": "code",
        "colab": {}
      },
      "source": [
        "encoding_str = 'Windows-1252' # 'iso-8859-1'\n",
        "url_data = 'https://raw.githubusercontent.com/fontanads/machine_learning/master/pytorch_labs/data/spam.csv'\n",
        "data = pd.read_csv(url_data, encoding=encoding_str, usecols=['v1','v2'])\n",
        "data = data.rename(columns={'v1':'label','v2':'e-mails'})\n",
        "data['y'] = data['label'].replace({'ham':0,'spam':1})\n",
        "data = data[['e-mails', 'label','y']]"
      ],
      "execution_count": 80,
      "outputs": []
    },
    {
      "cell_type": "markdown",
      "metadata": {
        "id": "csNCjQzC7ZRI",
        "colab_type": "text"
      },
      "source": [
        "Observe o dataset original traz \"sentenças\" e \"rótulos, sendo os rótulos possíveis \"ham\" ou \"spam\".  \n",
        "A coluna $y$ foi adicionada manualmente na célula anterior, substituindo \"ham\" por \"0\" (não é spam) e \"spam\" por $1$ (é spam)."
      ]
    },
    {
      "cell_type": "code",
      "metadata": {
        "id": "ELn_2S_u1JZL",
        "colab_type": "code",
        "colab": {
          "base_uri": "https://localhost:8080/",
          "height": 195
        },
        "outputId": "b88bef16-61f8-44f1-f624-08963b935664"
      },
      "source": [
        "data.head()"
      ],
      "execution_count": 81,
      "outputs": [
        {
          "output_type": "execute_result",
          "data": {
            "text/html": [
              "<div>\n",
              "<style scoped>\n",
              "    .dataframe tbody tr th:only-of-type {\n",
              "        vertical-align: middle;\n",
              "    }\n",
              "\n",
              "    .dataframe tbody tr th {\n",
              "        vertical-align: top;\n",
              "    }\n",
              "\n",
              "    .dataframe thead th {\n",
              "        text-align: right;\n",
              "    }\n",
              "</style>\n",
              "<table border=\"1\" class=\"dataframe\">\n",
              "  <thead>\n",
              "    <tr style=\"text-align: right;\">\n",
              "      <th></th>\n",
              "      <th>e-mails</th>\n",
              "      <th>label</th>\n",
              "      <th>y</th>\n",
              "    </tr>\n",
              "  </thead>\n",
              "  <tbody>\n",
              "    <tr>\n",
              "      <th>0</th>\n",
              "      <td>Go until jurong point, crazy.. Available only ...</td>\n",
              "      <td>ham</td>\n",
              "      <td>0</td>\n",
              "    </tr>\n",
              "    <tr>\n",
              "      <th>1</th>\n",
              "      <td>Ok lar... Joking wif u oni...</td>\n",
              "      <td>ham</td>\n",
              "      <td>0</td>\n",
              "    </tr>\n",
              "    <tr>\n",
              "      <th>2</th>\n",
              "      <td>Free entry in 2 a wkly comp to win FA Cup fina...</td>\n",
              "      <td>spam</td>\n",
              "      <td>1</td>\n",
              "    </tr>\n",
              "    <tr>\n",
              "      <th>3</th>\n",
              "      <td>U dun say so early hor... U c already then say...</td>\n",
              "      <td>ham</td>\n",
              "      <td>0</td>\n",
              "    </tr>\n",
              "    <tr>\n",
              "      <th>4</th>\n",
              "      <td>Nah I don't think he goes to usf, he lives aro...</td>\n",
              "      <td>ham</td>\n",
              "      <td>0</td>\n",
              "    </tr>\n",
              "  </tbody>\n",
              "</table>\n",
              "</div>"
            ],
            "text/plain": [
              "                                             e-mails label  y\n",
              "0  Go until jurong point, crazy.. Available only ...   ham  0\n",
              "1                      Ok lar... Joking wif u oni...   ham  0\n",
              "2  Free entry in 2 a wkly comp to win FA Cup fina...  spam  1\n",
              "3  U dun say so early hor... U c already then say...   ham  0\n",
              "4  Nah I don't think he goes to usf, he lives aro...   ham  0"
            ]
          },
          "metadata": {
            "tags": []
          },
          "execution_count": 81
        }
      ]
    },
    {
      "cell_type": "markdown",
      "metadata": {
        "id": "MFYLIw7P7u1N",
        "colab_type": "text"
      },
      "source": [
        "Número total de exemplos do dataset: $5572$."
      ]
    },
    {
      "cell_type": "code",
      "metadata": {
        "id": "DY9M5Ua13feD",
        "colab_type": "code",
        "colab": {
          "base_uri": "https://localhost:8080/",
          "height": 34
        },
        "outputId": "32dc4c3b-7a41-4b6e-ed56-c7a972dcab6d"
      },
      "source": [
        "len(data)"
      ],
      "execution_count": 82,
      "outputs": [
        {
          "output_type": "execute_result",
          "data": {
            "text/plain": [
              "5572"
            ]
          },
          "metadata": {
            "tags": []
          },
          "execution_count": 82
        }
      ]
    },
    {
      "cell_type": "markdown",
      "metadata": {
        "id": "WL3BsGQfqn4u",
        "colab_type": "text"
      },
      "source": [
        "### Limpeza do Texto e Criação de um Vocabulário"
      ]
    },
    {
      "cell_type": "markdown",
      "metadata": {
        "id": "Ji7OuX-c9Svq",
        "colab_type": "text"
      },
      "source": [
        "> _Disclaimer_: em geral, num problema de machine learning, e também em NLP, o primeiro passo é dividir o dataset em treino e teste, e só então realizar os pré-processamentos.  \n",
        "> \n",
        "> Porém, vou ignorar a regra para conseguir um vocabulário maior, pois o _dataset_ é muito pequeno."
      ]
    },
    {
      "cell_type": "markdown",
      "metadata": {
        "id": "HGCMeADt9o6S",
        "colab_type": "text"
      },
      "source": [
        "Vamos percorrer o dataset e criar um vocabulário, ou seja, um conjunto de palavras $\\mathcal{V}=\\left\\lbrace w_1, \\ldots, w_V \\right\\rbrace$, que terá tamanho $V$.  \n",
        "\n",
        "Para que não seja muito extenso, vamos fazer uma limpeza e pré-processamento:\n",
        "- as palavras serão convertidas em minúsculas (``lowercase``)\n",
        "- _stopwords_ serão removidas\n",
        "- palavras muito pequenas, que não atinjam um número mínimo de caracteres, serão removidas."
      ]
    },
    {
      "cell_type": "code",
      "metadata": {
        "id": "tUbn5VDY2ETO",
        "colab_type": "code",
        "colab": {
          "base_uri": "https://localhost:8080/",
          "height": 67
        },
        "outputId": "901268b8-86c2-4fdd-802b-2baa9841879f"
      },
      "source": [
        "vocab_set = set() # será usado para gerar o vocabulário principal\n",
        "all_tokens = []   # opcional: usei para aplica o método Counter() e gerar a frequência das palavras, mas é irrelevante para a rede neural\n",
        "max_len_doc = 0   # vamos medir o maior comprimento das mensagens envidas, em número de tokens\n",
        "sum_len_doc = 0   # vamos medir o valor médio de palavras (tokens) por mensagem\n",
        "min_word_len = 3  # comprimento mínimo de um token (em número de caracteres) para entrar no vocabulário \n",
        "\n",
        "for doc in data['e-mails']: # para cada documento do dataset\n",
        "  sentences = nltk.sent_tokenize(doc)  # tokenizar em uma lista de frases com nltk\n",
        "  tokens = nltk.wordpunct_tokenize(' '.join(sentences)) # tokenizar o documento inteiro em uma lista de palavras também\n",
        "  # limpeza dos tokens: lowercase, alfabético, não é stopword, tem mais de min_word_len caracteres\n",
        "  tokens_list = [t.lower() for t in tokens if t.lower().isalpha() and (t.lower() not in stop_words) and len(t)>=min_word_len] \n",
        "  # uso da função set: cria um conjunto dos elementos únicos da lista\n",
        "  tokens_set = set(tokens_list)\n",
        "  vocab_set = set.union(vocab_set, tokens_set) # adiciona elementos únicos que ainda não pertencem ao conjunto do vocabulário\n",
        "\n",
        "  sum_len_doc += len(tokens)\n",
        "  if len(tokens) > max_len_doc:\n",
        "    max_len_doc=len(tokens)\n",
        "\n",
        "  all_tokens.extend(tokens_list)\n",
        "\n",
        "print(f'Tamanho total do vocabulário: V={len(vocab_set)}')\n",
        "print(f'Número de palavras da mensagem mais longa: {max_len_doc}')\n",
        "print(f'Média de palavras por mensagem: {sum_len_doc/len(data):3.4f}')"
      ],
      "execution_count": 83,
      "outputs": [
        {
          "output_type": "stream",
          "text": [
            "Tamanho total do vocabulário: V=7222\n",
            "Número de palavras da mensagem mais longa: 210\n",
            "Média de palavras por mensagem: 19.4939\n"
          ],
          "name": "stdout"
        }
      ]
    },
    {
      "cell_type": "markdown",
      "metadata": {
        "id": "4GCY3rB8-R-N",
        "colab_type": "text"
      },
      "source": [
        "> O trecho abaixo analisa a frequência das palavras no dataset.  \n",
        "> Não vamos precisar disso na rede neural, mas vamos usar essa informação para explorar os resultados ao fim do treino e teste."
      ]
    },
    {
      "cell_type": "code",
      "metadata": {
        "id": "ycKBsY3cUgnk",
        "colab_type": "code",
        "colab": {
          "base_uri": "https://localhost:8080/",
          "height": 87
        },
        "outputId": "a1a74ab6-6d02-469c-8ad3-50ae87ee7c53"
      },
      "source": [
        "from collections import Counter                # cria dicionário de frequência de items\n",
        "count_dictionary = Counter(all_tokens)         # vai fazer a contagem de palavras e converter em um dicionário\n",
        "print(f'Vocabulário de tamanho V={len(count_dictionary)}')   # conferindo que o tamanho do vocabulário é o mesmo obtido no método anterior\n",
        "N = 10\n",
        "print(count_dictionary.most_common(N))             # imprime as N palavras  mais comuns e suas frequências\n",
        "print(count_dictionary.most_common()[:-N-1:-1])    # imprime as N palavras menos comuns e suas frequências"
      ],
      "execution_count": 84,
      "outputs": [
        {
          "output_type": "stream",
          "text": [
            "Vocabulário de tamanho V=7222\n",
            "[('call', 591), ('get', 391), ('free', 284), ('know', 261), ('like', 245), ('good', 245), ('got', 239), ('day', 229), ('come', 229), ('time', 220)]\n",
            "[('bitching', 1), ('suggestions', 1), ('pity', 1), ('salesman', 1), ('lowes', 1), ('heap', 1), ('dump', 1), ('nmde', 1), ('dental', 1), ('accent', 1)]\n"
          ],
          "name": "stdout"
        }
      ]
    },
    {
      "cell_type": "markdown",
      "metadata": {
        "id": "pnoRbZC_-542",
        "colab_type": "text"
      },
      "source": [
        "Vamos criar agora duas estruturas Python:\n",
        "- o **dicionário** ``word2idx`` recebe como chave uma palavra (token) e converte o mesmo para um índice (variável categórica) de correspondência única (mapeamento um pra um)\n",
        "- a **lista** ``idx2word`` faz a operação contrária, a posição do elemento (seu índice) indica a palavra (token) correspondente."
      ]
    },
    {
      "cell_type": "markdown",
      "metadata": {
        "id": "9xwL8E1tADmf",
        "colab_type": "text"
      },
      "source": [
        "Vamos adicionar ao vocabulário dois tokens:\n",
        "- ``'<OOV>'`` para lidar com palavras novas, fora do vocabulário do corpus\n",
        "- ``'<PAD>'`` para preencher sentenças curtas até um comprimento mínimo."
      ]
    },
    {
      "cell_type": "code",
      "metadata": {
        "id": "5UGALtMW46ik",
        "colab_type": "code",
        "colab": {
          "base_uri": "https://localhost:8080/",
          "height": 50
        },
        "outputId": "1d86fefb-ae7c-4285-dd19-8869e6d54b4d"
      },
      "source": [
        "word2idx = dict({})        # inicializa o dicionário\n",
        "word2idx['<OOV>'] = 0      # índice da tag \"out of vocabulary\" é 0\n",
        "word2idx['<PAD>'] = 1      # índice da tag \"padding token\" é 1\n",
        "\n",
        "for i, v in enumerate(sorted(vocab_set),start=2): # enumera o vocabulário em ordem alfabética, a partir do índice 2\n",
        "  word2idx[v] = i\n",
        "\n",
        "# testando a conversão \"word to index\" com o dicionário:\n",
        "print(f'index for \"<PAD>\": {word2idx[\"<PAD>\"]}')\n",
        "print(f'index for \"action\": {word2idx[\"action\"]}')"
      ],
      "execution_count": 85,
      "outputs": [
        {
          "output_type": "stream",
          "text": [
            "index for \"<PAD>\": 1\n",
            "index for \"action\": 60\n"
          ],
          "name": "stdout"
        }
      ]
    },
    {
      "cell_type": "code",
      "metadata": {
        "id": "GEvhyjYyYIyT",
        "colab_type": "code",
        "colab": {
          "base_uri": "https://localhost:8080/",
          "height": 50
        },
        "outputId": "4f627492-8e86-4d0d-9d93-c72f69761bfd"
      },
      "source": [
        "idx2word = list(word2idx.keys()) # apenas transforma as chaves (palavras ordenadas) do dicionário word2idx em uma lista\n",
        "\n",
        "# testando a conversão \"index to word\":\n",
        "print(f'word for index 0:    {idx2word[0]}')\n",
        "print(f'word for index 100\": {idx2word[100]}')"
      ],
      "execution_count": 86,
      "outputs": [
        {
          "output_type": "stream",
          "text": [
            "word for index 0:    <OOV>\n",
            "word for index 100\": aeronautics\n"
          ],
          "name": "stdout"
        }
      ]
    },
    {
      "cell_type": "markdown",
      "metadata": {
        "id": "_7gWxy1Nq0_5",
        "colab_type": "text"
      },
      "source": [
        "### Codificando as mensagens"
      ]
    },
    {
      "cell_type": "markdown",
      "metadata": {
        "id": "mflgRLD0BEY5",
        "colab_type": "text"
      },
      "source": [
        "Agora que temos o mapeamento do vocabulário para variáveis categóricas (índices), vamos codificar as mensagens.  \n",
        "Observe que cada mensagem do dataset pode ter uma ou mais frases:"
      ]
    },
    {
      "cell_type": "code",
      "metadata": {
        "id": "Y2jPOFi1BQB4",
        "colab_type": "code",
        "colab": {
          "base_uri": "https://localhost:8080/",
          "height": 121
        },
        "outputId": "f10c3f7b-67ba-4a6e-a9ab-4192f780c805"
      },
      "source": [
        "for msg in data['e-mails'].sample(5):\n",
        "  print(msg)"
      ],
      "execution_count": 87,
      "outputs": [
        {
          "output_type": "stream",
          "text": [
            "LOL that would be awesome payback.\n",
            "It's ok i noe u're busy but i'm really too bored so i msg u. I oso dunno wat colour she choose 4 me one.\n",
            "Dear 0776xxxxxxx U've been invited to XCHAT. This is our final attempt to contact u! Txt CHAT to 86688 150p/MsgrcvdHG/Suite342/2Lands/Row/W1J6HL LDN 18yrs\n",
            "There is os called ubandu which will run without installing in hard disk...you can use that os to copy the important files in system and give it to repair shop..\n",
            "Collect your VALENTINE'S weekend to PARIS inc Flight & Hotel + å£200 Prize guaranteed! Text: PARIS to No: 69101. www.rtf.sphosting.com\n"
          ],
          "name": "stdout"
        }
      ]
    },
    {
      "cell_type": "markdown",
      "metadata": {
        "id": "Oji_U2JnBqZ5",
        "colab_type": "text"
      },
      "source": [
        "Portanto, nossa estratégia será a seguinte:\n",
        "- vamos converter as mensagens em uma sequência de índices (correspondentes aos tokens das mensagens)\n",
        "- vamos limitar o cumprimento máximo da mensagem (truncar a mensagem) em ``max_len`` tokens\n",
        "- vamos acrescentar tokens ``'<PAD>'`` em frases curtas até atingirem ``max_len`` tokens.  \n",
        "Isso vai nos garantir que todas as mensagens serão mapeadas para um vetor de ``max_len`` elementos, onde cada elemento é uma variável categórica (índice que representa um token do vocabulário).\n"
      ]
    },
    {
      "cell_type": "code",
      "metadata": {
        "id": "fVKHx3Js552p",
        "colab_type": "code",
        "colab": {
          "base_uri": "https://localhost:8080/",
          "height": 34
        },
        "outputId": "4c076f43-3383-4aed-9266-1831fafd4cfb"
      },
      "source": [
        "max_len = 64         # comprimento máximo da mensagem (em número de palavras)\n",
        "encoded_docs = []    # inicializa a lista de documentos codificados\n",
        "for doc in data['e-mails']: # para cada mensagem\n",
        "  # sentences = nltk.sent_tokenize(doc)                              # separa o documento por frases\n",
        "  # tokens = nltk.wordpunct_tokenize(' '.join(sentences))            # junta as frases e separa o documento por tokens\n",
        "  tokens = nltk.wordpunct_tokenize(doc)                              # tokeniza o documento\n",
        "  encoded_d = [word2idx.get(t,word2idx['<OOV>']) for t in tokens]    # codifica o documento usando o dicionário word2idx\n",
        "  encoded_d += [word2idx['<PAD>']]*max(0, max_len-len(encoded_d))    # adiciona o padding, se necessário\n",
        "  \n",
        "  encoded_docs.append(encoded_d[:max_len])                           # trunca o documento e salva na lista de documentos codificados\n",
        "\n",
        "len(encoded_docs)  "
      ],
      "execution_count": 88,
      "outputs": [
        {
          "output_type": "execute_result",
          "data": {
            "text/plain": [
              "5572"
            ]
          },
          "metadata": {
            "tags": []
          },
          "execution_count": 88
        }
      ]
    },
    {
      "cell_type": "markdown",
      "metadata": {
        "id": "qaB5d-fUEcAi",
        "colab_type": "text"
      },
      "source": [
        "Vamos então adicionar as mensagens codificadas ao dataset original, na coluna denominada ``X``:"
      ]
    },
    {
      "cell_type": "code",
      "metadata": {
        "id": "fikLtJfL8qON",
        "colab_type": "code",
        "colab": {
          "base_uri": "https://localhost:8080/",
          "height": 195
        },
        "outputId": "677b1136-d491-4f80-f809-33d76492a173"
      },
      "source": [
        "data['X'] = encoded_docs\n",
        "data.head()"
      ],
      "execution_count": 89,
      "outputs": [
        {
          "output_type": "execute_result",
          "data": {
            "text/html": [
              "<div>\n",
              "<style scoped>\n",
              "    .dataframe tbody tr th:only-of-type {\n",
              "        vertical-align: middle;\n",
              "    }\n",
              "\n",
              "    .dataframe tbody tr th {\n",
              "        vertical-align: top;\n",
              "    }\n",
              "\n",
              "    .dataframe thead th {\n",
              "        text-align: right;\n",
              "    }\n",
              "</style>\n",
              "<table border=\"1\" class=\"dataframe\">\n",
              "  <thead>\n",
              "    <tr style=\"text-align: right;\">\n",
              "      <th></th>\n",
              "      <th>e-mails</th>\n",
              "      <th>label</th>\n",
              "      <th>y</th>\n",
              "      <th>X</th>\n",
              "    </tr>\n",
              "  </thead>\n",
              "  <tbody>\n",
              "    <tr>\n",
              "      <th>0</th>\n",
              "      <td>Go until jurong point, crazy.. Available only ...</td>\n",
              "      <td>ham</td>\n",
              "      <td>0</td>\n",
              "      <td>[0, 0, 3258, 4666, 0, 1380, 0, 0, 0, 0, 836, 0...</td>\n",
              "    </tr>\n",
              "    <tr>\n",
              "      <th>1</th>\n",
              "      <td>Ok lar... Joking wif u oni...</td>\n",
              "      <td>ham</td>\n",
              "      <td>0</td>\n",
              "      <td>[0, 3399, 0, 0, 6982, 0, 4321, 0, 1, 1, 1, 1, ...</td>\n",
              "    </tr>\n",
              "    <tr>\n",
              "      <th>2</th>\n",
              "      <td>Free entry in 2 a wkly comp to win FA Cup fina...</td>\n",
              "      <td>spam</td>\n",
              "      <td>1</td>\n",
              "      <td>[0, 1965, 0, 0, 0, 7032, 1222, 0, 6994, 0, 0, ...</td>\n",
              "    </tr>\n",
              "    <tr>\n",
              "      <th>3</th>\n",
              "      <td>U dun say so early hor... U c already then say...</td>\n",
              "      <td>ham</td>\n",
              "      <td>0</td>\n",
              "      <td>[0, 1831, 5354, 0, 1849, 2873, 0, 0, 0, 182, 0...</td>\n",
              "    </tr>\n",
              "    <tr>\n",
              "      <th>4</th>\n",
              "      <td>Nah I don't think he goes to usf, he lives aro...</td>\n",
              "      <td>ham</td>\n",
              "      <td>0</td>\n",
              "      <td>[0, 0, 0, 0, 0, 6325, 0, 2537, 0, 6708, 0, 0, ...</td>\n",
              "    </tr>\n",
              "  </tbody>\n",
              "</table>\n",
              "</div>"
            ],
            "text/plain": [
              "                                             e-mails  ...                                                  X\n",
              "0  Go until jurong point, crazy.. Available only ...  ...  [0, 0, 3258, 4666, 0, 1380, 0, 0, 0, 0, 836, 0...\n",
              "1                      Ok lar... Joking wif u oni...  ...  [0, 3399, 0, 0, 6982, 0, 4321, 0, 1, 1, 1, 1, ...\n",
              "2  Free entry in 2 a wkly comp to win FA Cup fina...  ...  [0, 1965, 0, 0, 0, 7032, 1222, 0, 6994, 0, 0, ...\n",
              "3  U dun say so early hor... U c already then say...  ...  [0, 1831, 5354, 0, 1849, 2873, 0, 0, 0, 182, 0...\n",
              "4  Nah I don't think he goes to usf, he lives aro...  ...  [0, 0, 0, 0, 0, 6325, 0, 2537, 0, 6708, 0, 0, ...\n",
              "\n",
              "[5 rows x 4 columns]"
            ]
          },
          "metadata": {
            "tags": []
          },
          "execution_count": 89
        }
      ]
    },
    {
      "cell_type": "code",
      "metadata": {
        "id": "7Tx93YFq-0cj",
        "colab_type": "code",
        "colab": {
          "base_uri": "https://localhost:8080/",
          "height": 70
        },
        "outputId": "daa88420-33a8-43b9-b05c-8b9cdf218247"
      },
      "source": [
        "# verificando o comprimento de um exemplo de mensagem codificada\n",
        "msg_codificada_ex = data['X'].iloc[53]\n",
        "print(f' Mensagem codificada {msg_codificada_ex} \\n Comprimento: {len(msg_codificada_ex)}')"
      ],
      "execution_count": 90,
      "outputs": [
        {
          "output_type": "stream",
          "text": [
            " Mensagem codificada [0, 0, 0, 4134, 5011, 0, 0, 0, 0, 1916, 0, 0, 41, 0, 0, 6344, 0, 3497, 0, 0, 5611, 0, 0, 0, 0, 607, 0, 1346, 0, 0, 191, 5418, 0, 2714, 0, 0, 0, 979, 0, 0, 0, 0, 5779, 0, 0, 0, 0, 0, 0, 0, 0, 0, 0, 0, 2516, 0, 0, 0, 0, 5779, 0, 4277, 0, 0] \n",
            " Comprimento: 64\n"
          ],
          "name": "stdout"
        }
      ]
    },
    {
      "cell_type": "markdown",
      "metadata": {
        "id": "-HyFivPUrCch",
        "colab_type": "text"
      },
      "source": [
        "### Separação de Treino e Teste"
      ]
    },
    {
      "cell_type": "markdown",
      "metadata": {
        "id": "dPva6ii4FFjk",
        "colab_type": "text"
      },
      "source": [
        "Aqui, vamos separar o dataset em treino e teste.  \n",
        "Lembre que, em problemas reais, esse passo deve ocorre ainda antes do pré-processamento, limpeza e construção do vocabulário!  \n",
        "Vamos usar apenas as mensagens codificadas (vetores de variáveis categóricas, coluna do DataFrame ``'X'``) e as saídas rotuladas em $\\left\\lbrace 0, 1 \\right\\rbrace$ (coluna ``'y'`` do DataFrame). Também vamos converter os objetos para arrays do numpy."
      ]
    },
    {
      "cell_type": "code",
      "metadata": {
        "id": "Yzz8pjCE8_Mc",
        "colab_type": "code",
        "colab": {
          "base_uri": "https://localhost:8080/",
          "height": 34
        },
        "outputId": "2b480f0a-47a6-459b-c089-4f280118726e"
      },
      "source": [
        "X = np.vstack(data['X'].apply(lambda x: np.array(x)))\n",
        "Y = np.array(data['y']).reshape(-1,1)\n",
        "X.shape, X[0].shape, Y.shape, Y[0].shape"
      ],
      "execution_count": 91,
      "outputs": [
        {
          "output_type": "execute_result",
          "data": {
            "text/plain": [
              "((5572, 64), (64,), (5572, 1), (1,))"
            ]
          },
          "metadata": {
            "tags": []
          },
          "execution_count": 91
        }
      ]
    },
    {
      "cell_type": "markdown",
      "metadata": {
        "id": "iELsC8WPFwsv",
        "colab_type": "text"
      },
      "source": [
        "Para separar os exemplos de treino e de teste, vamos usar o método ``train_test_split`` da biblioteca ``sklearn.model_selection``."
      ]
    },
    {
      "cell_type": "code",
      "metadata": {
        "id": "JwSByft01igo",
        "colab_type": "code",
        "colab": {}
      },
      "source": [
        "train_size = 0.8    # percentual de exemplos para o treino\n",
        "\n",
        "X_train, X_test, Y_train, Y_test = train_test_split(X,Y,                       # dataset para ser dividido, entrada X e saída Y\n",
        "                                                    train_size=train_size,     # percentual resevado para o treinamento\n",
        "                                                    stratify=Y,                # estratificação para manter a distribuição dos rótulos igual entre treino e teste\n",
        "                                                    shuffle=True)              # embaralhar os exemplos aleatoriamente"
      ],
      "execution_count": 92,
      "outputs": []
    },
    {
      "cell_type": "markdown",
      "metadata": {
        "id": "YL_ElHLerPyP",
        "colab_type": "text"
      },
      "source": [
        "### Modelo Classificador de Spam"
      ]
    },
    {
      "cell_type": "markdown",
      "metadata": {
        "id": "s7XR8jOjGfRq",
        "colab_type": "text"
      },
      "source": [
        "Agora vamos construir nosso modelo.  \n",
        "Aqui, duas coisas diferentes dos exemplos anteriores.  \n",
        "A primeira novidade é a construção de uma camada auxiliar, personalizada:\n",
        "- como cada exemplo de entrada é uma mensagem, um documento inteiro cheio de tokens, cada token vai ser convertido em um vetor denso do Embedding na primeira camada;\n",
        "- logo após a conversão, vamos misturar os vetores de embedding, fazendo uma média\n",
        "- para isso acontecer no meio da rede neural, precisamos de uma camada que calcule essa média entre os vetores de embedding\n",
        "- essa camada nova será uma instância de uma classe personalizada, que chamaremos de ``Torch_Mean_Layer``.  \n",
        "\n",
        "A segunda novidade é que vamos modificar o método ``model.forward()``, ou seja, vamos mudar a definição de como o modelo processa a entrada. \n",
        "- A diferença em relação aos exemplos anteriores visa apenas enfatizar que a primeira parte da rede corresponde à forma de lidar com as variáveis categóricas. \n",
        "- Após transformar as entradas em _embeddings_ e fazer a média dos vetores dos _embeddings_ do documento, esse vetor resultante será processado por duas camadas densas.\n",
        "- Podemos resumir a estrutura da rede seguinte maneira:\n",
        "\n",
        "> $\\mathbf{H}_{\\text{max$\\_$len} \\times n} = \\mathbf{X}_{\\text{max$\\_$len} \\times V} \\mathbf{E}_{V \\times n} $ $\\to$  faz a conversão do documento (_one-hot-encoded tokens_) para uma sequência (linhas) de vetores de _embedding_  \n",
        "> $\\mathbf{h} = \\dfrac{\\sum\\limits_{i=1}^{\\text{max$\\_$len}} \\mathbf{h}_i}{\\text{max$\\_$len}}$ $\\to$ faz a média dos _embeddings_ (linhas) do documento  \n",
        "> $\\mathbf{a}_1 = g_1\\left( \\mathbf{W}_1 \\mathbf{h}^T + \\mathbf{b}_1 \\right)$ $\\to$ aplica uma camada densa sobre o _embedding_ médio ($\\mathbf{W}_1$ tem dimensões $L \\times n$ e $\\mathbf{h}^T$ tem dimensões $n\\times 1$, enquanto $\\mathbf{b}_1$ e $\\mathbf{a}_1$ são $L\\times 1$)  \n",
        "> $y = g_2\\left( \\mathbf{W}_2 \\mathbf{a}_1 + b_2 \\right)$ $\\to$ aplica mais uma camada densa para gerar a saída ($\\mathbf{W}_2$ tem dimensões $1 \\times L$, enquanto $b_2$ e $y$ são $1\\times 1$)\n",
        "\n",
        "\n",
        "Note que a primeira camada densa cria $L$ regressões lineares sobre as $n$ dimensões do _embedding_médio do documento.  Aqui será usada a função de ativação **ReLU**: $g_1(x)= \\max\\left(0, x\\right)$ (bloqueia valores negativos).\n",
        "\n",
        "Já na segunda camada densa, usaremos uma função de ativação sigmóide, $g_2(x)=\\dfrac{1}{1-e^{-x}}$, para finalizar a rede realizando uma regressão logística sobre o vetor de saída da primeira camada densa.\n",
        "\n",
        "Note que saída de $g_2$ já  retorna $y \\in \\left[ 0,1 \\right]$.  \n",
        "\n",
        "Para decidir se o resultado retorna SPAM ($1$) ou não-SPAM ($0$), precisamos de um limiar de decisão. Neste exemplo, o limiar será $0,5$ (assim, um arredondamento irá decidir a classificação)."
      ]
    },
    {
      "cell_type": "code",
      "metadata": {
        "id": "LkxLtdz-_gox",
        "colab_type": "code",
        "colab": {}
      },
      "source": [
        "class Torch_Mean_Layer(nn.Module):\n",
        "  '''Camada personalizada: calcula a média do tensor dentrada sobre a dimensão 1 (colunas).\n",
        "     Retorna um vetor linha, onde cada elemento é a média dos elementos da coluna correspondente do tensor de entrada.\n",
        "  '''\n",
        "  def forward(self, x, dim=1):\n",
        "    x = torch.mean(x, dim=dim, keepdims=True)\n",
        "    return x\n",
        "\n",
        "class spam_classifier(nn.Module):\n",
        "  '''Modelo classificador de SPAM.\n",
        "  '''\n",
        "\n",
        "  # ----------------------------------------------#\n",
        "  # Método construtor\n",
        "  def __init__(self, vocab_size, dim_embed, n_units): \n",
        "    super().__init__()  \n",
        "\n",
        "    embedding_seq = [] # \n",
        "    ann_seq       = [] # \n",
        "\n",
        "    #---------------------------------------------------------------#\n",
        "    # Embedding step: sequência de operações para converter X --> h\n",
        "    embedding_seq.append(\n",
        "        nn.Embedding(num_embeddings=vocab_size, embedding_dim=dim_embed) # camada \"embedding\": categórico (tamanho V) para R^d\n",
        "    )\n",
        "    embedding_seq.append(Torch_Mean_Layer())\n",
        "    #---------------------------------------------------------------#\n",
        "\n",
        "    #--------------------------------------------------------------------------#\n",
        "    # ANN: Rede Neural Artifical Tradicional, com regressão logística na saída\n",
        "    ann_seq.append(nn.Linear(dim_embed, n_units))\n",
        "    ann_seq.append(nn.ReLU(inplace=True))\n",
        "    ann_seq.append(nn.Linear(n_units, 1))\n",
        "    ann_seq.append(nn.Sigmoid())      \n",
        "    #--------------------------------------------------------------------------#\n",
        "\n",
        "    #--------------------------------------------------------------------------#\n",
        "    # \"merge\" de todas as camamadas em uma layer sequencial \n",
        "    # (uma sequência para cada etapa)\n",
        "    self.embedding = nn.Sequential(*embedding_seq)     # etapa de embedding \n",
        "    self.ann       = nn.Sequential(*ann_seq)           # etapa ANN\n",
        "    #--------------------------------------------------------------------------#\n",
        "\n",
        "\n",
        "  def forward(self, x): \n",
        "    '''Processamento realizado ao chamar y=modelo(x)\n",
        "    '''\n",
        "    x = self.embedding(x)  # aplica a etapa de embedding\n",
        "    x = self.ann(x)        # passa o embedding médio pelas camadas da ANN\n",
        "    return x"
      ],
      "execution_count": 93,
      "outputs": []
    },
    {
      "cell_type": "markdown",
      "metadata": {
        "id": "RpBRoSfUrUHn",
        "colab_type": "text"
      },
      "source": [
        "### Treinamento do Modelo"
      ]
    },
    {
      "cell_type": "markdown",
      "metadata": {
        "id": "4zBgBL6ParNz",
        "colab_type": "text"
      },
      "source": [
        "Para treinar o modelo, vamos reescrever o loop de treinamento, com algumas adaptações."
      ]
    },
    {
      "cell_type": "code",
      "metadata": {
        "id": "FhoG8DWoM740",
        "colab_type": "code",
        "colab": {}
      },
      "source": [
        "def train_loop(model, data, max_epochs = 1000, print_iters = 5):\n",
        "  X_train, Y_train = data\n",
        "  losses = []\n",
        "  accs = []\n",
        "  for i in range(max_epochs): # para cada época\n",
        "\n",
        "      #-----------------------------------#\n",
        "      # INÍCIO DO WORKFLOW DO TREINAMENTO #\n",
        "      # \n",
        "      Y_pred = model.forward(X_train)         # apresente os dados de entrada para o modelo, e obtenha a previsão    \n",
        "      loss = criterion(Y_pred, Y_train)       # calcule a perda (o custo, o erro) \n",
        "      optimizer.zero_grad()                   # inicialize os gradientes\n",
        "      loss.backward()                         # backpropagation sobre a perda atual (cálculo dos novos gradientes) \n",
        "      optimizer.step()                        # atualização dos parâmetros da rede utilizando a regra do otimizador escolhido\n",
        "      # FIM DO WORKFLOW DO TREINAMENTO    #\n",
        "      #-----------------------------------#\n",
        "\n",
        "      # ------ Bloco Opcional ------ #\n",
        "      # Salvando métricas\n",
        "      losses.append(loss)                     # salvando a perda atual\n",
        "      acc = calc_accuracy(Y_pred, Y_train)     # calcula a taxa de acerto atual\n",
        "      accs.append(acc)\n",
        "      \n",
        "      # Imprimindo resultados parciais\n",
        "      if i % print_iters ==0: # a cada 10 iterações\n",
        "        print(f'epoch: {i:2}  loss: {loss.item():10.8f} accuracy: {acc:2.8f}') \n",
        "      #-----------------------------------#\n",
        "\n",
        "  #----------------------------------------------------------------------------# \n",
        "  print('\\n# Finished training!')\n",
        "  print(f'# --> epoch: {i}  \\n# --> initial loss: {losses[0]:10.8f}, \\n# --> accuracy: {acc:2.8f} , \\n# --> final loss: {losses[-1]:10.8f}')\n",
        "  \n",
        "  # retornando resultados\n",
        "  return model, losses, accs\n",
        "\n",
        "# Redefinindo cálculo da taxa de acerto \n",
        "def calc_accuracy(y_pred, y_true):\n",
        "  ''' Helper function para calcular a taxa de acerto deste exemplo.\n",
        "  '''\n",
        "  y_true = torch.squeeze(y_true)\n",
        "  y_pred = torch.round(torch.squeeze(y_pred))\n",
        "  num_hits  = torch.sum(y_pred==y_true).numpy()\n",
        "  num_total =  float(y_true.numel())\n",
        "  acc=  num_hits/num_total\n",
        "  return acc"
      ],
      "execution_count": 94,
      "outputs": []
    },
    {
      "cell_type": "markdown",
      "metadata": {
        "id": "-W6bl-Leb2Nl",
        "colab_type": "text"
      },
      "source": [
        "Por fim, vamos>\n",
        "- converter os dados de treino para tensores\n",
        "- instanciar o modelo, com os parâmetros de entrada, e ver sua estrutrua\n",
        "- definir a função custo (usaremos a BCE)\n",
        "- definir um otimizador (usaremos o ADAM em vez do SGD)\n",
        "- treinar o modelo e coletar os resultados. \n",
        "\n",
        "> **SGD? Adadelta? ADAM? Ranger vermelho?**  \n",
        "> Para entender quais as diferenças entre os possíveis otimizadores, [veja este vídeo](https://youtu.be/mdKjMPmcWjY).  \n",
        "> De qualquer maneira, é a apenas uma regra um pouco diferente de atualização dos parâmetros do modelo, mas que segue os mesmos princípios do SGD.  \n",
        "> Além disso, o PyTorch permite configurações manuais para adpatação da _learning rate_ usando ``lr_scheduler`` ([veja mais aqui](https://pytorch.org/docs/stable/optim.html#how-to-adjust-learning-rate))."
      ]
    },
    {
      "cell_type": "code",
      "metadata": {
        "id": "AjKlBxlYBhsH",
        "colab_type": "code",
        "colab": {
          "base_uri": "https://localhost:8080/",
          "height": 1000
        },
        "outputId": "5424cd29-2d45-43e1-e8e0-fffdf2560731"
      },
      "source": [
        "data_train = (torch.LongTensor(X_train), torch.FloatTensor(Y_train))\n",
        "\n",
        "Model = spam_classifier(vocab_size=len(word2idx), dim_embed=50, n_units=256)\n",
        "print(Model)\n",
        "\n",
        "criterion = nn.BCELoss() # binary cross-entropy\n",
        "optimizer = torch.optim.Adam(Model.parameters(), lr = 0.01) \n",
        "\n",
        "Model, losses, accs = train_loop(Model, data_train, max_epochs=100, print_iters=1) # note que o modelo é sobrescrito pela saída treinada"
      ],
      "execution_count": 95,
      "outputs": [
        {
          "output_type": "stream",
          "text": [
            "spam_classifier(\n",
            "  (embedding): Sequential(\n",
            "    (0): Embedding(7224, 50)\n",
            "    (1): Torch_Mean_Layer()\n",
            "  )\n",
            "  (ann): Sequential(\n",
            "    (0): Linear(in_features=50, out_features=256, bias=True)\n",
            "    (1): ReLU(inplace=True)\n",
            "    (2): Linear(in_features=256, out_features=1, bias=True)\n",
            "    (3): Sigmoid()\n",
            "  )\n",
            ")\n"
          ],
          "name": "stdout"
        },
        {
          "output_type": "stream",
          "text": [
            "/usr/local/lib/python3.6/dist-packages/torch/nn/modules/loss.py:529: UserWarning: Using a target size (torch.Size([4457, 1])) that is different to the input size (torch.Size([4457, 1, 1])) is deprecated. Please ensure they have the same size.\n",
            "  return F.binary_cross_entropy(input, target, weight=self.weight, reduction=self.reduction)\n"
          ],
          "name": "stderr"
        },
        {
          "output_type": "stream",
          "text": [
            "epoch:  0  loss: 0.65801489 accuracy: 0.86582903\n",
            "epoch:  1  loss: 0.36746460 accuracy: 0.86582903\n",
            "epoch:  2  loss: 0.37870181 accuracy: 0.86582903\n",
            "epoch:  3  loss: 0.39335153 accuracy: 0.86582903\n",
            "epoch:  4  loss: 0.37268889 accuracy: 0.86582903\n",
            "epoch:  5  loss: 0.33770609 accuracy: 0.86582903\n",
            "epoch:  6  loss: 0.30833372 accuracy: 0.86582903\n",
            "epoch:  7  loss: 0.29378378 accuracy: 0.86582903\n",
            "epoch:  8  loss: 0.29186487 accuracy: 0.86582903\n",
            "epoch:  9  loss: 0.29344907 accuracy: 0.86582903\n",
            "epoch: 10  loss: 0.29066372 accuracy: 0.86582903\n",
            "epoch: 11  loss: 0.28257388 accuracy: 0.86582903\n",
            "epoch: 12  loss: 0.27296162 accuracy: 0.86964326\n",
            "epoch: 13  loss: 0.26584408 accuracy: 0.87278438\n",
            "epoch: 14  loss: 0.26265007 accuracy: 0.87143819\n",
            "epoch: 15  loss: 0.26255810 accuracy: 0.87413058\n",
            "epoch: 16  loss: 0.26349676 accuracy: 0.87300875\n",
            "epoch: 17  loss: 0.26372916 accuracy: 0.87413058\n",
            "epoch: 18  loss: 0.26265004 accuracy: 0.87592551\n",
            "epoch: 19  loss: 0.26063836 accuracy: 0.87929100\n",
            "epoch: 20  loss: 0.25847828 accuracy: 0.87973974\n",
            "epoch: 21  loss: 0.25689021 accuracy: 0.87861790\n",
            "epoch: 22  loss: 0.25605905 accuracy: 0.87727171\n",
            "epoch: 23  loss: 0.25563794 accuracy: 0.87682298\n",
            "epoch: 24  loss: 0.25506464 accuracy: 0.87659861\n",
            "epoch: 25  loss: 0.25394908 accuracy: 0.87839354\n",
            "epoch: 26  loss: 0.25220162 accuracy: 0.87973974\n",
            "epoch: 27  loss: 0.25003698 accuracy: 0.88063720\n",
            "epoch: 28  loss: 0.24779241 accuracy: 0.88602199\n",
            "epoch: 29  loss: 0.24580039 accuracy: 0.88826565\n",
            "epoch: 30  loss: 0.24422181 accuracy: 0.89320171\n",
            "epoch: 31  loss: 0.24293074 accuracy: 0.89365044\n",
            "epoch: 32  loss: 0.24166736 accuracy: 0.89365044\n",
            "epoch: 33  loss: 0.24023062 accuracy: 0.89611847\n",
            "epoch: 34  loss: 0.23852038 accuracy: 0.89836213\n",
            "epoch: 35  loss: 0.23658910 accuracy: 0.89881086\n",
            "epoch: 36  loss: 0.23457178 accuracy: 0.90038142\n",
            "epoch: 37  loss: 0.23259620 accuracy: 0.90307382\n",
            "epoch: 38  loss: 0.23069786 accuracy: 0.90442001\n",
            "epoch: 39  loss: 0.22875969 accuracy: 0.90531748\n",
            "epoch: 40  loss: 0.22661103 accuracy: 0.90666368\n",
            "epoch: 41  loss: 0.22408471 accuracy: 0.90913170\n",
            "epoch: 42  loss: 0.22116296 accuracy: 0.91294593\n",
            "epoch: 43  loss: 0.21792752 accuracy: 0.91855508\n",
            "epoch: 44  loss: 0.21452351 accuracy: 0.92057438\n",
            "epoch: 45  loss: 0.21094486 accuracy: 0.92393987\n",
            "epoch: 46  loss: 0.20709503 accuracy: 0.92595917\n",
            "epoch: 47  loss: 0.20267873 accuracy: 0.92730536\n",
            "epoch: 48  loss: 0.19770192 accuracy: 0.92910029\n",
            "epoch: 49  loss: 0.19246525 accuracy: 0.93201705\n",
            "epoch: 50  loss: 0.18676372 accuracy: 0.93672874\n",
            "epoch: 51  loss: 0.18069392 accuracy: 0.94121606\n",
            "epoch: 52  loss: 0.17393538 accuracy: 0.94727395\n",
            "epoch: 53  loss: 0.16653220 accuracy: 0.95288311\n",
            "epoch: 54  loss: 0.15857594 accuracy: 0.95647296\n",
            "epoch: 55  loss: 0.15019938 accuracy: 0.96051155\n",
            "epoch: 56  loss: 0.14181386 accuracy: 0.96365268\n",
            "epoch: 57  loss: 0.13310428 accuracy: 0.96567198\n",
            "epoch: 58  loss: 0.12447962 accuracy: 0.96656944\n",
            "epoch: 59  loss: 0.11600674 accuracy: 0.96926184\n",
            "epoch: 60  loss: 0.10763013 accuracy: 0.96948620\n",
            "epoch: 61  loss: 0.09940524 accuracy: 0.97105676\n",
            "epoch: 62  loss: 0.09181660 accuracy: 0.97374916\n",
            "epoch: 63  loss: 0.08490180 accuracy: 0.97576845\n",
            "epoch: 64  loss: 0.07863294 accuracy: 0.97644155\n",
            "epoch: 65  loss: 0.07292792 accuracy: 0.97666592\n",
            "epoch: 66  loss: 0.06755290 accuracy: 0.97778775\n",
            "epoch: 67  loss: 0.06267458 accuracy: 0.97868521\n",
            "epoch: 68  loss: 0.05854820 accuracy: 0.97958268\n",
            "epoch: 69  loss: 0.05489430 accuracy: 0.98092888\n",
            "epoch: 70  loss: 0.05147213 accuracy: 0.98182634\n",
            "epoch: 71  loss: 0.04844793 accuracy: 0.98362127\n",
            "epoch: 72  loss: 0.04584622 accuracy: 0.98451873\n",
            "epoch: 73  loss: 0.04340247 accuracy: 0.98519183\n",
            "epoch: 74  loss: 0.04099606 accuracy: 0.98564057\n",
            "epoch: 75  loss: 0.03884429 accuracy: 0.98608930\n",
            "epoch: 76  loss: 0.03699400 accuracy: 0.98631366\n",
            "epoch: 77  loss: 0.03526036 accuracy: 0.98698676\n",
            "epoch: 78  loss: 0.03360721 accuracy: 0.98788423\n",
            "epoch: 79  loss: 0.03214091 accuracy: 0.99012789\n",
            "epoch: 80  loss: 0.03084449 accuracy: 0.99080099\n",
            "epoch: 81  loss: 0.02960387 accuracy: 0.99147409\n",
            "epoch: 82  loss: 0.02845250 accuracy: 0.99259592\n",
            "epoch: 83  loss: 0.02745736 accuracy: 0.99259592\n",
            "epoch: 84  loss: 0.02656147 accuracy: 0.99304465\n",
            "epoch: 85  loss: 0.02570614 accuracy: 0.99326902\n",
            "epoch: 86  loss: 0.02492082 accuracy: 0.99349338\n",
            "epoch: 87  loss: 0.02423518 accuracy: 0.99483958\n",
            "epoch: 88  loss: 0.02360569 accuracy: 0.99506394\n",
            "epoch: 89  loss: 0.02300279 accuracy: 0.99528831\n",
            "epoch: 90  loss: 0.02245085 accuracy: 0.99506394\n",
            "epoch: 91  loss: 0.02197891 accuracy: 0.99528831\n",
            "epoch: 92  loss: 0.02155638 accuracy: 0.99483958\n",
            "epoch: 93  loss: 0.02115055 accuracy: 0.99551268\n",
            "epoch: 94  loss: 0.02078337 accuracy: 0.99551268\n",
            "epoch: 95  loss: 0.02045594 accuracy: 0.99551268\n",
            "epoch: 96  loss: 0.02014468 accuracy: 0.99551268\n",
            "epoch: 97  loss: 0.01984777 accuracy: 0.99551268\n",
            "epoch: 98  loss: 0.01958022 accuracy: 0.99551268\n",
            "epoch: 99  loss: 0.01933393 accuracy: 0.99551268\n",
            "\n",
            "# Finished training!\n",
            "# --> epoch: 99  \n",
            "# --> initial loss: 0.65801489, \n",
            "# --> accuracy: 0.99551268 , \n",
            "# --> final loss: 0.01933393\n"
          ],
          "name": "stdout"
        }
      ]
    },
    {
      "cell_type": "markdown",
      "metadata": {
        "id": "OFh2fyGRe8r0",
        "colab_type": "text"
      },
      "source": [
        "Pelo status resultante do treinamento e observando a evolução da função custo e da taxa de acerto (abaixo), observamos que nossa rede teve um ótimo resultado e aprendeu a diferenciar e-mails SPAM de não-SPAM com uma precisão muito alta."
      ]
    },
    {
      "cell_type": "code",
      "metadata": {
        "id": "DoJo1G2JN_rZ",
        "colab_type": "code",
        "colab": {
          "base_uri": "https://localhost:8080/",
          "height": 450
        },
        "outputId": "0293b5cf-a523-4a28-8389-e8812f5fb5b5"
      },
      "source": [
        "plot_loss_and_accuracy(losses, accs)"
      ],
      "execution_count": 96,
      "outputs": [
        {
          "output_type": "display_data",
          "data": {
            "image/png": "[encoded data removed]",
            "text/plain": [
              "<Figure size 1152x432 with 2 Axes>"
            ]
          },
          "metadata": {
            "tags": [],
            "needs_background": "light"
          }
        }
      ]
    },
    {
      "cell_type": "markdown",
      "metadata": {
        "id": "fz3RrG4trYtv",
        "colab_type": "text"
      },
      "source": [
        "### Avaliação do Modelo no Dataset de Teste"
      ]
    },
    {
      "cell_type": "markdown",
      "metadata": {
        "id": "rx-q8QrIfPWi",
        "colab_type": "text"
      },
      "source": [
        "Vamos **avaliar o modelo fazendo previsões sobre o dataset de teste**."
      ]
    },
    {
      "cell_type": "code",
      "metadata": {
        "id": "TMaYsELgMjR3",
        "colab_type": "code",
        "colab": {}
      },
      "source": [
        "with torch.no_grad():\n",
        "  y_test_pred = Model(torch.LongTensor(X_test))"
      ],
      "execution_count": 97,
      "outputs": []
    },
    {
      "cell_type": "markdown",
      "metadata": {
        "id": "byTlo_W_fW0v",
        "colab_type": "text"
      },
      "source": [
        "A taxa de acerto no teste foi:"
      ]
    },
    {
      "cell_type": "code",
      "metadata": {
        "id": "rJrwjhFqMuuK",
        "colab_type": "code",
        "colab": {
          "base_uri": "https://localhost:8080/",
          "height": 34
        },
        "outputId": "81f3f64d-da0a-4d01-9aee-9c0b5338c331"
      },
      "source": [
        "test_acc = calc_accuracy(y_test_pred, torch.FloatTensor(Y_test))\n",
        "print(f'Taxa de acerto no teste: {100*test_acc:3.6f}% de acerto!')"
      ],
      "execution_count": 98,
      "outputs": [
        {
          "output_type": "stream",
          "text": [
            "Taxa de acerto no teste: 98.385650% de acerto!\n"
          ],
          "name": "stdout"
        }
      ]
    },
    {
      "cell_type": "markdown",
      "metadata": {
        "id": "DDxRJZqPfmHs",
        "colab_type": "text"
      },
      "source": [
        "É importante identificarmos, tanto nos exemplos de treino quanto nos exemplos de teste, quais são os casos em que o nosso modelo falha na sua classificação.  \n",
        "\n",
        "Mais ainda, precisamos entender a diferença entre os erros de:\n",
        "- **_sneaky spam_**: quando o detector classifica um SPAM erroneamente como uma mensagem legítima (TRUE: $1$ $\\to$ Predicted: $0$)\n",
        "- **_misread messages_**: quando o detector interpreta uma mensagem legítima como SPAM (TRUE: $0$ $\\to$ Predicted: $1$).\n",
        "\n",
        "Vamos inclusive verificar o valor da saída $y$ antes do arredondamento, para repensar se o nosso limiar ($0.5$) está adequado ou se podemos exigir um grau maior (ou menor) de certeza para classificar mensagens como SPAM."
      ]
    },
    {
      "cell_type": "code",
      "metadata": {
        "id": "D4myK9_Zbw9j",
        "colab_type": "code",
        "colab": {
          "base_uri": "https://localhost:8080/",
          "height": 118
        },
        "outputId": "e455c016-36bf-4c2a-b3d6-fda4746ec80c"
      },
      "source": [
        "# Primeiro vamos gerar a saída previsa usando o Dataset inteiro (treino e teste)\n",
        "with torch.no_grad():\n",
        "  Y_pred_dataset = Model(torch.LongTensor(X))\n",
        "data['Y_pred'] = torch.squeeze(Y_pred_dataset).numpy() # converte para numpy e adiciona no DataFrame\n",
        "\n",
        "# tensores 'true' e 'predicted'\n",
        "y_true_vec = torch.squeeze(torch.FloatTensor(Y))\n",
        "y_pred_vec = torch.squeeze(torch.round(Y_pred_dataset))\n",
        "\n",
        "\n",
        "filter             = (y_pred_vec != y_true_vec).numpy()          # todos os erros\n",
        "sneaky_spam_filter = ((y_true_vec==1) & (y_pred_vec==0)).numpy() # erros de 1 (True) para 0 (predicted)\n",
        "misread_filter     = ((y_true_vec==0) & (y_pred_vec==1)).numpy() # erros de 0 (True) para 1 (predicted)\n",
        "\n",
        "print(f'Number of errors: {filter.sum()} \\n')\n",
        "print(f'Number of sneaky spam: {sneaky_spam_filter.sum()} \\n')\n",
        "print(f'Number of misread messages: {misread_filter.sum()} \\n')"
      ],
      "execution_count": 99,
      "outputs": [
        {
          "output_type": "stream",
          "text": [
            "Number of errors: 37 \n",
            "\n",
            "Number of sneaky spam: 36 \n",
            "\n",
            "Number of misread messages: 1 \n",
            "\n"
          ],
          "name": "stdout"
        }
      ]
    },
    {
      "cell_type": "markdown",
      "metadata": {
        "id": "BYBTYCc0g3K0",
        "colab_type": "text"
      },
      "source": [
        "Vamos ler as mensagens legítimas que foram classificadas como SPAM:"
      ]
    },
    {
      "cell_type": "code",
      "metadata": {
        "id": "lTfS7zvdg1sC",
        "colab_type": "code",
        "colab": {
          "base_uri": "https://localhost:8080/",
          "height": 101
        },
        "outputId": "5bb91691-2348-427b-ee12-f7c78cc0f30f"
      },
      "source": [
        "print('Misread Messages: \\n')\n",
        "for s, y_true, y_pred in data[misread_filter][['e-mails', 'y', 'Y_pred']].values:\n",
        "  print(f'true: {y_true}, output: {y_pred:2.4f} in sentence: \\n {s}')\n",
        "  print()\n",
        "\n"
      ],
      "execution_count": 100,
      "outputs": [
        {
          "output_type": "stream",
          "text": [
            "Misread Messages: \n",
            "\n",
            "true: 0, output: 0.9631 in sentence: \n",
            " Sir, i am waiting for your call, once free please call me.\n",
            "\n"
          ],
          "name": "stdout"
        }
      ]
    },
    {
      "cell_type": "markdown",
      "metadata": {
        "id": "jtPmCll3g6hW",
        "colab_type": "text"
      },
      "source": [
        "E agora vamos ler as mensagens de SPAM que conseguiram \"burlar\" nosso classificador automático.\n",
        "> **Aviso Legal**: esse dataset possui mensagens de SPAM com linguagem ou palavras que podem ser consideradas vulgares, profanas ou ofensivas para alguns leitores."
      ]
    },
    {
      "cell_type": "code",
      "metadata": {
        "id": "9CnXvB71g1cp",
        "colab_type": "code",
        "colab": {
          "base_uri": "https://localhost:8080/",
          "height": 1000
        },
        "outputId": "cdf2fdff-be4a-4de8-cfbe-d3885e78655c"
      },
      "source": [
        "print('Printing Sneaky SPAM: \\n')\n",
        "for s, y_true, y_pred in data[sneaky_spam_filter][['e-mails', 'y', 'Y_pred']].values:\n",
        "  print(f'true: {y_true}, output: {y_pred:2.4f} in sentence: \\n {s}')\n",
        "  print()"
      ],
      "execution_count": 101,
      "outputs": [
        {
          "output_type": "stream",
          "text": [
            "Printing Sneaky SPAM: \n",
            "\n",
            "true: 1, output: 0.2961 in sentence: \n",
            " Update_Now - Xmas Offer! Latest Motorola, SonyEricsson & Nokia & FREE Bluetooth! Double Mins & 1000 Txt on Orange. Call MobileUpd8 on 08000839402 or call2optout/F4Q=\n",
            "\n",
            "true: 1, output: 0.0011 in sentence: \n",
            " SMS. ac sun0819 posts HELLO:\\You seem cool\n",
            "\n",
            "true: 1, output: 0.0145 in sentence: \n",
            " 08714712388 between 10am-7pm Cost 10p\n",
            "\n",
            "true: 1, output: 0.4834 in sentence: \n",
            " Filthy stories and GIRLS waiting for your\n",
            "\n",
            "true: 1, output: 0.0638 in sentence: \n",
            " Dont forget you can place as many FREE Requests with 1stchoice.co.uk as you wish. For more Information call 08707808226.\n",
            "\n",
            "true: 1, output: 0.3650 in sentence: \n",
            " URGENT, IMPORTANT INFORMATION FOR O2 USER. TODAY IS YOUR LUCKY DAY! 2 FIND OUT WHY LOG ONTO HTTP://WWW.URAWINNER.COM THERE IS A FANTASTIC SURPRISE AWAITING FOR YOU\n",
            "\n",
            "true: 1, output: 0.0312 in sentence: \n",
            " CLAIRE here am havin borin time & am now alone U wanna cum over 2nite? Chat now 09099725823 hope 2 C U Luv CLAIRE xx Callså£1/minmoremobsEMSPOBox45PO139WA\n",
            "\n",
            "true: 1, output: 0.1319 in sentence: \n",
            " FreeMsg:Feelin kinda lnly hope u like 2 keep me company! Jst got a cam moby wanna c my pic?Txt or reply DATE to 82242 Msg150p 2rcv Hlp 08712317606 stop to 82242\n",
            "\n",
            "true: 1, output: 0.0801 in sentence: \n",
            " Hi if ur lookin 4 saucy daytime fun wiv busty married woman Am free all next week Chat now 2 sort time 09099726429 JANINExx Callså£1/minMobsmoreLKPOBOX177HP51FL\n",
            "\n",
            "true: 1, output: 0.0145 in sentence: \n",
            " Call FREEPHONE 0800 542 0578 now!\n",
            "\n",
            "true: 1, output: 0.0145 in sentence: \n",
            " 85233 FREE>Ringtone!Reply REAL\n",
            "\n",
            "true: 1, output: 0.0122 in sentence: \n",
            " 88066 FROM 88066 LOST 3POUND HELP\n",
            "\n",
            "true: 1, output: 0.2277 in sentence: \n",
            " tddnewsletter@emc1.co.uk (More games from TheDailyDraw) Dear Helen, Dozens of Free Games - with great prizesWith..\n",
            "\n",
            "true: 1, output: 0.0003 in sentence: \n",
            " Babe: U want me dont u baby! Im nasty and have a thing 4 filthyguys. Fancy a rude time with a sexy bitch. How about we go slo n hard! Txt XXX SLO(4msgs)\n",
            "\n",
            "true: 1, output: 0.0270 in sentence: \n",
            " 3 FREE TAROT TEXTS! Find out about your love life now! TRY 3 FOR FREE! Text CHANCE to 85555 16 only! After 3 Free, Msgs å£1.50 each\n",
            "\n",
            "true: 1, output: 0.0001 in sentence: \n",
            " Hello darling how are you today? I would love to have a chat, why dont you tell me what you look like and what you are in to sexy?\n",
            "\n",
            "true: 1, output: 0.0145 in sentence: \n",
            " FROM 88066 LOST å£12 HELP\n",
            "\n",
            "true: 1, output: 0.0000 in sentence: \n",
            " How come it takes so little time for a child who is afraid of the dark to become a teenager who wants to stay out all night?\n",
            "\n",
            "true: 1, output: 0.3415 in sentence: \n",
            " U‰Ûªve Bin Awarded å£50 to Play 4 Instant Cash. Call 08715203028 To Claim. EVERY 9th Player Wins Min å£50-å£500. OptOut 08718727870\n",
            "\n",
            "true: 1, output: 0.0170 in sentence: \n",
            " FreeMsg>FAV XMAS TONES!Reply REAL\n",
            "\n",
            "true: 1, output: 0.2741 in sentence: \n",
            " Xmas Offer! Latest Motorola, SonyEricsson & Nokia & FREE Bluetooth or DVD! Double Mins & 1000 Txt on Orange. Call MobileUpd8 on 08000839402 or call2optout/4QF2\n",
            "\n",
            "true: 1, output: 0.1267 in sentence: \n",
            " RCT' THNQ Adrian for U text. Rgds Vatian\n",
            "\n",
            "true: 1, output: 0.0534 in sentence: \n",
            " Welcome! Please reply with your AGE and GENDER to begin. e.g 24M\n",
            "\n",
            "true: 1, output: 0.2125 in sentence: \n",
            " Congratulations YOU'VE Won. You're a Winner in our August å£1000 Prize Draw. Call 09066660100 NOW. Prize Code 2309.\n",
            "\n",
            "true: 1, output: 0.0087 in sentence: \n",
            " 2/2 146tf150p\n",
            "\n",
            "true: 1, output: 0.2703 in sentence: \n",
            " Claim a 200 shopping spree, just call 08717895698 now! Have you won! MobStoreQuiz10ppm\n",
            "\n",
            "true: 1, output: 0.1177 in sentence: \n",
            " ringtoneking 84484\n",
            "\n",
            "true: 1, output: 0.4889 in sentence: \n",
            " Kit Strip - you have been billed 150p. Netcollex Ltd. PO Box 1013 IG11 OJA\n",
            "\n",
            "true: 1, output: 0.4836 in sentence: \n",
            " thesmszone.com lets you send free anonymous and masked messages..im sending this message from there..do you see the potential for abuse???\n",
            "\n",
            "true: 1, output: 0.4322 in sentence: \n",
            " FREE GAME. Get Rayman Golf 4 FREE from the O2 Games Arcade. 1st get UR games settings. Reply POST, then save & activ8. Press 0 key for Arcade. Termsapply\n",
            "\n",
            "true: 1, output: 0.1019 in sentence: \n",
            " Check Out Choose Your Babe Videos @ sms.shsex.netUN fgkslpoPW fgkslpo\n",
            "\n",
            "true: 1, output: 0.0170 in sentence: \n",
            " PRIVATE! Your 2003 Account Statement for 078\n",
            "\n",
            "true: 1, output: 0.0022 in sentence: \n",
            " Latest News! Police station toilet stolen, cops have nothing to go on!\n",
            "\n",
            "true: 1, output: 0.2250 in sentence: \n",
            " \\For the most sparkling shopping breaks from 45 per person; call 0121 2025050 or visit www.shortbreaks.org.uk\\\"\"\n",
            "\n",
            "true: 1, output: 0.3405 in sentence: \n",
            " Marvel Mobile Play the official Ultimate Spider-man game (å£4.50) on ur mobile right now. Text SPIDER to 83338 for the game & we ll send u a FREE 8Ball wallpaper\n",
            "\n",
            "true: 1, output: 0.4073 in sentence: \n",
            " ASKED 3MOBILE IF 0870 CHATLINES INCLU IN FREE MINS. INDIA CUST SERVs SED YES. L8ER GOT MEGA BILL. 3 DONT GIV A SHIT. BAILIFF DUE IN DAYS. I O å£250 3 WANT å£800\n",
            "\n"
          ],
          "name": "stdout"
        }
      ]
    },
    {
      "cell_type": "markdown",
      "metadata": {
        "id": "BcX2KNprrgjJ",
        "colab_type": "text"
      },
      "source": [
        "### Analisando os Word-Embeddings"
      ]
    },
    {
      "cell_type": "markdown",
      "metadata": {
        "id": "jjAoId3Qh7GN",
        "colab_type": "text"
      },
      "source": [
        "Agora que nossa rede está treinada, podemos extrair os parâmetros que o modelo ajustou durante o processo de treinamento.  \n",
        "\n",
        "Os parâmetros que estamos mais interessados, nesse caso, são os vetores de _embedding_ da primeira camada.  \n",
        "\n",
        "Note que a rede otimizou essa matriz de _embeddings_ a fim de encontrar as melhores representações geométricas das palavras do _corpus_ que auxiliassem na solução do problema apresentado (otimizassem a função custo do classificador). "
      ]
    },
    {
      "cell_type": "code",
      "metadata": {
        "id": "9M8Z2XwjOwiz",
        "colab_type": "code",
        "colab": {
          "base_uri": "https://localhost:8080/",
          "height": 185
        },
        "outputId": "cc5bbda7-55bc-437d-d6b9-8c817b1f4ddd"
      },
      "source": [
        "for p in Model.embedding.named_parameters():\n",
        "  print('Camada de embedding:')\n",
        "  print(p)"
      ],
      "execution_count": 102,
      "outputs": [
        {
          "output_type": "stream",
          "text": [
            "Camada de embedding:\n",
            "('0.weight', Parameter containing:\n",
            "tensor([[ 0.8625,  1.7530,  0.7031,  ...,  0.4154,  0.0923, -0.6944],\n",
            "        [-1.2143, -0.0137, -0.7604,  ...,  0.5564, -0.0966, -0.2744],\n",
            "        [-2.3998, -0.6198, -0.5424,  ..., -0.3341, -1.1268,  1.6870],\n",
            "        ...,\n",
            "        [ 1.3236, -1.5672, -0.0663,  ...,  0.7849, -1.3910,  1.6744],\n",
            "        [ 0.9682,  0.5094,  1.5766,  ...,  1.5436,  0.4050, -1.3042],\n",
            "        [ 1.4591,  0.8223, -1.2212,  ..., -0.6202,  0.5015,  0.0731]],\n",
            "       requires_grad=True))\n"
          ],
          "name": "stdout"
        }
      ]
    },
    {
      "cell_type": "markdown",
      "metadata": {
        "id": "3PigPqosi5Jo",
        "colab_type": "text"
      },
      "source": [
        "Vamos extrair os valores da matriz e salvar numa array numpy $\\mathbf{E}$."
      ]
    },
    {
      "cell_type": "code",
      "metadata": {
        "id": "J8xIi77LOykT",
        "colab_type": "code",
        "colab": {
          "base_uri": "https://localhost:8080/",
          "height": 252
        },
        "outputId": "54966f59-05ad-4828-8d65-3d418b220527"
      },
      "source": [
        "E = list(Model.embedding.parameters())[0].data.numpy()\n",
        "print(f'Shape da matriz de embedding: {E.shape} = (vocab. size x dim. size)')\n",
        "print(E)"
      ],
      "execution_count": 103,
      "outputs": [
        {
          "output_type": "stream",
          "text": [
            "Shape da matriz de embedding: (7224, 50) = (vocab. size x dim. size)\n",
            "[[ 0.86246836  1.7530427   0.7030973  ...  0.415413    0.09232511\n",
            "  -0.69439787]\n",
            " [-1.2142577  -0.01371404 -0.7603811  ...  0.55635667 -0.09656028\n",
            "  -0.2744165 ]\n",
            " [-2.3997543  -0.6198175  -0.54237956 ... -0.3340511  -1.1267915\n",
            "   1.6869681 ]\n",
            " ...\n",
            " [ 1.3236334  -1.5672362  -0.06628692 ...  0.7848949  -1.3910111\n",
            "   1.6744143 ]\n",
            " [ 0.9682373   0.5094077   1.5765758  ...  1.5436063   0.40500626\n",
            "  -1.3042057 ]\n",
            " [ 1.4590733   0.8222734  -1.2212082  ... -0.6201727   0.5015232\n",
            "   0.07305267]]\n"
          ],
          "name": "stdout"
        }
      ]
    },
    {
      "cell_type": "markdown",
      "metadata": {
        "id": "emeQkokpjQkl",
        "colab_type": "text"
      },
      "source": [
        "Veja que usamos um número muito grande para o número de dimensões dos _embeddings_. Ou seja, não é possível visualizar e comparar em um gráfico a localização geométrica desses pontos nesse espaço de dimensão alta (\"_high-dimensional_\")."
      ]
    },
    {
      "cell_type": "markdown",
      "metadata": {
        "id": "4TUm0Yc5jkp3",
        "colab_type": "text"
      },
      "source": [
        "> **Algoritmos de redução de dimensionalidade**\n",
        "> Existem algoritmos que são apropriados para reduzir a dimensionalidade de conjuntos de dados de dimensões altas.  \n",
        "> \n",
        "> O objetivo é extrair uma representação mais \"compacta\", com \"menos features\", mas que conserve as principais características da representação original.  \n",
        "> \n",
        "> Obviamente, reduzir a dimensionalidade pode gerar uma perda de informação muito grande, dependendo da \"ambição\" e das características do problema.  \n",
        "> \n",
        "> Dentre os algoritmos existentes, dois são muito utilizados:\n",
        "> - **Principal Component Analysis** (PCA)\n",
        "> - **Singular Value Decomposition** (SVD)\n",
        "> - **Linear Discriminant Analysis** (LDA)\n",
        "> - **t-distributed Stochastic Neighbor Embedding** (t-SNE)\n",
        "> \n",
        "> A aplicação de cada um depende da natureza e das propriedades de cada problema. Leia mais sobre esses algoritmos [aqui](https://stackabuse.com/dimensionality-reduction-in-python-with-scikit-learn/#:~:text=The%20primary%20algorithms%20used%20to,into%20the%20machine%20learning%20classifier.) e [aqui](https://towardsdatascience.com/dimension-reduction-techniques-with-python-f36ca7009e5c)."
      ]
    },
    {
      "cell_type": "markdown",
      "metadata": {
        "id": "9vE6PJCclhD-",
        "colab_type": "text"
      },
      "source": [
        "Abaixo vamos fazer uma redução de dimensionalidade com o algoritmo PCA.  \n",
        "Vamos reduzir os _embeddings_ de $n$ dimensões para $2$, a fim de visualizar a representação geométrica das palavras em um plano cartesiano.  "
      ]
    },
    {
      "cell_type": "code",
      "metadata": {
        "id": "JmPy-DYQPhW1",
        "colab_type": "code",
        "colab": {
          "base_uri": "https://localhost:8080/",
          "height": 50
        },
        "outputId": "f786b49f-eb90-437b-b801-e1fa0ece456f"
      },
      "source": [
        "from sklearn.decomposition import PCA\n",
        "\n",
        "pca = PCA(n_components=2)\n",
        "pca.fit(E)\n",
        "Embedding_2D = pca.transform(E)\n",
        "\n",
        "print(f'A matriz dos embeddings originais tinha shape {E.shape}')\n",
        "print(f'A matriz dos embeddings PCA em 2D tem shape {Embedding_2D.shape}')"
      ],
      "execution_count": 104,
      "outputs": [
        {
          "output_type": "stream",
          "text": [
            "A matriz dos embeddings originais tinha shape (7224, 50)\n",
            "A matriz dos embeddings PCA em 2D tem shape (7224, 2)\n"
          ],
          "name": "stdout"
        }
      ]
    },
    {
      "cell_type": "markdown",
      "metadata": {
        "id": "kIFiaf4zl7Xw",
        "colab_type": "text"
      },
      "source": [
        "Para criar uma visualização dinâmica no caderno do Jupyter, vamos utilizar a biblioteca de visualização gráfica [``bokeh``](https://docs.bokeh.org/en/latest/index.html).  \n",
        "Navegue pelo gráfico e reflita sobre as semelhanças e diferenças entre as palavras próximas e as distantes. "
      ]
    },
    {
      "cell_type": "code",
      "metadata": {
        "id": "afBzRuoAPSvp",
        "colab_type": "code",
        "colab": {}
      },
      "source": [
        "#!pip install -q bokeh\n",
        "from bokeh.plotting import figure, output_file, show\n",
        "from bokeh.models import Label\n",
        "from bokeh.io import output_notebook\n",
        "output_notebook()"
      ],
      "execution_count": 105,
      "outputs": []
    },
    {
      "cell_type": "code",
      "metadata": {
        "id": "ZPujuQc7QN7Z",
        "colab_type": "code",
        "colab": {
          "base_uri": "https://localhost:8080/",
          "height": 617
        },
        "outputId": "5f498baf-863e-45fa-c2bb-72f4b9b05c2b"
      },
      "source": [
        "p = figure(plot_width=800, plot_height=600) # objeto do bokeh\n",
        "\n",
        "# total de palavras para plotar\n",
        "Nplot = 1000 \n",
        "\n",
        "# aqui vamos selecionar metade das palavras como sendo as mais comuns do vocabulário\n",
        "# e a outra metade como sendo as menos comuns\n",
        "\n",
        "most_common_N  = count_dictionary.most_common(int(Nplot/2))            # N/2 most common elements\n",
        "least_common_N = count_dictionary.most_common()[:-int(Nplot/2)-1:-1]   # N/2 least common elements\n",
        "\n",
        "# agrupamos tudo numa lista\n",
        "common_words = [word2idx[x[0]] for x in most_common_N] + [word2idx[x[0]] for x in least_common_N]\n",
        "\n",
        "\n",
        "# scatterplot do bokeh:\n",
        "# -- usamos as linhas do embedding 2D correspondentes às palavras de interesse\n",
        "# -- a coordenada da coluna 0 vai no eixo horizontal (x) \n",
        "# -- a coordenada da coluna 1 vai no eixo   vertical (y)\n",
        "p.scatter(x=Embedding_2D[common_words,0], y=Embedding_2D[common_words,1])\n",
        "\n",
        "# rotulamos os pontos (usando a lista idx2word) para saber qual ponto corresponde a qual palavra\n",
        "for i in common_words:\n",
        "    my_text = Label(text=idx2word[i], x=Embedding_2D[i,0],y=Embedding_2D[i,1])\n",
        "    p.add_layout(my_text)\n",
        "    \n",
        "# mostra o gráfico na célula\n",
        "show(p)"
      ],
      "execution_count": 106,
      "outputs": [
        {
          "output_type": "display_data",
          "data": {
            "application/javascript": [
              "\n",
              "(function(root) {\n",
              "  function now() {\n",
              "    return new Date();\n",
              "  }\n",
              "\n",
              "  var force = true;\n",
              "\n",
              "  if (typeof root._bokeh_onload_callbacks === \"undefined\" || force === true) {\n",
              "    root._bokeh_onload_callbacks = [];\n",
              "    root._bokeh_is_loading = undefined;\n",
              "  }\n",
              "\n",
              "  var JS_MIME_TYPE = 'application/javascript';\n",
              "  var HTML_MIME_TYPE = 'text/html';\n",
              "  var EXEC_MIME_TYPE = 'application/vnd.bokehjs_exec.v0+json';\n",
              "  var CLASS_NAME = 'output_bokeh rendered_html';\n",
              "\n",
              "  /**\n",
              "   * Render data to the DOM node\n",
              "   */\n",
              "  function render(props, node) {\n",
              "    var script = document.createElement(\"script\");\n",
              "    node.appendChild(script);\n",
              "  }\n",
              "\n",
              "  /**\n",
              "   * Handle when an output is cleared or removed\n",
              "   */\n",
              "  function handleClearOutput(event, handle) {\n",
              "    var cell = handle.cell;\n",
              "\n",
              "    var id = cell.output_area._bokeh_element_id;\n",
              "    var server_id = cell.output_area._bokeh_server_id;\n",
              "    // Clean up Bokeh references\n",
              "    if (id != null && id in Bokeh.index) {\n",
              "      Bokeh.index[id].model.document.clear();\n",
              "      delete Bokeh.index[id];\n",
              "    }\n",
              "\n",
              "    if (server_id !== undefined) {\n",
              "      // Clean up Bokeh references\n",
              "      var cmd = \"from bokeh.io.state import curstate; print(curstate().uuid_to_server['\" + server_id + \"'].get_sessions()[0].document.roots[0]._id)\";\n",
              "      cell.notebook.kernel.execute(cmd, {\n",
              "        iopub: {\n",
              "          output: function(msg) {\n",
              "            var id = msg.content.text.trim();\n",
              "            if (id in Bokeh.index) {\n",
              "              Bokeh.index[id].model.document.clear();\n",
              "              delete Bokeh.index[id];\n",
              "            }\n",
              "          }\n",
              "        }\n",
              "      });\n",
              "      // Destroy server and session\n",
              "      var cmd = \"import bokeh.io.notebook as ion; ion.destroy_server('\" + server_id + \"')\";\n",
              "      cell.notebook.kernel.execute(cmd);\n",
              "    }\n",
              "  }\n",
              "\n",
              "  /**\n",
              "   * Handle when a new output is added\n",
              "   */\n",
              "  function handleAddOutput(event, handle) {\n",
              "    var output_area = handle.output_area;\n",
              "    var output = handle.output;\n",
              "\n",
              "    // limit handleAddOutput to display_data with EXEC_MIME_TYPE content only\n",
              "    if ((output.output_type != \"display_data\") || (!output.data.hasOwnProperty(EXEC_MIME_TYPE))) {\n",
              "      return\n",
              "    }\n",
              "\n",
              "    var toinsert = output_area.element.find(\".\" + CLASS_NAME.split(' ')[0]);\n",
              "\n",
              "    if (output.metadata[EXEC_MIME_TYPE][\"id\"] !== undefined) {\n",
              "      toinsert[toinsert.length - 1].firstChild.textContent = output.data[JS_MIME_TYPE];\n",
              "      // store reference to embed id on output_area\n",
              "      output_area._bokeh_element_id = output.metadata[EXEC_MIME_TYPE][\"id\"];\n",
              "    }\n",
              "    if (output.metadata[EXEC_MIME_TYPE][\"server_id\"] !== undefined) {\n",
              "      var bk_div = document.createElement(\"div\");\n",
              "      bk_div.innerHTML = output.data[HTML_MIME_TYPE];\n",
              "      var script_attrs = bk_div.children[0].attributes;\n",
              "      for (var i = 0; i < script_attrs.length; i++) {\n",
              "        toinsert[toinsert.length - 1].firstChild.setAttribute(script_attrs[i].name, script_attrs[i].value);\n",
              "        toinsert[toinsert.length - 1].firstChild.textContent = bk_div.children[0].textContent\n",
              "      }\n",
              "      // store reference to server id on output_area\n",
              "      output_area._bokeh_server_id = output.metadata[EXEC_MIME_TYPE][\"server_id\"];\n",
              "    }\n",
              "  }\n",
              "\n",
              "  function register_renderer(events, OutputArea) {\n",
              "\n",
              "    function append_mime(data, metadata, element) {\n",
              "      // create a DOM node to render to\n",
              "      var toinsert = this.create_output_subarea(\n",
              "        metadata,\n",
              "        CLASS_NAME,\n",
              "        EXEC_MIME_TYPE\n",
              "      );\n",
              "      this.keyboard_manager.register_events(toinsert);\n",
              "      // Render to node\n",
              "      var props = {data: data, metadata: metadata[EXEC_MIME_TYPE]};\n",
              "      render(props, toinsert[toinsert.length - 1]);\n",
              "      element.append(toinsert);\n",
              "      return toinsert\n",
              "    }\n",
              "\n",
              "    /* Handle when an output is cleared or removed */\n",
              "    events.on('clear_output.CodeCell', handleClearOutput);\n",
              "    events.on('delete.Cell', handleClearOutput);\n",
              "\n",
              "    /* Handle when a new output is added */\n",
              "    events.on('output_added.OutputArea', handleAddOutput);\n",
              "\n",
              "    /**\n",
              "     * Register the mime type and append_mime function with output_area\n",
              "     */\n",
              "    OutputArea.prototype.register_mime_type(EXEC_MIME_TYPE, append_mime, {\n",
              "      /* Is output safe? */\n",
              "      safe: true,\n",
              "      /* Index of renderer in `output_area.display_order` */\n",
              "      index: 0\n",
              "    });\n",
              "  }\n",
              "\n",
              "  // register the mime type if in Jupyter Notebook environment and previously unregistered\n",
              "  if (root.Jupyter !== undefined) {\n",
              "    var events = require('base/js/events');\n",
              "    var OutputArea = require('notebook/js/outputarea').OutputArea;\n",
              "\n",
              "    if (OutputArea.prototype.mime_types().indexOf(EXEC_MIME_TYPE) == -1) {\n",
              "      register_renderer(events, OutputArea);\n",
              "    }\n",
              "  }\n",
              "\n",
              "  \n",
              "  if (typeof (root._bokeh_timeout) === \"undefined\" || force === true) {\n",
              "    root._bokeh_timeout = Date.now() + 5000;\n",
              "    root._bokeh_failed_load = false;\n",
              "  }\n",
              "\n",
              "  var NB_LOAD_WARNING = {'data': {'text/html':\n",
              "     \"<div style='background-color: #fdd'>\\n\"+\n",
              "     \"<p>\\n\"+\n",
              "     \"BokehJS does not appear to have successfully loaded. If loading BokehJS from CDN, this \\n\"+\n",
              "     \"may be due to a slow or bad network connection. Possible fixes:\\n\"+\n",
              "     \"</p>\\n\"+\n",
              "     \"<ul>\\n\"+\n",
              "     \"<li>re-rerun `output_notebook()` to attempt to load from CDN again, or</li>\\n\"+\n",
              "     \"<li>use INLINE resources instead, as so:</li>\\n\"+\n",
              "     \"</ul>\\n\"+\n",
              "     \"<code>\\n\"+\n",
              "     \"from bokeh.resources import INLINE\\n\"+\n",
              "     \"output_notebook(resources=INLINE)\\n\"+\n",
              "     \"</code>\\n\"+\n",
              "     \"</div>\"}};\n",
              "\n",
              "  function display_loaded() {\n",
              "    var el = document.getElementById(null);\n",
              "    if (el != null) {\n",
              "      el.textContent = \"BokehJS is loading...\";\n",
              "    }\n",
              "    if (root.Bokeh !== undefined) {\n",
              "      if (el != null) {\n",
              "        el.textContent = \"BokehJS \" + root.Bokeh.version + \" successfully loaded.\";\n",
              "      }\n",
              "    } else if (Date.now() < root._bokeh_timeout) {\n",
              "      setTimeout(display_loaded, 100)\n",
              "    }\n",
              "  }\n",
              "\n",
              "\n",
              "  function run_callbacks() {\n",
              "    try {\n",
              "      root._bokeh_onload_callbacks.forEach(function(callback) {\n",
              "        if (callback != null)\n",
              "          callback();\n",
              "      });\n",
              "    } finally {\n",
              "      delete root._bokeh_onload_callbacks\n",
              "    }\n",
              "    console.debug(\"Bokeh: all callbacks have finished\");\n",
              "  }\n",
              "\n",
              "  function load_libs(css_urls, js_urls, callback) {\n",
              "    if (css_urls == null) css_urls = [];\n",
              "    if (js_urls == null) js_urls = [];\n",
              "\n",
              "    root._bokeh_onload_callbacks.push(callback);\n",
              "    if (root._bokeh_is_loading > 0) {\n",
              "      console.debug(\"Bokeh: BokehJS is being loaded, scheduling callback at\", now());\n",
              "      return null;\n",
              "    }\n",
              "    if (js_urls == null || js_urls.length === 0) {\n",
              "      run_callbacks();\n",
              "      return null;\n",
              "    }\n",
              "    console.debug(\"Bokeh: BokehJS not loaded, scheduling load and callback at\", now());\n",
              "    root._bokeh_is_loading = css_urls.length + js_urls.length;\n",
              "\n",
              "    function on_load() {\n",
              "      root._bokeh_is_loading--;\n",
              "      if (root._bokeh_is_loading === 0) {\n",
              "        console.debug(\"Bokeh: all BokehJS libraries/stylesheets loaded\");\n",
              "        run_callbacks()\n",
              "      }\n",
              "    }\n",
              "\n",
              "    function on_error() {\n",
              "      console.error(\"failed to load \" + url);\n",
              "    }\n",
              "\n",
              "    for (var i = 0; i < css_urls.length; i++) {\n",
              "      var url = css_urls[i];\n",
              "      const element = document.createElement(\"link\");\n",
              "      element.onload = on_load;\n",
              "      element.onerror = on_error;\n",
              "      element.rel = \"stylesheet\";\n",
              "      element.type = \"text/css\";\n",
              "      element.href = url;\n",
              "      console.debug(\"Bokeh: injecting link tag for BokehJS stylesheet: \", url);\n",
              "      document.body.appendChild(element);\n",
              "    }\n",
              "\n",
              "    const hashes = {\"https://cdn.bokeh.org/bokeh/release/bokeh-2.1.1.min.js\": \"kLr4fYcqcSpbuI95brIH3vnnYCquzzSxHPU6XGQCIkQRGJwhg0StNbj1eegrHs12\", \"https://cdn.bokeh.org/bokeh/release/bokeh-widgets-2.1.1.min.js\": \"xIGPmVtaOm+z0BqfSOMn4lOR6ciex448GIKG4eE61LsAvmGj48XcMQZtKcE/UXZe\", \"https://cdn.bokeh.org/bokeh/release/bokeh-tables-2.1.1.min.js\": \"Dc9u1wF/0zApGIWoBbH77iWEHtdmkuYWG839Uzmv8y8yBLXebjO9ZnERsde5Ln/P\", \"https://cdn.bokeh.org/bokeh/release/bokeh-gl-2.1.1.min.js\": \"cT9JaBz7GiRXdENrJLZNSC6eMNF3nh3fa5fTF51Svp+ukxPdwcU5kGXGPBgDCa2j\"};\n",
              "\n",
              "    for (var i = 0; i < js_urls.length; i++) {\n",
              "      var url = js_urls[i];\n",
              "      var element = document.createElement('script');\n",
              "      element.onload = on_load;\n",
              "      element.onerror = on_error;\n",
              "      element.async = false;\n",
              "      element.src = url;\n",
              "      if (url in hashes) {\n",
              "        element.crossOrigin = \"anonymous\";\n",
              "        element.integrity = \"sha384-\" + hashes[url];\n",
              "      }\n",
              "      console.debug(\"Bokeh: injecting script tag for BokehJS library: \", url);\n",
              "      document.head.appendChild(element);\n",
              "    }\n",
              "  };\n",
              "\n",
              "  function inject_raw_css(css) {\n",
              "    const element = document.createElement(\"style\");\n",
              "    element.appendChild(document.createTextNode(css));\n",
              "    document.body.appendChild(element);\n",
              "  }\n",
              "\n",
              "  \n",
              "  var js_urls = [\"https://cdn.bokeh.org/bokeh/release/bokeh-2.1.1.min.js\", \"https://cdn.bokeh.org/bokeh/release/bokeh-widgets-2.1.1.min.js\", \"https://cdn.bokeh.org/bokeh/release/bokeh-tables-2.1.1.min.js\", \"https://cdn.bokeh.org/bokeh/release/bokeh-gl-2.1.1.min.js\"];\n",
              "  var css_urls = [];\n",
              "  \n",
              "\n",
              "  var inline_js = [\n",
              "    function(Bokeh) {\n",
              "      Bokeh.set_log_level(\"info\");\n",
              "    },\n",
              "    function(Bokeh) {\n",
              "    \n",
              "    \n",
              "    }\n",
              "  ];\n",
              "\n",
              "  function run_inline_js() {\n",
              "    \n",
              "    if (root.Bokeh !== undefined || force === true) {\n",
              "      \n",
              "    for (var i = 0; i < inline_js.length; i++) {\n",
              "      inline_js[i].call(root, root.Bokeh);\n",
              "    }\n",
              "    } else if (Date.now() < root._bokeh_timeout) {\n",
              "      setTimeout(run_inline_js, 100);\n",
              "    } else if (!root._bokeh_failed_load) {\n",
              "      console.log(\"Bokeh: BokehJS failed to load within specified timeout.\");\n",
              "      root._bokeh_failed_load = true;\n",
              "    } else if (force !== true) {\n",
              "      var cell = $(document.getElementById(null)).parents('.cell').data().cell;\n",
              "      cell.output_area.append_execute_result(NB_LOAD_WARNING)\n",
              "    }\n",
              "\n",
              "  }\n",
              "\n",
              "  if (root._bokeh_is_loading === 0) {\n",
              "    console.debug(\"Bokeh: BokehJS loaded, going straight to plotting\");\n",
              "    run_inline_js();\n",
              "  } else {\n",
              "    load_libs(css_urls, js_urls, function() {\n",
              "      console.debug(\"Bokeh: BokehJS plotting callback run at\", now());\n",
              "      run_inline_js();\n",
              "    });\n",
              "  }\n",
              "}(window));"
            ],
            "application/vnd.bokehjs_load.v0+json": "\n(function(root) {\n  function now() {\n    return new Date();\n  }\n\n  var force = true;\n\n  if (typeof root._bokeh_onload_callbacks === \"undefined\" || force === true) {\n    root._bokeh_onload_callbacks = [];\n    root._bokeh_is_loading = undefined;\n  }\n\n  \n\n  \n  if (typeof (root._bokeh_timeout) === \"undefined\" || force === true) {\n    root._bokeh_timeout = Date.now() + 5000;\n    root._bokeh_failed_load = false;\n  }\n\n  var NB_LOAD_WARNING = {'data': {'text/html':\n     \"<div style='background-color: #fdd'>\\n\"+\n     \"<p>\\n\"+\n     \"BokehJS does not appear to have successfully loaded. If loading BokehJS from CDN, this \\n\"+\n     \"may be due to a slow or bad network connection. Possible fixes:\\n\"+\n     \"</p>\\n\"+\n     \"<ul>\\n\"+\n     \"<li>re-rerun `output_notebook()` to attempt to load from CDN again, or</li>\\n\"+\n     \"<li>use INLINE resources instead, as so:</li>\\n\"+\n     \"</ul>\\n\"+\n     \"<code>\\n\"+\n     \"from bokeh.resources import INLINE\\n\"+\n     \"output_notebook(resources=INLINE)\\n\"+\n     \"</code>\\n\"+\n     \"</div>\"}};\n\n  function display_loaded() {\n    var el = document.getElementById(null);\n    if (el != null) {\n      el.textContent = \"BokehJS is loading...\";\n    }\n    if (root.Bokeh !== undefined) {\n      if (el != null) {\n        el.textContent = \"BokehJS \" + root.Bokeh.version + \" successfully loaded.\";\n      }\n    } else if (Date.now() < root._bokeh_timeout) {\n      setTimeout(display_loaded, 100)\n    }\n  }\n\n\n  function run_callbacks() {\n    try {\n      root._bokeh_onload_callbacks.forEach(function(callback) {\n        if (callback != null)\n          callback();\n      });\n    } finally {\n      delete root._bokeh_onload_callbacks\n    }\n    console.debug(\"Bokeh: all callbacks have finished\");\n  }\n\n  function load_libs(css_urls, js_urls, callback) {\n    if (css_urls == null) css_urls = [];\n    if (js_urls == null) js_urls = [];\n\n    root._bokeh_onload_callbacks.push(callback);\n    if (root._bokeh_is_loading > 0) {\n      console.debug(\"Bokeh: BokehJS is being loaded, scheduling callback at\", now());\n      return null;\n    }\n    if (js_urls == null || js_urls.length === 0) {\n      run_callbacks();\n      return null;\n    }\n    console.debug(\"Bokeh: BokehJS not loaded, scheduling load and callback at\", now());\n    root._bokeh_is_loading = css_urls.length + js_urls.length;\n\n    function on_load() {\n      root._bokeh_is_loading--;\n      if (root._bokeh_is_loading === 0) {\n        console.debug(\"Bokeh: all BokehJS libraries/stylesheets loaded\");\n        run_callbacks()\n      }\n    }\n\n    function on_error() {\n      console.error(\"failed to load \" + url);\n    }\n\n    for (var i = 0; i < css_urls.length; i++) {\n      var url = css_urls[i];\n      const element = document.createElement(\"link\");\n      element.onload = on_load;\n      element.onerror = on_error;\n      element.rel = \"stylesheet\";\n      element.type = \"text/css\";\n      element.href = url;\n      console.debug(\"Bokeh: injecting link tag for BokehJS stylesheet: \", url);\n      document.body.appendChild(element);\n    }\n\n    const hashes = {\"https://cdn.bokeh.org/bokeh/release/bokeh-2.1.1.min.js\": \"kLr4fYcqcSpbuI95brIH3vnnYCquzzSxHPU6XGQCIkQRGJwhg0StNbj1eegrHs12\", \"https://cdn.bokeh.org/bokeh/release/bokeh-widgets-2.1.1.min.js\": \"xIGPmVtaOm+z0BqfSOMn4lOR6ciex448GIKG4eE61LsAvmGj48XcMQZtKcE/UXZe\", \"https://cdn.bokeh.org/bokeh/release/bokeh-tables-2.1.1.min.js\": \"Dc9u1wF/0zApGIWoBbH77iWEHtdmkuYWG839Uzmv8y8yBLXebjO9ZnERsde5Ln/P\", \"https://cdn.bokeh.org/bokeh/release/bokeh-gl-2.1.1.min.js\": \"cT9JaBz7GiRXdENrJLZNSC6eMNF3nh3fa5fTF51Svp+ukxPdwcU5kGXGPBgDCa2j\"};\n\n    for (var i = 0; i < js_urls.length; i++) {\n      var url = js_urls[i];\n      var element = document.createElement('script');\n      element.onload = on_load;\n      element.onerror = on_error;\n      element.async = false;\n      element.src = url;\n      if (url in hashes) {\n        element.crossOrigin = \"anonymous\";\n        element.integrity = \"sha384-\" + hashes[url];\n      }\n      console.debug(\"Bokeh: injecting script tag for BokehJS library: \", url);\n      document.head.appendChild(element);\n    }\n  };\n\n  function inject_raw_css(css) {\n    const element = document.createElement(\"style\");\n    element.appendChild(document.createTextNode(css));\n    document.body.appendChild(element);\n  }\n\n  \n  var js_urls = [\"https://cdn.bokeh.org/bokeh/release/bokeh-2.1.1.min.js\", \"https://cdn.bokeh.org/bokeh/release/bokeh-widgets-2.1.1.min.js\", \"https://cdn.bokeh.org/bokeh/release/bokeh-tables-2.1.1.min.js\", \"https://cdn.bokeh.org/bokeh/release/bokeh-gl-2.1.1.min.js\"];\n  var css_urls = [];\n  \n\n  var inline_js = [\n    function(Bokeh) {\n      Bokeh.set_log_level(\"info\");\n    },\n    function(Bokeh) {\n    \n    \n    }\n  ];\n\n  function run_inline_js() {\n    \n    if (root.Bokeh !== undefined || force === true) {\n      \n    for (var i = 0; i < inline_js.length; i++) {\n      inline_js[i].call(root, root.Bokeh);\n    }\n    } else if (Date.now() < root._bokeh_timeout) {\n      setTimeout(run_inline_js, 100);\n    } else if (!root._bokeh_failed_load) {\n      console.log(\"Bokeh: BokehJS failed to load within specified timeout.\");\n      root._bokeh_failed_load = true;\n    } else if (force !== true) {\n      var cell = $(document.getElementById(null)).parents('.cell').data().cell;\n      cell.output_area.append_execute_result(NB_LOAD_WARNING)\n    }\n\n  }\n\n  if (root._bokeh_is_loading === 0) {\n    console.debug(\"Bokeh: BokehJS loaded, going straight to plotting\");\n    run_inline_js();\n  } else {\n    load_libs(css_urls, js_urls, function() {\n      console.debug(\"Bokeh: BokehJS plotting callback run at\", now());\n      run_inline_js();\n    });\n  }\n}(window));"
          },
          "metadata": {
            "tags": []
          }
        },
        {
          "output_type": "display_data",
          "data": {
            "text/html": [
              "\n",
              "\n",
              "\n",
              "\n",
              "\n",
              "\n",
              "  <div class=\"bk-root\" id=\"14ee8361-33ff-4589-a40c-fcd9e438275d\" data-root-id=\"1001\"></div>\n"
            ]
          },
          "metadata": {
            "tags": []
          }
        },
        {
          "output_type": "display_data",
          "data": {
            "application/javascript": [
              "(function(root) {\n",
              "  function embed_document(root) {\n",
              "    \n",
              "  var docs_json = {\"708ea29f-d134-44ac-814b-a63a01b4357e\":{\"roots\":{\"references\":[{\"attributes\":{\"below\":[{\"id\":\"1010\"}],\"center\":[{\"id\":\"1013\"},{\"id\":\"1017\"},{\"id\":\"1037\"},{\"id\":\"1038\"},{\"id\":\"1039\"},{\"id\":\"1040\"},{\"id\":\"1041\"},{\"id\":\"1042\"},{\"id\":\"1043\"},{\"id\":\"1044\"},{\"id\":\"1045\"},{\"id\":\"1046\"},{\"id\":\"1047\"},{\"id\":\"1048\"},{\"id\":\"1049\"},{\"id\":\"1050\"},{\"id\":\"1051\"},{\"id\":\"1052\"},{\"id\":\"1053\"},{\"id\":\"1054\"},{\"id\":\"1055\"},{\"id\":\"1056\"},{\"id\":\"1057\"},{\"id\":\"1058\"},{\"id\":\"1059\"},{\"id\":\"1060\"},{\"id\":\"1061\"},{\"id\":\"1062\"},{\"id\":\"1063\"},{\"id\":\"1064\"},{\"id\":\"1065\"},{\"id\":\"1066\"},{\"id\":\"1067\"},{\"id\":\"1068\"},{\"id\":\"1069\"},{\"id\":\"1070\"},{\"id\":\"1071\"},{\"id\":\"1072\"},{\"id\":\"1073\"},{\"id\":\"1074\"},{\"id\":\"1075\"},{\"id\":\"1076\"},{\"id\":\"1077\"},{\"id\":\"1078\"},{\"id\":\"1079\"},{\"id\":\"1080\"},{\"id\":\"1081\"},{\"id\":\"1082\"},{\"id\":\"1083\"},{\"id\":\"1084\"},{\"id\":\"1085\"},{\"id\":\"1086\"},{\"id\":\"1087\"},{\"id\":\"1088\"},{\"id\":\"1089\"},{\"id\":\"1090\"},{\"id\":\"1091\"},{\"id\":\"1092\"},{\"id\":\"1093\"},{\"id\":\"1094\"},{\"id\":\"1095\"},{\"id\":\"1096\"},{\"id\":\"1097\"},{\"id\":\"1098\"},{\"id\":\"1099\"},{\"id\":\"1100\"},{\"id\":\"1101\"},{\"id\":\"1102\"},{\"id\":\"1103\"},{\"id\":\"1104\"},{\"id\":\"1105\"},{\"id\":\"1106\"},{\"id\":\"1107\"},{\"id\":\"1108\"},{\"id\":\"1109\"},{\"id\":\"1110\"},{\"id\":\"1111\"},{\"id\":\"1112\"},{\"id\":\"1113\"},{\"id\":\"1114\"},{\"id\":\"1115\"},{\"id\":\"1116\"},{\"id\":\"1117\"},{\"id\":\"1118\"},{\"id\":\"1119\"},{\"id\":\"1120\"},{\"id\":\"1121\"},{\"id\":\"1122\"},{\"id\":\"1123\"},{\"id\":\"1124\"},{\"id\":\"1125\"},{\"id\":\"1126\"},{\"id\":\"1127\"},{\"id\":\"1128\"},{\"id\":\"1129\"},{\"id\":\"1130\"},{\"id\":\"1131\"},{\"id\":\"1132\"},{\"id\":\"1133\"},{\"id\":\"1134\"},{\"id\":\"1135\"},{\"id\":\"1136\"},{\"id\":\"1137\"},{\"id\":\"1138\"},{\"id\":\"1139\"},{\"id\":\"1140\"},{\"id\":\"1141\"},{\"id\":\"1142\"},{\"id\":\"1143\"},{\"id\":\"1144\"},{\"id\":\"1145\"},{\"id\":\"1146\"},{\"id\":\"1147\"},{\"id\":\"1148\"},{\"id\":\"1149\"},{\"id\":\"1150\"},{\"id\":\"1151\"},{\"id\":\"1152\"},{\"id\":\"1153\"},{\"id\":\"1154\"},{\"id\":\"1155\"},{\"id\":\"1156\"},{\"id\":\"1157\"},{\"id\":\"1158\"},{\"id\":\"1159\"},{\"id\":\"1160\"},{\"id\":\"1161\"},{\"id\":\"1162\"},{\"id\":\"1163\"},{\"id\":\"1164\"},{\"id\":\"1165\"},{\"id\":\"1166\"},{\"id\":\"1167\"},{\"id\":\"1168\"},{\"id\":\"1169\"},{\"id\":\"1170\"},{\"id\":\"1171\"},{\"id\":\"1172\"},{\"id\":\"1173\"},{\"id\":\"1174\"},{\"id\":\"1175\"},{\"id\":\"1176\"},{\"id\":\"1177\"},{\"id\":\"1178\"},{\"id\":\"1179\"},{\"id\":\"1180\"},{\"id\":\"1181\"},{\"id\":\"1182\"},{\"id\":\"1183\"},{\"id\":\"1184\"},{\"id\":\"1185\"},{\"id\":\"1186\"},{\"id\":\"1187\"},{\"id\":\"1188\"},{\"id\":\"1189\"},{\"id\":\"1190\"},{\"id\":\"1191\"},{\"id\":\"1192\"},{\"id\":\"1193\"},{\"id\":\"1194\"},{\"id\":\"1195\"},{\"id\":\"1196\"},{\"id\":\"1197\"},{\"id\":\"1198\"},{\"id\":\"1199\"},{\"id\":\"1200\"},{\"id\":\"1201\"},{\"id\":\"1202\"},{\"id\":\"1203\"},{\"id\":\"1204\"},{\"id\":\"1205\"},{\"id\":\"1206\"},{\"id\":\"1207\"},{\"id\":\"1208\"},{\"id\":\"1209\"},{\"id\":\"1210\"},{\"id\":\"1211\"},{\"id\":\"1212\"},{\"id\":\"1213\"},{\"id\":\"1214\"},{\"id\":\"1215\"},{\"id\":\"1216\"},{\"id\":\"1217\"},{\"id\":\"1218\"},{\"id\":\"1219\"},{\"id\":\"1220\"},{\"id\":\"1221\"},{\"id\":\"1222\"},{\"id\":\"1223\"},{\"id\":\"1224\"},{\"id\":\"1225\"},{\"id\":\"1226\"},{\"id\":\"1227\"},{\"id\":\"1228\"},{\"id\":\"1229\"},{\"id\":\"1230\"},{\"id\":\"1231\"},{\"id\":\"1232\"},{\"id\":\"1233\"},{\"id\":\"1234\"},{\"id\":\"1235\"},{\"id\":\"1236\"},{\"id\":\"1237\"},{\"id\":\"1238\"},{\"id\":\"1239\"},{\"id\":\"1240\"},{\"id\":\"1241\"},{\"id\":\"1242\"},{\"id\":\"1243\"},{\"id\":\"1244\"},{\"id\":\"1245\"},{\"id\":\"1246\"},{\"id\":\"1247\"},{\"id\":\"1248\"},{\"id\":\"1249\"},{\"id\":\"1250\"},{\"id\":\"1251\"},{\"id\":\"1252\"},{\"id\":\"1253\"},{\"id\":\"1254\"},{\"id\":\"1255\"},{\"id\":\"1256\"},{\"id\":\"1257\"},{\"id\":\"1258\"},{\"id\":\"1259\"},{\"id\":\"1260\"},{\"id\":\"1261\"},{\"id\":\"1262\"},{\"id\":\"1263\"},{\"id\":\"1264\"},{\"id\":\"1265\"},{\"id\":\"1266\"},{\"id\":\"1267\"},{\"id\":\"1268\"},{\"id\":\"1269\"},{\"id\":\"1270\"},{\"id\":\"1271\"},{\"id\":\"1272\"},{\"id\":\"1273\"},{\"id\":\"1274\"},{\"id\":\"1275\"},{\"id\":\"1276\"},{\"id\":\"1277\"},{\"id\":\"1278\"},{\"id\":\"1279\"},{\"id\":\"1280\"},{\"id\":\"1281\"},{\"id\":\"1282\"},{\"id\":\"1283\"},{\"id\":\"1284\"},{\"id\":\"1285\"},{\"id\":\"1286\"},{\"id\":\"1287\"},{\"id\":\"1288\"},{\"id\":\"1289\"},{\"id\":\"1290\"},{\"id\":\"1291\"},{\"id\":\"1292\"},{\"id\":\"1293\"},{\"id\":\"1294\"},{\"id\":\"1295\"},{\"id\":\"1296\"},{\"id\":\"1297\"},{\"id\":\"1298\"},{\"id\":\"1299\"},{\"id\":\"1300\"},{\"id\":\"1301\"},{\"id\":\"1302\"},{\"id\":\"1303\"},{\"id\":\"1304\"},{\"id\":\"1305\"},{\"id\":\"1306\"},{\"id\":\"1307\"},{\"id\":\"1308\"},{\"id\":\"1309\"},{\"id\":\"1310\"},{\"id\":\"1311\"},{\"id\":\"1312\"},{\"id\":\"1313\"},{\"id\":\"1314\"},{\"id\":\"1315\"},{\"id\":\"1316\"},{\"id\":\"1317\"},{\"id\":\"1318\"},{\"id\":\"1319\"},{\"id\":\"1320\"},{\"id\":\"1321\"},{\"id\":\"1322\"},{\"id\":\"1323\"},{\"id\":\"1324\"},{\"id\":\"1325\"},{\"id\":\"1326\"},{\"id\":\"1327\"},{\"id\":\"1328\"},{\"id\":\"1329\"},{\"id\":\"1330\"},{\"id\":\"1331\"},{\"id\":\"1332\"},{\"id\":\"1333\"},{\"id\":\"1334\"},{\"id\":\"1335\"},{\"id\":\"1336\"},{\"id\":\"1337\"},{\"id\":\"1338\"},{\"id\":\"1339\"},{\"id\":\"1340\"},{\"id\":\"1341\"},{\"id\":\"1342\"},{\"id\":\"1343\"},{\"id\":\"1344\"},{\"id\":\"1345\"},{\"id\":\"1346\"},{\"id\":\"1347\"},{\"id\":\"1348\"},{\"id\":\"1349\"},{\"id\":\"1350\"},{\"id\":\"1351\"},{\"id\":\"1352\"},{\"id\":\"1353\"},{\"id\":\"1354\"},{\"id\":\"1355\"},{\"id\":\"1356\"},{\"id\":\"1357\"},{\"id\":\"1358\"},{\"id\":\"1359\"},{\"id\":\"1360\"},{\"id\":\"1361\"},{\"id\":\"1362\"},{\"id\":\"1363\"},{\"id\":\"1364\"},{\"id\":\"1365\"},{\"id\":\"1366\"},{\"id\":\"1367\"},{\"id\":\"1368\"},{\"id\":\"1369\"},{\"id\":\"1370\"},{\"id\":\"1371\"},{\"id\":\"1372\"},{\"id\":\"1373\"},{\"id\":\"1374\"},{\"id\":\"1375\"},{\"id\":\"1376\"},{\"id\":\"1377\"},{\"id\":\"1378\"},{\"id\":\"1379\"},{\"id\":\"1380\"},{\"id\":\"1381\"},{\"id\":\"1382\"},{\"id\":\"1383\"},{\"id\":\"1384\"},{\"id\":\"1385\"},{\"id\":\"1386\"},{\"id\":\"1387\"},{\"id\":\"1388\"},{\"id\":\"1389\"},{\"id\":\"1390\"},{\"id\":\"1391\"},{\"id\":\"1392\"},{\"id\":\"1393\"},{\"id\":\"1394\"},{\"id\":\"1395\"},{\"id\":\"1396\"},{\"id\":\"1397\"},{\"id\":\"1398\"},{\"id\":\"1399\"},{\"id\":\"1400\"},{\"id\":\"1401\"},{\"id\":\"1402\"},{\"id\":\"1403\"},{\"id\":\"1404\"},{\"id\":\"1405\"},{\"id\":\"1406\"},{\"id\":\"1407\"},{\"id\":\"1408\"},{\"id\":\"1409\"},{\"id\":\"1410\"},{\"id\":\"1411\"},{\"id\":\"1412\"},{\"id\":\"1413\"},{\"id\":\"1414\"},{\"id\":\"1415\"},{\"id\":\"1416\"},{\"id\":\"1417\"},{\"id\":\"1418\"},{\"id\":\"1419\"},{\"id\":\"1420\"},{\"id\":\"1421\"},{\"id\":\"1422\"},{\"id\":\"1423\"},{\"id\":\"1424\"},{\"id\":\"1425\"},{\"id\":\"1426\"},{\"id\":\"1427\"},{\"id\":\"1428\"},{\"id\":\"1429\"},{\"id\":\"1430\"},{\"id\":\"1431\"},{\"id\":\"1432\"},{\"id\":\"1433\"},{\"id\":\"1434\"},{\"id\":\"1435\"},{\"id\":\"1436\"},{\"id\":\"1437\"},{\"id\":\"1438\"},{\"id\":\"1439\"},{\"id\":\"1440\"},{\"id\":\"1441\"},{\"id\":\"1442\"},{\"id\":\"1443\"},{\"id\":\"1444\"},{\"id\":\"1445\"},{\"id\":\"1446\"},{\"id\":\"1447\"},{\"id\":\"1448\"},{\"id\":\"1449\"},{\"id\":\"1450\"},{\"id\":\"1451\"},{\"id\":\"1452\"},{\"id\":\"1453\"},{\"id\":\"1454\"},{\"id\":\"1455\"},{\"id\":\"1456\"},{\"id\":\"1457\"},{\"id\":\"1458\"},{\"id\":\"1459\"},{\"id\":\"1460\"},{\"id\":\"1461\"},{\"id\":\"1462\"},{\"id\":\"1463\"},{\"id\":\"1464\"},{\"id\":\"1465\"},{\"id\":\"1466\"},{\"id\":\"1467\"},{\"id\":\"1468\"},{\"id\":\"1469\"},{\"id\":\"1470\"},{\"id\":\"1471\"},{\"id\":\"1472\"},{\"id\":\"1473\"},{\"id\":\"1474\"},{\"id\":\"1475\"},{\"id\":\"1476\"},{\"id\":\"1477\"},{\"id\":\"1478\"},{\"id\":\"1479\"},{\"id\":\"1480\"},{\"id\":\"1481\"},{\"id\":\"1482\"},{\"id\":\"1483\"},{\"id\":\"1484\"},{\"id\":\"1485\"},{\"id\":\"1486\"},{\"id\":\"1487\"},{\"id\":\"1488\"},{\"id\":\"1489\"},{\"id\":\"1490\"},{\"id\":\"1491\"},{\"id\":\"1492\"},{\"id\":\"1493\"},{\"id\":\"1494\"},{\"id\":\"1495\"},{\"id\":\"1496\"},{\"id\":\"1497\"},{\"id\":\"1498\"},{\"id\":\"1499\"},{\"id\":\"1500\"},{\"id\":\"1501\"},{\"id\":\"1502\"},{\"id\":\"1503\"},{\"id\":\"1504\"},{\"id\":\"1505\"},{\"id\":\"1506\"},{\"id\":\"1507\"},{\"id\":\"1508\"},{\"id\":\"1509\"},{\"id\":\"1510\"},{\"id\":\"1511\"},{\"id\":\"1512\"},{\"id\":\"1513\"},{\"id\":\"1514\"},{\"id\":\"1515\"},{\"id\":\"1516\"},{\"id\":\"1517\"},{\"id\":\"1518\"},{\"id\":\"1519\"},{\"id\":\"1520\"},{\"id\":\"1521\"},{\"id\":\"1522\"},{\"id\":\"1523\"},{\"id\":\"1524\"},{\"id\":\"1525\"},{\"id\":\"1526\"},{\"id\":\"1527\"},{\"id\":\"1528\"},{\"id\":\"1529\"},{\"id\":\"1530\"},{\"id\":\"1531\"},{\"id\":\"1532\"},{\"id\":\"1533\"},{\"id\":\"1534\"},{\"id\":\"1535\"},{\"id\":\"1536\"},{\"id\":\"1537\"},{\"id\":\"1538\"},{\"id\":\"1539\"},{\"id\":\"1540\"},{\"id\":\"1541\"},{\"id\":\"1542\"},{\"id\":\"1543\"},{\"id\":\"1544\"},{\"id\":\"1545\"},{\"id\":\"1546\"},{\"id\":\"1547\"},{\"id\":\"1548\"},{\"id\":\"1549\"},{\"id\":\"1550\"},{\"id\":\"1551\"},{\"id\":\"1552\"},{\"id\":\"1553\"},{\"id\":\"1554\"},{\"id\":\"1555\"},{\"id\":\"1556\"},{\"id\":\"1557\"},{\"id\":\"1558\"},{\"id\":\"1559\"},{\"id\":\"1560\"},{\"id\":\"1561\"},{\"id\":\"1562\"},{\"id\":\"1563\"},{\"id\":\"1564\"},{\"id\":\"1565\"},{\"id\":\"1566\"},{\"id\":\"1567\"},{\"id\":\"1568\"},{\"id\":\"1569\"},{\"id\":\"1570\"},{\"id\":\"1571\"},{\"id\":\"1572\"},{\"id\":\"1573\"},{\"id\":\"1574\"},{\"id\":\"1575\"},{\"id\":\"1576\"},{\"id\":\"1577\"},{\"id\":\"1578\"},{\"id\":\"1579\"},{\"id\":\"1580\"},{\"id\":\"1581\"},{\"id\":\"1582\"},{\"id\":\"1583\"},{\"id\":\"1584\"},{\"id\":\"1585\"},{\"id\":\"1586\"},{\"id\":\"1587\"},{\"id\":\"1588\"},{\"id\":\"1589\"},{\"id\":\"1590\"},{\"id\":\"1591\"},{\"id\":\"1592\"},{\"id\":\"1593\"},{\"id\":\"1594\"},{\"id\":\"1595\"},{\"id\":\"1596\"},{\"id\":\"1597\"},{\"id\":\"1598\"},{\"id\":\"1599\"},{\"id\":\"1600\"},{\"id\":\"1601\"},{\"id\":\"1602\"},{\"id\":\"1603\"},{\"id\":\"1604\"},{\"id\":\"1605\"},{\"id\":\"1606\"},{\"id\":\"1607\"},{\"id\":\"1608\"},{\"id\":\"1609\"},{\"id\":\"1610\"},{\"id\":\"1611\"},{\"id\":\"1612\"},{\"id\":\"1613\"},{\"id\":\"1614\"},{\"id\":\"1615\"},{\"id\":\"1616\"},{\"id\":\"1617\"},{\"id\":\"1618\"},{\"id\":\"1619\"},{\"id\":\"1620\"},{\"id\":\"1621\"},{\"id\":\"1622\"},{\"id\":\"1623\"},{\"id\":\"1624\"},{\"id\":\"1625\"},{\"id\":\"1626\"},{\"id\":\"1627\"},{\"id\":\"1628\"},{\"id\":\"1629\"},{\"id\":\"1630\"},{\"id\":\"1631\"},{\"id\":\"1632\"},{\"id\":\"1633\"},{\"id\":\"1634\"},{\"id\":\"1635\"},{\"id\":\"1636\"},{\"id\":\"1637\"},{\"id\":\"1638\"},{\"id\":\"1639\"},{\"id\":\"1640\"},{\"id\":\"1641\"},{\"id\":\"1642\"},{\"id\":\"1643\"},{\"id\":\"1644\"},{\"id\":\"1645\"},{\"id\":\"1646\"},{\"id\":\"1647\"},{\"id\":\"1648\"},{\"id\":\"1649\"},{\"id\":\"1650\"},{\"id\":\"1651\"},{\"id\":\"1652\"},{\"id\":\"1653\"},{\"id\":\"1654\"},{\"id\":\"1655\"},{\"id\":\"1656\"},{\"id\":\"1657\"},{\"id\":\"1658\"},{\"id\":\"1659\"},{\"id\":\"1660\"},{\"id\":\"1661\"},{\"id\":\"1662\"},{\"id\":\"1663\"},{\"id\":\"1664\"},{\"id\":\"1665\"},{\"id\":\"1666\"},{\"id\":\"1667\"},{\"id\":\"1668\"},{\"id\":\"1669\"},{\"id\":\"1670\"},{\"id\":\"1671\"},{\"id\":\"1672\"},{\"id\":\"1673\"},{\"id\":\"1674\"},{\"id\":\"1675\"},{\"id\":\"1676\"},{\"id\":\"1677\"},{\"id\":\"1678\"},{\"id\":\"1679\"},{\"id\":\"1680\"},{\"id\":\"1681\"},{\"id\":\"1682\"},{\"id\":\"1683\"},{\"id\":\"1684\"},{\"id\":\"1685\"},{\"id\":\"1686\"},{\"id\":\"1687\"},{\"id\":\"1688\"},{\"id\":\"1689\"},{\"id\":\"1690\"},{\"id\":\"1691\"},{\"id\":\"1692\"},{\"id\":\"1693\"},{\"id\":\"1694\"},{\"id\":\"1695\"},{\"id\":\"1696\"},{\"id\":\"1697\"},{\"id\":\"1698\"},{\"id\":\"1699\"},{\"id\":\"1700\"},{\"id\":\"1701\"},{\"id\":\"1702\"},{\"id\":\"1703\"},{\"id\":\"1704\"},{\"id\":\"1705\"},{\"id\":\"1706\"},{\"id\":\"1707\"},{\"id\":\"1708\"},{\"id\":\"1709\"},{\"id\":\"1710\"},{\"id\":\"1711\"},{\"id\":\"1712\"},{\"id\":\"1713\"},{\"id\":\"1714\"},{\"id\":\"1715\"},{\"id\":\"1716\"},{\"id\":\"1717\"},{\"id\":\"1718\"},{\"id\":\"1719\"},{\"id\":\"1720\"},{\"id\":\"1721\"},{\"id\":\"1722\"},{\"id\":\"1723\"},{\"id\":\"1724\"},{\"id\":\"1725\"},{\"id\":\"1726\"},{\"id\":\"1727\"},{\"id\":\"1728\"},{\"id\":\"1729\"},{\"id\":\"1730\"},{\"id\":\"1731\"},{\"id\":\"1732\"},{\"id\":\"1733\"},{\"id\":\"1734\"},{\"id\":\"1735\"},{\"id\":\"1736\"},{\"id\":\"1737\"},{\"id\":\"1738\"},{\"id\":\"1739\"},{\"id\":\"1740\"},{\"id\":\"1741\"},{\"id\":\"1742\"},{\"id\":\"1743\"},{\"id\":\"1744\"},{\"id\":\"1745\"},{\"id\":\"1746\"},{\"id\":\"1747\"},{\"id\":\"1748\"},{\"id\":\"1749\"},{\"id\":\"1750\"},{\"id\":\"1751\"},{\"id\":\"1752\"},{\"id\":\"1753\"},{\"id\":\"1754\"},{\"id\":\"1755\"},{\"id\":\"1756\"},{\"id\":\"1757\"},{\"id\":\"1758\"},{\"id\":\"1759\"},{\"id\":\"1760\"},{\"id\":\"1761\"},{\"id\":\"1762\"},{\"id\":\"1763\"},{\"id\":\"1764\"},{\"id\":\"1765\"},{\"id\":\"1766\"},{\"id\":\"1767\"},{\"id\":\"1768\"},{\"id\":\"1769\"},{\"id\":\"1770\"},{\"id\":\"1771\"},{\"id\":\"1772\"},{\"id\":\"1773\"},{\"id\":\"1774\"},{\"id\":\"1775\"},{\"id\":\"1776\"},{\"id\":\"1777\"},{\"id\":\"1778\"},{\"id\":\"1779\"},{\"id\":\"1780\"},{\"id\":\"1781\"},{\"id\":\"1782\"},{\"id\":\"1783\"},{\"id\":\"1784\"},{\"id\":\"1785\"},{\"id\":\"1786\"},{\"id\":\"1787\"},{\"id\":\"1788\"},{\"id\":\"1789\"},{\"id\":\"1790\"},{\"id\":\"1791\"},{\"id\":\"1792\"},{\"id\":\"1793\"},{\"id\":\"1794\"},{\"id\":\"1795\"},{\"id\":\"1796\"},{\"id\":\"1797\"},{\"id\":\"1798\"},{\"id\":\"1799\"},{\"id\":\"1800\"},{\"id\":\"1801\"},{\"id\":\"1802\"},{\"id\":\"1803\"},{\"id\":\"1804\"},{\"id\":\"1805\"},{\"id\":\"1806\"},{\"id\":\"1807\"},{\"id\":\"1808\"},{\"id\":\"1809\"},{\"id\":\"1810\"},{\"id\":\"1811\"},{\"id\":\"1812\"},{\"id\":\"1813\"},{\"id\":\"1814\"},{\"id\":\"1815\"},{\"id\":\"1816\"},{\"id\":\"1817\"},{\"id\":\"1818\"},{\"id\":\"1819\"},{\"id\":\"1820\"},{\"id\":\"1821\"},{\"id\":\"1822\"},{\"id\":\"1823\"},{\"id\":\"1824\"},{\"id\":\"1825\"},{\"id\":\"1826\"},{\"id\":\"1827\"},{\"id\":\"1828\"},{\"id\":\"1829\"},{\"id\":\"1830\"},{\"id\":\"1831\"},{\"id\":\"1832\"},{\"id\":\"1833\"},{\"id\":\"1834\"},{\"id\":\"1835\"},{\"id\":\"1836\"},{\"id\":\"1837\"},{\"id\":\"1838\"},{\"id\":\"1839\"},{\"id\":\"1840\"},{\"id\":\"1841\"},{\"id\":\"1842\"},{\"id\":\"1843\"},{\"id\":\"1844\"},{\"id\":\"1845\"},{\"id\":\"1846\"},{\"id\":\"1847\"},{\"id\":\"1848\"},{\"id\":\"1849\"},{\"id\":\"1850\"},{\"id\":\"1851\"},{\"id\":\"1852\"},{\"id\":\"1853\"},{\"id\":\"1854\"},{\"id\":\"1855\"},{\"id\":\"1856\"},{\"id\":\"1857\"},{\"id\":\"1858\"},{\"id\":\"1859\"},{\"id\":\"1860\"},{\"id\":\"1861\"},{\"id\":\"1862\"},{\"id\":\"1863\"},{\"id\":\"1864\"},{\"id\":\"1865\"},{\"id\":\"1866\"},{\"id\":\"1867\"},{\"id\":\"1868\"},{\"id\":\"1869\"},{\"id\":\"1870\"},{\"id\":\"1871\"},{\"id\":\"1872\"},{\"id\":\"1873\"},{\"id\":\"1874\"},{\"id\":\"1875\"},{\"id\":\"1876\"},{\"id\":\"1877\"},{\"id\":\"1878\"},{\"id\":\"1879\"},{\"id\":\"1880\"},{\"id\":\"1881\"},{\"id\":\"1882\"},{\"id\":\"1883\"},{\"id\":\"1884\"},{\"id\":\"1885\"},{\"id\":\"1886\"},{\"id\":\"1887\"},{\"id\":\"1888\"},{\"id\":\"1889\"},{\"id\":\"1890\"},{\"id\":\"1891\"},{\"id\":\"1892\"},{\"id\":\"1893\"},{\"id\":\"1894\"},{\"id\":\"1895\"},{\"id\":\"1896\"},{\"id\":\"1897\"},{\"id\":\"1898\"},{\"id\":\"1899\"},{\"id\":\"1900\"},{\"id\":\"1901\"},{\"id\":\"1902\"},{\"id\":\"1903\"},{\"id\":\"1904\"},{\"id\":\"1905\"},{\"id\":\"1906\"},{\"id\":\"1907\"},{\"id\":\"1908\"},{\"id\":\"1909\"},{\"id\":\"1910\"},{\"id\":\"1911\"},{\"id\":\"1912\"},{\"id\":\"1913\"},{\"id\":\"1914\"},{\"id\":\"1915\"},{\"id\":\"1916\"},{\"id\":\"1917\"},{\"id\":\"1918\"},{\"id\":\"1919\"},{\"id\":\"1920\"},{\"id\":\"1921\"},{\"id\":\"1922\"},{\"id\":\"1923\"},{\"id\":\"1924\"},{\"id\":\"1925\"},{\"id\":\"1926\"},{\"id\":\"1927\"},{\"id\":\"1928\"},{\"id\":\"1929\"},{\"id\":\"1930\"},{\"id\":\"1931\"},{\"id\":\"1932\"},{\"id\":\"1933\"},{\"id\":\"1934\"},{\"id\":\"1935\"},{\"id\":\"1936\"},{\"id\":\"1937\"},{\"id\":\"1938\"},{\"id\":\"1939\"},{\"id\":\"1940\"},{\"id\":\"1941\"},{\"id\":\"1942\"},{\"id\":\"1943\"},{\"id\":\"1944\"},{\"id\":\"1945\"},{\"id\":\"1946\"},{\"id\":\"1947\"},{\"id\":\"1948\"},{\"id\":\"1949\"},{\"id\":\"1950\"},{\"id\":\"1951\"},{\"id\":\"1952\"},{\"id\":\"1953\"},{\"id\":\"1954\"},{\"id\":\"1955\"},{\"id\":\"1956\"},{\"id\":\"1957\"},{\"id\":\"1958\"},{\"id\":\"1959\"},{\"id\":\"1960\"},{\"id\":\"1961\"},{\"id\":\"1962\"},{\"id\":\"1963\"},{\"id\":\"1964\"},{\"id\":\"1965\"},{\"id\":\"1966\"},{\"id\":\"1967\"},{\"id\":\"1968\"},{\"id\":\"1969\"},{\"id\":\"1970\"},{\"id\":\"1971\"},{\"id\":\"1972\"},{\"id\":\"1973\"},{\"id\":\"1974\"},{\"id\":\"1975\"},{\"id\":\"1976\"},{\"id\":\"1977\"},{\"id\":\"1978\"},{\"id\":\"1979\"},{\"id\":\"1980\"},{\"id\":\"1981\"},{\"id\":\"1982\"},{\"id\":\"1983\"},{\"id\":\"1984\"},{\"id\":\"1985\"},{\"id\":\"1986\"},{\"id\":\"1987\"},{\"id\":\"1988\"},{\"id\":\"1989\"},{\"id\":\"1990\"},{\"id\":\"1991\"},{\"id\":\"1992\"},{\"id\":\"1993\"},{\"id\":\"1994\"},{\"id\":\"1995\"},{\"id\":\"1996\"},{\"id\":\"1997\"},{\"id\":\"1998\"},{\"id\":\"1999\"},{\"id\":\"2000\"},{\"id\":\"2001\"},{\"id\":\"2002\"},{\"id\":\"2003\"},{\"id\":\"2004\"},{\"id\":\"2005\"},{\"id\":\"2006\"},{\"id\":\"2007\"},{\"id\":\"2008\"},{\"id\":\"2009\"},{\"id\":\"2010\"},{\"id\":\"2011\"},{\"id\":\"2012\"},{\"id\":\"2013\"},{\"id\":\"2014\"},{\"id\":\"2015\"},{\"id\":\"2016\"},{\"id\":\"2017\"},{\"id\":\"2018\"},{\"id\":\"2019\"},{\"id\":\"2020\"},{\"id\":\"2021\"},{\"id\":\"2022\"},{\"id\":\"2023\"},{\"id\":\"2024\"},{\"id\":\"2025\"},{\"id\":\"2026\"},{\"id\":\"2027\"},{\"id\":\"2028\"},{\"id\":\"2029\"},{\"id\":\"2030\"},{\"id\":\"2031\"},{\"id\":\"2032\"},{\"id\":\"2033\"},{\"id\":\"2034\"},{\"id\":\"2035\"},{\"id\":\"2036\"}],\"left\":[{\"id\":\"1014\"}],\"plot_width\":800,\"renderers\":[{\"id\":\"1035\"}],\"title\":{\"id\":\"2037\"},\"toolbar\":{\"id\":\"1025\"},\"x_range\":{\"id\":\"1002\"},\"x_scale\":{\"id\":\"1006\"},\"y_range\":{\"id\":\"1004\"},\"y_scale\":{\"id\":\"1008\"}},\"id\":\"1001\",\"subtype\":\"Figure\",\"type\":\"Plot\"},{\"attributes\":{\"text\":\"mind\",\"x\":-3.5942275524139404,\"y\":-0.4593454599380493},\"id\":\"1220\",\"type\":\"Label\"},{\"attributes\":{\"text\":\"wife\",\"x\":-3.260866403579712,\"y\":1.1504099369049072},\"id\":\"1328\",\"type\":\"Label\"},{\"attributes\":{\"text\":\"date\",\"x\":6.141782283782959,\"y\":0.6035625338554382},\"id\":\"1436\",\"type\":\"Label\"},{\"attributes\":{\"text\":\"jade\",\"x\":-0.7305281758308411,\"y\":-0.04616311192512512},\"id\":\"1904\",\"type\":\"Label\"},{\"attributes\":{\"text\":\"chess\",\"x\":-5.787316799163818,\"y\":0.29515162110328674},\"id\":\"2012\",\"type\":\"Label\"},{\"attributes\":{\"text\":\"end\",\"x\":1.9127486944198608,\"y\":-2.8909406661987305},\"id\":\"1221\",\"type\":\"Label\"},{\"attributes\":{\"text\":\"dad\",\"x\":-4.240695953369141,\"y\":-1.0020068883895874},\"id\":\"1329\",\"type\":\"Label\"},{\"attributes\":{\"text\":\"http\",\"x\":7.948685169219971,\"y\":0.8377599120140076},\"id\":\"1437\",\"type\":\"Label\"},{\"attributes\":{\"text\":\"cumming\",\"x\":3.5927140712738037,\"y\":0.5588901042938232},\"id\":\"1905\",\"type\":\"Label\"},{\"attributes\":{\"text\":\"checkmate\",\"x\":0.6609542965888977,\"y\":0.4049440920352936},\"id\":\"2013\",\"type\":\"Label\"},{\"attributes\":{\"text\":\"account\",\"x\":3.242964267730713,\"y\":2.839615821838379},\"id\":\"1222\",\"type\":\"Label\"},{\"attributes\":{\"text\":\"afternoon\",\"x\":-2.4362003803253174,\"y\":-0.920566737651825},\"id\":\"1330\",\"type\":\"Label\"},{\"attributes\":{\"text\":\"bonus\",\"x\":4.833871841430664,\"y\":-1.899548888206482},\"id\":\"1438\",\"type\":\"Label\"},{\"attributes\":{\"text\":\"collapsed\",\"x\":-4.730711936950684,\"y\":-1.1306509971618652},\"id\":\"1906\",\"type\":\"Label\"},{\"attributes\":{\"text\":\"admission\",\"x\":1.7454973459243774,\"y\":0.41663455963134766},\"id\":\"2014\",\"type\":\"Label\"},{\"attributes\":{\"text\":\"enjoy\",\"x\":4.5556793212890625,\"y\":-2.2588138580322266},\"id\":\"1223\",\"type\":\"Label\"},{\"attributes\":{\"text\":\"without\",\"x\":-3.008363962173462,\"y\":-0.5458964109420776},\"id\":\"1331\",\"type\":\"Label\"},{\"attributes\":{\"text\":\"trip\",\"x\":-0.19496777653694153,\"y\":-2.8316738605499268},\"id\":\"1439\",\"type\":\"Label\"},{\"attributes\":{\"text\":\"hos\",\"x\":-1.3179984092712402,\"y\":-1.3423197269439697},\"id\":\"1907\",\"type\":\"Label\"},{\"attributes\":{\"text\":\"defer\",\"x\":1.4860447645187378,\"y\":1.2940160036087036},\"id\":\"2015\",\"type\":\"Label\"},{\"attributes\":{\"text\":\"latest\",\"x\":6.166569232940674,\"y\":-0.7878895401954651},\"id\":\"1224\",\"type\":\"Label\"},{\"attributes\":{\"text\":\"missing\",\"x\":-1.6683411598205566,\"y\":0.7629501819610596},\"id\":\"1332\",\"type\":\"Label\"},{\"attributes\":{\"text\":\"comes\",\"x\":6.926015853881836,\"y\":0.28245317935943604},\"id\":\"1440\",\"type\":\"Label\"},{\"attributes\":{\"text\":\"fund\",\"x\":6.54774808883667,\"y\":-2.233086347579956},\"id\":\"1908\",\"type\":\"Label\"},{\"attributes\":{\"text\":\"fgkslpo\",\"x\":2.328307867050171,\"y\":0.6112388968467712},\"id\":\"2016\",\"type\":\"Label\"},{\"attributes\":{\"text\":\"month\",\"x\":-0.5448626279830933,\"y\":0.03636360168457031},\"id\":\"1225\",\"type\":\"Label\"},{\"attributes\":{\"text\":\"tmr\",\"x\":-4.748713493347168,\"y\":-0.7260124683380127},\"id\":\"1333\",\"type\":\"Label\"},{\"attributes\":{\"text\":\"movie\",\"x\":-0.9792623519897461,\"y\":-0.5571203231811523},\"id\":\"1441\",\"type\":\"Label\"},{\"attributes\":{\"text\":\"disaster\",\"x\":7.022129535675049,\"y\":-1.8073376417160034},\"id\":\"1909\",\"type\":\"Label\"},{\"attributes\":{\"text\":\"fgkslpopw\",\"x\":0.36440181732177734,\"y\":1.300100326538086},\"id\":\"2017\",\"type\":\"Label\"},{\"attributes\":{\"text\":\"half\",\"x\":1.8207218647003174,\"y\":-2.3200883865356445},\"id\":\"1226\",\"type\":\"Label\"},{\"attributes\":{\"text\":\"evening\",\"x\":-2.965618371963501,\"y\":-0.20147950947284698},\"id\":\"1334\",\"type\":\"Label\"},{\"attributes\":{\"text\":\"busy\",\"x\":-2.2596628665924072,\"y\":-0.9201630353927612},\"id\":\"1442\",\"type\":\"Label\"},{\"attributes\":{\"text\":\"tsunami\",\"x\":1.449982762336731,\"y\":-0.18638373911380768},\"id\":\"1910\",\"type\":\"Label\"},{\"attributes\":{\"text\":\"netun\",\"x\":0.3027016818523407,\"y\":-1.3506312370300293},\"id\":\"2018\",\"type\":\"Label\"},{\"attributes\":{\"text\":\"play\",\"x\":7.498722553253174,\"y\":-0.7679259181022644},\"id\":\"1227\",\"type\":\"Label\"},{\"attributes\":{\"text\":\"collect\",\"x\":6.570441722869873,\"y\":0.1004633754491806},\"id\":\"1335\",\"type\":\"Label\"},{\"attributes\":{\"text\":\"todays\",\"x\":-2.640549421310425,\"y\":-0.7729024291038513},\"id\":\"1443\",\"type\":\"Label\"},{\"attributes\":{\"text\":\"asian\",\"x\":0.7766342163085938,\"y\":0.7948845028877258},\"id\":\"1911\",\"type\":\"Label\"},{\"attributes\":{\"text\":\"shsex\",\"x\":2.355966091156006,\"y\":-1.398833155632019},\"id\":\"2019\",\"type\":\"Label\"},{\"attributes\":{\"text\":\"check\",\"x\":-3.4374589920043945,\"y\":1.7669603824615479},\"id\":\"1228\",\"type\":\"Label\"},{\"attributes\":{\"text\":\"asked\",\"x\":2.260852336883545,\"y\":1.467132329940796},\"id\":\"1336\",\"type\":\"Label\"},{\"attributes\":{\"text\":\"order\",\"x\":5.921977519989014,\"y\":-0.13296745717525482},\"id\":\"1444\",\"type\":\"Label\"},{\"attributes\":{\"text\":\"unicef\",\"x\":1.8431572914123535,\"y\":-0.2323075532913208},\"id\":\"1912\",\"type\":\"Label\"},{\"attributes\":{\"text\":\"videos\",\"x\":1.8423426151275635,\"y\":-1.308037281036377},\"id\":\"2020\",\"type\":\"Label\"},{\"attributes\":{\"text\":\"real\",\"x\":4.095399379730225,\"y\":-3.438779592514038},\"id\":\"1229\",\"type\":\"Label\"},{\"attributes\":{\"text\":\"texts\",\"x\":4.530755043029785,\"y\":-2.0924110412597656},\"id\":\"1337\",\"type\":\"Label\"},{\"attributes\":{\"text\":\"believe\",\"x\":-0.3854534924030304,\"y\":0.3665333688259125},\"id\":\"1445\",\"type\":\"Label\"},{\"attributes\":{\"text\":\"kaila\",\"x\":-0.5077134370803833,\"y\":-0.010970063507556915},\"id\":\"1913\",\"type\":\"Label\"},{\"attributes\":{\"text\":\"capacity\",\"x\":-0.5746093392372131,\"y\":0.7417877316474915},\"id\":\"2021\",\"type\":\"Label\"},{\"attributes\":{\"text\":\"sir\",\"x\":-5.494155406951904,\"y\":0.7824521660804749},\"id\":\"1230\",\"type\":\"Label\"},{\"attributes\":{\"text\":\"town\",\"x\":2.9766292572021484,\"y\":1.7210512161254883},\"id\":\"1338\",\"type\":\"Label\"},{\"attributes\":{\"text\":\"vouchers\",\"x\":6.80767822265625,\"y\":-1.6334723234176636},\"id\":\"1446\",\"type\":\"Label\"},{\"attributes\":{\"text\":\"etlp\",\"x\":2.5221235752105713,\"y\":0.6393704414367676},\"id\":\"1914\",\"type\":\"Label\"},{\"attributes\":{\"text\":\"smaller\",\"x\":-1.291692852973938,\"y\":-0.6664537191390991},\"id\":\"2022\",\"type\":\"Label\"},{\"attributes\":{\"text\":\"chance\",\"x\":7.231456279754639,\"y\":-3.3304409980773926},\"id\":\"1231\",\"type\":\"Label\"},{\"attributes\":{\"text\":\"wif\",\"x\":-2.961784839630127,\"y\":0.8607879281044006},\"id\":\"1339\",\"type\":\"Label\"},{\"attributes\":{\"text\":\"wid\",\"x\":-0.3395521342754364,\"y\":-0.0823223739862442},\"id\":\"1447\",\"type\":\"Label\"},{\"attributes\":{\"text\":\"experiencehttp\",\"x\":4.37485933303833,\"y\":-0.7954218983650208},\"id\":\"1915\",\"type\":\"Label\"},{\"attributes\":{\"text\":\"loosing\",\"x\":-4.533900260925293,\"y\":-0.7520185112953186},\"id\":\"2023\",\"type\":\"Label\"},{\"attributes\":{\"text\":\"world\",\"x\":-3.7040281295776367,\"y\":-2.567500114440918},\"id\":\"1232\",\"type\":\"Label\"},{\"attributes\":{\"text\":\"though\",\"x\":-2.9459710121154785,\"y\":-0.38698843121528625},\"id\":\"1340\",\"type\":\"Label\"},{\"attributes\":{\"text\":\"full\",\"x\":-4.385692119598389,\"y\":0.304339200258255},\"id\":\"1448\",\"type\":\"Label\"},{\"attributes\":{\"text\":\"ahhhh\",\"x\":2.932237386703491,\"y\":-0.33671778440475464},\"id\":\"1916\",\"type\":\"Label\"},{\"attributes\":{\"text\":\"situations\",\"x\":-4.260724067687988,\"y\":-0.507505476474762},\"id\":\"2024\",\"type\":\"Label\"},{\"attributes\":{\"text\":\"lar\",\"x\":-2.0096285343170166,\"y\":-0.04249703884124756},\"id\":\"1233\",\"type\":\"Label\"},{\"attributes\":{\"text\":\"calls\",\"x\":3.3248817920684814,\"y\":0.8880026340484619},\"id\":\"1341\",\"type\":\"Label\"},{\"attributes\":{\"text\":\"calling\",\"x\":0.5391664505004883,\"y\":-0.9696786403656006},\"id\":\"1449\",\"type\":\"Label\"},{\"attributes\":{\"text\":\"stuffing\",\"x\":-1.510823369026184,\"y\":-0.14018072187900543},\"id\":\"1917\",\"type\":\"Label\"},{\"attributes\":{\"text\":\"predicte\",\"x\":1.1523773670196533,\"y\":0.03318922221660614},\"id\":\"2025\",\"type\":\"Label\"},{\"attributes\":{\"text\":\"receive\",\"x\":5.386414527893066,\"y\":0.06673796474933624},\"id\":\"1234\",\"type\":\"Label\"},{\"attributes\":{\"text\":\"since\",\"x\":2.8624987602233887,\"y\":4.354458808898926},\"id\":\"1342\",\"type\":\"Label\"},{\"attributes\":{\"text\":\"tot\",\"x\":-3.5569357872009277,\"y\":-1.46619713306427},\"id\":\"1450\",\"type\":\"Label\"},{\"attributes\":{\"text\":\"dialling\",\"x\":2.0549721717834473,\"y\":1.1679085493087769},\"id\":\"1918\",\"type\":\"Label\"},{\"attributes\":{\"text\":\"kill\",\"x\":-0.5738992691040039,\"y\":1.3292547464370728},\"id\":\"2026\",\"type\":\"Label\"},{\"attributes\":{\"text\":\"word\",\"x\":7.072879314422607,\"y\":-1.7911293506622314},\"id\":\"1235\",\"type\":\"Label\"},{\"attributes\":{\"text\":\"came\",\"x\":0.6293815970420837,\"y\":-2.9859440326690674},\"id\":\"1343\",\"type\":\"Label\"},{\"attributes\":{\"text\":\"beautiful\",\"x\":-2.2239489555358887,\"y\":-1.4456347227096558},\"id\":\"1451\",\"type\":\"Label\"},{\"attributes\":{\"text\":\"advisors\",\"x\":0.7392074465751648,\"y\":0.5788636207580566},\"id\":\"1919\",\"type\":\"Label\"},{\"attributes\":{\"text\":\"brb\",\"x\":2.447317600250244,\"y\":-1.5081326961517334},\"id\":\"2027\",\"type\":\"Label\"},{\"attributes\":{\"text\":\"camera\",\"x\":7.239622592926025,\"y\":1.8688217401504517},\"id\":\"1236\",\"type\":\"Label\"},{\"attributes\":{\"text\":\"okay\",\"x\":-2.428184747695923,\"y\":-0.18187350034713745},\"id\":\"1344\",\"type\":\"Label\"},{\"attributes\":{\"text\":\"sae\",\"x\":2.376540422439575,\"y\":-1.3952014446258545},\"id\":\"1452\",\"type\":\"Label\"},{\"attributes\":{\"text\":\"trained\",\"x\":2.2682981491088867,\"y\":1.0359007120132446},\"id\":\"1920\",\"type\":\"Label\"},{\"attributes\":{\"text\":\"punishment\",\"x\":0.3638901710510254,\"y\":2.5913808345794678},\"id\":\"2028\",\"type\":\"Label\"},{\"attributes\":{\"text\":\"eat\",\"x\":-3.5787391662597656,\"y\":0.6351370215415955},\"id\":\"1237\",\"type\":\"Label\"},{\"attributes\":{\"text\":\"says\",\"x\":-3.8215878009796143,\"y\":1.953392505645752},\"id\":\"1345\",\"type\":\"Label\"},{\"attributes\":{\"text\":\"lose\",\"x\":-3.277667284011841,\"y\":-1.4052913188934326},\"id\":\"1453\",\"type\":\"Label\"},{\"attributes\":{\"text\":\"ortxt\",\"x\":-2.403242588043213,\"y\":1.004835844039917},\"id\":\"1921\",\"type\":\"Label\"},{\"attributes\":{\"text\":\"poorly\",\"x\":0.274299293756485,\"y\":1.11331307888031},\"id\":\"2029\",\"type\":\"Label\"},{\"attributes\":{\"text\":\"awarded\",\"x\":6.101332187652588,\"y\":-0.38850224018096924},\"id\":\"1238\",\"type\":\"Label\"},{\"attributes\":{\"text\":\"must\",\"x\":-2.211298942565918,\"y\":0.3160982131958008},\"id\":\"1346\",\"type\":\"Label\"},{\"attributes\":{\"text\":\"game\",\"x\":-1.987106204032898,\"y\":2.644718647003174},\"id\":\"1454\",\"type\":\"Label\"},{\"attributes\":{\"text\":\"farting\",\"x\":1.267746925354004,\"y\":-0.5581315755844116},\"id\":\"1922\",\"type\":\"Label\"},{\"attributes\":{\"text\":\"oga\",\"x\":-3.5962324142456055,\"y\":-0.25633347034454346},\"id\":\"2030\",\"type\":\"Label\"},{\"attributes\":{\"text\":\"wanna\",\"x\":-0.9622838497161865,\"y\":-1.428360104560852},\"id\":\"1239\",\"type\":\"Label\"},{\"attributes\":{\"text\":\"school\",\"x\":-2.3900842666625977,\"y\":0.2996648848056793},\"id\":\"1347\",\"type\":\"Label\"},{\"attributes\":{\"text\":\"together\",\"x\":-4.555309772491455,\"y\":0.11236384510993958},\"id\":\"1455\",\"type\":\"Label\"},{\"attributes\":{\"text\":\"parties\",\"x\":5.786890506744385,\"y\":-0.749968409538269},\"id\":\"1923\",\"type\":\"Label\"},{\"attributes\":{\"text\":\"limping\",\"x\":-3.092930555343628,\"y\":-0.8506075739860535},\"id\":\"2031\",\"type\":\"Label\"},{\"attributes\":{\"text\":\"nothing\",\"x\":-0.631355881690979,\"y\":-2.056151866912842},\"id\":\"1240\",\"type\":\"Label\"},{\"attributes\":{\"text\":\"join\",\"x\":6.695887565612793,\"y\":-2.0026822090148926},\"id\":\"1348\",\"type\":\"Label\"},{\"attributes\":{\"text\":\"wants\",\"x\":-1.9947900772094727,\"y\":1.5760278701782227},\"id\":\"1456\",\"type\":\"Label\"},{\"attributes\":{\"text\":\"secure\",\"x\":-1.2322131395339966,\"y\":-0.9050692319869995},\"id\":\"1924\",\"type\":\"Label\"},{\"attributes\":{\"text\":\"fired\",\"x\":3.6651997566223145,\"y\":2.8540992736816406},\"id\":\"2032\",\"type\":\"Label\"},{\"attributes\":{\"text\":\"guess\",\"x\":-1.4194469451904297,\"y\":0.37405553460121155},\"id\":\"1241\",\"type\":\"Label\"},{\"attributes\":{\"text\":\"mail\",\"x\":-3.979639768600464,\"y\":-1.1232622861862183},\"id\":\"1349\",\"type\":\"Label\"},{\"attributes\":{\"text\":\"sad\",\"x\":-4.262817859649658,\"y\":-0.5701711773872375},\"id\":\"1457\",\"type\":\"Label\"},{\"attributes\":{\"text\":\"varma\",\"x\":-1.9895875453948975,\"y\":-2.502774953842163},\"id\":\"1925\",\"type\":\"Label\"},{\"attributes\":{\"text\":\"quarter\",\"x\":-2.737013816833496,\"y\":0.21552340686321259},\"id\":\"2033\",\"type\":\"Label\"},{\"attributes\":{\"text\":\"lot\",\"x\":-4.4413228034973145,\"y\":0.4059089422225952},\"id\":\"1242\",\"type\":\"Label\"},{\"attributes\":{\"text\":\"sexy\",\"x\":4.704492092132568,\"y\":-1.3392322063446045},\"id\":\"1350\",\"type\":\"Label\"},{\"attributes\":{\"text\":\"brother\",\"x\":-3.535472869873047,\"y\":-0.6633792519569397},\"id\":\"1458\",\"type\":\"Label\"},{\"attributes\":{\"text\":\"mailed\",\"x\":-1.3058948516845703,\"y\":0.2534898519515991},\"id\":\"1926\",\"type\":\"Label\"},{\"attributes\":{\"text\":\"santacalling\",\"x\":7.797220230102539,\"y\":-2.4147634506225586},\"id\":\"2034\",\"type\":\"Label\"},{\"attributes\":{\"text\":\"problem\",\"x\":-3.3187167644500732,\"y\":2.3072969913482666},\"id\":\"1243\",\"type\":\"Label\"},{\"attributes\":{\"text\":\"xmas\",\"x\":-3.380903959274292,\"y\":0.30239176750183105},\"id\":\"1351\",\"type\":\"Label\"},{\"attributes\":{\"text\":\"set\",\"x\":0.05270381271839142,\"y\":-1.5827149152755737},\"id\":\"1459\",\"type\":\"Label\"},{\"attributes\":{\"text\":\"deer\",\"x\":0.8133741021156311,\"y\":0.8809287548065186},\"id\":\"1927\",\"type\":\"Label\"},{\"attributes\":{\"text\":\"swayze\",\"x\":1.5986394882202148,\"y\":0.07956928759813309},\"id\":\"2035\",\"type\":\"Label\"},{\"attributes\":{\"text\":\"another\",\"x\":-3.6696231365203857,\"y\":-0.7811641693115234},\"id\":\"1244\",\"type\":\"Label\"},{\"attributes\":{\"text\":\"true\",\"x\":-0.5266526937484741,\"y\":-0.8113006353378296},\"id\":\"1352\",\"type\":\"Label\"},{\"attributes\":{\"text\":\"smiling\",\"x\":-2.7327864170074463,\"y\":-0.5178262591362},\"id\":\"1460\",\"type\":\"Label\"},{\"attributes\":{\"text\":\"mountain\",\"x\":1.7019317150115967,\"y\":1.3413840532302856},\"id\":\"1928\",\"type\":\"Label\"},{\"attributes\":{\"text\":\"patrick\",\"x\":0.5132388472557068,\"y\":1.0959103107452393},\"id\":\"2036\",\"type\":\"Label\"},{\"attributes\":{\"text\":\"liao\",\"x\":-2.1992995738983154,\"y\":-1.1171060800552368},\"id\":\"1245\",\"type\":\"Label\"},{\"attributes\":{\"text\":\"details\",\"x\":0.3034329116344452,\"y\":1.9639252424240112},\"id\":\"1353\",\"type\":\"Label\"},{\"attributes\":{\"text\":\"mean\",\"x\":-2.085731029510498,\"y\":0.9983085989952087},\"id\":\"1461\",\"type\":\"Label\"},{\"attributes\":{\"text\":\"frontierville\",\"x\":-1.9011341333389282,\"y\":-0.06679803133010864},\"id\":\"1929\",\"type\":\"Label\"},{\"attributes\":{\"text\":\"\"},\"id\":\"2037\",\"type\":\"Title\"},{\"attributes\":{\"text\":\"big\",\"x\":-4.4544172286987305,\"y\":0.37778857350349426},\"id\":\"1246\",\"type\":\"Label\"},{\"attributes\":{\"text\":\"entry\",\"x\":6.614205360412598,\"y\":-1.2352863550186157},\"id\":\"1354\",\"type\":\"Label\"},{\"attributes\":{\"text\":\"old\",\"x\":0.5668525099754333,\"y\":-0.7854381203651428},\"id\":\"1462\",\"type\":\"Label\"},{\"attributes\":{\"text\":\"chapel\",\"x\":-0.2364557832479477,\"y\":-0.09470124542713165},\"id\":\"1930\",\"type\":\"Label\"},{\"attributes\":{},\"id\":\"2039\",\"type\":\"BasicTickFormatter\"},{\"attributes\":{\"text\":\"shit\",\"x\":-3.397914171218872,\"y\":0.40898123383522034},\"id\":\"1247\",\"type\":\"Label\"},{\"attributes\":{\"text\":\"goes\",\"x\":-2.2962148189544678,\"y\":-0.2712181806564331},\"id\":\"1355\",\"type\":\"Label\"},{\"attributes\":{\"text\":\"points\",\"x\":7.097845554351807,\"y\":0.4824952781200409},\"id\":\"1463\",\"type\":\"Label\"},{\"attributes\":{\"text\":\"court\",\"x\":-2.588195562362671,\"y\":0.8282821774482727},\"id\":\"1931\",\"type\":\"Label\"},{\"attributes\":{\"data_source\":{\"id\":\"1032\"},\"glyph\":{\"id\":\"1033\"},\"hover_glyph\":null,\"muted_glyph\":null,\"nonselection_glyph\":{\"id\":\"1034\"},\"selection_glyph\":null,\"view\":{\"id\":\"1036\"}},\"id\":\"1035\",\"type\":\"GlyphRenderer\"},{\"attributes\":{\"text\":\"dinner\",\"x\":-2.611414909362793,\"y\":0.24450796842575073},\"id\":\"1248\",\"type\":\"Label\"},{\"attributes\":{\"text\":\"wanted\",\"x\":-3.4093189239501953,\"y\":0.6666951179504395},\"id\":\"1356\",\"type\":\"Label\"},{\"attributes\":{\"text\":\"leaving\",\"x\":-4.104715347290039,\"y\":-0.45231500267982483},\"id\":\"1464\",\"type\":\"Label\"},{\"attributes\":{\"text\":\"congratulation\",\"x\":-1.4817904233932495,\"y\":0.7372869253158569},\"id\":\"1932\",\"type\":\"Label\"},{\"attributes\":{},\"id\":\"2044\",\"type\":\"Selection\"},{\"attributes\":{\"text\":\"birthday\",\"x\":-2.9620113372802734,\"y\":1.3717565536499023},\"id\":\"1249\",\"type\":\"Label\"},{\"attributes\":{\"text\":\"pain\",\"x\":-1.3911277055740356,\"y\":1.015746831893921},\"id\":\"1357\",\"type\":\"Label\"},{\"attributes\":{\"text\":\"story\",\"x\":-1.8467620611190796,\"y\":3.230454444885254},\"id\":\"1465\",\"type\":\"Label\"},{\"attributes\":{\"text\":\"lips\",\"x\":0.3836885690689087,\"y\":4.506293773651123},\"id\":\"1933\",\"type\":\"Label\"},{\"attributes\":{\"text\":\"shows\",\"x\":6.677281379699707,\"y\":-1.5074915885925293},\"id\":\"1250\",\"type\":\"Label\"},{\"attributes\":{\"text\":\"means\",\"x\":-2.8641066551208496,\"y\":1.5705583095550537},\"id\":\"1358\",\"type\":\"Label\"},{\"attributes\":{\"text\":\"sleeping\",\"x\":-3.4437801837921143,\"y\":1.2327159643173218},\"id\":\"1466\",\"type\":\"Label\"},{\"attributes\":{\"text\":\"sexychat\",\"x\":1.556165337562561,\"y\":-1.2617504596710205},\"id\":\"1934\",\"type\":\"Label\"},{\"attributes\":{},\"id\":\"2041\",\"type\":\"BasicTickFormatter\"},{\"attributes\":{\"text\":\"girl\",\"x\":0.26400309801101685,\"y\":1.6702630519866943},\"id\":\"1251\",\"type\":\"Label\"},{\"attributes\":{\"text\":\"abt\",\"x\":-2.8944015502929688,\"y\":-0.3145740032196045},\"id\":\"1359\",\"type\":\"Label\"},{\"attributes\":{\"text\":\"noe\",\"x\":-2.6920061111450195,\"y\":0.5527072548866272},\"id\":\"1467\",\"type\":\"Label\"},{\"attributes\":{\"text\":\"sisters\",\"x\":-3.323091983795166,\"y\":0.0056803287006914616},\"id\":\"1935\",\"type\":\"Label\"},{\"attributes\":{},\"id\":\"2045\",\"type\":\"UnionRenderers\"},{\"attributes\":{\"text\":\"guys\",\"x\":0.17737628519535065,\"y\":-2.5794105529785156},\"id\":\"1252\",\"type\":\"Label\"},{\"attributes\":{\"text\":\"til\",\"x\":-1.5874180793762207,\"y\":4.421905517578125},\"id\":\"1360\",\"type\":\"Label\"},{\"attributes\":{\"text\":\"happen\",\"x\":-3.747490882873535,\"y\":-2.2260751724243164},\"id\":\"1468\",\"type\":\"Label\"},{\"attributes\":{\"text\":\"hopeing\",\"x\":-3.2219350337982178,\"y\":-0.5684794187545776},\"id\":\"1936\",\"type\":\"Label\"},{\"attributes\":{\"text\":\"start\",\"x\":0.1569458395242691,\"y\":-0.3299844563007355},\"id\":\"1253\",\"type\":\"Label\"},{\"attributes\":{\"text\":\"able\",\"x\":-3.552675247192383,\"y\":-0.4492086172103882},\"id\":\"1361\",\"type\":\"Label\"},{\"attributes\":{\"text\":\"ring\",\"x\":2.6682024002075195,\"y\":4.330697059631348},\"id\":\"1469\",\"type\":\"Label\"},{\"attributes\":{\"text\":\"torture\",\"x\":-1.5769113302230835,\"y\":-0.8544170260429382},\"id\":\"1937\",\"type\":\"Label\"},{\"attributes\":{\"text\":\"sweet\",\"x\":-4.061018466949463,\"y\":-0.07440101355314255},\"id\":\"1254\",\"type\":\"Label\"},{\"attributes\":{\"text\":\"hav\",\"x\":0.6616625189781189,\"y\":3.7419776916503906},\"id\":\"1362\",\"type\":\"Label\"},{\"attributes\":{\"text\":\"club\",\"x\":6.468730449676514,\"y\":-2.128344774246216},\"id\":\"1470\",\"type\":\"Label\"},{\"attributes\":{\"text\":\"yah\",\"x\":2.2456018924713135,\"y\":-0.3516765236854553},\"id\":\"1938\",\"type\":\"Label\"},{\"attributes\":{\"text\":\"luv\",\"x\":-3.8876421451568604,\"y\":0.8142604827880859},\"id\":\"1255\",\"type\":\"Label\"},{\"attributes\":{\"text\":\"important\",\"x\":7.11519718170166,\"y\":-0.7618125081062317},\"id\":\"1363\",\"type\":\"Label\"},{\"attributes\":{\"text\":\"charge\",\"x\":2.959838390350342,\"y\":1.6017121076583862},\"id\":\"1471\",\"type\":\"Label\"},{\"attributes\":{\"text\":\"hearin\",\"x\":-0.5975582003593445,\"y\":1.0273816585540771},\"id\":\"1939\",\"type\":\"Label\"},{\"attributes\":{\"text\":\"nmde\",\"x\":1.8225274085998535,\"y\":-1.2930150032043457},\"id\":\"1544\",\"type\":\"Label\"},{\"attributes\":{\"text\":\"asda\",\"x\":1.9748890399932861,\"y\":0.7053975462913513},\"id\":\"1652\",\"type\":\"Label\"},{\"attributes\":{\"text\":\"dental\",\"x\":0.698621392250061,\"y\":-0.34846314787864685},\"id\":\"1545\",\"type\":\"Label\"},{\"attributes\":{\"text\":\"yoville\",\"x\":1.1174770593643188,\"y\":0.17865948379039764},\"id\":\"1653\",\"type\":\"Label\"},{\"attributes\":{\"text\":\"accent\",\"x\":1.0362392663955688,\"y\":0.3551473617553711},\"id\":\"1546\",\"type\":\"Label\"},{\"attributes\":{\"text\":\"ooooooh\",\"x\":1.5101298093795776,\"y\":0.10662136971950531},\"id\":\"1654\",\"type\":\"Label\"},{\"attributes\":{\"text\":\"units\",\"x\":1.2299326658248901,\"y\":-1.108660340309143},\"id\":\"1547\",\"type\":\"Label\"},{\"attributes\":{\"text\":\"ajith\",\"x\":-1.13400137424469,\"y\":1.7988675832748413},\"id\":\"1655\",\"type\":\"Label\"},{\"attributes\":{\"text\":\"pshew\",\"x\":0.07541944086551666,\"y\":-0.28626954555511475},\"id\":\"1548\",\"type\":\"Label\"},{\"attributes\":{\"text\":\"forgt\",\"x\":2.1364119052886963,\"y\":0.5132441520690918},\"id\":\"1656\",\"type\":\"Label\"},{\"attributes\":{\"text\":\"shud\",\"x\":1.8433070182800293,\"y\":3.6253113746643066},\"id\":\"1549\",\"type\":\"Label\"},{\"attributes\":{\"text\":\"helps\",\"x\":0.954940676689148,\"y\":0.8353309631347656},\"id\":\"1657\",\"type\":\"Label\"},{\"attributes\":{},\"id\":\"1006\",\"type\":\"LinearScale\"},{\"attributes\":{\"text\":\"kane\",\"x\":0.7442718744277954,\"y\":4.04360294342041},\"id\":\"1550\",\"type\":\"Label\"},{\"attributes\":{\"text\":\"lands\",\"x\":1.772868275642395,\"y\":-0.04276292026042938},\"id\":\"1658\",\"type\":\"Label\"},{\"attributes\":{\"text\":\"call\",\"x\":5.779128074645996,\"y\":-1.367203712463379},\"id\":\"1037\",\"type\":\"Label\"},{\"attributes\":{\"text\":\"influx\",\"x\":-0.4380675256252289,\"y\":-0.782427966594696},\"id\":\"1551\",\"type\":\"Label\"},{\"attributes\":{\"text\":\"suggestion\",\"x\":1.4514501094818115,\"y\":0.6727415323257446},\"id\":\"1659\",\"type\":\"Label\"},{\"attributes\":{\"text\":\"sudden\",\"x\":-2.592822313308716,\"y\":1.224571943283081},\"id\":\"1552\",\"type\":\"Label\"},{\"attributes\":{\"text\":\"thou\",\"x\":-1.5235804319381714,\"y\":1.318131685256958},\"id\":\"1660\",\"type\":\"Label\"},{\"attributes\":{},\"id\":\"1002\",\"type\":\"DataRange1d\"},{\"attributes\":{\"text\":\"barring\",\"x\":-0.655178427696228,\"y\":0.15724898874759674},\"id\":\"1553\",\"type\":\"Label\"},{\"attributes\":{\"text\":\"dreading\",\"x\":-2.9627370834350586,\"y\":0.9906151294708252},\"id\":\"1661\",\"type\":\"Label\"},{\"attributes\":{},\"id\":\"1004\",\"type\":\"DataRange1d\"},{\"attributes\":{\"text\":\"spiritual\",\"x\":0.0560658723115921,\"y\":0.8893508911132812},\"id\":\"1554\",\"type\":\"Label\"},{\"attributes\":{\"text\":\"maintaining\",\"x\":-2.8280093669891357,\"y\":-0.4180034101009369},\"id\":\"1662\",\"type\":\"Label\"},{\"attributes\":{},\"id\":\"1008\",\"type\":\"LinearScale\"},{\"attributes\":{\"text\":\"cribbs\",\"x\":2.170504331588745,\"y\":0.812650203704834},\"id\":\"1555\",\"type\":\"Label\"},{\"attributes\":{\"text\":\"squeezed\",\"x\":-2.6229031085968018,\"y\":-0.5166155695915222},\"id\":\"1663\",\"type\":\"Label\"},{\"attributes\":{\"formatter\":{\"id\":\"2039\"},\"ticker\":{\"id\":\"1011\"}},\"id\":\"1010\",\"type\":\"LinearAxis\"},{\"attributes\":{\"text\":\"belt\",\"x\":-3.6579501628875732,\"y\":1.0534287691116333},\"id\":\"1556\",\"type\":\"Label\"},{\"attributes\":{\"text\":\"spacebucks\",\"x\":-2.9098892211914062,\"y\":0.8340319395065308},\"id\":\"1664\",\"type\":\"Label\"},{\"attributes\":{},\"id\":\"1011\",\"type\":\"BasicTicker\"},{\"attributes\":{\"text\":\"hat\",\"x\":-1.4710232019424438,\"y\":-2.7717416286468506},\"id\":\"1557\",\"type\":\"Label\"},{\"attributes\":{\"text\":\"psp\",\"x\":0.0771196261048317,\"y\":0.4350406527519226},\"id\":\"1665\",\"type\":\"Label\"},{\"attributes\":{\"axis\":{\"id\":\"1010\"},\"ticker\":null},\"id\":\"1013\",\"type\":\"Grid\"},{\"attributes\":{\"text\":\"jumpers\",\"x\":-2.493434190750122,\"y\":-1.2825123071670532},\"id\":\"1558\",\"type\":\"Label\"},{\"attributes\":{\"text\":\"pause\",\"x\":7.002182483673096,\"y\":0.5393218994140625},\"id\":\"1666\",\"type\":\"Label\"},{\"attributes\":{\"formatter\":{\"id\":\"2041\"},\"ticker\":{\"id\":\"1015\"}},\"id\":\"1014\",\"type\":\"LinearAxis\"},{\"attributes\":{\"text\":\"childporn\",\"x\":-3.8347408771514893,\"y\":0.0638110414147377},\"id\":\"1559\",\"type\":\"Label\"},{\"attributes\":{\"text\":\"leading\",\"x\":8.647893905639648,\"y\":-0.4619135856628418},\"id\":\"1667\",\"type\":\"Label\"},{\"attributes\":{},\"id\":\"1015\",\"type\":\"BasicTicker\"},{\"attributes\":{\"text\":\"desk\",\"x\":-2.079122543334961,\"y\":3.4618234634399414},\"id\":\"1560\",\"type\":\"Label\"},{\"attributes\":{\"text\":\"helping\",\"x\":-2.930034637451172,\"y\":-1.8116611242294312},\"id\":\"1668\",\"type\":\"Label\"},{\"attributes\":{\"axis\":{\"id\":\"1014\"},\"dimension\":1,\"ticker\":null},\"id\":\"1017\",\"type\":\"Grid\"},{\"attributes\":{\"text\":\"mouse\",\"x\":-1.364924430847168,\"y\":0.9542807936668396},\"id\":\"1561\",\"type\":\"Label\"},{\"attributes\":{\"text\":\"sane\",\"x\":-2.1157164573669434,\"y\":-1.6935508251190186},\"id\":\"1669\",\"type\":\"Label\"},{\"attributes\":{\"text\":\"bailiff\",\"x\":-0.8187388181686401,\"y\":1.3320634365081787},\"id\":\"1562\",\"type\":\"Label\"},{\"attributes\":{\"text\":\"coincidence\",\"x\":7.681169033050537,\"y\":-0.717810869216919},\"id\":\"1670\",\"type\":\"Label\"},{\"attributes\":{\"text\":\"servs\",\"x\":2.6223533153533936,\"y\":0.10617528110742569},\"id\":\"1563\",\"type\":\"Label\"},{\"attributes\":{\"text\":\"dept\",\"x\":6.836312294006348,\"y\":0.8766434788703918},\"id\":\"1671\",\"type\":\"Label\"},{\"attributes\":{\"text\":\"inclu\",\"x\":1.8961701393127441,\"y\":0.16507841646671295},\"id\":\"1564\",\"type\":\"Label\"},{\"attributes\":{\"text\":\"ecstacy\",\"x\":7.124197959899902,\"y\":0.5256349444389343},\"id\":\"1672\",\"type\":\"Label\"},{\"attributes\":{},\"id\":\"1018\",\"type\":\"PanTool\"},{\"attributes\":{\"text\":\"chatlines\",\"x\":1.5778998136520386,\"y\":0.18539725244045258},\"id\":\"1565\",\"type\":\"Label\"},{\"attributes\":{\"text\":\"erotic\",\"x\":7.698990345001221,\"y\":1.5711116790771484},\"id\":\"1673\",\"type\":\"Label\"},{\"attributes\":{},\"id\":\"1019\",\"type\":\"WheelZoomTool\"},{\"attributes\":{\"text\":\"gsex\",\"x\":2.1006875038146973,\"y\":0.4164918065071106},\"id\":\"1566\",\"type\":\"Label\"},{\"attributes\":{\"text\":\"percent\",\"x\":-1.2909843921661377,\"y\":1.03276789188385},\"id\":\"1674\",\"type\":\"Label\"},{\"attributes\":{\"overlay\":{\"id\":\"1024\"}},\"id\":\"1020\",\"type\":\"BoxZoomTool\"},{\"attributes\":{\"text\":\"chief\",\"x\":0.46828898787498474,\"y\":2.1416590213775635},\"id\":\"1567\",\"type\":\"Label\"},{\"attributes\":{\"text\":\"mentor\",\"x\":0.6981614828109741,\"y\":-0.012903671711683273},\"id\":\"1675\",\"type\":\"Label\"},{\"attributes\":{},\"id\":\"1021\",\"type\":\"SaveTool\"},{\"attributes\":{\"text\":\"adventuring\",\"x\":-0.8812608122825623,\"y\":2.0915939807891846},\"id\":\"1568\",\"type\":\"Label\"},{\"attributes\":{\"text\":\"forget\",\"x\":1.9516469240188599,\"y\":-1.4685994386672974},\"id\":\"1507\",\"type\":\"Label\"},{\"attributes\":{\"text\":\"slacking\",\"x\":-1.6951849460601807,\"y\":0.059056010097265244},\"id\":\"1676\",\"type\":\"Label\"},{\"attributes\":{},\"id\":\"1022\",\"type\":\"ResetTool\"},{\"attributes\":{\"text\":\"compliments\",\"x\":2.2135770320892334,\"y\":-2.431952476501465},\"id\":\"1569\",\"type\":\"Label\"},{\"attributes\":{\"text\":\"astrology\",\"x\":-4.159213542938232,\"y\":-0.5230282545089722},\"id\":\"1677\",\"type\":\"Label\"},{\"attributes\":{},\"id\":\"1023\",\"type\":\"HelpTool\"},{\"attributes\":{\"text\":\"tantrum\",\"x\":-1.770342230796814,\"y\":-1.0454002618789673},\"id\":\"1570\",\"type\":\"Label\"},{\"attributes\":{\"text\":\"guai\",\"x\":2.2565183639526367,\"y\":0.12046787887811661},\"id\":\"1678\",\"type\":\"Label\"},{\"attributes\":{\"active_drag\":\"auto\",\"active_inspect\":\"auto\",\"active_multi\":null,\"active_scroll\":\"auto\",\"active_tap\":\"auto\",\"tools\":[{\"id\":\"1018\"},{\"id\":\"1019\"},{\"id\":\"1020\"},{\"id\":\"1021\"},{\"id\":\"1022\"},{\"id\":\"1023\"}]},\"id\":\"1025\",\"type\":\"Toolbar\"},{\"attributes\":{\"text\":\"irritation\",\"x\":-2.6912648677825928,\"y\":0.2070532590150833},\"id\":\"1571\",\"type\":\"Label\"},{\"attributes\":{\"text\":\"upcharge\",\"x\":-1.1368945837020874,\"y\":-0.7516887784004211},\"id\":\"1679\",\"type\":\"Label\"},{\"attributes\":{\"text\":\"disappointment\",\"x\":0.9209019541740417,\"y\":0.02582167461514473},\"id\":\"1572\",\"type\":\"Label\"},{\"attributes\":{\"text\":\"openings\",\"x\":-2.058670997619629,\"y\":-1.1803795099258423},\"id\":\"1680\",\"type\":\"Label\"},{\"attributes\":{\"text\":\"declare\",\"x\":2.930438280105591,\"y\":-1.05245840549469},\"id\":\"1573\",\"type\":\"Label\"},{\"attributes\":{\"text\":\"subsequent\",\"x\":3.52669620513916,\"y\":0.6203303933143616},\"id\":\"1681\",\"type\":\"Label\"},{\"attributes\":{\"text\":\"chic\",\"x\":-0.3879484236240387,\"y\":-0.17422513663768768},\"id\":\"1574\",\"type\":\"Label\"},{\"attributes\":{\"text\":\"follows\",\"x\":6.595496654510498,\"y\":0.47148993611335754},\"id\":\"1682\",\"type\":\"Label\"},{\"attributes\":{\"text\":\"colany\",\"x\":-0.5303859114646912,\"y\":1.2108410596847534},\"id\":\"1575\",\"type\":\"Label\"},{\"attributes\":{\"text\":\"stink\",\"x\":1.8348617553710938,\"y\":-0.7679822444915771},\"id\":\"1683\",\"type\":\"Label\"},{\"attributes\":{\"text\":\"take\",\"x\":-0.3462426960468292,\"y\":-2.347829818725586},\"id\":\"1066\",\"type\":\"Label\"},{\"attributes\":{\"text\":\"saibaba\",\"x\":-1.2805720567703247,\"y\":-0.5669901967048645},\"id\":\"1576\",\"type\":\"Label\"},{\"attributes\":{\"text\":\"jerk\",\"x\":2.567549467086792,\"y\":0.0619385652244091},\"id\":\"1684\",\"type\":\"Label\"},{\"attributes\":{\"bottom_units\":\"screen\",\"fill_alpha\":0.5,\"fill_color\":\"lightgrey\",\"left_units\":\"screen\",\"level\":\"overlay\",\"line_alpha\":1.0,\"line_color\":\"black\",\"line_dash\":[4,4],\"line_width\":2,\"right_units\":\"screen\",\"top_units\":\"screen\"},\"id\":\"1024\",\"type\":\"BoxAnnotation\"},{\"attributes\":{\"text\":\"referin\",\"x\":-0.22290439903736115,\"y\":-0.9545907378196716},\"id\":\"1577\",\"type\":\"Label\"},{\"attributes\":{\"text\":\"costume\",\"x\":-3.2548630237579346,\"y\":0.336066871881485},\"id\":\"1685\",\"type\":\"Label\"},{\"attributes\":{\"text\":\"get\",\"x\":0.4790223240852356,\"y\":-0.552038848400116},\"id\":\"1038\",\"type\":\"Label\"},{\"attributes\":{\"text\":\"young\",\"x\":1.1471996307373047,\"y\":1.8524020910263062},\"id\":\"1578\",\"type\":\"Label\"},{\"attributes\":{\"text\":\"grownup\",\"x\":2.7680273056030273,\"y\":-0.04698697850108147},\"id\":\"1686\",\"type\":\"Label\"},{\"attributes\":{\"text\":\"free\",\"x\":4.93195104598999,\"y\":-0.37910446524620056},\"id\":\"1039\",\"type\":\"Label\"},{\"attributes\":{\"text\":\"reassuring\",\"x\":-1.9664888381958008,\"y\":-0.36012065410614014},\"id\":\"1579\",\"type\":\"Label\"},{\"attributes\":{\"text\":\"chex\",\"x\":-0.01527393888682127,\"y\":1.5612324476242065},\"id\":\"1687\",\"type\":\"Label\"},{\"attributes\":{\"text\":\"service\",\"x\":8.799274444580078,\"y\":1.3270821571350098},\"id\":\"1148\",\"type\":\"Label\"},{\"attributes\":{\"text\":\"bad\",\"x\":-3.546804189682007,\"y\":-0.5824139714241028},\"id\":\"1292\",\"type\":\"Label\"},{\"attributes\":{\"text\":\"failure\",\"x\":-0.29776620864868164,\"y\":1.5189727544784546},\"id\":\"1760\",\"type\":\"Label\"},{\"attributes\":{\"text\":\"perumbavoor\",\"x\":-2.399367094039917,\"y\":-0.038666121661663055},\"id\":\"1868\",\"type\":\"Label\"},{\"attributes\":{\"text\":\"tone\",\"x\":6.6731343269348145,\"y\":-0.4343854784965515},\"id\":\"1149\",\"type\":\"Label\"},{\"attributes\":{\"text\":\"princess\",\"x\":-4.816439628601074,\"y\":0.01825878955423832},\"id\":\"1293\",\"type\":\"Label\"},{\"attributes\":{\"text\":\"bawling\",\"x\":2.555659532546997,\"y\":1.217271089553833},\"id\":\"1761\",\"type\":\"Label\"},{\"attributes\":{\"text\":\"dudette\",\"x\":1.5689455270767212,\"y\":-1.7141317129135132},\"id\":\"1869\",\"type\":\"Label\"},{\"attributes\":{\"text\":\"tonight\",\"x\":-3.7537457942962646,\"y\":-0.4174463152885437},\"id\":\"1150\",\"type\":\"Label\"},{\"attributes\":{\"text\":\"fun\",\"x\":3.946387529373169,\"y\":-3.0896453857421875},\"id\":\"1294\",\"type\":\"Label\"},{\"attributes\":{\"text\":\"colourful\",\"x\":-1.4608099460601807,\"y\":0.6851068735122681},\"id\":\"1762\",\"type\":\"Label\"},{\"attributes\":{\"text\":\"approved\",\"x\":-0.9703701138496399,\"y\":-2.019301652908325},\"id\":\"1870\",\"type\":\"Label\"},{\"attributes\":{\"text\":\"late\",\"x\":-2.6428990364074707,\"y\":3.0440833568573},\"id\":\"1151\",\"type\":\"Label\"},{\"attributes\":{\"text\":\"code\",\"x\":6.93989896774292,\"y\":0.4207654595375061},\"id\":\"1295\",\"type\":\"Label\"},{\"attributes\":{\"text\":\"vibrant\",\"x\":-0.9084972143173218,\"y\":0.9598402976989746},\"id\":\"1763\",\"type\":\"Label\"},{\"attributes\":{\"text\":\"adsense\",\"x\":-0.6538584232330322,\"y\":1.0534833669662476},\"id\":\"1871\",\"type\":\"Label\"},{\"attributes\":{\"text\":\"many\",\"x\":-0.666938841342926,\"y\":-2.87894344329834},\"id\":\"1152\",\"type\":\"Label\"},{\"attributes\":{\"text\":\"pay\",\"x\":-3.2073159217834473,\"y\":1.2202295064926147},\"id\":\"1296\",\"type\":\"Label\"},{\"attributes\":{\"text\":\"tranquility\",\"x\":-2.4612860679626465,\"y\":-0.18936289846897125},\"id\":\"1764\",\"type\":\"Label\"},{\"attributes\":{\"text\":\"inconvenient\",\"x\":-0.8260777592658997,\"y\":-0.21535901725292206},\"id\":\"1872\",\"type\":\"Label\"},{\"attributes\":{\"text\":\"per\",\"x\":5.63543176651001,\"y\":-0.49369460344314575},\"id\":\"1153\",\"type\":\"Label\"},{\"attributes\":{\"text\":\"left\",\"x\":2.1235625743865967,\"y\":0.7348822951316833},\"id\":\"1297\",\"type\":\"Label\"},{\"attributes\":{\"text\":\"stability\",\"x\":-2.7778265476226807,\"y\":-1.0422121286392212},\"id\":\"1765\",\"type\":\"Label\"},{\"attributes\":{\"text\":\"darkest\",\"x\":8.657295227050781,\"y\":-0.9862332940101624},\"id\":\"1873\",\"type\":\"Label\"},{\"attributes\":{\"text\":\"customer\",\"x\":6.546451568603516,\"y\":-1.1197733879089355},\"id\":\"1154\",\"type\":\"Label\"},{\"attributes\":{\"text\":\"ringtone\",\"x\":9.022364616394043,\"y\":1.0298346281051636},\"id\":\"1298\",\"type\":\"Label\"},{\"attributes\":{\"text\":\"wenever\",\"x\":-1.7713303565979004,\"y\":-1.807480812072754},\"id\":\"1766\",\"type\":\"Label\"},{\"attributes\":{\"text\":\"deepest\",\"x\":4.046914100646973,\"y\":-1.359046220779419},\"id\":\"1874\",\"type\":\"Label\"},{\"attributes\":{\"text\":\"gonna\",\"x\":-3.1237120628356934,\"y\":0.532715916633606},\"id\":\"1155\",\"type\":\"Label\"},{\"attributes\":{\"text\":\"look\",\"x\":-3.9915385246276855,\"y\":-0.8024834394454956},\"id\":\"1299\",\"type\":\"Label\"},{\"attributes\":{\"text\":\"unintentionally\",\"x\":-1.9648061990737915,\"y\":-0.5236318707466125},\"id\":\"1767\",\"type\":\"Label\"},{\"attributes\":{\"text\":\"crossing\",\"x\":2.245577335357666,\"y\":-0.953148603439331},\"id\":\"1875\",\"type\":\"Label\"},{\"attributes\":{\"text\":\"help\",\"x\":1.643390417098999,\"y\":-1.3541581630706787},\"id\":\"1156\",\"type\":\"Label\"},{\"attributes\":{\"text\":\"part\",\"x\":2.4212684631347656,\"y\":-3.6369595527648926},\"id\":\"1300\",\"type\":\"Label\"},{\"attributes\":{\"text\":\"princes\",\"x\":-0.9868649244308472,\"y\":-1.7446699142456055},\"id\":\"1768\",\"type\":\"Label\"},{\"attributes\":{\"text\":\"meg\",\"x\":5.219259262084961,\"y\":-0.20282940566539764},\"id\":\"1876\",\"type\":\"Label\"},{\"attributes\":{\"text\":\"chat\",\"x\":6.595307350158691,\"y\":-0.5028090476989746},\"id\":\"1157\",\"type\":\"Label\"},{\"attributes\":{\"text\":\"easy\",\"x\":0.563064694404602,\"y\":0.08285637199878693},\"id\":\"1301\",\"type\":\"Label\"},{\"attributes\":{\"text\":\"helens\",\"x\":-3.110280990600586,\"y\":-0.6730430126190186},\"id\":\"1769\",\"type\":\"Label\"},{\"attributes\":{\"text\":\"noise\",\"x\":-0.07794829457998276,\"y\":-1.309013843536377},\"id\":\"1877\",\"type\":\"Label\"},{\"attributes\":{\"text\":\"sleep\",\"x\":-4.061997890472412,\"y\":-1.7606110572814941},\"id\":\"1158\",\"type\":\"Label\"},{\"attributes\":{\"text\":\"reach\",\"x\":-2.757797956466675,\"y\":-0.17575497925281525},\"id\":\"1302\",\"type\":\"Label\"},{\"attributes\":{\"text\":\"turkeys\",\"x\":-0.3454754054546356,\"y\":-1.821559190750122},\"id\":\"1770\",\"type\":\"Label\"},{\"attributes\":{\"text\":\"puppy\",\"x\":-0.5003302097320557,\"y\":-0.8831417560577393},\"id\":\"1878\",\"type\":\"Label\"},{\"attributes\":{\"text\":\"always\",\"x\":-3.939190626144409,\"y\":2.1001639366149902},\"id\":\"1159\",\"type\":\"Label\"},{\"attributes\":{\"text\":\"shopping\",\"x\":-4.223132610321045,\"y\":-0.13170838356018066},\"id\":\"1303\",\"type\":\"Label\"},{\"attributes\":{\"text\":\"patients\",\"x\":-0.9087902903556824,\"y\":0.10964680463075638},\"id\":\"1771\",\"type\":\"Label\"},{\"attributes\":{\"text\":\"n\\u00ec\\u00e2te\",\"x\":1.3877757787704468,\"y\":-0.5898001194000244},\"id\":\"1879\",\"type\":\"Label\"},{\"attributes\":{\"text\":\"sms\",\"x\":4.763053894042969,\"y\":0.9500586986541748},\"id\":\"1160\",\"type\":\"Label\"},{\"attributes\":{\"text\":\"baby\",\"x\":-1.6763575077056885,\"y\":-0.19326798617839813},\"id\":\"1304\",\"type\":\"Label\"},{\"attributes\":{\"text\":\"unlike\",\"x\":2.190086841583252,\"y\":-0.8100133538246155},\"id\":\"1772\",\"type\":\"Label\"},{\"attributes\":{\"text\":\"mountains\",\"x\":0.5577092170715332,\"y\":-0.4703739881515503},\"id\":\"1880\",\"type\":\"Label\"},{\"attributes\":{\"text\":\"leave\",\"x\":-3.9002957344055176,\"y\":0.3581627309322357},\"id\":\"1161\",\"type\":\"Label\"},{\"attributes\":{\"text\":\"dunno\",\"x\":-4.651345252990723,\"y\":-0.3600076735019684},\"id\":\"1305\",\"type\":\"Label\"},{\"attributes\":{\"text\":\"owed\",\"x\":2.7563159465789795,\"y\":0.087775819003582},\"id\":\"1773\",\"type\":\"Label\"},{\"attributes\":{\"text\":\"rencontre\",\"x\":-2.082369089126587,\"y\":0.4898545742034912},\"id\":\"1881\",\"type\":\"Label\"},{\"attributes\":{\"text\":\"dun\",\"x\":-3.47701358795166,\"y\":-0.6563923954963684},\"id\":\"1162\",\"type\":\"Label\"},{\"attributes\":{\"text\":\"orange\",\"x\":4.342438697814941,\"y\":-0.9984195828437805},\"id\":\"1306\",\"type\":\"Label\"},{\"attributes\":{\"text\":\"diapers\",\"x\":3.4152283668518066,\"y\":-0.008123219013214111},\"id\":\"1774\",\"type\":\"Label\"},{\"attributes\":{\"text\":\"amma\",\"x\":-3.1369264125823975,\"y\":-1.061769962310791},\"id\":\"1882\",\"type\":\"Label\"},{\"attributes\":{\"text\":\"friends\",\"x\":-1.9472671747207642,\"y\":1.4821194410324097},\"id\":\"1163\",\"type\":\"Label\"},{\"attributes\":{\"text\":\"office\",\"x\":-6.767598628997803,\"y\":-1.2457871437072754},\"id\":\"1307\",\"type\":\"Label\"},{\"attributes\":{\"text\":\"changing\",\"x\":3.289654493331909,\"y\":-0.22958481311798096},\"id\":\"1775\",\"type\":\"Label\"},{\"attributes\":{\"text\":\"achan\",\"x\":-4.370296001434326,\"y\":-1.5201319456100464},\"id\":\"1883\",\"type\":\"Label\"},{\"attributes\":{\"text\":\"gud\",\"x\":-2.596120595932007,\"y\":-0.7407352328300476},\"id\":\"1164\",\"type\":\"Label\"},{\"attributes\":{\"text\":\"kiss\",\"x\":-2.4852449893951416,\"y\":-1.2627276182174683},\"id\":\"1308\",\"type\":\"Label\"},{\"attributes\":{\"text\":\"bennys\",\"x\":3.1474533081054688,\"y\":-1.31146240234375},\"id\":\"1776\",\"type\":\"Label\"},{\"attributes\":{\"text\":\"clover\",\"x\":-3.1619272232055664,\"y\":1.4703595638275146},\"id\":\"1884\",\"type\":\"Label\"},{\"attributes\":{\"text\":\"wan\",\"x\":-1.8438483476638794,\"y\":-0.5773776173591614},\"id\":\"1165\",\"type\":\"Label\"},{\"attributes\":{\"text\":\"dis\",\"x\":-0.4671624004840851,\"y\":2.293625831604004},\"id\":\"1309\",\"type\":\"Label\"},{\"attributes\":{\"text\":\"frankie\",\"x\":0.6651745438575745,\"y\":0.5021464824676514},\"id\":\"1777\",\"type\":\"Label\"},{\"attributes\":{\"text\":\"landing\",\"x\":2.6916840076446533,\"y\":1.8064161539077759},\"id\":\"1885\",\"type\":\"Label\"},{\"attributes\":{\"text\":\"things\",\"x\":-0.9908290505409241,\"y\":0.9363155961036682},\"id\":\"1166\",\"type\":\"Label\"},{\"attributes\":{\"text\":\"little\",\"x\":1.5958356857299805,\"y\":-0.5641661882400513},\"id\":\"1310\",\"type\":\"Label\"},{\"attributes\":{\"text\":\"pubs\",\"x\":-1.7662076950073242,\"y\":1.061278223991394},\"id\":\"1778\",\"type\":\"Label\"},{\"attributes\":{\"text\":\"mileage\",\"x\":1.3786612749099731,\"y\":-1.3627619743347168},\"id\":\"1886\",\"type\":\"Label\"},{\"attributes\":{\"text\":\"told\",\"x\":-1.924340844154358,\"y\":1.775800347328186},\"id\":\"1167\",\"type\":\"Label\"},{\"attributes\":{\"text\":\"leh\",\"x\":-2.6252126693725586,\"y\":-1.0655765533447266},\"id\":\"1311\",\"type\":\"Label\"},{\"attributes\":{\"text\":\"grocers\",\"x\":-4.190685749053955,\"y\":1.0836185216903687},\"id\":\"1779\",\"type\":\"Label\"},{\"attributes\":{\"text\":\"olayiwola\",\"x\":4.955046653747559,\"y\":0.31804606318473816},\"id\":\"1887\",\"type\":\"Label\"},{\"attributes\":{\"text\":\"wish\",\"x\":-1.2907297611236572,\"y\":2.9960625171661377},\"id\":\"1168\",\"type\":\"Label\"},{\"attributes\":{\"text\":\"face\",\"x\":0.7335435152053833,\"y\":3.9756953716278076},\"id\":\"1312\",\"type\":\"Label\"},{\"attributes\":{\"text\":\"sday\",\"x\":1.5932422876358032,\"y\":0.39906424283981323},\"id\":\"1780\",\"type\":\"Label\"},{\"attributes\":{\"text\":\"camry\",\"x\":3.730011463165283,\"y\":0.22744077444076538},\"id\":\"1888\",\"type\":\"Label\"},{\"attributes\":{\"text\":\"hello\",\"x\":-1.6225156784057617,\"y\":1.4782955646514893},\"id\":\"1169\",\"type\":\"Label\"},{\"attributes\":{\"text\":\"didnt\",\"x\":-1.6908364295959473,\"y\":0.2805441617965698},\"id\":\"1313\",\"type\":\"Label\"},{\"attributes\":{\"text\":\"perfume\",\"x\":-3.0383622646331787,\"y\":-0.43438252806663513},\"id\":\"1781\",\"type\":\"Label\"},{\"attributes\":{\"text\":\"toyota\",\"x\":1.9186304807662964,\"y\":0.5246478319168091},\"id\":\"1889\",\"type\":\"Label\"},{\"attributes\":{\"text\":\"waiting\",\"x\":5.760415554046631,\"y\":-1.017404317855835},\"id\":\"1170\",\"type\":\"Label\"},{\"attributes\":{\"text\":\"hour\",\"x\":-3.2870943546295166,\"y\":2.2752087116241455},\"id\":\"1314\",\"type\":\"Label\"},{\"attributes\":{\"text\":\"goigng\",\"x\":-2.6236279010772705,\"y\":-0.3343542218208313},\"id\":\"1782\",\"type\":\"Label\"},{\"attributes\":{\"text\":\"freeentry\",\"x\":2.0565104484558105,\"y\":-0.14077609777450562},\"id\":\"1890\",\"type\":\"Label\"},{\"attributes\":{\"text\":\"fine\",\"x\":-3.3480706214904785,\"y\":2.0890676975250244},\"id\":\"1171\",\"type\":\"Label\"},{\"attributes\":{\"text\":\"network\",\"x\":5.5910444259643555,\"y\":0.5316869020462036},\"id\":\"1315\",\"type\":\"Label\"},{\"attributes\":{\"text\":\"savings\",\"x\":-2.2453346252441406,\"y\":-2.345777988433838},\"id\":\"1783\",\"type\":\"Label\"},{\"attributes\":{\"text\":\"travelled\",\"x\":0.030733244493603706,\"y\":-1.2469117641448975},\"id\":\"1891\",\"type\":\"Label\"},{\"attributes\":{\"text\":\"friend\",\"x\":1.9787026643753052,\"y\":-3.1366093158721924},\"id\":\"1172\",\"type\":\"Label\"},{\"attributes\":{\"text\":\"selected\",\"x\":7.357325553894043,\"y\":-0.08796457946300507},\"id\":\"1316\",\"type\":\"Label\"},{\"attributes\":{\"text\":\"zeros\",\"x\":-3.7114944458007812,\"y\":-1.8402976989746094},\"id\":\"1784\",\"type\":\"Label\"},{\"attributes\":{\"text\":\"ayo\",\"x\":-3.3015010356903076,\"y\":1.2828857898712158},\"id\":\"1892\",\"type\":\"Label\"},{\"attributes\":{\"text\":\"special\",\"x\":7.208731651306152,\"y\":-1.253388524055481},\"id\":\"1173\",\"type\":\"Label\"},{\"attributes\":{\"text\":\"enough\",\"x\":1.6241129636764526,\"y\":-1.641951322555542},\"id\":\"1317\",\"type\":\"Label\"},{\"attributes\":{\"text\":\"adding\",\"x\":-4.0762152671813965,\"y\":-0.8901804089546204},\"id\":\"1785\",\"type\":\"Label\"},{\"attributes\":{\"text\":\"punto\",\"x\":1.2287404537200928,\"y\":-1.0756646394729614},\"id\":\"1893\",\"type\":\"Label\"},{\"attributes\":{\"text\":\"haha\",\"x\":-2.4686503410339355,\"y\":-0.5016515851020813},\"id\":\"1174\",\"type\":\"Label\"},{\"attributes\":{\"text\":\"thank\",\"x\":-2.064913749694824,\"y\":-0.1456315964460373},\"id\":\"1318\",\"type\":\"Label\"},{\"attributes\":{\"text\":\"ibored\",\"x\":1.8266956806182861,\"y\":0.7651510238647461},\"id\":\"1786\",\"type\":\"Label\"},{\"attributes\":{\"text\":\"baller\",\"x\":-1.1416147947311401,\"y\":0.5723163485527039},\"id\":\"1894\",\"type\":\"Label\"},{\"attributes\":{\"text\":\"coming\",\"x\":-3.204969882965088,\"y\":1.7150707244873047},\"id\":\"1175\",\"type\":\"Label\"},{\"attributes\":{\"text\":\"bus\",\"x\":-3.198507308959961,\"y\":-0.6238982677459717},\"id\":\"1319\",\"type\":\"Label\"},{\"attributes\":{\"text\":\"okors\",\"x\":1.9641131162643433,\"y\":-1.6832195520401},\"id\":\"1787\",\"type\":\"Label\"},{\"attributes\":{\"text\":\"hmph\",\"x\":4.077873706817627,\"y\":0.8134331703186035},\"id\":\"1895\",\"type\":\"Label\"},{\"attributes\":{\"text\":\"may\",\"x\":-0.635675311088562,\"y\":1.5962626934051514},\"id\":\"1176\",\"type\":\"Label\"},{\"attributes\":{\"text\":\"looking\",\"x\":5.907763957977295,\"y\":1.6997871398925781},\"id\":\"1320\",\"type\":\"Label\"},{\"attributes\":{\"text\":\"treats\",\"x\":0.4210708439350128,\"y\":-1.0995198488235474},\"id\":\"1788\",\"type\":\"Label\"},{\"attributes\":{\"text\":\"okday\",\"x\":-2.106135845184326,\"y\":-1.0339840650558472},\"id\":\"1896\",\"type\":\"Label\"},{\"attributes\":{\"text\":\"name\",\"x\":3.9237325191497803,\"y\":-2.722365617752075},\"id\":\"1177\",\"type\":\"Label\"},{\"attributes\":{\"text\":\"anyway\",\"x\":-4.543262958526611,\"y\":-1.0585510730743408},\"id\":\"1321\",\"type\":\"Label\"},{\"attributes\":{\"text\":\"ileave\",\"x\":1.6994097232818604,\"y\":-1.232178807258606},\"id\":\"1789\",\"type\":\"Label\"},{\"attributes\":{\"text\":\"phony\",\"x\":3.882169008255005,\"y\":-0.5896080136299133},\"id\":\"1897\",\"type\":\"Label\"},{\"attributes\":{\"text\":\"getting\",\"x\":1.1760178804397583,\"y\":0.2677692472934723},\"id\":\"1178\",\"type\":\"Label\"},{\"attributes\":{\"text\":\"award\",\"x\":6.552286624908447,\"y\":-1.619187593460083},\"id\":\"1322\",\"type\":\"Label\"},{\"attributes\":{\"text\":\"tocall\",\"x\":3.6666715145111084,\"y\":1.42013418674469},\"id\":\"1790\",\"type\":\"Label\"},{\"attributes\":{\"text\":\"coulda\",\"x\":-3.454625129699707,\"y\":0.6581280827522278},\"id\":\"1898\",\"type\":\"Label\"},{\"attributes\":{\"text\":\"done\",\"x\":-4.713633060455322,\"y\":-0.19213400781154633},\"id\":\"1179\",\"type\":\"Label\"},{\"attributes\":{\"text\":\"working\",\"x\":-5.378719806671143,\"y\":-0.3828164339065552},\"id\":\"1323\",\"type\":\"Label\"},{\"attributes\":{\"text\":\"enufcredeit\",\"x\":1.7292289733886719,\"y\":0.052909914404153824},\"id\":\"1791\",\"type\":\"Label\"},{\"attributes\":{\"text\":\"rushing\",\"x\":0.9544511437416077,\"y\":-1.4381827116012573},\"id\":\"1899\",\"type\":\"Label\"},{\"attributes\":{\"text\":\"year\",\"x\":-1.5141196250915527,\"y\":2.886296272277832},\"id\":\"1180\",\"type\":\"Label\"},{\"attributes\":{\"text\":\"everything\",\"x\":-2.6997227668762207,\"y\":2.3181328773498535},\"id\":\"1324\",\"type\":\"Label\"},{\"attributes\":{\"text\":\"mahfuuz\",\"x\":-2.553396224975586,\"y\":-2.432427167892456},\"id\":\"1792\",\"type\":\"Label\"},{\"attributes\":{\"text\":\"dangerous\",\"x\":1.452231764793396,\"y\":0.4758179783821106},\"id\":\"1900\",\"type\":\"Label\"},{\"attributes\":{\"text\":\"guaranteed\",\"x\":8.451678276062012,\"y\":-1.1752145290374756},\"id\":\"1181\",\"type\":\"Label\"},{\"attributes\":{\"text\":\"made\",\"x\":-2.2927117347717285,\"y\":-2.6517128944396973},\"id\":\"1325\",\"type\":\"Label\"},{\"attributes\":{\"text\":\"mufti\",\"x\":-1.049359679222107,\"y\":0.03684590011835098},\"id\":\"1793\",\"type\":\"Label\"},{\"attributes\":{\"text\":\"thinkthis\",\"x\":2.610149621963501,\"y\":0.6462819576263428},\"id\":\"1901\",\"type\":\"Label\"},{\"attributes\":{\"text\":\"yet\",\"x\":-2.901815414428711,\"y\":0.892323911190033},\"id\":\"1182\",\"type\":\"Label\"},{\"attributes\":{\"text\":\"put\",\"x\":-0.7178981304168701,\"y\":2.772331714630127},\"id\":\"1326\",\"type\":\"Label\"},{\"attributes\":{\"text\":\"albi\",\"x\":-0.85747230052948,\"y\":0.4365737736225128},\"id\":\"1794\",\"type\":\"Label\"},{\"attributes\":{\"text\":\"barmed\",\"x\":1.4495912790298462,\"y\":0.6717163920402527},\"id\":\"1902\",\"type\":\"Label\"},{\"attributes\":{\"text\":\"people\",\"x\":-3.2151851654052734,\"y\":3.7113137245178223},\"id\":\"1183\",\"type\":\"Label\"},{\"attributes\":{\"text\":\"fuck\",\"x\":-3.0486347675323486,\"y\":1.1896008253097534},\"id\":\"1327\",\"type\":\"Label\"},{\"attributes\":{\"text\":\"muht\",\"x\":-1.699822187423706,\"y\":1.6990817785263062},\"id\":\"1795\",\"type\":\"Label\"},{\"attributes\":{\"text\":\"paul\",\"x\":1.8742715120315552,\"y\":-0.8460800647735596},\"id\":\"1903\",\"type\":\"Label\"},{\"attributes\":{\"text\":\"double\",\"x\":1.6450170278549194,\"y\":3.9037344455718994},\"id\":\"1400\",\"type\":\"Label\"},{\"attributes\":{\"text\":\"second\",\"x\":-3.874256134033203,\"y\":0.4752340614795685},\"id\":\"1508\",\"type\":\"Label\"},{\"attributes\":{\"text\":\"guidance\",\"x\":-2.6322262287139893,\"y\":1.9762582778930664},\"id\":\"1616\",\"type\":\"Label\"},{\"attributes\":{\"text\":\"run\",\"x\":-3.100628137588501,\"y\":0.31325724720954895},\"id\":\"1401\",\"type\":\"Label\"},{\"attributes\":{\"text\":\"close\",\"x\":-3.8084661960601807,\"y\":-0.23394417762756348},\"id\":\"1509\",\"type\":\"Label\"},{\"attributes\":{\"text\":\"require\",\"x\":-2.2485952377319336,\"y\":0.363427996635437},\"id\":\"1617\",\"type\":\"Label\"},{\"attributes\":{\"text\":\"making\",\"x\":-2.3697969913482666,\"y\":-0.7488968968391418},\"id\":\"1402\",\"type\":\"Label\"},{\"attributes\":{\"text\":\"cause\",\"x\":-2.7884681224823,\"y\":1.776893138885498},\"id\":\"1510\",\"type\":\"Label\"},{\"attributes\":{\"text\":\"choosing\",\"x\":-1.5236515998840332,\"y\":1.2218855619430542},\"id\":\"1618\",\"type\":\"Label\"},{\"attributes\":{\"text\":\"food\",\"x\":-3.6873068809509277,\"y\":-1.3409700393676758},\"id\":\"1403\",\"type\":\"Label\"},{\"attributes\":{\"text\":\"services\",\"x\":5.82438850402832,\"y\":0.7271751761436462},\"id\":\"1511\",\"type\":\"Label\"},{\"attributes\":{\"text\":\"navigate\",\"x\":-1.2259882688522339,\"y\":-0.830674409866333},\"id\":\"1619\",\"type\":\"Label\"},{\"attributes\":{\"text\":\"haf\",\"x\":-2.2869460582733154,\"y\":-1.2084953784942627},\"id\":\"1404\",\"type\":\"Label\"},{\"attributes\":{\"text\":\"taking\",\"x\":-4.180942058563232,\"y\":-1.8350082635879517},\"id\":\"1512\",\"type\":\"Label\"},{\"attributes\":{\"text\":\"cops\",\"x\":-0.17449714243412018,\"y\":1.6171729564666748},\"id\":\"1620\",\"type\":\"Label\"},{\"attributes\":{\"text\":\"oso\",\"x\":-3.5843045711517334,\"y\":0.09443773329257965},\"id\":\"1405\",\"type\":\"Label\"},{\"attributes\":{\"text\":\"everyone\",\"x\":-0.01560324989259243,\"y\":3.368312120437622},\"id\":\"1513\",\"type\":\"Label\"},{\"attributes\":{\"text\":\"stolen\",\"x\":1.2675197124481201,\"y\":-2.2760157585144043},\"id\":\"1621\",\"type\":\"Label\"},{\"attributes\":{\"text\":\"shop\",\"x\":-3.3077592849731445,\"y\":1.3435511589050293},\"id\":\"1406\",\"type\":\"Label\"},{\"attributes\":{\"text\":\"wil\",\"x\":-4.2280802726745605,\"y\":0.27907389402389526},\"id\":\"1514\",\"type\":\"Label\"},{\"attributes\":{\"text\":\"toilet\",\"x\":2.9883804321289062,\"y\":-2.4629011154174805},\"id\":\"1622\",\"type\":\"Label\"},{\"attributes\":{\"data\":{\"x\":{\"__ndarray__\":\"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\",\"dtype\":\"float32\",\"order\":\"little\",\"shape\":[1000]},\"y\":{\"__ndarray__\":\"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\",\"dtype\":\"float32\",\"order\":\"little\",\"shape\":[1000]}},\"selected\":{\"id\":\"2044\"},\"selection_policy\":{\"id\":\"2045\"}},\"id\":\"1032\",\"type\":\"ColumnDataSource\"},{\"attributes\":{\"text\":\"book\",\"x\":7.942812919616699,\"y\":1.5082578659057617},\"id\":\"1407\",\"type\":\"Label\"},{\"attributes\":{\"text\":\"angry\",\"x\":-2.5242505073547363,\"y\":0.7572245597839355},\"id\":\"1515\",\"type\":\"Label\"},{\"attributes\":{\"text\":\"pendent\",\"x\":-2.614164113998413,\"y\":0.8258181810379028},\"id\":\"1623\",\"type\":\"Label\"},{\"attributes\":{\"text\":\"dude\",\"x\":-3.7584123611450195,\"y\":0.8183625936508179},\"id\":\"1408\",\"type\":\"Label\"},{\"attributes\":{\"text\":\"unsubscribe\",\"x\":4.614442348480225,\"y\":0.5005663633346558},\"id\":\"1516\",\"type\":\"Label\"},{\"attributes\":{\"text\":\"efreefone\",\"x\":5.457903861999512,\"y\":-0.8365530371665955},\"id\":\"1624\",\"type\":\"Label\"},{\"attributes\":{\"text\":\"stay\",\"x\":-2.1928019523620605,\"y\":-1.5643333196640015},\"id\":\"1409\",\"type\":\"Label\"},{\"attributes\":{\"text\":\"lets\",\"x\":0.4938170313835144,\"y\":3.4632046222686768},\"id\":\"1517\",\"type\":\"Label\"},{\"attributes\":{\"text\":\"legitimat\",\"x\":4.819270610809326,\"y\":0.29418349266052246},\"id\":\"1625\",\"type\":\"Label\"},{\"attributes\":{\"text\":\"bored\",\"x\":-2.7487475872039795,\"y\":0.9025362730026245},\"id\":\"1410\",\"type\":\"Label\"},{\"attributes\":{\"text\":\"drink\",\"x\":-3.954066753387451,\"y\":-0.07476138323545456},\"id\":\"1518\",\"type\":\"Label\"},{\"attributes\":{\"text\":\"shrub\",\"x\":-1.9406297206878662,\"y\":-0.7336384654045105},\"id\":\"1626\",\"type\":\"Label\"},{\"attributes\":{\"text\":\"online\",\"x\":-3.776008129119873,\"y\":0.5213751792907715},\"id\":\"1411\",\"type\":\"Label\"},{\"attributes\":{\"text\":\"land\",\"x\":6.081253528594971,\"y\":0.5248762369155884},\"id\":\"1519\",\"type\":\"Label\"},{\"attributes\":{\"text\":\"foregate\",\"x\":-1.2134045362472534,\"y\":-0.6040565967559814},\"id\":\"1627\",\"type\":\"Label\"},{\"attributes\":{\"text\":\"makes\",\"x\":-2.5578665733337402,\"y\":-0.7599475383758545},\"id\":\"1412\",\"type\":\"Label\"},{\"attributes\":{\"text\":\"mine\",\"x\":-4.3208794593811035,\"y\":0.5929675698280334},\"id\":\"1520\",\"type\":\"Label\"},{\"attributes\":{\"text\":\"worc\",\"x\":0.059180017560720444,\"y\":0.7800709009170532},\"id\":\"1628\",\"type\":\"Label\"},{\"attributes\":{\"text\":\"lei\",\"x\":-3.496795654296875,\"y\":-0.5406468510627747},\"id\":\"1413\",\"type\":\"Label\"},{\"attributes\":{\"text\":\"neva\",\"x\":-2.505364179611206,\"y\":-0.6731082201004028},\"id\":\"1521\",\"type\":\"Label\"},{\"attributes\":{\"text\":\"youdoing\",\"x\":-1.7602757215499878,\"y\":0.8836511373519897},\"id\":\"1629\",\"type\":\"Label\"},{\"attributes\":{\"text\":\"question\",\"x\":3.3896453380584717,\"y\":-1.0240695476531982},\"id\":\"1414\",\"type\":\"Label\"},{\"attributes\":{\"text\":\"pub\",\"x\":-3.3903231620788574,\"y\":0.4252883195877075},\"id\":\"1522\",\"type\":\"Label\"},{\"attributes\":{\"text\":\"fne\",\"x\":1.8092623949050903,\"y\":0.9442843198776245},\"id\":\"1630\",\"type\":\"Label\"},{\"attributes\":{\"text\":\"national\",\"x\":6.271723747253418,\"y\":-1.2296150922775269},\"id\":\"1415\",\"type\":\"Label\"},{\"attributes\":{\"text\":\"drop\",\"x\":-4.629986763000488,\"y\":-0.9200475215911865},\"id\":\"1523\",\"type\":\"Label\"},{\"attributes\":{\"text\":\"tix\",\"x\":0.003382989903911948,\"y\":0.10926126688718796},\"id\":\"1631\",\"type\":\"Label\"},{\"attributes\":{\"text\":\"ard\",\"x\":-3.903123617172241,\"y\":-1.1714599132537842},\"id\":\"1416\",\"type\":\"Label\"},{\"attributes\":{\"text\":\"auction\",\"x\":7.649591445922852,\"y\":-1.3696167469024658},\"id\":\"1524\",\"type\":\"Label\"},{\"attributes\":{\"text\":\"attention\",\"x\":2.738394021987915,\"y\":-1.4101380109786987},\"id\":\"1632\",\"type\":\"Label\"},{\"attributes\":{\"text\":\"tried\",\"x\":5.971500873565674,\"y\":-0.05499271675944328},\"id\":\"1417\",\"type\":\"Label\"},{\"attributes\":{\"text\":\"lesson\",\"x\":-2.708991289138794,\"y\":1.4795805215835571},\"id\":\"1525\",\"type\":\"Label\"},{\"attributes\":{\"text\":\"flew\",\"x\":-1.398290753364563,\"y\":-0.7526099681854248},\"id\":\"1633\",\"type\":\"Label\"},{\"attributes\":{\"text\":\"delivery\",\"x\":5.845252990722656,\"y\":1.3102858066558838},\"id\":\"1418\",\"type\":\"Label\"},{\"attributes\":{\"text\":\"lucky\",\"x\":4.476136684417725,\"y\":0.5571327805519104},\"id\":\"1526\",\"type\":\"Label\"},{\"attributes\":{\"text\":\"tats\",\"x\":-2.0939226150512695,\"y\":-0.40689077973365784},\"id\":\"1634\",\"type\":\"Label\"},{\"attributes\":{\"text\":\"driving\",\"x\":5.503617763519287,\"y\":1.1939053535461426},\"id\":\"1419\",\"type\":\"Label\"},{\"attributes\":{\"text\":\"search\",\"x\":-2.2865359783172607,\"y\":-0.2639416754245758},\"id\":\"1527\",\"type\":\"Label\"},{\"attributes\":{\"text\":\"fowler\",\"x\":-2.6402065753936768,\"y\":0.09942082315683365},\"id\":\"1635\",\"type\":\"Label\"},{\"attributes\":{\"text\":\"test\",\"x\":-1.5059704780578613,\"y\":2.2192161083221436},\"id\":\"1420\",\"type\":\"Label\"},{\"attributes\":{\"text\":\"statement\",\"x\":-2.380340099334717,\"y\":-2.123828649520874},\"id\":\"1528\",\"type\":\"Label\"},{\"attributes\":{\"text\":\"ramen\",\"x\":1.7941255569458008,\"y\":-0.056808456778526306},\"id\":\"1636\",\"type\":\"Label\"},{\"attributes\":{\"text\":\"address\",\"x\":1.8622432947158813,\"y\":1.7667877674102783},\"id\":\"1421\",\"type\":\"Label\"},{\"attributes\":{\"text\":\"expires\",\"x\":2.3275768756866455,\"y\":-0.3032405376434326},\"id\":\"1529\",\"type\":\"Label\"},{\"attributes\":{\"text\":\"broth\",\"x\":3.0612339973449707,\"y\":-0.3613531291484833},\"id\":\"1637\",\"type\":\"Label\"},{\"attributes\":{\"text\":\"answer\",\"x\":2.1312904357910156,\"y\":1.3444620370864868},\"id\":\"1422\",\"type\":\"Label\"},{\"attributes\":{\"text\":\"msgs\",\"x\":5.649019241333008,\"y\":0.7934694290161133},\"id\":\"1530\",\"type\":\"Label\"},{\"attributes\":{\"text\":\"wocay\",\"x\":-1.726858139038086,\"y\":-1.607342004776001},\"id\":\"1638\",\"type\":\"Label\"},{\"attributes\":{\"text\":\"top\",\"x\":7.243991374969482,\"y\":-0.2447325438261032},\"id\":\"1423\",\"type\":\"Label\"},{\"attributes\":{\"text\":\"open\",\"x\":-2.8747572898864746,\"y\":1.6123454570770264},\"id\":\"1531\",\"type\":\"Label\"},{\"attributes\":{\"text\":\"pocay\",\"x\":-0.19688978791236877,\"y\":-0.40670934319496155},\"id\":\"1639\",\"type\":\"Label\"},{\"attributes\":{\"text\":\"coz\",\"x\":-3.9802708625793457,\"y\":-2.1820127964019775},\"id\":\"1424\",\"type\":\"Label\"},{\"attributes\":{\"text\":\"whats\",\"x\":-4.762604713439941,\"y\":0.34299853444099426},\"id\":\"1532\",\"type\":\"Label\"},{\"attributes\":{\"text\":\"victoria\",\"x\":-1.8667426109313965,\"y\":1.178609013557434},\"id\":\"1640\",\"type\":\"Label\"},{\"attributes\":{\"text\":\"nite\",\"x\":-3.5589418411254883,\"y\":0.027524694800376892},\"id\":\"1425\",\"type\":\"Label\"},{\"attributes\":{\"text\":\"lots\",\"x\":-0.579792320728302,\"y\":-1.087066411972046},\"id\":\"1533\",\"type\":\"Label\"},{\"attributes\":{\"text\":\"singapore\",\"x\":2.688385486602783,\"y\":0.18569380044937134},\"id\":\"1641\",\"type\":\"Label\"},{\"attributes\":{\"text\":\"hot\",\"x\":6.226497650146484,\"y\":-0.37276992201805115},\"id\":\"1426\",\"type\":\"Label\"},{\"attributes\":{\"text\":\"parents\",\"x\":-4.966130256652832,\"y\":0.5911793112754822},\"id\":\"1534\",\"type\":\"Label\"},{\"attributes\":{\"text\":\"feed\",\"x\":-1.3092397451400757,\"y\":0.33273887634277344},\"id\":\"1642\",\"type\":\"Label\"},{\"attributes\":{\"text\":\"hurt\",\"x\":-3.264200448989868,\"y\":1.4775134325027466},\"id\":\"1427\",\"type\":\"Label\"},{\"attributes\":{\"text\":\"carlos\",\"x\":-3.741541624069214,\"y\":0.4653908908367157},\"id\":\"1535\",\"type\":\"Label\"},{\"attributes\":{\"text\":\"syrup\",\"x\":-0.6889821290969849,\"y\":-0.43140020966529846},\"id\":\"1643\",\"type\":\"Label\"},{\"attributes\":{\"text\":\"friendship\",\"x\":-3.2396790981292725,\"y\":0.686148464679718},\"id\":\"1428\",\"type\":\"Label\"},{\"attributes\":{\"text\":\"smoke\",\"x\":-3.9286551475524902,\"y\":0.7003325819969177},\"id\":\"1536\",\"type\":\"Label\"},{\"attributes\":{\"text\":\"prometazine\",\"x\":-0.698296070098877,\"y\":-0.00682052643969655},\"id\":\"1644\",\"type\":\"Label\"},{\"attributes\":{\"text\":\"change\",\"x\":-2.148160219192505,\"y\":1.6888909339904785},\"id\":\"1429\",\"type\":\"Label\"},{\"attributes\":{\"text\":\"bitching\",\"x\":-1.884643316268921,\"y\":-1.7008146047592163},\"id\":\"1537\",\"type\":\"Label\"},{\"attributes\":{\"text\":\"franxx\",\"x\":0.5697009563446045,\"y\":0.9228050708770752},\"id\":\"1645\",\"type\":\"Label\"},{\"attributes\":{\"text\":\"feeling\",\"x\":-2.248366117477417,\"y\":0.02518424019217491},\"id\":\"1430\",\"type\":\"Label\"},{\"attributes\":{\"text\":\"suggestions\",\"x\":-3.032533884048462,\"y\":0.3529369533061981},\"id\":\"1538\",\"type\":\"Label\"},{\"attributes\":{\"text\":\"brolly\",\"x\":3.26077938079834,\"y\":-0.35028359293937683},\"id\":\"1646\",\"type\":\"Label\"},{\"attributes\":{\"text\":\"either\",\"x\":4.012699127197266,\"y\":3.0009031295776367},\"id\":\"1431\",\"type\":\"Label\"},{\"attributes\":{\"text\":\"pity\",\"x\":2.795628070831299,\"y\":-0.7769087553024292},\"id\":\"1539\",\"type\":\"Label\"},{\"attributes\":{\"text\":\"seperated\",\"x\":-3.114795207977295,\"y\":2.0449352264404297},\"id\":\"1647\",\"type\":\"Label\"},{\"attributes\":{\"text\":\"sch\",\"x\":-3.0999555587768555,\"y\":-0.5318454504013062},\"id\":\"1432\",\"type\":\"Label\"},{\"attributes\":{\"text\":\"salesman\",\"x\":-1.6810110807418823,\"y\":-0.06473062932491302},\"id\":\"1540\",\"type\":\"Label\"},{\"attributes\":{\"text\":\"carly\",\"x\":-0.1772926151752472,\"y\":0.8753659725189209},\"id\":\"1648\",\"type\":\"Label\"},{\"attributes\":{\"text\":\"family\",\"x\":-2.231912136077881,\"y\":-1.5097692012786865},\"id\":\"1433\",\"type\":\"Label\"},{\"attributes\":{\"text\":\"lowes\",\"x\":-1.1308565139770508,\"y\":0.5491260290145874},\"id\":\"1541\",\"type\":\"Label\"},{\"attributes\":{\"text\":\"bffs\",\"x\":-1.9798460006713867,\"y\":1.2226372957229614},\"id\":\"1649\",\"type\":\"Label\"},{\"attributes\":{\"text\":\"goin\",\"x\":-2.4973299503326416,\"y\":0.13512571156024933},\"id\":\"1434\",\"type\":\"Label\"},{\"attributes\":{\"text\":\"heap\",\"x\":-0.7947306632995605,\"y\":0.9025801420211792},\"id\":\"1542\",\"type\":\"Label\"},{\"attributes\":{\"text\":\"officer\",\"x\":-1.2072170972824097,\"y\":0.9252704977989197},\"id\":\"1650\",\"type\":\"Label\"},{\"attributes\":{\"text\":\"hours\",\"x\":-3.593667507171631,\"y\":1.1319295167922974},\"id\":\"1435\",\"type\":\"Label\"},{\"attributes\":{\"text\":\"dump\",\"x\":-0.9233506321907043,\"y\":0.41377657651901245},\"id\":\"1543\",\"type\":\"Label\"},{\"attributes\":{\"text\":\"counts\",\"x\":1.8847345113754272,\"y\":-0.9594541788101196},\"id\":\"1651\",\"type\":\"Label\"},{\"attributes\":{\"text\":\"wake\",\"x\":-3.356983184814453,\"y\":-0.39764875173568726},\"id\":\"1364\",\"type\":\"Label\"},{\"attributes\":{\"text\":\"differences\",\"x\":-2.6992058753967285,\"y\":-0.30958330631256104},\"id\":\"1976\",\"type\":\"Label\"},{\"attributes\":{\"text\":\"guy\",\"x\":-1.9742412567138672,\"y\":3.9697232246398926},\"id\":\"1365\",\"type\":\"Label\"},{\"attributes\":{\"text\":\"characters\",\"x\":-1.9509422779083252,\"y\":-0.4210170805454254},\"id\":\"1977\",\"type\":\"Label\"},{\"attributes\":{\"text\":\"tones\",\"x\":7.000060081481934,\"y\":-0.823434591293335},\"id\":\"1366\",\"type\":\"Label\"},{\"attributes\":{\"text\":\"happiest\",\"x\":-2.898366689682007,\"y\":-0.705662727355957},\"id\":\"1978\",\"type\":\"Label\"},{\"attributes\":{\"source\":{\"id\":\"1032\"}},\"id\":\"1036\",\"type\":\"CDSView\"},{\"attributes\":{\"text\":\"wot\",\"x\":3.932746410369873,\"y\":-1.4414113759994507},\"id\":\"1367\",\"type\":\"Label\"},{\"attributes\":{\"text\":\"hmmross\",\"x\":4.254652976989746,\"y\":-4.822263717651367},\"id\":\"1979\",\"type\":\"Label\"},{\"attributes\":{\"text\":\"bring\",\"x\":-2.0128190517425537,\"y\":0.08036728203296661},\"id\":\"1368\",\"type\":\"Label\"},{\"attributes\":{\"text\":\"lyricalladie\",\"x\":2.1724374294281006,\"y\":-3.586559772491455},\"id\":\"1980\",\"type\":\"Label\"},{\"attributes\":{\"text\":\"collection\",\"x\":7.0009307861328125,\"y\":-1.7935136556625366},\"id\":\"1369\",\"type\":\"Label\"},{\"attributes\":{\"text\":\"dip\",\"x\":2.368795156478882,\"y\":-0.5751712322235107},\"id\":\"1981\",\"type\":\"Label\"},{\"attributes\":{\"text\":\"finishd\",\"x\":-3.5726234912872314,\"y\":0.27223578095436096},\"id\":\"1723\",\"type\":\"Label\"},{\"attributes\":{\"text\":\"times\",\"x\":-3.125760555267334,\"y\":1.0727547407150269},\"id\":\"1370\",\"type\":\"Label\"},{\"attributes\":{\"text\":\"joker\",\"x\":1.562942624092102,\"y\":4.299610137939453},\"id\":\"1982\",\"type\":\"Label\"},{\"attributes\":{\"text\":\"messages\",\"x\":3.631143808364868,\"y\":-1.690737247467041},\"id\":\"1371\",\"type\":\"Label\"},{\"attributes\":{\"text\":\"decent\",\"x\":2.648369789123535,\"y\":3.8496601581573486},\"id\":\"1983\",\"type\":\"Label\"},{\"attributes\":{\"text\":\"missed\",\"x\":0.03803376853466034,\"y\":-0.896461546421051},\"id\":\"1372\",\"type\":\"Label\"},{\"attributes\":{\"text\":\"cruel\",\"x\":2.629066228866577,\"y\":0.2195816934108734},\"id\":\"1984\",\"type\":\"Label\"},{\"attributes\":{\"text\":\"mob\",\"x\":6.804379940032959,\"y\":-1.0639889240264893},\"id\":\"1373\",\"type\":\"Label\"},{\"attributes\":{\"text\":\"terror\",\"x\":1.0679484605789185,\"y\":-1.8098769187927246},\"id\":\"1985\",\"type\":\"Label\"},{\"attributes\":{\"text\":\"show\",\"x\":-2.426877737045288,\"y\":-2.491713047027588},\"id\":\"1374\",\"type\":\"Label\"},{\"attributes\":{\"text\":\"swashbuckling\",\"x\":-0.8187292814254761,\"y\":-2.6797046661376953},\"id\":\"1986\",\"type\":\"Label\"},{\"attributes\":{\"text\":\"price\",\"x\":7.5321221351623535,\"y\":-0.6715863943099976},\"id\":\"1375\",\"type\":\"Label\"},{\"attributes\":{\"text\":\"rents\",\"x\":1.207512378692627,\"y\":-0.6249979138374329},\"id\":\"1987\",\"type\":\"Label\"},{\"attributes\":{\"text\":\"juz\",\"x\":-3.0999789237976074,\"y\":-0.4034043848514557},\"id\":\"1376\",\"type\":\"Label\"},{\"attributes\":{\"text\":\"couch\",\"x\":1.5663354396820068,\"y\":1.399263620376587},\"id\":\"1988\",\"type\":\"Label\"},{\"attributes\":{\"text\":\"years\",\"x\":1.5728344917297363,\"y\":-3.4072513580322266},\"id\":\"1377\",\"type\":\"Label\"},{\"attributes\":{\"text\":\"loooooool\",\"x\":-0.645557701587677,\"y\":-0.18906629085540771},\"id\":\"1989\",\"type\":\"Label\"},{\"attributes\":{\"text\":\"decimal\",\"x\":-3.3846442699432373,\"y\":-0.8905107975006104},\"id\":\"1378\",\"type\":\"Label\"},{\"attributes\":{\"text\":\"lit\",\"x\":0.1933329850435257,\"y\":-1.260369062423706},\"id\":\"1990\",\"type\":\"Label\"},{\"attributes\":{\"text\":\"last\",\"x\":-2.4446308612823486,\"y\":-0.13289184868335724},\"id\":\"1111\",\"type\":\"Label\"},{\"attributes\":{\"text\":\"plz\",\"x\":-4.495049953460693,\"y\":0.36213070154190063},\"id\":\"1379\",\"type\":\"Label\"},{\"attributes\":{\"text\":\"clas\",\"x\":-1.4796217679977417,\"y\":-0.039058052003383636},\"id\":\"1991\",\"type\":\"Label\"},{\"attributes\":{\"text\":\"away\",\"x\":1.74539053440094,\"y\":-1.9162297248840332},\"id\":\"1380\",\"type\":\"Label\"},{\"attributes\":{\"text\":\"customercare\",\"x\":0.3319713771343231,\"y\":0.7775481343269348},\"id\":\"1992\",\"type\":\"Label\"},{\"attributes\":{\"text\":\"gift\",\"x\":4.169432163238525,\"y\":-0.6624501943588257},\"id\":\"1381\",\"type\":\"Label\"},{\"attributes\":{\"text\":\"msgrcvd\",\"x\":-0.27730125188827515,\"y\":-1.7446155548095703},\"id\":\"1993\",\"type\":\"Label\"},{\"attributes\":{\"fill_color\":{\"value\":\"#1f77b4\"},\"line_color\":{\"value\":\"#1f77b4\"},\"x\":{\"field\":\"x\"},\"y\":{\"field\":\"y\"}},\"id\":\"1033\",\"type\":\"Scatter\"},{\"attributes\":{\"text\":\"plus\",\"x\":4.346735000610352,\"y\":1.7113451957702637},\"id\":\"1382\",\"type\":\"Label\"},{\"attributes\":{\"text\":\"lovly\",\"x\":-2.419593334197998,\"y\":1.1152219772338867},\"id\":\"1994\",\"type\":\"Label\"},{\"attributes\":{\"text\":\"valid\",\"x\":9.194334983825684,\"y\":1.0945051908493042},\"id\":\"1383\",\"type\":\"Label\"},{\"attributes\":{\"text\":\"weapon\",\"x\":-1.2332175970077515,\"y\":-0.16365964710712433},\"id\":\"1995\",\"type\":\"Label\"},{\"attributes\":{\"text\":\"update\",\"x\":5.983130931854248,\"y\":-0.600584089756012},\"id\":\"1384\",\"type\":\"Label\"},{\"attributes\":{\"text\":\"powerful\",\"x\":-3.0731027126312256,\"y\":-0.012905525043606758},\"id\":\"1996\",\"type\":\"Label\"},{\"attributes\":{\"text\":\"alright\",\"x\":-2.8435516357421875,\"y\":2.143897294998169},\"id\":\"1385\",\"type\":\"Label\"},{\"attributes\":{\"text\":\"breathing\",\"x\":-2.2655751705169678,\"y\":-0.2712975740432739},\"id\":\"1997\",\"type\":\"Label\"},{\"attributes\":{\"text\":\"till\",\"x\":-0.5927751064300537,\"y\":-2.968322992324829},\"id\":\"1386\",\"type\":\"Label\"},{\"attributes\":{\"text\":\"bomb\",\"x\":-3.8625986576080322,\"y\":-0.3584284782409668},\"id\":\"1998\",\"type\":\"Label\"},{\"attributes\":{\"text\":\"saw\",\"x\":-2.9405784606933594,\"y\":1.742387056350708},\"id\":\"1387\",\"type\":\"Label\"},{\"attributes\":{\"text\":\"gre\",\"x\":3.6128594875335693,\"y\":0.948550283908844},\"id\":\"1999\",\"type\":\"Label\"},{\"attributes\":{\"text\":\"yesterday\",\"x\":-4.207834243774414,\"y\":1.628182053565979},\"id\":\"1388\",\"type\":\"Label\"},{\"attributes\":{\"text\":\"texas\",\"x\":0.574264645576477,\"y\":0.5456212162971497},\"id\":\"2000\",\"type\":\"Label\"},{\"attributes\":{\"text\":\"hair\",\"x\":-3.281122922897339,\"y\":-0.4317117929458618},\"id\":\"1389\",\"type\":\"Label\"},{\"attributes\":{\"text\":\"carolina\",\"x\":1.7444909811019897,\"y\":-0.46975263953208923},\"id\":\"2001\",\"type\":\"Label\"},{\"attributes\":{\"text\":\"wen\",\"x\":-3.495401382446289,\"y\":-0.7466589212417603},\"id\":\"1390\",\"type\":\"Label\"},{\"attributes\":{\"text\":\"north\",\"x\":1.3600261211395264,\"y\":-0.008623015135526657},\"id\":\"2002\",\"type\":\"Label\"},{\"attributes\":{\"text\":\"havent\",\"x\":-3.342682361602783,\"y\":1.3544706106185913},\"id\":\"1391\",\"type\":\"Label\"},{\"attributes\":{\"text\":\"increase\",\"x\":-2.936692237854004,\"y\":0.3587663173675537},\"id\":\"2003\",\"type\":\"Label\"},{\"attributes\":{\"text\":\"else\",\"x\":-1.4201369285583496,\"y\":-0.8849606513977051},\"id\":\"1392\",\"type\":\"Label\"},{\"attributes\":{\"text\":\"manageable\",\"x\":1.9831407070159912,\"y\":-1.0165375471115112},\"id\":\"2004\",\"type\":\"Label\"},{\"attributes\":{\"text\":\"worry\",\"x\":-2.5135655403137207,\"y\":1.4390332698822021},\"id\":\"1393\",\"type\":\"Label\"},{\"attributes\":{\"text\":\"photoshop\",\"x\":0.18296301364898682,\"y\":0.41485026478767395},\"id\":\"2005\",\"type\":\"Label\"},{\"attributes\":{\"text\":\"music\",\"x\":6.230731964111328,\"y\":-1.7348932027816772},\"id\":\"1394\",\"type\":\"Label\"},{\"attributes\":{\"text\":\"themes\",\"x\":-1.6814320087432861,\"y\":1.151659607887268},\"id\":\"2006\",\"type\":\"Label\"},{\"attributes\":{\"text\":\"weekly\",\"x\":7.496547222137451,\"y\":-1.5857754945755005},\"id\":\"1395\",\"type\":\"Label\"},{\"attributes\":{\"text\":\"rats\",\"x\":1.965711236000061,\"y\":1.134485125541687},\"id\":\"2007\",\"type\":\"Label\"},{\"attributes\":{\"text\":\"attempt\",\"x\":7.741800785064697,\"y\":-1.8408887386322021},\"id\":\"1396\",\"type\":\"Label\"},{\"attributes\":{\"text\":\"maat\",\"x\":0.9849485754966736,\"y\":-0.004104291088879108},\"id\":\"2008\",\"type\":\"Label\"},{\"attributes\":{\"text\":\"colour\",\"x\":4.5642476081848145,\"y\":-0.4624781310558319},\"id\":\"1397\",\"type\":\"Label\"},{\"attributes\":{\"text\":\"shah\",\"x\":1.4902395009994507,\"y\":0.20560277998447418},\"id\":\"2009\",\"type\":\"Label\"},{\"attributes\":{\"text\":\"net\",\"x\":6.667515277862549,\"y\":-2.66998291015625},\"id\":\"1398\",\"type\":\"Label\"},{\"attributes\":{\"text\":\"phrase\",\"x\":-3.2069296836853027,\"y\":-1.470550775527954},\"id\":\"2010\",\"type\":\"Label\"},{\"attributes\":{\"text\":\"words\",\"x\":-4.601383209228516,\"y\":-0.8060611486434937},\"id\":\"1399\",\"type\":\"Label\"},{\"attributes\":{\"text\":\"persian\",\"x\":2.6514370441436768,\"y\":1.2065255641937256},\"id\":\"2011\",\"type\":\"Label\"},{\"attributes\":{\"text\":\"miss\",\"x\":-2.1062285900115967,\"y\":-1.3631036281585693},\"id\":\"1112\",\"type\":\"Label\"},{\"attributes\":{\"text\":\"jus\",\"x\":-4.247285842895508,\"y\":-2.6449637413024902},\"id\":\"1256\",\"type\":\"Label\"},{\"attributes\":{\"text\":\"temales\",\"x\":0.26476824283599854,\"y\":0.21339131891727448},\"id\":\"1724\",\"type\":\"Label\"},{\"attributes\":{\"text\":\"hitler\",\"x\":3.4529953002929688,\"y\":0.9823135137557983},\"id\":\"1832\",\"type\":\"Label\"},{\"attributes\":{\"text\":\"deny\",\"x\":1.0341531038284302,\"y\":-1.1638922691345215},\"id\":\"1940\",\"type\":\"Label\"},{\"attributes\":{\"text\":\"thanks\",\"x\":-3.120802879333496,\"y\":-0.6759641170501709},\"id\":\"1113\",\"type\":\"Label\"},{\"attributes\":{\"text\":\"might\",\"x\":-4.145399570465088,\"y\":-0.7926576137542725},\"id\":\"1257\",\"type\":\"Label\"},{\"attributes\":{\"text\":\"tke\",\"x\":2.098257303237915,\"y\":0.3281819522380829},\"id\":\"1725\",\"type\":\"Label\"},{\"attributes\":{\"text\":\"recount\",\"x\":4.237792015075684,\"y\":1.7240962982177734},\"id\":\"1833\",\"type\":\"Label\"},{\"attributes\":{\"text\":\"knees\",\"x\":-3.28617262840271,\"y\":-0.7742644548416138},\"id\":\"1941\",\"type\":\"Label\"},{\"attributes\":{\"text\":\"would\",\"x\":-3.382244348526001,\"y\":1.2462058067321777},\"id\":\"1114\",\"type\":\"Label\"},{\"attributes\":{\"text\":\"box\",\"x\":-1.812562346458435,\"y\":-0.003307900158688426},\"id\":\"1258\",\"type\":\"Label\"},{\"attributes\":{\"text\":\"someonone\",\"x\":1.7851048707962036,\"y\":-1.443382978439331},\"id\":\"1726\",\"type\":\"Label\"},{\"attributes\":{\"text\":\"election\",\"x\":1.2708160877227783,\"y\":0.25358113646507263},\"id\":\"1834\",\"type\":\"Label\"},{\"attributes\":{\"text\":\"grazed\",\"x\":2.72318959236145,\"y\":0.7178360819816589},\"id\":\"1942\",\"type\":\"Label\"},{\"attributes\":{\"text\":\"cos\",\"x\":-2.3017101287841797,\"y\":0.3194323480129242},\"id\":\"1115\",\"type\":\"Label\"},{\"attributes\":{\"text\":\"ever\",\"x\":-2.3860573768615723,\"y\":1.7453818321228027},\"id\":\"1259\",\"type\":\"Label\"},{\"attributes\":{\"text\":\"assessment\",\"x\":-3.37276291847229,\"y\":-1.4588696956634521},\"id\":\"1727\",\"type\":\"Label\"},{\"attributes\":{\"text\":\"starer\",\"x\":3.0046677589416504,\"y\":1.7153434753417969},\"id\":\"1835\",\"type\":\"Label\"},{\"attributes\":{\"text\":\"splat\",\"x\":0.9730197787284851,\"y\":-0.3178061842918396},\"id\":\"1943\",\"type\":\"Label\"},{\"attributes\":{\"text\":\"win\",\"x\":3.3470804691314697,\"y\":-5.087831974029541},\"id\":\"1116\",\"type\":\"Label\"},{\"attributes\":{\"text\":\"quite\",\"x\":-3.9373345375061035,\"y\":1.8039580583572388},\"id\":\"1260\",\"type\":\"Label\"},{\"attributes\":{\"text\":\"qbank\",\"x\":-3.150406837463379,\"y\":-2.2916860580444336},\"id\":\"1728\",\"type\":\"Label\"},{\"attributes\":{\"text\":\"astronomer\",\"x\":0.6235621571540833,\"y\":-1.8249528408050537},\"id\":\"1836\",\"type\":\"Label\"},{\"attributes\":{\"text\":\"toaday\",\"x\":-2.4817724227905273,\"y\":0.3137141466140747},\"id\":\"1944\",\"type\":\"Label\"},{\"attributes\":{\"text\":\"lol\",\"x\":-2.9242968559265137,\"y\":-0.7057932019233704},\"id\":\"1117\",\"type\":\"Label\"},{\"attributes\":{\"text\":\"cost\",\"x\":8.074915885925293,\"y\":-2.2834126949310303},\"id\":\"1261\",\"type\":\"Label\"},{\"attributes\":{\"text\":\"uworld\",\"x\":-0.9056631326675415,\"y\":-2.055616855621338},\"id\":\"1729\",\"type\":\"Label\"},{\"attributes\":{\"text\":\"dormitory\",\"x\":3.0969085693359375,\"y\":0.03344042971730232},\"id\":\"1837\",\"type\":\"Label\"},{\"attributes\":{\"text\":\"hooch\",\"x\":-2.858200788497925,\"y\":1.458919882774353},\"id\":\"1945\",\"type\":\"Label\"},{\"attributes\":{\"text\":\"anything\",\"x\":-4.079830169677734,\"y\":-1.3816516399383545},\"id\":\"1118\",\"type\":\"Label\"},{\"attributes\":{\"text\":\"watching\",\"x\":-3.964449167251587,\"y\":-0.37566468119621277},\"id\":\"1262\",\"type\":\"Label\"},{\"attributes\":{\"text\":\"spinout\",\"x\":1.9174273014068604,\"y\":-2.4769256114959717},\"id\":\"1730\",\"type\":\"Label\"},{\"attributes\":{\"text\":\"rearrange\",\"x\":4.2106032371521,\"y\":3.078078031539917},\"id\":\"1838\",\"type\":\"Label\"},{\"attributes\":{\"text\":\"nonetheless\",\"x\":3.3726091384887695,\"y\":-0.029126008972525597},\"id\":\"1946\",\"type\":\"Label\"},{\"attributes\":{\"text\":\"also\",\"x\":-3.3075191974639893,\"y\":0.28707683086395264},\"id\":\"1119\",\"type\":\"Label\"},{\"attributes\":{\"text\":\"room\",\"x\":-4.101849555969238,\"y\":0.40124115347862244},\"id\":\"1263\",\"type\":\"Label\"},{\"attributes\":{\"text\":\"docks\",\"x\":0.9241783022880554,\"y\":0.2522609233856201},\"id\":\"1731\",\"type\":\"Label\"},{\"attributes\":{\"text\":\"fuckinnice\",\"x\":1.5676261186599731,\"y\":-0.20760710537433624},\"id\":\"1839\",\"type\":\"Label\"},{\"attributes\":{\"text\":\"unintentional\",\"x\":1.1803699731826782,\"y\":2.6966710090637207},\"id\":\"1947\",\"type\":\"Label\"},{\"attributes\":{\"text\":\"every\",\"x\":6.220839977264404,\"y\":0.08706679195165634},\"id\":\"1120\",\"type\":\"Label\"},{\"attributes\":{\"text\":\"landline\",\"x\":8.389564514160156,\"y\":0.0342414565384388},\"id\":\"1264\",\"type\":\"Label\"},{\"attributes\":{\"text\":\"boatin\",\"x\":0.7475231289863586,\"y\":-0.7953686118125916},\"id\":\"1732\",\"type\":\"Label\"},{\"attributes\":{\"text\":\"ourbacks\",\"x\":3.054767608642578,\"y\":-0.6501583456993103},\"id\":\"1840\",\"type\":\"Label\"},{\"attributes\":{\"text\":\"snot\",\"x\":1.7337391376495361,\"y\":1.3361278772354126},\"id\":\"1948\",\"type\":\"Label\"},{\"attributes\":{\"text\":\"com\",\"x\":6.901846885681152,\"y\":0.7518708109855652},\"id\":\"1121\",\"type\":\"Label\"},{\"attributes\":{\"text\":\"offer\",\"x\":5.457988262176514,\"y\":0.30308935046195984},\"id\":\"1265\",\"type\":\"Label\"},{\"attributes\":{\"text\":\"juswoke\",\"x\":1.1293606758117676,\"y\":0.5753948092460632},\"id\":\"1733\",\"type\":\"Label\"},{\"attributes\":{\"text\":\"gotmarried\",\"x\":2.2398176193237305,\"y\":0.1012057438492775},\"id\":\"1841\",\"type\":\"Label\"},{\"attributes\":{\"text\":\"margin\",\"x\":6.681013107299805,\"y\":0.5012828707695007},\"id\":\"1949\",\"type\":\"Label\"},{\"attributes\":{\"text\":\"sure\",\"x\":-4.759199142456055,\"y\":0.4208826422691345},\"id\":\"1122\",\"type\":\"Label\"},{\"attributes\":{\"text\":\"video\",\"x\":8.910907745361328,\"y\":-0.049501627683639526},\"id\":\"1266\",\"type\":\"Label\"},{\"attributes\":{\"text\":\"stuffs\",\"x\":3.1777470111846924,\"y\":-1.7125393152236938},\"id\":\"1734\",\"type\":\"Label\"},{\"attributes\":{\"text\":\"thatmum\",\"x\":1.8823918104171753,\"y\":-1.2380741834640503},\"id\":\"1842\",\"type\":\"Label\"},{\"attributes\":{\"text\":\"bergkamp\",\"x\":1.8873580694198608,\"y\":1.0076597929000854},\"id\":\"1950\",\"type\":\"Label\"},{\"attributes\":{\"text\":\"pick\",\"x\":-3.231801986694336,\"y\":-1.1890736818313599},\"id\":\"1123\",\"type\":\"Label\"},{\"attributes\":{\"text\":\"early\",\"x\":-5.07532262802124,\"y\":-0.39999231696128845},\"id\":\"1267\",\"type\":\"Label\"},{\"attributes\":{\"text\":\"port\",\"x\":-1.9150892496109009,\"y\":1.4044727087020874},\"id\":\"1735\",\"type\":\"Label\"},{\"attributes\":{\"text\":\"aletter\",\"x\":1.7098171710968018,\"y\":-0.22148624062538147},\"id\":\"1843\",\"type\":\"Label\"},{\"attributes\":{\"text\":\"yards\",\"x\":6.098266124725342,\"y\":-1.449280858039856},\"id\":\"1951\",\"type\":\"Label\"},{\"attributes\":{\"text\":\"care\",\"x\":-2.317037343978882,\"y\":-0.736704409122467},\"id\":\"1124\",\"type\":\"Label\"},{\"attributes\":{\"text\":\"xxx\",\"x\":1.8651750087738037,\"y\":-1.20314359664917},\"id\":\"1268\",\"type\":\"Label\"},{\"attributes\":{\"text\":\"chuck\",\"x\":0.4065088629722595,\"y\":0.587026059627533},\"id\":\"1736\",\"type\":\"Label\"},{\"attributes\":{\"text\":\"justfound\",\"x\":1.6192418336868286,\"y\":1.646843671798706},\"id\":\"1844\",\"type\":\"Label\"},{\"attributes\":{\"text\":\"dentists\",\"x\":-1.6123532056808472,\"y\":0.05527489259839058},\"id\":\"1952\",\"type\":\"Label\"},{\"attributes\":{\"text\":\"urgent\",\"x\":9.07071304321289,\"y\":-1.0464401245117188},\"id\":\"1125\",\"type\":\"Label\"},{\"attributes\":{\"text\":\"speak\",\"x\":3.049347400665283,\"y\":2.04402494430542},\"id\":\"1269\",\"type\":\"Label\"},{\"attributes\":{\"text\":\"foned\",\"x\":2.3955862522125244,\"y\":1.5292879343032837},\"id\":\"1737\",\"type\":\"Label\"},{\"attributes\":{\"text\":\"feellikw\",\"x\":2.1345975399017334,\"y\":-0.33096396923065186},\"id\":\"1845\",\"type\":\"Label\"},{\"attributes\":{\"text\":\"inconvenience\",\"x\":1.6154333353042603,\"y\":1.1225215196609497},\"id\":\"1953\",\"type\":\"Label\"},{\"attributes\":{\"text\":\"nokia\",\"x\":6.496901035308838,\"y\":0.27983638644218445},\"id\":\"1126\",\"type\":\"Label\"},{\"attributes\":{\"text\":\"weekend\",\"x\":-0.8396434187889099,\"y\":-0.542026698589325},\"id\":\"1270\",\"type\":\"Label\"},{\"attributes\":{\"text\":\"telediscount\",\"x\":6.561538219451904,\"y\":-0.21272043883800507},\"id\":\"1738\",\"type\":\"Label\"},{\"attributes\":{\"text\":\"uawake\",\"x\":3.6689586639404297,\"y\":-0.1998443752527237},\"id\":\"1846\",\"type\":\"Label\"},{\"attributes\":{\"text\":\"terminated\",\"x\":2.313322067260742,\"y\":0.7321772575378418},\"id\":\"1954\",\"type\":\"Label\"},{\"attributes\":{\"text\":\"sent\",\"x\":-1.909695029258728,\"y\":0.839629590511322},\"id\":\"1127\",\"type\":\"Label\"},{\"attributes\":{\"text\":\"aight\",\"x\":-2.3780951499938965,\"y\":0.4308474063873291},\"id\":\"1271\",\"type\":\"Label\"},{\"attributes\":{\"text\":\"overdid\",\"x\":-0.1285269856452942,\"y\":-1.2216237783432007},\"id\":\"1739\",\"type\":\"Label\"},{\"attributes\":{\"text\":\"eleven\",\"x\":2.093837261199951,\"y\":1.5667390823364258},\"id\":\"1831\",\"type\":\"Label\"},{\"attributes\":{\"text\":\"afterwards\",\"x\":-2.8682169914245605,\"y\":-0.6712604761123657},\"id\":\"1847\",\"type\":\"Label\"},{\"attributes\":{\"text\":\"nhs\",\"x\":0.6883141994476318,\"y\":-1.7235974073410034},\"id\":\"1955\",\"type\":\"Label\"},{\"attributes\":{\"text\":\"something\",\"x\":-3.226865530014038,\"y\":0.628810703754425},\"id\":\"1128\",\"type\":\"Label\"},{\"attributes\":{\"text\":\"called\",\"x\":1.1054496765136719,\"y\":0.31163549423217773},\"id\":\"1272\",\"type\":\"Label\"},{\"attributes\":{\"text\":\"musta\",\"x\":0.5778799057006836,\"y\":0.026817364618182182},\"id\":\"1740\",\"type\":\"Label\"},{\"attributes\":{\"text\":\"disagreeable\",\"x\":-1.7876290082931519,\"y\":-1.40621817111969},\"id\":\"1848\",\"type\":\"Label\"},{\"attributes\":{\"text\":\"solihull\",\"x\":-3.395120620727539,\"y\":2.1809849739074707},\"id\":\"1956\",\"type\":\"Label\"},{\"attributes\":{\"text\":\"keep\",\"x\":-2.915024757385254,\"y\":-0.5062324404716492},\"id\":\"1129\",\"type\":\"Label\"},{\"attributes\":{\"text\":\"watch\",\"x\":-2.410917043685913,\"y\":-1.7368525266647339},\"id\":\"1273\",\"type\":\"Label\"},{\"attributes\":{\"text\":\"leg\",\"x\":-0.04025459662079811,\"y\":-0.7515221834182739},\"id\":\"1741\",\"type\":\"Label\"},{\"attributes\":{\"text\":\"styles\",\"x\":-2.8292620182037354,\"y\":-0.1386808305978775},\"id\":\"1849\",\"type\":\"Label\"},{\"attributes\":{\"text\":\"mre\",\"x\":1.5837535858154297,\"y\":-3.3507635593414307},\"id\":\"1957\",\"type\":\"Label\"},{\"attributes\":{\"text\":\"contact\",\"x\":4.9978766441345215,\"y\":0.1735963672399521},\"id\":\"1130\",\"type\":\"Label\"},{\"attributes\":{\"text\":\"probably\",\"x\":-1.3170628547668457,\"y\":0.8624575138092041},\"id\":\"1274\",\"type\":\"Label\"},{\"attributes\":{\"text\":\"splash\",\"x\":-2.242063522338867,\"y\":0.27361592650413513},\"id\":\"1742\",\"type\":\"Label\"},{\"attributes\":{\"text\":\"ranju\",\"x\":2.0953595638275146,\"y\":0.5027058720588684},\"id\":\"1850\",\"type\":\"Label\"},{\"attributes\":{\"text\":\"swat\",\"x\":1.226797342300415,\"y\":1.1320996284484863},\"id\":\"1958\",\"type\":\"Label\"},{\"attributes\":{\"text\":\"buy\",\"x\":-2.7442922592163086,\"y\":2.417611837387085},\"id\":\"1131\",\"type\":\"Label\"},{\"attributes\":{\"text\":\"rate\",\"x\":5.461885929107666,\"y\":-0.48071199655532837},\"id\":\"1275\",\"type\":\"Label\"},{\"attributes\":{\"text\":\"awkward\",\"x\":-2.8819947242736816,\"y\":-2.439275026321411},\"id\":\"1743\",\"type\":\"Label\"},{\"attributes\":{\"text\":\"rajitha\",\"x\":2.21718168258667,\"y\":2.04731822013855},\"id\":\"1851\",\"type\":\"Label\"},{\"attributes\":{\"text\":\"farrell\",\"x\":1.364174246788025,\"y\":0.602593719959259},\"id\":\"1959\",\"type\":\"Label\"},{\"attributes\":{\"fill_alpha\":{\"value\":0.1},\"fill_color\":{\"value\":\"#1f77b4\"},\"line_alpha\":{\"value\":0.1},\"line_color\":{\"value\":\"#1f77b4\"},\"x\":{\"field\":\"x\"},\"y\":{\"field\":\"y\"}},\"id\":\"1034\",\"type\":\"Scatter\"},{\"attributes\":{\"text\":\"min\",\"x\":5.958860397338867,\"y\":-1.938436508178711},\"id\":\"1132\",\"type\":\"Label\"},{\"attributes\":{\"text\":\"apply\",\"x\":7.469878196716309,\"y\":-1.254542589187622},\"id\":\"1276\",\"type\":\"Label\"},{\"attributes\":{\"text\":\"compensation\",\"x\":3.5566205978393555,\"y\":0.9219362735748291},\"id\":\"1744\",\"type\":\"Label\"},{\"attributes\":{\"text\":\"mustprovide\",\"x\":7.186004161834717,\"y\":-1.3119761943817139},\"id\":\"1852\",\"type\":\"Label\"},{\"attributes\":{\"text\":\"colin\",\"x\":2.7334837913513184,\"y\":0.39404672384262085},\"id\":\"1960\",\"type\":\"Label\"},{\"attributes\":{\"text\":\"wait\",\"x\":-3.251523494720459,\"y\":-0.7100204229354858},\"id\":\"1133\",\"type\":\"Label\"},{\"attributes\":{\"text\":\"wont\",\"x\":-4.097533702850342,\"y\":-0.1500060111284256},\"id\":\"1277\",\"type\":\"Label\"},{\"attributes\":{\"text\":\"ree\",\"x\":5.3455810546875,\"y\":-1.983339786529541},\"id\":\"1745\",\"type\":\"Label\"},{\"attributes\":{\"text\":\"accommodationvouchers\",\"x\":2.464731216430664,\"y\":-0.46157658100128174},\"id\":\"1853\",\"type\":\"Label\"},{\"attributes\":{\"text\":\"fold\",\"x\":1.545358657836914,\"y\":0.6370548009872437},\"id\":\"1961\",\"type\":\"Label\"},{\"attributes\":{\"text\":\"cant\",\"x\":-5.361123561859131,\"y\":-1.47763192653656},\"id\":\"1134\",\"type\":\"Label\"},{\"attributes\":{\"text\":\"remember\",\"x\":-3.9934475421905518,\"y\":-1.2825649976730347},\"id\":\"1278\",\"type\":\"Label\"},{\"attributes\":{\"text\":\"wrkin\",\"x\":2.1031057834625244,\"y\":1.7176557779312134},\"id\":\"1746\",\"type\":\"Label\"},{\"attributes\":{\"text\":\"mumbai\",\"x\":-2.513504981994629,\"y\":-0.7399986982345581},\"id\":\"1854\",\"type\":\"Label\"},{\"attributes\":{\"text\":\"ritten\",\"x\":3.5587291717529297,\"y\":1.4935760498046875},\"id\":\"1962\",\"type\":\"Label\"},{\"attributes\":{\"text\":\"first\",\"x\":-1.0416853427886963,\"y\":-1.6511545181274414},\"id\":\"1135\",\"type\":\"Label\"},{\"attributes\":{\"text\":\"maybe\",\"x\":0.03602064773440361,\"y\":-0.97431880235672},\"id\":\"1279\",\"type\":\"Label\"},{\"attributes\":{\"text\":\"uploaded\",\"x\":0.14041629433631897,\"y\":-0.30232909321784973},\"id\":\"1747\",\"type\":\"Label\"},{\"attributes\":{\"text\":\"mtnl\",\"x\":-2.6388564109802246,\"y\":-0.6111544966697693},\"id\":\"1855\",\"type\":\"Label\"},{\"attributes\":{\"text\":\"taka\",\"x\":0.658682644367218,\"y\":2.340940237045288},\"id\":\"1963\",\"type\":\"Label\"},{\"attributes\":{\"text\":\"even\",\"x\":0.9005959630012512,\"y\":2.9224748611450195},\"id\":\"1136\",\"type\":\"Label\"},{\"attributes\":{\"text\":\"hear\",\"x\":6.202695846557617,\"y\":2.3562357425689697},\"id\":\"1280\",\"type\":\"Label\"},{\"attributes\":{\"text\":\"salmon\",\"x\":0.596357524394989,\"y\":0.3932039737701416},\"id\":\"1748\",\"type\":\"Label\"},{\"attributes\":{\"text\":\"onwords\",\"x\":-2.6411359310150146,\"y\":-1.385553002357483},\"id\":\"1856\",\"type\":\"Label\"},{\"attributes\":{\"text\":\"tallahassee\",\"x\":-2.029614210128784,\"y\":-0.6693583130836487},\"id\":\"1964\",\"type\":\"Label\"},{\"attributes\":{\"text\":\"next\",\"x\":4.163223743438721,\"y\":0.5358453392982483},\"id\":\"1137\",\"type\":\"Label\"},{\"attributes\":{\"text\":\"bed\",\"x\":-5.162293910980225,\"y\":-0.11012579500675201},\"id\":\"1281\",\"type\":\"Label\"},{\"attributes\":{\"text\":\"fuuuuck\",\"x\":1.655058741569519,\"y\":0.9924386143684387},\"id\":\"1749\",\"type\":\"Label\"},{\"attributes\":{\"text\":\"skyving\",\"x\":4.385615825653076,\"y\":-0.8691616654396057},\"id\":\"1857\",\"type\":\"Label\"},{\"attributes\":{\"text\":\"wrenching\",\"x\":1.9941176176071167,\"y\":1.099888801574707},\"id\":\"1965\",\"type\":\"Label\"},{\"attributes\":{\"text\":\"feel\",\"x\":-3.4175052642822266,\"y\":-0.3990447223186493},\"id\":\"1138\",\"type\":\"Label\"},{\"attributes\":{\"text\":\"forgot\",\"x\":-1.6805554628372192,\"y\":3.1022777557373047},\"id\":\"1282\",\"type\":\"Label\"},{\"attributes\":{\"text\":\"implications\",\"x\":-2.6097846031188965,\"y\":-0.5954440832138062},\"id\":\"1750\",\"type\":\"Label\"},{\"attributes\":{\"text\":\"loneliness\",\"x\":-1.5552098751068115,\"y\":-1.5599446296691895},\"id\":\"1858\",\"type\":\"Label\"},{\"attributes\":{\"text\":\"gut\",\"x\":1.2809855937957764,\"y\":-0.3325132131576538},\"id\":\"1966\",\"type\":\"Label\"},{\"attributes\":{\"text\":\"nice\",\"x\":-3.125871181488037,\"y\":0.17488808929920197},\"id\":\"1139\",\"type\":\"Label\"},{\"attributes\":{\"text\":\"boy\",\"x\":-3.029820680618286,\"y\":-0.24387948215007782},\"id\":\"1283\",\"type\":\"Label\"},{\"attributes\":{\"text\":\"geoenvironmental\",\"x\":3.025681734085083,\"y\":-0.1808040887117386},\"id\":\"1751\",\"type\":\"Label\"},{\"attributes\":{\"text\":\"watched\",\"x\":-0.12839439511299133,\"y\":-0.8005035519599915},\"id\":\"1859\",\"type\":\"Label\"},{\"attributes\":{\"text\":\"uses\",\"x\":-1.2168529033660889,\"y\":0.318319171667099},\"id\":\"1967\",\"type\":\"Label\"},{\"attributes\":{\"text\":\"someone\",\"x\":-0.5076318979263306,\"y\":-1.7393149137496948},\"id\":\"1140\",\"type\":\"Label\"},{\"attributes\":{\"text\":\"thanx\",\"x\":-1.148191213607788,\"y\":-1.7553925514221191},\"id\":\"1284\",\"type\":\"Label\"},{\"attributes\":{\"text\":\"logging\",\"x\":0.06829997152090073,\"y\":3.486276149749756},\"id\":\"1752\",\"type\":\"Label\"},{\"attributes\":{\"text\":\"guides\",\"x\":-1.0028115510940552,\"y\":-1.0040762424468994},\"id\":\"1860\",\"type\":\"Label\"},{\"attributes\":{\"text\":\"beatings\",\"x\":3.179826498031616,\"y\":0.19779956340789795},\"id\":\"1968\",\"type\":\"Label\"},{\"attributes\":{\"text\":\"went\",\"x\":-4.252620220184326,\"y\":3.2473959922790527},\"id\":\"1141\",\"type\":\"Label\"},{\"attributes\":{\"text\":\"plan\",\"x\":-4.246506214141846,\"y\":-0.3155423402786255},\"id\":\"1285\",\"type\":\"Label\"},{\"attributes\":{\"text\":\"wounds\",\"x\":-2.518686294555664,\"y\":1.0767393112182617},\"id\":\"1753\",\"type\":\"Label\"},{\"attributes\":{\"text\":\"opener\",\"x\":0.006597917061299086,\"y\":-0.10872248560190201},\"id\":\"1861\",\"type\":\"Label\"},{\"attributes\":{\"text\":\"device\",\"x\":3.2840683460235596,\"y\":-0.2565965950489044},\"id\":\"1969\",\"type\":\"Label\"},{\"attributes\":{\"text\":\"thing\",\"x\":-4.103403091430664,\"y\":-1.7098215818405151},\"id\":\"1142\",\"type\":\"Label\"},{\"attributes\":{\"text\":\"shall\",\"x\":-4.541835784912109,\"y\":-0.21696627140045166},\"id\":\"1286\",\"type\":\"Label\"},{\"attributes\":{\"text\":\"salt\",\"x\":-1.0236459970474243,\"y\":0.4105077385902405},\"id\":\"1754\",\"type\":\"Label\"},{\"attributes\":{\"text\":\"liver\",\"x\":-2.746080160140991,\"y\":-2.1382713317871094},\"id\":\"1862\",\"type\":\"Label\"},{\"attributes\":{\"text\":\"chastity\",\"x\":3.6659555435180664,\"y\":-1.4744850397109985},\"id\":\"1970\",\"type\":\"Label\"},{\"attributes\":{\"text\":\"around\",\"x\":-2.3085453510284424,\"y\":1.5216172933578491},\"id\":\"1143\",\"type\":\"Label\"},{\"attributes\":{\"text\":\"two\",\"x\":-0.7142341136932373,\"y\":0.23268069326877594},\"id\":\"1287\",\"type\":\"Label\"},{\"attributes\":{\"text\":\"bluray\",\"x\":-2.4280364513397217,\"y\":-0.35088565945625305},\"id\":\"1755\",\"type\":\"Label\"},{\"attributes\":{\"text\":\"younger\",\"x\":-0.388396292924881,\"y\":-0.49599069356918335},\"id\":\"1863\",\"type\":\"Label\"},{\"attributes\":{\"text\":\"exposed\",\"x\":-1.4228447675704956,\"y\":1.048088788986206},\"id\":\"1971\",\"type\":\"Label\"},{\"attributes\":{\"text\":\"soon\",\"x\":-2.310603380203247,\"y\":0.08121965080499649},\"id\":\"1144\",\"type\":\"Label\"},{\"attributes\":{\"text\":\"minutes\",\"x\":-0.5728394985198975,\"y\":0.8741129636764526},\"id\":\"1288\",\"type\":\"Label\"},{\"attributes\":{\"text\":\"karnan\",\"x\":0.0393538735806942,\"y\":-0.4564216136932373},\"id\":\"1756\",\"type\":\"Label\"},{\"attributes\":{\"text\":\"natalie\",\"x\":1.8193601369857788,\"y\":0.5287597179412842},\"id\":\"1864\",\"type\":\"Label\"},{\"attributes\":{\"text\":\"gynae\",\"x\":-1.8039216995239258,\"y\":1.3042669296264648},\"id\":\"1972\",\"type\":\"Label\"},{\"attributes\":{\"text\":\"could\",\"x\":0.009543318301439285,\"y\":-1.8744323253631592},\"id\":\"1145\",\"type\":\"Label\"},{\"attributes\":{\"text\":\"sat\",\"x\":-4.419261455535889,\"y\":-1.8586889505386353},\"id\":\"1289\",\"type\":\"Label\"},{\"attributes\":{\"text\":\"facilities\",\"x\":-2.4508097171783447,\"y\":0.5309275388717651},\"id\":\"1757\",\"type\":\"Label\"},{\"attributes\":{\"text\":\"preponed\",\"x\":-2.9471194744110107,\"y\":-0.3991679549217224},\"id\":\"1865\",\"type\":\"Label\"},{\"attributes\":{\"text\":\"abdomen\",\"x\":0.12295059114694595,\"y\":-0.09646737575531006},\"id\":\"1973\",\"type\":\"Label\"},{\"attributes\":{\"text\":\"place\",\"x\":1.6654257774353027,\"y\":2.6935760974884033},\"id\":\"1146\",\"type\":\"Label\"},{\"attributes\":{\"text\":\"actually\",\"x\":-4.428741455078125,\"y\":1.134278655052185},\"id\":\"1290\",\"type\":\"Label\"},{\"attributes\":{\"text\":\"velusamy\",\"x\":2.1190733909606934,\"y\":2.075740098953247},\"id\":\"1758\",\"type\":\"Label\"},{\"attributes\":{\"text\":\"clarify\",\"x\":-1.8587571382522583,\"y\":-0.3075402081012726},\"id\":\"1866\",\"type\":\"Label\"},{\"attributes\":{\"text\":\"antibiotic\",\"x\":-0.1964607685804367,\"y\":-0.9426024556159973},\"id\":\"1974\",\"type\":\"Label\"},{\"attributes\":{\"text\":\"money\",\"x\":-2.861931324005127,\"y\":1.0695631504058838},\"id\":\"1147\",\"type\":\"Label\"},{\"attributes\":{\"text\":\"den\",\"x\":-3.7024056911468506,\"y\":0.6613576412200928},\"id\":\"1291\",\"type\":\"Label\"},{\"attributes\":{\"text\":\"failing\",\"x\":3.224752902984619,\"y\":2.095318078994751},\"id\":\"1759\",\"type\":\"Label\"},{\"attributes\":{\"text\":\"stage\",\"x\":-1.258141279220581,\"y\":-0.8047168850898743},\"id\":\"1867\",\"type\":\"Label\"},{\"attributes\":{\"text\":\"lists\",\"x\":0.36429277062416077,\"y\":0.2618626654148102},\"id\":\"1975\",\"type\":\"Label\"},{\"attributes\":{\"text\":\"endless\",\"x\":0.7650221586227417,\"y\":1.9710509777069092},\"id\":\"1580\",\"type\":\"Label\"},{\"attributes\":{\"text\":\"know\",\"x\":-0.9031134843826294,\"y\":-2.3515849113464355},\"id\":\"1040\",\"type\":\"Label\"},{\"attributes\":{\"text\":\"like\",\"x\":-0.05359750986099243,\"y\":1.4193345308303833},\"id\":\"1041\",\"type\":\"Label\"},{\"attributes\":{\"text\":\"boundaries\",\"x\":1.83890700340271,\"y\":0.6510758996009827},\"id\":\"1581\",\"type\":\"Label\"},{\"attributes\":{\"text\":\"good\",\"x\":-4.362958908081055,\"y\":0.6824716925621033},\"id\":\"1042\",\"type\":\"Label\"},{\"attributes\":{\"text\":\"limit\",\"x\":-0.04072241485118866,\"y\":0.8265522122383118},\"id\":\"1582\",\"type\":\"Label\"},{\"attributes\":{\"text\":\"got\",\"x\":-2.9677248001098633,\"y\":0.47004976868629456},\"id\":\"1043\",\"type\":\"Label\"},{\"attributes\":{\"text\":\"identification\",\"x\":-2.636054754257202,\"y\":1.2260863780975342},\"id\":\"1583\",\"type\":\"Label\"},{\"attributes\":{\"text\":\"day\",\"x\":-2.6620326042175293,\"y\":0.9106258749961853},\"id\":\"1044\",\"type\":\"Label\"},{\"attributes\":{\"text\":\"tip\",\"x\":-2.8918728828430176,\"y\":0.49307745695114136},\"id\":\"1584\",\"type\":\"Label\"},{\"attributes\":{\"text\":\"come\",\"x\":-5.302281379699707,\"y\":0.1588025838136673},\"id\":\"1045\",\"type\":\"Label\"},{\"attributes\":{\"text\":\"tamilnadu\",\"x\":-0.3749028742313385,\"y\":1.1353154182434082},\"id\":\"1585\",\"type\":\"Label\"},{\"attributes\":{\"text\":\"time\",\"x\":-0.30741676688194275,\"y\":-3.877131700515747},\"id\":\"1046\",\"type\":\"Label\"},{\"attributes\":{\"text\":\"ultimate\",\"x\":0.9687669277191162,\"y\":1.2104864120483398},\"id\":\"1586\",\"type\":\"Label\"},{\"attributes\":{\"text\":\"love\",\"x\":-2.5925180912017822,\"y\":0.21309417486190796},\"id\":\"1047\",\"type\":\"Label\"},{\"attributes\":{\"text\":\"marvel\",\"x\":0.7163200378417969,\"y\":-0.22144360840320587},\"id\":\"1587\",\"type\":\"Label\"},{\"attributes\":{\"text\":\"send\",\"x\":3.7301273345947266,\"y\":1.3724147081375122},\"id\":\"1048\",\"type\":\"Label\"},{\"attributes\":{\"text\":\"planettalkinstant\",\"x\":-0.007067193277180195,\"y\":0.4424062669277191},\"id\":\"1588\",\"type\":\"Label\"},{\"attributes\":{\"text\":\"want\",\"x\":-3.839287042617798,\"y\":-1.4426124095916748},\"id\":\"1049\",\"type\":\"Label\"},{\"attributes\":{\"text\":\"ofcourse\",\"x\":1.1820695400238037,\"y\":0.9247910976409912},\"id\":\"1589\",\"type\":\"Label\"},{\"attributes\":{\"text\":\"text\",\"x\":6.341770172119141,\"y\":-0.3932403028011322},\"id\":\"1050\",\"type\":\"Label\"},{\"attributes\":{\"text\":\"bong\",\"x\":-2.6639537811279297,\"y\":-2.2663192749023438},\"id\":\"1590\",\"type\":\"Label\"},{\"attributes\":{\"text\":\"txt\",\"x\":6.498676300048828,\"y\":-1.9743727445602417},\"id\":\"1051\",\"type\":\"Label\"},{\"attributes\":{\"text\":\"rhode\",\"x\":-2.8715572357177734,\"y\":-0.5375402569770813},\"id\":\"1591\",\"type\":\"Label\"},{\"attributes\":{\"text\":\"one\",\"x\":-0.6345230937004089,\"y\":1.2580609321594238},\"id\":\"1052\",\"type\":\"Label\"},{\"attributes\":{\"text\":\"max\",\"x\":0.6132050156593323,\"y\":1.9089561700820923},\"id\":\"1592\",\"type\":\"Label\"},{\"attributes\":{\"text\":\"going\",\"x\":-3.2430779933929443,\"y\":0.043948665261268616},\"id\":\"1053\",\"type\":\"Label\"},{\"attributes\":{\"text\":\"motor\",\"x\":-0.11438733339309692,\"y\":2.7787859439849854},\"id\":\"1593\",\"type\":\"Label\"},{\"attributes\":{\"text\":\"need\",\"x\":-3.4811549186706543,\"y\":0.4254637062549591},\"id\":\"1054\",\"type\":\"Label\"},{\"attributes\":{\"text\":\"yeovil\",\"x\":1.2035964727401733,\"y\":2.5764832496643066},\"id\":\"1594\",\"type\":\"Label\"},{\"attributes\":{\"text\":\"home\",\"x\":-3.9085497856140137,\"y\":1.9271095991134644},\"id\":\"1055\",\"type\":\"Label\"},{\"attributes\":{\"text\":\"repeating\",\"x\":-1.3778437376022339,\"y\":-1.3958382606506348},\"id\":\"1595\",\"type\":\"Label\"},{\"attributes\":{\"text\":\"lor\",\"x\":-2.5577030181884766,\"y\":-2.4714772701263428},\"id\":\"1056\",\"type\":\"Label\"},{\"attributes\":{\"text\":\"lecturer\",\"x\":-0.14133566617965698,\"y\":-0.43205708265304565},\"id\":\"1596\",\"type\":\"Label\"},{\"attributes\":{\"text\":\"today\",\"x\":-2.562969207763672,\"y\":-0.46271008253097534},\"id\":\"1057\",\"type\":\"Label\"},{\"attributes\":{\"text\":\"holby\",\"x\":1.7714403867721558,\"y\":-0.24729272723197937},\"id\":\"1597\",\"type\":\"Label\"},{\"attributes\":{\"text\":\"sorry\",\"x\":0.18444134294986725,\"y\":4.689538955688477},\"id\":\"1058\",\"type\":\"Label\"},{\"attributes\":{\"text\":\"stressful\",\"x\":-0.48582199215888977,\"y\":-0.8373438119888306},\"id\":\"1598\",\"type\":\"Label\"},{\"attributes\":{\"text\":\"see\",\"x\":0.18173135817050934,\"y\":1.3591753244400024},\"id\":\"1059\",\"type\":\"Label\"},{\"attributes\":{\"text\":\"command\",\"x\":-3.7878823280334473,\"y\":0.7151650786399841},\"id\":\"1599\",\"type\":\"Label\"},{\"attributes\":{\"text\":\"stop\",\"x\":5.686979293823242,\"y\":-1.142255425453186},\"id\":\"1060\",\"type\":\"Label\"},{\"attributes\":{\"text\":\"hmmmm\",\"x\":1.3765463829040527,\"y\":-0.24842946231365204},\"id\":\"1600\",\"type\":\"Label\"},{\"attributes\":{\"text\":\"still\",\"x\":-2.7292816638946533,\"y\":-1.703169822692871},\"id\":\"1061\",\"type\":\"Label\"},{\"attributes\":{\"text\":\"negative\",\"x\":-2.0232996940612793,\"y\":-1.2133632898330688},\"id\":\"1601\",\"type\":\"Label\"},{\"attributes\":{\"text\":\"back\",\"x\":0.7536908984184265,\"y\":-2.258197784423828},\"id\":\"1062\",\"type\":\"Label\"},{\"attributes\":{\"text\":\"positive\",\"x\":-1.2602099180221558,\"y\":-0.4516347646713257},\"id\":\"1602\",\"type\":\"Label\"},{\"attributes\":{\"text\":\"reply\",\"x\":6.796443939208984,\"y\":0.5253247618675232},\"id\":\"1063\",\"type\":\"Label\"},{\"attributes\":{\"text\":\"ringtone\\u00e5\\u00e1\",\"x\":2.448868751525879,\"y\":-1.0407681465148926},\"id\":\"1603\",\"type\":\"Label\"},{\"attributes\":{\"text\":\"dont\",\"x\":-2.162221670150757,\"y\":-0.4150236248970032},\"id\":\"1064\",\"type\":\"Label\"},{\"attributes\":{\"text\":\"true\\u00e5\\u00e1c\",\"x\":2.6436305046081543,\"y\":0.6585052609443665},\"id\":\"1604\",\"type\":\"Label\"},{\"attributes\":{\"text\":\"mobile\",\"x\":7.372239589691162,\"y\":-0.5150343179702759},\"id\":\"1065\",\"type\":\"Label\"},{\"attributes\":{\"text\":\"treasure\",\"x\":-1.2621519565582275,\"y\":-1.4710984230041504},\"id\":\"1605\",\"type\":\"Label\"},{\"attributes\":{\"text\":\"gamb\",\"x\":4.202340602874756,\"y\":1.3141688108444214},\"id\":\"1606\",\"type\":\"Label\"},{\"attributes\":{\"text\":\"tell\",\"x\":-3.623462677001953,\"y\":0.28771644830703735},\"id\":\"1067\",\"type\":\"Label\"},{\"attributes\":{\"text\":\"belong\",\"x\":-3.271578788757324,\"y\":0.5388995409011841},\"id\":\"1607\",\"type\":\"Label\"},{\"attributes\":{\"text\":\"new\",\"x\":8.623827934265137,\"y\":-0.4597034752368927},\"id\":\"1068\",\"type\":\"Label\"},{\"attributes\":{\"text\":\"gyno\",\"x\":1.1064529418945312,\"y\":-0.26461637020111084},\"id\":\"1608\",\"type\":\"Label\"},{\"attributes\":{\"text\":\"later\",\"x\":-7.6003217697143555,\"y\":-0.3717834949493408},\"id\":\"1069\",\"type\":\"Label\"},{\"attributes\":{\"text\":\"org\",\"x\":1.4694523811340332,\"y\":-0.2729172110557556},\"id\":\"1609\",\"type\":\"Label\"},{\"attributes\":{\"text\":\"pls\",\"x\":-1.646633267402649,\"y\":5.018007278442383},\"id\":\"1070\",\"type\":\"Label\"},{\"attributes\":{\"text\":\"shortbreaks\",\"x\":0.19223228096961975,\"y\":-1.358919620513916},\"id\":\"1610\",\"type\":\"Label\"},{\"attributes\":{\"text\":\"please\",\"x\":2.935267686843872,\"y\":1.1462318897247314},\"id\":\"1071\",\"type\":\"Label\"},{\"attributes\":{\"text\":\"breaks\",\"x\":2.117288112640381,\"y\":-0.808823823928833},\"id\":\"1611\",\"type\":\"Label\"},{\"attributes\":{\"text\":\"think\",\"x\":-2.1543283462524414,\"y\":1.8387746810913086},\"id\":\"1072\",\"type\":\"Label\"},{\"attributes\":{\"text\":\"sparkling\",\"x\":0.09808330982923508,\"y\":-0.8289444446563721},\"id\":\"1612\",\"type\":\"Label\"},{\"attributes\":{\"text\":\"week\",\"x\":5.190943241119385,\"y\":-0.8642809987068176},\"id\":\"1073\",\"type\":\"Label\"},{\"attributes\":{\"text\":\"revealing\",\"x\":-3.05483078956604,\"y\":-0.9105362892150879},\"id\":\"1613\",\"type\":\"Label\"},{\"attributes\":{\"text\":\"phone\",\"x\":5.332463264465332,\"y\":0.3691975772380829},\"id\":\"1074\",\"type\":\"Label\"},{\"attributes\":{\"text\":\"boobs\",\"x\":1.295190453529358,\"y\":-0.9154825210571289},\"id\":\"1614\",\"type\":\"Label\"},{\"attributes\":{\"text\":\"dear\",\"x\":-2.656801462173462,\"y\":-0.5912383198738098},\"id\":\"1075\",\"type\":\"Label\"},{\"attributes\":{\"text\":\"chick\",\"x\":2.218754291534424,\"y\":-1.392547607421875},\"id\":\"1615\",\"type\":\"Label\"},{\"attributes\":{\"text\":\"well\",\"x\":-2.626251459121704,\"y\":0.3758658766746521},\"id\":\"1076\",\"type\":\"Label\"},{\"attributes\":{\"text\":\"thk\",\"x\":-3.004685401916504,\"y\":-2.2959890365600586},\"id\":\"1184\",\"type\":\"Label\"},{\"attributes\":{\"text\":\"games\",\"x\":7.6453938484191895,\"y\":0.9198632836341858},\"id\":\"1472\",\"type\":\"Label\"},{\"attributes\":{\"text\":\"wheat\",\"x\":-1.8012545108795166,\"y\":0.7526386976242065},\"id\":\"1688\",\"type\":\"Label\"},{\"attributes\":{\"text\":\"much\",\"x\":-1.6850165128707886,\"y\":-0.11196079850196838},\"id\":\"1077\",\"type\":\"Label\"},{\"attributes\":{\"text\":\"beeen\",\"x\":-2.2713329792022705,\"y\":-0.2878694534301758},\"id\":\"1796\",\"type\":\"Label\"},{\"attributes\":{\"text\":\"use\",\"x\":1.13654625415802,\"y\":-1.2127153873443604},\"id\":\"1185\",\"type\":\"Label\"},{\"attributes\":{\"text\":\"chikku\",\"x\":-3.0962884426116943,\"y\":1.1771401166915894},\"id\":\"1473\",\"type\":\"Label\"},{\"attributes\":{\"text\":\"hannaford\",\"x\":-0.2886054813861847,\"y\":0.03968057781457901},\"id\":\"1689\",\"type\":\"Label\"},{\"attributes\":{\"text\":\"great\",\"x\":-0.8022421002388,\"y\":2.475442409515381},\"id\":\"1078\",\"type\":\"Label\"},{\"attributes\":{\"text\":\"tohar\",\"x\":0.3259412348270416,\"y\":-0.24257799983024597},\"id\":\"1797\",\"type\":\"Label\"},{\"attributes\":{\"text\":\"try\",\"x\":-3.1349477767944336,\"y\":1.38685142993927},\"id\":\"1186\",\"type\":\"Label\"},{\"attributes\":{\"text\":\"huh\",\"x\":-4.046319484710693,\"y\":1.8661341667175293},\"id\":\"1474\",\"type\":\"Label\"},{\"attributes\":{\"text\":\"jam\",\"x\":0.3028646409511566,\"y\":1.718885898590088},\"id\":\"1690\",\"type\":\"Label\"},{\"attributes\":{\"text\":\"night\",\"x\":-0.48062247037887573,\"y\":-1.3372505903244019},\"id\":\"1079\",\"type\":\"Label\"},{\"attributes\":{\"text\":\"aslamalaikkum\",\"x\":0.0429651103913784,\"y\":-3.0615408420562744},\"id\":\"1798\",\"type\":\"Label\"},{\"attributes\":{\"text\":\"heart\",\"x\":-3.2914857864379883,\"y\":-0.4675937592983246},\"id\":\"1187\",\"type\":\"Label\"},{\"attributes\":{\"text\":\"eve\",\"x\":4.41666841506958,\"y\":-1.7297316789627075},\"id\":\"1475\",\"type\":\"Label\"},{\"attributes\":{\"text\":\"resolved\",\"x\":-2.4586868286132812,\"y\":-0.003058867296203971},\"id\":\"1691\",\"type\":\"Label\"},{\"attributes\":{\"text\":\"claim\",\"x\":7.678744792938232,\"y\":1.0949211120605469},\"id\":\"1080\",\"type\":\"Label\"},{\"attributes\":{\"text\":\"reassurance\",\"x\":-1.3033384084701538,\"y\":-0.036491136997938156},\"id\":\"1799\",\"type\":\"Label\"},{\"attributes\":{\"text\":\"mins\",\"x\":5.143967628479004,\"y\":0.6352621912956238},\"id\":\"1188\",\"type\":\"Label\"},{\"attributes\":{\"text\":\"saying\",\"x\":-3.9365620613098145,\"y\":0.6851412057876587},\"id\":\"1476\",\"type\":\"Label\"},{\"attributes\":{\"text\":\"sterm\",\"x\":-1.350748062133789,\"y\":1.3508274555206299},\"id\":\"1692\",\"type\":\"Label\"},{\"attributes\":{\"text\":\"hope\",\"x\":-3.1796011924743652,\"y\":0.5151486992835999},\"id\":\"1081\",\"type\":\"Label\"},{\"attributes\":{\"text\":\"humanities\",\"x\":-1.512428641319275,\"y\":-0.34296801686286926},\"id\":\"1800\",\"type\":\"Label\"},{\"attributes\":{\"text\":\"thought\",\"x\":-4.1844329833984375,\"y\":0.24670226871967316},\"id\":\"1189\",\"type\":\"Label\"},{\"attributes\":{\"text\":\"drive\",\"x\":-3.888298273086548,\"y\":-0.9616189002990723},\"id\":\"1477\",\"type\":\"Label\"},{\"attributes\":{\"text\":\"wicket\",\"x\":-0.24143168330192566,\"y\":0.8898535370826721},\"id\":\"1693\",\"type\":\"Label\"},{\"attributes\":{\"text\":\"hey\",\"x\":-2.324359655380249,\"y\":-0.8662851452827454},\"id\":\"1082\",\"type\":\"Label\"},{\"attributes\":{\"text\":\"vco\",\"x\":0.4621753394603729,\"y\":-0.4593954384326935},\"id\":\"1801\",\"type\":\"Label\"},{\"attributes\":{\"text\":\"holiday\",\"x\":4.582335472106934,\"y\":-0.42705270648002625},\"id\":\"1190\",\"type\":\"Label\"},{\"attributes\":{\"text\":\"await\",\"x\":4.406661033630371,\"y\":-3.5665111541748047},\"id\":\"1478\",\"type\":\"Label\"},{\"attributes\":{\"text\":\"steyn\",\"x\":1.579778790473938,\"y\":-0.46148738265037537},\"id\":\"1694\",\"type\":\"Label\"},{\"attributes\":{\"text\":\"msg\",\"x\":4.101924419403076,\"y\":-1.6006749868392944},\"id\":\"1083\",\"type\":\"Label\"},{\"attributes\":{\"text\":\"responsibilities\",\"x\":1.1211981773376465,\"y\":0.8660110831260681},\"id\":\"1802\",\"type\":\"Label\"},{\"attributes\":{\"text\":\"lunch\",\"x\":-3.6001579761505127,\"y\":-0.35129594802856445},\"id\":\"1191\",\"type\":\"Label\"},{\"attributes\":{\"text\":\"dreams\",\"x\":-3.285680055618286,\"y\":0.5558274388313293},\"id\":\"1479\",\"type\":\"Label\"},{\"attributes\":{\"text\":\"aquarius\",\"x\":-2.1197707653045654,\"y\":0.08149977773427963},\"id\":\"1695\",\"type\":\"Label\"},{\"attributes\":{\"text\":\"wat\",\"x\":-1.9247514009475708,\"y\":0.20038029551506042},\"id\":\"1084\",\"type\":\"Label\"},{\"attributes\":{\"text\":\"londn\",\"x\":-1.419872522354126,\"y\":1.5058609247207642},\"id\":\"1803\",\"type\":\"Label\"},{\"attributes\":{\"text\":\"live\",\"x\":3.582858085632324,\"y\":-1.7817655801773071},\"id\":\"1192\",\"type\":\"Label\"},{\"attributes\":{\"text\":\"pounds\",\"x\":5.7921037673950195,\"y\":0.5284343957901001},\"id\":\"1480\",\"type\":\"Label\"},{\"attributes\":{\"text\":\"pisces\",\"x\":-0.8807216286659241,\"y\":-0.21935856342315674},\"id\":\"1696\",\"type\":\"Label\"},{\"attributes\":{\"text\":\"happy\",\"x\":-3.1483664512634277,\"y\":-1.3791542053222656},\"id\":\"1085\",\"type\":\"Label\"},{\"attributes\":{\"text\":\"blacko\",\"x\":1.0678937435150146,\"y\":-2.1595680713653564},\"id\":\"1804\",\"type\":\"Label\"},{\"attributes\":{\"text\":\"man\",\"x\":-2.251654624938965,\"y\":-1.8149945735931396},\"id\":\"1193\",\"type\":\"Label\"},{\"attributes\":{\"text\":\"news\",\"x\":4.556982040405273,\"y\":2.209531784057617},\"id\":\"1481\",\"type\":\"Label\"},{\"attributes\":{\"text\":\"heaven\",\"x\":2.855430841445923,\"y\":2.8711464405059814},\"id\":\"1697\",\"type\":\"Label\"},{\"attributes\":{\"text\":\"yes\",\"x\":-2.9387216567993164,\"y\":0.9167330861091614},\"id\":\"1086\",\"type\":\"Label\"},{\"attributes\":{\"text\":\"fassyole\",\"x\":-1.1572930812835693,\"y\":0.3333257734775543},\"id\":\"1805\",\"type\":\"Label\"},{\"attributes\":{\"text\":\"best\",\"x\":-1.067240834236145,\"y\":-0.731576144695282},\"id\":\"1194\",\"type\":\"Label\"},{\"attributes\":{\"text\":\"aft\",\"x\":-3.6930742263793945,\"y\":-0.15388762950897217},\"id\":\"1482\",\"type\":\"Label\"},{\"attributes\":{\"text\":\"alaikkum\",\"x\":0.42152494192123413,\"y\":-0.5138537287712097},\"id\":\"1698\",\"type\":\"Label\"},{\"attributes\":{\"text\":\"make\",\"x\":-2.475287675857544,\"y\":0.19814994931221008},\"id\":\"1087\",\"type\":\"Label\"},{\"attributes\":{\"text\":\"haughaighgtujhyguj\",\"x\":-0.26189202070236206,\"y\":0.6382824182510376},\"id\":\"1806\",\"type\":\"Label\"},{\"attributes\":{\"text\":\"god\",\"x\":-3.8577589988708496,\"y\":-0.411196768283844},\"id\":\"1195\",\"type\":\"Label\"},{\"attributes\":{\"text\":\"tomo\",\"x\":-3.671470880508423,\"y\":1.4936513900756836},\"id\":\"1483\",\"type\":\"Label\"},{\"attributes\":{\"text\":\"correctly\",\"x\":-1.0940091609954834,\"y\":0.6376356482505798},\"id\":\"1699\",\"type\":\"Label\"},{\"attributes\":{\"text\":\"andres\",\"x\":-2.1191394329071045,\"y\":0.9611681699752808},\"id\":\"1807\",\"type\":\"Label\"},{\"attributes\":{\"text\":\"way\",\"x\":-3.757028341293335,\"y\":-1.2253600358963013},\"id\":\"1088\",\"type\":\"Label\"},{\"attributes\":{\"text\":\"talk\",\"x\":7.6154680252075195,\"y\":0.7780725955963135},\"id\":\"1196\",\"type\":\"Label\"},{\"attributes\":{\"text\":\"congrats\",\"x\":-2.5004634857177734,\"y\":-0.9735309481620789},\"id\":\"1484\",\"type\":\"Label\"},{\"attributes\":{\"text\":\"marandratha\",\"x\":-1.0424284934997559,\"y\":-0.7600679993629456},\"id\":\"1700\",\"type\":\"Label\"},{\"attributes\":{\"text\":\"hassling\",\"x\":-2.2583422660827637,\"y\":0.3013971149921417},\"id\":\"1808\",\"type\":\"Label\"},{\"attributes\":{\"text\":\"www\",\"x\":5.650097370147705,\"y\":-2.2649624347686768},\"id\":\"1089\",\"type\":\"Label\"},{\"attributes\":{\"text\":\"stuff\",\"x\":1.2468739748001099,\"y\":0.8465661406517029},\"id\":\"1197\",\"type\":\"Label\"},{\"attributes\":{\"text\":\"took\",\"x\":-3.349013328552246,\"y\":-1.0737416744232178},\"id\":\"1485\",\"type\":\"Label\"},{\"attributes\":{\"text\":\"rumbling\",\"x\":-0.93889319896698,\"y\":-0.4470904469490051},\"id\":\"1701\",\"type\":\"Label\"},{\"attributes\":{\"text\":\"netvision\",\"x\":1.5475974082946777,\"y\":-0.03965713828802109},\"id\":\"1809\",\"type\":\"Label\"},{\"attributes\":{\"text\":\"work\",\"x\":-3.2531697750091553,\"y\":0.29529592394828796},\"id\":\"1090\",\"type\":\"Label\"},{\"attributes\":{\"text\":\"class\",\"x\":1.2877246141433716,\"y\":2.3020193576812744},\"id\":\"1198\",\"type\":\"Label\"},{\"attributes\":{\"text\":\"finished\",\"x\":-4.652501106262207,\"y\":0.8782157301902771},\"id\":\"1486\",\"type\":\"Label\"},{\"attributes\":{\"text\":\"sashimi\",\"x\":-1.3462187051773071,\"y\":-1.7498890161514282},\"id\":\"1702\",\"type\":\"Label\"},{\"attributes\":{\"text\":\"customersqueries\",\"x\":0.394715279340744,\"y\":-0.8504579067230225},\"id\":\"1810\",\"type\":\"Label\"},{\"attributes\":{\"text\":\"give\",\"x\":-3.3663642406463623,\"y\":0.1221112310886383},\"id\":\"1091\",\"type\":\"Label\"},{\"attributes\":{\"text\":\"smile\",\"x\":-2.200993776321411,\"y\":0.7655119895935059},\"id\":\"1199\",\"type\":\"Label\"},{\"attributes\":{\"text\":\"started\",\"x\":-0.24700559675693512,\"y\":-0.7766379117965698},\"id\":\"1487\",\"type\":\"Label\"},{\"attributes\":{\"text\":\"oyster\",\"x\":-2.665376663208008,\"y\":-0.030677586793899536},\"id\":\"1703\",\"type\":\"Label\"},{\"attributes\":{\"text\":\"queries\",\"x\":2.24064564704895,\"y\":2.1560781002044678},\"id\":\"1811\",\"type\":\"Label\"},{\"attributes\":{\"text\":\"number\",\"x\":4.108376502990723,\"y\":2.275456190109253},\"id\":\"1092\",\"type\":\"Label\"},{\"attributes\":{\"text\":\"draw\",\"x\":6.664348602294922,\"y\":-2.906172037124634},\"id\":\"1200\",\"type\":\"Label\"},{\"attributes\":{\"text\":\"private\",\"x\":4.252769947052002,\"y\":-0.6201353669166565},\"id\":\"1488\",\"type\":\"Label\"},{\"attributes\":{\"text\":\"adress\",\"x\":-2.1525933742523193,\"y\":-1.0126813650131226},\"id\":\"1704\",\"type\":\"Label\"},{\"attributes\":{\"text\":\"resent\",\"x\":1.8986612558364868,\"y\":-0.6312479376792908},\"id\":\"1812\",\"type\":\"Label\"},{\"attributes\":{\"text\":\"message\",\"x\":6.927633285522461,\"y\":0.11042987555265427},\"id\":\"1093\",\"type\":\"Label\"},{\"attributes\":{\"text\":\"days\",\"x\":6.8510613441467285,\"y\":1.8398648500442505},\"id\":\"1201\",\"type\":\"Label\"},{\"attributes\":{\"text\":\"awesome\",\"x\":-3.604985237121582,\"y\":1.6348843574523926},\"id\":\"1489\",\"type\":\"Label\"},{\"attributes\":{\"text\":\"theplace\",\"x\":-3.3582372665405273,\"y\":0.18715088069438934},\"id\":\"1705\",\"type\":\"Label\"},{\"attributes\":{\"text\":\"hoody\",\"x\":1.4567044973373413,\"y\":-0.33760419487953186},\"id\":\"1813\",\"type\":\"Label\"},{\"attributes\":{\"text\":\"prize\",\"x\":5.6745452880859375,\"y\":-0.5010424256324768},\"id\":\"1094\",\"type\":\"Label\"},{\"attributes\":{\"text\":\"yup\",\"x\":1.498496174812317,\"y\":-2.625983953475952},\"id\":\"1202\",\"type\":\"Label\"},{\"attributes\":{\"text\":\"minute\",\"x\":2.028156042098999,\"y\":-0.8141210675239563},\"id\":\"1490\",\"type\":\"Label\"},{\"attributes\":{\"text\":\"beendropping\",\"x\":-2.187232494354248,\"y\":-0.9460736513137817},\"id\":\"1706\",\"type\":\"Label\"},{\"attributes\":{\"text\":\"badass\",\"x\":5.2713236808776855,\"y\":-2.1921329498291016},\"id\":\"1814\",\"type\":\"Label\"},{\"attributes\":{\"text\":\"tomorrow\",\"x\":3.072127103805542,\"y\":3.8754403591156006},\"id\":\"1095\",\"type\":\"Label\"},{\"attributes\":{\"text\":\"trying\",\"x\":2.031113386154175,\"y\":-0.8897342681884766},\"id\":\"1203\",\"type\":\"Label\"},{\"attributes\":{\"text\":\"walk\",\"x\":-2.772444009780884,\"y\":-1.4041130542755127},\"id\":\"1491\",\"type\":\"Label\"},{\"attributes\":{\"text\":\"mumhas\",\"x\":2.0079071521759033,\"y\":0.17883309721946716},\"id\":\"1707\",\"type\":\"Label\"},{\"attributes\":{\"text\":\"animation\",\"x\":6.36985969543457,\"y\":-0.8179755806922913},\"id\":\"1815\",\"type\":\"Label\"},{\"attributes\":{\"text\":\"say\",\"x\":-2.225675582885742,\"y\":0.9295518398284912},\"id\":\"1096\",\"type\":\"Label\"},{\"attributes\":{\"text\":\"bit\",\"x\":-3.5569393634796143,\"y\":-0.6078732013702393},\"id\":\"1204\",\"type\":\"Label\"},{\"attributes\":{\"text\":\"okie\",\"x\":-2.7633156776428223,\"y\":0.5957459211349487},\"id\":\"1492\",\"type\":\"Label\"},{\"attributes\":{\"text\":\"treacle\",\"x\":-0.2603190243244171,\"y\":-1.4506003856658936},\"id\":\"1708\",\"type\":\"Label\"},{\"attributes\":{\"text\":\"zebra\",\"x\":1.86801278591156,\"y\":-0.8246932029724121},\"id\":\"1816\",\"type\":\"Label\"},{\"attributes\":{\"text\":\"right\",\"x\":-1.901887059211731,\"y\":-1.1138488054275513},\"id\":\"1097\",\"type\":\"Label\"},{\"attributes\":{\"text\":\"never\",\"x\":0.05327313393354416,\"y\":0.13336363434791565},\"id\":\"1205\",\"type\":\"Label\"},{\"attributes\":{\"text\":\"post\",\"x\":-4.0691680908203125,\"y\":-0.23288442194461823},\"id\":\"1493\",\"type\":\"Label\"},{\"attributes\":{\"text\":\"treatin\",\"x\":-0.4883503019809723,\"y\":-0.6853873133659363},\"id\":\"1709\",\"type\":\"Label\"},{\"attributes\":{\"text\":\"sugababes\",\"x\":2.147757053375244,\"y\":0.7575069665908813},\"id\":\"1817\",\"type\":\"Label\"},{\"attributes\":{\"text\":\"already\",\"x\":-3.930305004119873,\"y\":-0.3430286645889282},\"id\":\"1098\",\"type\":\"Label\"},{\"attributes\":{\"text\":\"meeting\",\"x\":-4.293078422546387,\"y\":2.2433083057403564},\"id\":\"1206\",\"type\":\"Label\"},{\"attributes\":{\"text\":\"row\",\"x\":0.312237024307251,\"y\":-0.5094824433326721},\"id\":\"1494\",\"type\":\"Label\"},{\"attributes\":{\"text\":\"reapply\",\"x\":-1.4958397150039673,\"y\":-1.5238059759140015},\"id\":\"1710\",\"type\":\"Label\"},{\"attributes\":{\"text\":\"panther\",\"x\":0.2089737355709076,\"y\":0.2954193353652954},\"id\":\"1818\",\"type\":\"Label\"},{\"attributes\":{\"text\":\"ask\",\"x\":-1.9340811967849731,\"y\":-0.7668535709381104},\"id\":\"1099\",\"type\":\"Label\"},{\"attributes\":{\"text\":\"thats\",\"x\":-3.8106868267059326,\"y\":2.8944804668426514},\"id\":\"1207\",\"type\":\"Label\"},{\"attributes\":{\"text\":\"poly\",\"x\":3.7750377655029297,\"y\":-0.6444855332374573},\"id\":\"1495\",\"type\":\"Label\"},{\"attributes\":{\"text\":\"resuming\",\"x\":-2.231022834777832,\"y\":-1.373579978942871},\"id\":\"1711\",\"type\":\"Label\"},{\"attributes\":{\"text\":\"kotees\",\"x\":2.10082745552063,\"y\":-2.0456511974334717},\"id\":\"1819\",\"type\":\"Label\"},{\"attributes\":{\"text\":\"cash\",\"x\":6.261355876922607,\"y\":-0.8367265462875366},\"id\":\"1100\",\"type\":\"Label\"},{\"attributes\":{\"text\":\"job\",\"x\":-4.170049667358398,\"y\":-0.05597136914730072},\"id\":\"1208\",\"type\":\"Label\"},{\"attributes\":{\"text\":\"head\",\"x\":-3.4493374824523926,\"y\":2.009807825088501},\"id\":\"1496\",\"type\":\"Label\"},{\"attributes\":{\"text\":\"genes\",\"x\":-0.7745429277420044,\"y\":-0.8308553099632263},\"id\":\"1712\",\"type\":\"Label\"},{\"attributes\":{\"text\":\"dino\",\"x\":1.7060303688049316,\"y\":-1.2018100023269653},\"id\":\"1820\",\"type\":\"Label\"},{\"attributes\":{\"text\":\"said\",\"x\":-4.766751766204834,\"y\":0.4165807068347931},\"id\":\"1101\",\"type\":\"Label\"},{\"attributes\":{\"text\":\"better\",\"x\":-2.2489914894104004,\"y\":1.158122181892395},\"id\":\"1209\",\"type\":\"Label\"},{\"attributes\":{\"text\":\"thinking\",\"x\":-3.1425957679748535,\"y\":0.33351317048072815},\"id\":\"1497\",\"type\":\"Label\"},{\"attributes\":{\"text\":\"misundrstud\",\"x\":-0.797633945941925,\"y\":-1.003080129623413},\"id\":\"1713\",\"type\":\"Label\"},{\"attributes\":{\"text\":\"diamond\",\"x\":-3.1961188316345215,\"y\":-0.5232880115509033},\"id\":\"1821\",\"type\":\"Label\"},{\"attributes\":{\"text\":\"yeah\",\"x\":-3.601557731628418,\"y\":-0.6303245425224304},\"id\":\"1102\",\"type\":\"Label\"},{\"attributes\":{\"text\":\"house\",\"x\":-4.161858558654785,\"y\":0.5889712572097778},\"id\":\"1210\",\"type\":\"Label\"},{\"attributes\":{\"text\":\"simple\",\"x\":-1.4393630027770996,\"y\":-0.862957239151001},\"id\":\"1498\",\"type\":\"Label\"},{\"attributes\":{\"text\":\"foward\",\"x\":1.982381820678711,\"y\":-0.010885214433073997},\"id\":\"1714\",\"type\":\"Label\"},{\"attributes\":{\"text\":\"uncut\",\"x\":-1.71876060962677,\"y\":-1.7109915018081665},\"id\":\"1822\",\"type\":\"Label\"},{\"attributes\":{\"text\":\"really\",\"x\":-2.746560573577881,\"y\":2.0608890056610107},\"id\":\"1103\",\"type\":\"Label\"},{\"attributes\":{\"text\":\"line\",\"x\":6.791446685791016,\"y\":-0.8088900446891785},\"id\":\"1211\",\"type\":\"Label\"},{\"attributes\":{\"text\":\"pics\",\"x\":5.639988899230957,\"y\":-2.773650884628296},\"id\":\"1499\",\"type\":\"Label\"},{\"attributes\":{\"text\":\"lamp\",\"x\":-0.4531339108943939,\"y\":3.6981236934661865},\"id\":\"1715\",\"type\":\"Label\"},{\"attributes\":{\"text\":\"exchanged\",\"x\":-2.203704357147217,\"y\":0.3064388930797577},\"id\":\"1823\",\"type\":\"Label\"},{\"attributes\":{\"text\":\"amp\",\"x\":-2.557992696762085,\"y\":3.0548202991485596},\"id\":\"1104\",\"type\":\"Label\"},{\"attributes\":{\"text\":\"finish\",\"x\":-4.656954765319824,\"y\":-0.6125331521034241},\"id\":\"1212\",\"type\":\"Label\"},{\"attributes\":{\"text\":\"mum\",\"x\":-2.6819310188293457,\"y\":-0.4222623109817505},\"id\":\"1500\",\"type\":\"Label\"},{\"attributes\":{\"text\":\"swan\",\"x\":2.232938289642334,\"y\":0.7607007026672363},\"id\":\"1716\",\"type\":\"Label\"},{\"attributes\":{\"text\":\"shanil\",\"x\":1.5703363418579102,\"y\":1.5060832500457764},\"id\":\"1824\",\"type\":\"Label\"},{\"attributes\":{\"text\":\"meet\",\"x\":0.02896123379468918,\"y\":-2.7201907634735107},\"id\":\"1105\",\"type\":\"Label\"},{\"attributes\":{\"text\":\"cool\",\"x\":-2.806419849395752,\"y\":1.2901530265808105},\"id\":\"1213\",\"type\":\"Label\"},{\"attributes\":{\"text\":\"email\",\"x\":1.8426827192306519,\"y\":1.8341617584228516},\"id\":\"1501\",\"type\":\"Label\"},{\"attributes\":{\"text\":\"absolutely\",\"x\":-1.3963521718978882,\"y\":-0.9327697157859802},\"id\":\"1717\",\"type\":\"Label\"},{\"attributes\":{\"text\":\"gokila\",\"x\":-0.6316120624542236,\"y\":-2.880080461502075},\"id\":\"1825\",\"type\":\"Label\"},{\"attributes\":{\"text\":\"life\",\"x\":-2.488176107406616,\"y\":-0.5928098559379578},\"id\":\"1106\",\"type\":\"Label\"},{\"attributes\":{\"text\":\"long\",\"x\":-3.021634340286255,\"y\":-0.3112820088863373},\"id\":\"1214\",\"type\":\"Label\"},{\"attributes\":{\"text\":\"rite\",\"x\":-3.6501574516296387,\"y\":-0.002101688412949443},\"id\":\"1502\",\"type\":\"Label\"},{\"attributes\":{\"text\":\"craigslist\",\"x\":1.787782073020935,\"y\":-0.10724709182977676},\"id\":\"1718\",\"type\":\"Label\"},{\"attributes\":{\"text\":\"virgil\",\"x\":-1.1289119720458984,\"y\":0.22086848318576813},\"id\":\"1826\",\"type\":\"Label\"},{\"attributes\":{\"text\":\"find\",\"x\":6.503039360046387,\"y\":-3.0069580078125},\"id\":\"1107\",\"type\":\"Label\"},{\"attributes\":{\"text\":\"ill\",\"x\":-3.936392068862915,\"y\":-2.2776825428009033},\"id\":\"1215\",\"type\":\"Label\"},{\"attributes\":{\"text\":\"pic\",\"x\":4.511023044586182,\"y\":-1.3974894285202026},\"id\":\"1503\",\"type\":\"Label\"},{\"attributes\":{\"text\":\"treadmill\",\"x\":2.276482582092285,\"y\":-0.8698276877403259},\"id\":\"1719\",\"type\":\"Label\"},{\"attributes\":{\"text\":\"andre\",\"x\":1.1412767171859741,\"y\":0.5684953331947327},\"id\":\"1827\",\"type\":\"Label\"},{\"attributes\":{\"text\":\"let\",\"x\":-0.41917887330055237,\"y\":-3.406317710876465},\"id\":\"1108\",\"type\":\"Label\"},{\"attributes\":{\"text\":\"ready\",\"x\":-3.359527349472046,\"y\":-0.3091650903224945},\"id\":\"1216\",\"type\":\"Label\"},{\"attributes\":{\"text\":\"available\",\"x\":-2.0526466369628906,\"y\":0.220671609044075},\"id\":\"1504\",\"type\":\"Label\"},{\"attributes\":{\"text\":\"anyones\",\"x\":0.08099691569805145,\"y\":-1.594806432723999},\"id\":\"1720\",\"type\":\"Label\"},{\"attributes\":{\"text\":\"dysentry\",\"x\":1.7330008745193481,\"y\":-0.31096139550209045},\"id\":\"1828\",\"type\":\"Label\"},{\"attributes\":{\"text\":\"morning\",\"x\":-3.0567328929901123,\"y\":2.0838265419006348},\"id\":\"1109\",\"type\":\"Label\"},{\"attributes\":{\"text\":\"person\",\"x\":-2.916532039642334,\"y\":1.5164463520050049},\"id\":\"1217\",\"type\":\"Label\"},{\"attributes\":{\"text\":\"final\",\"x\":7.519008159637451,\"y\":-1.3673932552337646},\"id\":\"1505\",\"type\":\"Label\"},{\"attributes\":{\"text\":\"studies\",\"x\":-1.2635183334350586,\"y\":-0.49133774638175964},\"id\":\"1721\",\"type\":\"Label\"},{\"attributes\":{\"text\":\"suffering\",\"x\":0.5314760804176331,\"y\":0.829200029373169},\"id\":\"1829\",\"type\":\"Label\"},{\"attributes\":{\"text\":\"babe\",\"x\":-2.7363531589508057,\"y\":-2.1968681812286377},\"id\":\"1110\",\"type\":\"Label\"},{\"attributes\":{\"text\":\"car\",\"x\":-3.150667905807495,\"y\":1.632396936416626},\"id\":\"1218\",\"type\":\"Label\"},{\"attributes\":{\"text\":\"tho\",\"x\":-2.861027956008911,\"y\":0.7602981328964233},\"id\":\"1506\",\"type\":\"Label\"},{\"attributes\":{\"text\":\"dull\",\"x\":-2.273956060409546,\"y\":-0.7336157560348511},\"id\":\"1722\",\"type\":\"Label\"},{\"attributes\":{\"text\":\"worms\",\"x\":0.4482656717300415,\"y\":-0.1699770838022232},\"id\":\"1830\",\"type\":\"Label\"},{\"attributes\":{\"text\":\"dat\",\"x\":-2.5253634452819824,\"y\":-0.6952738761901855},\"id\":\"1219\",\"type\":\"Label\"}],\"root_ids\":[\"1001\"]},\"title\":\"Bokeh Application\",\"version\":\"2.1.1\"}};\n",
              "  var render_items = [{\"docid\":\"708ea29f-d134-44ac-814b-a63a01b4357e\",\"root_ids\":[\"1001\"],\"roots\":{\"1001\":\"14ee8361-33ff-4589-a40c-fcd9e438275d\"}}];\n",
              "  root.Bokeh.embed.embed_items_notebook(docs_json, render_items);\n",
              "\n",
              "  }\n",
              "  if (root.Bokeh !== undefined) {\n",
              "    embed_document(root);\n",
              "  } else {\n",
              "    var attempts = 0;\n",
              "    var timer = setInterval(function(root) {\n",
              "      if (root.Bokeh !== undefined) {\n",
              "        clearInterval(timer);\n",
              "        embed_document(root);\n",
              "      } else {\n",
              "        attempts++;\n",
              "        if (attempts > 100) {\n",
              "          clearInterval(timer);\n",
              "          console.log(\"Bokeh: ERROR: Unable to run BokehJS code because BokehJS library is missing\");\n",
              "        }\n",
              "      }\n",
              "    }, 10, root)\n",
              "  }\n",
              "})(window);"
            ],
            "application/vnd.bokehjs_exec.v0+json": ""
          },
          "metadata": {
            "tags": [],
            "application/vnd.bokehjs_exec.v0+json": {
              "id": "1001"
            }
          }
        }
      ]
    },
    {
      "cell_type": "markdown",
      "metadata": {
        "id": "CXRNSN9Ark8o",
        "colab_type": "text"
      },
      "source": [
        "### Palavras Vizinhas no Embedding "
      ]
    },
    {
      "cell_type": "markdown",
      "metadata": {
        "id": "r9IVEX61n_5D",
        "colab_type": "text"
      },
      "source": [
        "Um problema da redução de dimensionalidade é que ao reduzir o _embedding_ de um número alto de dimensões para apenas $2$, podemos acabar aproximando palavras que não estavam tão próximas no espaço geométrico original."
      ]
    },
    {
      "cell_type": "markdown",
      "metadata": {
        "id": "jylO4wQUoOB5",
        "colab_type": "text"
      },
      "source": [
        "Vamos então avaliar **as palavras vizinhas mais próximas** no espaço original ($\\mathbb{R}^n$) dos _embeddings_. "
      ]
    },
    {
      "cell_type": "markdown",
      "metadata": {
        "id": "sZ2OgYK0oe12",
        "colab_type": "text"
      },
      "source": [
        "A função abaixo vai calcular a distância entre o vetor de _embedding_ de uma palavra especifica $w_i$ contra todos os vetores do _embedding_ (exceto o dela mesma).  \n",
        "Após isso, vamos ordenar as distâncias da menor para a maior e imprimir as palavras correspondentes as primeiras $n_{\\text{closest}}$ palavras, ou seja, os \"vizinhos\" mais próximos."
      ]
    },
    {
      "cell_type": "code",
      "metadata": {
        "id": "iZM7qghxSlCd",
        "colab_type": "code",
        "colab": {}
      },
      "source": [
        "from sklearn.metrics.pairwise import pairwise_distances\n",
        "\n",
        "def closest_words(word, n_closest = 5, embedding=None, word2idx = word2idx, idx2word = idx2word, d_metric='cosine', print_flag=True):\n",
        "  ''' Encontra as palavras mais próximas da entrada (word) no embedding correspondente.\n",
        "\n",
        "  Entradas:\n",
        "  - word: palavra de referência\n",
        "  - n_closets: quantos vizinhos imprimir\n",
        "  - embedding: matriz de embedding (V x D)\n",
        "  - word2idx: dicionário que converte de palavra para índice\n",
        "  - idx2word: lista de palavras do vocabulário na ordem correspondente aos seus índices\n",
        "  - d_metric: string correspondente à métrica de distância utilizada (default: 'cosine')\n",
        "  - print_flag: para imprimir os resultados ou não\n",
        "\n",
        "  Saída:\n",
        "  - lista das palavras encontradas\n",
        "  '''\n",
        "  \n",
        "  V, D = embedding.shape # leitura das dimensões do embedding\n",
        "\n",
        "  # converte a palavra de referência --> vetor de embedding\n",
        "  if word in word2idx:\n",
        "    vec = embedding[word2idx[word]].reshape(1, -1) # reshape para garantir 2-dimensões\n",
        "  else:\n",
        "    print(f'Palavra \"{word}\" não está no dicionário')\n",
        "    return [None]\n",
        "\n",
        "  # todas as distâncias entre vec e os vetores do embedding\n",
        "  distances = pairwise_distances(vec, embedding, \n",
        "                                   metric=d_metric).reshape(V) # reshape para 1 dimensão\n",
        "    \n",
        "  # ordena o índice dos embeddings da menor para a maior distância\n",
        "  # e seleciona n_closets+1 índices\n",
        "  idx = distances.argsort()[:n_closest+1]         # uma a mais, porque a primeira com certeza é o embedding de referência\n",
        "  idx = [x for x in idx if x != word2idx[word]]   # remove o embedding de referência (outra forma seria idx = idx[1:])\n",
        " \n",
        "  # imprime resultados\n",
        "  if print_flag:\n",
        "    print(f'As {len(idx)} palavras mais próximas de \"{word}\":')          \n",
        "    for i in idx:\n",
        "      print(f'{idx2word[i]}')\n",
        "    print()\n",
        "  \n",
        "  # retorna palavras encontradas\n",
        "  return [idx2word[i] for i in idx]"
      ],
      "execution_count": 107,
      "outputs": []
    },
    {
      "cell_type": "markdown",
      "metadata": {
        "id": "X-hWQQxmrMyY",
        "colab_type": "text"
      },
      "source": [
        "Vamos testar a função com algumas palavras da lista abaixo."
      ]
    },
    {
      "cell_type": "code",
      "metadata": {
        "id": "i_NfrWAZrQaF",
        "colab_type": "code",
        "colab": {}
      },
      "source": [
        "lista_de_palavras = ['free', 'call', 'reply', 'today', 'card', 'mobile', 'txt', 'dollars', 'pay', 'attach', 'link']"
      ],
      "execution_count": 108,
      "outputs": []
    },
    {
      "cell_type": "code",
      "metadata": {
        "id": "yU6VjzkSYyrI",
        "colab_type": "code",
        "colab": {
          "base_uri": "https://localhost:8080/",
          "height": 1000
        },
        "outputId": "fb1c913e-7de1-4a50-c168-c14238f70c42"
      },
      "source": [
        "listas_de_vizinhos = []\n",
        "for palavra in lista_de_palavras:\n",
        "  vizinhos_de_palavra = closest_words(palavra, n_closest=10, \n",
        "                                      embedding=E, \n",
        "                                      word2idx=word2idx, idx2word=idx2word)\n",
        "  listas_de_vizinhos.append(vizinhos_de_palavra)"
      ],
      "execution_count": 109,
      "outputs": [
        {
          "output_type": "stream",
          "text": [
            "As 10 palavras mais próximas de \"free\":\n",
            "conditions\n",
            "snappy\n",
            "chance\n",
            "flights\n",
            "contact\n",
            "national\n",
            "sale\n",
            "stories\n",
            "careers\n",
            "quality\n",
            "\n",
            "As 10 palavras mais próximas de \"call\":\n",
            "canname\n",
            "video\n",
            "top\n",
            "gudnyt\n",
            "summer\n",
            "instantly\n",
            "weekly\n",
            "offering\n",
            "mobile\n",
            "wave\n",
            "\n",
            "As 10 palavras mais próximas de \"reply\":\n",
            "subscription\n",
            "video\n",
            "loan\n",
            "connected\n",
            "adult\n",
            "wining\n",
            "ringtoneking\n",
            "charges\n",
            "received\n",
            "improved\n",
            "\n",
            "As 10 palavras mais próximas de \"today\":\n",
            "centre\n",
            "ish\n",
            "tiring\n",
            "middle\n",
            "adds\n",
            "impatient\n",
            "whole\n",
            "remember\n",
            "bunch\n",
            "transfered\n",
            "\n",
            "As 10 palavras mais próximas de \"card\":\n",
            "spatula\n",
            "addicted\n",
            "wine\n",
            "naughty\n",
            "checking\n",
            "booked\n",
            "dude\n",
            "twat\n",
            "covers\n",
            "math\n",
            "\n",
            "As 10 palavras mais próximas de \"mobile\":\n",
            "video\n",
            "new\n",
            "top\n",
            "ads\n",
            "allow\n",
            "http\n",
            "invited\n",
            "stories\n",
            "newest\n",
            "running\n",
            "\n",
            "As 10 palavras mais próximas de \"txt\":\n",
            "svc\n",
            "visionsms\n",
            "mustprovide\n",
            "area\n",
            "team\n",
            "strong\n",
            "floppy\n",
            "secs\n",
            "fancy\n",
            "pause\n",
            "\n",
            "As 10 palavras mais próximas de \"dollars\":\n",
            "mei\n",
            "regarding\n",
            "costumes\n",
            "cause\n",
            "dead\n",
            "swoop\n",
            "tht\n",
            "ams\n",
            "vibrate\n",
            "recognise\n",
            "\n",
            "As 10 palavras mais próximas de \"pay\":\n",
            "sure\n",
            "quick\n",
            "somtimes\n",
            "paru\n",
            "dead\n",
            "hoping\n",
            "planned\n",
            "reset\n",
            "stupid\n",
            "anot\n",
            "\n",
            "As 10 palavras mais próximas de \"attach\":\n",
            "blanket\n",
            "relationship\n",
            "wonders\n",
            "possibly\n",
            "deduct\n",
            "tour\n",
            "wocay\n",
            "coveragd\n",
            "bloke\n",
            "sarcastic\n",
            "\n",
            "As 10 palavras mais próximas de \"link\":\n",
            "worlds\n",
            "announcement\n",
            "mustprovide\n",
            "issues\n",
            "dogging\n",
            "comes\n",
            "subscription\n",
            "gbp\n",
            "content\n",
            "message\n",
            "\n"
          ],
          "name": "stdout"
        }
      ]
    },
    {
      "cell_type": "markdown",
      "metadata": {
        "id": "0Xyb7Abcs89D",
        "colab_type": "text"
      },
      "source": [
        "Agora confira os vizinhos das mesmas palavras calculados em relação à representação em $2$-D (duas dimensões) no _embedding_ gerado pelo PCA:"
      ]
    },
    {
      "cell_type": "code",
      "metadata": {
        "id": "k_bbwnN_aNqu",
        "colab_type": "code",
        "colab": {
          "base_uri": "https://localhost:8080/",
          "height": 1000
        },
        "outputId": "e1ae1638-adb1-40b5-b7af-7f9189fb75ce"
      },
      "source": [
        "listas_de_vizinhos_2D = []\n",
        "for palavra in lista_de_palavras:\n",
        "  vizinhos_de_palavra = closest_words(palavra, n_closest=10, \n",
        "                                      embedding=Embedding_2D, \n",
        "                                      word2idx=word2idx, idx2word=idx2word)\n",
        "  listas_de_vizinhos_2D.append(vizinhos_de_palavra)"
      ],
      "execution_count": 110,
      "outputs": [
        {
          "output_type": "stream",
          "text": [
            "As 10 palavras mais próximas de \"free\":\n",
            "current\n",
            "wap\n",
            "chat\n",
            "gaytextbuddy\n",
            "employer\n",
            "happend\n",
            "mates\n",
            "areyouunique\n",
            "lovin\n",
            "textoperator\n",
            "\n",
            "As 10 palavras mais próximas de \"call\":\n",
            "yards\n",
            "fluids\n",
            "attempt\n",
            "stereophonics\n",
            "gyno\n",
            "connect\n",
            "ikno\n",
            "nottingham\n",
            "vouchers\n",
            "yetty\n",
            "\n",
            "As 10 palavras mais próximas de \"reply\":\n",
            "ilol\n",
            "playin\n",
            "pause\n",
            "tscs\n",
            "toppoly\n",
            "tariffs\n",
            "morefrmmob\n",
            "semiobscure\n",
            "soc\n",
            "revealed\n",
            "\n",
            "As 10 palavras mais próximas de \"today\":\n",
            "ages\n",
            "settled\n",
            "prepared\n",
            "chop\n",
            "woulda\n",
            "confidence\n",
            "without\n",
            "theatre\n",
            "mentionned\n",
            "midnight\n",
            "\n",
            "As 10 palavras mais próximas de \"card\":\n",
            "wocay\n",
            "swatch\n",
            "sign\n",
            "drove\n",
            "maturity\n",
            "callså\n",
            "discussed\n",
            "thus\n",
            "arun\n",
            "bcum\n",
            "\n",
            "As 10 palavras mais próximas de \"mobile\":\n",
            "sunshine\n",
            "sorrows\n",
            "tattoos\n",
            "changing\n",
            "stamped\n",
            "bloomberg\n",
            "accounts\n",
            "freeentry\n",
            "receivea\n",
            "iraq\n",
            "\n",
            "As 10 palavras mais próximas de \"txt\":\n",
            "rough\n",
            "aboutas\n",
            "esaplanade\n",
            "scenario\n",
            "question\n",
            "disturbing\n",
            "kavalan\n",
            "sonyericsson\n",
            "unique\n",
            "camcorder\n",
            "\n",
            "As 10 palavras mais próximas de \"dollars\":\n",
            "prices\n",
            "mack\n",
            "twice\n",
            "infections\n",
            "lovingly\n",
            "fed\n",
            "iphone\n",
            "wrk\n",
            "deliver\n",
            "rem\n",
            "\n",
            "As 10 palavras mais próximas de \"pay\":\n",
            "chikku\n",
            "kisi\n",
            "prospects\n",
            "advising\n",
            "poem\n",
            "cuddled\n",
            "arm\n",
            "moan\n",
            "changes\n",
            "poor\n",
            "\n",
            "As 10 palavras mais próximas de \"attach\":\n",
            "gettin\n",
            "courage\n",
            "history\n",
            "odi\n",
            "attracts\n",
            "garbage\n",
            "uworld\n",
            "transfr\n",
            "deus\n",
            "milta\n",
            "\n",
            "As 10 palavras mais próximas de \"link\":\n",
            "avenge\n",
            "orno\n",
            "dates\n",
            "handsome\n",
            "selected\n",
            "iåõd\n",
            "cttergg\n",
            "rental\n",
            "sextextuk\n",
            "overdose\n",
            "\n"
          ],
          "name": "stdout"
        }
      ]
    },
    {
      "cell_type": "code",
      "metadata": {
        "id": "666Z3qC_tINW",
        "colab_type": "code",
        "colab": {}
      },
      "source": [
        ""
      ],
      "execution_count": 110,
      "outputs": []
    }
  ]
}