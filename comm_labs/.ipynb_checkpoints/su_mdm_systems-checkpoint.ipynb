{
 "cells": [
  {
   "cell_type": "code",
   "execution_count": 1,
   "metadata": {},
   "outputs": [],
   "source": [
    "from IPython.display import clear_output\n",
    "from time import time"
   ]
  },
  {
   "cell_type": "code",
   "execution_count": 2,
   "metadata": {},
   "outputs": [],
   "source": [
    "import numpy as np\n",
    "import matplotlib.pyplot as plt"
   ]
  },
  {
   "cell_type": "code",
   "execution_count": 3,
   "metadata": {},
   "outputs": [],
   "source": [
    "import torch\n",
    "import torch.nn as nn"
   ]
  },
  {
   "cell_type": "code",
   "execution_count": 4,
   "metadata": {},
   "outputs": [],
   "source": [
    "from su_mdm_utils import source_bits, bin2int_mapping, \\\n",
    "                         get_codebook, symbol_to_codeword_map, \\\n",
    "                         iid_rayleigh_channel, ML_detection, \\\n",
    "                         get_codebook_figures_of_merit, plot_multidimensional_modulation"
   ]
  },
  {
   "cell_type": "code",
   "execution_count": 5,
   "metadata": {},
   "outputs": [
    {
     "data": {
      "text/plain": [
       "<torch._C.Generator at 0x2273181ac70>"
      ]
     },
     "execution_count": 5,
     "metadata": {},
     "output_type": "execute_result"
    }
   ],
   "source": [
    "SEED = 42\n",
    "np.random.seed(SEED)\n",
    "torch.manual_seed(SEED)"
   ]
  },
  {
   "cell_type": "code",
   "execution_count": 6,
   "metadata": {},
   "outputs": [],
   "source": [
    "# Valores padronizados para tamanho de fontes em gráficos\n",
    "FOOTNOTE_SIZE = 11\n",
    "SMALL_SIZE = 14\n",
    "MEDIUM_SIZE = 18\n",
    "BIGGER_SIZE = 22\n",
    "\n",
    "# Método para configurar as fontes de um gráfico com base nos valores padronizados \n",
    "def set_fontsizes_in_plot():\n",
    "    plt.rc('axes', titlesize=MEDIUM_SIZE)    # fontsize of the axes title\n",
    "    plt.rc('axes', labelsize=MEDIUM_SIZE)    # fontsize of the x and y labels\n",
    "    plt.rc('xtick', labelsize=SMALL_SIZE)    # fontsize of the tick labels\n",
    "    plt.rc('ytick', labelsize=SMALL_SIZE)    # fontsize of the tick labels\n",
    "    plt.rc('legend', fontsize=SMALL_SIZE)    # legend fontsize\n",
    "    plt.rc('figure', titlesize=BIGGER_SIZE)  # fontsize of the figure title"
   ]
  },
  {
   "cell_type": "code",
   "execution_count": 7,
   "metadata": {},
   "outputs": [],
   "source": [
    "set_fontsizes_in_plot()"
   ]
  },
  {
   "cell_type": "markdown",
   "metadata": {},
   "source": [
    "# Single-user multidimensional modulation system over fading channels"
   ]
  },
  {
   "cell_type": "markdown",
   "metadata": {},
   "source": [
    "This is a tutorial on how to simulate the error performance of single-user digital communication systems that adopt multidimensional modulations"
   ]
  },
  {
   "cell_type": "markdown",
   "metadata": {},
   "source": [
    "## Explaining the building blocks of the system"
   ]
  },
  {
   "cell_type": "markdown",
   "metadata": {},
   "source": [
    "Initially, consider the building blocks for the system simulation.  \n",
    "Several functions have been implemented in the helper file ``su_mdm_utils.py``.  <br>\n",
    "Use ``print(<FunctionName>.__doc__)`` or ``help(<FunctionName>)`` for more details on its implementation. "
   ]
  },
  {
   "cell_type": "code",
   "execution_count": 8,
   "metadata": {},
   "outputs": [
    {
     "name": "stdout",
     "output_type": "stream",
     "text": [
      "Generates a bit stream of length k bits.\n",
      "    \n",
      "    Inputs:\n",
      "        k: the desired length of the output bitstream\n",
      "    \n",
      "    Outputs:\n",
      "        b: a row vector with k randomly generated bits\n",
      "    \n"
     ]
    }
   ],
   "source": [
    "# example on accessing the helper functions' documentation:\n",
    "print(source_bits.__doc__)"
   ]
  },
  {
   "cell_type": "markdown",
   "metadata": {},
   "source": [
    "### Transmitter"
   ]
  },
  {
   "cell_type": "markdown",
   "metadata": {},
   "source": [
    "We need to set a few parameters for the system.  \n",
    "The transmitter will map $p$ packets of $k$ bits each to $p$ equivalent symbols of a mutildimensional modulation $\\mathcal{C}\\subset \\mathbb{R}^N$, also known as a codebook. The codebook has cardinality $\\left| \\mathcal{C} \\right| = M = 2^k$.  \n",
    "Thus, a total of $p \\times N$ orthogonal resources will be used. "
   ]
  },
  {
   "cell_type": "code",
   "execution_count": 9,
   "metadata": {},
   "outputs": [],
   "source": [
    "num_packets     = 10\n",
    "bits_per_packet = 2\n",
    "mod_size        = 2**bits_per_packet\n",
    "n_dims = 3\n",
    "SE = np.log2(mod_size)"
   ]
  },
  {
   "cell_type": "markdown",
   "metadata": {},
   "source": [
    "The message being transmitted is a bit stream $\\mathbf{b} \\in \\mathbb{F}_2^{kp}$."
   ]
  },
  {
   "cell_type": "code",
   "execution_count": 10,
   "metadata": {},
   "outputs": [
    {
     "data": {
      "text/plain": [
       "((1, 20),\n",
       " array([[0, 1, 0, 0, 0, 1, 0, 0, 0, 1, 0, 0, 0, 0, 1, 0, 1, 1, 1, 0]]))"
      ]
     },
     "execution_count": 10,
     "metadata": {},
     "output_type": "execute_result"
    }
   ],
   "source": [
    "b = source_bits(k=num_packets*bits_per_packet)\n",
    "b.shape, b"
   ]
  },
  {
   "cell_type": "markdown",
   "metadata": {},
   "source": [
    "Each packet of $k$ bits of $\\mathbf{b}$ is mapped to an integer number in the finite field $\\mathbb{Z}_M$.  \n",
    "This mapping is defined as $\\mathbf{s}= \\mu \\left( \\mathbf{b} \\right)$, where $\\mathbf{s}\\in \\mathbb{Z}_M^p$."
   ]
  },
  {
   "cell_type": "code",
   "execution_count": 11,
   "metadata": {},
   "outputs": [
    {
     "data": {
      "text/plain": [
       "((1, 10), array([[1, 0, 1, 0, 1, 0, 0, 2, 3, 2]]))"
      ]
     },
     "execution_count": 11,
     "metadata": {},
     "output_type": "execute_result"
    }
   ],
   "source": [
    "s = bin2int_mapping(b,mod_size)\n",
    "s.shape, s"
   ]
  },
  {
   "cell_type": "markdown",
   "metadata": {},
   "source": [
    "Next, a second mapping function $\\lambda:\\mathbb{Z}_M\\to \\mathcal{C}$ will encode each integer in a codeword from the codebook.  \n",
    "To load the codebook $\\mathbf{C}$, we use the following function."
   ]
  },
  {
   "cell_type": "code",
   "execution_count": 12,
   "metadata": {},
   "outputs": [
    {
     "data": {
      "text/plain": [
       "((4, 3),\n",
       " 4.0,\n",
       " array([[-0.77459667, -0.77459667, -0.77459667],\n",
       "        [-0.25819889, -0.25819889, -0.25819889],\n",
       "        [ 0.25819889,  0.25819889,  0.25819889],\n",
       "        [ 0.77459667,  0.77459667,  0.77459667]]))"
      ]
     },
     "execution_count": 12,
     "metadata": {},
     "output_type": "execute_result"
    }
   ],
   "source": [
    "codebook = get_codebook(path=None, M=mod_size, N=n_dims)\n",
    "E = np.trace(codebook.T@codebook)\n",
    "codebook.shape, E, codebook"
   ]
  },
  {
   "cell_type": "markdown",
   "metadata": {},
   "source": [
    "The codewords $\\mathbf{c}^{(1)}, \\ldots, \\mathbf{c}^{(p)}$, where $\\mathbf{c}^{(i)}=\\lambda\\left( s_i \\right)$, are obtainted with the following mapping function:"
   ]
  },
  {
   "cell_type": "code",
   "execution_count": 13,
   "metadata": {},
   "outputs": [
    {
     "data": {
      "text/plain": [
       "((10, 3),\n",
       " array([[-0.25819889, -0.25819889, -0.25819889],\n",
       "        [-0.77459667, -0.77459667, -0.77459667],\n",
       "        [-0.25819889, -0.25819889, -0.25819889],\n",
       "        [-0.77459667, -0.77459667, -0.77459667],\n",
       "        [-0.25819889, -0.25819889, -0.25819889],\n",
       "        [-0.77459667, -0.77459667, -0.77459667],\n",
       "        [-0.77459667, -0.77459667, -0.77459667],\n",
       "        [ 0.25819889,  0.25819889,  0.25819889],\n",
       "        [ 0.77459667,  0.77459667,  0.77459667],\n",
       "        [ 0.25819889,  0.25819889,  0.25819889]]))"
      ]
     },
     "execution_count": 13,
     "metadata": {},
     "output_type": "execute_result"
    }
   ],
   "source": [
    "codewords = symbol_to_codeword_map(s, codebook)\n",
    "codewords.shape, codewords"
   ]
  },
  {
   "cell_type": "markdown",
   "metadata": {},
   "source": [
    "which is currently just using the integers to index the corresponding row of the codebook and select its codeword."
   ]
  },
  {
   "cell_type": "markdown",
   "metadata": {},
   "source": [
    "### Channel and Received Signal"
   ]
  },
  {
   "cell_type": "markdown",
   "metadata": {},
   "source": [
    "The channel between transmitter and receiver is subject to fading effects $h_n \\sim \\mathcal{N}\\left(1/2, 0\\right)$ in each orthogonal resource $n=1,\\ldots,N$.  \n",
    "The channel vector $\\mathbf{h} = \\begin{bmatrix}h_1, \\ldots, h_N \\end{bmatrix} \\in \\mathbb{R}^N$ is constant during the transmission of all $p$ codewords (block-fading).  \n",
    "Thus, the received signal is writen as  \n",
    "$\\mathbf{y}^{(i)} = \\text{diag}\\left( \\mathbf{h} \\right) \\mathbf{c}^{(i)} + \\mathbf{z}^{(i)}$,  \n",
    "where $\\mathbf{z}^{(i)}$ is the additive noise vector whose entries are i.i.d. random variables distributed as $z_n^{(i)} \\sim \\mathcal{N}\\left(0, \\dfrac{\\sigma^2}{2}\\right)$   "
   ]
  },
  {
   "cell_type": "code",
   "execution_count": 14,
   "metadata": {},
   "outputs": [],
   "source": [
    "# the parameter N0 corresponds to \\sigma^2 in the previous equation\n",
    "y, h = iid_rayleigh_channel(X=codewords, N0=1, fading=True, awgn=True)\n"
   ]
  },
  {
   "cell_type": "code",
   "execution_count": 15,
   "metadata": {},
   "outputs": [
    {
     "name": "stdout",
     "output_type": "stream",
     "text": [
      "(10, 3) (1, 3)\n"
     ]
    },
    {
     "data": {
      "text/plain": [
       "(array([[-0.24360676,  0.0720357 , -1.26828533],\n",
       "        [-0.96255939, -0.6947697 , -0.46235543],\n",
       "        [ 0.30792032, -0.74112744, -0.91404142],\n",
       "        [ 1.29351189, -0.45682033,  0.30157398],\n",
       "        [-0.9217352 , -0.48399417,  0.16304222],\n",
       "        [-0.55673365, -0.03151376, -0.17089137],\n",
       "        [ 0.05088308, -0.7226432 ,  1.56358279],\n",
       "        [-0.09525788, -0.64885711,  0.49701898],\n",
       "        [-1.12040854,  0.44486124, -1.63952036],\n",
       "        [-1.02488327,  0.23825937,  0.43756662]]),\n",
       " array([[-0.33196852,  0.38364789, -0.32768579]]))"
      ]
     },
     "execution_count": 15,
     "metadata": {},
     "output_type": "execute_result"
    }
   ],
   "source": [
    "print(y.shape, h.shape)\n",
    "y, h"
   ]
  },
  {
   "cell_type": "markdown",
   "metadata": {},
   "source": [
    "### Detection"
   ]
  },
  {
   "cell_type": "markdown",
   "metadata": {},
   "source": [
    "At the receiver, the estimated symbols $\\hat{s}_i$ are obtained using maximum-likelihood detection:  \n",
    "$\\hat{s}_i = \\min\\limits_{s} \\left| \\mathbf{y}^{(i)} - \\text{diag}\\left(\\mathbf{h}\\right) \\lambda\\left( s\\right) \\right|^2 $,  \n",
    "that is, the symbol corresponding to the codeword that minimizes the minimum euclidean-distance between the received vector and the faded candidates from the codebook."
   ]
  },
  {
   "cell_type": "code",
   "execution_count": 16,
   "metadata": {},
   "outputs": [
    {
     "data": {
      "text/plain": [
       "array([3, 3, 1, 0, 2, 3, 0, 0, 3, 3], dtype=int64)"
      ]
     },
     "execution_count": 16,
     "metadata": {},
     "output_type": "execute_result"
    }
   ],
   "source": [
    "ML_detection(y, h*codebook)"
   ]
  },
  {
   "cell_type": "markdown",
   "metadata": {},
   "source": [
    "## Monte Carlo Simulation"
   ]
  },
  {
   "cell_type": "markdown",
   "metadata": {},
   "source": [
    "Now, a Monte Carlo simulation is designed to evaluate the average symbol error rate (SER) over the channel realizations for several signal-to-noise ratios (SNR). Initially, the simulation parameters are chosen.  \n",
    "\n",
    "Among this parameters, ``min_sym_errors`` is the minimum number of symbol errors to be counted for each SeR $\\times$ SNR point.  \n",
    "Also, $P_e$ is the target error probability. If a simulation point achieves a SER lower than $P_e$, the simulation is interrupted.  \n",
    "\n",
    "Finally, the transmit power $P$ is set to be equal to $N$, and we then define:  \n",
    "$\\dfrac{E_b}{N_0} = \\dfrac{\\text{SNR}}{k} = \\dfrac{P}{\\sigma^2 k}$"
   ]
  },
  {
   "cell_type": "code",
   "execution_count": 18,
   "metadata": {},
   "outputs": [],
   "source": [
    "num_packets     = 50\n",
    "bits_per_packet = 4\n",
    "mod_size        = 2**bits_per_packet\n",
    "n_dims          = 8\n",
    "Psqrt           = np.sqrt(n_dims)\n",
    "\n",
    "EbN0dB          = np.arange(0,31,1,dtype=np.float64)\n",
    "LDS_Codebook    = Psqrt*get_codebook(path=None, M=mod_size, N=n_dims, LDS=True)\n",
    "\n",
    "min_sym_errors  = 500\n",
    "Pe_min          = 1e-5\n",
    "max_iters       = int((min_sym_errors/num_packets)/Pe_min)\n",
    "\n",
    "print_iters     = 10000"
   ]
  },
  {
   "cell_type": "markdown",
   "metadata": {},
   "source": [
    "The first codebook we are testing is a repetition code, that we name \"low-density spreading\" (LDS) due to its multiuser counterpart.  \n",
    "A set of $M$ PAM projections will be repeated over $N$ dimensions to generate the codebook.  \n",
    "The following code will describe this codebook with its figures of merit and projections plot."
   ]
  },
  {
   "cell_type": "code",
   "execution_count": 19,
   "metadata": {},
   "outputs": [
    {
     "data": {
      "text/plain": [
       "{'set_cardinality': 16,\n",
       " 'num_of_dimensions': 8,\n",
       " 'min_Euclidean_distance_Squared': 0.37647058823529284,\n",
       " 'min_signal_space_diversity': 8,\n",
       " 'min_Product_distance': 4.904155841045963e-06,\n",
       " 'avg_energy_symbol': 8.0}"
      ]
     },
     "execution_count": 19,
     "metadata": {},
     "output_type": "execute_result"
    }
   ],
   "source": [
    "LDS_Codebook_FoM = get_codebook_figures_of_merit(X=LDS_Codebook, eps=1e-2) \n",
    "LDS_Codebook_FoM"
   ]
  },
  {
   "cell_type": "code",
   "execution_count": 20,
   "metadata": {},
   "outputs": [
    {
     "data": {
      "text/plain": [
       "array([[-1.62697843, -1.62697843, -1.62697843, -1.62697843, -1.62697843,\n",
       "        -1.62697843, -1.62697843, -1.62697843],\n",
       "       [-1.41004798, -1.41004798, -1.41004798, -1.41004798, -1.41004798,\n",
       "        -1.41004798, -1.41004798, -1.41004798],\n",
       "       [-1.19311752, -1.19311752, -1.19311752, -1.19311752, -1.19311752,\n",
       "        -1.19311752, -1.19311752, -1.19311752],\n",
       "       [-0.97618706, -0.97618706, -0.97618706, -0.97618706, -0.97618706,\n",
       "        -0.97618706, -0.97618706, -0.97618706],\n",
       "       [-0.7592566 , -0.7592566 , -0.7592566 , -0.7592566 , -0.7592566 ,\n",
       "        -0.7592566 , -0.7592566 , -0.7592566 ],\n",
       "       [-0.54232614, -0.54232614, -0.54232614, -0.54232614, -0.54232614,\n",
       "        -0.54232614, -0.54232614, -0.54232614],\n",
       "       [-0.32539569, -0.32539569, -0.32539569, -0.32539569, -0.32539569,\n",
       "        -0.32539569, -0.32539569, -0.32539569],\n",
       "       [-0.10846523, -0.10846523, -0.10846523, -0.10846523, -0.10846523,\n",
       "        -0.10846523, -0.10846523, -0.10846523],\n",
       "       [ 0.10846523,  0.10846523,  0.10846523,  0.10846523,  0.10846523,\n",
       "         0.10846523,  0.10846523,  0.10846523],\n",
       "       [ 0.32539569,  0.32539569,  0.32539569,  0.32539569,  0.32539569,\n",
       "         0.32539569,  0.32539569,  0.32539569],\n",
       "       [ 0.54232614,  0.54232614,  0.54232614,  0.54232614,  0.54232614,\n",
       "         0.54232614,  0.54232614,  0.54232614],\n",
       "       [ 0.7592566 ,  0.7592566 ,  0.7592566 ,  0.7592566 ,  0.7592566 ,\n",
       "         0.7592566 ,  0.7592566 ,  0.7592566 ],\n",
       "       [ 0.97618706,  0.97618706,  0.97618706,  0.97618706,  0.97618706,\n",
       "         0.97618706,  0.97618706,  0.97618706],\n",
       "       [ 1.19311752,  1.19311752,  1.19311752,  1.19311752,  1.19311752,\n",
       "         1.19311752,  1.19311752,  1.19311752],\n",
       "       [ 1.41004798,  1.41004798,  1.41004798,  1.41004798,  1.41004798,\n",
       "         1.41004798,  1.41004798,  1.41004798],\n",
       "       [ 1.62697843,  1.62697843,  1.62697843,  1.62697843,  1.62697843,\n",
       "         1.62697843,  1.62697843,  1.62697843]])"
      ]
     },
     "execution_count": 20,
     "metadata": {},
     "output_type": "execute_result"
    }
   ],
   "source": [
    "LDS_Codebook"
   ]
  },
  {
   "cell_type": "code",
   "execution_count": 25,
   "metadata": {},
   "outputs": [
    {
     "data": {
      "image/png": "[encoded data removed]",
      "text/plain": [
       "<Figure size 1152x1152 with 8 Axes>"
      ]
     },
     "metadata": {
      "needs_background": "light"
     },
     "output_type": "display_data"
    }
   ],
   "source": [
    "plot_multidimensional_modulation(LDS_Codebook, figsize=(16,16))"
   ]
  },
  {
   "cell_type": "markdown",
   "metadata": {},
   "source": [
    "The full Monte Carlo simulation framework is available in the following function."
   ]
  },
  {
   "cell_type": "code",
   "execution_count": 26,
   "metadata": {},
   "outputs": [],
   "source": [
    "def su_mdm_monte_carlo_loop(EbN0dB, C, P=1):\n",
    "    '''Monte-Carlo simulation of a single-user multidimensional modulation system.\n",
    "    \n",
    "    Inputs:\n",
    "        EbN0dB: a vector with n simulation points of Eb/N0 (in dB).\n",
    "        C: a (M x N) matrix where each row is a N-dimensional codeword \n",
    "        P: the transmit power as the definition of the SNR = P / noise power\n",
    "        \n",
    "    Outputs:\n",
    "        SER: average symbol error rate for each simulation point\n",
    "    '''\n",
    "    \n",
    "    # ----------------------------------------------------------------------------------------------\n",
    "    # read inout parameters\n",
    "    M, N = codebook.shape\n",
    "    SE   = np.log2(M)\n",
    "    \n",
    "    EbN0 = 10**(0.1*EbN0dB)\n",
    "    SNR  = SE*EbN0\n",
    "    N0   = P/SNR\n",
    "\n",
    "    # initialize temporary vectors\n",
    "    SER                = np.zeros_like(EbN0dB,dtype=np.float64)\n",
    "    symbol_erros_total = np.zeros_like(EbN0dB,dtype=np.int64)\n",
    "    iters              = np.zeros_like(EbN0dB,dtype=np.int64)\n",
    " \n",
    "    # helper functions and variables to monitor the simulation status\n",
    "    start_time = time()\n",
    "    duration = time() - start_time\n",
    "\n",
    "\n",
    "    def print_time_status():\n",
    "        total_duration = time()-start_time\n",
    "        avg_iter_duration = 1000*total_duration/np.sum(iters)\n",
    "\n",
    "        print(f' # Total runtime: {total_duration:.4f} s')\n",
    "        print(f' # Avg iter duration: {avg_iter_duration:.4f}  ms')\n",
    "\n",
    "\n",
    "    def print_simulation_status():\n",
    "        print(f' # EbN0: {EbN0dB[idx]:.2f} [dB]')\n",
    "        print(f' # iter {iters[idx]}/{max_iters} ({100*iters[idx]/max_iters:3.2f}%)')\n",
    "        print(f' # sym errs: {symbol_erros_total[idx]}/{min_sym_errors} ({100*symbol_erros_total[idx]/min_sym_errors:3.2f}%)')\n",
    "        print(f' # current SER: {symbol_erros_total[idx]/(iters[idx]*num_packets):1.8f} --> target: {Pe_min:1.8f}')\n",
    "        \n",
    "    # ----------------------------------------------------------------------------------------------\n",
    "    # MAIN LOOP\n",
    "    \n",
    "    for idx, noise_samp in enumerate(N0):\n",
    "        while(symbol_erros_total[idx]<min_sym_errors and iters[idx]<max_iters):\n",
    "            iters[idx] += 1\n",
    "            \n",
    "            # Transmitter\n",
    "            b = source_bits(k=num_packets*SE)\n",
    "            s = bin2int_mapping(b, M)\n",
    "            c = symbol_to_codeword_map(s, C)\n",
    "\n",
    "            # Receiver\n",
    "            y, h           = iid_rayleigh_channel(X=c, N0=noise_samp, fading=True, awgn=True)\n",
    "            faded_codebook = h*C\n",
    "            s_est          = ML_detection(y, faded_codebook)\n",
    "\n",
    "            # Error evaluation\n",
    "            symbol_errors_current    = np.sum(s != s_est)\n",
    "            symbol_erros_total[idx] += symbol_errors_current\n",
    "\n",
    "            # Print status\n",
    "            if ( np.squeeze(iters).sum() % print_iters) == 0:\n",
    "                clear_output()\n",
    "                print_simulation_status()\n",
    "                print_time_status()\n",
    "                print()\n",
    "                \n",
    "        else: # for every point\n",
    "            SER[idx] = symbol_erros_total[idx]/(iters[idx]*num_packets)\n",
    "            print(f' # point {idx}, iter {iters[idx]}, SER {SER[idx]}')\n",
    "            \n",
    "            if SER[idx] < Pe_min:\n",
    "                break\n",
    "\n",
    "    # ----------------------------------------------------------------------------------------------\n",
    "    # end results\n",
    "    \n",
    "    print_simulation_status()\n",
    "    print_time_status()\n",
    "    \n",
    "    return SER"
   ]
  },
  {
   "cell_type": "code",
   "execution_count": null,
   "metadata": {},
   "outputs": [],
   "source": [
    "SER_LDS = su_mdm_monte_carlo_loop(EbN0dB=EbN0dB, C=LDS_Codebook, P=Psqrt**2)"
   ]
  },
  {
   "cell_type": "code",
   "execution_count": null,
   "metadata": {},
   "outputs": [],
   "source": [
    "SER_LDS"
   ]
  },
  {
   "cell_type": "markdown",
   "metadata": {},
   "source": [
    "Finally, we can plot the symbol error-rate performance."
   ]
  },
  {
   "cell_type": "code",
   "execution_count": null,
   "metadata": {},
   "outputs": [],
   "source": [
    "plt.figure(figsize=(7,7))\n",
    "\n",
    "plt.plot(EbN0dB[SER_LDS>0], SER_LDS[SER_LDS>0],'-ko')\n",
    "plt.yscale('log')\n",
    "plt.ylim([1e-6, 1e0+5e-2])\n",
    "plt.grid()"
   ]
  },
  {
   "cell_type": "markdown",
   "metadata": {},
   "source": [
    "# ML Autoencoder"
   ]
  },
  {
   "cell_type": "markdown",
   "metadata": {},
   "source": [
    "In this section, we wish to design the codebook $\\mathcal{C} \\subseteq \\mathbb{R}^{N}$, $\\left| \\mathcal{C} \\right| = M$, using machine learning framework."
   ]
  },
  {
   "cell_type": "markdown",
   "metadata": {},
   "source": [
    "### Embedding Layers"
   ]
  },
  {
   "cell_type": "markdown",
   "metadata": {},
   "source": [
    "Suppose $s\\in{\\mathbb{Z}_M}$ is a one-hot encoded symbol. <br>\n",
    "An embedding is a mapping $\\lambda:\\mathbb{Z}_M\\to R^{N}$ (sparse vector, one-hot encoded, to dense real vector)."
   ]
  },
  {
   "cell_type": "code",
   "execution_count": 27,
   "metadata": {},
   "outputs": [
    {
     "name": "stdout",
     "output_type": "stream",
     "text": [
      "(16, 8)\n"
     ]
    }
   ],
   "source": [
    "# check the current design parameters\n",
    "print((mod_size, n_dims))"
   ]
  },
  {
   "cell_type": "markdown",
   "metadata": {},
   "source": [
    "We'll  use the ``Embedding`` layer of Torch. <br>\n",
    "It converts categorical data with $M$ classes to dense vectors with $N$ dimensions. <br>"
   ]
  },
  {
   "cell_type": "code",
   "execution_count": 30,
   "metadata": {},
   "outputs": [],
   "source": [
    "# we'll use e() instead of lambda() because the latter is a reserved python word\n",
    "e = nn.Embedding(num_embeddings=mod_size, \n",
    "                 embedding_dim=n_dims)"
   ]
  },
  {
   "cell_type": "markdown",
   "metadata": {},
   "source": [
    "We can list every possible input of the embedding layer by enumerating the integers $0,\\ldots,M-1$."
   ]
  },
  {
   "cell_type": "code",
   "execution_count": 28,
   "metadata": {},
   "outputs": [
    {
     "data": {
      "text/plain": [
       "tensor([ 0,  1,  2,  3,  4,  5,  6,  7,  8,  9, 10, 11, 12, 13, 14, 15])"
      ]
     },
     "execution_count": 28,
     "metadata": {},
     "output_type": "execute_result"
    }
   ],
   "source": [
    "s = torch.arange(0,mod_size)\n",
    "s"
   ]
  },
  {
   "cell_type": "markdown",
   "metadata": {},
   "source": [
    "Thus, the codebook can be represented by the \"batch\" embedding of this list of inputs.  \n",
    "Note that PyTorch initializes the Embeddings with random values."
   ]
  },
  {
   "cell_type": "code",
   "execution_count": 32,
   "metadata": {},
   "outputs": [
    {
     "data": {
      "text/plain": [
       "(torch.Size([16, 8]),\n",
       " tensor([[ 1.9269e+00,  1.4873e+00,  9.0072e-01, -2.1055e+00,  6.7842e-01,\n",
       "          -1.2345e+00, -4.3067e-02, -1.6047e+00],\n",
       "         [-7.5214e-01,  1.6487e+00, -3.9248e-01, -1.4036e+00, -7.2788e-01,\n",
       "          -5.5943e-01, -7.6884e-01,  7.6245e-01],\n",
       "         [ 1.6423e+00, -1.5960e-01, -4.9740e-01,  4.3959e-01, -7.5813e-01,\n",
       "           1.0783e+00,  8.0080e-01,  1.6806e+00],\n",
       "         [ 1.2791e+00,  1.2964e+00,  6.1047e-01,  1.3347e+00, -2.3162e-01,\n",
       "           4.1759e-02, -2.5158e-01,  8.5986e-01],\n",
       "         [-1.3847e+00, -8.7124e-01, -2.2337e-01,  1.7174e+00,  3.1888e-01,\n",
       "          -4.2452e-01,  3.0572e-01, -7.7459e-01],\n",
       "         [-1.5576e+00,  9.9564e-01, -8.7979e-01, -6.0114e-01, -1.2742e+00,\n",
       "           2.1228e+00, -1.2347e+00, -4.8791e-01],\n",
       "         [-9.1382e-01, -6.5814e-01,  7.8024e-02,  5.2581e-01, -4.8799e-01,\n",
       "           1.1914e+00, -8.1401e-01, -7.3599e-01],\n",
       "         [-1.4032e+00,  3.6004e-02, -6.3477e-02,  6.7561e-01, -9.7807e-02,\n",
       "           1.8446e+00, -1.1845e+00,  1.3835e+00],\n",
       "         [ 1.4451e+00,  8.5641e-01,  2.2181e+00,  5.2317e-01,  3.4665e-01,\n",
       "          -1.9733e-01, -1.0546e+00,  1.2780e+00],\n",
       "         [-1.7219e-01,  5.2379e-01,  5.6622e-02,  4.2630e-01,  5.7501e-01,\n",
       "          -6.4172e-01, -2.2064e+00, -7.5080e-01],\n",
       "         [ 1.0868e-02, -3.3874e-01, -1.3407e+00, -5.8537e-01,  5.3619e-01,\n",
       "           5.2462e-01,  1.1412e+00,  5.1644e-02],\n",
       "         [ 7.4395e-01, -4.8158e-01, -1.0495e+00,  6.0390e-01, -1.7223e+00,\n",
       "          -8.2777e-01,  1.3347e+00,  4.8354e-01],\n",
       "         [-2.5095e+00,  4.8800e-01,  7.8459e-01,  2.8647e-02,  6.4076e-01,\n",
       "           5.8325e-01,  1.0669e+00, -4.5015e-01],\n",
       "         [-1.8527e-01,  7.5276e-01,  4.0476e-01,  1.7847e-01,  2.6491e-01,\n",
       "           1.2732e+00, -1.3109e-03, -3.0360e-01],\n",
       "         [-1.4570e+00, -1.0234e-01, -5.9915e-01,  4.7706e-01,  7.2618e-01,\n",
       "           9.1152e-02, -3.8907e-01,  5.2792e-01],\n",
       "         [-1.2685e-02,  2.4084e-01,  1.3254e-01,  7.6424e-01,  1.0950e+00,\n",
       "           3.3989e-01,  7.1997e-01,  4.1141e-01]], grad_fn=<EmbeddingBackward>))"
      ]
     },
     "execution_count": 32,
     "metadata": {},
     "output_type": "execute_result"
    }
   ],
   "source": [
    "E = e(s)\n",
    "E.shape, E"
   ]
  },
  {
   "cell_type": "markdown",
   "metadata": {},
   "source": [
    "### Autoencoder and Loss Function"
   ]
  },
  {
   "cell_type": "markdown",
   "metadata": {},
   "source": [
    "Different from a supervised learning problem, finding the best embedding falls better under the unsupervised framework, since there are no _correct_ labels to evaluate the output.  \n",
    "In fact, the input training data is always the same: it is __the set of all possible input symbols that need to be embedded on an output codeword__.  \n",
    "Thus, we are dealing with an autoencoder, a function that the machine needs to learn in order encode each input symbol into an output codeword."
   ]
  },
  {
   "cell_type": "markdown",
   "metadata": {},
   "source": [
    "The autoencoder needs a loss function to evaluate its learning progress.  \n",
    "There are several approches for the design of single-user multidimensional modulations.  \n",
    "Thus, any __loss function $\\mathcal{L}$__ that can produce __a proper metric over the current embedding $\\mathcal{C}$__  can be considered.  This metric will be consider by the optimizer in an iterative manner to adjust the embedding weights."
   ]
  },
  {
   "cell_type": "markdown",
   "metadata": {},
   "source": [
    "Below, I propose the use of the minimum squared euclidean distance ($d_{E, \\text{min}}^2$) for the loss function.  \n",
    "It is defined as:  \n",
    "$d_{E, \\text{min}}^2 \\left( \\mathcal{C} \\right) = \\min\\limits_{\\substack{\\mathbf{c}_i, \\mathbf{c}_j \\\\ i \\neq j}} d_E^2 \\left( \\mathbf{c}_i, \\mathbf{c}_j \\right) = \\min\\limits_{\\substack{\\mathbf{c}_i, \\mathbf{c}_j \\\\ i \\neq j}}  \\sum_{n=1}^{N} \\left| c_i(n) - c_j(n) \\right|^2 $."
   ]
  },
  {
   "cell_type": "markdown",
   "metadata": {},
   "source": [
    "Below we write the loss function $d_{E, \\text{min}}^2 \\left( \\mathcal{C} \\right)$ as the proper class to be used in PyTorch.  \n",
    "Note that $d_{E, \\text{min}}^2 \\left( \\mathcal{C} \\right)$ is a function that we wish to maximize.  \n",
    "Thus, to cope with the mimimization of a loss, we define $\\mathcal{L}\\left(\\mathcal{C}\\right) = - d_{E, \\text{min}}^2 \\left( \\mathcal{C} \\right)$"
   ]
  },
  {
   "cell_type": "code",
   "execution_count": null,
   "metadata": {},
   "outputs": [],
   "source": [
    "class AutoEncoderLoss(nn.Module):\n",
    "    def __init__(self):\n",
    "        super().__init__()\n",
    "\n",
    "    def forward(self, output_embedding): # just a function of the output, it is an unsupervised method\n",
    "        \n",
    "        mask_diagonal = torch.diag(torch.ones(mod_size)*np.inf)\n",
    "        Dist_Matrix = torch.cdist(output_embedding, output_embedding, p=2.0)**2 + mask_diagonal\n",
    "        min_dist = -Dist_Matrix.min()\n",
    "        \n",
    "        return min_dist"
   ]
  },
  {
   "cell_type": "markdown",
   "metadata": {},
   "source": [
    "### Neural Network Model"
   ]
  },
  {
   "cell_type": "markdown",
   "metadata": {},
   "source": [
    "Finally, we write the embedding model of neural network.  \n",
    "Note that, after applying the embedding, __we normalize its average codeword power__.  <br>\n",
    "This is important so that the proposed codebook does not \"_cheat_\" the metric by violating the power constraints of the system."
   ]
  },
  {
   "cell_type": "code",
   "execution_count": null,
   "metadata": {},
   "outputs": [],
   "source": [
    "from collections import OrderedDict\n",
    "\n",
    "class MyModel(nn.Module):\n",
    "    def __init__(self, mod_size, n_dims):\n",
    "        super().__init__()\n",
    "        \n",
    "        layers_dict = OrderedDict([\n",
    "              ('embedding', nn.Embedding(num_embeddings=mod_size, # Embedding Layer, the desired output, \n",
    "                                         embedding_dim=n_dims)), \n",
    "              #('normalization', nn.BatchNorm2d(mod_size)) \n",
    "        ])\n",
    "        self.layers = nn.Sequential(layers_dict) # network object  \n",
    "    \n",
    "    def forward(self,x):\n",
    "        x = self.layers(x)\n",
    "        x = x[0,:]\n",
    "        \n",
    "        Es = torch.sqrt(torch.trace(x@x.T)/x.shape[0])\n",
    "        \n",
    "        x = x/Es\n",
    "        \n",
    "        return x"
   ]
  },
  {
   "cell_type": "markdown",
   "metadata": {},
   "source": [
    "Below we set some parameters for the training.  \n",
    "The maximum number of epochs is the number of times we'll present the full dataset for the network.  \n",
    "The learning rate influences how much the weights will change proportional to the gradients of the loss function, during the backpropagation step.  "
   ]
  },
  {
   "cell_type": "markdown",
   "metadata": {},
   "source": [
    "Finally, the optimizer defines which kind of update equation is going to be used.  \n",
    "Some optimizers have other parameters than just the learning rate."
   ]
  },
  {
   "cell_type": "code",
   "execution_count": null,
   "metadata": {},
   "outputs": [],
   "source": [
    "max_epochs=10000\n",
    "print_status_iters = 500\n",
    "\n",
    "learning_rate = 5e-3\n",
    "\n",
    "Model     = MyModel(mod_size=mod_size, n_dims=n_dims)\n",
    "criterion = AutoEncoderLoss( )\n",
    "optimizer = torch.optim.Adam(Model.parameters(), lr=learning_rate)\n",
    "\n",
    "X_train = torch.arange(0,mod_size).reshape(1,-1)"
   ]
  },
  {
   "cell_type": "code",
   "execution_count": null,
   "metadata": {},
   "outputs": [],
   "source": [
    "Model"
   ]
  },
  {
   "cell_type": "markdown",
   "metadata": {},
   "source": [
    "### Training and Evaluating the Design"
   ]
  },
  {
   "cell_type": "markdown",
   "metadata": {},
   "source": [
    "Below we can visualize the status of the training."
   ]
  },
  {
   "cell_type": "code",
   "execution_count": null,
   "metadata": {},
   "outputs": [],
   "source": [
    "losses=[]\n",
    "start_time = time()\n",
    "\n",
    "for i in range(max_epochs):\n",
    "    C = Model(X_train)             # forward-prop in network\n",
    "\n",
    "    loss = criterion(C)                        # loss calculation\n",
    "    losses.append(loss)                        # save loss\n",
    "    optimizer.zero_grad()                      # reset gradients\n",
    "    loss.backward()                            # backprop\n",
    "    optimizer.step()                           # params update\n",
    "    \n",
    "    if i%print_status_iters==1: # print status\n",
    "        duration = time() - start_time \n",
    "        print(f'epoch {i:5.0f} and loss is {loss:5.6f} (runtime: {duration:10.4f} sec)')\n",
    "        \n",
    "duration = time() - start_time \n",
    "print(f'train took {duration/60} min.')"
   ]
  },
  {
   "cell_type": "markdown",
   "metadata": {},
   "source": [
    "We can then check if the power normalization worked properly,"
   ]
  },
  {
   "cell_type": "code",
   "execution_count": null,
   "metadata": {},
   "outputs": [],
   "source": [
    "torch.trace(C@C.T)/mod_size"
   ]
  },
  {
   "cell_type": "markdown",
   "metadata": {},
   "source": [
    "and also visualize the final embedding."
   ]
  },
  {
   "cell_type": "code",
   "execution_count": null,
   "metadata": {},
   "outputs": [],
   "source": [
    "C"
   ]
  },
  {
   "cell_type": "markdown",
   "metadata": {},
   "source": [
    "Finally, let's plot the loss evolution over the epochs.  \n",
    "For this set of input parameters, it can be seen that the minimum squared euclidean distance converges to value that seems to be maximum one achieved by the network's embedding design "
   ]
  },
  {
   "cell_type": "code",
   "execution_count": null,
   "metadata": {},
   "outputs": [],
   "source": [
    "plt.figure(figsize=(7,7))\n",
    "\n",
    "plt.plot(np.arange(max_epochs),-np.array(losses),'-k',lw=2.5)\n",
    "plt.grid()\n",
    "\n",
    "plt.xlabel('Epochs')\n",
    "plt.ylabel('Autoencoder Loss');"
   ]
  },
  {
   "cell_type": "markdown",
   "metadata": {},
   "source": [
    "We copy the embedding to save the designed codebook, named **\"Autoencoder Codebook\"**."
   ]
  },
  {
   "cell_type": "code",
   "execution_count": null,
   "metadata": {},
   "outputs": [],
   "source": [
    "#Codebook = Model.layers[0].weight.detach().numpy()\n",
    "Autoencoder_Codebook = C.detach().numpy().copy()\n",
    "Autoencoder_Codebook *= Psqrt\n",
    "Es = np.sqrt(np.trace(Autoencoder_Codebook@Autoencoder_Codebook.T)/Autoencoder_Codebook.shape[0])\n",
    "Es, Autoencoder_Codebook"
   ]
  },
  {
   "cell_type": "markdown",
   "metadata": {},
   "source": [
    "Now we visualize the projections of the resulting codebook."
   ]
  },
  {
   "cell_type": "code",
   "execution_count": null,
   "metadata": {},
   "outputs": [],
   "source": [
    "plot_multidimensional_modulation(Autoencoder_Codebook, figsize=(16,8))"
   ]
  },
  {
   "cell_type": "markdown",
   "metadata": {},
   "source": [
    "## Comparing and Evaluating Codebooks"
   ]
  },
  {
   "cell_type": "markdown",
   "metadata": {},
   "source": [
    "Also, let's check other figures of merit for the designed Autoencoder Codebook."
   ]
  },
  {
   "cell_type": "code",
   "execution_count": null,
   "metadata": {},
   "outputs": [],
   "source": [
    "get_codebook_figures_of_merit(X=Autoencoder_Codebook, eps=1e-2) "
   ]
  },
  {
   "cell_type": "markdown",
   "metadata": {},
   "source": [
    "Comparing with the LDS codebook's figures of merit,"
   ]
  },
  {
   "cell_type": "code",
   "execution_count": null,
   "metadata": {},
   "outputs": [],
   "source": [
    "get_codebook_figures_of_merit(X=LDS_Codebook, eps=1e-2) "
   ]
  },
  {
   "cell_type": "markdown",
   "metadata": {},
   "source": [
    "it becomes clear that the autoencoder optimized the minimum euclidean distance and outperformed the LDS design in this metric."
   ]
  },
  {
   "cell_type": "markdown",
   "metadata": {},
   "source": [
    "Just to add another parameter, let's generate a random codebook with the same parameters.  \n",
    "The projections are taken from Normal Gaussian distribution."
   ]
  },
  {
   "cell_type": "code",
   "execution_count": null,
   "metadata": {},
   "outputs": [],
   "source": [
    "Random_Codebook = np.sqrt(n_dims)*get_codebook(M=mod_size, N=n_dims, LDS=False)\n",
    "get_codebook_figures_of_merit(Random_Codebook)"
   ]
  },
  {
   "cell_type": "markdown",
   "metadata": {},
   "source": [
    "Now we run Monte Carlo simulations for the Autoencoder Codebook"
   ]
  },
  {
   "cell_type": "code",
   "execution_count": null,
   "metadata": {},
   "outputs": [],
   "source": [
    "SER_Autoencoder = su_mdm_monte_carlo_loop(EbN0dB=EbN0dB, C=Autoencoder_Codebook, P=Psqrt**2)"
   ]
  },
  {
   "cell_type": "markdown",
   "metadata": {},
   "source": [
    "and for the random codebook"
   ]
  },
  {
   "cell_type": "code",
   "execution_count": null,
   "metadata": {},
   "outputs": [],
   "source": [
    "SER_Random = su_mdm_monte_carlo_loop(EbN0dB=EbN0dB, C=Random_Codebook, P=Psqrt**2)"
   ]
  },
  {
   "cell_type": "markdown",
   "metadata": {},
   "source": [
    "in order to plot all codebook's averge SER in one figure."
   ]
  },
  {
   "cell_type": "code",
   "execution_count": null,
   "metadata": {},
   "outputs": [],
   "source": [
    "plt.figure(figsize=(7,7))\n",
    "\n",
    "plt.plot(EbN0dB[SER_LDS>0], SER_LDS[SER_LDS>0],  '-ko',\n",
    "         EbN0dB[SER_Autoencoder>0], SER_Autoencoder[SER_Autoencoder>0], '-rs',\n",
    "         EbN0dB[SER_Random>0], SER_Random[SER_Random>0],'-bd')\n",
    "plt.yscale('log')\n",
    "plt.ylim([1e-6, 1e0+5e-2])\n",
    "plt.grid()\n",
    "plt.legend(['LDS', 'Random', 'Autoencoder'])"
   ]
  },
  {
   "cell_type": "markdown",
   "metadata": {},
   "source": [
    "Clearly, the Autoencoder shows the better SER performance in Rayleigh fading channels, empirically suggesting that minimizing the proposed loss function is also a way to minimize the SER."
   ]
  }
 ],
 "metadata": {
  "kernelspec": {
   "display_name": "Python 3",
   "language": "python",
   "name": "python3"
  },
  "language_info": {
   "codemirror_mode": {
    "name": "ipython",
    "version": 3
   },
   "file_extension": ".py",
   "mimetype": "text/x-python",
   "name": "python",
   "nbconvert_exporter": "python",
   "pygments_lexer": "ipython3",
   "version": "3.7.3"
  }
 },
 "nbformat": 4,
 "nbformat_minor": 4
}
